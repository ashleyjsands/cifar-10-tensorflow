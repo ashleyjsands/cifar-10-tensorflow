{
 "metadata": {
  "colabVersion": "0.3.2",
  "colab_default_view": {},
  "colab_views": {},
  "kernelspec": {
   "display_name": "Python 2",
   "language": "python",
   "name": "python2"
  },
  "language_info": {
   "codemirror_mode": {
    "name": "ipython",
    "version": 2
   },
   "file_extension": ".py",
   "mimetype": "text/x-python",
   "name": "python",
   "nbconvert_exporter": "python",
   "pygments_lexer": "ipython2",
   "version": "2.7.10"
  },
  "name": "",
  "signature": "sha256:50d6211c5af1e44e88e6bf885ef8ff55ba70c9f000d2d9e3287c623c46125299"
 },
 "nbformat": 3,
 "nbformat_minor": 0,
 "worksheets": [
  {
   "cells": [
    {
     "cell_type": "markdown",
     "metadata": {},
     "source": [
      "Attribution: Some of this code is from tensorflow tutorials and tensor udacity examples."
     ]
    },
    {
     "cell_type": "markdown",
     "metadata": {},
     "source": [
      "Goal\n",
      "====\n",
      "**My goal is to achieve 75.86% test accuracy** or higher for the CIFAR-10 dataset. My stretch goal is 90% test accuracy.\n",
      "\n",
      "My first naive adoption of the Not-MNIST conv net achieved ~26% after 5000 steps.\n",
      "\n",
      "For my first model, halving the decay step improved **validation accuracy to 69.08% and test accuracy to 68.77%**."
     ]
    },
    {
     "cell_type": "code",
     "collapsed": false,
     "input": [
      "%autosave 60\n",
      "%load_ext autoreload\n",
      "%autoreload 2 # reload all packages\n",
      "%matplotlib inline"
     ],
     "language": "python",
     "metadata": {},
     "outputs": [
      {
       "javascript": [
        "IPython.notebook.set_autosave_interval(6000)"
       ],
       "metadata": {},
       "output_type": "display_data"
      },
      {
       "output_type": "stream",
       "stream": "stdout",
       "text": [
        "Autosaving every 6 seconds\n",
        "The autoreload extension is already loaded. To reload it, use:\n",
        "  %reload_ext autoreload\n"
       ]
      }
     ],
     "prompt_number": 5
    },
    {
     "cell_type": "code",
     "collapsed": false,
     "input": [
      "from data import get_datasets_and_labels, reformat, Datasets, image_size, num_labels, num_channels\n",
      "from visual import visualise_accuracies\n",
      "from inception_module_model import create_inception_module_model\n",
      "from train import accuracy, train_model_in_batches, eval_predictions\n",
      "\n",
      "train_dataset, train_labels, valid_dataset, valid_labels, test_dataset, test_labels = get_datasets_and_labels()\n",
      "\n",
      "print('Training set', train_dataset.shape, train_labels.shape)\n",
      "print('Validation set', valid_dataset.shape, valid_labels.shape)\n",
      "print('Test set', test_dataset.shape, test_labels.shape)\n",
      "\n",
      "print('\\nReformatting datasets')\n",
      "train_dataset, train_labels = reformat(train_dataset, train_labels, image_size, num_channels, num_labels)\n",
      "valid_dataset, valid_labels = reformat(valid_dataset, valid_labels, image_size, num_channels, num_labels)\n",
      "test_dataset, test_labels = reformat(test_dataset, test_labels, image_size, num_channels, num_labels)\n",
      "\n",
      "datasets = Datasets(train_dataset, train_labels, valid_dataset, valid_labels, test_dataset, test_labels)\n",
      "\n",
      "print('Training set', train_dataset.shape, train_labels.shape)\n",
      "print('Validation set', valid_dataset.shape, valid_labels.shape)\n",
      "print('Test set', test_dataset.shape, test_labels.shape)"
     ],
     "language": "python",
     "metadata": {},
     "outputs": [
      {
       "output_type": "stream",
       "stream": "stdout",
       "text": [
        "\n",
        "Successfully downloaded cifar-10-python.tar.gz 170498071 bytes.\n",
        "Opening CIFAR 10 dataset\n",
        "Finished opening CIFAR 10 dataset"
       ]
      },
      {
       "output_type": "stream",
       "stream": "stdout",
       "text": [
        "\n",
        "Training set"
       ]
      },
      {
       "output_type": "stream",
       "stream": "stdout",
       "text": [
        " (40000, 3072) (40000,)\n",
        "Validation set (10000, 3072) (10000,)\n",
        "Test set (10000, 3072) (10000,)\n",
        "\n",
        "Reformatting datasets\n",
        "Training set"
       ]
      },
      {
       "output_type": "stream",
       "stream": "stdout",
       "text": [
        " (40000, 32, 32, 3) (40000, 10)\n",
        "Validation set (10000, 32, 32, 3) (10000, 10)\n",
        "Test set (10000, 32, 32, 3) (10000, 10)\n"
       ]
      }
     ]
    },
    {
     "cell_type": "code",
     "collapsed": false,
     "input": [
      "# 5K steps for GPU test\n",
      "model = create_inception_module_model(learning_rate = 0.00025, eval_batch_size=100, l2_lambda = 0.025, pre_layer_feature_maps = 32, module_feature_maps = [64, 96], initialised_weights_stddev = 0.12, decay_steps = 5000, decay_rate = 0.96)\n",
      "steps_to_validation_predictions = train_model_in_batches(model, datasets, 20001, dropout_keep_prob = 0.9, load_model = False)\n",
      "correct_prediction_indexes, incorrect_prediction_indexes = visualise_accuracies(steps_to_validation_predictions, valid_labels)"
     ],
     "language": "python",
     "metadata": {},
     "outputs": [
      {
       "output_type": "stream",
       "stream": "stdout",
       "text": [
        "image_size: 32\n",
        "seven_by_seven_conv_pre_layer_output_size: 13\n",
        "three_by_three_maxpool_pre_layer_output_size: 4\n",
        "in_spatial_size: 4\n",
        "in_spatial_size: 3\n",
        "input_tensor shape:"
       ]
      },
      {
       "output_type": "stream",
       "stream": "stdout",
       "text": [
        " [32, 8, 8, 32]\n",
        "input_tensor shape: [32, 8, 8, 256]\n",
        "largest_patch_size: 8\n",
        "input_tensor shape:"
       ]
      },
      {
       "output_type": "stream",
       "stream": "stdout",
       "text": [
        " [100, 8, 8, 32]\n",
        "input_tensor shape: [100, 8, 8, 256]\n",
        "largest_patch_size: 8\n",
        "Initialized"
       ]
      },
      {
       "output_type": "stream",
       "stream": "stdout",
       "text": [
        "\n",
        "step:"
       ]
      },
      {
       "output_type": "stream",
       "stream": "stdout",
       "text": [
        " 0 minibatch loss: 106.514 minibatch accuracy: 12.5% validation accuracy: 9.8%\n",
        "step:"
       ]
      },
      {
       "output_type": "stream",
       "stream": "stdout",
       "text": [
        " 1000 minibatch loss: 81.3707 minibatch accuracy: 15.6% validation accuracy: 11.9%\n",
        "step:"
       ]
      },
      {
       "output_type": "stream",
       "stream": "stdout",
       "text": [
        " 2000 minibatch loss: 80.3847 minibatch accuracy: 18.8% validation accuracy: 15.5%\n",
        "step:"
       ]
      },
      {
       "output_type": "stream",
       "stream": "stdout",
       "text": [
        " 3000 minibatch loss: 79.2829 minibatch accuracy: 18.8% validation accuracy: 19.3%\n",
        "step:"
       ]
      },
      {
       "output_type": "stream",
       "stream": "stdout",
       "text": [
        " 4000 minibatch loss: 78.3568 minibatch accuracy: 21.9% validation accuracy: 18.8%\n",
        "step:"
       ]
      },
      {
       "output_type": "stream",
       "stream": "stdout",
       "text": [
        " 5000 minibatch loss: 77.4005 minibatch accuracy: 18.8% validation accuracy: 23.2%\n",
        "step:"
       ]
      },
      {
       "output_type": "stream",
       "stream": "stdout",
       "text": [
        " 6000 minibatch loss: 76.3941 minibatch accuracy: 34.4% validation accuracy: 24.5%\n",
        "step:"
       ]
      },
      {
       "output_type": "stream",
       "stream": "stdout",
       "text": [
        " 7000 minibatch loss: 75.5027 minibatch accuracy: 18.8% validation accuracy: 25.4%\n",
        "step:"
       ]
      },
      {
       "output_type": "stream",
       "stream": "stdout",
       "text": [
        " 8000 minibatch loss: 74.6575 minibatch accuracy: 37.5% validation accuracy: 26.1%\n",
        "step:"
       ]
      },
      {
       "output_type": "stream",
       "stream": "stdout",
       "text": [
        " 9000 minibatch loss: 73.7993 minibatch accuracy: 28.1% validation accuracy: 27.3%\n",
        "step:"
       ]
      },
      {
       "output_type": "stream",
       "stream": "stdout",
       "text": [
        " 10000 minibatch loss: 73.1065 minibatch accuracy: 12.5% validation accuracy: 28.8%\n",
        "step:"
       ]
      },
      {
       "output_type": "stream",
       "stream": "stdout",
       "text": [
        " 11000 minibatch loss: 72.0009 minibatch accuracy: 34.4% validation accuracy: 25.9%\n",
        "step:"
       ]
      }
     ]
    },
    {
     "cell_type": "code",
     "collapsed": false,
     "input": [
      "# 5K steps for GPU test\n",
      "model = create_inception_module_model(learning_rate = 0.00025, eval_batch_size=100, l2_lambda = 0.025, pre_layer_feature_maps = 32, module_feature_maps = [64, 96], initialised_weights_stddev = 0.25, decay_steps = 5000, decay_rate = 0.96)\n",
      "steps_to_validation_predictions = train_model_in_batches(model, datasets, 20001, dropout_keep_prob = 0.9, load_model = False)\n",
      "correct_prediction_indexes, incorrect_prediction_indexes = visualise_accuracies(steps_to_validation_predictions, valid_labels)"
     ],
     "language": "python",
     "metadata": {},
     "outputs": []
    },
    {
     "cell_type": "code",
     "collapsed": false,
     "input": [
      "# 5K steps for GPU test\n",
      "model = create_inception_module_model(learning_rate = 0.00025, eval_batch_size=100, l2_lambda = 0.025, pre_layer_feature_maps = 32, module_feature_maps = [64, 96], initialised_weights_stddev = 0.5, decay_steps = 5000, decay_rate = 0.96)\n",
      "steps_to_validation_predictions = train_model_in_batches(model, datasets, 20001, dropout_keep_prob = 0.9, load_model = False)\n",
      "correct_prediction_indexes, incorrect_prediction_indexes = visualise_accuracies(steps_to_validation_predictions, valid_labels)"
     ],
     "language": "python",
     "metadata": {},
     "outputs": []
    },
    {
     "cell_type": "markdown",
     "metadata": {},
     "source": [
      "For the initial hyper parameters, for 100K steps, the best validation accuracy was 40%. The learning process was quite sporadic, which indicates bad hyper parameters or net architecture. Halving the learning rate improved the validation accuracy up to 42.6%. This is a good sign that lowering the learning rate may improve performance more and lead to less sporadic performance. Increasing the feature maps from 16 to 24 improve performance up to 43.7 which is a great sign but performance was still very sporadic.\n",
      "\n",
      "Lets try quartering the initial learning rate with 24 feature maps."
     ]
    },
    {
     "cell_type": "code",
     "collapsed": false,
     "input": [
      "# Half the initial learning rate, 24 feature maps and a decreased weight initialisation value\n",
      "model = create_naive_inception_module_model(learning_rate = 0.0005, l2_lambda = 0.1, feature_maps = 24, initialised_weights_stddev = 0.01, decay_steps = 10000, decay_rate = 0.96)\n",
      "steps_to_validation_predictions, steps_to_test_predictions = train_model_in_batches(model, 100001, dropout_keep_prob = 0.9)\n",
      "correct_prediction_indexes, incorrect_prediction_indexes = visualise_accuracies(steps_to_validation_predictions, steps_to_test_predictions)\n",
      "\n",
      "# Mac Elapsed time: 7.17482998166 hours\n",
      "# Linux CPU Elapsed time: 1.37846191777 hours\n",
      "# Speed up: 5.20\n",
      "\n",
      "# Linux GPU CUDA Compute 6.1 Elapsed time: 0.3188351786798901 hours\n",
      "# Speed up from Mac: 22.503257048\n",
      "# Speed up from Linux CPU: 4.32343107"
     ],
     "language": "python",
     "metadata": {},
     "outputs": []
    },
    {
     "cell_type": "markdown",
     "metadata": {},
     "source": [
      "A weights std dev of 0.5 is better than 0.7."
     ]
    },
    {
     "cell_type": "code",
     "collapsed": false,
     "input": [
      "Best values thus far: learning_rate = 0.0005, l2_lambda = 0.1, feature_maps = 24, initialised_weights_stddev = 0.5"
     ],
     "language": "python",
     "metadata": {},
     "outputs": []
    },
    {
     "cell_type": "markdown",
     "metadata": {},
     "source": [
      "Out of all of the experiements, decreasing the l2_lambda to 0.05 was the only one that improvement the validation accuracy:\n",
      "The best validation accuracy was 45.29 at step 96000\n",
      "The best test accuracy was 44.91 at step 90000"
     ]
    },
    {
     "cell_type": "code",
     "collapsed": false,
     "input": [
      "# Halve l2_lambda again\n",
      "model = create_inception_module_model(learning_rate = 0.00025, l2_lambda = 0.025, feature_maps = 24, initialised_weights_stddev = 0.5, decay_steps = 10000, decay_rate = 0.96)\n",
      "steps_to_validation_predictions, steps_to_test_predictions = train_model(model, 100001, dropout_keep_prob = 0.9)\n",
      "correct_prediction_indexes, incorrect_prediction_indexes = visualise_accuracies(steps_to_validation_predictions, steps_to_test_predictions)\n",
      "\n",
      "\"\"\"\n",
      "Minibatch loss at step 100000 : 3.98225\n",
      "Minibatch accuracy: 43.8%\n",
      "Validation accuracy at step 100000: 45.4%\n",
      "Test accuracy at step 100000: 45.5%\n",
      "\n",
      "Elapsed time: 1.38459513499 hours\n",
      "The best validation accuracy was 45.87 at step 96000\n",
      "The best test accuracy was 45.55 at step 100000\n",
      "\"\"\""
     ],
     "language": "python",
     "metadata": {},
     "outputs": []
    },
    {
     "cell_type": "code",
     "collapsed": false,
     "input": [
      "Best result:\n",
      "The best validation accuracy was 45.87 at step 96000\n",
      "The best test accuracy was 45.55 at step 100000"
     ],
     "language": "python",
     "metadata": {},
     "outputs": []
    },
    {
     "cell_type": "markdown",
     "metadata": {},
     "source": [
      "This is the best result thus far:\n",
      "The best validation accuracy was 47.81 at step 194000\n",
      "The best test accuracy was 47.23 at step 200000"
     ]
    },
    {
     "cell_type": "markdown",
     "metadata": {},
     "source": [
      "I'm currently facing the law of diminishing returns. This naive implementation of the inception module has its limitations. It is time to implement the full module."
     ]
    },
    {
     "cell_type": "markdown",
     "metadata": {},
     "source": [
      "# 400K steps with a longer decay step of 50000\n",
      "model = create_naive_inception_module_model(learning_rate = 0.00025, l2_lambda = 0.025, feature_maps = 25, initialised_weights_stddev = 0.5, decay_steps = 50000, decay_rate = 0.96)\n",
      "steps_to_validation_predictions, steps_to_test_predictions = train_model(model, 400001, dropout_keep_prob = 0.9)\n",
      "correct_prediction_indexes, incorrect_prediction_indexes = visualise_accuracies(steps_to_validation_predictions, steps_to_test_predictions)\n",
      "\n",
      "***Best performance thus far:***\n",
      "\n",
      "Elapsed time: 6.38758515033 hours\n",
      "The best validation accuracy was 50.77 at step 377000\n",
      "The best test accuracy was 49.92 at step 370000"
     ]
    },
    {
     "cell_type": "markdown",
     "metadata": {},
     "source": [
      "The non naive inception module has a greater capacity to learn as its best performance was just before the end of the training with 400K steps and its the best record for the inception module thus far with a **validation accuracy of 54.1%**.\n",
      "\n",
      "The wise inception module had an 3.33% improvement over the naive inception module, but it also has a lot of room to grow.\n",
      "\n",
      "I should the wise inception module for longer and see how much it grows."
     ]
    },
    {
     "cell_type": "markdown",
     "metadata": {},
     "source": [
      "The best validation result was 54.1% at 400K steps. Giving the model another 400K steps, at 800K steps, the best validation performance was 57.6%. So doubling the number of steps improved performance by 3.5%. I would expect that this would abide by the law of diminishing returns and probably max out around 63-66%."
     ]
    },
    {
     "cell_type": "markdown",
     "metadata": {},
     "source": [
      "Running for another 1 Million increased validation performance from from 59.61% to 60.32%. A marginal improvement that still isn't good enough."
     ]
    },
    {
     "cell_type": "markdown",
     "metadata": {},
     "source": [
      "Changing the decay_steps slightly decreased validation set performance. This could be a negligible change."
     ]
    },
    {
     "cell_type": "markdown",
     "metadata": {},
     "source": [
      "Doubling the feature maps from 25 to 50 increased the training time form 8.8 hours to 11.39. This improved the best validation accuracy from 59.61 to 60.77 and the test accuracy from 58.2% to 59.9%. We are burded by the law of diminishing returns."
     ]
    },
    {
     "cell_type": "markdown",
     "metadata": {},
     "source": [
      "Adding a fully connected layer to the \"end\" of the network caused the network to stop learning because I added too many neurons (100). Reducing it to 32 neurons caused the network to learn again. Also, the learning rate was too high in combintation with the addition of a fully connected layer, that caused the neural network to stop learning.\n",
      "\n",
      "Adding 32 fully connected neurons reduced performance. Lets try a bit more."
     ]
    },
    {
     "cell_type": "markdown",
     "metadata": {},
     "source": [
      "The model with pre_layer_feature_maps = 250, feature_maps = 100 had an excellent validation accuracy of 63.34% at step 564K."
     ]
    },
    {
     "cell_type": "code",
     "collapsed": false,
     "input": [
      "Increasing the pre_layer_feature_maps to 500 without increasing the feature maps actually reduced performance to 59.09%."
     ],
     "language": "python",
     "metadata": {},
     "outputs": []
    },
    {
     "cell_type": "markdown",
     "metadata": {},
     "source": [
      "Increasing the decreasing the pre layer to inception module feature maps ratio improved performance, but not enough. So far the best ratio is 2.5."
     ]
    },
    {
     "cell_type": "markdown",
     "metadata": {},
     "source": [
      "Having a  pre layer to inception module feature maps ratio of 1 quickly caused the model to stop learning and revert. This has never happened before. The ratio of feature maps between layers is very important."
     ]
    },
    {
     "cell_type": "code",
     "collapsed": false,
     "input": [
      "The learning was very sporadic and jumpy. Could be a sign that the learning rate is too high.\n",
      "\n",
      "Best inception mode perfomance thus far: The best validation accuracy was 65.06 at step 809000."
     ],
     "language": "python",
     "metadata": {},
     "outputs": []
    },
    {
     "cell_type": "code",
     "collapsed": false,
     "input": [
      "Either because there were too many feature maps, or because the pre layer to module feature maps ratio was too small, this model did not learn."
     ],
     "language": "python",
     "metadata": {},
     "outputs": []
    },
    {
     "cell_type": "markdown",
     "metadata": {},
     "source": [
      "Let's half the learning rate of the last successful model, and increase its run way to 1.5M steps."
     ]
    },
    {
     "cell_type": "code",
     "collapsed": false,
     "input": [
      "Halving the learning rate did not work."
     ],
     "language": "python",
     "metadata": {},
     "outputs": []
    },
    {
     "cell_type": "markdown",
     "metadata": {},
     "source": [
      "Success! This model has a validation accuracy of 66.26%! This is roughly equal to the performance of the previous model."
     ]
    },
    {
     "cell_type": "code",
     "collapsed": false,
     "input": [
      "# Let's increase the number of pre_layer_feature_maps and increase steps to 1.5M.\n",
      "model = create_inception_module_model(learning_rate = 0.0001, l2_lambda = 0.025, pre_layer_feature_maps = 1500, feature_maps = 750, initialised_weights_stddev = 0.25, decay_steps = 50000, decay_rate = 0.96)\n",
      "steps_to_validation_predictions, steps_to_test_predictions = train_model_in_batches(model, 1500001, dropout_keep_prob = 0.9, load_model = False)\n",
      "correct_prediction_indexes, incorrect_prediction_indexes = visualise_accuracies(steps_to_validation_predictions, steps_to_test_predictions)\n",
      "\n",
      "\"\"\"\n",
      "step: 927000 minibatch loss: nan minibatch accuracy: 71.9% validation accuracy: 65.7%\n",
      "step: 928000 minibatch loss: nan minibatch accuracy: 71.9% validation accuracy: 64.8%\n",
      "step: 929000 minibatch loss: nan minibatch accuracy: 78.1% validation accuracy: 64.4%\n",
      "step: 930000 minibatch loss: nan minibatch accuracy: 78.1% validation accuracy: 64.6%\n",
      "step: 931000 minibatch loss: nan minibatch accuracy: 65.6% validation accuracy: 64.5%\n",
      "step: 932000 minibatch loss: nan minibatch accuracy: 68.8% validation accuracy: 64.4%\n",
      "step: 933000 minibatch loss: nan minibatch accuracy: 78.1% validation accuracy: 64.8%\n",
      "step: 934000 minibatch loss: nan minibatch accuracy: 75.0% validation accuracy: 65.5%\n",
      "step: 935000 minibatch loss: nan minibatch accuracy: 84.4% validation accuracy: 63.9%\n",
      "step: 936000 minibatch loss: nan minibatch accuracy: 65.6% validation accuracy: 65.9%\n",
      "step: 937000 minibatch loss: nan minibatch accuracy: 78.1% validation accuracy: 64.5%\n",
      "step: 938000 minibatch loss: nan minibatch accuracy: 75.0% validation accuracy: 64.4%\n",
      "step: 939000 minibatch loss: nan minibatch accuracy: 68.8% validation accuracy: 65.8%\n",
      "\"\"\""
     ],
     "language": "python",
     "metadata": {},
     "outputs": []
    },
    {
     "cell_type": "markdown",
     "metadata": {},
     "source": [
      "At step 760000, there was a **record breaking validation accuracy of 67.2%**. Increasing the prelayer feature maps does help."
     ]
    },
    {
     "cell_type": "code",
     "collapsed": false,
     "input": [
      "# Let's halve the initialised_weights_stddev with less steps of 750K.\n",
      "model = create_inception_module_model(learning_rate = 0.0001, l2_lambda = 0.025, pre_layer_feature_maps = 250, feature_maps = 125, initialised_weights_stddev = 0.125, decay_steps = 50000, decay_rate = 0.96)\n",
      "steps_to_validation_predictions, steps_to_test_predictions = train_model_in_batches(model,datasets, 50001, dropout_keep_prob = 0.9, load_model = False)\n",
      "correct_prediction_indexes, incorrect_prediction_indexes = visualise_accuracies(steps_to_validation_predictions, steps_to_test_predictions)\n",
      "\n",
      "\"\"\"\n",
      "\n",
      "\"\"\""
     ],
     "language": "python",
     "metadata": {},
     "outputs": [
      {
       "output_type": "stream",
       "stream": "stdout",
       "text": [
        "Initialized\n",
        "step:"
       ]
      },
      {
       "output_type": "stream",
       "stream": "stdout",
       "text": [
        " 0 minibatch loss: 135.474 minibatch accuracy: 12.5% validation accuracy: 9.5%\n",
        "step:"
       ]
      },
      {
       "output_type": "stream",
       "stream": "stdout",
       "text": [
        " 1000 minibatch loss: 121.127 minibatch accuracy: 25.0% validation accuracy: 16.6%\n",
        "step:"
       ]
      },
      {
       "output_type": "stream",
       "stream": "stdout",
       "text": [
        " 2000 minibatch loss: 120.533 minibatch accuracy: 18.8% validation accuracy: 23.0%\n",
        "step:"
       ]
      },
      {
       "output_type": "stream",
       "stream": "stdout",
       "text": [
        " 3000 minibatch loss: 119.757 minibatch accuracy: 28.1% validation accuracy: 24.6%\n",
        "step:"
       ]
      },
      {
       "output_type": "stream",
       "stream": "stdout",
       "text": [
        " 4000 minibatch loss: 119.245 minibatch accuracy: 31.2% validation accuracy: 25.1%\n",
        "step:"
       ]
      },
      {
       "output_type": "stream",
       "stream": "stdout",
       "text": [
        " 5000 minibatch loss: 118.711 minibatch accuracy: 18.8% validation accuracy: 25.4%\n",
        "step:"
       ]
      },
      {
       "output_type": "stream",
       "stream": "stdout",
       "text": [
        " 6000 minibatch loss: 118.065 minibatch accuracy: 15.6% validation accuracy: 26.0%\n",
        "step:"
       ]
      },
      {
       "output_type": "stream",
       "stream": "stdout",
       "text": [
        " 7000 minibatch loss: 117.406 minibatch accuracy: 25.0% validation accuracy: 27.3%\n",
        "step:"
       ]
      },
      {
       "output_type": "stream",
       "stream": "stdout",
       "text": [
        " 8000 minibatch loss: 116.899 minibatch accuracy: 15.6% validation accuracy: 27.9%\n",
        "step:"
       ]
      },
      {
       "output_type": "stream",
       "stream": "stdout",
       "text": [
        " 9000 minibatch loss: 116.338 minibatch accuracy: 31.2% validation accuracy: 27.3%\n",
        "step:"
       ]
      },
      {
       "output_type": "stream",
       "stream": "stdout",
       "text": [
        " 10000 minibatch loss: 115.725 minibatch accuracy: 25.0% validation accuracy: 28.1%\n",
        "step:"
       ]
      },
      {
       "output_type": "stream",
       "stream": "stdout",
       "text": [
        " 11000 minibatch loss: 115.012 minibatch accuracy: 43.8% validation accuracy: 28.2%\n",
        "step:"
       ]
      },
      {
       "output_type": "stream",
       "stream": "stdout",
       "text": [
        " 12000 minibatch loss: 114.49 minibatch accuracy: 37.5% validation accuracy: 29.6%\n",
        "step:"
       ]
      },
      {
       "output_type": "stream",
       "stream": "stdout",
       "text": [
        " 13000 minibatch loss: 113.905 minibatch accuracy: 28.1% validation accuracy: 29.8%\n",
        "step:"
       ]
      },
      {
       "output_type": "stream",
       "stream": "stdout",
       "text": [
        " 14000 minibatch loss: 113.561 minibatch accuracy: 21.9% validation accuracy: 30.4%\n",
        "step:"
       ]
      },
      {
       "output_type": "stream",
       "stream": "stdout",
       "text": [
        " 15000 minibatch loss: 112.894 minibatch accuracy: 21.9% validation accuracy: 30.5%\n",
        "step:"
       ]
      },
      {
       "output_type": "stream",
       "stream": "stdout",
       "text": [
        " 16000 minibatch loss: 112.399 minibatch accuracy: 18.8% validation accuracy: 31.1%\n",
        "step:"
       ]
      },
      {
       "output_type": "stream",
       "stream": "stdout",
       "text": [
        " 17000 minibatch loss: 111.665 minibatch accuracy: 34.4% validation accuracy: 32.2%\n",
        "step:"
       ]
      },
      {
       "output_type": "stream",
       "stream": "stdout",
       "text": [
        " 18000 minibatch loss: 111.168 minibatch accuracy: 31.2% validation accuracy: 32.1%\n",
        "step:"
       ]
      },
      {
       "output_type": "stream",
       "stream": "stdout",
       "text": [
        " 19000 minibatch loss: 110.802 minibatch accuracy: 31.2% validation accuracy: 32.6%\n",
        "step:"
       ]
      },
      {
       "output_type": "stream",
       "stream": "stdout",
       "text": [
        " 20000 minibatch loss: 110.143 minibatch accuracy: 34.4% validation accuracy: 32.9%\n",
        "step:"
       ]
      },
      {
       "output_type": "stream",
       "stream": "stdout",
       "text": [
        " 21000 minibatch loss: 109.594 minibatch accuracy: 40.6% validation accuracy: 32.4%\n"
       ]
      },
      {
       "ename": "KeyboardInterrupt",
       "evalue": "",
       "output_type": "pyerr",
       "traceback": [
        "\u001b[1;31m---------------------------------------------------------------------------\u001b[0m\n\u001b[1;31mKeyboardInterrupt\u001b[0m                         Traceback (most recent call last)",
        "\u001b[1;32m<ipython-input-12-5f7fd8f155e4>\u001b[0m in \u001b[0;36m<module>\u001b[1;34m()\u001b[0m\n\u001b[0;32m      1\u001b[0m \u001b[1;31m# Let's halve the initialised_weights_stddev with less steps of 750K.\u001b[0m\u001b[1;33m\u001b[0m\u001b[1;33m\u001b[0m\u001b[0m\n\u001b[0;32m      2\u001b[0m \u001b[0mmodel\u001b[0m \u001b[1;33m=\u001b[0m \u001b[0mcreate_inception_module_model\u001b[0m\u001b[1;33m(\u001b[0m\u001b[0mlearning_rate\u001b[0m \u001b[1;33m=\u001b[0m \u001b[1;36m0.0001\u001b[0m\u001b[1;33m,\u001b[0m \u001b[0ml2_lambda\u001b[0m \u001b[1;33m=\u001b[0m \u001b[1;36m0.025\u001b[0m\u001b[1;33m,\u001b[0m \u001b[0mpre_layer_feature_maps\u001b[0m \u001b[1;33m=\u001b[0m \u001b[1;36m250\u001b[0m\u001b[1;33m,\u001b[0m \u001b[0mfeature_maps\u001b[0m \u001b[1;33m=\u001b[0m \u001b[1;36m125\u001b[0m\u001b[1;33m,\u001b[0m \u001b[0minitialised_weights_stddev\u001b[0m \u001b[1;33m=\u001b[0m \u001b[1;36m0.125\u001b[0m\u001b[1;33m,\u001b[0m \u001b[0mdecay_steps\u001b[0m \u001b[1;33m=\u001b[0m \u001b[1;36m50000\u001b[0m\u001b[1;33m,\u001b[0m \u001b[0mdecay_rate\u001b[0m \u001b[1;33m=\u001b[0m \u001b[1;36m0.96\u001b[0m\u001b[1;33m)\u001b[0m\u001b[1;33m\u001b[0m\u001b[0m\n\u001b[1;32m----> 3\u001b[1;33m \u001b[0msteps_to_validation_predictions\u001b[0m\u001b[1;33m,\u001b[0m \u001b[0msteps_to_test_predictions\u001b[0m \u001b[1;33m=\u001b[0m \u001b[0mtrain_model_in_batches\u001b[0m\u001b[1;33m(\u001b[0m\u001b[0mmodel\u001b[0m\u001b[1;33m,\u001b[0m\u001b[0mdatasets\u001b[0m\u001b[1;33m,\u001b[0m \u001b[1;36m50001\u001b[0m\u001b[1;33m,\u001b[0m \u001b[0mdropout_keep_prob\u001b[0m \u001b[1;33m=\u001b[0m \u001b[1;36m0.9\u001b[0m\u001b[1;33m,\u001b[0m \u001b[0mload_model\u001b[0m \u001b[1;33m=\u001b[0m \u001b[1;32mFalse\u001b[0m\u001b[1;33m)\u001b[0m\u001b[1;33m\u001b[0m\u001b[0m\n\u001b[0m\u001b[0;32m      4\u001b[0m \u001b[0mcorrect_prediction_indexes\u001b[0m\u001b[1;33m,\u001b[0m \u001b[0mincorrect_prediction_indexes\u001b[0m \u001b[1;33m=\u001b[0m \u001b[0mvisualise_accuracies\u001b[0m\u001b[1;33m(\u001b[0m\u001b[0msteps_to_validation_predictions\u001b[0m\u001b[1;33m,\u001b[0m \u001b[0msteps_to_test_predictions\u001b[0m\u001b[1;33m)\u001b[0m\u001b[1;33m\u001b[0m\u001b[0m\n\u001b[0;32m      5\u001b[0m \u001b[1;33m\u001b[0m\u001b[0m\n",
        "\u001b[1;32m/home/ashley/code/cifar-10-tensorflow/train.py\u001b[0m in \u001b[0;36mtrain_model_in_batches\u001b[1;34m(model, datasets, steps, dropout_keep_prob, load_model)\u001b[0m\n\u001b[0;32m     37\u001b[0m             }\n\u001b[0;32m     38\u001b[0m             _, l, predictions = session.run(\n\u001b[1;32m---> 39\u001b[1;33m                 [model.optimizer, model.loss, model.train_prediction], feed_dict=feed_dict)\n\u001b[0m\u001b[0;32m     40\u001b[0m             \u001b[1;32mif\u001b[0m \u001b[1;33m(\u001b[0m\u001b[0mstep\u001b[0m \u001b[1;33m%\u001b[0m \u001b[1;36m1000\u001b[0m \u001b[1;33m==\u001b[0m \u001b[1;36m0\u001b[0m\u001b[1;33m)\u001b[0m\u001b[1;33m:\u001b[0m\u001b[1;33m\u001b[0m\u001b[0m\n\u001b[0;32m     41\u001b[0m                 \u001b[0mtraining_accuracy\u001b[0m \u001b[1;33m=\u001b[0m \u001b[0maccuracy\u001b[0m\u001b[1;33m(\u001b[0m\u001b[0mpredictions\u001b[0m\u001b[1;33m,\u001b[0m \u001b[0mbatch_labels\u001b[0m\u001b[1;33m)\u001b[0m\u001b[1;33m\u001b[0m\u001b[0m\n",
        "\u001b[1;32m/home/ashley/.virtualenvs/tensorflow_py3_gpu_0.10/lib/python3.5/site-packages/tensorflow/python/client/session.py\u001b[0m in \u001b[0;36mrun\u001b[1;34m(self, fetches, feed_dict, options, run_metadata)\u001b[0m\n\u001b[0;32m    708\u001b[0m     \u001b[1;32mtry\u001b[0m\u001b[1;33m:\u001b[0m\u001b[1;33m\u001b[0m\u001b[0m\n\u001b[0;32m    709\u001b[0m       result = self._run(None, fetches, feed_dict, options_ptr,\n\u001b[1;32m--> 710\u001b[1;33m                          run_metadata_ptr)\n\u001b[0m\u001b[0;32m    711\u001b[0m       \u001b[1;32mif\u001b[0m \u001b[0mrun_metadata\u001b[0m\u001b[1;33m:\u001b[0m\u001b[1;33m\u001b[0m\u001b[0m\n\u001b[0;32m    712\u001b[0m         \u001b[0mproto_data\u001b[0m \u001b[1;33m=\u001b[0m \u001b[0mtf_session\u001b[0m\u001b[1;33m.\u001b[0m\u001b[0mTF_GetBuffer\u001b[0m\u001b[1;33m(\u001b[0m\u001b[0mrun_metadata_ptr\u001b[0m\u001b[1;33m)\u001b[0m\u001b[1;33m\u001b[0m\u001b[0m\n",
        "\u001b[1;32m/home/ashley/.virtualenvs/tensorflow_py3_gpu_0.10/lib/python3.5/site-packages/tensorflow/python/client/session.py\u001b[0m in \u001b[0;36m_run\u001b[1;34m(self, handle, fetches, feed_dict, options, run_metadata)\u001b[0m\n\u001b[0;32m    906\u001b[0m     \u001b[1;32mif\u001b[0m \u001b[0mfinal_fetches\u001b[0m \u001b[1;32mor\u001b[0m \u001b[0mfinal_targets\u001b[0m\u001b[1;33m:\u001b[0m\u001b[1;33m\u001b[0m\u001b[0m\n\u001b[0;32m    907\u001b[0m       results = self._do_run(handle, final_targets, final_fetches,\n\u001b[1;32m--> 908\u001b[1;33m                              feed_dict_string, options, run_metadata)\n\u001b[0m\u001b[0;32m    909\u001b[0m     \u001b[1;32melse\u001b[0m\u001b[1;33m:\u001b[0m\u001b[1;33m\u001b[0m\u001b[0m\n\u001b[0;32m    910\u001b[0m       \u001b[0mresults\u001b[0m \u001b[1;33m=\u001b[0m \u001b[1;33m[\u001b[0m\u001b[1;33m]\u001b[0m\u001b[1;33m\u001b[0m\u001b[0m\n",
        "\u001b[1;32m/home/ashley/.virtualenvs/tensorflow_py3_gpu_0.10/lib/python3.5/site-packages/tensorflow/python/client/session.py\u001b[0m in \u001b[0;36m_do_run\u001b[1;34m(self, handle, target_list, fetch_list, feed_dict, options, run_metadata)\u001b[0m\n\u001b[0;32m    956\u001b[0m     \u001b[1;32mif\u001b[0m \u001b[0mhandle\u001b[0m \u001b[1;32mis\u001b[0m \u001b[1;32mNone\u001b[0m\u001b[1;33m:\u001b[0m\u001b[1;33m\u001b[0m\u001b[0m\n\u001b[0;32m    957\u001b[0m       return self._do_call(_run_fn, self._session, feed_dict, fetch_list,\n\u001b[1;32m--> 958\u001b[1;33m                            target_list, options, run_metadata)\n\u001b[0m\u001b[0;32m    959\u001b[0m     \u001b[1;32melse\u001b[0m\u001b[1;33m:\u001b[0m\u001b[1;33m\u001b[0m\u001b[0m\n\u001b[0;32m    960\u001b[0m       return self._do_call(_prun_fn, self._session, handle, feed_dict,\n",
        "\u001b[1;32m/home/ashley/.virtualenvs/tensorflow_py3_gpu_0.10/lib/python3.5/site-packages/tensorflow/python/client/session.py\u001b[0m in \u001b[0;36m_do_call\u001b[1;34m(self, fn, *args)\u001b[0m\n\u001b[0;32m    963\u001b[0m   \u001b[1;32mdef\u001b[0m \u001b[0m_do_call\u001b[0m\u001b[1;33m(\u001b[0m\u001b[0mself\u001b[0m\u001b[1;33m,\u001b[0m \u001b[0mfn\u001b[0m\u001b[1;33m,\u001b[0m \u001b[1;33m*\u001b[0m\u001b[0margs\u001b[0m\u001b[1;33m)\u001b[0m\u001b[1;33m:\u001b[0m\u001b[1;33m\u001b[0m\u001b[0m\n\u001b[0;32m    964\u001b[0m     \u001b[1;32mtry\u001b[0m\u001b[1;33m:\u001b[0m\u001b[1;33m\u001b[0m\u001b[0m\n\u001b[1;32m--> 965\u001b[1;33m       \u001b[1;32mreturn\u001b[0m \u001b[0mfn\u001b[0m\u001b[1;33m(\u001b[0m\u001b[1;33m*\u001b[0m\u001b[0margs\u001b[0m\u001b[1;33m)\u001b[0m\u001b[1;33m\u001b[0m\u001b[0m\n\u001b[0m\u001b[0;32m    966\u001b[0m     \u001b[1;32mexcept\u001b[0m \u001b[0merrors\u001b[0m\u001b[1;33m.\u001b[0m\u001b[0mOpError\u001b[0m \u001b[1;32mas\u001b[0m \u001b[0me\u001b[0m\u001b[1;33m:\u001b[0m\u001b[1;33m\u001b[0m\u001b[0m\n\u001b[0;32m    967\u001b[0m       \u001b[0mmessage\u001b[0m \u001b[1;33m=\u001b[0m \u001b[0mcompat\u001b[0m\u001b[1;33m.\u001b[0m\u001b[0mas_text\u001b[0m\u001b[1;33m(\u001b[0m\u001b[0me\u001b[0m\u001b[1;33m.\u001b[0m\u001b[0mmessage\u001b[0m\u001b[1;33m)\u001b[0m\u001b[1;33m\u001b[0m\u001b[0m\n",
        "\u001b[1;32m/home/ashley/.virtualenvs/tensorflow_py3_gpu_0.10/lib/python3.5/site-packages/tensorflow/python/client/session.py\u001b[0m in \u001b[0;36m_run_fn\u001b[1;34m(session, feed_dict, fetch_list, target_list, options, run_metadata)\u001b[0m\n\u001b[0;32m    945\u001b[0m         return tf_session.TF_Run(session, options,\n\u001b[0;32m    946\u001b[0m                                  \u001b[0mfeed_dict\u001b[0m\u001b[1;33m,\u001b[0m \u001b[0mfetch_list\u001b[0m\u001b[1;33m,\u001b[0m \u001b[0mtarget_list\u001b[0m\u001b[1;33m,\u001b[0m\u001b[1;33m\u001b[0m\u001b[0m\n\u001b[1;32m--> 947\u001b[1;33m                                  status, run_metadata)\n\u001b[0m\u001b[0;32m    948\u001b[0m \u001b[1;33m\u001b[0m\u001b[0m\n\u001b[0;32m    949\u001b[0m     \u001b[1;32mdef\u001b[0m \u001b[0m_prun_fn\u001b[0m\u001b[1;33m(\u001b[0m\u001b[0msession\u001b[0m\u001b[1;33m,\u001b[0m \u001b[0mhandle\u001b[0m\u001b[1;33m,\u001b[0m \u001b[0mfeed_dict\u001b[0m\u001b[1;33m,\u001b[0m \u001b[0mfetch_list\u001b[0m\u001b[1;33m)\u001b[0m\u001b[1;33m:\u001b[0m\u001b[1;33m\u001b[0m\u001b[0m\n",
        "\u001b[1;31mKeyboardInterrupt\u001b[0m: "
       ]
      }
     ],
     "prompt_number": 12
    },
    {
     "cell_type": "code",
     "collapsed": false,
     "input": [
      "# Let's halve the initialised_weights_stddev with steps of 800K.\n",
      "model = create_inception_module_model(learning_rate = 0.0001, l2_lambda = 0.025, pre_layer_feature_maps = 1000, feature_maps = 500, initialised_weights_stddev = 0.06, decay_steps = 50000, decay_rate = 0.96)\n",
      "steps_to_validation_predictions = train_model_in_batches(model,datasets, 800001, dropout_keep_prob = 0.9, load_model = False)\n",
      "correct_prediction_indexes, incorrect_prediction_indexes = visualise_accuracies(steps_to_validation_predictions, valid_labels)\n",
      "\n",
      "\"\"\"\n",
      "step: 763000 minibatch loss: 26.2389 minibatch accuracy: 59.4% validation accuracy: 60.0%\n",
      "\n",
      "Test accuracy at step 800000: 59.0%\n",
      "\n",
      "Elapsed time: 11.627138237754505 hours\n",
      "\"\"\""
     ],
     "language": "python",
     "metadata": {},
     "outputs": []
    },
    {
     "cell_type": "code",
     "collapsed": false,
     "input": [
      "# Let's decrease the initialised_weights_stddev again with 800K steps\n",
      "model = create_inception_module_model(learning_rate = 0.0001, l2_lambda = 0.025, pre_layer_feature_maps = 1000, feature_maps = 500, initialised_weights_stddev = 0.045, decay_steps = 50000, decay_rate = 0.96)\n",
      "steps_to_validation_predictions = train_model_in_batches(model,datasets, 800001, dropout_keep_prob = 0.9, load_model = False)\n",
      "correct_prediction_indexes, incorrect_prediction_indexes = visualise_accuracies(steps_to_validation_predictions, valid_labels)\n",
      "\n",
      "\"\"\"\n",
      "\n",
      "\"\"\""
     ],
     "language": "python",
     "metadata": {},
     "outputs": [
      {
       "output_type": "stream",
       "stream": "stdout",
       "text": [
        "Initialized\n",
        "step:"
       ]
      },
      {
       "output_type": "stream",
       "stream": "stdout",
       "text": [
        " 0 minibatch loss: 242.34 minibatch accuracy: 3.1% validation accuracy: 10.3%\n",
        "step:"
       ]
      },
      {
       "output_type": "stream",
       "stream": "stdout",
       "text": [
        " 1000 minibatch loss: 239.247 minibatch accuracy: 18.8% validation accuracy: 19.4%\n",
        "step:"
       ]
      },
      {
       "output_type": "stream",
       "stream": "stdout",
       "text": [
        " 2000 minibatch loss: 237.986 minibatch accuracy: 25.0% validation accuracy: 24.3%\n",
        "step:"
       ]
      },
      {
       "output_type": "stream",
       "stream": "stdout",
       "text": [
        " 3000 minibatch loss: 236.684 minibatch accuracy: 37.5% validation accuracy: 24.9%\n",
        "step:"
       ]
      },
      {
       "output_type": "stream",
       "stream": "stdout",
       "text": [
        " 4000 minibatch loss: 235.565 minibatch accuracy: 18.8% validation accuracy: 26.0%\n",
        "step:"
       ]
      },
      {
       "output_type": "stream",
       "stream": "stdout",
       "text": [
        " 5000 minibatch loss: 234.422 minibatch accuracy: 28.1% validation accuracy: 27.8%\n",
        "step:"
       ]
      },
      {
       "output_type": "stream",
       "stream": "stdout",
       "text": [
        " 6000 minibatch loss: 233.231 minibatch accuracy: 12.5% validation accuracy: 27.1%\n",
        "step:"
       ]
      },
      {
       "output_type": "stream",
       "stream": "stdout",
       "text": [
        " 7000 minibatch loss: 232.02 minibatch accuracy: 28.1% validation accuracy: 28.4%\n",
        "step:"
       ]
      },
      {
       "output_type": "stream",
       "stream": "stdout",
       "text": [
        " 8000 minibatch loss: 230.897 minibatch accuracy: 28.1% validation accuracy: 28.4%\n",
        "step:"
       ]
      },
      {
       "output_type": "stream",
       "stream": "stdout",
       "text": [
        " 9000 minibatch loss: 229.782 minibatch accuracy: 28.1% validation accuracy: 28.4%\n",
        "step:"
       ]
      },
      {
       "output_type": "stream",
       "stream": "stdout",
       "text": [
        " 10000 minibatch loss: 228.607 minibatch accuracy: 37.5% validation accuracy: 30.5%\n",
        "step:"
       ]
      },
      {
       "output_type": "stream",
       "stream": "stdout",
       "text": [
        " 11000 minibatch loss: 227.397 minibatch accuracy: 34.4% validation accuracy: 29.4%\n",
        "step:"
       ]
      },
      {
       "output_type": "stream",
       "stream": "stdout",
       "text": [
        " 12000 minibatch loss: 226.264 minibatch accuracy: 43.8% validation accuracy: 31.9%\n",
        "step:"
       ]
      },
      {
       "output_type": "stream",
       "stream": "stdout",
       "text": [
        " 13000 minibatch loss: 225.132 minibatch accuracy: 31.2% validation accuracy: 31.0%\n",
        "step:"
       ]
      },
      {
       "output_type": "stream",
       "stream": "stdout",
       "text": [
        " 14000 minibatch loss: 224.239 minibatch accuracy: 18.8% validation accuracy: 32.0%\n",
        "step:"
       ]
      },
      {
       "output_type": "stream",
       "stream": "stdout",
       "text": [
        " 15000 minibatch loss: 223.082 minibatch accuracy: 28.1% validation accuracy: 34.2%\n",
        "step:"
       ]
      },
      {
       "output_type": "stream",
       "stream": "stdout",
       "text": [
        " 16000 minibatch loss: 222.014 minibatch accuracy: 18.8% validation accuracy: 32.9%\n",
        "step:"
       ]
      },
      {
       "output_type": "stream",
       "stream": "stdout",
       "text": [
        " 17000 minibatch loss: 220.64 minibatch accuracy: 53.1% validation accuracy: 34.8%\n",
        "step:"
       ]
      },
      {
       "output_type": "stream",
       "stream": "stdout",
       "text": [
        " 18000 minibatch loss: 219.698 minibatch accuracy: 37.5% validation accuracy: 34.0%\n",
        "step:"
       ]
      },
      {
       "output_type": "stream",
       "stream": "stdout",
       "text": [
        " 19000 minibatch loss: 218.78 minibatch accuracy: 34.4% validation accuracy: 35.2%\n",
        "step:"
       ]
      },
      {
       "output_type": "stream",
       "stream": "stdout",
       "text": [
        " 20000 minibatch loss: 217.534 minibatch accuracy: 28.1% validation accuracy: 35.8%\n",
        "step:"
       ]
      },
      {
       "output_type": "stream",
       "stream": "stdout",
       "text": [
        " 21000 minibatch loss: 216.547 minibatch accuracy: 34.4% validation accuracy: 34.6%\n",
        "step:"
       ]
      },
      {
       "output_type": "stream",
       "stream": "stdout",
       "text": [
        " 22000 minibatch loss: 215.439 minibatch accuracy: 28.1% validation accuracy: 36.9%\n",
        "step:"
       ]
      },
      {
       "output_type": "stream",
       "stream": "stdout",
       "text": [
        " 23000 minibatch loss: 214.508 minibatch accuracy: 21.9% validation accuracy: 37.1%\n",
        "step:"
       ]
      },
      {
       "output_type": "stream",
       "stream": "stdout",
       "text": [
        " 24000 minibatch loss: 213.294 minibatch accuracy: 37.5% validation accuracy: 36.5%\n",
        "step:"
       ]
      },
      {
       "output_type": "stream",
       "stream": "stdout",
       "text": [
        " 25000 minibatch loss: 212.374 minibatch accuracy: 15.6% validation accuracy: 37.0%\n",
        "step:"
       ]
      },
      {
       "output_type": "stream",
       "stream": "stdout",
       "text": [
        " 26000 minibatch loss: 211.495 minibatch accuracy: 25.0% validation accuracy: 36.1%\n",
        "step:"
       ]
      },
      {
       "output_type": "stream",
       "stream": "stdout",
       "text": [
        " 27000 minibatch loss: 210.09 minibatch accuracy: 53.1% validation accuracy: 38.1%\n",
        "step:"
       ]
      },
      {
       "output_type": "stream",
       "stream": "stdout",
       "text": [
        " 28000 minibatch loss: 209.219 minibatch accuracy: 25.0% validation accuracy: 38.3%\n",
        "step:"
       ]
      },
      {
       "output_type": "stream",
       "stream": "stdout",
       "text": [
        " 29000 minibatch loss: 208.325 minibatch accuracy: 28.1% validation accuracy: 38.3%\n",
        "step:"
       ]
      },
      {
       "output_type": "stream",
       "stream": "stdout",
       "text": [
        " 30000 minibatch loss: 207.224 minibatch accuracy: 34.4% validation accuracy: 39.0%\n",
        "step:"
       ]
      },
      {
       "output_type": "stream",
       "stream": "stdout",
       "text": [
        " 31000 minibatch loss: 206.173 minibatch accuracy: 50.0% validation accuracy: 38.2%\n",
        "step:"
       ]
      },
      {
       "output_type": "stream",
       "stream": "stdout",
       "text": [
        " 32000 minibatch loss: 205.385 minibatch accuracy: 28.1% validation accuracy: 39.3%\n",
        "step:"
       ]
      },
      {
       "output_type": "stream",
       "stream": "stdout",
       "text": [
        " 33000 minibatch loss: 204.089 minibatch accuracy: 53.1% validation accuracy: 39.2%\n",
        "step:"
       ]
      },
      {
       "output_type": "stream",
       "stream": "stdout",
       "text": [
        " 34000 minibatch loss: 203.247 minibatch accuracy: 34.4% validation accuracy: 39.9%\n",
        "step:"
       ]
      },
      {
       "output_type": "stream",
       "stream": "stdout",
       "text": [
        " 35000 minibatch loss: 202.024 minibatch accuracy: 40.6% validation accuracy: 40.1%\n",
        "step:"
       ]
      },
      {
       "output_type": "stream",
       "stream": "stdout",
       "text": [
        " 36000 minibatch loss: 201.454 minibatch accuracy: 34.4% validation accuracy: 38.3%\n",
        "step:"
       ]
      },
      {
       "output_type": "stream",
       "stream": "stdout",
       "text": [
        " 37000 minibatch loss: 200.139 minibatch accuracy: 37.5% validation accuracy: 40.3%\n",
        "step:"
       ]
      },
      {
       "output_type": "stream",
       "stream": "stdout",
       "text": [
        " 38000 minibatch loss: 199.293 minibatch accuracy: 34.4% validation accuracy: 39.8%\n",
        "step:"
       ]
      },
      {
       "output_type": "stream",
       "stream": "stdout",
       "text": [
        " 39000 minibatch loss: 198.602 minibatch accuracy: 25.0% validation accuracy: 40.4%\n",
        "step:"
       ]
      },
      {
       "output_type": "stream",
       "stream": "stdout",
       "text": [
        " 40000 minibatch loss: 197.438 minibatch accuracy: 28.1% validation accuracy: 40.5%\n",
        "step:"
       ]
      },
      {
       "output_type": "stream",
       "stream": "stdout",
       "text": [
        " 41000 minibatch loss: 196.639 minibatch accuracy: 28.1% validation accuracy: 39.9%\n",
        "step:"
       ]
      },
      {
       "output_type": "stream",
       "stream": "stdout",
       "text": [
        " 42000 minibatch loss: 195.522 minibatch accuracy: 25.0% validation accuracy: 41.1%\n",
        "step:"
       ]
      },
      {
       "output_type": "stream",
       "stream": "stdout",
       "text": [
        " 43000 minibatch loss: 194.646 minibatch accuracy: 43.8% validation accuracy: 40.7%\n",
        "step:"
       ]
      },
      {
       "output_type": "stream",
       "stream": "stdout",
       "text": [
        " 44000 minibatch loss: 193.708 minibatch accuracy: 43.8% validation accuracy: 41.2%\n",
        "step:"
       ]
      },
      {
       "output_type": "stream",
       "stream": "stdout",
       "text": [
        " 45000 minibatch loss: 192.634 minibatch accuracy: 46.9% validation accuracy: 41.7%\n",
        "step:"
       ]
      },
      {
       "output_type": "stream",
       "stream": "stdout",
       "text": [
        " 46000 minibatch loss: 191.614 minibatch accuracy: 50.0% validation accuracy: 41.0%\n",
        "step:"
       ]
      },
      {
       "output_type": "stream",
       "stream": "stdout",
       "text": [
        " 47000 minibatch loss: 190.738 minibatch accuracy: 50.0% validation accuracy: 41.7%\n",
        "step:"
       ]
      },
      {
       "output_type": "stream",
       "stream": "stdout",
       "text": [
        " 48000 minibatch loss: 189.898 minibatch accuracy: 40.6% validation accuracy: 41.9%\n",
        "step:"
       ]
      },
      {
       "output_type": "stream",
       "stream": "stdout",
       "text": [
        " 49000 minibatch loss: 188.799 minibatch accuracy: 59.4% validation accuracy: 42.1%\n",
        "step:"
       ]
      },
      {
       "output_type": "stream",
       "stream": "stdout",
       "text": [
        " 50000 minibatch loss: 188.282 minibatch accuracy: 37.5% validation accuracy: 42.1%\n",
        "step:"
       ]
      },
      {
       "output_type": "stream",
       "stream": "stdout",
       "text": [
        " 51000 minibatch loss: 187.395 minibatch accuracy: 25.0% validation accuracy: 41.7%\n",
        "step:"
       ]
      },
      {
       "output_type": "stream",
       "stream": "stdout",
       "text": [
        " 52000 minibatch loss: 186.391 minibatch accuracy: 53.1% validation accuracy: 42.5%\n",
        "step:"
       ]
      },
      {
       "output_type": "stream",
       "stream": "stdout",
       "text": [
        " 53000 minibatch loss: 185.402 minibatch accuracy: 40.6% validation accuracy: 42.8%\n",
        "step:"
       ]
      },
      {
       "output_type": "stream",
       "stream": "stdout",
       "text": [
        " 54000 minibatch loss: 184.582 minibatch accuracy: 40.6% validation accuracy: 42.6%\n",
        "step:"
       ]
      },
      {
       "output_type": "stream",
       "stream": "stdout",
       "text": [
        " 55000 minibatch loss: 183.416 minibatch accuracy: 56.2% validation accuracy: 42.7%\n",
        "step:"
       ]
      },
      {
       "output_type": "stream",
       "stream": "stdout",
       "text": [
        " 56000 minibatch loss: 182.802 minibatch accuracy: 40.6% validation accuracy: 42.9%\n",
        "step:"
       ]
      },
      {
       "output_type": "stream",
       "stream": "stdout",
       "text": [
        " 57000 minibatch loss: 182.106 minibatch accuracy: 37.5% validation accuracy: 43.6%\n",
        "step:"
       ]
      },
      {
       "output_type": "stream",
       "stream": "stdout",
       "text": [
        " 58000 minibatch loss: 181.219 minibatch accuracy: 43.8% validation accuracy: 43.8%\n",
        "step:"
       ]
      },
      {
       "output_type": "stream",
       "stream": "stdout",
       "text": [
        " 59000 minibatch loss: 180.142 minibatch accuracy: 50.0% validation accuracy: 43.9%\n",
        "step:"
       ]
      },
      {
       "output_type": "stream",
       "stream": "stdout",
       "text": [
        " 60000 minibatch loss: 179.357 minibatch accuracy: 46.9% validation accuracy: 44.2%\n",
        "step:"
       ]
      },
      {
       "output_type": "stream",
       "stream": "stdout",
       "text": [
        " 61000 minibatch loss: 178.558 minibatch accuracy: 40.6% validation accuracy: 43.9%\n",
        "step:"
       ]
      },
      {
       "output_type": "stream",
       "stream": "stdout",
       "text": [
        " 62000 minibatch loss: 177.568 minibatch accuracy: 56.2% validation accuracy: 44.2%\n",
        "step:"
       ]
      },
      {
       "output_type": "stream",
       "stream": "stdout",
       "text": [
        " 63000 minibatch loss: 176.825 minibatch accuracy: 46.9% validation accuracy: 44.4%\n",
        "step:"
       ]
      },
      {
       "output_type": "stream",
       "stream": "stdout",
       "text": [
        " 64000 minibatch loss: 175.958 minibatch accuracy: 40.6% validation accuracy: 44.5%\n",
        "step:"
       ]
      },
      {
       "output_type": "stream",
       "stream": "stdout",
       "text": [
        " 65000 minibatch loss: 175.221 minibatch accuracy: 34.4% validation accuracy: 44.6%\n",
        "step:"
       ]
      },
      {
       "output_type": "stream",
       "stream": "stdout",
       "text": [
        " 66000 minibatch loss: 174.625 minibatch accuracy: 37.5% validation accuracy: 44.5%\n",
        "step:"
       ]
      },
      {
       "output_type": "stream",
       "stream": "stdout",
       "text": [
        " 67000 minibatch loss: 173.693 minibatch accuracy: 46.9% validation accuracy: 44.6%\n",
        "step:"
       ]
      },
      {
       "output_type": "stream",
       "stream": "stdout",
       "text": [
        " 68000 minibatch loss: 172.627 minibatch accuracy: 50.0% validation accuracy: 44.9%\n",
        "step:"
       ]
      },
      {
       "output_type": "stream",
       "stream": "stdout",
       "text": [
        " 69000 minibatch loss: 171.946 minibatch accuracy: 43.8% validation accuracy: 45.1%\n",
        "step:"
       ]
      },
      {
       "output_type": "stream",
       "stream": "stdout",
       "text": [
        " 70000 minibatch loss: 171.179 minibatch accuracy: 40.6% validation accuracy: 45.2%\n",
        "step:"
       ]
      },
      {
       "output_type": "stream",
       "stream": "stdout",
       "text": [
        " 71000 minibatch loss: 170.296 minibatch accuracy: 37.5% validation accuracy: 44.8%\n",
        "step:"
       ]
      },
      {
       "output_type": "stream",
       "stream": "stdout",
       "text": [
        " 72000 minibatch loss: 169.555 minibatch accuracy: 50.0% validation accuracy: 45.2%\n",
        "step:"
       ]
      },
      {
       "output_type": "stream",
       "stream": "stdout",
       "text": [
        " 73000 minibatch loss: 168.698 minibatch accuracy: 59.4% validation accuracy: 45.5%\n",
        "step:"
       ]
      },
      {
       "output_type": "stream",
       "stream": "stdout",
       "text": [
        " 74000 minibatch loss: 167.948 minibatch accuracy: 40.6% validation accuracy: 45.3%\n",
        "step:"
       ]
      },
      {
       "output_type": "stream",
       "stream": "stdout",
       "text": [
        " 75000 minibatch loss: 167.392 minibatch accuracy: 37.5% validation accuracy: 46.0%\n",
        "step:"
       ]
      },
      {
       "output_type": "stream",
       "stream": "stdout",
       "text": [
        " 76000 minibatch loss: 166.329 minibatch accuracy: 37.5% validation accuracy: 46.0%\n",
        "step:"
       ]
      },
      {
       "output_type": "stream",
       "stream": "stdout",
       "text": [
        " 77000 minibatch loss: 165.451 minibatch accuracy: 50.0% validation accuracy: 45.9%\n",
        "step:"
       ]
      },
      {
       "output_type": "stream",
       "stream": "stdout",
       "text": [
        " 78000 minibatch loss: 164.885 minibatch accuracy: 46.9% validation accuracy: 46.0%\n",
        "step:"
       ]
      },
      {
       "output_type": "stream",
       "stream": "stdout",
       "text": [
        " 79000 minibatch loss: 164.161 minibatch accuracy: 53.1% validation accuracy: 45.2%\n",
        "step:"
       ]
      },
      {
       "output_type": "stream",
       "stream": "stdout",
       "text": [
        " 80000 minibatch loss: 163.223 minibatch accuracy: 50.0% validation accuracy: 46.4%\n",
        "step:"
       ]
      },
      {
       "output_type": "stream",
       "stream": "stdout",
       "text": [
        " 81000 minibatch loss: 162.637 minibatch accuracy: 50.0% validation accuracy: 46.5%\n",
        "step:"
       ]
      },
      {
       "output_type": "stream",
       "stream": "stdout",
       "text": [
        " 82000 minibatch loss: 161.672 minibatch accuracy: 50.0% validation accuracy: 46.5%\n",
        "step:"
       ]
      },
      {
       "output_type": "stream",
       "stream": "stdout",
       "text": [
        " 83000 minibatch loss: 161.23 minibatch accuracy: 43.8% validation accuracy: 46.7%\n",
        "step:"
       ]
      },
      {
       "output_type": "stream",
       "stream": "stdout",
       "text": [
        " 84000 minibatch loss: 160.572 minibatch accuracy: 43.8% validation accuracy: 45.1%\n",
        "step:"
       ]
      },
      {
       "output_type": "stream",
       "stream": "stdout",
       "text": [
        " 85000 minibatch loss: 159.431 minibatch accuracy: 62.5% validation accuracy: 47.0%\n",
        "step:"
       ]
      },
      {
       "output_type": "stream",
       "stream": "stdout",
       "text": [
        " 86000 minibatch loss: 158.764 minibatch accuracy: 53.1% validation accuracy: 46.9%\n",
        "step:"
       ]
      },
      {
       "output_type": "stream",
       "stream": "stdout",
       "text": [
        " 87000 minibatch loss: 157.867 minibatch accuracy: 59.4% validation accuracy: 47.0%\n",
        "step:"
       ]
      },
      {
       "output_type": "stream",
       "stream": "stdout",
       "text": [
        " 88000 minibatch loss: 157.267 minibatch accuracy: 56.2% validation accuracy: 47.1%\n",
        "step:"
       ]
      },
      {
       "output_type": "stream",
       "stream": "stdout",
       "text": [
        " 89000 minibatch loss: 156.755 minibatch accuracy: 50.0% validation accuracy: 45.8%\n",
        "step:"
       ]
      },
      {
       "output_type": "stream",
       "stream": "stdout",
       "text": [
        " 90000 minibatch loss: 155.989 minibatch accuracy: 59.4% validation accuracy: 47.4%\n",
        "step:"
       ]
      },
      {
       "output_type": "stream",
       "stream": "stdout",
       "text": [
        " 91000 minibatch loss: 155.279 minibatch accuracy: 40.6% validation accuracy: 47.6%\n",
        "step:"
       ]
      },
      {
       "output_type": "stream",
       "stream": "stdout",
       "text": [
        " 92000 minibatch loss: 154.368 minibatch accuracy: 50.0% validation accuracy: 47.5%\n",
        "step:"
       ]
      },
      {
       "output_type": "stream",
       "stream": "stdout",
       "text": [
        " 93000 minibatch loss: 153.975 minibatch accuracy: 40.6% validation accuracy: 47.8%\n",
        "step:"
       ]
      },
      {
       "output_type": "stream",
       "stream": "stdout",
       "text": [
        " 94000 minibatch loss: 153.163 minibatch accuracy: 40.6% validation accuracy: 47.0%\n",
        "step:"
       ]
      },
      {
       "output_type": "stream",
       "stream": "stdout",
       "text": [
        " 95000 minibatch loss: 152.484 minibatch accuracy: 56.2% validation accuracy: 47.9%\n",
        "step:"
       ]
      },
      {
       "output_type": "stream",
       "stream": "stdout",
       "text": [
        " 96000 minibatch loss: 151.885 minibatch accuracy: 46.9% validation accuracy: 48.1%\n",
        "step:"
       ]
      },
      {
       "output_type": "stream",
       "stream": "stdout",
       "text": [
        " 97000 minibatch loss: 150.982 minibatch accuracy: 43.8% validation accuracy: 47.7%\n",
        "step:"
       ]
      },
      {
       "output_type": "stream",
       "stream": "stdout",
       "text": [
        " 98000 minibatch loss: 150.216 minibatch accuracy: 62.5% validation accuracy: 48.2%\n",
        "step:"
       ]
      },
      {
       "output_type": "stream",
       "stream": "stdout",
       "text": [
        " 99000 minibatch loss: 149.64 minibatch accuracy: 43.8% validation accuracy: 47.6%\n",
        "step:"
       ]
      },
      {
       "output_type": "stream",
       "stream": "stdout",
       "text": [
        " 100000 minibatch loss: 148.867 minibatch accuracy: 53.1% validation accuracy: 48.3%\n",
        "step:"
       ]
      },
      {
       "output_type": "stream",
       "stream": "stdout",
       "text": [
        " 101000 minibatch loss: 148.212 minibatch accuracy: 50.0% validation accuracy: 48.4%\n",
        "step:"
       ]
      },
      {
       "output_type": "stream",
       "stream": "stdout",
       "text": [
        " 102000 minibatch loss: 147.52 minibatch accuracy: 50.0% validation accuracy: 48.0%\n",
        "step:"
       ]
      },
      {
       "output_type": "stream",
       "stream": "stdout",
       "text": [
        " 103000 minibatch loss: 147.005 minibatch accuracy: 50.0% validation accuracy: 48.0%\n",
        "step:"
       ]
      },
      {
       "output_type": "stream",
       "stream": "stdout",
       "text": [
        " 104000 minibatch loss: 146.22 minibatch accuracy: 53.1% validation accuracy: 48.2%\n",
        "step:"
       ]
      },
      {
       "output_type": "stream",
       "stream": "stdout",
       "text": [
        " 105000 minibatch loss: 145.452 minibatch accuracy: 65.6% validation accuracy: 48.5%\n",
        "step:"
       ]
      },
      {
       "output_type": "stream",
       "stream": "stdout",
       "text": [
        " 106000 minibatch loss: 145.0 minibatch accuracy: 50.0% validation accuracy: 48.6%\n",
        "step:"
       ]
      },
      {
       "output_type": "stream",
       "stream": "stdout",
       "text": [
        " 107000 minibatch loss: 144.186 minibatch accuracy: 46.9% validation accuracy: 48.9%\n",
        "step:"
       ]
      },
      {
       "output_type": "stream",
       "stream": "stdout",
       "text": [
        " 108000 minibatch loss: 143.601 minibatch accuracy: 53.1% validation accuracy: 48.7%\n",
        "step:"
       ]
      },
      {
       "output_type": "stream",
       "stream": "stdout",
       "text": [
        " 109000 minibatch loss: 142.886 minibatch accuracy: 59.4% validation accuracy: 48.7%\n",
        "step:"
       ]
      },
      {
       "output_type": "stream",
       "stream": "stdout",
       "text": [
        " 110000 minibatch loss: 142.22 minibatch accuracy: 56.2% validation accuracy: 48.8%\n",
        "step:"
       ]
      },
      {
       "output_type": "stream",
       "stream": "stdout",
       "text": [
        " 111000 minibatch loss: 141.596 minibatch accuracy: 37.5% validation accuracy: 48.9%\n",
        "step:"
       ]
      },
      {
       "output_type": "stream",
       "stream": "stdout",
       "text": [
        " 112000 minibatch loss: 140.944 minibatch accuracy: 56.2% validation accuracy: 48.0%\n",
        "step:"
       ]
      },
      {
       "output_type": "stream",
       "stream": "stdout",
       "text": [
        " 113000 minibatch loss: 140.449 minibatch accuracy: 40.6% validation accuracy: 49.2%\n",
        "step:"
       ]
      },
      {
       "output_type": "stream",
       "stream": "stdout",
       "text": [
        " 114000 minibatch loss: 139.874 minibatch accuracy: 40.6% validation accuracy: 48.7%\n",
        "step:"
       ]
      },
      {
       "output_type": "stream",
       "stream": "stdout",
       "text": [
        " 115000 minibatch loss: 139.225 minibatch accuracy: 46.9% validation accuracy: 49.2%\n",
        "step:"
       ]
      },
      {
       "output_type": "stream",
       "stream": "stdout",
       "text": [
        " 116000 minibatch loss: 138.751 minibatch accuracy: 37.5% validation accuracy: 49.1%\n",
        "step:"
       ]
      },
      {
       "output_type": "stream",
       "stream": "stdout",
       "text": [
        " 117000 minibatch loss: 138.01 minibatch accuracy: 46.9% validation accuracy: 48.5%\n",
        "step:"
       ]
      },
      {
       "output_type": "stream",
       "stream": "stdout",
       "text": [
        " 118000 minibatch loss: 136.999 minibatch accuracy: 59.4% validation accuracy: 48.7%\n",
        "step:"
       ]
      },
      {
       "output_type": "stream",
       "stream": "stdout",
       "text": [
        " 119000 minibatch loss: 136.615 minibatch accuracy: 50.0% validation accuracy: 49.0%\n",
        "step:"
       ]
      },
      {
       "output_type": "stream",
       "stream": "stdout",
       "text": [
        " 120000 minibatch loss: 136.118 minibatch accuracy: 53.1% validation accuracy: 49.4%\n",
        "step:"
       ]
      },
      {
       "output_type": "stream",
       "stream": "stdout",
       "text": [
        " 121000 minibatch loss: 135.406 minibatch accuracy: 50.0% validation accuracy: 49.4%\n",
        "step:"
       ]
      },
      {
       "output_type": "stream",
       "stream": "stdout",
       "text": [
        " 122000 minibatch loss: 134.78 minibatch accuracy: 43.8% validation accuracy: 48.9%\n",
        "step:"
       ]
      },
      {
       "output_type": "stream",
       "stream": "stdout",
       "text": [
        " 123000 minibatch loss: 134.413 minibatch accuracy: 53.1% validation accuracy: 49.1%\n",
        "step:"
       ]
      },
      {
       "output_type": "stream",
       "stream": "stdout",
       "text": [
        " 124000 minibatch loss: 133.665 minibatch accuracy: 43.8% validation accuracy: 49.7%\n",
        "step:"
       ]
      },
      {
       "output_type": "stream",
       "stream": "stdout",
       "text": [
        " 125000 minibatch loss: 133.005 minibatch accuracy: 46.9% validation accuracy: 50.0%\n",
        "step:"
       ]
      },
      {
       "output_type": "stream",
       "stream": "stdout",
       "text": [
        " 126000 minibatch loss: 132.391 minibatch accuracy: 56.2% validation accuracy: 49.9%\n",
        "step:"
       ]
      },
      {
       "output_type": "stream",
       "stream": "stdout",
       "text": [
        " 127000 minibatch loss: 131.87 minibatch accuracy: 46.9% validation accuracy: 49.5%\n",
        "step:"
       ]
      },
      {
       "output_type": "stream",
       "stream": "stdout",
       "text": [
        " 128000 minibatch loss: 131.393 minibatch accuracy: 40.6% validation accuracy: 49.6%\n",
        "step:"
       ]
      },
      {
       "output_type": "stream",
       "stream": "stdout",
       "text": [
        " 129000 minibatch loss: 130.531 minibatch accuracy: 50.0% validation accuracy: 50.3%\n",
        "step:"
       ]
      },
      {
       "output_type": "stream",
       "stream": "stdout",
       "text": [
        " 130000 minibatch loss: 130.197 minibatch accuracy: 28.1% validation accuracy: 49.9%\n",
        "step:"
       ]
      },
      {
       "output_type": "stream",
       "stream": "stdout",
       "text": [
        " 131000 minibatch loss: 129.484 minibatch accuracy: 40.6% validation accuracy: 49.9%\n",
        "step:"
       ]
      },
      {
       "output_type": "stream",
       "stream": "stdout",
       "text": [
        " 132000 minibatch loss: 128.689 minibatch accuracy: 65.6% validation accuracy: 49.9%\n",
        "step:"
       ]
      },
      {
       "output_type": "stream",
       "stream": "stdout",
       "text": [
        " 133000 minibatch loss: 128.195 minibatch accuracy: 65.6% validation accuracy: 49.8%\n",
        "step:"
       ]
      },
      {
       "output_type": "stream",
       "stream": "stdout",
       "text": [
        " 134000 minibatch loss: 127.991 minibatch accuracy: 40.6% validation accuracy: 50.2%\n",
        "step:"
       ]
      },
      {
       "output_type": "stream",
       "stream": "stdout",
       "text": [
        " 135000 minibatch loss: 127.273 minibatch accuracy: 43.8% validation accuracy: 50.2%\n",
        "step:"
       ]
      },
      {
       "output_type": "stream",
       "stream": "stdout",
       "text": [
        " 136000 minibatch loss: 126.675 minibatch accuracy: 46.9% validation accuracy: 50.6%\n",
        "step:"
       ]
      },
      {
       "output_type": "stream",
       "stream": "stdout",
       "text": [
        " 137000 minibatch loss: 126.194 minibatch accuracy: 46.9% validation accuracy: 50.4%\n",
        "step:"
       ]
      },
      {
       "output_type": "stream",
       "stream": "stdout",
       "text": [
        " 138000 minibatch loss: 125.74 minibatch accuracy: 40.6% validation accuracy: 50.6%\n",
        "step:"
       ]
      },
      {
       "output_type": "stream",
       "stream": "stdout",
       "text": [
        " 139000 minibatch loss: 124.865 minibatch accuracy: 46.9% validation accuracy: 50.7%\n",
        "step:"
       ]
      },
      {
       "output_type": "stream",
       "stream": "stdout",
       "text": [
        " 140000 minibatch loss: 124.38 minibatch accuracy: 56.2% validation accuracy: 50.4%\n",
        "step:"
       ]
      },
      {
       "output_type": "stream",
       "stream": "stdout",
       "text": [
        " 141000 minibatch loss: 124.032 minibatch accuracy: 40.6% validation accuracy: 50.8%\n",
        "step:"
       ]
      },
      {
       "output_type": "stream",
       "stream": "stdout",
       "text": [
        " 142000 minibatch loss: 123.332 minibatch accuracy: 62.5% validation accuracy: 50.4%\n",
        "step:"
       ]
      },
      {
       "output_type": "stream",
       "stream": "stdout",
       "text": [
        " 143000 minibatch loss: 122.815 minibatch accuracy: 53.1% validation accuracy: 50.6%\n",
        "step:"
       ]
      },
      {
       "output_type": "stream",
       "stream": "stdout",
       "text": [
        " 144000 minibatch loss: 122.211 minibatch accuracy: 56.2% validation accuracy: 50.8%\n",
        "step:"
       ]
      },
      {
       "output_type": "stream",
       "stream": "stdout",
       "text": [
        " 145000 minibatch loss: 121.584 minibatch accuracy: 65.6% validation accuracy: 50.3%\n",
        "step:"
       ]
      },
      {
       "output_type": "stream",
       "stream": "stdout",
       "text": [
        " 146000 minibatch loss: 121.158 minibatch accuracy: 62.5% validation accuracy: 50.8%\n",
        "step:"
       ]
      },
      {
       "output_type": "stream",
       "stream": "stdout",
       "text": [
        " 147000 minibatch loss: 120.653 minibatch accuracy: 62.5% validation accuracy: 50.9%\n",
        "step:"
       ]
      },
      {
       "output_type": "stream",
       "stream": "stdout",
       "text": [
        " 148000 minibatch loss: 120.179 minibatch accuracy: 46.9% validation accuracy: 51.0%\n",
        "step:"
       ]
      },
      {
       "output_type": "stream",
       "stream": "stdout",
       "text": [
        " 149000 minibatch loss: 119.487 minibatch accuracy: 62.5% validation accuracy: 50.8%\n",
        "step:"
       ]
      },
      {
       "output_type": "stream",
       "stream": "stdout",
       "text": [
        " 150000 minibatch loss: 118.86 minibatch accuracy: 65.6% validation accuracy: 50.7%\n",
        "step:"
       ]
      },
      {
       "output_type": "stream",
       "stream": "stdout",
       "text": [
        " 151000 minibatch loss: 118.669 minibatch accuracy: 50.0% validation accuracy: 50.5%\n",
        "step:"
       ]
      },
      {
       "output_type": "stream",
       "stream": "stdout",
       "text": [
        " 152000 minibatch loss: 118.316 minibatch accuracy: 40.6% validation accuracy: 50.6%\n",
        "step:"
       ]
      },
      {
       "output_type": "stream",
       "stream": "stdout",
       "text": [
        " 153000 minibatch loss: 117.543 minibatch accuracy: 50.0% validation accuracy: 51.1%\n",
        "step:"
       ]
      },
      {
       "output_type": "stream",
       "stream": "stdout",
       "text": [
        " 154000 minibatch loss: 116.984 minibatch accuracy: 50.0% validation accuracy: 51.2%\n",
        "step:"
       ]
      },
      {
       "output_type": "stream",
       "stream": "stdout",
       "text": [
        " 155000 minibatch loss: 116.426 minibatch accuracy: 59.4% validation accuracy: 50.2%\n",
        "step:"
       ]
      },
      {
       "output_type": "stream",
       "stream": "stdout",
       "text": [
        " 156000 minibatch loss: 116.041 minibatch accuracy: 50.0% validation accuracy: 51.3%\n",
        "step:"
       ]
      },
      {
       "output_type": "stream",
       "stream": "stdout",
       "text": [
        " 157000 minibatch loss: 115.479 minibatch accuracy: 50.0% validation accuracy: 50.6%\n",
        "step:"
       ]
      },
      {
       "output_type": "stream",
       "stream": "stdout",
       "text": [
        " 158000 minibatch loss: 114.858 minibatch accuracy: 50.0% validation accuracy: 51.5%\n",
        "step:"
       ]
      },
      {
       "output_type": "stream",
       "stream": "stdout",
       "text": [
        " 159000 minibatch loss: 114.471 minibatch accuracy: 46.9% validation accuracy: 51.0%\n",
        "step:"
       ]
      },
      {
       "output_type": "stream",
       "stream": "stdout",
       "text": [
        " 160000 minibatch loss: 114.067 minibatch accuracy: 50.0% validation accuracy: 51.2%\n",
        "step:"
       ]
      },
      {
       "output_type": "stream",
       "stream": "stdout",
       "text": [
        " 161000 minibatch loss: 113.676 minibatch accuracy: 37.5% validation accuracy: 51.5%\n",
        "step:"
       ]
      },
      {
       "output_type": "stream",
       "stream": "stdout",
       "text": [
        " 162000 minibatch loss: 113.067 minibatch accuracy: 56.2% validation accuracy: 51.4%\n",
        "step:"
       ]
      },
      {
       "output_type": "stream",
       "stream": "stdout",
       "text": [
        " 163000 minibatch loss: 112.523 minibatch accuracy: 59.4% validation accuracy: 52.0%\n",
        "step:"
       ]
      },
      {
       "output_type": "stream",
       "stream": "stdout",
       "text": [
        " 164000 minibatch loss: 112.028 minibatch accuracy: 50.0% validation accuracy: 51.3%\n",
        "step:"
       ]
      },
      {
       "output_type": "stream",
       "stream": "stdout",
       "text": [
        " 165000 minibatch loss: 111.565 minibatch accuracy: 50.0% validation accuracy: 51.3%\n",
        "step:"
       ]
      },
      {
       "output_type": "stream",
       "stream": "stdout",
       "text": [
        " 166000 minibatch loss: 111.314 minibatch accuracy: 53.1% validation accuracy: 51.5%\n",
        "step:"
       ]
      },
      {
       "output_type": "stream",
       "stream": "stdout",
       "text": [
        " 167000 minibatch loss: 110.432 minibatch accuracy: 68.8% validation accuracy: 51.1%\n",
        "step:"
       ]
      },
      {
       "output_type": "stream",
       "stream": "stdout",
       "text": [
        " 168000 minibatch loss: 110.345 minibatch accuracy: 50.0% validation accuracy: 51.9%\n",
        "step:"
       ]
      },
      {
       "output_type": "stream",
       "stream": "stdout",
       "text": [
        " 169000 minibatch loss: 109.743 minibatch accuracy: 53.1% validation accuracy: 51.6%\n",
        "step:"
       ]
      },
      {
       "output_type": "stream",
       "stream": "stdout",
       "text": [
        " 170000 minibatch loss: 109.192 minibatch accuracy: 56.2% validation accuracy: 51.8%\n",
        "step:"
       ]
      },
      {
       "output_type": "stream",
       "stream": "stdout",
       "text": [
        " 171000 minibatch loss: 108.604 minibatch accuracy: 75.0% validation accuracy: 51.4%\n",
        "step:"
       ]
      },
      {
       "output_type": "stream",
       "stream": "stdout",
       "text": [
        " 172000 minibatch loss: 108.11 minibatch accuracy: 62.5% validation accuracy: 51.6%\n",
        "step:"
       ]
      },
      {
       "output_type": "stream",
       "stream": "stdout",
       "text": [
        " 173000 minibatch loss: 107.772 minibatch accuracy: 53.1% validation accuracy: 51.8%\n",
        "step:"
       ]
      },
      {
       "output_type": "stream",
       "stream": "stdout",
       "text": [
        " 174000 minibatch loss: 107.238 minibatch accuracy: 53.1% validation accuracy: 52.1%\n",
        "step:"
       ]
      },
      {
       "output_type": "stream",
       "stream": "stdout",
       "text": [
        " 175000 minibatch loss: 107.2 minibatch accuracy: 37.5% validation accuracy: 52.2%\n",
        "step:"
       ]
      },
      {
       "output_type": "stream",
       "stream": "stdout",
       "text": [
        " 176000 minibatch loss: 106.344 minibatch accuracy: 56.2% validation accuracy: 51.3%\n",
        "step:"
       ]
      },
      {
       "output_type": "stream",
       "stream": "stdout",
       "text": [
        " 177000 minibatch loss: 106.004 minibatch accuracy: 56.2% validation accuracy: 52.1%\n",
        "step:"
       ]
      },
      {
       "output_type": "stream",
       "stream": "stdout",
       "text": [
        " 178000 minibatch loss: 105.689 minibatch accuracy: 46.9% validation accuracy: 51.7%\n",
        "step:"
       ]
      },
      {
       "output_type": "stream",
       "stream": "stdout",
       "text": [
        " 179000 minibatch loss: 105.156 minibatch accuracy: 46.9% validation accuracy: 52.1%\n",
        "step:"
       ]
      },
      {
       "output_type": "stream",
       "stream": "stdout",
       "text": [
        " 180000 minibatch loss: 104.472 minibatch accuracy: 50.0% validation accuracy: 51.9%\n",
        "step:"
       ]
      },
      {
       "output_type": "stream",
       "stream": "stdout",
       "text": [
        " 181000 minibatch loss: 104.165 minibatch accuracy: 56.2% validation accuracy: 51.3%\n",
        "step:"
       ]
      },
      {
       "output_type": "stream",
       "stream": "stdout",
       "text": [
        " 182000 minibatch loss: 103.795 minibatch accuracy: 53.1% validation accuracy: 52.2%\n",
        "step:"
       ]
      },
      {
       "output_type": "stream",
       "stream": "stdout",
       "text": [
        " 183000 minibatch loss: 103.445 minibatch accuracy: 56.2% validation accuracy: 52.0%\n",
        "step:"
       ]
      },
      {
       "output_type": "stream",
       "stream": "stdout",
       "text": [
        " 184000 minibatch loss: 102.833 minibatch accuracy: 59.4% validation accuracy: 52.0%\n",
        "step:"
       ]
      },
      {
       "output_type": "stream",
       "stream": "stdout",
       "text": [
        " 185000 minibatch loss: 102.407 minibatch accuracy: 50.0% validation accuracy: 52.4%\n",
        "step:"
       ]
      },
      {
       "output_type": "stream",
       "stream": "stdout",
       "text": [
        " 186000 minibatch loss: 101.964 minibatch accuracy: 53.1% validation accuracy: 52.0%\n",
        "step:"
       ]
      },
      {
       "output_type": "stream",
       "stream": "stdout",
       "text": [
        " 187000 minibatch loss: 101.623 minibatch accuracy: 46.9% validation accuracy: 52.2%\n",
        "step:"
       ]
      },
      {
       "output_type": "stream",
       "stream": "stdout",
       "text": [
        " 188000 minibatch loss: 101.041 minibatch accuracy: 53.1% validation accuracy: 52.0%\n",
        "step:"
       ]
      },
      {
       "output_type": "stream",
       "stream": "stdout",
       "text": [
        " 189000 minibatch loss: 100.554 minibatch accuracy: 62.5% validation accuracy: 52.6%\n",
        "step:"
       ]
      },
      {
       "output_type": "stream",
       "stream": "stdout",
       "text": [
        " 190000 minibatch loss: 100.418 minibatch accuracy: 53.1% validation accuracy: 52.6%\n",
        "step:"
       ]
      },
      {
       "output_type": "stream",
       "stream": "stdout",
       "text": [
        " 191000 minibatch loss: 99.9988 minibatch accuracy: 46.9% validation accuracy: 52.1%\n",
        "step:"
       ]
      },
      {
       "output_type": "stream",
       "stream": "stdout",
       "text": [
        " 192000 minibatch loss: 99.2614 minibatch accuracy: 65.6% validation accuracy: 52.1%\n",
        "step:"
       ]
      },
      {
       "output_type": "stream",
       "stream": "stdout",
       "text": [
        " 193000 minibatch loss: 98.9508 minibatch accuracy: 56.2% validation accuracy: 52.2%\n",
        "step:"
       ]
      },
      {
       "output_type": "stream",
       "stream": "stdout",
       "text": [
        " 194000 minibatch loss: 98.6769 minibatch accuracy: 50.0% validation accuracy: 52.4%\n",
        "step:"
       ]
      },
      {
       "output_type": "stream",
       "stream": "stdout",
       "text": [
        " 195000 minibatch loss: 98.2319 minibatch accuracy: 59.4% validation accuracy: 52.5%\n",
        "step:"
       ]
      },
      {
       "output_type": "stream",
       "stream": "stdout",
       "text": [
        " 196000 minibatch loss: 97.5599 minibatch accuracy: 68.8% validation accuracy: 52.1%\n",
        "step:"
       ]
      },
      {
       "output_type": "stream",
       "stream": "stdout",
       "text": [
        " 197000 minibatch loss: 97.4093 minibatch accuracy: 53.1% validation accuracy: 51.9%\n",
        "step:"
       ]
      },
      {
       "output_type": "stream",
       "stream": "stdout",
       "text": [
        " 198000 minibatch loss: 96.9215 minibatch accuracy: 59.4% validation accuracy: 52.5%\n",
        "step:"
       ]
      },
      {
       "output_type": "stream",
       "stream": "stdout",
       "text": [
        " 199000 minibatch loss: 96.4845 minibatch accuracy: 62.5% validation accuracy: 52.7%\n",
        "step:"
       ]
      },
      {
       "output_type": "stream",
       "stream": "stdout",
       "text": [
        " 200000 minibatch loss: 96.6039 minibatch accuracy: 28.1% validation accuracy: 52.9%\n",
        "step:"
       ]
      },
      {
       "output_type": "stream",
       "stream": "stdout",
       "text": [
        " 201000 minibatch loss: 95.7743 minibatch accuracy: 46.9% validation accuracy: 53.0%\n",
        "step:"
       ]
      },
      {
       "output_type": "stream",
       "stream": "stdout",
       "text": [
        " 202000 minibatch loss: 95.2516 minibatch accuracy: 50.0% validation accuracy: 52.3%\n",
        "step:"
       ]
      },
      {
       "output_type": "stream",
       "stream": "stdout",
       "text": [
        " 203000 minibatch loss: 94.9114 minibatch accuracy: 53.1% validation accuracy: 53.1%\n",
        "step:"
       ]
      },
      {
       "output_type": "stream",
       "stream": "stdout",
       "text": [
        " 204000 minibatch loss: 94.437 minibatch accuracy: 59.4% validation accuracy: 53.0%\n",
        "step:"
       ]
      },
      {
       "output_type": "stream",
       "stream": "stdout",
       "text": [
        " 205000 minibatch loss: 94.2225 minibatch accuracy: 50.0% validation accuracy: 52.6%\n",
        "step:"
       ]
      },
      {
       "output_type": "stream",
       "stream": "stdout",
       "text": [
        " 206000 minibatch loss: 93.7262 minibatch accuracy: 53.1% validation accuracy: 52.5%\n",
        "step:"
       ]
      },
      {
       "output_type": "stream",
       "stream": "stdout",
       "text": [
        " 207000 minibatch loss: 93.2568 minibatch accuracy: 59.4% validation accuracy: 52.6%\n",
        "step:"
       ]
      },
      {
       "output_type": "stream",
       "stream": "stdout",
       "text": [
        " 208000 minibatch loss: 93.1501 minibatch accuracy: 46.9% validation accuracy: 52.9%\n",
        "step:"
       ]
      },
      {
       "output_type": "stream",
       "stream": "stdout",
       "text": [
        " 209000 minibatch loss: 92.5061 minibatch accuracy: 62.5% validation accuracy: 52.5%\n",
        "step:"
       ]
      },
      {
       "output_type": "stream",
       "stream": "stdout",
       "text": [
        " 210000 minibatch loss: 92.3772 minibatch accuracy: 40.6% validation accuracy: 52.8%\n",
        "step:"
       ]
      },
      {
       "output_type": "stream",
       "stream": "stdout",
       "text": [
        " 211000 minibatch loss: 91.9543 minibatch accuracy: 53.1% validation accuracy: 53.1%\n",
        "step:"
       ]
      },
      {
       "output_type": "stream",
       "stream": "stdout",
       "text": [
        " 212000 minibatch loss: 91.2421 minibatch accuracy: 65.6% validation accuracy: 53.1%\n",
        "step:"
       ]
      },
      {
       "output_type": "stream",
       "stream": "stdout",
       "text": [
        " 213000 minibatch loss: 91.2486 minibatch accuracy: 46.9% validation accuracy: 53.1%\n",
        "step:"
       ]
      },
      {
       "output_type": "stream",
       "stream": "stdout",
       "text": [
        " 214000 minibatch loss: 90.7855 minibatch accuracy: 53.1% validation accuracy: 53.0%\n",
        "step:"
       ]
      },
      {
       "output_type": "stream",
       "stream": "stdout",
       "text": [
        " 215000 minibatch loss: 90.2489 minibatch accuracy: 56.2% validation accuracy: 53.1%\n",
        "step:"
       ]
      },
      {
       "output_type": "stream",
       "stream": "stdout",
       "text": [
        " 216000 minibatch loss: 90.0216 minibatch accuracy: 59.4% validation accuracy: 53.1%\n",
        "step:"
       ]
      },
      {
       "output_type": "stream",
       "stream": "stdout",
       "text": [
        " 217000 minibatch loss: 89.6357 minibatch accuracy: 59.4% validation accuracy: 53.4%\n",
        "step:"
       ]
      },
      {
       "output_type": "stream",
       "stream": "stdout",
       "text": [
        " 218000 minibatch loss: 89.0408 minibatch accuracy: 68.8% validation accuracy: 53.5%\n",
        "step:"
       ]
      },
      {
       "output_type": "stream",
       "stream": "stdout",
       "text": [
        " 219000 minibatch loss: 88.6941 minibatch accuracy: 56.2% validation accuracy: 53.2%\n",
        "step:"
       ]
      },
      {
       "output_type": "stream",
       "stream": "stdout",
       "text": [
        " 220000 minibatch loss: 88.6457 minibatch accuracy: 37.5% validation accuracy: 53.5%\n",
        "step:"
       ]
      },
      {
       "output_type": "stream",
       "stream": "stdout",
       "text": [
        " 221000 minibatch loss: 88.2315 minibatch accuracy: 50.0% validation accuracy: 52.8%\n",
        "step:"
       ]
      },
      {
       "output_type": "stream",
       "stream": "stdout",
       "text": [
        " 222000 minibatch loss: 87.6951 minibatch accuracy: 62.5% validation accuracy: 52.9%\n",
        "step:"
       ]
      },
      {
       "output_type": "stream",
       "stream": "stdout",
       "text": [
        " 223000 minibatch loss: 87.3458 minibatch accuracy: 53.1% validation accuracy: 53.4%\n",
        "step:"
       ]
      },
      {
       "output_type": "stream",
       "stream": "stdout",
       "text": [
        " 224000 minibatch loss: 87.3307 minibatch accuracy: 43.8% validation accuracy: 53.0%\n",
        "step:"
       ]
      },
      {
       "output_type": "stream",
       "stream": "stdout",
       "text": [
        " 225000 minibatch loss: 86.8363 minibatch accuracy: 46.9% validation accuracy: 53.5%\n",
        "step:"
       ]
      },
      {
       "output_type": "stream",
       "stream": "stdout",
       "text": [
        " 226000 minibatch loss: 86.516 minibatch accuracy: 37.5% validation accuracy: 53.3%\n",
        "step:"
       ]
      },
      {
       "output_type": "stream",
       "stream": "stdout",
       "text": [
        " 227000 minibatch loss: 86.0318 minibatch accuracy: 56.2% validation accuracy: 53.2%\n",
        "step:"
       ]
      },
      {
       "output_type": "stream",
       "stream": "stdout",
       "text": [
        " 228000 minibatch loss: 85.6581 minibatch accuracy: 53.1% validation accuracy: 53.7%\n",
        "step:"
       ]
      },
      {
       "output_type": "stream",
       "stream": "stdout",
       "text": [
        " 229000 minibatch loss: 85.3213 minibatch accuracy: 50.0% validation accuracy: 53.2%\n",
        "step:"
       ]
      },
      {
       "output_type": "stream",
       "stream": "stdout",
       "text": [
        " 230000 minibatch loss: 84.7709 minibatch accuracy: 78.1% validation accuracy: 53.5%\n",
        "step:"
       ]
      },
      {
       "output_type": "stream",
       "stream": "stdout",
       "text": [
        " 231000 minibatch loss: 84.6357 minibatch accuracy: 50.0% validation accuracy: 53.5%\n",
        "step:"
       ]
      },
      {
       "output_type": "stream",
       "stream": "stdout",
       "text": [
        " 232000 minibatch loss: 84.166 minibatch accuracy: 59.4% validation accuracy: 53.5%\n",
        "step:"
       ]
      },
      {
       "output_type": "stream",
       "stream": "stdout",
       "text": [
        " 233000 minibatch loss: 84.0529 minibatch accuracy: 46.9% validation accuracy: 53.4%\n",
        "step:"
       ]
      },
      {
       "output_type": "stream",
       "stream": "stdout",
       "text": [
        " 234000 minibatch loss: 83.6837 minibatch accuracy: 56.2% validation accuracy: 53.5%\n",
        "step:"
       ]
      },
      {
       "output_type": "stream",
       "stream": "stdout",
       "text": [
        " 235000 minibatch loss: 83.3076 minibatch accuracy: 40.6% validation accuracy: 53.3%\n",
        "step:"
       ]
      },
      {
       "output_type": "stream",
       "stream": "stdout",
       "text": [
        " 236000 minibatch loss: 83.1439 minibatch accuracy: 50.0% validation accuracy: 52.9%\n",
        "step:"
       ]
      },
      {
       "output_type": "stream",
       "stream": "stdout",
       "text": [
        " 237000 minibatch loss: 82.6606 minibatch accuracy: 59.4% validation accuracy: 53.5%\n",
        "step:"
       ]
      },
      {
       "output_type": "stream",
       "stream": "stdout",
       "text": [
        " 238000 minibatch loss: 82.1068 minibatch accuracy: 59.4% validation accuracy: 53.5%\n",
        "step:"
       ]
      },
      {
       "output_type": "stream",
       "stream": "stdout",
       "text": [
        " 239000 minibatch loss: 82.154 minibatch accuracy: 43.8% validation accuracy: 53.7%\n",
        "step:"
       ]
      },
      {
       "output_type": "stream",
       "stream": "stdout",
       "text": [
        " 240000 minibatch loss: 81.2915 minibatch accuracy: 71.9% validation accuracy: 53.5%\n",
        "step:"
       ]
      },
      {
       "output_type": "stream",
       "stream": "stdout",
       "text": [
        " 241000 minibatch loss: 81.1503 minibatch accuracy: 65.6% validation accuracy: 54.0%\n",
        "step:"
       ]
      },
      {
       "output_type": "stream",
       "stream": "stdout",
       "text": [
        " 242000 minibatch loss: 80.9622 minibatch accuracy: 43.8% validation accuracy: 53.3%\n",
        "step:"
       ]
      },
      {
       "output_type": "stream",
       "stream": "stdout",
       "text": [
        " 243000 minibatch loss: 80.5255 minibatch accuracy: 56.2% validation accuracy: 53.6%\n",
        "step:"
       ]
      },
      {
       "output_type": "stream",
       "stream": "stdout",
       "text": [
        " 244000 minibatch loss: 80.3554 minibatch accuracy: 53.1% validation accuracy: 53.6%\n",
        "step:"
       ]
      },
      {
       "output_type": "stream",
       "stream": "stdout",
       "text": [
        " 245000 minibatch loss: 79.6773 minibatch accuracy: 68.8% validation accuracy: 52.1%\n",
        "step:"
       ]
      },
      {
       "output_type": "stream",
       "stream": "stdout",
       "text": [
        " 246000 minibatch loss: 79.8527 minibatch accuracy: 46.9% validation accuracy: 53.5%\n",
        "step:"
       ]
      },
      {
       "output_type": "stream",
       "stream": "stdout",
       "text": [
        " 247000 minibatch loss: 79.5571 minibatch accuracy: 43.8% validation accuracy: 53.8%\n",
        "step:"
       ]
      },
      {
       "output_type": "stream",
       "stream": "stdout",
       "text": [
        " 248000 minibatch loss: 78.7054 minibatch accuracy: 68.8% validation accuracy: 53.4%\n",
        "step:"
       ]
      },
      {
       "output_type": "stream",
       "stream": "stdout",
       "text": [
        " 249000 minibatch loss: 78.6553 minibatch accuracy: 65.6% validation accuracy: 53.7%\n",
        "step:"
       ]
      },
      {
       "output_type": "stream",
       "stream": "stdout",
       "text": [
        " 250000 minibatch loss: 78.4127 minibatch accuracy: 56.2% validation accuracy: 54.0%\n",
        "step:"
       ]
      },
      {
       "output_type": "stream",
       "stream": "stdout",
       "text": [
        " 251000 minibatch loss: 78.063 minibatch accuracy: 59.4% validation accuracy: 53.6%\n",
        "step:"
       ]
      },
      {
       "output_type": "stream",
       "stream": "stdout",
       "text": [
        " 252000 minibatch loss: 77.8139 minibatch accuracy: 53.1% validation accuracy: 53.3%\n",
        "step:"
       ]
      },
      {
       "output_type": "stream",
       "stream": "stdout",
       "text": [
        " 253000 minibatch loss: 77.7541 minibatch accuracy: 28.1% validation accuracy: 54.4%\n",
        "step:"
       ]
      },
      {
       "output_type": "stream",
       "stream": "stdout",
       "text": [
        " 254000 minibatch loss: 77.0618 minibatch accuracy: 53.1% validation accuracy: 53.4%\n",
        "step:"
       ]
      },
      {
       "output_type": "stream",
       "stream": "stdout",
       "text": [
        " 255000 minibatch loss: 76.9929 minibatch accuracy: 53.1% validation accuracy: 53.8%\n",
        "step:"
       ]
      },
      {
       "output_type": "stream",
       "stream": "stdout",
       "text": [
        " 256000 minibatch loss: 76.5983 minibatch accuracy: 40.6% validation accuracy: 54.3%\n",
        "step:"
       ]
      },
      {
       "output_type": "stream",
       "stream": "stdout",
       "text": [
        " 257000 minibatch loss: 76.1431 minibatch accuracy: 56.2% validation accuracy: 53.9%\n",
        "step:"
       ]
      },
      {
       "output_type": "stream",
       "stream": "stdout",
       "text": [
        " 258000 minibatch loss: 75.8799 minibatch accuracy: 62.5% validation accuracy: 54.0%\n",
        "step:"
       ]
      },
      {
       "output_type": "stream",
       "stream": "stdout",
       "text": [
        " 259000 minibatch loss: 75.4895 minibatch accuracy: 71.9% validation accuracy: 53.7%\n",
        "step:"
       ]
      },
      {
       "output_type": "stream",
       "stream": "stdout",
       "text": [
        " 260000 minibatch loss: 75.1968 minibatch accuracy: 59.4% validation accuracy: 54.3%\n",
        "step:"
       ]
      },
      {
       "output_type": "stream",
       "stream": "stdout",
       "text": [
        " 261000 minibatch loss: 75.1509 minibatch accuracy: 59.4% validation accuracy: 54.1%\n",
        "step:"
       ]
      },
      {
       "output_type": "stream",
       "stream": "stdout",
       "text": [
        " 262000 minibatch loss: 74.8515 minibatch accuracy: 50.0% validation accuracy: 54.0%\n",
        "step:"
       ]
      },
      {
       "output_type": "stream",
       "stream": "stdout",
       "text": [
        " 263000 minibatch loss: 74.6511 minibatch accuracy: 43.8% validation accuracy: 54.0%\n",
        "step:"
       ]
      },
      {
       "output_type": "stream",
       "stream": "stdout",
       "text": [
        " 264000 minibatch loss: 74.2227 minibatch accuracy: 50.0% validation accuracy: 54.1%\n",
        "step:"
       ]
      },
      {
       "output_type": "stream",
       "stream": "stdout",
       "text": [
        " 265000 minibatch loss: 73.5844 minibatch accuracy: 68.8% validation accuracy: 54.1%\n",
        "step:"
       ]
      },
      {
       "output_type": "stream",
       "stream": "stdout",
       "text": [
        " 266000 minibatch loss: 73.3467 minibatch accuracy: 62.5% validation accuracy: 54.3%\n",
        "step:"
       ]
      },
      {
       "output_type": "stream",
       "stream": "stdout",
       "text": [
        " 267000 minibatch loss: 73.4853 minibatch accuracy: 53.1% validation accuracy: 54.4%\n",
        "step:"
       ]
      },
      {
       "output_type": "stream",
       "stream": "stdout",
       "text": [
        " 268000 minibatch loss: 72.8533 minibatch accuracy: 68.8% validation accuracy: 54.1%\n",
        "step:"
       ]
      },
      {
       "output_type": "stream",
       "stream": "stdout",
       "text": [
        " 269000 minibatch loss: 72.8609 minibatch accuracy: 43.8% validation accuracy: 53.4%\n",
        "step:"
       ]
      },
      {
       "output_type": "stream",
       "stream": "stdout",
       "text": [
        " 270000 minibatch loss: 72.3251 minibatch accuracy: 65.6% validation accuracy: 54.1%\n",
        "step:"
       ]
      },
      {
       "output_type": "stream",
       "stream": "stdout",
       "text": [
        " 271000 minibatch loss: 72.2898 minibatch accuracy: 43.8% validation accuracy: 54.5%\n",
        "step:"
       ]
      },
      {
       "output_type": "stream",
       "stream": "stdout",
       "text": [
        " 272000 minibatch loss: 71.813 minibatch accuracy: 68.8% validation accuracy: 53.7%\n",
        "step:"
       ]
      },
      {
       "output_type": "stream",
       "stream": "stdout",
       "text": [
        " 273000 minibatch loss: 71.8277 minibatch accuracy: 43.8% validation accuracy: 54.4%\n",
        "step:"
       ]
      },
      {
       "output_type": "stream",
       "stream": "stdout",
       "text": [
        " 274000 minibatch loss: 71.3081 minibatch accuracy: 37.5% validation accuracy: 53.7%\n",
        "step:"
       ]
      },
      {
       "output_type": "stream",
       "stream": "stdout",
       "text": [
        " 275000 minibatch loss: 70.9475 minibatch accuracy: 40.6% validation accuracy: 54.5%\n",
        "step:"
       ]
      },
      {
       "output_type": "stream",
       "stream": "stdout",
       "text": [
        " 276000 minibatch loss: 70.7978 minibatch accuracy: 53.1% validation accuracy: 54.5%\n",
        "step:"
       ]
      },
      {
       "output_type": "stream",
       "stream": "stdout",
       "text": [
        " 277000 minibatch loss: 70.3837 minibatch accuracy: 56.2% validation accuracy: 53.9%\n",
        "step:"
       ]
      },
      {
       "output_type": "stream",
       "stream": "stdout",
       "text": [
        " 278000 minibatch loss: 69.8406 minibatch accuracy: 62.5% validation accuracy: 54.5%\n",
        "step:"
       ]
      },
      {
       "output_type": "stream",
       "stream": "stdout",
       "text": [
        " 279000 minibatch loss: 69.9272 minibatch accuracy: 50.0% validation accuracy: 54.2%\n",
        "step:"
       ]
      },
      {
       "output_type": "stream",
       "stream": "stdout",
       "text": [
        " 280000 minibatch loss: 69.6167 minibatch accuracy: 59.4% validation accuracy: 54.5%\n",
        "step:"
       ]
      },
      {
       "output_type": "stream",
       "stream": "stdout",
       "text": [
        " 281000 minibatch loss: 69.4757 minibatch accuracy: 46.9% validation accuracy: 54.3%\n",
        "step:"
       ]
      },
      {
       "output_type": "stream",
       "stream": "stdout",
       "text": [
        " 282000 minibatch loss: 69.2687 minibatch accuracy: 46.9% validation accuracy: 54.2%\n",
        "step:"
       ]
      },
      {
       "output_type": "stream",
       "stream": "stdout",
       "text": [
        " 283000 minibatch loss: 68.7585 minibatch accuracy: 50.0% validation accuracy: 55.1%\n",
        "step:"
       ]
      },
      {
       "output_type": "stream",
       "stream": "stdout",
       "text": [
        " 284000 minibatch loss: 68.5562 minibatch accuracy: 50.0% validation accuracy: 53.2%\n",
        "step:"
       ]
      },
      {
       "output_type": "stream",
       "stream": "stdout",
       "text": [
        " 285000 minibatch loss: 68.2406 minibatch accuracy: 62.5% validation accuracy: 54.7%\n",
        "step:"
       ]
      },
      {
       "output_type": "stream",
       "stream": "stdout",
       "text": [
        " 286000 minibatch loss: 67.9693 minibatch accuracy: 62.5% validation accuracy: 54.3%\n",
        "step:"
       ]
      },
      {
       "output_type": "stream",
       "stream": "stdout",
       "text": [
        " 287000 minibatch loss: 67.5508 minibatch accuracy: 65.6% validation accuracy: 54.0%\n",
        "step:"
       ]
      },
      {
       "output_type": "stream",
       "stream": "stdout",
       "text": [
        " 288000 minibatch loss: 67.4109 minibatch accuracy: 53.1% validation accuracy: 54.4%\n",
        "step:"
       ]
      },
      {
       "output_type": "stream",
       "stream": "stdout",
       "text": [
        " 289000 minibatch loss: 67.4873 minibatch accuracy: 53.1% validation accuracy: 54.1%\n",
        "step:"
       ]
      },
      {
       "output_type": "stream",
       "stream": "stdout",
       "text": [
        " 290000 minibatch loss: 66.6736 minibatch accuracy: 78.1% validation accuracy: 54.5%\n",
        "step:"
       ]
      },
      {
       "output_type": "stream",
       "stream": "stdout",
       "text": [
        " 291000 minibatch loss: 66.7666 minibatch accuracy: 50.0% validation accuracy: 54.8%\n",
        "step:"
       ]
      },
      {
       "output_type": "stream",
       "stream": "stdout",
       "text": [
        " 292000 minibatch loss: 66.6256 minibatch accuracy: 50.0% validation accuracy: 54.4%\n",
        "step:"
       ]
      },
      {
       "output_type": "stream",
       "stream": "stdout",
       "text": [
        " 293000 minibatch loss: 66.1864 minibatch accuracy: 56.2% validation accuracy: 54.7%\n",
        "step:"
       ]
      },
      {
       "output_type": "stream",
       "stream": "stdout",
       "text": [
        " 294000 minibatch loss: 66.0927 minibatch accuracy: 56.2% validation accuracy: 54.6%\n",
        "step:"
       ]
      },
      {
       "output_type": "stream",
       "stream": "stdout",
       "text": [
        " 295000 minibatch loss: 65.7876 minibatch accuracy: 56.2% validation accuracy: 54.6%\n",
        "step:"
       ]
      },
      {
       "output_type": "stream",
       "stream": "stdout",
       "text": [
        " 296000 minibatch loss: 65.6843 minibatch accuracy: 46.9% validation accuracy: 54.4%\n",
        "step:"
       ]
      },
      {
       "output_type": "stream",
       "stream": "stdout",
       "text": [
        " 297000 minibatch loss: 65.1676 minibatch accuracy: 62.5% validation accuracy: 54.1%\n",
        "step:"
       ]
      },
      {
       "output_type": "stream",
       "stream": "stdout",
       "text": [
        " 298000 minibatch loss: 64.9549 minibatch accuracy: 50.0% validation accuracy: 54.6%\n",
        "step:"
       ]
      },
      {
       "output_type": "stream",
       "stream": "stdout",
       "text": [
        " 299000 minibatch loss: 64.4268 minibatch accuracy: 68.8% validation accuracy: 54.7%\n",
        "step:"
       ]
      },
      {
       "output_type": "stream",
       "stream": "stdout",
       "text": [
        " 300000 minibatch loss: 64.4543 minibatch accuracy: 65.6% validation accuracy: 54.7%\n",
        "step:"
       ]
      },
      {
       "output_type": "stream",
       "stream": "stdout",
       "text": [
        " 301000 minibatch loss: 64.2253 minibatch accuracy: 50.0% validation accuracy: 55.4%\n",
        "step:"
       ]
      },
      {
       "output_type": "stream",
       "stream": "stdout",
       "text": [
        " 302000 minibatch loss: 64.2981 minibatch accuracy: 34.4% validation accuracy: 54.2%\n",
        "step:"
       ]
      },
      {
       "output_type": "stream",
       "stream": "stdout",
       "text": [
        " 303000 minibatch loss: 63.734 minibatch accuracy: 56.2% validation accuracy: 54.8%\n",
        "step:"
       ]
      },
      {
       "output_type": "stream",
       "stream": "stdout",
       "text": [
        " 304000 minibatch loss: 63.4318 minibatch accuracy: 75.0% validation accuracy: 55.0%\n",
        "step:"
       ]
      },
      {
       "output_type": "stream",
       "stream": "stdout",
       "text": [
        " 305000 minibatch loss: 63.1813 minibatch accuracy: 68.8% validation accuracy: 54.8%\n",
        "step:"
       ]
      },
      {
       "output_type": "stream",
       "stream": "stdout",
       "text": [
        " 306000 minibatch loss: 62.8185 minibatch accuracy: 71.9% validation accuracy: 54.6%\n",
        "step:"
       ]
      },
      {
       "output_type": "stream",
       "stream": "stdout",
       "text": [
        " 307000 minibatch loss: 62.7949 minibatch accuracy: 53.1% validation accuracy: 53.8%\n",
        "step:"
       ]
      },
      {
       "output_type": "stream",
       "stream": "stdout",
       "text": [
        " 308000 minibatch loss: 62.2602 minibatch accuracy: 65.6% validation accuracy: 53.5%\n",
        "step:"
       ]
      },
      {
       "output_type": "stream",
       "stream": "stdout",
       "text": [
        " 309000 minibatch loss: 62.5261 minibatch accuracy: 53.1% validation accuracy: 54.5%\n",
        "step:"
       ]
      },
      {
       "output_type": "stream",
       "stream": "stdout",
       "text": [
        " 310000 minibatch loss: 62.3062 minibatch accuracy: 37.5% validation accuracy: 55.1%\n",
        "step:"
       ]
      },
      {
       "output_type": "stream",
       "stream": "stdout",
       "text": [
        " 311000 minibatch loss: 61.7901 minibatch accuracy: 68.8% validation accuracy: 55.1%\n",
        "step:"
       ]
      },
      {
       "output_type": "stream",
       "stream": "stdout",
       "text": [
        " 312000 minibatch loss: 61.5696 minibatch accuracy: 53.1% validation accuracy: 54.2%\n",
        "step:"
       ]
      },
      {
       "output_type": "stream",
       "stream": "stdout",
       "text": [
        " 313000 minibatch loss: 61.2138 minibatch accuracy: 59.4% validation accuracy: 54.2%\n",
        "step:"
       ]
      },
      {
       "output_type": "stream",
       "stream": "stdout",
       "text": [
        " 314000 minibatch loss: 61.031 minibatch accuracy: 65.6% validation accuracy: 55.1%\n",
        "step:"
       ]
      },
      {
       "output_type": "stream",
       "stream": "stdout",
       "text": [
        " 315000 minibatch loss: 60.7796 minibatch accuracy: 50.0% validation accuracy: 55.0%\n",
        "step:"
       ]
      },
      {
       "output_type": "stream",
       "stream": "stdout",
       "text": [
        " 316000 minibatch loss: 60.339 minibatch accuracy: 71.9% validation accuracy: 55.2%\n",
        "step:"
       ]
      },
      {
       "output_type": "stream",
       "stream": "stdout",
       "text": [
        " 317000 minibatch loss: 60.1893 minibatch accuracy: 68.8% validation accuracy: 54.4%\n",
        "step:"
       ]
      },
      {
       "output_type": "stream",
       "stream": "stdout",
       "text": [
        " 318000 minibatch loss: 60.0948 minibatch accuracy: 53.1% validation accuracy: 54.7%\n",
        "step:"
       ]
      },
      {
       "output_type": "stream",
       "stream": "stdout",
       "text": [
        " 319000 minibatch loss: 59.7789 minibatch accuracy: 68.8% validation accuracy: 54.7%\n",
        "step:"
       ]
      },
      {
       "output_type": "stream",
       "stream": "stdout",
       "text": [
        " 320000 minibatch loss: 59.7054 minibatch accuracy: 56.2% validation accuracy: 53.3%\n",
        "step:"
       ]
      },
      {
       "output_type": "stream",
       "stream": "stdout",
       "text": [
        " 321000 minibatch loss: 59.4345 minibatch accuracy: 56.2% validation accuracy: 53.7%\n",
        "step:"
       ]
      },
      {
       "output_type": "stream",
       "stream": "stdout",
       "text": [
        " 322000 minibatch loss: 59.5099 minibatch accuracy: 50.0% validation accuracy: 54.0%\n",
        "step:"
       ]
      },
      {
       "output_type": "stream",
       "stream": "stdout",
       "text": [
        " 323000 minibatch loss: 59.1757 minibatch accuracy: 53.1% validation accuracy: 55.1%\n",
        "step:"
       ]
      },
      {
       "output_type": "stream",
       "stream": "stdout",
       "text": [
        " 324000 minibatch loss: 58.936 minibatch accuracy: 53.1% validation accuracy: 54.6%\n",
        "step:"
       ]
      },
      {
       "output_type": "stream",
       "stream": "stdout",
       "text": [
        " 325000 minibatch loss: 58.5796 minibatch accuracy: 65.6% validation accuracy: 55.7%\n",
        "step:"
       ]
      },
      {
       "output_type": "stream",
       "stream": "stdout",
       "text": [
        " 326000 minibatch loss: 58.411 minibatch accuracy: 43.8% validation accuracy: 55.6%\n",
        "step:"
       ]
      },
      {
       "output_type": "stream",
       "stream": "stdout",
       "text": [
        " 327000 minibatch loss: 58.0163 minibatch accuracy: 65.6% validation accuracy: 55.3%\n",
        "step:"
       ]
      },
      {
       "output_type": "stream",
       "stream": "stdout",
       "text": [
        " 328000 minibatch loss: 58.0022 minibatch accuracy: 56.2% validation accuracy: 55.2%\n",
        "step:"
       ]
      },
      {
       "output_type": "stream",
       "stream": "stdout",
       "text": [
        " 329000 minibatch loss: 57.6543 minibatch accuracy: 62.5% validation accuracy: 54.6%\n",
        "step:"
       ]
      },
      {
       "output_type": "stream",
       "stream": "stdout",
       "text": [
        " 330000 minibatch loss: 57.8001 minibatch accuracy: 46.9% validation accuracy: 55.2%\n",
        "step:"
       ]
      },
      {
       "output_type": "stream",
       "stream": "stdout",
       "text": [
        " 331000 minibatch loss: 57.5882 minibatch accuracy: 43.8% validation accuracy: 55.0%\n",
        "step:"
       ]
      },
      {
       "output_type": "stream",
       "stream": "stdout",
       "text": [
        " 332000 minibatch loss: 57.0623 minibatch accuracy: 59.4% validation accuracy: 55.4%\n",
        "step:"
       ]
      },
      {
       "output_type": "stream",
       "stream": "stdout",
       "text": [
        " 333000 minibatch loss: 56.7591 minibatch accuracy: 71.9% validation accuracy: 55.6%\n",
        "step:"
       ]
      },
      {
       "output_type": "stream",
       "stream": "stdout",
       "text": [
        " 334000 minibatch loss: 56.7201 minibatch accuracy: 50.0% validation accuracy: 56.0%\n",
        "step:"
       ]
      },
      {
       "output_type": "stream",
       "stream": "stdout",
       "text": [
        " 335000 minibatch loss: 56.609 minibatch accuracy: 50.0% validation accuracy: 55.2%\n",
        "step:"
       ]
      },
      {
       "output_type": "stream",
       "stream": "stdout",
       "text": [
        " 336000 minibatch loss: 56.4738 minibatch accuracy: 40.6% validation accuracy: 55.3%\n",
        "step:"
       ]
      },
      {
       "output_type": "stream",
       "stream": "stdout",
       "text": [
        " 337000 minibatch loss: 56.0493 minibatch accuracy: 56.2% validation accuracy: 55.5%\n",
        "step:"
       ]
      },
      {
       "output_type": "stream",
       "stream": "stdout",
       "text": [
        " 338000 minibatch loss: 55.7291 minibatch accuracy: 59.4% validation accuracy: 55.7%\n",
        "step:"
       ]
      },
      {
       "output_type": "stream",
       "stream": "stdout",
       "text": [
        " 339000 minibatch loss: 55.3914 minibatch accuracy: 68.8% validation accuracy: 55.8%\n",
        "step:"
       ]
      },
      {
       "output_type": "stream",
       "stream": "stdout",
       "text": [
        " 340000 minibatch loss: 55.4232 minibatch accuracy: 56.2% validation accuracy: 54.6%\n",
        "step:"
       ]
      },
      {
       "output_type": "stream",
       "stream": "stdout",
       "text": [
        " 341000 minibatch loss: 55.2613 minibatch accuracy: 53.1% validation accuracy: 55.6%\n",
        "step:"
       ]
      },
      {
       "output_type": "stream",
       "stream": "stdout",
       "text": [
        " 342000 minibatch loss: 54.8574 minibatch accuracy: 68.8% validation accuracy: 55.4%\n",
        "step:"
       ]
      },
      {
       "output_type": "stream",
       "stream": "stdout",
       "text": [
        " 343000 minibatch loss: 55.0742 minibatch accuracy: 50.0% validation accuracy: 55.2%\n",
        "step:"
       ]
      },
      {
       "output_type": "stream",
       "stream": "stdout",
       "text": [
        " 344000 minibatch loss: 54.758 minibatch accuracy: 59.4% validation accuracy: 55.6%\n",
        "step:"
       ]
      },
      {
       "output_type": "stream",
       "stream": "stdout",
       "text": [
        " 345000 minibatch loss: 54.3773 minibatch accuracy: 75.0% validation accuracy: 55.3%\n",
        "step:"
       ]
      },
      {
       "output_type": "stream",
       "stream": "stdout",
       "text": [
        " 346000 minibatch loss: 54.3501 minibatch accuracy: 46.9% validation accuracy: 55.8%\n",
        "step:"
       ]
      },
      {
       "output_type": "stream",
       "stream": "stdout",
       "text": [
        " 347000 minibatch loss: 54.0152 minibatch accuracy: 46.9% validation accuracy: 55.4%\n",
        "step:"
       ]
      },
      {
       "output_type": "stream",
       "stream": "stdout",
       "text": [
        " 348000 minibatch loss: 53.8871 minibatch accuracy: 50.0% validation accuracy: 55.5%\n",
        "step:"
       ]
      },
      {
       "output_type": "stream",
       "stream": "stdout",
       "text": [
        " 349000 minibatch loss: 53.491 minibatch accuracy: 65.6% validation accuracy: 55.9%\n",
        "step:"
       ]
      },
      {
       "output_type": "stream",
       "stream": "stdout",
       "text": [
        " 350000 minibatch loss: 53.5597 minibatch accuracy: 56.2% validation accuracy: 56.0%\n",
        "step:"
       ]
      },
      {
       "output_type": "stream",
       "stream": "stdout",
       "text": [
        " 351000 minibatch loss: 53.2473 minibatch accuracy: 62.5% validation accuracy: 55.9%\n",
        "step:"
       ]
      },
      {
       "output_type": "stream",
       "stream": "stdout",
       "text": [
        " 352000 minibatch loss: 53.1659 minibatch accuracy: 43.8% validation accuracy: 55.1%\n",
        "step:"
       ]
      },
      {
       "output_type": "stream",
       "stream": "stdout",
       "text": [
        " 353000 minibatch loss: 52.7328 minibatch accuracy: 71.9% validation accuracy: 56.1%\n",
        "step:"
       ]
      },
      {
       "output_type": "stream",
       "stream": "stdout",
       "text": [
        " 354000 minibatch loss: 52.6845 minibatch accuracy: 46.9% validation accuracy: 55.8%\n",
        "step:"
       ]
      },
      {
       "output_type": "stream",
       "stream": "stdout",
       "text": [
        " 355000 minibatch loss: 52.4336 minibatch accuracy: 59.4% validation accuracy: 55.6%\n",
        "step:"
       ]
      },
      {
       "output_type": "stream",
       "stream": "stdout",
       "text": [
        " 356000 minibatch loss: 52.2141 minibatch accuracy: 68.8% validation accuracy: 56.1%\n",
        "step:"
       ]
      },
      {
       "output_type": "stream",
       "stream": "stdout",
       "text": [
        " 357000 minibatch loss: 52.0168 minibatch accuracy: 59.4% validation accuracy: 55.6%\n",
        "step:"
       ]
      },
      {
       "output_type": "stream",
       "stream": "stdout",
       "text": [
        " 358000 minibatch loss: 51.8999 minibatch accuracy: 53.1% validation accuracy: 56.1%\n",
        "step:"
       ]
      },
      {
       "output_type": "stream",
       "stream": "stdout",
       "text": [
        " 359000 minibatch loss: 51.7482 minibatch accuracy: 53.1% validation accuracy: 55.7%\n",
        "step:"
       ]
      },
      {
       "output_type": "stream",
       "stream": "stdout",
       "text": [
        " 360000 minibatch loss: 51.7014 minibatch accuracy: 50.0% validation accuracy: 55.5%\n",
        "step:"
       ]
      },
      {
       "output_type": "stream",
       "stream": "stdout",
       "text": [
        " 361000 minibatch loss: 51.2447 minibatch accuracy: 68.8% validation accuracy: 55.7%\n",
        "step:"
       ]
      },
      {
       "output_type": "stream",
       "stream": "stdout",
       "text": [
        " 362000 minibatch loss: 51.0156 minibatch accuracy: 53.1% validation accuracy: 56.2%\n",
        "step:"
       ]
      },
      {
       "output_type": "stream",
       "stream": "stdout",
       "text": [
        " 363000 minibatch loss: 50.9487 minibatch accuracy: 68.8% validation accuracy: 55.6%\n",
        "step:"
       ]
      },
      {
       "output_type": "stream",
       "stream": "stdout",
       "text": [
        " 364000 minibatch loss: 50.7537 minibatch accuracy: 62.5% validation accuracy: 55.8%\n",
        "step:"
       ]
      },
      {
       "output_type": "stream",
       "stream": "stdout",
       "text": [
        " 365000 minibatch loss: 50.639 minibatch accuracy: 50.0% validation accuracy: 56.2%\n",
        "step:"
       ]
      },
      {
       "output_type": "stream",
       "stream": "stdout",
       "text": [
        " 366000 minibatch loss: 50.3633 minibatch accuracy: 56.2% validation accuracy: 54.6%\n",
        "step:"
       ]
      },
      {
       "output_type": "stream",
       "stream": "stdout",
       "text": [
        " 367000 minibatch loss: 50.311 minibatch accuracy: 50.0% validation accuracy: 56.1%\n",
        "step:"
       ]
      },
      {
       "output_type": "stream",
       "stream": "stdout",
       "text": [
        " 368000 minibatch loss: 50.075 minibatch accuracy: 62.5% validation accuracy: 56.0%\n",
        "step:"
       ]
      },
      {
       "output_type": "stream",
       "stream": "stdout",
       "text": [
        " 369000 minibatch loss: 49.7887 minibatch accuracy: 56.2% validation accuracy: 55.5%\n",
        "step:"
       ]
      },
      {
       "output_type": "stream",
       "stream": "stdout",
       "text": [
        " 370000 minibatch loss: 49.6028 minibatch accuracy: 56.2% validation accuracy: 56.2%\n",
        "step:"
       ]
      },
      {
       "output_type": "stream",
       "stream": "stdout",
       "text": [
        " 371000 minibatch loss: 49.6828 minibatch accuracy: 56.2% validation accuracy: 55.9%\n",
        "step:"
       ]
      },
      {
       "output_type": "stream",
       "stream": "stdout",
       "text": [
        " 372000 minibatch loss: 49.6243 minibatch accuracy: 43.8% validation accuracy: 56.2%\n",
        "step:"
       ]
      },
      {
       "output_type": "stream",
       "stream": "stdout",
       "text": [
        " 373000 minibatch loss: 48.9977 minibatch accuracy: 71.9% validation accuracy: 56.3%\n",
        "step:"
       ]
      },
      {
       "output_type": "stream",
       "stream": "stdout",
       "text": [
        " 374000 minibatch loss: 48.8155 minibatch accuracy: 62.5% validation accuracy: 56.4%\n",
        "step:"
       ]
      },
      {
       "output_type": "stream",
       "stream": "stdout",
       "text": [
        " 375000 minibatch loss: 48.8742 minibatch accuracy: 50.0% validation accuracy: 55.7%\n",
        "step:"
       ]
      },
      {
       "output_type": "stream",
       "stream": "stdout",
       "text": [
        " 376000 minibatch loss: 48.6751 minibatch accuracy: 50.0% validation accuracy: 56.5%\n",
        "step:"
       ]
      },
      {
       "output_type": "stream",
       "stream": "stdout",
       "text": [
        " 377000 minibatch loss: 49.0324 minibatch accuracy: 25.0% validation accuracy: 56.3%\n",
        "step:"
       ]
      },
      {
       "output_type": "stream",
       "stream": "stdout",
       "text": [
        " 378000 minibatch loss: 48.3178 minibatch accuracy: 65.6% validation accuracy: 56.1%\n",
        "step:"
       ]
      },
      {
       "output_type": "stream",
       "stream": "stdout",
       "text": [
        " 379000 minibatch loss: 48.3574 minibatch accuracy: 59.4% validation accuracy: 56.0%\n",
        "step:"
       ]
      },
      {
       "output_type": "stream",
       "stream": "stdout",
       "text": [
        " 380000 minibatch loss: 48.0694 minibatch accuracy: 53.1% validation accuracy: 55.3%\n",
        "step:"
       ]
      },
      {
       "output_type": "stream",
       "stream": "stdout",
       "text": [
        " 381000 minibatch loss: 47.9038 minibatch accuracy: 43.8% validation accuracy: 56.1%\n",
        "step:"
       ]
      },
      {
       "output_type": "stream",
       "stream": "stdout",
       "text": [
        " 382000 minibatch loss: 47.4681 minibatch accuracy: 65.6% validation accuracy: 56.0%\n",
        "step:"
       ]
      },
      {
       "output_type": "stream",
       "stream": "stdout",
       "text": [
        " 383000 minibatch loss: 47.3179 minibatch accuracy: 59.4% validation accuracy: 56.4%\n",
        "step:"
       ]
      },
      {
       "output_type": "stream",
       "stream": "stdout",
       "text": [
        " 384000 minibatch loss: 47.3827 minibatch accuracy: 56.2% validation accuracy: 56.6%\n",
        "step:"
       ]
      },
      {
       "output_type": "stream",
       "stream": "stdout",
       "text": [
        " 385000 minibatch loss: 47.0709 minibatch accuracy: 59.4% validation accuracy: 56.1%\n",
        "step:"
       ]
      },
      {
       "output_type": "stream",
       "stream": "stdout",
       "text": [
        " 386000 minibatch loss: 46.7507 minibatch accuracy: 71.9% validation accuracy: 56.0%\n",
        "step:"
       ]
      },
      {
       "output_type": "stream",
       "stream": "stdout",
       "text": [
        " 387000 minibatch loss: 46.863 minibatch accuracy: 43.8% validation accuracy: 56.4%\n",
        "step:"
       ]
      },
      {
       "output_type": "stream",
       "stream": "stdout",
       "text": [
        " 388000 minibatch loss: 46.5592 minibatch accuracy: 59.4% validation accuracy: 56.5%\n",
        "step:"
       ]
      },
      {
       "output_type": "stream",
       "stream": "stdout",
       "text": [
        " 389000 minibatch loss: 46.4991 minibatch accuracy: 65.6% validation accuracy: 56.5%\n",
        "step:"
       ]
      },
      {
       "output_type": "stream",
       "stream": "stdout",
       "text": [
        " 390000 minibatch loss: 46.3219 minibatch accuracy: 56.2% validation accuracy: 55.4%\n",
        "step:"
       ]
      },
      {
       "output_type": "stream",
       "stream": "stdout",
       "text": [
        " 391000 minibatch loss: 46.2893 minibatch accuracy: 50.0% validation accuracy: 56.6%\n",
        "step:"
       ]
      },
      {
       "output_type": "stream",
       "stream": "stdout",
       "text": [
        " 392000 minibatch loss: 46.052 minibatch accuracy: 59.4% validation accuracy: 56.6%\n",
        "step:"
       ]
      },
      {
       "output_type": "stream",
       "stream": "stdout",
       "text": [
        " 393000 minibatch loss: 45.7116 minibatch accuracy: 65.6% validation accuracy: 56.5%\n",
        "step:"
       ]
      },
      {
       "output_type": "stream",
       "stream": "stdout",
       "text": [
        " 394000 minibatch loss: 45.7398 minibatch accuracy: 53.1% validation accuracy: 56.3%\n",
        "step:"
       ]
      },
      {
       "output_type": "stream",
       "stream": "stdout",
       "text": [
        " 395000 minibatch loss: 45.3503 minibatch accuracy: 65.6% validation accuracy: 55.0%\n",
        "step:"
       ]
      },
      {
       "output_type": "stream",
       "stream": "stdout",
       "text": [
        " 396000 minibatch loss: 45.3179 minibatch accuracy: 56.2% validation accuracy: 56.7%\n",
        "step:"
       ]
      },
      {
       "output_type": "stream",
       "stream": "stdout",
       "text": [
        " 397000 minibatch loss: 44.8595 minibatch accuracy: 78.1% validation accuracy: 56.9%\n",
        "step:"
       ]
      },
      {
       "output_type": "stream",
       "stream": "stdout",
       "text": [
        " 398000 minibatch loss: 44.9335 minibatch accuracy: 59.4% validation accuracy: 55.0%\n",
        "step:"
       ]
      },
      {
       "output_type": "stream",
       "stream": "stdout",
       "text": [
        " 399000 minibatch loss: 44.7156 minibatch accuracy: 56.2% validation accuracy: 56.5%\n",
        "step:"
       ]
      },
      {
       "output_type": "stream",
       "stream": "stdout",
       "text": [
        " 400000 minibatch loss: 44.8435 minibatch accuracy: 53.1% validation accuracy: 55.8%\n",
        "step:"
       ]
      },
      {
       "output_type": "stream",
       "stream": "stdout",
       "text": [
        " 401000 minibatch loss: 44.5791 minibatch accuracy: 59.4% validation accuracy: 56.4%\n",
        "step:"
       ]
      },
      {
       "output_type": "stream",
       "stream": "stdout",
       "text": [
        " 402000 minibatch loss: 44.2906 minibatch accuracy: 56.2% validation accuracy: 56.9%\n",
        "step:"
       ]
      },
      {
       "output_type": "stream",
       "stream": "stdout",
       "text": [
        " 403000 minibatch loss: 44.2275 minibatch accuracy: 59.4% validation accuracy: 56.4%\n",
        "step:"
       ]
      },
      {
       "output_type": "stream",
       "stream": "stdout",
       "text": [
        " 404000 minibatch loss: 44.0173 minibatch accuracy: 65.6% validation accuracy: 56.6%\n",
        "step:"
       ]
      },
      {
       "output_type": "stream",
       "stream": "stdout",
       "text": [
        " 405000 minibatch loss: 44.1478 minibatch accuracy: 53.1% validation accuracy: 56.1%\n",
        "step:"
       ]
      },
      {
       "output_type": "stream",
       "stream": "stdout",
       "text": [
        " 406000 minibatch loss: 43.6758 minibatch accuracy: 62.5% validation accuracy: 56.1%\n",
        "step:"
       ]
      },
      {
       "output_type": "stream",
       "stream": "stdout",
       "text": [
        " 407000 minibatch loss: 43.5683 minibatch accuracy: 59.4% validation accuracy: 56.8%\n",
        "step:"
       ]
      },
      {
       "output_type": "stream",
       "stream": "stdout",
       "text": [
        " 408000 minibatch loss: 43.4602 minibatch accuracy: 56.2% validation accuracy: 56.1%\n",
        "step:"
       ]
      },
      {
       "output_type": "stream",
       "stream": "stdout",
       "text": [
        " 409000 minibatch loss: 43.71 minibatch accuracy: 31.2% validation accuracy: 56.6%\n",
        "step:"
       ]
      },
      {
       "output_type": "stream",
       "stream": "stdout",
       "text": [
        " 410000 minibatch loss: 43.2907 minibatch accuracy: 46.9% validation accuracy: 56.3%\n",
        "step:"
       ]
      },
      {
       "output_type": "stream",
       "stream": "stdout",
       "text": [
        " 411000 minibatch loss: 43.0844 minibatch accuracy: 59.4% validation accuracy: 56.7%\n",
        "step:"
       ]
      },
      {
       "output_type": "stream",
       "stream": "stdout",
       "text": [
        " 412000 minibatch loss: 42.9154 minibatch accuracy: 50.0% validation accuracy: 56.5%\n",
        "step:"
       ]
      },
      {
       "output_type": "stream",
       "stream": "stdout",
       "text": [
        " 413000 minibatch loss: 42.6665 minibatch accuracy: 53.1% validation accuracy: 56.5%\n",
        "step:"
       ]
      },
      {
       "output_type": "stream",
       "stream": "stdout",
       "text": [
        " 414000 minibatch loss: 42.4154 minibatch accuracy: 68.8% validation accuracy: 56.6%\n",
        "step:"
       ]
      },
      {
       "output_type": "stream",
       "stream": "stdout",
       "text": [
        " 415000 minibatch loss: 42.3357 minibatch accuracy: 59.4% validation accuracy: 56.6%\n",
        "step:"
       ]
      },
      {
       "output_type": "stream",
       "stream": "stdout",
       "text": [
        " 416000 minibatch loss: 42.0143 minibatch accuracy: 81.2% validation accuracy: 56.1%\n",
        "step:"
       ]
      },
      {
       "output_type": "stream",
       "stream": "stdout",
       "text": [
        " 417000 minibatch loss: 42.031 minibatch accuracy: 56.2% validation accuracy: 56.3%\n",
        "step:"
       ]
      },
      {
       "output_type": "stream",
       "stream": "stdout",
       "text": [
        " 418000 minibatch loss: 42.006 minibatch accuracy: 50.0% validation accuracy: 55.3%\n",
        "step:"
       ]
      },
      {
       "output_type": "stream",
       "stream": "stdout",
       "text": [
        " 419000 minibatch loss: 41.8473 minibatch accuracy: 56.2% validation accuracy: 57.1%\n",
        "step:"
       ]
      },
      {
       "output_type": "stream",
       "stream": "stdout",
       "text": [
        " 420000 minibatch loss: 41.6882 minibatch accuracy: 62.5% validation accuracy: 55.9%\n",
        "step:"
       ]
      },
      {
       "output_type": "stream",
       "stream": "stdout",
       "text": [
        " 421000 minibatch loss: 41.5273 minibatch accuracy: 75.0% validation accuracy: 56.9%\n",
        "step:"
       ]
      },
      {
       "output_type": "stream",
       "stream": "stdout",
       "text": [
        " 422000 minibatch loss: 41.1707 minibatch accuracy: 68.8% validation accuracy: 57.1%\n",
        "step:"
       ]
      },
      {
       "output_type": "stream",
       "stream": "stdout",
       "text": [
        " 423000 minibatch loss: 41.4118 minibatch accuracy: 50.0% validation accuracy: 55.1%\n",
        "step:"
       ]
      },
      {
       "output_type": "stream",
       "stream": "stdout",
       "text": [
        " 424000 minibatch loss: 41.1693 minibatch accuracy: 43.8% validation accuracy: 56.7%\n",
        "step:"
       ]
      },
      {
       "output_type": "stream",
       "stream": "stdout",
       "text": [
        " 425000 minibatch loss: 41.0507 minibatch accuracy: 56.2% validation accuracy: 55.1%\n",
        "step:"
       ]
      },
      {
       "output_type": "stream",
       "stream": "stdout",
       "text": [
        " 426000 minibatch loss: 40.8493 minibatch accuracy: 65.6% validation accuracy: 56.7%\n",
        "step:"
       ]
      },
      {
       "output_type": "stream",
       "stream": "stdout",
       "text": [
        " 427000 minibatch loss: 40.5264 minibatch accuracy: 68.8% validation accuracy: 57.1%\n",
        "step:"
       ]
      },
      {
       "output_type": "stream",
       "stream": "stdout",
       "text": [
        " 428000 minibatch loss: 40.6964 minibatch accuracy: 56.2% validation accuracy: 55.2%\n",
        "step:"
       ]
      },
      {
       "output_type": "stream",
       "stream": "stdout",
       "text": [
        " 429000 minibatch loss: 40.5631 minibatch accuracy: 46.9% validation accuracy: 56.9%\n",
        "step:"
       ]
      },
      {
       "output_type": "stream",
       "stream": "stdout",
       "text": [
        " 430000 minibatch loss: 40.3715 minibatch accuracy: 53.1% validation accuracy: 57.4%\n",
        "step:"
       ]
      },
      {
       "output_type": "stream",
       "stream": "stdout",
       "text": [
        " 431000 minibatch loss: 40.2005 minibatch accuracy: 46.9% validation accuracy: 57.0%\n",
        "step:"
       ]
      },
      {
       "output_type": "stream",
       "stream": "stdout",
       "text": [
        " 432000 minibatch loss: 40.1608 minibatch accuracy: 53.1% validation accuracy: 56.4%\n",
        "step:"
       ]
      },
      {
       "output_type": "stream",
       "stream": "stdout",
       "text": [
        " 433000 minibatch loss: 40.1313 minibatch accuracy: 46.9% validation accuracy: 56.4%\n",
        "step:"
       ]
      },
      {
       "output_type": "stream",
       "stream": "stdout",
       "text": [
        " 434000 minibatch loss: 39.7108 minibatch accuracy: 62.5% validation accuracy: 57.2%\n",
        "step:"
       ]
      },
      {
       "output_type": "stream",
       "stream": "stdout",
       "text": [
        " 435000 minibatch loss: 39.6076 minibatch accuracy: 46.9% validation accuracy: 57.3%\n",
        "step:"
       ]
      },
      {
       "output_type": "stream",
       "stream": "stdout",
       "text": [
        " 436000 minibatch loss: 39.7542 minibatch accuracy: 43.8% validation accuracy: 57.1%\n",
        "step:"
       ]
      },
      {
       "output_type": "stream",
       "stream": "stdout",
       "text": [
        " 437000 minibatch loss: 39.5502 minibatch accuracy: 59.4% validation accuracy: 56.9%\n",
        "step:"
       ]
      },
      {
       "output_type": "stream",
       "stream": "stdout",
       "text": [
        " 438000 minibatch loss: 39.3452 minibatch accuracy: 40.6% validation accuracy: 57.0%\n",
        "step:"
       ]
      },
      {
       "output_type": "stream",
       "stream": "stdout",
       "text": [
        " 439000 minibatch loss: 38.9587 minibatch accuracy: 59.4% validation accuracy: 56.8%\n",
        "step:"
       ]
      },
      {
       "output_type": "stream",
       "stream": "stdout",
       "text": [
        " 440000 minibatch loss: 38.8195 minibatch accuracy: 68.8% validation accuracy: 57.4%\n",
        "step:"
       ]
      },
      {
       "output_type": "stream",
       "stream": "stdout",
       "text": [
        " 441000 minibatch loss: 38.8289 minibatch accuracy: 62.5% validation accuracy: 57.2%\n",
        "step:"
       ]
      },
      {
       "output_type": "stream",
       "stream": "stdout",
       "text": [
        " 442000 minibatch loss: 39.0597 minibatch accuracy: 31.2% validation accuracy: 56.7%\n",
        "step:"
       ]
      },
      {
       "output_type": "stream",
       "stream": "stdout",
       "text": [
        " 443000 minibatch loss: 38.5855 minibatch accuracy: 68.8% validation accuracy: 57.2%\n",
        "step:"
       ]
      },
      {
       "output_type": "stream",
       "stream": "stdout",
       "text": [
        " 444000 minibatch loss: 38.5439 minibatch accuracy: 53.1% validation accuracy: 56.4%\n",
        "step:"
       ]
      },
      {
       "output_type": "stream",
       "stream": "stdout",
       "text": [
        " 445000 minibatch loss: 38.1806 minibatch accuracy: 59.4% validation accuracy: 56.2%\n",
        "step:"
       ]
      },
      {
       "output_type": "stream",
       "stream": "stdout",
       "text": [
        " 446000 minibatch loss: 38.5199 minibatch accuracy: 50.0% validation accuracy: 56.6%\n",
        "step:"
       ]
      },
      {
       "output_type": "stream",
       "stream": "stdout",
       "text": [
        " 447000 minibatch loss: 38.3387 minibatch accuracy: 43.8% validation accuracy: 57.6%\n",
        "step:"
       ]
      },
      {
       "output_type": "stream",
       "stream": "stdout",
       "text": [
        " 448000 minibatch loss: 37.7843 minibatch accuracy: 71.9% validation accuracy: 56.9%\n",
        "step:"
       ]
      },
      {
       "output_type": "stream",
       "stream": "stdout",
       "text": [
        " 449000 minibatch loss: 37.7655 minibatch accuracy: 56.2% validation accuracy: 57.3%\n",
        "step:"
       ]
      },
      {
       "output_type": "stream",
       "stream": "stdout",
       "text": [
        " 450000 minibatch loss: 37.7069 minibatch accuracy: 43.8% validation accuracy: 56.8%\n",
        "step:"
       ]
      },
      {
       "output_type": "stream",
       "stream": "stdout",
       "text": [
        " 451000 minibatch loss: 37.4581 minibatch accuracy: 65.6% validation accuracy: 57.0%\n",
        "step:"
       ]
      },
      {
       "output_type": "stream",
       "stream": "stdout",
       "text": [
        " 452000 minibatch loss: 37.2845 minibatch accuracy: 65.6% validation accuracy: 57.6%\n",
        "step:"
       ]
      },
      {
       "output_type": "stream",
       "stream": "stdout",
       "text": [
        " 453000 minibatch loss: 37.1596 minibatch accuracy: 71.9% validation accuracy: 56.4%\n",
        "step:"
       ]
      },
      {
       "output_type": "stream",
       "stream": "stdout",
       "text": [
        " 454000 minibatch loss: 37.0698 minibatch accuracy: 71.9% validation accuracy: 57.2%\n",
        "step:"
       ]
      },
      {
       "output_type": "stream",
       "stream": "stdout",
       "text": [
        " 455000 minibatch loss: 36.8833 minibatch accuracy: 62.5% validation accuracy: 57.1%\n",
        "step:"
       ]
      },
      {
       "output_type": "stream",
       "stream": "stdout",
       "text": [
        " 456000 minibatch loss: 36.7366 minibatch accuracy: 65.6% validation accuracy: 55.9%\n",
        "step:"
       ]
      },
      {
       "output_type": "stream",
       "stream": "stdout",
       "text": [
        " 457000 minibatch loss: 36.8713 minibatch accuracy: 62.5% validation accuracy: 57.3%\n",
        "step:"
       ]
      },
      {
       "output_type": "stream",
       "stream": "stdout",
       "text": [
        " 458000 minibatch loss: 36.7025 minibatch accuracy: 65.6% validation accuracy: 56.8%\n",
        "step:"
       ]
      },
      {
       "output_type": "stream",
       "stream": "stdout",
       "text": [
        " 459000 minibatch loss: 36.529 minibatch accuracy: 53.1% validation accuracy: 57.3%\n",
        "step:"
       ]
      },
      {
       "output_type": "stream",
       "stream": "stdout",
       "text": [
        " 460000 minibatch loss: 36.5901 minibatch accuracy: 53.1% validation accuracy: 56.2%\n",
        "step:"
       ]
      },
      {
       "output_type": "stream",
       "stream": "stdout",
       "text": [
        " 461000 minibatch loss: 36.2319 minibatch accuracy: 53.1% validation accuracy: 56.2%\n",
        "step:"
       ]
      },
      {
       "output_type": "stream",
       "stream": "stdout",
       "text": [
        " 462000 minibatch loss: 36.3358 minibatch accuracy: 46.9% validation accuracy: 56.8%\n",
        "step:"
       ]
      },
      {
       "output_type": "stream",
       "stream": "stdout",
       "text": [
        " 463000 minibatch loss: 36.0727 minibatch accuracy: 62.5% validation accuracy: 57.2%\n",
        "step:"
       ]
      },
      {
       "output_type": "stream",
       "stream": "stdout",
       "text": [
        " 464000 minibatch loss: 36.167 minibatch accuracy: 50.0% validation accuracy: 56.2%\n",
        "step:"
       ]
      },
      {
       "output_type": "stream",
       "stream": "stdout",
       "text": [
        " 465000 minibatch loss: 35.7455 minibatch accuracy: 68.8% validation accuracy: 57.4%\n",
        "step:"
       ]
      },
      {
       "output_type": "stream",
       "stream": "stdout",
       "text": [
        " 466000 minibatch loss: 35.8255 minibatch accuracy: 53.1% validation accuracy: 54.8%\n",
        "step:"
       ]
      },
      {
       "output_type": "stream",
       "stream": "stdout",
       "text": [
        " 467000 minibatch loss: 35.7213 minibatch accuracy: 56.2% validation accuracy: 57.7%\n",
        "step:"
       ]
      },
      {
       "output_type": "stream",
       "stream": "stdout",
       "text": [
        " 468000 minibatch loss: 35.4224 minibatch accuracy: 65.6% validation accuracy: 56.1%\n",
        "step:"
       ]
      },
      {
       "output_type": "stream",
       "stream": "stdout",
       "text": [
        " 469000 minibatch loss: 35.6504 minibatch accuracy: 53.1% validation accuracy: 57.8%\n",
        "step:"
       ]
      },
      {
       "output_type": "stream",
       "stream": "stdout",
       "text": [
        " 470000 minibatch loss: 35.4097 minibatch accuracy: 56.2% validation accuracy: 56.6%\n",
        "step:"
       ]
      },
      {
       "output_type": "stream",
       "stream": "stdout",
       "text": [
        " 471000 minibatch loss: 35.0676 minibatch accuracy: 62.5% validation accuracy: 57.6%\n",
        "step:"
       ]
      },
      {
       "output_type": "stream",
       "stream": "stdout",
       "text": [
        " 472000 minibatch loss: 34.9965 minibatch accuracy: 53.1% validation accuracy: 57.9%\n",
        "step:"
       ]
      },
      {
       "output_type": "stream",
       "stream": "stdout",
       "text": [
        " 473000 minibatch loss: 35.0258 minibatch accuracy: 65.6% validation accuracy: 57.5%\n",
        "step:"
       ]
      },
      {
       "output_type": "stream",
       "stream": "stdout",
       "text": [
        " 474000 minibatch loss: 34.9642 minibatch accuracy: 62.5% validation accuracy: 57.6%\n",
        "step:"
       ]
      },
      {
       "output_type": "stream",
       "stream": "stdout",
       "text": [
        " 475000 minibatch loss: 34.5054 minibatch accuracy: 65.6% validation accuracy: 57.7%\n",
        "step:"
       ]
      },
      {
       "output_type": "stream",
       "stream": "stdout",
       "text": [
        " 476000 minibatch loss: 34.3906 minibatch accuracy: 68.8% validation accuracy: 56.2%\n",
        "step:"
       ]
      },
      {
       "output_type": "stream",
       "stream": "stdout",
       "text": [
        " 477000 minibatch loss: 34.6068 minibatch accuracy: 65.6% validation accuracy: 57.1%\n",
        "step:"
       ]
      },
      {
       "output_type": "stream",
       "stream": "stdout",
       "text": [
        " 478000 minibatch loss: 34.3588 minibatch accuracy: 59.4% validation accuracy: 56.6%\n",
        "step:"
       ]
      },
      {
       "output_type": "stream",
       "stream": "stdout",
       "text": [
        " 479000 minibatch loss: 34.5101 minibatch accuracy: 53.1% validation accuracy: 56.4%\n",
        "step:"
       ]
      },
      {
       "output_type": "stream",
       "stream": "stdout",
       "text": [
        " 480000 minibatch loss: 34.4565 minibatch accuracy: 50.0% validation accuracy: 56.8%\n",
        "step:"
       ]
      },
      {
       "output_type": "stream",
       "stream": "stdout",
       "text": [
        " 481000 minibatch loss: 34.2442 minibatch accuracy: 56.2% validation accuracy: 55.4%\n",
        "step:"
       ]
      },
      {
       "output_type": "stream",
       "stream": "stdout",
       "text": [
        " 482000 minibatch loss: 33.899 minibatch accuracy: 59.4% validation accuracy: 57.8%\n",
        "step:"
       ]
      },
      {
       "output_type": "stream",
       "stream": "stdout",
       "text": [
        " 483000 minibatch loss: 33.6448 minibatch accuracy: 68.8% validation accuracy: 57.6%\n",
        "step:"
       ]
      },
      {
       "output_type": "stream",
       "stream": "stdout",
       "text": [
        " 484000 minibatch loss: 33.661 minibatch accuracy: 56.2% validation accuracy: 57.6%\n",
        "step:"
       ]
      },
      {
       "output_type": "stream",
       "stream": "stdout",
       "text": [
        " 485000 minibatch loss: 33.4395 minibatch accuracy: 53.1% validation accuracy: 57.7%\n",
        "step:"
       ]
      },
      {
       "output_type": "stream",
       "stream": "stdout",
       "text": [
        " 486000 minibatch loss: 33.4088 minibatch accuracy: 59.4% validation accuracy: 57.9%\n",
        "step:"
       ]
      },
      {
       "output_type": "stream",
       "stream": "stdout",
       "text": [
        " 487000 minibatch loss: 33.2244 minibatch accuracy: 62.5% validation accuracy: 57.3%\n",
        "step:"
       ]
      },
      {
       "output_type": "stream",
       "stream": "stdout",
       "text": [
        " 488000 minibatch loss: 33.1978 minibatch accuracy: 68.8% validation accuracy: 57.3%\n",
        "step:"
       ]
      },
      {
       "output_type": "stream",
       "stream": "stdout",
       "text": [
        " 489000 minibatch loss: 33.3085 minibatch accuracy: 53.1% validation accuracy: 56.9%\n",
        "step:"
       ]
      },
      {
       "output_type": "stream",
       "stream": "stdout",
       "text": [
        " 490000 minibatch loss: 33.0734 minibatch accuracy: 56.2% validation accuracy: 57.5%\n",
        "step:"
       ]
      },
      {
       "output_type": "stream",
       "stream": "stdout",
       "text": [
        " 491000 minibatch loss: 32.6881 minibatch accuracy: 75.0% validation accuracy: 56.5%\n",
        "step:"
       ]
      },
      {
       "output_type": "stream",
       "stream": "stdout",
       "text": [
        " 492000 minibatch loss: 32.6936 minibatch accuracy: 75.0% validation accuracy: 56.5%\n",
        "step:"
       ]
      },
      {
       "output_type": "stream",
       "stream": "stdout",
       "text": [
        " 493000 minibatch loss: 32.8213 minibatch accuracy: 59.4% validation accuracy: 57.4%\n",
        "step:"
       ]
      },
      {
       "output_type": "stream",
       "stream": "stdout",
       "text": [
        " 494000 minibatch loss: 32.6543 minibatch accuracy: 59.4% validation accuracy: 57.4%\n",
        "step:"
       ]
      },
      {
       "output_type": "stream",
       "stream": "stdout",
       "text": [
        " 495000 minibatch loss: 32.5987 minibatch accuracy: 56.2% validation accuracy: 57.5%\n",
        "step:"
       ]
      },
      {
       "output_type": "stream",
       "stream": "stdout",
       "text": [
        " 496000 minibatch loss: 32.3025 minibatch accuracy: 65.6% validation accuracy: 57.6%\n",
        "step:"
       ]
      },
      {
       "output_type": "stream",
       "stream": "stdout",
       "text": [
        " 497000 minibatch loss: 32.3283 minibatch accuracy: 50.0% validation accuracy: 57.5%\n",
        "step:"
       ]
      },
      {
       "output_type": "stream",
       "stream": "stdout",
       "text": [
        " 498000 minibatch loss: 32.1755 minibatch accuracy: 62.5% validation accuracy: 57.9%\n",
        "step:"
       ]
      },
      {
       "output_type": "stream",
       "stream": "stdout",
       "text": [
        " 499000 minibatch loss: 32.0941 minibatch accuracy: 62.5% validation accuracy: 57.0%\n",
        "step:"
       ]
      },
      {
       "output_type": "stream",
       "stream": "stdout",
       "text": [
        " 500000 minibatch loss: 31.9302 minibatch accuracy: 53.1% validation accuracy: 57.9%\n",
        "step:"
       ]
      },
      {
       "output_type": "stream",
       "stream": "stdout",
       "text": [
        " 501000 minibatch loss: 32.2502 minibatch accuracy: 46.9% validation accuracy: 57.5%\n",
        "step:"
       ]
      },
      {
       "output_type": "stream",
       "stream": "stdout",
       "text": [
        " 502000 minibatch loss: 31.674 minibatch accuracy: 62.5% validation accuracy: 57.9%\n",
        "step:"
       ]
      },
      {
       "output_type": "stream",
       "stream": "stdout",
       "text": [
        " 503000 minibatch loss: 31.6419 minibatch accuracy: 56.2% validation accuracy: 57.9%\n",
        "step:"
       ]
      },
      {
       "output_type": "stream",
       "stream": "stdout",
       "text": [
        " 504000 minibatch loss: 31.3336 minibatch accuracy: 62.5% validation accuracy: 58.0%\n",
        "step:"
       ]
      },
      {
       "output_type": "stream",
       "stream": "stdout",
       "text": [
        " 505000 minibatch loss: 31.5188 minibatch accuracy: 46.9% validation accuracy: 57.0%\n",
        "step:"
       ]
      },
      {
       "output_type": "stream",
       "stream": "stdout",
       "text": [
        " 506000 minibatch loss: 31.8312 minibatch accuracy: 37.5% validation accuracy: 57.4%\n",
        "step:"
       ]
      },
      {
       "output_type": "stream",
       "stream": "stdout",
       "text": [
        " 507000 minibatch loss: 31.5581 minibatch accuracy: 56.2% validation accuracy: 56.3%\n",
        "step:"
       ]
      },
      {
       "output_type": "stream",
       "stream": "stdout",
       "text": [
        " 508000 minibatch loss: 31.1127 minibatch accuracy: 71.9% validation accuracy: 57.6%\n",
        "step:"
       ]
      },
      {
       "output_type": "stream",
       "stream": "stdout",
       "text": [
        " 509000 minibatch loss: 31.2498 minibatch accuracy: 43.8% validation accuracy: 57.3%\n",
        "step:"
       ]
      },
      {
       "output_type": "stream",
       "stream": "stdout",
       "text": [
        " 510000 minibatch loss: 31.283 minibatch accuracy: 50.0% validation accuracy: 57.9%\n",
        "step:"
       ]
      },
      {
       "output_type": "stream",
       "stream": "stdout",
       "text": [
        " 511000 minibatch loss: 31.2193 minibatch accuracy: 65.6% validation accuracy: 57.2%\n",
        "step:"
       ]
      },
      {
       "output_type": "stream",
       "stream": "stdout",
       "text": [
        " 512000 minibatch loss: 30.9007 minibatch accuracy: 56.2% validation accuracy: 58.1%\n",
        "step:"
       ]
      },
      {
       "output_type": "stream",
       "stream": "stdout",
       "text": [
        " 513000 minibatch loss: 30.8204 minibatch accuracy: 56.2% validation accuracy: 57.5%\n",
        "step:"
       ]
      },
      {
       "output_type": "stream",
       "stream": "stdout",
       "text": [
        " 514000 minibatch loss: 30.544 minibatch accuracy: 56.2% validation accuracy: 57.7%\n",
        "step:"
       ]
      },
      {
       "output_type": "stream",
       "stream": "stdout",
       "text": [
        " 515000 minibatch loss: 30.4743 minibatch accuracy: 56.2% validation accuracy: 56.7%\n",
        "step:"
       ]
      },
      {
       "output_type": "stream",
       "stream": "stdout",
       "text": [
        " 516000 minibatch loss: 30.4124 minibatch accuracy: 68.8% validation accuracy: 57.4%\n",
        "step:"
       ]
      },
      {
       "output_type": "stream",
       "stream": "stdout",
       "text": [
        " 517000 minibatch loss: 30.3969 minibatch accuracy: 59.4% validation accuracy: 57.7%\n",
        "step:"
       ]
      },
      {
       "output_type": "stream",
       "stream": "stdout",
       "text": [
        " 518000 minibatch loss: 30.0088 minibatch accuracy: 71.9% validation accuracy: 57.9%\n",
        "step:"
       ]
      },
      {
       "output_type": "stream",
       "stream": "stdout",
       "text": [
        " 519000 minibatch loss: 30.0051 minibatch accuracy: 56.2% validation accuracy: 58.1%\n",
        "step:"
       ]
      },
      {
       "output_type": "stream",
       "stream": "stdout",
       "text": [
        " 520000 minibatch loss: 29.9564 minibatch accuracy: 68.8% validation accuracy: 57.3%\n",
        "step:"
       ]
      },
      {
       "output_type": "stream",
       "stream": "stdout",
       "text": [
        " 521000 minibatch loss: 29.7672 minibatch accuracy: 68.8% validation accuracy: 57.5%\n",
        "step:"
       ]
      },
      {
       "output_type": "stream",
       "stream": "stdout",
       "text": [
        " 522000 minibatch loss: 29.9212 minibatch accuracy: 56.2% validation accuracy: 57.0%\n",
        "step:"
       ]
      },
      {
       "output_type": "stream",
       "stream": "stdout",
       "text": [
        " 523000 minibatch loss: 29.7093 minibatch accuracy: 59.4% validation accuracy: 57.7%\n",
        "step:"
       ]
      },
      {
       "output_type": "stream",
       "stream": "stdout",
       "text": [
        " 524000 minibatch loss: 29.7146 minibatch accuracy: 56.2% validation accuracy: 58.0%\n",
        "step:"
       ]
      },
      {
       "output_type": "stream",
       "stream": "stdout",
       "text": [
        " 525000 minibatch loss: 29.3298 minibatch accuracy: 65.6% validation accuracy: 57.8%\n",
        "step:"
       ]
      },
      {
       "output_type": "stream",
       "stream": "stdout",
       "text": [
        " 526000 minibatch loss: 29.6666 minibatch accuracy: 53.1% validation accuracy: 57.2%\n",
        "step:"
       ]
      },
      {
       "output_type": "stream",
       "stream": "stdout",
       "text": [
        " 527000 minibatch loss: 29.4486 minibatch accuracy: 62.5% validation accuracy: 57.1%\n",
        "step:"
       ]
      },
      {
       "output_type": "stream",
       "stream": "stdout",
       "text": [
        " 528000 minibatch loss: 29.1371 minibatch accuracy: 65.6% validation accuracy: 57.9%\n",
        "step:"
       ]
      },
      {
       "output_type": "stream",
       "stream": "stdout",
       "text": [
        " 529000 minibatch loss: 29.4249 minibatch accuracy: 59.4% validation accuracy: 57.8%\n",
        "step:"
       ]
      },
      {
       "output_type": "stream",
       "stream": "stdout",
       "text": [
        " 530000 minibatch loss: 29.0908 minibatch accuracy: 53.1% validation accuracy: 57.7%\n",
        "step:"
       ]
      },
      {
       "output_type": "stream",
       "stream": "stdout",
       "text": [
        " 531000 minibatch loss: 29.1187 minibatch accuracy: 53.1% validation accuracy: 57.3%\n",
        "step:"
       ]
      },
      {
       "output_type": "stream",
       "stream": "stdout",
       "text": [
        " 532000 minibatch loss: 28.8186 minibatch accuracy: 65.6% validation accuracy: 58.0%\n",
        "step:"
       ]
      },
      {
       "output_type": "stream",
       "stream": "stdout",
       "text": [
        " 533000 minibatch loss: 29.0202 minibatch accuracy: 46.9% validation accuracy: 57.5%\n",
        "step:"
       ]
      },
      {
       "output_type": "stream",
       "stream": "stdout",
       "text": [
        " 534000 minibatch loss: 28.6992 minibatch accuracy: 71.9% validation accuracy: 57.3%\n",
        "step:"
       ]
      },
      {
       "output_type": "stream",
       "stream": "stdout",
       "text": [
        " 535000 minibatch loss: 28.9194 minibatch accuracy: 53.1% validation accuracy: 57.6%\n",
        "step:"
       ]
      },
      {
       "output_type": "stream",
       "stream": "stdout",
       "text": [
        " 536000 minibatch loss: 28.6028 minibatch accuracy: 65.6% validation accuracy: 58.1%\n",
        "step:"
       ]
      },
      {
       "output_type": "stream",
       "stream": "stdout",
       "text": [
        " 537000 minibatch loss: 28.4816 minibatch accuracy: 56.2% validation accuracy: 57.5%\n",
        "step:"
       ]
      },
      {
       "output_type": "stream",
       "stream": "stdout",
       "text": [
        " 538000 minibatch loss: 28.3532 minibatch accuracy: 65.6% validation accuracy: 57.3%\n",
        "step:"
       ]
      },
      {
       "output_type": "stream",
       "stream": "stdout",
       "text": [
        " 539000 minibatch loss: 28.3703 minibatch accuracy: 62.5% validation accuracy: 57.4%\n",
        "step:"
       ]
      },
      {
       "output_type": "stream",
       "stream": "stdout",
       "text": [
        " 540000 minibatch loss: 28.1103 minibatch accuracy: 65.6% validation accuracy: 57.4%\n",
        "step:"
       ]
      },
      {
       "output_type": "stream",
       "stream": "stdout",
       "text": [
        " 541000 minibatch loss: 28.2658 minibatch accuracy: 59.4% validation accuracy: 58.5%\n",
        "step:"
       ]
      },
      {
       "output_type": "stream",
       "stream": "stdout",
       "text": [
        " 542000 minibatch loss: 27.992 minibatch accuracy: 56.2% validation accuracy: 58.4%\n",
        "step:"
       ]
      },
      {
       "output_type": "stream",
       "stream": "stdout",
       "text": [
        " 543000 minibatch loss: 27.7924 minibatch accuracy: 71.9% validation accuracy: 57.9%\n",
        "step:"
       ]
      },
      {
       "output_type": "stream",
       "stream": "stdout",
       "text": [
        " 544000 minibatch loss: 28.1877 minibatch accuracy: 40.6% validation accuracy: 57.7%\n",
        "step:"
       ]
      },
      {
       "output_type": "stream",
       "stream": "stdout",
       "text": [
        " 545000 minibatch loss: 27.6375 minibatch accuracy: 78.1% validation accuracy: 57.5%\n",
        "step:"
       ]
      },
      {
       "output_type": "stream",
       "stream": "stdout",
       "text": [
        " 546000 minibatch loss: 27.5856 minibatch accuracy: 62.5% validation accuracy: 58.2%\n",
        "step:"
       ]
      },
      {
       "output_type": "stream",
       "stream": "stdout",
       "text": [
        " 547000 minibatch loss: 27.7135 minibatch accuracy: 62.5% validation accuracy: 56.9%\n",
        "step:"
       ]
      },
      {
       "output_type": "stream",
       "stream": "stdout",
       "text": [
        " 548000 minibatch loss: 27.4667 minibatch accuracy: 68.8% validation accuracy: 58.0%\n",
        "step:"
       ]
      },
      {
       "output_type": "stream",
       "stream": "stdout",
       "text": [
        " 549000 minibatch loss: 27.5883 minibatch accuracy: 53.1% validation accuracy: 57.9%\n",
        "step:"
       ]
      },
      {
       "output_type": "stream",
       "stream": "stdout",
       "text": [
        " 550000 minibatch loss: 27.4425 minibatch accuracy: 56.2% validation accuracy: 57.7%\n",
        "step:"
       ]
      },
      {
       "output_type": "stream",
       "stream": "stdout",
       "text": [
        " 551000 minibatch loss: 27.3459 minibatch accuracy: 65.6% validation accuracy: 58.2%\n",
        "step:"
       ]
      },
      {
       "output_type": "stream",
       "stream": "stdout",
       "text": [
        " 552000 minibatch loss: 27.4443 minibatch accuracy: 53.1% validation accuracy: 57.9%\n",
        "step:"
       ]
      },
      {
       "output_type": "stream",
       "stream": "stdout",
       "text": [
        " 553000 minibatch loss: 27.3182 minibatch accuracy: 46.9% validation accuracy: 57.7%\n",
        "step:"
       ]
      },
      {
       "output_type": "stream",
       "stream": "stdout",
       "text": [
        " 554000 minibatch loss: 27.1824 minibatch accuracy: 56.2% validation accuracy: 54.9%\n",
        "step:"
       ]
      },
      {
       "output_type": "stream",
       "stream": "stdout",
       "text": [
        " 555000 minibatch loss: 27.0201 minibatch accuracy: 62.5% validation accuracy: 57.8%\n",
        "step:"
       ]
      },
      {
       "output_type": "stream",
       "stream": "stdout",
       "text": [
        " 556000 minibatch loss: 27.0861 minibatch accuracy: 59.4% validation accuracy: 57.7%\n",
        "step:"
       ]
      },
      {
       "output_type": "stream",
       "stream": "stdout",
       "text": [
        " 557000 minibatch loss: 27.0229 minibatch accuracy: 62.5% validation accuracy: 58.0%\n",
        "step:"
       ]
      },
      {
       "output_type": "stream",
       "stream": "stdout",
       "text": [
        " 558000 minibatch loss: 26.8787 minibatch accuracy: 53.1% validation accuracy: 58.1%\n",
        "step:"
       ]
      },
      {
       "output_type": "stream",
       "stream": "stdout",
       "text": [
        " 559000 minibatch loss: 26.7552 minibatch accuracy: 53.1% validation accuracy: 56.8%\n",
        "step:"
       ]
      },
      {
       "output_type": "stream",
       "stream": "stdout",
       "text": [
        " 560000 minibatch loss: 26.7856 minibatch accuracy: 50.0% validation accuracy: 58.2%\n",
        "step:"
       ]
      },
      {
       "output_type": "stream",
       "stream": "stdout",
       "text": [
        " 561000 minibatch loss: 26.4904 minibatch accuracy: 65.6% validation accuracy: 58.0%\n",
        "step:"
       ]
      },
      {
       "output_type": "stream",
       "stream": "stdout",
       "text": [
        " 562000 minibatch loss: 26.57 minibatch accuracy: 53.1% validation accuracy: 58.4%\n",
        "step:"
       ]
      },
      {
       "output_type": "stream",
       "stream": "stdout",
       "text": [
        " 563000 minibatch loss: 26.6864 minibatch accuracy: 46.9% validation accuracy: 56.9%\n",
        "step:"
       ]
      },
      {
       "output_type": "stream",
       "stream": "stdout",
       "text": [
        " 564000 minibatch loss: 26.1716 minibatch accuracy: 62.5% validation accuracy: 58.6%\n",
        "step:"
       ]
      },
      {
       "output_type": "stream",
       "stream": "stdout",
       "text": [
        " 565000 minibatch loss: 26.1407 minibatch accuracy: 65.6% validation accuracy: 57.8%\n",
        "step:"
       ]
      },
      {
       "output_type": "stream",
       "stream": "stdout",
       "text": [
        " 566000 minibatch loss: 25.7546 minibatch accuracy: 78.1% validation accuracy: 57.7%\n",
        "step:"
       ]
      },
      {
       "output_type": "stream",
       "stream": "stdout",
       "text": [
        " 567000 minibatch loss: 26.1038 minibatch accuracy: 59.4% validation accuracy: 58.7%\n",
        "step:"
       ]
      },
      {
       "output_type": "stream",
       "stream": "stdout",
       "text": [
        " 568000 minibatch loss: 25.9023 minibatch accuracy: 71.9% validation accuracy: 57.1%\n",
        "step:"
       ]
      },
      {
       "output_type": "stream",
       "stream": "stdout",
       "text": [
        " 569000 minibatch loss: 26.0417 minibatch accuracy: 56.2% validation accuracy: 58.4%\n",
        "step:"
       ]
      },
      {
       "output_type": "stream",
       "stream": "stdout",
       "text": [
        " 570000 minibatch loss: 25.8017 minibatch accuracy: 50.0% validation accuracy: 57.7%\n",
        "step:"
       ]
      },
      {
       "output_type": "stream",
       "stream": "stdout",
       "text": [
        " 571000 minibatch loss: 25.5988 minibatch accuracy: 68.8% validation accuracy: 58.0%\n",
        "step:"
       ]
      },
      {
       "output_type": "stream",
       "stream": "stdout",
       "text": [
        " 572000 minibatch loss: 26.0349 minibatch accuracy: 43.8% validation accuracy: 58.2%\n",
        "step:"
       ]
      },
      {
       "output_type": "stream",
       "stream": "stdout",
       "text": [
        " 573000 minibatch loss: 25.7939 minibatch accuracy: 56.2% validation accuracy: 58.3%\n",
        "step:"
       ]
      },
      {
       "output_type": "stream",
       "stream": "stdout",
       "text": [
        " 574000 minibatch loss: 25.8788 minibatch accuracy: 53.1% validation accuracy: 58.4%\n",
        "step:"
       ]
      },
      {
       "output_type": "stream",
       "stream": "stdout",
       "text": [
        " 575000 minibatch loss: 25.3012 minibatch accuracy: 71.9% validation accuracy: 57.1%\n",
        "step:"
       ]
      },
      {
       "output_type": "stream",
       "stream": "stdout",
       "text": [
        " 576000 minibatch loss: 25.2557 minibatch accuracy: 68.8% validation accuracy: 58.3%\n",
        "step:"
       ]
      },
      {
       "output_type": "stream",
       "stream": "stdout",
       "text": [
        " 577000 minibatch loss: 25.2906 minibatch accuracy: 59.4% validation accuracy: 57.6%\n",
        "step:"
       ]
      },
      {
       "output_type": "stream",
       "stream": "stdout",
       "text": [
        " 578000 minibatch loss: 25.2982 minibatch accuracy: 46.9% validation accuracy: 58.5%\n",
        "step:"
       ]
      },
      {
       "output_type": "stream",
       "stream": "stdout",
       "text": [
        " 579000 minibatch loss: 25.2506 minibatch accuracy: 56.2% validation accuracy: 58.8%\n",
        "step:"
       ]
      },
      {
       "output_type": "stream",
       "stream": "stdout",
       "text": [
        " 580000 minibatch loss: 24.9777 minibatch accuracy: 65.6% validation accuracy: 58.0%\n",
        "step:"
       ]
      },
      {
       "output_type": "stream",
       "stream": "stdout",
       "text": [
        " 581000 minibatch loss: 25.4497 minibatch accuracy: 40.6% validation accuracy: 57.0%\n",
        "step:"
       ]
      },
      {
       "output_type": "stream",
       "stream": "stdout",
       "text": [
        " 582000 minibatch loss: 24.9093 minibatch accuracy: 50.0% validation accuracy: 58.7%\n",
        "step:"
       ]
      },
      {
       "output_type": "stream",
       "stream": "stdout",
       "text": [
        " 583000 minibatch loss: 24.6596 minibatch accuracy: 75.0% validation accuracy: 57.8%\n",
        "step:"
       ]
      },
      {
       "output_type": "stream",
       "stream": "stdout",
       "text": [
        " 584000 minibatch loss: 24.8974 minibatch accuracy: 62.5% validation accuracy: 56.8%\n",
        "step:"
       ]
      },
      {
       "output_type": "stream",
       "stream": "stdout",
       "text": [
        " 585000 minibatch loss: 24.5921 minibatch accuracy: 75.0% validation accuracy: 57.5%\n",
        "step:"
       ]
      },
      {
       "output_type": "stream",
       "stream": "stdout",
       "text": [
        " 586000 minibatch loss: 24.5185 minibatch accuracy: 68.8% validation accuracy: 58.6%\n",
        "step:"
       ]
      },
      {
       "output_type": "stream",
       "stream": "stdout",
       "text": [
        " 587000 minibatch loss: 24.6053 minibatch accuracy: 50.0% validation accuracy: 58.5%\n",
        "step:"
       ]
      },
      {
       "output_type": "stream",
       "stream": "stdout",
       "text": [
        " 588000 minibatch loss: 24.2272 minibatch accuracy: 75.0% validation accuracy: 57.9%\n",
        "step:"
       ]
      },
      {
       "output_type": "stream",
       "stream": "stdout",
       "text": [
        " 589000 minibatch loss: 24.5564 minibatch accuracy: 50.0% validation accuracy: 56.6%\n",
        "step:"
       ]
      },
      {
       "output_type": "stream",
       "stream": "stdout",
       "text": [
        " 590000 minibatch loss: 24.5398 minibatch accuracy: 46.9% validation accuracy: 57.6%\n",
        "step:"
       ]
      },
      {
       "output_type": "stream",
       "stream": "stdout",
       "text": [
        " 591000 minibatch loss: 24.2447 minibatch accuracy: 65.6% validation accuracy: 57.8%\n",
        "step:"
       ]
      },
      {
       "output_type": "stream",
       "stream": "stdout",
       "text": [
        " 592000 minibatch loss: 23.9624 minibatch accuracy: 81.2% validation accuracy: 57.6%\n",
        "step:"
       ]
      },
      {
       "output_type": "stream",
       "stream": "stdout",
       "text": [
        " 593000 minibatch loss: 24.0952 minibatch accuracy: 56.2% validation accuracy: 57.1%\n",
        "step:"
       ]
      },
      {
       "output_type": "stream",
       "stream": "stdout",
       "text": [
        " 594000 minibatch loss: 24.3895 minibatch accuracy: 43.8% validation accuracy: 58.8%\n",
        "step:"
       ]
      },
      {
       "output_type": "stream",
       "stream": "stdout",
       "text": [
        " 595000 minibatch loss: 24.0938 minibatch accuracy: 59.4% validation accuracy: 57.4%\n",
        "step:"
       ]
      },
      {
       "output_type": "stream",
       "stream": "stdout",
       "text": [
        " 596000 minibatch loss: 23.5911 minibatch accuracy: 75.0% validation accuracy: 57.4%\n",
        "step:"
       ]
      },
      {
       "output_type": "stream",
       "stream": "stdout",
       "text": [
        " 597000 minibatch loss: 23.7855 minibatch accuracy: 50.0% validation accuracy: 58.5%\n",
        "step:"
       ]
      },
      {
       "output_type": "stream",
       "stream": "stdout",
       "text": [
        " 598000 minibatch loss: 23.738 minibatch accuracy: 65.6% validation accuracy: 58.0%\n",
        "step:"
       ]
      },
      {
       "output_type": "stream",
       "stream": "stdout",
       "text": [
        " 599000 minibatch loss: 23.5478 minibatch accuracy: 78.1% validation accuracy: 57.5%\n",
        "step:"
       ]
      },
      {
       "output_type": "stream",
       "stream": "stdout",
       "text": [
        " 600000 minibatch loss: 23.521 minibatch accuracy: 59.4% validation accuracy: 58.1%\n",
        "step:"
       ]
      },
      {
       "output_type": "stream",
       "stream": "stdout",
       "text": [
        " 601000 minibatch loss: 23.6663 minibatch accuracy: 59.4% validation accuracy: 58.2%\n",
        "step:"
       ]
      },
      {
       "output_type": "stream",
       "stream": "stdout",
       "text": [
        " 602000 minibatch loss: 23.5913 minibatch accuracy: 68.8% validation accuracy: 59.2%\n",
        "step:"
       ]
      },
      {
       "output_type": "stream",
       "stream": "stdout",
       "text": [
        " 603000 minibatch loss: 23.3905 minibatch accuracy: 62.5% validation accuracy: 58.3%\n",
        "step:"
       ]
      },
      {
       "output_type": "stream",
       "stream": "stdout",
       "text": [
        " 604000 minibatch loss: 23.4037 minibatch accuracy: 56.2% validation accuracy: 56.8%\n",
        "step:"
       ]
      },
      {
       "output_type": "stream",
       "stream": "stdout",
       "text": [
        " 605000 minibatch loss: 23.2907 minibatch accuracy: 62.5% validation accuracy: 56.3%\n",
        "step:"
       ]
      },
      {
       "output_type": "stream",
       "stream": "stdout",
       "text": [
        " 606000 minibatch loss: 23.1797 minibatch accuracy: 68.8% validation accuracy: 56.9%\n",
        "step:"
       ]
      },
      {
       "output_type": "stream",
       "stream": "stdout",
       "text": [
        " 607000 minibatch loss: 22.9901 minibatch accuracy: 71.9% validation accuracy: 57.6%\n",
        "step:"
       ]
      },
      {
       "output_type": "stream",
       "stream": "stdout",
       "text": [
        " 608000 minibatch loss: 23.045 minibatch accuracy: 62.5% validation accuracy: 57.8%\n",
        "step:"
       ]
      },
      {
       "output_type": "stream",
       "stream": "stdout",
       "text": [
        " 609000 minibatch loss: 23.119 minibatch accuracy: 59.4% validation accuracy: 58.6%\n",
        "step:"
       ]
      },
      {
       "output_type": "stream",
       "stream": "stdout",
       "text": [
        " 610000 minibatch loss: 23.0761 minibatch accuracy: 59.4% validation accuracy: 58.4%\n",
        "step:"
       ]
      },
      {
       "output_type": "stream",
       "stream": "stdout",
       "text": [
        " 611000 minibatch loss: 22.8765 minibatch accuracy: 53.1% validation accuracy: 58.2%\n",
        "step:"
       ]
      },
      {
       "output_type": "stream",
       "stream": "stdout",
       "text": [
        " 612000 minibatch loss: 23.1085 minibatch accuracy: 40.6% validation accuracy: 59.0%\n",
        "step:"
       ]
      },
      {
       "output_type": "stream",
       "stream": "stdout",
       "text": [
        " 613000 minibatch loss: 22.8761 minibatch accuracy: 56.2% validation accuracy: 57.9%\n",
        "step:"
       ]
      },
      {
       "output_type": "stream",
       "stream": "stdout",
       "text": [
        " 614000 minibatch loss: 22.4903 minibatch accuracy: 65.6% validation accuracy: 58.2%\n",
        "step:"
       ]
      },
      {
       "output_type": "stream",
       "stream": "stdout",
       "text": [
        " 615000 minibatch loss: 22.6306 minibatch accuracy: 59.4% validation accuracy: 58.3%\n",
        "step:"
       ]
      },
      {
       "output_type": "stream",
       "stream": "stdout",
       "text": [
        " 616000 minibatch loss: 22.5915 minibatch accuracy: 53.1% validation accuracy: 59.0%\n",
        "step:"
       ]
      },
      {
       "output_type": "stream",
       "stream": "stdout",
       "text": [
        " 617000 minibatch loss: 22.7975 minibatch accuracy: 53.1% validation accuracy: 56.2%\n",
        "step:"
       ]
      },
      {
       "output_type": "stream",
       "stream": "stdout",
       "text": [
        " 618000 minibatch loss: 22.5865 minibatch accuracy: 50.0% validation accuracy: 57.4%\n",
        "step:"
       ]
      },
      {
       "output_type": "stream",
       "stream": "stdout",
       "text": [
        " 619000 minibatch loss: 22.4165 minibatch accuracy: 59.4% validation accuracy: 55.3%\n",
        "step:"
       ]
      },
      {
       "output_type": "stream",
       "stream": "stdout",
       "text": [
        " 620000 minibatch loss: 22.4217 minibatch accuracy: 62.5% validation accuracy: 57.4%\n",
        "step:"
       ]
      },
      {
       "output_type": "stream",
       "stream": "stdout",
       "text": [
        " 621000 minibatch loss: 22.2395 minibatch accuracy: 59.4% validation accuracy: 58.0%\n",
        "step:"
       ]
      },
      {
       "output_type": "stream",
       "stream": "stdout",
       "text": [
        " 622000 minibatch loss: 22.0747 minibatch accuracy: 68.8% validation accuracy: 58.0%\n",
        "step:"
       ]
      },
      {
       "output_type": "stream",
       "stream": "stdout",
       "text": [
        " 623000 minibatch loss: 22.0373 minibatch accuracy: 62.5% validation accuracy: 57.6%\n",
        "step:"
       ]
      },
      {
       "output_type": "stream",
       "stream": "stdout",
       "text": [
        " 624000 minibatch loss: 22.0847 minibatch accuracy: 59.4% validation accuracy: 58.5%\n",
        "step:"
       ]
      },
      {
       "output_type": "stream",
       "stream": "stdout",
       "text": [
        " 625000 minibatch loss: 21.9768 minibatch accuracy: 68.8% validation accuracy: 59.0%\n",
        "step:"
       ]
      },
      {
       "output_type": "stream",
       "stream": "stdout",
       "text": [
        " 626000 minibatch loss: 21.9789 minibatch accuracy: 62.5% validation accuracy: 57.4%\n",
        "step:"
       ]
      },
      {
       "output_type": "stream",
       "stream": "stdout",
       "text": [
        " 627000 minibatch loss: 22.0686 minibatch accuracy: 59.4% validation accuracy: 58.8%\n",
        "step:"
       ]
      },
      {
       "output_type": "stream",
       "stream": "stdout",
       "text": [
        " 628000 minibatch loss: 22.1553 minibatch accuracy: 53.1% validation accuracy: 58.3%\n",
        "step:"
       ]
      },
      {
       "output_type": "stream",
       "stream": "stdout",
       "text": [
        " 629000 minibatch loss: 21.7944 minibatch accuracy: 59.4% validation accuracy: 57.7%\n",
        "step:"
       ]
      },
      {
       "output_type": "stream",
       "stream": "stdout",
       "text": [
        " 630000 minibatch loss: 21.7052 minibatch accuracy: 71.9% validation accuracy: 58.2%\n",
        "step:"
       ]
      },
      {
       "output_type": "stream",
       "stream": "stdout",
       "text": [
        " 631000 minibatch loss: 21.4258 minibatch accuracy: 68.8% validation accuracy: 56.3%\n",
        "step:"
       ]
      },
      {
       "output_type": "stream",
       "stream": "stdout",
       "text": [
        " 632000 minibatch loss: 21.3183 minibatch accuracy: 71.9% validation accuracy: 58.9%\n",
        "step:"
       ]
      },
      {
       "output_type": "stream",
       "stream": "stdout",
       "text": [
        " 633000 minibatch loss: 21.7682 minibatch accuracy: 40.6% validation accuracy: 57.5%\n",
        "step:"
       ]
      },
      {
       "output_type": "stream",
       "stream": "stdout",
       "text": [
        " 634000 minibatch loss: 21.7724 minibatch accuracy: 46.9% validation accuracy: 58.5%\n",
        "step:"
       ]
      },
      {
       "output_type": "stream",
       "stream": "stdout",
       "text": [
        " 635000 minibatch loss: 21.4771 minibatch accuracy: 65.6% validation accuracy: 57.6%\n",
        "step:"
       ]
      },
      {
       "output_type": "stream",
       "stream": "stdout",
       "text": [
        " 636000 minibatch loss: 21.1487 minibatch accuracy: 68.8% validation accuracy: 58.5%\n",
        "step:"
       ]
      },
      {
       "output_type": "stream",
       "stream": "stdout",
       "text": [
        " 637000 minibatch loss: 21.3762 minibatch accuracy: 62.5% validation accuracy: 58.5%\n",
        "step:"
       ]
      },
      {
       "output_type": "stream",
       "stream": "stdout",
       "text": [
        " 638000 minibatch loss: 21.536 minibatch accuracy: 53.1% validation accuracy: 58.5%\n",
        "step:"
       ]
      },
      {
       "output_type": "stream",
       "stream": "stdout",
       "text": [
        " 639000 minibatch loss: 21.4492 minibatch accuracy: 53.1% validation accuracy: 58.4%\n",
        "step:"
       ]
      },
      {
       "output_type": "stream",
       "stream": "stdout",
       "text": [
        " 640000 minibatch loss: 21.1351 minibatch accuracy: 56.2% validation accuracy: 56.6%\n",
        "step:"
       ]
      },
      {
       "output_type": "stream",
       "stream": "stdout",
       "text": [
        " 641000 minibatch loss: 20.8121 minibatch accuracy: 71.9% validation accuracy: 58.5%\n",
        "step:"
       ]
      },
      {
       "output_type": "stream",
       "stream": "stdout",
       "text": [
        " 642000 minibatch loss: 20.9832 minibatch accuracy: 59.4% validation accuracy: 58.4%\n",
        "step:"
       ]
      },
      {
       "output_type": "stream",
       "stream": "stdout",
       "text": [
        " 643000 minibatch loss: 20.9177 minibatch accuracy: 65.6% validation accuracy: 57.1%\n",
        "step:"
       ]
      },
      {
       "output_type": "stream",
       "stream": "stdout",
       "text": [
        " 644000 minibatch loss: 20.8635 minibatch accuracy: 71.9% validation accuracy: 58.7%\n",
        "step:"
       ]
      },
      {
       "output_type": "stream",
       "stream": "stdout",
       "text": [
        " 645000 minibatch loss: 20.9179 minibatch accuracy: 50.0% validation accuracy: 58.8%\n",
        "step:"
       ]
      },
      {
       "output_type": "stream",
       "stream": "stdout",
       "text": [
        " 646000 minibatch loss: 20.5485 minibatch accuracy: 75.0% validation accuracy: 56.8%\n",
        "step:"
       ]
      },
      {
       "output_type": "stream",
       "stream": "stdout",
       "text": [
        " 647000 minibatch loss: 20.6659 minibatch accuracy: 62.5% validation accuracy: 58.7%\n",
        "step:"
       ]
      },
      {
       "output_type": "stream",
       "stream": "stdout",
       "text": [
        " 648000 minibatch loss: 20.6208 minibatch accuracy: 56.2% validation accuracy: 58.3%\n",
        "step:"
       ]
      },
      {
       "output_type": "stream",
       "stream": "stdout",
       "text": [
        " 649000 minibatch loss: 20.6618 minibatch accuracy: 53.1% validation accuracy: 58.2%\n",
        "step:"
       ]
      },
      {
       "output_type": "stream",
       "stream": "stdout",
       "text": [
        " 650000 minibatch loss: 20.6646 minibatch accuracy: 53.1% validation accuracy: 58.6%\n",
        "step:"
       ]
      },
      {
       "output_type": "stream",
       "stream": "stdout",
       "text": [
        " 651000 minibatch loss: 20.434 minibatch accuracy: 62.5% validation accuracy: 57.9%\n",
        "step:"
       ]
      },
      {
       "output_type": "stream",
       "stream": "stdout",
       "text": [
        " 652000 minibatch loss: 20.5497 minibatch accuracy: 56.2% validation accuracy: 58.8%\n",
        "step:"
       ]
      },
      {
       "output_type": "stream",
       "stream": "stdout",
       "text": [
        " 653000 minibatch loss: 20.5599 minibatch accuracy: 56.2% validation accuracy: 58.3%\n",
        "step:"
       ]
      },
      {
       "output_type": "stream",
       "stream": "stdout",
       "text": [
        " 654000 minibatch loss: 20.3235 minibatch accuracy: 56.2% validation accuracy: 58.4%\n",
        "step:"
       ]
      },
      {
       "output_type": "stream",
       "stream": "stdout",
       "text": [
        " 655000 minibatch loss: 20.3888 minibatch accuracy: 62.5% validation accuracy: 56.4%\n",
        "step:"
       ]
      },
      {
       "output_type": "stream",
       "stream": "stdout",
       "text": [
        " 656000 minibatch loss: 20.2286 minibatch accuracy: 59.4% validation accuracy: 58.1%\n",
        "step:"
       ]
      },
      {
       "output_type": "stream",
       "stream": "stdout",
       "text": [
        " 657000 minibatch loss: 20.2628 minibatch accuracy: 59.4% validation accuracy: 56.7%\n",
        "step:"
       ]
      },
      {
       "output_type": "stream",
       "stream": "stdout",
       "text": [
        " 658000 minibatch loss: 20.1507 minibatch accuracy: 56.2% validation accuracy: 57.9%\n",
        "step:"
       ]
      },
      {
       "output_type": "stream",
       "stream": "stdout",
       "text": [
        " 659000 minibatch loss: 20.0573 minibatch accuracy: 62.5% validation accuracy: 57.9%\n",
        "step:"
       ]
      },
      {
       "output_type": "stream",
       "stream": "stdout",
       "text": [
        " 660000 minibatch loss: 19.9243 minibatch accuracy: 59.4% validation accuracy: 57.8%\n",
        "step:"
       ]
      },
      {
       "output_type": "stream",
       "stream": "stdout",
       "text": [
        " 661000 minibatch loss: 20.3443 minibatch accuracy: 50.0% validation accuracy: 59.0%\n",
        "step:"
       ]
      },
      {
       "output_type": "stream",
       "stream": "stdout",
       "text": [
        " 662000 minibatch loss: 19.6516 minibatch accuracy: 71.9% validation accuracy: 59.2%\n",
        "step:"
       ]
      },
      {
       "output_type": "stream",
       "stream": "stdout",
       "text": [
        " 663000 minibatch loss: 19.7541 minibatch accuracy: 56.2% validation accuracy: 58.7%\n",
        "step:"
       ]
      },
      {
       "output_type": "stream",
       "stream": "stdout",
       "text": [
        " 664000 minibatch loss: 19.8659 minibatch accuracy: 56.2% validation accuracy: 59.4%\n",
        "step:"
       ]
      },
      {
       "output_type": "stream",
       "stream": "stdout",
       "text": [
        " 665000 minibatch loss: 19.8847 minibatch accuracy: 46.9% validation accuracy: 57.9%\n",
        "step:"
       ]
      },
      {
       "output_type": "stream",
       "stream": "stdout",
       "text": [
        " 666000 minibatch loss: 19.7729 minibatch accuracy: 53.1% validation accuracy: 59.2%\n",
        "step:"
       ]
      },
      {
       "output_type": "stream",
       "stream": "stdout",
       "text": [
        " 667000 minibatch loss: 19.6336 minibatch accuracy: 46.9% validation accuracy: 57.7%\n",
        "step:"
       ]
      },
      {
       "output_type": "stream",
       "stream": "stdout",
       "text": [
        " 668000 minibatch loss: 19.491 minibatch accuracy: 56.2% validation accuracy: 59.0%\n",
        "step:"
       ]
      },
      {
       "output_type": "stream",
       "stream": "stdout",
       "text": [
        " 669000 minibatch loss: 19.4659 minibatch accuracy: 71.9% validation accuracy: 58.8%\n",
        "step:"
       ]
      },
      {
       "output_type": "stream",
       "stream": "stdout",
       "text": [
        " 670000 minibatch loss: 19.2791 minibatch accuracy: 68.8% validation accuracy: 58.3%\n",
        "step:"
       ]
      },
      {
       "output_type": "stream",
       "stream": "stdout",
       "text": [
        " 671000 minibatch loss: 19.5176 minibatch accuracy: 50.0% validation accuracy: 58.8%\n",
        "step:"
       ]
      },
      {
       "output_type": "stream",
       "stream": "stdout",
       "text": [
        " 672000 minibatch loss: 19.2634 minibatch accuracy: 65.6% validation accuracy: 58.9%\n",
        "step:"
       ]
      },
      {
       "output_type": "stream",
       "stream": "stdout",
       "text": [
        " 673000 minibatch loss: 19.2857 minibatch accuracy: 50.0% validation accuracy: 58.6%\n",
        "step:"
       ]
      },
      {
       "output_type": "stream",
       "stream": "stdout",
       "text": [
        " 674000 minibatch loss: 19.31 minibatch accuracy: 56.2% validation accuracy: 57.3%\n",
        "step:"
       ]
      },
      {
       "output_type": "stream",
       "stream": "stdout",
       "text": [
        " 675000 minibatch loss: 19.3596 minibatch accuracy: 46.9% validation accuracy: 57.5%\n",
        "step:"
       ]
      },
      {
       "output_type": "stream",
       "stream": "stdout",
       "text": [
        " 676000 minibatch loss: 18.9974 minibatch accuracy: 71.9% validation accuracy: 58.0%\n",
        "step:"
       ]
      },
      {
       "output_type": "stream",
       "stream": "stdout",
       "text": [
        " 677000 minibatch loss: 19.1202 minibatch accuracy: 53.1% validation accuracy: 56.3%\n",
        "step:"
       ]
      },
      {
       "output_type": "stream",
       "stream": "stdout",
       "text": [
        " 678000 minibatch loss: 19.0552 minibatch accuracy: 40.6% validation accuracy: 59.2%\n",
        "step:"
       ]
      },
      {
       "output_type": "stream",
       "stream": "stdout",
       "text": [
        " 679000 minibatch loss: 18.8432 minibatch accuracy: 75.0% validation accuracy: 58.9%\n",
        "step:"
       ]
      },
      {
       "output_type": "stream",
       "stream": "stdout",
       "text": [
        " 680000 minibatch loss: 18.929 minibatch accuracy: 62.5% validation accuracy: 58.3%\n",
        "step:"
       ]
      },
      {
       "output_type": "stream",
       "stream": "stdout",
       "text": [
        " 681000 minibatch loss: 19.4511 minibatch accuracy: 40.6% validation accuracy: 58.9%\n",
        "step:"
       ]
      },
      {
       "output_type": "stream",
       "stream": "stdout",
       "text": [
        " 682000 minibatch loss: 19.048 minibatch accuracy: 53.1% validation accuracy: 58.1%\n",
        "step:"
       ]
      },
      {
       "output_type": "stream",
       "stream": "stdout",
       "text": [
        " 683000 minibatch loss: 18.871 minibatch accuracy: 59.4% validation accuracy: 59.2%\n",
        "step:"
       ]
      },
      {
       "output_type": "stream",
       "stream": "stdout",
       "text": [
        " 684000 minibatch loss: 18.6879 minibatch accuracy: 59.4% validation accuracy: 57.9%\n",
        "step:"
       ]
      },
      {
       "output_type": "stream",
       "stream": "stdout",
       "text": [
        " 685000 minibatch loss: 18.7291 minibatch accuracy: 65.6% validation accuracy: 59.2%\n",
        "step:"
       ]
      },
      {
       "output_type": "stream",
       "stream": "stdout",
       "text": [
        " 686000 minibatch loss: 18.5773 minibatch accuracy: 68.8% validation accuracy: 58.8%\n",
        "step:"
       ]
      },
      {
       "output_type": "stream",
       "stream": "stdout",
       "text": [
        " 687000 minibatch loss: 18.4619 minibatch accuracy: 65.6% validation accuracy: 59.1%\n",
        "step:"
       ]
      },
      {
       "output_type": "stream",
       "stream": "stdout",
       "text": [
        " 688000 minibatch loss: 18.6006 minibatch accuracy: 59.4% validation accuracy: 59.6%\n",
        "step:"
       ]
      },
      {
       "output_type": "stream",
       "stream": "stdout",
       "text": [
        " 689000 minibatch loss: 18.6895 minibatch accuracy: 62.5% validation accuracy: 59.1%\n",
        "step:"
       ]
      },
      {
       "output_type": "stream",
       "stream": "stdout",
       "text": [
        " 690000 minibatch loss: 18.8394 minibatch accuracy: 34.4% validation accuracy: 57.7%\n",
        "step:"
       ]
      },
      {
       "output_type": "stream",
       "stream": "stdout",
       "text": [
        " 691000 minibatch loss: 18.38 minibatch accuracy: 56.2% validation accuracy: 57.8%\n",
        "step:"
       ]
      },
      {
       "output_type": "stream",
       "stream": "stdout",
       "text": [
        " 692000 minibatch loss: 18.271 minibatch accuracy: 71.9% validation accuracy: 58.2%\n",
        "step:"
       ]
      },
      {
       "output_type": "stream",
       "stream": "stdout",
       "text": [
        " 693000 minibatch loss: 18.3233 minibatch accuracy: 65.6% validation accuracy: 58.8%\n",
        "step:"
       ]
      },
      {
       "output_type": "stream",
       "stream": "stdout",
       "text": [
        " 694000 minibatch loss: 18.3573 minibatch accuracy: 65.6% validation accuracy: 57.7%\n",
        "step:"
       ]
      },
      {
       "output_type": "stream",
       "stream": "stdout",
       "text": [
        " 695000 minibatch loss: 18.2435 minibatch accuracy: 65.6% validation accuracy: 59.1%\n",
        "step:"
       ]
      },
      {
       "output_type": "stream",
       "stream": "stdout",
       "text": [
        " 696000 minibatch loss: 18.1549 minibatch accuracy: 65.6% validation accuracy: 58.1%\n",
        "step:"
       ]
      },
      {
       "output_type": "stream",
       "stream": "stdout",
       "text": [
        " 697000 minibatch loss: 18.1114 minibatch accuracy: 53.1% validation accuracy: 59.0%\n",
        "step:"
       ]
      },
      {
       "output_type": "stream",
       "stream": "stdout",
       "text": [
        " 698000 minibatch loss: 18.3186 minibatch accuracy: 46.9% validation accuracy: 59.0%\n",
        "step:"
       ]
      },
      {
       "output_type": "stream",
       "stream": "stdout",
       "text": [
        " 699000 minibatch loss: 17.9104 minibatch accuracy: 65.6% validation accuracy: 59.7%\n",
        "step:"
       ]
      },
      {
       "output_type": "stream",
       "stream": "stdout",
       "text": [
        " 700000 minibatch loss: 17.8972 minibatch accuracy: 68.8% validation accuracy: 59.1%\n",
        "step:"
       ]
      },
      {
       "output_type": "stream",
       "stream": "stdout",
       "text": [
        " 701000 minibatch loss: 17.8058 minibatch accuracy: 65.6% validation accuracy: 59.0%\n",
        "step:"
       ]
      },
      {
       "output_type": "stream",
       "stream": "stdout",
       "text": [
        " 702000 minibatch loss: 18.1146 minibatch accuracy: 59.4% validation accuracy: 58.6%\n",
        "step:"
       ]
      },
      {
       "output_type": "stream",
       "stream": "stdout",
       "text": [
        " 703000 minibatch loss: 17.6696 minibatch accuracy: 65.6% validation accuracy: 59.6%\n",
        "step:"
       ]
      },
      {
       "output_type": "stream",
       "stream": "stdout",
       "text": [
        " 704000 minibatch loss: 17.6493 minibatch accuracy: 62.5% validation accuracy: 59.6%\n",
        "step:"
       ]
      },
      {
       "output_type": "stream",
       "stream": "stdout",
       "text": [
        " 705000 minibatch loss: 17.548 minibatch accuracy: 75.0% validation accuracy: 58.5%\n",
        "step:"
       ]
      },
      {
       "output_type": "stream",
       "stream": "stdout",
       "text": [
        " 706000 minibatch loss: 17.6402 minibatch accuracy: 56.2% validation accuracy: 57.7%\n",
        "step:"
       ]
      },
      {
       "output_type": "stream",
       "stream": "stdout",
       "text": [
        " 707000 minibatch loss: 17.4734 minibatch accuracy: 75.0% validation accuracy: 58.6%\n",
        "step:"
       ]
      },
      {
       "output_type": "stream",
       "stream": "stdout",
       "text": [
        " 708000 minibatch loss: 17.6141 minibatch accuracy: 62.5% validation accuracy: 59.1%\n",
        "step:"
       ]
      },
      {
       "output_type": "stream",
       "stream": "stdout",
       "text": [
        " 709000 minibatch loss: 17.3735 minibatch accuracy: 68.8% validation accuracy: 59.5%\n",
        "step:"
       ]
      },
      {
       "output_type": "stream",
       "stream": "stdout",
       "text": [
        " 710000 minibatch loss: 17.4689 minibatch accuracy: 56.2% validation accuracy: 58.7%\n",
        "step:"
       ]
      },
      {
       "output_type": "stream",
       "stream": "stdout",
       "text": [
        " 711000 minibatch loss: 17.7846 minibatch accuracy: 40.6% validation accuracy: 57.6%\n",
        "step:"
       ]
      },
      {
       "output_type": "stream",
       "stream": "stdout",
       "text": [
        " 712000 minibatch loss: 17.4158 minibatch accuracy: 68.8% validation accuracy: 59.0%\n",
        "step:"
       ]
      },
      {
       "output_type": "stream",
       "stream": "stdout",
       "text": [
        " 713000 minibatch loss: 17.3286 minibatch accuracy: 71.9% validation accuracy: 59.4%\n",
        "step:"
       ]
      },
      {
       "output_type": "stream",
       "stream": "stdout",
       "text": [
        " 714000 minibatch loss: 17.4749 minibatch accuracy: 53.1% validation accuracy: 58.4%\n",
        "step:"
       ]
      },
      {
       "output_type": "stream",
       "stream": "stdout",
       "text": [
        " 715000 minibatch loss: 17.6983 minibatch accuracy: 53.1% validation accuracy: 58.9%\n",
        "step:"
       ]
      },
      {
       "output_type": "stream",
       "stream": "stdout",
       "text": [
        " 716000 minibatch loss: 17.3471 minibatch accuracy: 56.2% validation accuracy: 57.4%\n",
        "step:"
       ]
      },
      {
       "output_type": "stream",
       "stream": "stdout",
       "text": [
        " 717000 minibatch loss: 17.2135 minibatch accuracy: 53.1% validation accuracy: 58.1%\n",
        "step:"
       ]
      },
      {
       "output_type": "stream",
       "stream": "stdout",
       "text": [
        " 718000 minibatch loss: 17.2362 minibatch accuracy: 56.2% validation accuracy: 59.6%\n",
        "step:"
       ]
      },
      {
       "output_type": "stream",
       "stream": "stdout",
       "text": [
        " 719000 minibatch loss: 17.1924 minibatch accuracy: 56.2% validation accuracy: 58.1%\n",
        "step:"
       ]
      },
      {
       "output_type": "stream",
       "stream": "stdout",
       "text": [
        " 720000 minibatch loss: 17.028 minibatch accuracy: 62.5% validation accuracy: 59.0%\n",
        "step:"
       ]
      },
      {
       "output_type": "stream",
       "stream": "stdout",
       "text": [
        " 721000 minibatch loss: 17.3509 minibatch accuracy: 40.6% validation accuracy: 58.4%\n",
        "step:"
       ]
      },
      {
       "output_type": "stream",
       "stream": "stdout",
       "text": [
        " 722000 minibatch loss: 17.0805 minibatch accuracy: 50.0% validation accuracy: 59.4%\n",
        "step:"
       ]
      },
      {
       "output_type": "stream",
       "stream": "stdout",
       "text": [
        " 723000 minibatch loss: 16.7489 minibatch accuracy: 75.0% validation accuracy: 58.5%\n",
        "step:"
       ]
      },
      {
       "output_type": "stream",
       "stream": "stdout",
       "text": [
        " 724000 minibatch loss: 16.988 minibatch accuracy: 59.4% validation accuracy: 58.9%\n",
        "step:"
       ]
      },
      {
       "output_type": "stream",
       "stream": "stdout",
       "text": [
        " 725000 minibatch loss: 17.181 minibatch accuracy: 43.8% validation accuracy: 59.8%\n",
        "step:"
       ]
      },
      {
       "output_type": "stream",
       "stream": "stdout",
       "text": [
        " 726000 minibatch loss: 17.1047 minibatch accuracy: 46.9% validation accuracy: 58.4%\n",
        "step:"
       ]
      },
      {
       "output_type": "stream",
       "stream": "stdout",
       "text": [
        " 727000 minibatch loss: 16.7578 minibatch accuracy: 65.6% validation accuracy: 58.4%\n",
        "step:"
       ]
      },
      {
       "output_type": "stream",
       "stream": "stdout",
       "text": [
        " 728000 minibatch loss: 16.7088 minibatch accuracy: 56.2% validation accuracy: 59.5%\n",
        "step:"
       ]
      },
      {
       "output_type": "stream",
       "stream": "stdout",
       "text": [
        " 729000 minibatch loss: 16.5866 minibatch accuracy: 62.5% validation accuracy: 56.0%\n",
        "step:"
       ]
      },
      {
       "output_type": "stream",
       "stream": "stdout",
       "text": [
        " 730000 minibatch loss: 16.6022 minibatch accuracy: 71.9% validation accuracy: 59.5%\n",
        "step:"
       ]
      },
      {
       "output_type": "stream",
       "stream": "stdout",
       "text": [
        " 731000 minibatch loss: 16.48 minibatch accuracy: 68.8% validation accuracy: 56.8%\n",
        "step:"
       ]
      },
      {
       "output_type": "stream",
       "stream": "stdout",
       "text": [
        " 732000 minibatch loss: 16.8516 minibatch accuracy: 46.9% validation accuracy: 58.2%\n",
        "step:"
       ]
      },
      {
       "output_type": "stream",
       "stream": "stdout",
       "text": [
        " 733000 minibatch loss: 16.487 minibatch accuracy: 62.5% validation accuracy: 59.0%\n",
        "step:"
       ]
      },
      {
       "output_type": "stream",
       "stream": "stdout",
       "text": [
        " 734000 minibatch loss: 16.5324 minibatch accuracy: 62.5% validation accuracy: 57.5%\n",
        "step:"
       ]
      },
      {
       "output_type": "stream",
       "stream": "stdout",
       "text": [
        " 735000 minibatch loss: 16.3645 minibatch accuracy: 78.1% validation accuracy: 58.4%\n",
        "step:"
       ]
      },
      {
       "output_type": "stream",
       "stream": "stdout",
       "text": [
        " 736000 minibatch loss: 16.2729 minibatch accuracy: 75.0% validation accuracy: 57.9%\n",
        "step:"
       ]
      },
      {
       "output_type": "stream",
       "stream": "stdout",
       "text": [
        " 737000 minibatch loss: 16.3261 minibatch accuracy: 53.1% validation accuracy: 59.7%\n",
        "step:"
       ]
      },
      {
       "output_type": "stream",
       "stream": "stdout",
       "text": [
        " 738000 minibatch loss: 16.389 minibatch accuracy: 56.2% validation accuracy: 59.3%\n",
        "step:"
       ]
      },
      {
       "output_type": "stream",
       "stream": "stdout",
       "text": [
        " 739000 minibatch loss: 16.3329 minibatch accuracy: 62.5% validation accuracy: 59.2%\n",
        "step:"
       ]
      },
      {
       "output_type": "stream",
       "stream": "stdout",
       "text": [
        " 740000 minibatch loss: 16.2162 minibatch accuracy: 65.6% validation accuracy: 57.8%\n",
        "step:"
       ]
      },
      {
       "output_type": "stream",
       "stream": "stdout",
       "text": [
        " 741000 minibatch loss: 16.3531 minibatch accuracy: 50.0% validation accuracy: 59.9%\n",
        "step:"
       ]
      },
      {
       "output_type": "stream",
       "stream": "stdout",
       "text": [
        " 742000 minibatch loss: 16.2949 minibatch accuracy: 62.5% validation accuracy: 59.3%\n",
        "step:"
       ]
      },
      {
       "output_type": "stream",
       "stream": "stdout",
       "text": [
        " 743000 minibatch loss: 16.1262 minibatch accuracy: 65.6% validation accuracy: 59.4%\n",
        "step:"
       ]
      },
      {
       "output_type": "stream",
       "stream": "stdout",
       "text": [
        " 744000 minibatch loss: 16.154 minibatch accuracy: 71.9% validation accuracy: 55.8%\n",
        "step:"
       ]
      },
      {
       "output_type": "stream",
       "stream": "stdout",
       "text": [
        " 745000 minibatch loss: 15.8624 minibatch accuracy: 71.9% validation accuracy: 59.1%\n",
        "step:"
       ]
      },
      {
       "output_type": "stream",
       "stream": "stdout",
       "text": [
        " 746000 minibatch loss: 16.1995 minibatch accuracy: 46.9% validation accuracy: 57.9%\n",
        "step:"
       ]
      },
      {
       "output_type": "stream",
       "stream": "stdout",
       "text": [
        " 747000 minibatch loss: 15.9735 minibatch accuracy: 62.5% validation accuracy: 56.3%\n",
        "step:"
       ]
      },
      {
       "output_type": "stream",
       "stream": "stdout",
       "text": [
        " 748000 minibatch loss: 16.0028 minibatch accuracy: 59.4% validation accuracy: 59.1%\n",
        "step:"
       ]
      },
      {
       "output_type": "stream",
       "stream": "stdout",
       "text": [
        " 749000 minibatch loss: 15.7059 minibatch accuracy: 71.9% validation accuracy: 58.6%\n",
        "step:"
       ]
      },
      {
       "output_type": "stream",
       "stream": "stdout",
       "text": [
        " 750000 minibatch loss: 16.0204 minibatch accuracy: 53.1% validation accuracy: 59.0%\n",
        "step:"
       ]
      },
      {
       "output_type": "stream",
       "stream": "stdout",
       "text": [
        " 751000 minibatch loss: 15.8034 minibatch accuracy: 59.4% validation accuracy: 59.6%\n",
        "step:"
       ]
      },
      {
       "output_type": "stream",
       "stream": "stdout",
       "text": [
        " 752000 minibatch loss: 15.8653 minibatch accuracy: 50.0% validation accuracy: 59.3%\n",
        "step:"
       ]
      },
      {
       "output_type": "stream",
       "stream": "stdout",
       "text": [
        " 753000 minibatch loss: 15.8635 minibatch accuracy: 56.2% validation accuracy: 59.4%\n",
        "step:"
       ]
      },
      {
       "output_type": "stream",
       "stream": "stdout",
       "text": [
        " 754000 minibatch loss: 15.6825 minibatch accuracy: 65.6% validation accuracy: 59.6%\n",
        "step:"
       ]
      },
      {
       "output_type": "stream",
       "stream": "stdout",
       "text": [
        " 755000 minibatch loss: 15.6363 minibatch accuracy: 56.2% validation accuracy: 58.9%\n",
        "step:"
       ]
      },
      {
       "output_type": "stream",
       "stream": "stdout",
       "text": [
        " 756000 minibatch loss: 15.6633 minibatch accuracy: 56.2% validation accuracy: 59.3%\n",
        "step:"
       ]
      },
      {
       "output_type": "stream",
       "stream": "stdout",
       "text": [
        " 757000 minibatch loss: 15.7317 minibatch accuracy: 62.5% validation accuracy: 59.4%\n",
        "step:"
       ]
      },
      {
       "output_type": "stream",
       "stream": "stdout",
       "text": [
        " 758000 minibatch loss: 15.4739 minibatch accuracy: 65.6% validation accuracy: 59.3%\n",
        "step:"
       ]
      },
      {
       "output_type": "stream",
       "stream": "stdout",
       "text": [
        " 759000 minibatch loss: 15.626 minibatch accuracy: 59.4% validation accuracy: 59.7%\n",
        "step:"
       ]
      },
      {
       "output_type": "stream",
       "stream": "stdout",
       "text": [
        " 760000 minibatch loss: 15.5673 minibatch accuracy: 50.0% validation accuracy: 59.7%\n",
        "step:"
       ]
      },
      {
       "output_type": "stream",
       "stream": "stdout",
       "text": [
        " 761000 minibatch loss: 15.56 minibatch accuracy: 50.0% validation accuracy: 59.6%\n",
        "step:"
       ]
      },
      {
       "output_type": "stream",
       "stream": "stdout",
       "text": [
        " 762000 minibatch loss: 15.3956 minibatch accuracy: 56.2% validation accuracy: 58.7%\n",
        "step:"
       ]
      },
      {
       "output_type": "stream",
       "stream": "stdout",
       "text": [
        " 763000 minibatch loss: 15.3653 minibatch accuracy: 68.8% validation accuracy: 59.6%\n",
        "step:"
       ]
      },
      {
       "output_type": "stream",
       "stream": "stdout",
       "text": [
        " 764000 minibatch loss: 15.2862 minibatch accuracy: 65.6% validation accuracy: 59.1%\n",
        "step:"
       ]
      },
      {
       "output_type": "stream",
       "stream": "stdout",
       "text": [
        " 765000 minibatch loss: 15.2147 minibatch accuracy: 65.6% validation accuracy: 59.9%\n",
        "step:"
       ]
      },
      {
       "output_type": "stream",
       "stream": "stdout",
       "text": [
        " 766000 minibatch loss: 15.1024 minibatch accuracy: 59.4% validation accuracy: 59.9%\n",
        "step:"
       ]
      },
      {
       "output_type": "stream",
       "stream": "stdout",
       "text": [
        " 767000 minibatch loss: 15.2634 minibatch accuracy: 62.5% validation accuracy: 59.3%\n",
        "step:"
       ]
      },
      {
       "output_type": "stream",
       "stream": "stdout",
       "text": [
        " 768000 minibatch loss: 14.9836 minibatch accuracy: 71.9% validation accuracy: 59.2%\n",
        "step:"
       ]
      },
      {
       "output_type": "stream",
       "stream": "stdout",
       "text": [
        " 769000 minibatch loss: 15.257 minibatch accuracy: 46.9% validation accuracy: 58.6%\n",
        "step:"
       ]
      },
      {
       "output_type": "stream",
       "stream": "stdout",
       "text": [
        " 770000 minibatch loss: 15.2843 minibatch accuracy: 53.1% validation accuracy: 59.9%\n",
        "step:"
       ]
      },
      {
       "output_type": "stream",
       "stream": "stdout",
       "text": [
        " 771000 minibatch loss: 14.9867 minibatch accuracy: 56.2% validation accuracy: 59.1%\n",
        "step:"
       ]
      },
      {
       "output_type": "stream",
       "stream": "stdout",
       "text": [
        " 772000 minibatch loss: 15.0561 minibatch accuracy: 53.1% validation accuracy: 57.8%\n",
        "step:"
       ]
      },
      {
       "output_type": "stream",
       "stream": "stdout",
       "text": [
        " 773000 minibatch loss: 15.0729 minibatch accuracy: 65.6% validation accuracy: 59.5%\n",
        "step:"
       ]
      },
      {
       "output_type": "stream",
       "stream": "stdout",
       "text": [
        " 774000 minibatch loss: 14.8652 minibatch accuracy: 56.2% validation accuracy: 58.3%\n",
        "step:"
       ]
      },
      {
       "output_type": "stream",
       "stream": "stdout",
       "text": [
        " 775000 minibatch loss: 14.925 minibatch accuracy: 62.5% validation accuracy: 59.3%\n",
        "step:"
       ]
      },
      {
       "output_type": "stream",
       "stream": "stdout",
       "text": [
        " 776000 minibatch loss: 14.8671 minibatch accuracy: 56.2% validation accuracy: 59.0%\n",
        "step:"
       ]
      },
      {
       "output_type": "stream",
       "stream": "stdout",
       "text": [
        " 777000 minibatch loss: 14.916 minibatch accuracy: 62.5% validation accuracy: 54.5%\n",
        "step:"
       ]
      },
      {
       "output_type": "stream",
       "stream": "stdout",
       "text": [
        " 778000 minibatch loss: 14.9091 minibatch accuracy: 46.9% validation accuracy: 58.7%\n",
        "step:"
       ]
      },
      {
       "output_type": "stream",
       "stream": "stdout",
       "text": [
        " 779000 minibatch loss: 14.7863 minibatch accuracy: 68.8% validation accuracy: 58.6%\n",
        "step:"
       ]
      },
      {
       "output_type": "stream",
       "stream": "stdout",
       "text": [
        " 780000 minibatch loss: 14.5278 minibatch accuracy: 78.1% validation accuracy: 59.7%\n",
        "step:"
       ]
      },
      {
       "output_type": "stream",
       "stream": "stdout",
       "text": [
        " 781000 minibatch loss: 14.7615 minibatch accuracy: 56.2% validation accuracy: 55.6%\n",
        "step:"
       ]
      },
      {
       "output_type": "stream",
       "stream": "stdout",
       "text": [
        " 782000 minibatch loss: 14.6649 minibatch accuracy: 62.5% validation accuracy: 59.8%\n",
        "step:"
       ]
      },
      {
       "output_type": "stream",
       "stream": "stdout",
       "text": [
        " 783000 minibatch loss: 14.6011 minibatch accuracy: 68.8% validation accuracy: 59.4%\n",
        "step:"
       ]
      },
      {
       "output_type": "stream",
       "stream": "stdout",
       "text": [
        " 784000 minibatch loss: 14.5735 minibatch accuracy: 59.4% validation accuracy: 59.0%\n",
        "step:"
       ]
      },
      {
       "output_type": "stream",
       "stream": "stdout",
       "text": [
        " 785000 minibatch loss: 14.5843 minibatch accuracy: 62.5% validation accuracy: 58.6%\n",
        "step:"
       ]
      },
      {
       "output_type": "stream",
       "stream": "stdout",
       "text": [
        " 786000 minibatch loss: 14.5238 minibatch accuracy: 62.5% validation accuracy: 59.4%\n",
        "step:"
       ]
      },
      {
       "output_type": "stream",
       "stream": "stdout",
       "text": [
        " 787000 minibatch loss: 14.5893 minibatch accuracy: 53.1% validation accuracy: 59.5%\n",
        "step:"
       ]
      },
      {
       "output_type": "stream",
       "stream": "stdout",
       "text": [
        " 788000 minibatch loss: 14.6151 minibatch accuracy: 56.2% validation accuracy: 58.6%\n",
        "step:"
       ]
      },
      {
       "output_type": "stream",
       "stream": "stdout",
       "text": [
        " 789000 minibatch loss: 14.2677 minibatch accuracy: 71.9% validation accuracy: 58.3%\n",
        "step:"
       ]
      },
      {
       "output_type": "stream",
       "stream": "stdout",
       "text": [
        " 790000 minibatch loss: 14.3352 minibatch accuracy: 68.8% validation accuracy: 58.7%\n",
        "step:"
       ]
      },
      {
       "output_type": "stream",
       "stream": "stdout",
       "text": [
        " 791000 minibatch loss: 14.5961 minibatch accuracy: 50.0% validation accuracy: 58.3%\n",
        "step:"
       ]
      },
      {
       "output_type": "stream",
       "stream": "stdout",
       "text": [
        " 792000 minibatch loss: 14.2027 minibatch accuracy: 71.9% validation accuracy: 58.7%\n",
        "step:"
       ]
      },
      {
       "output_type": "stream",
       "stream": "stdout",
       "text": [
        " 793000 minibatch loss: 14.329 minibatch accuracy: 62.5% validation accuracy: 59.6%\n",
        "step:"
       ]
      },
      {
       "output_type": "stream",
       "stream": "stdout",
       "text": [
        " 794000 minibatch loss: 14.5355 minibatch accuracy: 43.8% validation accuracy: 59.8%\n",
        "step:"
       ]
      },
      {
       "output_type": "stream",
       "stream": "stdout",
       "text": [
        " 795000 minibatch loss: 14.0946 minibatch accuracy: 59.4% validation accuracy: 59.4%\n",
        "step:"
       ]
      },
      {
       "output_type": "stream",
       "stream": "stdout",
       "text": [
        " 796000 minibatch loss: 14.0715 minibatch accuracy: 68.8% validation accuracy: 59.5%\n",
        "step:"
       ]
      },
      {
       "output_type": "stream",
       "stream": "stdout",
       "text": [
        " 797000 minibatch loss: 14.1962 minibatch accuracy: 56.2% validation accuracy: 58.5%\n",
        "step:"
       ]
      },
      {
       "output_type": "stream",
       "stream": "stdout",
       "text": [
        " 798000 minibatch loss: 14.2661 minibatch accuracy: 53.1% validation accuracy: 59.8%\n",
        "step:"
       ]
      },
      {
       "output_type": "stream",
       "stream": "stdout",
       "text": [
        " 799000 minibatch loss: 14.0938 minibatch accuracy: 46.9% validation accuracy: 59.7%\n",
        "step:"
       ]
      },
      {
       "output_type": "stream",
       "stream": "stdout",
       "text": [
        " 800000 minibatch loss: 14.08 minibatch accuracy: 68.8% validation accuracy: 59.0%\n",
        "Test accuracy at step 800000: 58.1%\n"
       ]
      },
      {
       "output_type": "stream",
       "stream": "stdout",
       "text": [
        "\n",
        "Elapsed time: 11.63290633532736 hours\n"
       ]
      },
      {
       "metadata": {},
       "output_type": "display_data",
       "png": "[encoded data removed]",
       "text": [
        "<matplotlib.figure.Figure at 0x7f5eaace8cf8>"
       ]
      },
      {
       "output_type": "stream",
       "stream": "stdout",
       "text": [
        "The best validation accuracy was 59.91 at step 766000\n"
       ]
      },
      {
       "metadata": {},
       "output_type": "pyout",
       "prompt_number": 18,
       "text": [
        "'\\n\\n'"
       ]
      }
     ],
     "prompt_number": 18
    },
    {
     "cell_type": "markdown",
     "metadata": {},
     "source": [
      "Changint the initialised_weights_stddev to 0.045 slightly decreased the performance of the model down to 59.91, which is actually negigible. Interestingly, the best step of the previous model was 3K steps earlier, which is very close.\n",
      "\n",
      "From the look of the graph, the model's performance gets more unstable as time goes on, whilst it makes very small improvements with more time."
     ]
    },
    {
     "cell_type": "code",
     "collapsed": false,
     "input": [],
     "language": "python",
     "metadata": {},
     "outputs": [
      {
       "output_type": "stream",
       "stream": "stdout",
       "text": [
        "Initialized\n",
        "step:"
       ]
      },
      {
       "output_type": "stream",
       "stream": "stdout",
       "text": [
        " 0 minibatch loss: 1326.91 minibatch accuracy: 12.5% validation accuracy: 10.2%\n",
        "step:"
       ]
      },
      {
       "output_type": "stream",
       "stream": "stdout",
       "text": [
        " 1000 minibatch loss: 1305.27 minibatch accuracy: 18.8% validation accuracy: 23.4%\n",
        "step:"
       ]
      },
      {
       "output_type": "stream",
       "stream": "stdout",
       "text": [
        " 2000 minibatch loss: 1298.69 minibatch accuracy: 28.1% validation accuracy: 26.7%\n",
        "step:"
       ]
      },
      {
       "output_type": "stream",
       "stream": "stdout",
       "text": [
        " 3000 minibatch loss: 1292.1 minibatch accuracy: 25.0% validation accuracy: 27.7%\n",
        "step:"
       ]
      },
      {
       "output_type": "stream",
       "stream": "stdout",
       "text": [
        " 4000 minibatch loss: 1285.86 minibatch accuracy: 25.0% validation accuracy: 30.2%\n",
        "step:"
       ]
      },
      {
       "output_type": "stream",
       "stream": "stdout",
       "text": [
        " 5000 minibatch loss: 1279.38 minibatch accuracy: 21.9% validation accuracy: 30.4%\n",
        "step:"
       ]
      },
      {
       "output_type": "stream",
       "stream": "stdout",
       "text": [
        " 6000 minibatch loss: 1272.98 minibatch accuracy: 31.2% validation accuracy: 32.1%\n",
        "step:"
       ]
      },
      {
       "output_type": "stream",
       "stream": "stdout",
       "text": [
        " 7000 minibatch loss: 1266.71 minibatch accuracy: 31.2% validation accuracy: 31.7%\n",
        "step:"
       ]
      },
      {
       "output_type": "stream",
       "stream": "stdout",
       "text": [
        " 8000 minibatch loss: 1260.48 minibatch accuracy: 34.4% validation accuracy: 34.4%\n",
        "step:"
       ]
      },
      {
       "output_type": "stream",
       "stream": "stdout",
       "text": [
        " 9000 minibatch loss: 1254.05 minibatch accuracy: 37.5% validation accuracy: 35.4%\n",
        "step:"
       ]
      },
      {
       "output_type": "stream",
       "stream": "stdout",
       "text": [
        " 10000 minibatch loss: 1248.0 minibatch accuracy: 25.0% validation accuracy: 36.2%\n",
        "step:"
       ]
      },
      {
       "output_type": "stream",
       "stream": "stdout",
       "text": [
        " 11000 minibatch loss: 1241.75 minibatch accuracy: 40.6% validation accuracy: 33.9%\n",
        "step:"
       ]
      },
      {
       "output_type": "stream",
       "stream": "stdout",
       "text": [
        " 12000 minibatch loss: 1235.46 minibatch accuracy: 43.8% validation accuracy: 38.4%\n",
        "step:"
       ]
      },
      {
       "output_type": "stream",
       "stream": "stdout",
       "text": [
        " 13000 minibatch loss: 1229.29 minibatch accuracy: 43.8% validation accuracy: 38.3%\n",
        "step:"
       ]
      },
      {
       "output_type": "stream",
       "stream": "stdout",
       "text": [
        " 14000 minibatch loss: 1223.67 minibatch accuracy: 25.0% validation accuracy: 39.4%\n",
        "step:"
       ]
      },
      {
       "output_type": "stream",
       "stream": "stdout",
       "text": [
        " 15000 minibatch loss: 1217.63 minibatch accuracy: 37.5% validation accuracy: 39.3%\n",
        "step:"
       ]
      },
      {
       "output_type": "stream",
       "stream": "stdout",
       "text": [
        " 16000 minibatch loss: 1211.42 minibatch accuracy: 37.5% validation accuracy: 39.4%\n",
        "step:"
       ]
      },
      {
       "output_type": "stream",
       "stream": "stdout",
       "text": [
        " 17000 minibatch loss: 1205.22 minibatch accuracy: 62.5% validation accuracy: 41.6%\n",
        "step:"
       ]
      },
      {
       "output_type": "stream",
       "stream": "stdout",
       "text": [
        " 18000 minibatch loss: 1199.3 minibatch accuracy: 50.0% validation accuracy: 42.2%\n",
        "step:"
       ]
      },
      {
       "output_type": "stream",
       "stream": "stdout",
       "text": [
        " 19000 minibatch loss: 1193.68 minibatch accuracy: 37.5% validation accuracy: 40.8%\n",
        "step:"
       ]
      },
      {
       "output_type": "stream",
       "stream": "stdout",
       "text": [
        " 20000 minibatch loss: 1187.56 minibatch accuracy: 50.0% validation accuracy: 41.5%\n",
        "step:"
       ]
      },
      {
       "output_type": "stream",
       "stream": "stdout",
       "text": [
        " 21000 minibatch loss: 1181.94 minibatch accuracy: 40.6% validation accuracy: 41.7%\n",
        "step:"
       ]
      },
      {
       "output_type": "stream",
       "stream": "stdout",
       "text": [
        " 22000 minibatch loss: 1176.24 minibatch accuracy: 43.8% validation accuracy: 42.8%\n",
        "step:"
       ]
      },
      {
       "output_type": "stream",
       "stream": "stdout",
       "text": [
        " 23000 minibatch loss: 1170.56 minibatch accuracy: 40.6% validation accuracy: 42.5%\n",
        "step:"
       ]
      },
      {
       "output_type": "stream",
       "stream": "stdout",
       "text": [
        " 24000 minibatch loss: 1164.55 minibatch accuracy: 53.1% validation accuracy: 43.6%\n",
        "step:"
       ]
      },
      {
       "output_type": "stream",
       "stream": "stdout",
       "text": [
        " 25000 minibatch loss: 1158.96 minibatch accuracy: 43.8% validation accuracy: 42.2%\n",
        "step:"
       ]
      },
      {
       "output_type": "stream",
       "stream": "stdout",
       "text": [
        " 26000 minibatch loss: 1153.43 minibatch accuracy: 31.2% validation accuracy: 42.8%\n",
        "step:"
       ]
      },
      {
       "output_type": "stream",
       "stream": "stdout",
       "text": [
        " 27000 minibatch loss: 1147.55 minibatch accuracy: 50.0% validation accuracy: 43.0%\n",
        "step:"
       ]
      },
      {
       "output_type": "stream",
       "stream": "stdout",
       "text": [
        " 28000 minibatch loss: 1142.08 minibatch accuracy: 37.5% validation accuracy: 43.1%\n",
        "step:"
       ]
      },
      {
       "output_type": "stream",
       "stream": "stdout",
       "text": [
        " 29000 minibatch loss: 1136.64 minibatch accuracy: 46.9% validation accuracy: 45.1%\n",
        "step:"
       ]
      },
      {
       "output_type": "stream",
       "stream": "stdout",
       "text": [
        " 30000 minibatch loss: 1130.89 minibatch accuracy: 40.6% validation accuracy: 45.4%\n",
        "step:"
       ]
      },
      {
       "output_type": "stream",
       "stream": "stdout",
       "text": [
        " 31000 minibatch loss: 1125.33 minibatch accuracy: 50.0% validation accuracy: 44.0%\n",
        "step:"
       ]
      },
      {
       "output_type": "stream",
       "stream": "stdout",
       "text": [
        " 32000 minibatch loss: 1120.17 minibatch accuracy: 34.4% validation accuracy: 44.6%\n",
        "step:"
       ]
      },
      {
       "output_type": "stream",
       "stream": "stdout",
       "text": [
        " 33000 minibatch loss: 1114.43 minibatch accuracy: 50.0% validation accuracy: 44.8%\n",
        "step:"
       ]
      },
      {
       "output_type": "stream",
       "stream": "stdout",
       "text": [
        " 34000 minibatch loss: 1109.1 minibatch accuracy: 43.8% validation accuracy: 46.0%\n",
        "step:"
       ]
      },
      {
       "output_type": "stream",
       "stream": "stdout",
       "text": [
        " 35000 minibatch loss: 1103.58 minibatch accuracy: 56.2% validation accuracy: 46.6%\n",
        "step:"
       ]
      },
      {
       "output_type": "stream",
       "stream": "stdout",
       "text": [
        " 36000 minibatch loss: 1098.58 minibatch accuracy: 46.9% validation accuracy: 43.0%\n",
        "step:"
       ]
      },
      {
       "output_type": "stream",
       "stream": "stdout",
       "text": [
        " 37000 minibatch loss: 1092.93 minibatch accuracy: 59.4% validation accuracy: 46.4%\n",
        "step:"
       ]
      },
      {
       "output_type": "stream",
       "stream": "stdout",
       "text": [
        " 38000 minibatch loss: 1087.88 minibatch accuracy: 40.6% validation accuracy: 47.1%\n",
        "step:"
       ]
      },
      {
       "output_type": "stream",
       "stream": "stdout",
       "text": [
        " 39000 minibatch loss: 1082.96 minibatch accuracy: 34.4% validation accuracy: 47.8%\n",
        "step:"
       ]
      },
      {
       "output_type": "stream",
       "stream": "stdout",
       "text": [
        " 40000 minibatch loss: 1077.38 minibatch accuracy: 43.8% validation accuracy: 46.6%\n",
        "step:"
       ]
      },
      {
       "output_type": "stream",
       "stream": "stdout",
       "text": [
        " 41000 minibatch loss: 1072.44 minibatch accuracy: 40.6% validation accuracy: 47.5%\n",
        "step:"
       ]
      },
      {
       "output_type": "stream",
       "stream": "stdout",
       "text": [
        " 42000 minibatch loss: 1066.94 minibatch accuracy: 46.9% validation accuracy: 47.2%\n",
        "step:"
       ]
      },
      {
       "output_type": "stream",
       "stream": "stdout",
       "text": [
        " 43000 minibatch loss: 1061.95 minibatch accuracy: 46.9% validation accuracy: 47.1%\n",
        "step:"
       ]
      },
      {
       "output_type": "stream",
       "stream": "stdout",
       "text": [
        " 44000 minibatch loss: 1056.8 minibatch accuracy: 50.0% validation accuracy: 47.2%\n",
        "step:"
       ]
      },
      {
       "output_type": "stream",
       "stream": "stdout",
       "text": [
        " 45000 minibatch loss: 1051.55 minibatch accuracy: 56.2% validation accuracy: 48.8%\n",
        "step:"
       ]
      },
      {
       "output_type": "stream",
       "stream": "stdout",
       "text": [
        " 46000 minibatch loss: 1046.49 minibatch accuracy: 50.0% validation accuracy: 48.9%\n",
        "step:"
       ]
      },
      {
       "output_type": "stream",
       "stream": "stdout",
       "text": [
        " 47000 minibatch loss: 1041.49 minibatch accuracy: 46.9% validation accuracy: 47.0%\n",
        "step:"
       ]
      },
      {
       "output_type": "stream",
       "stream": "stdout",
       "text": [
        " 48000 minibatch loss: 1036.52 minibatch accuracy: 43.8% validation accuracy: 46.0%\n",
        "step:"
       ]
      },
      {
       "output_type": "stream",
       "stream": "stdout",
       "text": [
        " 49000 minibatch loss: 1031.38 minibatch accuracy: 62.5% validation accuracy: 48.3%\n",
        "step:"
       ]
      },
      {
       "output_type": "stream",
       "stream": "stdout",
       "text": [
        " 50000 minibatch loss: 1026.85 minibatch accuracy: 37.5% validation accuracy: 49.0%\n",
        "step:"
       ]
      },
      {
       "output_type": "stream",
       "stream": "stdout",
       "text": [
        " 51000 minibatch loss: 1022.03 minibatch accuracy: 37.5% validation accuracy: 46.6%\n",
        "step:"
       ]
      },
      {
       "output_type": "stream",
       "stream": "stdout",
       "text": [
        " 52000 minibatch loss: 1016.93 minibatch accuracy: 56.2% validation accuracy: 48.4%\n",
        "step:"
       ]
      },
      {
       "output_type": "stream",
       "stream": "stdout",
       "text": [
        " 53000 minibatch loss: 1011.94 minibatch accuracy: 50.0% validation accuracy: 48.6%\n",
        "step:"
       ]
      },
      {
       "output_type": "stream",
       "stream": "stdout",
       "text": [
        " 54000 minibatch loss: 1007.21 minibatch accuracy: 43.8% validation accuracy: 50.0%\n",
        "step:"
       ]
      },
      {
       "output_type": "stream",
       "stream": "stdout",
       "text": [
        " 55000 minibatch loss: 1002.18 minibatch accuracy: 56.2% validation accuracy: 49.7%\n",
        "step:"
       ]
      },
      {
       "output_type": "stream",
       "stream": "stdout",
       "text": [
        " 56000 minibatch loss: 997.659 minibatch accuracy: 46.9% validation accuracy: 50.7%\n",
        "step:"
       ]
      },
      {
       "output_type": "stream",
       "stream": "stdout",
       "text": [
        " 57000 minibatch loss: 992.927 minibatch accuracy: 43.8% validation accuracy: 49.9%\n",
        "step:"
       ]
      },
      {
       "output_type": "stream",
       "stream": "stdout",
       "text": [
        " 58000 minibatch loss: 988.305 minibatch accuracy: 53.1% validation accuracy: 49.5%\n",
        "step:"
       ]
      },
      {
       "output_type": "stream",
       "stream": "stdout",
       "text": [
        " 59000 minibatch loss: 983.31 minibatch accuracy: 59.4% validation accuracy: 49.2%\n",
        "step:"
       ]
      },
      {
       "output_type": "stream",
       "stream": "stdout",
       "text": [
        " 60000 minibatch loss: 978.767 minibatch accuracy: 53.1% validation accuracy: 50.3%\n",
        "step:"
       ]
      },
      {
       "output_type": "stream",
       "stream": "stdout",
       "text": [
        " 61000 minibatch loss: 974.186 minibatch accuracy: 43.8% validation accuracy: 50.1%\n",
        "step:"
       ]
      },
      {
       "output_type": "stream",
       "stream": "stdout",
       "text": [
        " 62000 minibatch loss: 969.363 minibatch accuracy: 53.1% validation accuracy: 51.3%\n",
        "step:"
       ]
      },
      {
       "output_type": "stream",
       "stream": "stdout",
       "text": [
        " 63000 minibatch loss: 964.819 minibatch accuracy: 50.0% validation accuracy: 49.8%\n",
        "step:"
       ]
      },
      {
       "output_type": "stream",
       "stream": "stdout",
       "text": [
        " 64000 minibatch loss: 960.404 minibatch accuracy: 46.9% validation accuracy: 50.5%\n",
        "step:"
       ]
      },
      {
       "output_type": "stream",
       "stream": "stdout",
       "text": [
        " 65000 minibatch loss: 955.856 minibatch accuracy: 46.9% validation accuracy: 50.9%\n",
        "step:"
       ]
      },
      {
       "output_type": "stream",
       "stream": "stdout",
       "text": [
        " 66000 minibatch loss: 951.671 minibatch accuracy: 40.6% validation accuracy: 49.4%\n",
        "step:"
       ]
      },
      {
       "output_type": "stream",
       "stream": "stdout",
       "text": [
        " 67000 minibatch loss: 946.969 minibatch accuracy: 43.8% validation accuracy: 49.6%\n",
        "step:"
       ]
      },
      {
       "output_type": "stream",
       "stream": "stdout",
       "text": [
        " 68000 minibatch loss: 942.268 minibatch accuracy: 56.2% validation accuracy: 49.9%\n",
        "step:"
       ]
      },
      {
       "output_type": "stream",
       "stream": "stdout",
       "text": [
        " 69000 minibatch loss: 938.024 minibatch accuracy: 37.5% validation accuracy: 50.3%\n",
        "step:"
       ]
      },
      {
       "output_type": "stream",
       "stream": "stdout",
       "text": [
        " 70000 minibatch loss: 933.489 minibatch accuracy: 59.4% validation accuracy: 51.2%\n",
        "step:"
       ]
      },
      {
       "output_type": "stream",
       "stream": "stdout",
       "text": [
        " 71000 minibatch loss: 929.102 minibatch accuracy: 43.8% validation accuracy: 50.2%\n",
        "step:"
       ]
      },
      {
       "output_type": "stream",
       "stream": "stdout",
       "text": [
        " 72000 minibatch loss: 924.786 minibatch accuracy: 56.2% validation accuracy: 50.6%\n",
        "step:"
       ]
      },
      {
       "output_type": "stream",
       "stream": "stdout",
       "text": [
        " 73000 minibatch loss: 920.35 minibatch accuracy: 62.5% validation accuracy: 52.0%\n",
        "step:"
       ]
      },
      {
       "output_type": "stream",
       "stream": "stdout",
       "text": [
        " 74000 minibatch loss: 916.02 minibatch accuracy: 46.9% validation accuracy: 51.5%\n",
        "step:"
       ]
      },
      {
       "output_type": "stream",
       "stream": "stdout",
       "text": [
        " 75000 minibatch loss: 911.995 minibatch accuracy: 43.8% validation accuracy: 52.0%\n",
        "step:"
       ]
      },
      {
       "output_type": "stream",
       "stream": "stdout",
       "text": [
        " 76000 minibatch loss: 907.501 minibatch accuracy: 50.0% validation accuracy: 52.1%\n",
        "step:"
       ]
      },
      {
       "output_type": "stream",
       "stream": "stdout",
       "text": [
        " 77000 minibatch loss: 903.079 minibatch accuracy: 62.5% validation accuracy: 51.4%\n",
        "step:"
       ]
      },
      {
       "output_type": "stream",
       "stream": "stdout",
       "text": [
        " 78000 minibatch loss: 899.173 minibatch accuracy: 46.9% validation accuracy: 51.5%\n",
        "step:"
       ]
      },
      {
       "output_type": "stream",
       "stream": "stdout",
       "text": [
        " 79000 minibatch loss: 894.964 minibatch accuracy: 46.9% validation accuracy: 50.4%\n",
        "step:"
       ]
      },
      {
       "output_type": "stream",
       "stream": "stdout",
       "text": [
        " 80000 minibatch loss: 890.502 minibatch accuracy: 56.2% validation accuracy: 52.7%\n",
        "step:"
       ]
      },
      {
       "output_type": "stream",
       "stream": "stdout",
       "text": [
        " 81000 minibatch loss: 886.601 minibatch accuracy: 50.0% validation accuracy: 51.1%\n",
        "step:"
       ]
      },
      {
       "output_type": "stream",
       "stream": "stdout",
       "text": [
        " 82000 minibatch loss: 882.172 minibatch accuracy: 56.2% validation accuracy: 51.8%\n",
        "step:"
       ]
      },
      {
       "output_type": "stream",
       "stream": "stdout",
       "text": [
        " 83000 minibatch loss: 878.369 minibatch accuracy: 53.1% validation accuracy: 51.4%\n",
        "step:"
       ]
      },
      {
       "output_type": "stream",
       "stream": "stdout",
       "text": [
        " 84000 minibatch loss: 874.407 minibatch accuracy: 46.9% validation accuracy: 51.0%\n",
        "step:"
       ]
      },
      {
       "output_type": "stream",
       "stream": "stdout",
       "text": [
        " 85000 minibatch loss: 869.938 minibatch accuracy: 56.2% validation accuracy: 53.2%\n",
        "step:"
       ]
      },
      {
       "output_type": "stream",
       "stream": "stdout",
       "text": [
        " 86000 minibatch loss: 865.903 minibatch accuracy: 68.8% validation accuracy: 52.2%\n",
        "step:"
       ]
      },
      {
       "output_type": "stream",
       "stream": "stdout",
       "text": [
        " 87000 minibatch loss: 861.822 minibatch accuracy: 65.6% validation accuracy: 50.9%\n",
        "step:"
       ]
      },
      {
       "output_type": "stream",
       "stream": "stdout",
       "text": [
        " 88000 minibatch loss: 857.814 minibatch accuracy: 65.6% validation accuracy: 51.7%\n",
        "step:"
       ]
      },
      {
       "output_type": "stream",
       "stream": "stdout",
       "text": [
        " 89000 minibatch loss: 854.248 minibatch accuracy: 53.1% validation accuracy: 52.8%\n",
        "step:"
       ]
      },
      {
       "output_type": "stream",
       "stream": "stdout",
       "text": [
        " 90000 minibatch loss: 850.224 minibatch accuracy: 46.9% validation accuracy: 52.7%\n",
        "step:"
       ]
      },
      {
       "output_type": "stream",
       "stream": "stdout",
       "text": [
        " 91000 minibatch loss: 846.318 minibatch accuracy: 50.0% validation accuracy: 53.5%\n",
        "step:"
       ]
      },
      {
       "output_type": "stream",
       "stream": "stdout",
       "text": [
        " 92000 minibatch loss: 842.147 minibatch accuracy: 56.2% validation accuracy: 52.5%\n",
        "step:"
       ]
      },
      {
       "output_type": "stream",
       "stream": "stdout",
       "text": [
        " 93000 minibatch loss: 838.661 minibatch accuracy: 50.0% validation accuracy: 53.7%\n",
        "step:"
       ]
      },
      {
       "output_type": "stream",
       "stream": "stdout",
       "text": [
        " 94000 minibatch loss: 834.665 minibatch accuracy: 53.1% validation accuracy: 53.6%\n",
        "step:"
       ]
      },
      {
       "output_type": "stream",
       "stream": "stdout",
       "text": [
        " 95000 minibatch loss: 830.737 minibatch accuracy: 50.0% validation accuracy: 53.1%\n",
        "step:"
       ]
      },
      {
       "output_type": "stream",
       "stream": "stdout",
       "text": [
        " 96000 minibatch loss: 827.111 minibatch accuracy: 50.0% validation accuracy: 53.5%\n",
        "step:"
       ]
      },
      {
       "output_type": "stream",
       "stream": "stdout",
       "text": [
        " 97000 minibatch loss: 822.913 minibatch accuracy: 59.4% validation accuracy: 53.0%\n",
        "step:"
       ]
      },
      {
       "output_type": "stream",
       "stream": "stdout",
       "text": [
        " 98000 minibatch loss: 819.109 minibatch accuracy: 62.5% validation accuracy: 52.6%\n",
        "step:"
       ]
      },
      {
       "output_type": "stream",
       "stream": "stdout",
       "text": [
        " 99000 minibatch loss: 815.462 minibatch accuracy: 46.9% validation accuracy: 52.5%\n",
        "step:"
       ]
      },
      {
       "output_type": "stream",
       "stream": "stdout",
       "text": [
        " 100000 minibatch loss: 811.618 minibatch accuracy: 62.5% validation accuracy: 53.7%\n",
        "step:"
       ]
      },
      {
       "output_type": "stream",
       "stream": "stdout",
       "text": [
        " 101000 minibatch loss: 808.042 minibatch accuracy: 62.5% validation accuracy: 52.9%\n",
        "step:"
       ]
      },
      {
       "output_type": "stream",
       "stream": "stdout",
       "text": [
        " 102000 minibatch loss: 804.33 minibatch accuracy: 53.1% validation accuracy: 53.2%\n",
        "step:"
       ]
      },
      {
       "output_type": "stream",
       "stream": "stdout",
       "text": [
        " 103000 minibatch loss: 800.738 minibatch accuracy: 46.9% validation accuracy: 53.5%\n",
        "step:"
       ]
      },
      {
       "output_type": "stream",
       "stream": "stdout",
       "text": [
        " 104000 minibatch loss: 796.972 minibatch accuracy: 46.9% validation accuracy: 53.2%\n",
        "step:"
       ]
      },
      {
       "output_type": "stream",
       "stream": "stdout",
       "text": [
        " 105000 minibatch loss: 793.202 minibatch accuracy: 68.8% validation accuracy: 54.0%\n",
        "step:"
       ]
      },
      {
       "output_type": "stream",
       "stream": "stdout",
       "text": [
        " 106000 minibatch loss: 789.792 minibatch accuracy: 59.4% validation accuracy: 53.1%\n",
        "step:"
       ]
      },
      {
       "output_type": "stream",
       "stream": "stdout",
       "text": [
        " 107000 minibatch loss: 786.124 minibatch accuracy: 53.1% validation accuracy: 54.2%\n",
        "step:"
       ]
      },
      {
       "output_type": "stream",
       "stream": "stdout",
       "text": [
        " 108000 minibatch loss: 782.476 minibatch accuracy: 56.2% validation accuracy: 53.0%\n",
        "step:"
       ]
      },
      {
       "output_type": "stream",
       "stream": "stdout",
       "text": [
        " 109000 minibatch loss: 778.906 minibatch accuracy: 62.5% validation accuracy: 53.9%\n",
        "step:"
       ]
      },
      {
       "output_type": "stream",
       "stream": "stdout",
       "text": [
        " 110000 minibatch loss: 775.218 minibatch accuracy: 62.5% validation accuracy: 53.7%\n",
        "step:"
       ]
      },
      {
       "output_type": "stream",
       "stream": "stdout",
       "text": [
        " 111000 minibatch loss: 771.749 minibatch accuracy: 56.2% validation accuracy: 53.9%\n",
        "step:"
       ]
      },
      {
       "output_type": "stream",
       "stream": "stdout",
       "text": [
        " 112000 minibatch loss: 768.203 minibatch accuracy: 56.2% validation accuracy: 52.3%\n",
        "step:"
       ]
      },
      {
       "output_type": "stream",
       "stream": "stdout",
       "text": [
        " 113000 minibatch loss: 764.985 minibatch accuracy: 43.8% validation accuracy: 54.1%\n",
        "step:"
       ]
      },
      {
       "output_type": "stream",
       "stream": "stdout",
       "text": [
        " 114000 minibatch loss: 761.543 minibatch accuracy: 46.9% validation accuracy: 53.7%\n",
        "step:"
       ]
      },
      {
       "output_type": "stream",
       "stream": "stdout",
       "text": [
        " 115000 minibatch loss: 758.042 minibatch accuracy: 50.0% validation accuracy: 54.6%\n",
        "step:"
       ]
      },
      {
       "output_type": "stream",
       "stream": "stdout",
       "text": [
        " 116000 minibatch loss: 754.734 minibatch accuracy: 40.6% validation accuracy: 54.5%\n",
        "step:"
       ]
      },
      {
       "output_type": "stream",
       "stream": "stdout",
       "text": [
        " 117000 minibatch loss: 751.232 minibatch accuracy: 59.4% validation accuracy: 53.1%\n",
        "step:"
       ]
      },
      {
       "output_type": "stream",
       "stream": "stdout",
       "text": [
        " 118000 minibatch loss: 747.415 minibatch accuracy: 65.6% validation accuracy: 53.5%\n",
        "step:"
       ]
      },
      {
       "output_type": "stream",
       "stream": "stdout",
       "text": [
        " 119000 minibatch loss: 744.35 minibatch accuracy: 40.6% validation accuracy: 53.5%\n",
        "step:"
       ]
      },
      {
       "output_type": "stream",
       "stream": "stdout",
       "text": [
        " 120000 minibatch loss: 741.02 minibatch accuracy: 46.9% validation accuracy: 55.3%\n",
        "step:"
       ]
      },
      {
       "output_type": "stream",
       "stream": "stdout",
       "text": [
        " 121000 minibatch loss: 737.498 minibatch accuracy: 65.6% validation accuracy: 54.7%\n",
        "step:"
       ]
      },
      {
       "output_type": "stream",
       "stream": "stdout",
       "text": [
        " 122000 minibatch loss: 734.141 minibatch accuracy: 62.5% validation accuracy: 54.7%\n",
        "step:"
       ]
      },
      {
       "output_type": "stream",
       "stream": "stdout",
       "text": [
        " 123000 minibatch loss: 731.247 minibatch accuracy: 46.9% validation accuracy: 54.7%\n",
        "step:"
       ]
      },
      {
       "output_type": "stream",
       "stream": "stdout",
       "text": [
        " 124000 minibatch loss: 727.701 minibatch accuracy: 53.1% validation accuracy: 54.2%\n",
        "step:"
       ]
      },
      {
       "output_type": "stream",
       "stream": "stdout",
       "text": [
        " 125000 minibatch loss: 724.471 minibatch accuracy: 34.4% validation accuracy: 55.0%\n",
        "step:"
       ]
      },
      {
       "output_type": "stream",
       "stream": "stdout",
       "text": [
        " 126000 minibatch loss: 721.151 minibatch accuracy: 65.6% validation accuracy: 54.7%\n",
        "step:"
       ]
      },
      {
       "output_type": "stream",
       "stream": "stdout",
       "text": [
        " 127000 minibatch loss: 718.016 minibatch accuracy: 62.5% validation accuracy: 53.5%\n",
        "step:"
       ]
      },
      {
       "output_type": "stream",
       "stream": "stdout",
       "text": [
        " 128000 minibatch loss: 714.92 minibatch accuracy: 43.8% validation accuracy: 54.9%\n",
        "step:"
       ]
      },
      {
       "output_type": "stream",
       "stream": "stdout",
       "text": [
        " 129000 minibatch loss: 711.403 minibatch accuracy: 53.1% validation accuracy: 55.7%\n",
        "step:"
       ]
      },
      {
       "output_type": "stream",
       "stream": "stdout",
       "text": [
        " 130000 minibatch loss: 708.378 minibatch accuracy: 43.8% validation accuracy: 54.6%\n",
        "step:"
       ]
      },
      {
       "output_type": "stream",
       "stream": "stdout",
       "text": [
        " 131000 minibatch loss: 705.157 minibatch accuracy: 40.6% validation accuracy: 54.6%\n",
        "step:"
       ]
      },
      {
       "output_type": "stream",
       "stream": "stdout",
       "text": [
        " 132000 minibatch loss: 701.682 minibatch accuracy: 65.6% validation accuracy: 55.0%\n",
        "step:"
       ]
      },
      {
       "output_type": "stream",
       "stream": "stdout",
       "text": [
        " 133000 minibatch loss: 698.605 minibatch accuracy: 65.6% validation accuracy: 54.6%\n",
        "step:"
       ]
      },
      {
       "output_type": "stream",
       "stream": "stdout",
       "text": [
        " 134000 minibatch loss: 695.916 minibatch accuracy: 40.6% validation accuracy: 53.4%\n",
        "step:"
       ]
      },
      {
       "output_type": "stream",
       "stream": "stdout",
       "text": [
        " 135000 minibatch loss: 692.651 minibatch accuracy: 50.0% validation accuracy: 55.5%\n",
        "step:"
       ]
      },
      {
       "output_type": "stream",
       "stream": "stdout",
       "text": [
        " 136000 minibatch loss: 689.651 minibatch accuracy: 53.1% validation accuracy: 55.6%\n",
        "step:"
       ]
      },
      {
       "output_type": "stream",
       "stream": "stdout",
       "text": [
        " 137000 minibatch loss: 686.469 minibatch accuracy: 59.4% validation accuracy: 55.1%\n",
        "step:"
       ]
      },
      {
       "output_type": "stream",
       "stream": "stdout",
       "text": [
        " 138000 minibatch loss: 683.778 minibatch accuracy: 37.5% validation accuracy: 55.9%\n",
        "step:"
       ]
      },
      {
       "output_type": "stream",
       "stream": "stdout",
       "text": [
        " 139000 minibatch loss: 680.157 minibatch accuracy: 53.1% validation accuracy: 55.4%\n",
        "step:"
       ]
      },
      {
       "output_type": "stream",
       "stream": "stdout",
       "text": [
        " 140000 minibatch loss: 677.263 minibatch accuracy: 65.6% validation accuracy: 55.4%\n",
        "step:"
       ]
      },
      {
       "output_type": "stream",
       "stream": "stdout",
       "text": [
        " 141000 minibatch loss: 674.463 minibatch accuracy: 46.9% validation accuracy: 55.7%\n",
        "step:"
       ]
      },
      {
       "output_type": "stream",
       "stream": "stdout",
       "text": [
        " 142000 minibatch loss: 671.183 minibatch accuracy: 62.5% validation accuracy: 54.9%\n",
        "step:"
       ]
      },
      {
       "output_type": "stream",
       "stream": "stdout",
       "text": [
        " 143000 minibatch loss: 668.435 minibatch accuracy: 62.5% validation accuracy: 55.7%\n",
        "step:"
       ]
      },
      {
       "output_type": "stream",
       "stream": "stdout",
       "text": [
        " 144000 minibatch loss: 665.367 minibatch accuracy: 65.6% validation accuracy: 54.9%\n",
        "step:"
       ]
      },
      {
       "output_type": "stream",
       "stream": "stdout",
       "text": [
        " 145000 minibatch loss: 662.351 minibatch accuracy: 65.6% validation accuracy: 53.2%\n",
        "step:"
       ]
      },
      {
       "output_type": "stream",
       "stream": "stdout",
       "text": [
        " 146000 minibatch loss: 659.476 minibatch accuracy: 62.5% validation accuracy: 55.7%\n",
        "step:"
       ]
      },
      {
       "output_type": "stream",
       "stream": "stdout",
       "text": [
        " 147000 minibatch loss: 656.609 minibatch accuracy: 62.5% validation accuracy: 55.9%\n",
        "step:"
       ]
      },
      {
       "output_type": "stream",
       "stream": "stdout",
       "text": [
        " 148000 minibatch loss: 653.749 minibatch accuracy: 50.0% validation accuracy: 56.1%\n",
        "step:"
       ]
      },
      {
       "output_type": "stream",
       "stream": "stdout",
       "text": [
        " 149000 minibatch loss: 650.713 minibatch accuracy: 65.6% validation accuracy: 54.8%\n",
        "step:"
       ]
      },
      {
       "output_type": "stream",
       "stream": "stdout",
       "text": [
        " 150000 minibatch loss: 647.727 minibatch accuracy: 75.0% validation accuracy: 55.4%\n",
        "step:"
       ]
      },
      {
       "output_type": "stream",
       "stream": "stdout",
       "text": [
        " 151000 minibatch loss: 645.246 minibatch accuracy: 50.0% validation accuracy: 54.4%\n",
        "step:"
       ]
      },
      {
       "output_type": "stream",
       "stream": "stdout",
       "text": [
        " 152000 minibatch loss: 642.578 minibatch accuracy: 43.8% validation accuracy: 53.9%\n",
        "step:"
       ]
      },
      {
       "output_type": "stream",
       "stream": "stdout",
       "text": [
        " 153000 minibatch loss: 639.534 minibatch accuracy: 50.0% validation accuracy: 55.8%\n",
        "step:"
       ]
      },
      {
       "output_type": "stream",
       "stream": "stdout",
       "text": [
        " 154000 minibatch loss: 636.587 minibatch accuracy: 56.2% validation accuracy: 54.5%\n",
        "step:"
       ]
      },
      {
       "output_type": "stream",
       "stream": "stdout",
       "text": [
        " 155000 minibatch loss: 633.676 minibatch accuracy: 65.6% validation accuracy: 54.9%\n",
        "step:"
       ]
      },
      {
       "output_type": "stream",
       "stream": "stdout",
       "text": [
        " 156000 minibatch loss: 631.092 minibatch accuracy: 46.9% validation accuracy: 55.3%\n",
        "step:"
       ]
      },
      {
       "output_type": "stream",
       "stream": "stdout",
       "text": [
        " 157000 minibatch loss: 628.318 minibatch accuracy: 46.9% validation accuracy: 55.6%\n",
        "step:"
       ]
      },
      {
       "output_type": "stream",
       "stream": "stdout",
       "text": [
        " 158000 minibatch loss: 625.402 minibatch accuracy: 56.2% validation accuracy: 56.4%\n",
        "step:"
       ]
      },
      {
       "output_type": "stream",
       "stream": "stdout",
       "text": [
        " 159000 minibatch loss: 622.792 minibatch accuracy: 46.9% validation accuracy: 55.7%\n",
        "step:"
       ]
      },
      {
       "output_type": "stream",
       "stream": "stdout",
       "text": [
        " 160000 minibatch loss: 620.095 minibatch accuracy: 56.2% validation accuracy: 56.7%\n",
        "step:"
       ]
      },
      {
       "output_type": "stream",
       "stream": "stdout",
       "text": [
        " 161000 minibatch loss: 617.512 minibatch accuracy: 56.2% validation accuracy: 55.8%\n",
        "step:"
       ]
      },
      {
       "output_type": "stream",
       "stream": "stdout",
       "text": [
        " 162000 minibatch loss: 614.768 minibatch accuracy: 50.0% validation accuracy: 56.2%\n",
        "step:"
       ]
      },
      {
       "output_type": "stream",
       "stream": "stdout",
       "text": [
        " 163000 minibatch loss: 611.972 minibatch accuracy: 59.4% validation accuracy: 56.7%\n",
        "step:"
       ]
      },
      {
       "output_type": "stream",
       "stream": "stdout",
       "text": [
        " 164000 minibatch loss: 609.362 minibatch accuracy: 62.5% validation accuracy: 55.7%\n",
        "step:"
       ]
      },
      {
       "output_type": "stream",
       "stream": "stdout",
       "text": [
        " 165000 minibatch loss: 606.643 minibatch accuracy: 56.2% validation accuracy: 55.7%\n",
        "step:"
       ]
      },
      {
       "output_type": "stream",
       "stream": "stdout",
       "text": [
        " 166000 minibatch loss: 604.285 minibatch accuracy: 62.5% validation accuracy: 55.9%\n",
        "step:"
       ]
      },
      {
       "output_type": "stream",
       "stream": "stdout",
       "text": [
        " 167000 minibatch loss: 601.25 minibatch accuracy: 65.6% validation accuracy: 55.3%\n",
        "step:"
       ]
      },
      {
       "output_type": "stream",
       "stream": "stdout",
       "text": [
        " 168000 minibatch loss: 598.98 minibatch accuracy: 46.9% validation accuracy: 55.6%\n",
        "step:"
       ]
      },
      {
       "output_type": "stream",
       "stream": "stdout",
       "text": [
        " 169000 minibatch loss: 596.315 minibatch accuracy: 50.0% validation accuracy: 56.0%\n",
        "step:"
       ]
      },
      {
       "output_type": "stream",
       "stream": "stdout",
       "text": [
        " 170000 minibatch loss: 593.712 minibatch accuracy: 56.2% validation accuracy: 56.0%\n",
        "step:"
       ]
      },
      {
       "output_type": "stream",
       "stream": "stdout",
       "text": [
        " 171000 minibatch loss: 590.906 minibatch accuracy: 75.0% validation accuracy: 56.2%\n",
        "step:"
       ]
      },
      {
       "output_type": "stream",
       "stream": "stdout",
       "text": [
        " 172000 minibatch loss: 588.391 minibatch accuracy: 65.6% validation accuracy: 56.3%\n",
        "step:"
       ]
      },
      {
       "output_type": "stream",
       "stream": "stdout",
       "text": [
        " 173000 minibatch loss: 585.915 minibatch accuracy: 59.4% validation accuracy: 55.3%\n",
        "step:"
       ]
      },
      {
       "output_type": "stream",
       "stream": "stdout",
       "text": [
        " 174000 minibatch loss: 583.318 minibatch accuracy: 56.2% validation accuracy: 56.3%\n",
        "step:"
       ]
      },
      {
       "output_type": "stream",
       "stream": "stdout",
       "text": [
        " 175000 minibatch loss: 581.286 minibatch accuracy: 50.0% validation accuracy: 56.1%\n",
        "step:"
       ]
      },
      {
       "output_type": "stream",
       "stream": "stdout",
       "text": [
        " 176000 minibatch loss: 578.292 minibatch accuracy: 62.5% validation accuracy: 55.9%\n",
        "step:"
       ]
      },
      {
       "output_type": "stream",
       "stream": "stdout",
       "text": [
        " 177000 minibatch loss: 575.976 minibatch accuracy: 53.1% validation accuracy: 56.2%\n",
        "step:"
       ]
      },
      {
       "output_type": "stream",
       "stream": "stdout",
       "text": [
        " 178000 minibatch loss: 573.704 minibatch accuracy: 46.9% validation accuracy: 55.5%\n",
        "step:"
       ]
      },
      {
       "output_type": "stream",
       "stream": "stdout",
       "text": [
        " 179000 minibatch loss: 571.079 minibatch accuracy: 62.5% validation accuracy: 56.0%\n",
        "step:"
       ]
      },
      {
       "output_type": "stream",
       "stream": "stdout",
       "text": [
        " 180000 minibatch loss: 568.309 minibatch accuracy: 68.8% validation accuracy: 56.0%\n",
        "step:"
       ]
      },
      {
       "output_type": "stream",
       "stream": "stdout",
       "text": [
        " 181000 minibatch loss: 565.992 minibatch accuracy: 65.6% validation accuracy: 54.2%\n",
        "step:"
       ]
      },
      {
       "output_type": "stream",
       "stream": "stdout",
       "text": [
        " 182000 minibatch loss: 563.697 minibatch accuracy: 53.1% validation accuracy: 55.5%\n",
        "step:"
       ]
      },
      {
       "output_type": "stream",
       "stream": "stdout",
       "text": [
        " 183000 minibatch loss: 561.32 minibatch accuracy: 46.9% validation accuracy: 56.5%\n",
        "step:"
       ]
      },
      {
       "output_type": "stream",
       "stream": "stdout",
       "text": [
        " 184000 minibatch loss: 558.748 minibatch accuracy: 65.6% validation accuracy: 55.1%\n",
        "step:"
       ]
      },
      {
       "output_type": "stream",
       "stream": "stdout",
       "text": [
        " 185000 minibatch loss: 556.512 minibatch accuracy: 46.9% validation accuracy: 56.9%\n",
        "step:"
       ]
      },
      {
       "output_type": "stream",
       "stream": "stdout",
       "text": [
        " 186000 minibatch loss: 554.008 minibatch accuracy: 65.6% validation accuracy: 54.8%\n",
        "step:"
       ]
      },
      {
       "output_type": "stream",
       "stream": "stdout",
       "text": [
        " 187000 minibatch loss: 551.786 minibatch accuracy: 40.6% validation accuracy: 56.6%\n",
        "step:"
       ]
      },
      {
       "output_type": "stream",
       "stream": "stdout",
       "text": [
        " 188000 minibatch loss: 549.243 minibatch accuracy: 65.6% validation accuracy: 56.3%\n",
        "step:"
       ]
      },
      {
       "output_type": "stream",
       "stream": "stdout",
       "text": [
        " 189000 minibatch loss: 546.802 minibatch accuracy: 71.9% validation accuracy: 57.2%\n",
        "step:"
       ]
      },
      {
       "output_type": "stream",
       "stream": "stdout",
       "text": [
        " 190000 minibatch loss: 544.712 minibatch accuracy: 56.2% validation accuracy: 56.4%\n",
        "step:"
       ]
      },
      {
       "output_type": "stream",
       "stream": "stdout",
       "text": [
        " 191000 minibatch loss: 542.497 minibatch accuracy: 50.0% validation accuracy: 55.9%\n",
        "step:"
       ]
      },
      {
       "output_type": "stream",
       "stream": "stdout",
       "text": [
        " 192000 minibatch loss: 539.876 minibatch accuracy: 65.6% validation accuracy: 56.5%\n",
        "step:"
       ]
      },
      {
       "output_type": "stream",
       "stream": "stdout",
       "text": [
        " 193000 minibatch loss: 537.719 minibatch accuracy: 53.1% validation accuracy: 56.3%\n",
        "step:"
       ]
      },
      {
       "output_type": "stream",
       "stream": "stdout",
       "text": [
        " 194000 minibatch loss: 535.514 minibatch accuracy: 59.4% validation accuracy: 56.3%\n",
        "step:"
       ]
      },
      {
       "output_type": "stream",
       "stream": "stdout",
       "text": [
        " 195000 minibatch loss: 533.193 minibatch accuracy: 50.0% validation accuracy: 57.0%\n",
        "step:"
       ]
      },
      {
       "output_type": "stream",
       "stream": "stdout",
       "text": [
        " 196000 minibatch loss: 530.732 minibatch accuracy: 65.6% validation accuracy: 56.2%\n",
        "step:"
       ]
      },
      {
       "output_type": "stream",
       "stream": "stdout",
       "text": [
        " 197000 minibatch loss: 528.671 minibatch accuracy: 56.2% validation accuracy: 56.2%\n",
        "step:"
       ]
      },
      {
       "output_type": "stream",
       "stream": "stdout",
       "text": [
        " 198000 minibatch loss: 526.291 minibatch accuracy: 65.6% validation accuracy: 56.6%\n",
        "step:"
       ]
      },
      {
       "output_type": "stream",
       "stream": "stdout",
       "text": [
        " 199000 minibatch loss: 524.135 minibatch accuracy: 53.1% validation accuracy: 56.9%\n",
        "step:"
       ]
      },
      {
       "output_type": "stream",
       "stream": "stdout",
       "text": [
        " 200000 minibatch loss: 522.497 minibatch accuracy: 31.2% validation accuracy: 57.1%\n",
        "step:"
       ]
      },
      {
       "output_type": "stream",
       "stream": "stdout",
       "text": [
        " 201000 minibatch loss: 519.8 minibatch accuracy: 53.1% validation accuracy: 57.0%\n",
        "step:"
       ]
      },
      {
       "output_type": "stream",
       "stream": "stdout",
       "text": [
        " 202000 minibatch loss: 517.483 minibatch accuracy: 53.1% validation accuracy: 56.4%\n",
        "step:"
       ]
      },
      {
       "output_type": "stream",
       "stream": "stdout",
       "text": [
        " 203000 minibatch loss: 515.361 minibatch accuracy: 59.4% validation accuracy: 56.6%\n",
        "step:"
       ]
      },
      {
       "output_type": "stream",
       "stream": "stdout",
       "text": [
        " 204000 minibatch loss: 513.072 minibatch accuracy: 56.2% validation accuracy: 56.6%\n",
        "step:"
       ]
      },
      {
       "output_type": "stream",
       "stream": "stdout",
       "text": [
        " 205000 minibatch loss: 511.151 minibatch accuracy: 53.1% validation accuracy: 57.0%\n",
        "step:"
       ]
      },
      {
       "output_type": "stream",
       "stream": "stdout",
       "text": [
        " 206000 minibatch loss: 508.846 minibatch accuracy: 59.4% validation accuracy: 55.3%\n",
        "step:"
       ]
      },
      {
       "output_type": "stream",
       "stream": "stdout",
       "text": [
        " 207000 minibatch loss: 506.608 minibatch accuracy: 56.2% validation accuracy: 54.5%\n",
        "step:"
       ]
      },
      {
       "output_type": "stream",
       "stream": "stdout",
       "text": [
        " 208000 minibatch loss: 504.841 minibatch accuracy: 53.1% validation accuracy: 56.7%\n",
        "step:"
       ]
      },
      {
       "output_type": "stream",
       "stream": "stdout",
       "text": [
        " 209000 minibatch loss: 502.404 minibatch accuracy: 68.8% validation accuracy: 56.1%\n",
        "step:"
       ]
      },
      {
       "output_type": "stream",
       "stream": "stdout",
       "text": [
        " 210000 minibatch loss: 500.625 minibatch accuracy: 43.8% validation accuracy: 56.8%\n",
        "step:"
       ]
      },
      {
       "output_type": "stream",
       "stream": "stdout",
       "text": [
        " 211000 minibatch loss: 498.45 minibatch accuracy: 56.2% validation accuracy: 57.2%\n",
        "step:"
       ]
      },
      {
       "output_type": "stream",
       "stream": "stdout",
       "text": [
        " 212000 minibatch loss: 496.007 minibatch accuracy: 62.5% validation accuracy: 56.9%\n",
        "step:"
       ]
      },
      {
       "output_type": "stream",
       "stream": "stdout",
       "text": [
        " 213000 minibatch loss: 494.33 minibatch accuracy: 62.5% validation accuracy: 57.6%\n",
        "step:"
       ]
      },
      {
       "output_type": "stream",
       "stream": "stdout",
       "text": [
        " 214000 minibatch loss: 492.097 minibatch accuracy: 62.5% validation accuracy: 56.1%\n",
        "step:"
       ]
      },
      {
       "output_type": "stream",
       "stream": "stdout",
       "text": [
        " 215000 minibatch loss: 489.94 minibatch accuracy: 59.4% validation accuracy: 56.9%\n",
        "step:"
       ]
      },
      {
       "output_type": "stream",
       "stream": "stdout",
       "text": [
        " 216000 minibatch loss: 488.084 minibatch accuracy: 56.2% validation accuracy: 57.0%\n",
        "step:"
       ]
      },
      {
       "output_type": "stream",
       "stream": "stdout",
       "text": [
        " 217000 minibatch loss: 485.951 minibatch accuracy: 62.5% validation accuracy: 56.9%\n",
        "step:"
       ]
      },
      {
       "output_type": "stream",
       "stream": "stdout",
       "text": [
        " 218000 minibatch loss: 483.705 minibatch accuracy: 71.9% validation accuracy: 57.7%\n",
        "step:"
       ]
      },
      {
       "output_type": "stream",
       "stream": "stdout",
       "text": [
        " 219000 minibatch loss: 481.748 minibatch accuracy: 62.5% validation accuracy: 57.0%\n",
        "step:"
       ]
      },
      {
       "output_type": "stream",
       "stream": "stdout",
       "text": [
        " 220000 minibatch loss: 480.057 minibatch accuracy: 40.6% validation accuracy: 56.7%\n",
        "step:"
       ]
      },
      {
       "output_type": "stream",
       "stream": "stdout",
       "text": [
        " 221000 minibatch loss: 478.073 minibatch accuracy: 50.0% validation accuracy: 56.5%\n",
        "step:"
       ]
      },
      {
       "output_type": "stream",
       "stream": "stdout",
       "text": [
        " 222000 minibatch loss: 475.886 minibatch accuracy: 65.6% validation accuracy: 57.1%\n",
        "step:"
       ]
      },
      {
       "output_type": "stream",
       "stream": "stdout",
       "text": [
        " 223000 minibatch loss: 473.896 minibatch accuracy: 53.1% validation accuracy: 57.2%\n",
        "step:"
       ]
      },
      {
       "output_type": "stream",
       "stream": "stdout",
       "text": [
        " 224000 minibatch loss: 472.282 minibatch accuracy: 46.9% validation accuracy: 56.5%\n",
        "step:"
       ]
      },
      {
       "output_type": "stream",
       "stream": "stdout",
       "text": [
        " 225000 minibatch loss: 470.196 minibatch accuracy: 46.9% validation accuracy: 57.5%\n",
        "step:"
       ]
      },
      {
       "output_type": "stream",
       "stream": "stdout",
       "text": [
        " 226000 minibatch loss: 468.397 minibatch accuracy: 37.5% validation accuracy: 57.2%\n",
        "step:"
       ]
      },
      {
       "output_type": "stream",
       "stream": "stdout",
       "text": [
        " 227000 minibatch loss: 466.185 minibatch accuracy: 59.4% validation accuracy: 56.5%\n",
        "step:"
       ]
      },
      {
       "output_type": "stream",
       "stream": "stdout",
       "text": [
        " 228000 minibatch loss: 464.297 minibatch accuracy: 56.2% validation accuracy: 57.5%\n",
        "step:"
       ]
      },
      {
       "output_type": "stream",
       "stream": "stdout",
       "text": [
        " 229000 minibatch loss: 462.358 minibatch accuracy: 59.4% validation accuracy: 57.6%\n",
        "step:"
       ]
      },
      {
       "output_type": "stream",
       "stream": "stdout",
       "text": [
        " 230000 minibatch loss: 460.174 minibatch accuracy: 81.2% validation accuracy: 57.4%\n",
        "step:"
       ]
      },
      {
       "output_type": "stream",
       "stream": "stdout",
       "text": [
        " 231000 minibatch loss: 458.554 minibatch accuracy: 53.1% validation accuracy: 56.2%\n",
        "step:"
       ]
      },
      {
       "output_type": "stream",
       "stream": "stdout",
       "text": [
        " 232000 minibatch loss: 456.461 minibatch accuracy: 71.9% validation accuracy: 56.8%\n",
        "step:"
       ]
      },
      {
       "output_type": "stream",
       "stream": "stdout",
       "text": [
        " 233000 minibatch loss: 454.833 minibatch accuracy: 56.2% validation accuracy: 57.2%\n",
        "step:"
       ]
      },
      {
       "output_type": "stream",
       "stream": "stdout",
       "text": [
        " 234000 minibatch loss: 453.005 minibatch accuracy: 56.2% validation accuracy: 57.6%\n",
        "step:"
       ]
      },
      {
       "output_type": "stream",
       "stream": "stdout",
       "text": [
        " 235000 minibatch loss: 451.036 minibatch accuracy: 46.9% validation accuracy: 57.0%\n",
        "step:"
       ]
      },
      {
       "output_type": "stream",
       "stream": "stdout",
       "text": [
        " 236000 minibatch loss: 449.403 minibatch accuracy: 50.0% validation accuracy: 56.3%\n",
        "step:"
       ]
      },
      {
       "output_type": "stream",
       "stream": "stdout",
       "text": [
        " 237000 minibatch loss: 447.397 minibatch accuracy: 62.5% validation accuracy: 57.1%\n",
        "step:"
       ]
      },
      {
       "output_type": "stream",
       "stream": "stdout",
       "text": [
        " 238000 minibatch loss: 445.347 minibatch accuracy: 56.2% validation accuracy: 55.7%\n",
        "step:"
       ]
      },
      {
       "output_type": "stream",
       "stream": "stdout",
       "text": [
        " 239000 minibatch loss: 443.891 minibatch accuracy: 53.1% validation accuracy: 57.6%\n",
        "step:"
       ]
      },
      {
       "output_type": "stream",
       "stream": "stdout",
       "text": [
        " 240000 minibatch loss: 441.591 minibatch accuracy: 68.8% validation accuracy: 56.6%\n",
        "step:"
       ]
      },
      {
       "output_type": "stream",
       "stream": "stdout",
       "text": [
        " 241000 minibatch loss: 439.916 minibatch accuracy: 68.8% validation accuracy: 57.7%\n",
        "step:"
       ]
      },
      {
       "output_type": "stream",
       "stream": "stdout",
       "text": [
        " 242000 minibatch loss: 438.323 minibatch accuracy: 50.0% validation accuracy: 56.6%\n",
        "step:"
       ]
      },
      {
       "output_type": "stream",
       "stream": "stdout",
       "text": [
        " 243000 minibatch loss: 436.423 minibatch accuracy: 65.6% validation accuracy: 57.9%\n",
        "step:"
       ]
      },
      {
       "output_type": "stream",
       "stream": "stdout",
       "text": [
        " 244000 minibatch loss: 434.743 minibatch accuracy: 53.1% validation accuracy: 57.5%\n",
        "step:"
       ]
      },
      {
       "output_type": "stream",
       "stream": "stdout",
       "text": [
        " 245000 minibatch loss: 432.63 minibatch accuracy: 78.1% validation accuracy: 55.8%\n",
        "step:"
       ]
      },
      {
       "output_type": "stream",
       "stream": "stdout",
       "text": [
        " 246000 minibatch loss: 431.458 minibatch accuracy: 50.0% validation accuracy: 56.5%\n",
        "step:"
       ]
      },
      {
       "output_type": "stream",
       "stream": "stdout",
       "text": [
        " 247000 minibatch loss: 429.649 minibatch accuracy: 50.0% validation accuracy: 57.5%\n",
        "step:"
       ]
      },
      {
       "output_type": "stream",
       "stream": "stdout",
       "text": [
        " 248000 minibatch loss: 427.348 minibatch accuracy: 71.9% validation accuracy: 56.9%\n",
        "step:"
       ]
      },
      {
       "output_type": "stream",
       "stream": "stdout",
       "text": [
        " 249000 minibatch loss: 425.871 minibatch accuracy: 71.9% validation accuracy: 57.0%\n",
        "step:"
       ]
      },
      {
       "output_type": "stream",
       "stream": "stdout",
       "text": [
        " 250000 minibatch loss: 424.236 minibatch accuracy: 59.4% validation accuracy: 57.6%\n",
        "step:"
       ]
      },
      {
       "output_type": "stream",
       "stream": "stdout",
       "text": [
        " 251000 minibatch loss: 422.47 minibatch accuracy: 62.5% validation accuracy: 56.7%\n",
        "step:"
       ]
      },
      {
       "output_type": "stream",
       "stream": "stdout",
       "text": [
        " 252000 minibatch loss: 420.827 minibatch accuracy: 56.2% validation accuracy: 56.8%\n",
        "step:"
       ]
      },
      {
       "output_type": "stream",
       "stream": "stdout",
       "text": [
        " 253000 minibatch loss: 419.413 minibatch accuracy: 40.6% validation accuracy: 58.0%\n",
        "step:"
       ]
      },
      {
       "output_type": "stream",
       "stream": "stdout",
       "text": [
        " 254000 minibatch loss: 417.317 minibatch accuracy: 50.0% validation accuracy: 57.0%\n"
       ]
      },
      {
       "ename": "KeyboardInterrupt",
       "evalue": "",
       "output_type": "pyerr",
       "traceback": [
        "\u001b[1;31m---------------------------------------------------------------------------\u001b[0m\n\u001b[1;31mKeyboardInterrupt\u001b[0m                         Traceback (most recent call last)",
        "\u001b[1;32m<ipython-input-20-27195ab48ddf>\u001b[0m in \u001b[0;36m<module>\u001b[1;34m()\u001b[0m\n\u001b[0;32m      1\u001b[0m \u001b[1;31m# Let's flip the ratio between pre layer feature maps and inception module feature maps around.\u001b[0m\u001b[1;33m\u001b[0m\u001b[1;33m\u001b[0m\u001b[0m\n\u001b[0;32m      2\u001b[0m \u001b[0mmodel\u001b[0m \u001b[1;33m=\u001b[0m \u001b[0mcreate_inception_module_model\u001b[0m\u001b[1;33m(\u001b[0m\u001b[0mlearning_rate\u001b[0m \u001b[1;33m=\u001b[0m \u001b[1;36m0.0001\u001b[0m\u001b[1;33m,\u001b[0m \u001b[0ml2_lambda\u001b[0m \u001b[1;33m=\u001b[0m \u001b[1;36m0.025\u001b[0m\u001b[1;33m,\u001b[0m \u001b[0mpre_layer_feature_maps\u001b[0m \u001b[1;33m=\u001b[0m \u001b[1;36m500\u001b[0m\u001b[1;33m,\u001b[0m \u001b[0mfeature_maps\u001b[0m \u001b[1;33m=\u001b[0m \u001b[1;36m1000\u001b[0m\u001b[1;33m,\u001b[0m \u001b[0minitialised_weights_stddev\u001b[0m \u001b[1;33m=\u001b[0m \u001b[1;36m0.06\u001b[0m\u001b[1;33m,\u001b[0m \u001b[0mdecay_steps\u001b[0m \u001b[1;33m=\u001b[0m \u001b[1;36m50000\u001b[0m\u001b[1;33m,\u001b[0m \u001b[0mdecay_rate\u001b[0m \u001b[1;33m=\u001b[0m \u001b[1;36m0.96\u001b[0m\u001b[1;33m)\u001b[0m\u001b[1;33m\u001b[0m\u001b[0m\n\u001b[1;32m----> 3\u001b[1;33m \u001b[0msteps_to_validation_predictions\u001b[0m \u001b[1;33m=\u001b[0m \u001b[0mtrain_model_in_batches\u001b[0m\u001b[1;33m(\u001b[0m\u001b[0mmodel\u001b[0m\u001b[1;33m,\u001b[0m\u001b[0mdatasets\u001b[0m\u001b[1;33m,\u001b[0m \u001b[1;36m800001\u001b[0m\u001b[1;33m,\u001b[0m \u001b[0mdropout_keep_prob\u001b[0m \u001b[1;33m=\u001b[0m \u001b[1;36m0.9\u001b[0m\u001b[1;33m,\u001b[0m \u001b[0mload_model\u001b[0m \u001b[1;33m=\u001b[0m \u001b[1;32mFalse\u001b[0m\u001b[1;33m)\u001b[0m\u001b[1;33m\u001b[0m\u001b[0m\n\u001b[0m\u001b[0;32m      4\u001b[0m \u001b[0mcorrect_prediction_indexes\u001b[0m\u001b[1;33m,\u001b[0m \u001b[0mincorrect_prediction_indexes\u001b[0m \u001b[1;33m=\u001b[0m \u001b[0mvisualise_accuracies\u001b[0m\u001b[1;33m(\u001b[0m\u001b[0msteps_to_validation_predictions\u001b[0m\u001b[1;33m,\u001b[0m \u001b[0mvalid_labels\u001b[0m\u001b[1;33m)\u001b[0m\u001b[1;33m\u001b[0m\u001b[0m\n\u001b[0;32m      5\u001b[0m \u001b[1;33m\u001b[0m\u001b[0m\n",
        "\u001b[1;32m/home/ashley/code/cifar-10-tensorflow/train.py\u001b[0m in \u001b[0;36mtrain_model_in_batches\u001b[1;34m(model, datasets, steps, dropout_keep_prob, load_model)\u001b[0m\n\u001b[0;32m     37\u001b[0m             }\n\u001b[0;32m     38\u001b[0m             _, l, predictions = session.run(\n\u001b[1;32m---> 39\u001b[1;33m                 [model.optimizer, model.loss, model.train_prediction], feed_dict=feed_dict)\n\u001b[0m\u001b[0;32m     40\u001b[0m             \u001b[1;32mif\u001b[0m \u001b[1;33m(\u001b[0m\u001b[0mstep\u001b[0m \u001b[1;33m%\u001b[0m \u001b[1;36m1000\u001b[0m \u001b[1;33m==\u001b[0m \u001b[1;36m0\u001b[0m\u001b[1;33m)\u001b[0m\u001b[1;33m:\u001b[0m\u001b[1;33m\u001b[0m\u001b[0m\n\u001b[0;32m     41\u001b[0m                 \u001b[0mtraining_accuracy\u001b[0m \u001b[1;33m=\u001b[0m \u001b[0maccuracy\u001b[0m\u001b[1;33m(\u001b[0m\u001b[0mpredictions\u001b[0m\u001b[1;33m,\u001b[0m \u001b[0mbatch_labels\u001b[0m\u001b[1;33m)\u001b[0m\u001b[1;33m\u001b[0m\u001b[0m\n",
        "\u001b[1;32m/home/ashley/.virtualenvs/tensorflow_py3_gpu_0.10/lib/python3.5/site-packages/tensorflow/python/client/session.py\u001b[0m in \u001b[0;36mrun\u001b[1;34m(self, fetches, feed_dict, options, run_metadata)\u001b[0m\n\u001b[0;32m    708\u001b[0m     \u001b[1;32mtry\u001b[0m\u001b[1;33m:\u001b[0m\u001b[1;33m\u001b[0m\u001b[0m\n\u001b[0;32m    709\u001b[0m       result = self._run(None, fetches, feed_dict, options_ptr,\n\u001b[1;32m--> 710\u001b[1;33m                          run_metadata_ptr)\n\u001b[0m\u001b[0;32m    711\u001b[0m       \u001b[1;32mif\u001b[0m \u001b[0mrun_metadata\u001b[0m\u001b[1;33m:\u001b[0m\u001b[1;33m\u001b[0m\u001b[0m\n\u001b[0;32m    712\u001b[0m         \u001b[0mproto_data\u001b[0m \u001b[1;33m=\u001b[0m \u001b[0mtf_session\u001b[0m\u001b[1;33m.\u001b[0m\u001b[0mTF_GetBuffer\u001b[0m\u001b[1;33m(\u001b[0m\u001b[0mrun_metadata_ptr\u001b[0m\u001b[1;33m)\u001b[0m\u001b[1;33m\u001b[0m\u001b[0m\n",
        "\u001b[1;32m/home/ashley/.virtualenvs/tensorflow_py3_gpu_0.10/lib/python3.5/site-packages/tensorflow/python/client/session.py\u001b[0m in \u001b[0;36m_run\u001b[1;34m(self, handle, fetches, feed_dict, options, run_metadata)\u001b[0m\n\u001b[0;32m    906\u001b[0m     \u001b[1;32mif\u001b[0m \u001b[0mfinal_fetches\u001b[0m \u001b[1;32mor\u001b[0m \u001b[0mfinal_targets\u001b[0m\u001b[1;33m:\u001b[0m\u001b[1;33m\u001b[0m\u001b[0m\n\u001b[0;32m    907\u001b[0m       results = self._do_run(handle, final_targets, final_fetches,\n\u001b[1;32m--> 908\u001b[1;33m                              feed_dict_string, options, run_metadata)\n\u001b[0m\u001b[0;32m    909\u001b[0m     \u001b[1;32melse\u001b[0m\u001b[1;33m:\u001b[0m\u001b[1;33m\u001b[0m\u001b[0m\n\u001b[0;32m    910\u001b[0m       \u001b[0mresults\u001b[0m \u001b[1;33m=\u001b[0m \u001b[1;33m[\u001b[0m\u001b[1;33m]\u001b[0m\u001b[1;33m\u001b[0m\u001b[0m\n",
        "\u001b[1;32m/home/ashley/.virtualenvs/tensorflow_py3_gpu_0.10/lib/python3.5/site-packages/tensorflow/python/client/session.py\u001b[0m in \u001b[0;36m_do_run\u001b[1;34m(self, handle, target_list, fetch_list, feed_dict, options, run_metadata)\u001b[0m\n\u001b[0;32m    956\u001b[0m     \u001b[1;32mif\u001b[0m \u001b[0mhandle\u001b[0m \u001b[1;32mis\u001b[0m \u001b[1;32mNone\u001b[0m\u001b[1;33m:\u001b[0m\u001b[1;33m\u001b[0m\u001b[0m\n\u001b[0;32m    957\u001b[0m       return self._do_call(_run_fn, self._session, feed_dict, fetch_list,\n\u001b[1;32m--> 958\u001b[1;33m                            target_list, options, run_metadata)\n\u001b[0m\u001b[0;32m    959\u001b[0m     \u001b[1;32melse\u001b[0m\u001b[1;33m:\u001b[0m\u001b[1;33m\u001b[0m\u001b[0m\n\u001b[0;32m    960\u001b[0m       return self._do_call(_prun_fn, self._session, handle, feed_dict,\n",
        "\u001b[1;32m/home/ashley/.virtualenvs/tensorflow_py3_gpu_0.10/lib/python3.5/site-packages/tensorflow/python/client/session.py\u001b[0m in \u001b[0;36m_do_call\u001b[1;34m(self, fn, *args)\u001b[0m\n\u001b[0;32m    963\u001b[0m   \u001b[1;32mdef\u001b[0m \u001b[0m_do_call\u001b[0m\u001b[1;33m(\u001b[0m\u001b[0mself\u001b[0m\u001b[1;33m,\u001b[0m \u001b[0mfn\u001b[0m\u001b[1;33m,\u001b[0m \u001b[1;33m*\u001b[0m\u001b[0margs\u001b[0m\u001b[1;33m)\u001b[0m\u001b[1;33m:\u001b[0m\u001b[1;33m\u001b[0m\u001b[0m\n\u001b[0;32m    964\u001b[0m     \u001b[1;32mtry\u001b[0m\u001b[1;33m:\u001b[0m\u001b[1;33m\u001b[0m\u001b[0m\n\u001b[1;32m--> 965\u001b[1;33m       \u001b[1;32mreturn\u001b[0m \u001b[0mfn\u001b[0m\u001b[1;33m(\u001b[0m\u001b[1;33m*\u001b[0m\u001b[0margs\u001b[0m\u001b[1;33m)\u001b[0m\u001b[1;33m\u001b[0m\u001b[0m\n\u001b[0m\u001b[0;32m    966\u001b[0m     \u001b[1;32mexcept\u001b[0m \u001b[0merrors\u001b[0m\u001b[1;33m.\u001b[0m\u001b[0mOpError\u001b[0m \u001b[1;32mas\u001b[0m \u001b[0me\u001b[0m\u001b[1;33m:\u001b[0m\u001b[1;33m\u001b[0m\u001b[0m\n\u001b[0;32m    967\u001b[0m       \u001b[0mmessage\u001b[0m \u001b[1;33m=\u001b[0m \u001b[0mcompat\u001b[0m\u001b[1;33m.\u001b[0m\u001b[0mas_text\u001b[0m\u001b[1;33m(\u001b[0m\u001b[0me\u001b[0m\u001b[1;33m.\u001b[0m\u001b[0mmessage\u001b[0m\u001b[1;33m)\u001b[0m\u001b[1;33m\u001b[0m\u001b[0m\n",
        "\u001b[1;32m/home/ashley/.virtualenvs/tensorflow_py3_gpu_0.10/lib/python3.5/site-packages/tensorflow/python/client/session.py\u001b[0m in \u001b[0;36m_run_fn\u001b[1;34m(session, feed_dict, fetch_list, target_list, options, run_metadata)\u001b[0m\n\u001b[0;32m    945\u001b[0m         return tf_session.TF_Run(session, options,\n\u001b[0;32m    946\u001b[0m                                  \u001b[0mfeed_dict\u001b[0m\u001b[1;33m,\u001b[0m \u001b[0mfetch_list\u001b[0m\u001b[1;33m,\u001b[0m \u001b[0mtarget_list\u001b[0m\u001b[1;33m,\u001b[0m\u001b[1;33m\u001b[0m\u001b[0m\n\u001b[1;32m--> 947\u001b[1;33m                                  status, run_metadata)\n\u001b[0m\u001b[0;32m    948\u001b[0m \u001b[1;33m\u001b[0m\u001b[0m\n\u001b[0;32m    949\u001b[0m     \u001b[1;32mdef\u001b[0m \u001b[0m_prun_fn\u001b[0m\u001b[1;33m(\u001b[0m\u001b[0msession\u001b[0m\u001b[1;33m,\u001b[0m \u001b[0mhandle\u001b[0m\u001b[1;33m,\u001b[0m \u001b[0mfeed_dict\u001b[0m\u001b[1;33m,\u001b[0m \u001b[0mfetch_list\u001b[0m\u001b[1;33m)\u001b[0m\u001b[1;33m:\u001b[0m\u001b[1;33m\u001b[0m\u001b[0m\n",
        "\u001b[1;31mKeyboardInterrupt\u001b[0m: "
       ]
      }
     ],
     "prompt_number": 20
    },
    {
     "cell_type": "code",
     "collapsed": false,
     "input": [
      "# Let's flip the ratio between pre layer feature maps and inception module feature maps around.\n",
      "model = create_inception_module_model(learning_rate = 0.0001, l2_lambda = 0.025, pre_layer_feature_maps = 500, feature_maps = 1000, initialised_weights_stddev = 0.06, decay_steps = 50000, decay_rate = 0.96)\n",
      "steps_to_validation_predictions = train_model_in_batches(model,datasets, 800001, dropout_keep_prob = 0.9, load_model = False)\n",
      "correct_prediction_indexes, incorrect_prediction_indexes = visualise_accuracies(steps_to_validation_predictions, valid_labels)\n",
      "\n",
      "\"\"\"\n",
      "step: 246000 minibatch loss: 431.458 minibatch accuracy: 50.0% validation accuracy: 56.5%\n",
      "step: 247000 minibatch loss: 429.649 minibatch accuracy: 50.0% validation accuracy: 57.5%\n",
      "step: 248000 minibatch loss: 427.348 minibatch accuracy: 71.9% validation accuracy: 56.9%\n",
      "step: 249000 minibatch loss: 425.871 minibatch accuracy: 71.9% validation accuracy: 57.0%\n",
      "step: 250000 minibatch loss: 424.236 minibatch accuracy: 59.4% validation accuracy: 57.6%\n",
      "step: 251000 minibatch loss: 422.47 minibatch accuracy: 62.5% validation accuracy: 56.7%\n",
      "step: 252000 minibatch loss: 420.827 minibatch accuracy: 56.2% validation accuracy: 56.8%\n",
      "step: 253000 minibatch loss: 419.413 minibatch accuracy: 40.6% validation accuracy: 58.0%\n",
      "step: 254000 minibatch loss: 417.317 minibatch accuracy: 50.0% validation accuracy: 57.0%\n",
      "\"\"\""
     ],
     "language": "python",
     "metadata": {},
     "outputs": []
    },
    {
     "cell_type": "markdown",
     "metadata": {},
     "source": [
      "Flipping the ratio around actually brought a greater improvement to performance sooner, which could me a superior model performance when given enough training."
     ]
    },
    {
     "cell_type": "code",
     "collapsed": false,
     "input": [
      "# Let's flip the ratio between pre layer feature maps and inception module feature maps around.\n",
      "model = create_inception_module_model(learning_rate = 0.0001, l2_lambda = 0.025, pre_layer_feature_maps = 50, feature_maps = 100, initialised_weights_stddev = 0.24, decay_steps = 50000, decay_rate = 0.96)\n",
      "steps_to_validation_predictions = train_model_in_batches(model,datasets, 400001, dropout_keep_prob = 0.9, load_model = False)\n",
      "correct_prediction_indexes, incorrect_prediction_indexes = visualise_accuracies(steps_to_validation_predictions, valid_labels)"
     ],
     "language": "python",
     "metadata": {},
     "outputs": [
      {
       "output_type": "stream",
       "stream": "stdout",
       "text": [
        "Initialized\n",
        "step:"
       ]
      },
      {
       "output_type": "stream",
       "stream": "stdout",
       "text": [
        " 0 minibatch loss: 274.514 minibatch accuracy: 9.4% validation accuracy: 9.8%\n",
        "step:"
       ]
      },
      {
       "output_type": "stream",
       "stream": "stdout",
       "text": [
        " 1000 minibatch loss: 216.931 minibatch accuracy: 18.8% validation accuracy: 11.8%\n",
        "step:"
       ]
      },
      {
       "output_type": "stream",
       "stream": "stdout",
       "text": [
        " 2000 minibatch loss: 215.813 minibatch accuracy: 12.5% validation accuracy: 16.8%\n",
        "step:"
       ]
      },
      {
       "output_type": "stream",
       "stream": "stdout",
       "text": [
        " 3000 minibatch loss: 214.579 minibatch accuracy: 12.5% validation accuracy: 20.0%\n",
        "step:"
       ]
      },
      {
       "output_type": "stream",
       "stream": "stdout",
       "text": [
        " 4000 minibatch loss: 213.441 minibatch accuracy: 28.1% validation accuracy: 19.7%\n",
        "step:"
       ]
      },
      {
       "output_type": "stream",
       "stream": "stdout",
       "text": [
        " 5000 minibatch loss: 212.452 minibatch accuracy: 18.8% validation accuracy: 23.5%\n",
        "step:"
       ]
      },
      {
       "output_type": "stream",
       "stream": "stdout",
       "text": [
        " 6000 minibatch loss: 211.341 minibatch accuracy: 25.0% validation accuracy: 21.8%\n",
        "step:"
       ]
      },
      {
       "output_type": "stream",
       "stream": "stdout",
       "text": [
        " 7000 minibatch loss: 210.297 minibatch accuracy: 18.8% validation accuracy: 24.4%\n",
        "step:"
       ]
      },
      {
       "output_type": "stream",
       "stream": "stdout",
       "text": [
        " 8000 minibatch loss: 209.247 minibatch accuracy: 21.9% validation accuracy: 24.5%\n",
        "step:"
       ]
      },
      {
       "output_type": "stream",
       "stream": "stdout",
       "text": [
        " 9000 minibatch loss: 208.106 minibatch accuracy: 25.0% validation accuracy: 25.5%\n",
        "step:"
       ]
      },
      {
       "output_type": "stream",
       "stream": "stdout",
       "text": [
        " 10000 minibatch loss: 207.322 minibatch accuracy: 9.4% validation accuracy: 26.7%\n",
        "step:"
       ]
      },
      {
       "output_type": "stream",
       "stream": "stdout",
       "text": [
        " 11000 minibatch loss: 206.123 minibatch accuracy: 25.0% validation accuracy: 23.5%\n",
        "step:"
       ]
      },
      {
       "output_type": "stream",
       "stream": "stdout",
       "text": [
        " 12000 minibatch loss: 205.037 minibatch accuracy: 21.9% validation accuracy: 28.9%\n",
        "step:"
       ]
      },
      {
       "output_type": "stream",
       "stream": "stdout",
       "text": [
        " 13000 minibatch loss: 204.021 minibatch accuracy: 25.0% validation accuracy: 26.2%\n",
        "step:"
       ]
      },
      {
       "output_type": "stream",
       "stream": "stdout",
       "text": [
        " 14000 minibatch loss: 203.337 minibatch accuracy: 21.9% validation accuracy: 26.4%\n",
        "step:"
       ]
      },
      {
       "output_type": "stream",
       "stream": "stdout",
       "text": [
        " 15000 minibatch loss: 202.164 minibatch accuracy: 28.1% validation accuracy: 24.7%\n",
        "step:"
       ]
      },
      {
       "output_type": "stream",
       "stream": "stdout",
       "text": [
        " 16000 minibatch loss: 201.097 minibatch accuracy: 15.6% validation accuracy: 26.9%\n",
        "step:"
       ]
      },
      {
       "output_type": "stream",
       "stream": "stdout",
       "text": [
        " 17000 minibatch loss: 199.917 minibatch accuracy: 40.6% validation accuracy: 30.4%\n",
        "step:"
       ]
      },
      {
       "output_type": "stream",
       "stream": "stdout",
       "text": [
        " 18000 minibatch loss: 199.064 minibatch accuracy: 28.1% validation accuracy: 29.5%\n",
        "step:"
       ]
      },
      {
       "output_type": "stream",
       "stream": "stdout",
       "text": [
        " 19000 minibatch loss: 198.386 minibatch accuracy: 34.4% validation accuracy: 28.6%\n",
        "step:"
       ]
      },
      {
       "output_type": "stream",
       "stream": "stdout",
       "text": [
        " 20000 minibatch loss: 197.087 minibatch accuracy: 21.9% validation accuracy: 28.6%\n",
        "step:"
       ]
      },
      {
       "output_type": "stream",
       "stream": "stdout",
       "text": [
        " 21000 minibatch loss: 196.304 minibatch accuracy: 15.6% validation accuracy: 27.7%\n",
        "step:"
       ]
      },
      {
       "output_type": "stream",
       "stream": "stdout",
       "text": [
        " 22000 minibatch loss: 195.331 minibatch accuracy: 25.0% validation accuracy: 29.7%\n",
        "step:"
       ]
      },
      {
       "output_type": "stream",
       "stream": "stdout",
       "text": [
        " 23000 minibatch loss: 194.458 minibatch accuracy: 18.8% validation accuracy: 30.6%\n",
        "step:"
       ]
      },
      {
       "output_type": "stream",
       "stream": "stdout",
       "text": [
        " 24000 minibatch loss: 193.167 minibatch accuracy: 31.2% validation accuracy: 29.0%\n",
        "step:"
       ]
      },
      {
       "output_type": "stream",
       "stream": "stdout",
       "text": [
        " 25000 minibatch loss: 192.408 minibatch accuracy: 21.9% validation accuracy: 29.7%\n",
        "step:"
       ]
      },
      {
       "output_type": "stream",
       "stream": "stdout",
       "text": [
        " 26000 minibatch loss: 191.538 minibatch accuracy: 21.9% validation accuracy: 29.2%\n",
        "step:"
       ]
      },
      {
       "output_type": "stream",
       "stream": "stdout",
       "text": [
        " 27000 minibatch loss: 190.416 minibatch accuracy: 46.9% validation accuracy: 28.5%\n",
        "step:"
       ]
      },
      {
       "output_type": "stream",
       "stream": "stdout",
       "text": [
        " 28000 minibatch loss: 189.64 minibatch accuracy: 34.4% validation accuracy: 28.3%\n",
        "step:"
       ]
      },
      {
       "output_type": "stream",
       "stream": "stdout",
       "text": [
        " 29000 minibatch loss: 188.789 minibatch accuracy: 15.6% validation accuracy: 31.4%\n",
        "step:"
       ]
      },
      {
       "output_type": "stream",
       "stream": "stdout",
       "text": [
        " 30000 minibatch loss: 187.934 minibatch accuracy: 21.9% validation accuracy: 30.9%\n",
        "step:"
       ]
      },
      {
       "output_type": "stream",
       "stream": "stdout",
       "text": [
        " 31000 minibatch loss: 186.83 minibatch accuracy: 34.4% validation accuracy: 31.0%\n",
        "step:"
       ]
      },
      {
       "output_type": "stream",
       "stream": "stdout",
       "text": [
        " 32000 minibatch loss: 186.168 minibatch accuracy: 25.0% validation accuracy: 29.4%\n",
        "step:"
       ]
      },
      {
       "output_type": "stream",
       "stream": "stdout",
       "text": [
        " 33000 minibatch loss: 184.954 minibatch accuracy: 37.5% validation accuracy: 31.0%\n",
        "step:"
       ]
      },
      {
       "output_type": "stream",
       "stream": "stdout",
       "text": [
        " 34000 minibatch loss: 184.225 minibatch accuracy: 34.4% validation accuracy: 32.7%\n",
        "step:"
       ]
      },
      {
       "output_type": "stream",
       "stream": "stdout",
       "text": [
        " 35000 minibatch loss: 183.165 minibatch accuracy: 28.1% validation accuracy: 33.8%\n",
        "step:"
       ]
      },
      {
       "output_type": "stream",
       "stream": "stdout",
       "text": [
        " 36000 minibatch loss: 182.754 minibatch accuracy: 28.1% validation accuracy: 30.9%\n",
        "step:"
       ]
      },
      {
       "output_type": "stream",
       "stream": "stdout",
       "text": [
        " 37000 minibatch loss: 181.329 minibatch accuracy: 31.2% validation accuracy: 32.0%\n",
        "step:"
       ]
      },
      {
       "output_type": "stream",
       "stream": "stdout",
       "text": [
        " 38000 minibatch loss: 180.614 minibatch accuracy: 28.1% validation accuracy: 33.1%\n",
        "step:"
       ]
      },
      {
       "output_type": "stream",
       "stream": "stdout",
       "text": [
        " 39000 minibatch loss: 180.052 minibatch accuracy: 28.1% validation accuracy: 33.0%\n",
        "step:"
       ]
      },
      {
       "output_type": "stream",
       "stream": "stdout",
       "text": [
        " 40000 minibatch loss: 179.062 minibatch accuracy: 31.2% validation accuracy: 33.9%\n",
        "step:"
       ]
      },
      {
       "output_type": "stream",
       "stream": "stdout",
       "text": [
        " 41000 minibatch loss: 178.365 minibatch accuracy: 25.0% validation accuracy: 32.7%\n",
        "step:"
       ]
      },
      {
       "output_type": "stream",
       "stream": "stdout",
       "text": [
        " 42000 minibatch loss: 177.196 minibatch accuracy: 28.1% validation accuracy: 33.5%\n",
        "step:"
       ]
      },
      {
       "output_type": "stream",
       "stream": "stdout",
       "text": [
        " 43000 minibatch loss: 176.531 minibatch accuracy: 31.2% validation accuracy: 33.0%\n",
        "step:"
       ]
      },
      {
       "output_type": "stream",
       "stream": "stdout",
       "text": [
        " 44000 minibatch loss: 175.575 minibatch accuracy: 25.0% validation accuracy: 34.2%\n",
        "step:"
       ]
      },
      {
       "output_type": "stream",
       "stream": "stdout",
       "text": [
        " 45000 minibatch loss: 174.722 minibatch accuracy: 37.5% validation accuracy: 35.1%\n",
        "step:"
       ]
      },
      {
       "output_type": "stream",
       "stream": "stdout",
       "text": [
        " 46000 minibatch loss: 173.606 minibatch accuracy: 43.8% validation accuracy: 35.9%\n",
        "step:"
       ]
      },
      {
       "output_type": "stream",
       "stream": "stdout",
       "text": [
        " 47000 minibatch loss: 172.931 minibatch accuracy: 37.5% validation accuracy: 32.5%\n",
        "step:"
       ]
      },
      {
       "output_type": "stream",
       "stream": "stdout",
       "text": [
        " 48000 minibatch loss: 171.939 minibatch accuracy: 40.6% validation accuracy: 32.2%\n",
        "step:"
       ]
      },
      {
       "output_type": "stream",
       "stream": "stdout",
       "text": [
        " 49000 minibatch loss: 171.132 minibatch accuracy: 53.1% validation accuracy: 35.0%\n",
        "step:"
       ]
      },
      {
       "output_type": "stream",
       "stream": "stdout",
       "text": [
        " 50000 minibatch loss: 170.66 minibatch accuracy: 21.9% validation accuracy: 34.6%\n",
        "step:"
       ]
      },
      {
       "output_type": "stream",
       "stream": "stdout",
       "text": [
        " 51000 minibatch loss: 169.985 minibatch accuracy: 18.8% validation accuracy: 32.6%\n",
        "step:"
       ]
      },
      {
       "output_type": "stream",
       "stream": "stdout",
       "text": [
        " 52000 minibatch loss: 168.877 minibatch accuracy: 46.9% validation accuracy: 35.0%\n",
        "step:"
       ]
      },
      {
       "output_type": "stream",
       "stream": "stdout",
       "text": [
        " 53000 minibatch loss: 168.027 minibatch accuracy: 37.5% validation accuracy: 35.8%\n",
        "step:"
       ]
      },
      {
       "output_type": "stream",
       "stream": "stdout",
       "text": [
        " 54000 minibatch loss: 167.463 minibatch accuracy: 25.0% validation accuracy: 34.5%\n",
        "step:"
       ]
      },
      {
       "output_type": "stream",
       "stream": "stdout",
       "text": [
        " 55000 minibatch loss: 166.364 minibatch accuracy: 37.5% validation accuracy: 36.9%\n",
        "step:"
       ]
      },
      {
       "output_type": "stream",
       "stream": "stdout",
       "text": [
        " 56000 minibatch loss: 165.739 minibatch accuracy: 34.4% validation accuracy: 36.7%\n",
        "step:"
       ]
      },
      {
       "output_type": "stream",
       "stream": "stdout",
       "text": [
        " 57000 minibatch loss: 165.009 minibatch accuracy: 31.2% validation accuracy: 37.0%\n",
        "step:"
       ]
      },
      {
       "output_type": "stream",
       "stream": "stdout",
       "text": [
        " 58000 minibatch loss: 164.301 minibatch accuracy: 31.2% validation accuracy: 33.9%\n",
        "step:"
       ]
      },
      {
       "output_type": "stream",
       "stream": "stdout",
       "text": [
        " 59000 minibatch loss: 163.275 minibatch accuracy: 34.4% validation accuracy: 35.6%\n",
        "step:"
       ]
      },
      {
       "output_type": "stream",
       "stream": "stdout",
       "text": [
        " 60000 minibatch loss: 162.5 minibatch accuracy: 50.0% validation accuracy: 36.4%\n",
        "step:"
       ]
      },
      {
       "output_type": "stream",
       "stream": "stdout",
       "text": [
        " 61000 minibatch loss: 161.926 minibatch accuracy: 31.2% validation accuracy: 37.2%\n",
        "step:"
       ]
      },
      {
       "output_type": "stream",
       "stream": "stdout",
       "text": [
        " 62000 minibatch loss: 161.009 minibatch accuracy: 43.8% validation accuracy: 37.1%\n",
        "step:"
       ]
      },
      {
       "output_type": "stream",
       "stream": "stdout",
       "text": [
        " 63000 minibatch loss: 160.207 minibatch accuracy: 40.6% validation accuracy: 35.1%\n",
        "step:"
       ]
      },
      {
       "output_type": "stream",
       "stream": "stdout",
       "text": [
        " 64000 minibatch loss: 159.409 minibatch accuracy: 40.6% validation accuracy: 35.7%\n",
        "step:"
       ]
      },
      {
       "output_type": "stream",
       "stream": "stdout",
       "text": [
        " 65000 minibatch loss: 158.844 minibatch accuracy: 34.4% validation accuracy: 36.7%\n",
        "step:"
       ]
      },
      {
       "output_type": "stream",
       "stream": "stdout",
       "text": [
        " 66000 minibatch loss: 158.404 minibatch accuracy: 34.4% validation accuracy: 36.0%\n",
        "step:"
       ]
      },
      {
       "output_type": "stream",
       "stream": "stdout",
       "text": [
        " 67000 minibatch loss: 157.485 minibatch accuracy: 37.5% validation accuracy: 34.1%\n",
        "step:"
       ]
      },
      {
       "output_type": "stream",
       "stream": "stdout",
       "text": [
        " 68000 minibatch loss: 156.474 minibatch accuracy: 43.8% validation accuracy: 34.2%\n",
        "step:"
       ]
      },
      {
       "output_type": "stream",
       "stream": "stdout",
       "text": [
        " 69000 minibatch loss: 155.907 minibatch accuracy: 34.4% validation accuracy: 37.1%\n",
        "step:"
       ]
      },
      {
       "output_type": "stream",
       "stream": "stdout",
       "text": [
        " 70000 minibatch loss: 155.122 minibatch accuracy: 43.8% validation accuracy: 36.0%\n",
        "step:"
       ]
      },
      {
       "output_type": "stream",
       "stream": "stdout",
       "text": [
        " 71000 minibatch loss: 154.401 minibatch accuracy: 43.8% validation accuracy: 36.7%\n",
        "step:"
       ]
      },
      {
       "output_type": "stream",
       "stream": "stdout",
       "text": [
        " 72000 minibatch loss: 153.796 minibatch accuracy: 43.8% validation accuracy: 38.1%\n",
        "step:"
       ]
      },
      {
       "output_type": "stream",
       "stream": "stdout",
       "text": [
        " 73000 minibatch loss: 152.836 minibatch accuracy: 40.6% validation accuracy: 38.8%\n",
        "step:"
       ]
      },
      {
       "output_type": "stream",
       "stream": "stdout",
       "text": [
        " 74000 minibatch loss: 152.275 minibatch accuracy: 31.2% validation accuracy: 37.9%\n",
        "step:"
       ]
      },
      {
       "output_type": "stream",
       "stream": "stdout",
       "text": [
        " 75000 minibatch loss: 151.763 minibatch accuracy: 18.8% validation accuracy: 36.8%\n",
        "step:"
       ]
      },
      {
       "output_type": "stream",
       "stream": "stdout",
       "text": [
        " 76000 minibatch loss: 150.764 minibatch accuracy: 43.8% validation accuracy: 37.3%\n",
        "step:"
       ]
      },
      {
       "output_type": "stream",
       "stream": "stdout",
       "text": [
        " 77000 minibatch loss: 149.955 minibatch accuracy: 37.5% validation accuracy: 38.6%\n",
        "step:"
       ]
      },
      {
       "output_type": "stream",
       "stream": "stdout",
       "text": [
        " 78000 minibatch loss: 149.382 minibatch accuracy: 37.5% validation accuracy: 37.4%\n",
        "step:"
       ]
      },
      {
       "output_type": "stream",
       "stream": "stdout",
       "text": [
        " 79000 minibatch loss: 148.908 minibatch accuracy: 28.1% validation accuracy: 38.2%\n",
        "step:"
       ]
      },
      {
       "output_type": "stream",
       "stream": "stdout",
       "text": [
        " 80000 minibatch loss: 147.98 minibatch accuracy: 37.5% validation accuracy: 39.1%\n",
        "step:"
       ]
      },
      {
       "output_type": "stream",
       "stream": "stdout",
       "text": [
        " 81000 minibatch loss: 147.689 minibatch accuracy: 31.2% validation accuracy: 37.7%\n",
        "step:"
       ]
      },
      {
       "output_type": "stream",
       "stream": "stdout",
       "text": [
        " 82000 minibatch loss: 146.55 minibatch accuracy: 46.9% validation accuracy: 39.3%\n",
        "step:"
       ]
      },
      {
       "output_type": "stream",
       "stream": "stdout",
       "text": [
        " 83000 minibatch loss: 146.173 minibatch accuracy: 25.0% validation accuracy: 38.8%\n",
        "step:"
       ]
      },
      {
       "output_type": "stream",
       "stream": "stdout",
       "text": [
        " 84000 minibatch loss: 145.681 minibatch accuracy: 37.5% validation accuracy: 38.2%\n",
        "step:"
       ]
      },
      {
       "output_type": "stream",
       "stream": "stdout",
       "text": [
        " 85000 minibatch loss: 144.47 minibatch accuracy: 53.1% validation accuracy: 38.9%\n",
        "step:"
       ]
      },
      {
       "output_type": "stream",
       "stream": "stdout",
       "text": [
        " 86000 minibatch loss: 143.981 minibatch accuracy: 31.2% validation accuracy: 37.6%\n",
        "step:"
       ]
      },
      {
       "output_type": "stream",
       "stream": "stdout",
       "text": [
        " 87000 minibatch loss: 143.028 minibatch accuracy: 59.4% validation accuracy: 36.4%\n",
        "step:"
       ]
      },
      {
       "output_type": "stream",
       "stream": "stdout",
       "text": [
        " 88000 minibatch loss: 142.575 minibatch accuracy: 43.8% validation accuracy: 38.9%\n",
        "step:"
       ]
      },
      {
       "output_type": "stream",
       "stream": "stdout",
       "text": [
        " 89000 minibatch loss: 142.092 minibatch accuracy: 37.5% validation accuracy: 38.0%\n",
        "step:"
       ]
      },
      {
       "output_type": "stream",
       "stream": "stdout",
       "text": [
        " 90000 minibatch loss: 141.426 minibatch accuracy: 28.1% validation accuracy: 39.4%\n",
        "step:"
       ]
      },
      {
       "output_type": "stream",
       "stream": "stdout",
       "text": [
        " 91000 minibatch loss: 140.853 minibatch accuracy: 31.2% validation accuracy: 40.1%\n",
        "step:"
       ]
      },
      {
       "output_type": "stream",
       "stream": "stdout",
       "text": [
        " 92000 minibatch loss: 139.995 minibatch accuracy: 43.8% validation accuracy: 39.1%\n",
        "step:"
       ]
      },
      {
       "output_type": "stream",
       "stream": "stdout",
       "text": [
        " 93000 minibatch loss: 139.537 minibatch accuracy: 40.6% validation accuracy: 39.9%\n",
        "step:"
       ]
      },
      {
       "output_type": "stream",
       "stream": "stdout",
       "text": [
        " 94000 minibatch loss: 138.848 minibatch accuracy: 46.9% validation accuracy: 40.5%\n",
        "step:"
       ]
      },
      {
       "output_type": "stream",
       "stream": "stdout",
       "text": [
        " 95000 minibatch loss: 138.258 minibatch accuracy: 40.6% validation accuracy: 38.7%\n",
        "step:"
       ]
      },
      {
       "output_type": "stream",
       "stream": "stdout",
       "text": [
        " 96000 minibatch loss: 137.798 minibatch accuracy: 31.2% validation accuracy: 40.2%\n",
        "step:"
       ]
      },
      {
       "output_type": "stream",
       "stream": "stdout",
       "text": [
        " 97000 minibatch loss: 136.902 minibatch accuracy: 34.4% validation accuracy: 40.5%\n",
        "step:"
       ]
      },
      {
       "output_type": "stream",
       "stream": "stdout",
       "text": [
        " 98000 minibatch loss: 136.281 minibatch accuracy: 43.8% validation accuracy: 38.9%\n",
        "step:"
       ]
      },
      {
       "output_type": "stream",
       "stream": "stdout",
       "text": [
        " 99000 minibatch loss: 135.682 minibatch accuracy: 46.9% validation accuracy: 39.6%\n",
        "step:"
       ]
      },
      {
       "output_type": "stream",
       "stream": "stdout",
       "text": [
        " 100000 minibatch loss: 135.027 minibatch accuracy: 43.8% validation accuracy: 39.3%\n",
        "step:"
       ]
      },
      {
       "output_type": "stream",
       "stream": "stdout",
       "text": [
        " 101000 minibatch loss: 134.442 minibatch accuracy: 43.8% validation accuracy: 39.5%\n",
        "step:"
       ]
      },
      {
       "output_type": "stream",
       "stream": "stdout",
       "text": [
        " 102000 minibatch loss: 133.739 minibatch accuracy: 50.0% validation accuracy: 38.0%\n",
        "step:"
       ]
      },
      {
       "output_type": "stream",
       "stream": "stdout",
       "text": [
        " 103000 minibatch loss: 133.299 minibatch accuracy: 37.5% validation accuracy: 40.0%\n",
        "step:"
       ]
      },
      {
       "output_type": "stream",
       "stream": "stdout",
       "text": [
        " 104000 minibatch loss: 132.744 minibatch accuracy: 34.4% validation accuracy: 39.4%\n",
        "step:"
       ]
      },
      {
       "output_type": "stream",
       "stream": "stdout",
       "text": [
        " 105000 minibatch loss: 131.956 minibatch accuracy: 37.5% validation accuracy: 40.6%\n",
        "step:"
       ]
      },
      {
       "output_type": "stream",
       "stream": "stdout",
       "text": [
        " 106000 minibatch loss: 131.625 minibatch accuracy: 46.9% validation accuracy: 40.1%\n",
        "step:"
       ]
      },
      {
       "output_type": "stream",
       "stream": "stdout",
       "text": [
        " 107000 minibatch loss: 130.822 minibatch accuracy: 37.5% validation accuracy: 41.7%\n",
        "step:"
       ]
      },
      {
       "output_type": "stream",
       "stream": "stdout",
       "text": [
        " 108000 minibatch loss: 130.026 minibatch accuracy: 56.2% validation accuracy: 40.5%\n",
        "step:"
       ]
      },
      {
       "output_type": "stream",
       "stream": "stdout",
       "text": [
        " 109000 minibatch loss: 129.674 minibatch accuracy: 46.9% validation accuracy: 40.6%\n",
        "step:"
       ]
      },
      {
       "output_type": "stream",
       "stream": "stdout",
       "text": [
        " 110000 minibatch loss: 128.905 minibatch accuracy: 56.2% validation accuracy: 39.7%\n",
        "step:"
       ]
      },
      {
       "output_type": "stream",
       "stream": "stdout",
       "text": [
        " 111000 minibatch loss: 128.433 minibatch accuracy: 43.8% validation accuracy: 40.0%\n",
        "step:"
       ]
      },
      {
       "output_type": "stream",
       "stream": "stdout",
       "text": [
        " 112000 minibatch loss: 127.733 minibatch accuracy: 43.8% validation accuracy: 38.9%\n",
        "step:"
       ]
      },
      {
       "output_type": "stream",
       "stream": "stdout",
       "text": [
        " 113000 minibatch loss: 127.319 minibatch accuracy: 34.4% validation accuracy: 41.5%\n",
        "step:"
       ]
      },
      {
       "output_type": "stream",
       "stream": "stdout",
       "text": [
        " 114000 minibatch loss: 126.819 minibatch accuracy: 25.0% validation accuracy: 40.7%\n",
        "step:"
       ]
      },
      {
       "output_type": "stream",
       "stream": "stdout",
       "text": [
        " 115000 minibatch loss: 126.262 minibatch accuracy: 37.5% validation accuracy: 40.5%\n",
        "step:"
       ]
      },
      {
       "output_type": "stream",
       "stream": "stdout",
       "text": [
        " 116000 minibatch loss: 125.795 minibatch accuracy: 31.2% validation accuracy: 41.4%\n",
        "step:"
       ]
      },
      {
       "output_type": "stream",
       "stream": "stdout",
       "text": [
        " 117000 minibatch loss: 125.173 minibatch accuracy: 31.2% validation accuracy: 39.2%\n",
        "step:"
       ]
      },
      {
       "output_type": "stream",
       "stream": "stdout",
       "text": [
        " 118000 minibatch loss: 124.139 minibatch accuracy: 59.4% validation accuracy: 40.1%\n",
        "step:"
       ]
      },
      {
       "output_type": "stream",
       "stream": "stdout",
       "text": [
        " 119000 minibatch loss: 123.851 minibatch accuracy: 37.5% validation accuracy: 40.2%\n",
        "step:"
       ]
      },
      {
       "output_type": "stream",
       "stream": "stdout",
       "text": [
        " 120000 minibatch loss: 123.47 minibatch accuracy: 43.8% validation accuracy: 41.1%\n",
        "step:"
       ]
      },
      {
       "output_type": "stream",
       "stream": "stdout",
       "text": [
        " 121000 minibatch loss: 122.932 minibatch accuracy: 40.6% validation accuracy: 41.0%\n",
        "step:"
       ]
      },
      {
       "output_type": "stream",
       "stream": "stdout",
       "text": [
        " 122000 minibatch loss: 122.359 minibatch accuracy: 31.2% validation accuracy: 41.0%\n",
        "step:"
       ]
      },
      {
       "output_type": "stream",
       "stream": "stdout",
       "text": [
        " 123000 minibatch loss: 121.86 minibatch accuracy: 31.2% validation accuracy: 41.0%\n",
        "step:"
       ]
      },
      {
       "output_type": "stream",
       "stream": "stdout",
       "text": [
        " 124000 minibatch loss: 121.229 minibatch accuracy: 28.1% validation accuracy: 40.2%\n",
        "step:"
       ]
      },
      {
       "output_type": "stream",
       "stream": "stdout",
       "text": [
        " 125000 minibatch loss: 120.738 minibatch accuracy: 37.5% validation accuracy: 42.0%\n",
        "step:"
       ]
      },
      {
       "output_type": "stream",
       "stream": "stdout",
       "text": [
        " 126000 minibatch loss: 120.2 minibatch accuracy: 46.9% validation accuracy: 41.7%\n",
        "step:"
       ]
      },
      {
       "output_type": "stream",
       "stream": "stdout",
       "text": [
        " 127000 minibatch loss: 119.544 minibatch accuracy: 50.0% validation accuracy: 39.7%\n",
        "step:"
       ]
      },
      {
       "output_type": "stream",
       "stream": "stdout",
       "text": [
        " 128000 minibatch loss: 119.201 minibatch accuracy: 28.1% validation accuracy: 40.3%\n",
        "step:"
       ]
      },
      {
       "output_type": "stream",
       "stream": "stdout",
       "text": [
        " 129000 minibatch loss: 118.419 minibatch accuracy: 50.0% validation accuracy: 41.8%\n",
        "step:"
       ]
      },
      {
       "output_type": "stream",
       "stream": "stdout",
       "text": [
        " 130000 minibatch loss: 118.101 minibatch accuracy: 37.5% validation accuracy: 40.9%\n",
        "step:"
       ]
      },
      {
       "output_type": "stream",
       "stream": "stdout",
       "text": [
        " 131000 minibatch loss: 117.553 minibatch accuracy: 28.1% validation accuracy: 40.8%\n",
        "step:"
       ]
      },
      {
       "output_type": "stream",
       "stream": "stdout",
       "text": [
        " 132000 minibatch loss: 116.86 minibatch accuracy: 50.0% validation accuracy: 40.2%\n",
        "step:"
       ]
      },
      {
       "output_type": "stream",
       "stream": "stdout",
       "text": [
        " 133000 minibatch loss: 116.321 minibatch accuracy: 43.8% validation accuracy: 41.0%\n",
        "step:"
       ]
      },
      {
       "output_type": "stream",
       "stream": "stdout",
       "text": [
        " 134000 minibatch loss: 116.086 minibatch accuracy: 40.6% validation accuracy: 41.0%\n",
        "step:"
       ]
      },
      {
       "output_type": "stream",
       "stream": "stdout",
       "text": [
        " 135000 minibatch loss: 115.385 minibatch accuracy: 40.6% validation accuracy: 41.2%\n",
        "step:"
       ]
      },
      {
       "output_type": "stream",
       "stream": "stdout",
       "text": [
        " 136000 minibatch loss: 114.892 minibatch accuracy: 46.9% validation accuracy: 41.5%\n",
        "step:"
       ]
      },
      {
       "output_type": "stream",
       "stream": "stdout",
       "text": [
        " 137000 minibatch loss: 114.401 minibatch accuracy: 34.4% validation accuracy: 40.8%\n",
        "step:"
       ]
      },
      {
       "output_type": "stream",
       "stream": "stdout",
       "text": [
        " 138000 minibatch loss: 114.058 minibatch accuracy: 37.5% validation accuracy: 41.9%\n",
        "step:"
       ]
      },
      {
       "output_type": "stream",
       "stream": "stdout",
       "text": [
        " 139000 minibatch loss: 113.272 minibatch accuracy: 40.6% validation accuracy: 42.8%\n",
        "step:"
       ]
      },
      {
       "output_type": "stream",
       "stream": "stdout",
       "text": [
        " 140000 minibatch loss: 112.785 minibatch accuracy: 53.1% validation accuracy: 41.7%\n",
        "step:"
       ]
      },
      {
       "output_type": "stream",
       "stream": "stdout",
       "text": [
        " 141000 minibatch loss: 112.528 minibatch accuracy: 40.6% validation accuracy: 41.1%\n",
        "step:"
       ]
      },
      {
       "output_type": "stream",
       "stream": "stdout",
       "text": [
        " 142000 minibatch loss: 111.9 minibatch accuracy: 40.6% validation accuracy: 40.3%\n",
        "step:"
       ]
      },
      {
       "output_type": "stream",
       "stream": "stdout",
       "text": [
        " 143000 minibatch loss: 111.425 minibatch accuracy: 46.9% validation accuracy: 42.0%\n",
        "step:"
       ]
      },
      {
       "output_type": "stream",
       "stream": "stdout",
       "text": [
        " 144000 minibatch loss: 110.909 minibatch accuracy: 50.0% validation accuracy: 42.0%\n",
        "step:"
       ]
      },
      {
       "output_type": "stream",
       "stream": "stdout",
       "text": [
        " 145000 minibatch loss: 110.289 minibatch accuracy: 59.4% validation accuracy: 40.1%\n",
        "step:"
       ]
      },
      {
       "output_type": "stream",
       "stream": "stdout",
       "text": [
        " 146000 minibatch loss: 109.959 minibatch accuracy: 37.5% validation accuracy: 41.6%\n",
        "step:"
       ]
      },
      {
       "output_type": "stream",
       "stream": "stdout",
       "text": [
        " 147000 minibatch loss: 109.526 minibatch accuracy: 43.8% validation accuracy: 42.5%\n",
        "step:"
       ]
      },
      {
       "output_type": "stream",
       "stream": "stdout",
       "text": [
        " 148000 minibatch loss: 109.061 minibatch accuracy: 43.8% validation accuracy: 42.6%\n",
        "step:"
       ]
      },
      {
       "output_type": "stream",
       "stream": "stdout",
       "text": [
        " 149000 minibatch loss: 108.31 minibatch accuracy: 59.4% validation accuracy: 41.2%\n",
        "step:"
       ]
      },
      {
       "output_type": "stream",
       "stream": "stdout",
       "text": [
        " 150000 minibatch loss: 107.892 minibatch accuracy: 50.0% validation accuracy: 41.1%\n",
        "step:"
       ]
      },
      {
       "output_type": "stream",
       "stream": "stdout",
       "text": [
        " 151000 minibatch loss: 107.669 minibatch accuracy: 46.9% validation accuracy: 41.1%\n",
        "step:"
       ]
      },
      {
       "output_type": "stream",
       "stream": "stdout",
       "text": [
        " 152000 minibatch loss: 107.409 minibatch accuracy: 31.2% validation accuracy: 40.3%\n",
        "step:"
       ]
      },
      {
       "output_type": "stream",
       "stream": "stdout",
       "text": [
        " 153000 minibatch loss: 106.698 minibatch accuracy: 25.0% validation accuracy: 42.2%\n",
        "step:"
       ]
      },
      {
       "output_type": "stream",
       "stream": "stdout",
       "text": [
        " 154000 minibatch loss: 106.135 minibatch accuracy: 31.2% validation accuracy: 42.1%\n",
        "step:"
       ]
      },
      {
       "output_type": "stream",
       "stream": "stdout",
       "text": [
        " 155000 minibatch loss: 105.71 minibatch accuracy: 40.6% validation accuracy: 42.0%\n",
        "step:"
       ]
      },
      {
       "output_type": "stream",
       "stream": "stdout",
       "text": [
        " 156000 minibatch loss: 105.383 minibatch accuracy: 37.5% validation accuracy: 42.7%\n",
        "step:"
       ]
      },
      {
       "output_type": "stream",
       "stream": "stdout",
       "text": [
        " 157000 minibatch loss: 104.842 minibatch accuracy: 37.5% validation accuracy: 42.1%\n",
        "step:"
       ]
      },
      {
       "output_type": "stream",
       "stream": "stdout",
       "text": [
        " 158000 minibatch loss: 104.238 minibatch accuracy: 40.6% validation accuracy: 43.2%\n",
        "step:"
       ]
      },
      {
       "output_type": "stream",
       "stream": "stdout",
       "text": [
        " 159000 minibatch loss: 103.897 minibatch accuracy: 28.1% validation accuracy: 42.7%\n",
        "step:"
       ]
      },
      {
       "output_type": "stream",
       "stream": "stdout",
       "text": [
        " 160000 minibatch loss: 103.529 minibatch accuracy: 37.5% validation accuracy: 43.2%\n",
        "step:"
       ]
      },
      {
       "output_type": "stream",
       "stream": "stdout",
       "text": [
        " 161000 minibatch loss: 103.088 minibatch accuracy: 37.5% validation accuracy: 42.6%\n",
        "step:"
       ]
      },
      {
       "output_type": "stream",
       "stream": "stdout",
       "text": [
        " 162000 minibatch loss: 102.565 minibatch accuracy: 43.8% validation accuracy: 43.1%\n",
        "step:"
       ]
      },
      {
       "output_type": "stream",
       "stream": "stdout",
       "text": [
        " 163000 minibatch loss: 102.132 minibatch accuracy: 43.8% validation accuracy: 43.5%\n",
        "step:"
       ]
      },
      {
       "output_type": "stream",
       "stream": "stdout",
       "text": [
        " 164000 minibatch loss: 101.659 minibatch accuracy: 46.9% validation accuracy: 42.8%\n",
        "step:"
       ]
      },
      {
       "output_type": "stream",
       "stream": "stdout",
       "text": [
        " 165000 minibatch loss: 101.211 minibatch accuracy: 46.9% validation accuracy: 42.9%\n",
        "step:"
       ]
      },
      {
       "output_type": "stream",
       "stream": "stdout",
       "text": [
        " 166000 minibatch loss: 100.952 minibatch accuracy: 53.1% validation accuracy: 43.1%\n",
        "step:"
       ]
      },
      {
       "output_type": "stream",
       "stream": "stdout",
       "text": [
        " 167000 minibatch loss: 100.248 minibatch accuracy: 53.1% validation accuracy: 42.2%\n",
        "step:"
       ]
      },
      {
       "output_type": "stream",
       "stream": "stdout",
       "text": [
        " 168000 minibatch loss: 100.234 minibatch accuracy: 43.8% validation accuracy: 43.7%\n",
        "step:"
       ]
      },
      {
       "output_type": "stream",
       "stream": "stdout",
       "text": [
        " 169000 minibatch loss: 99.6153 minibatch accuracy: 40.6% validation accuracy: 41.1%\n",
        "step:"
       ]
      },
      {
       "output_type": "stream",
       "stream": "stdout",
       "text": [
        " 170000 minibatch loss: 99.1253 minibatch accuracy: 50.0% validation accuracy: 43.0%\n",
        "step:"
       ]
      },
      {
       "output_type": "stream",
       "stream": "stdout",
       "text": [
        " 171000 minibatch loss: 98.6114 minibatch accuracy: 56.2% validation accuracy: 43.0%\n",
        "step:"
       ]
      },
      {
       "output_type": "stream",
       "stream": "stdout",
       "text": [
        " 172000 minibatch loss: 98.0672 minibatch accuracy: 56.2% validation accuracy: 42.8%\n",
        "step:"
       ]
      },
      {
       "output_type": "stream",
       "stream": "stdout",
       "text": [
        " 173000 minibatch loss: 97.832 minibatch accuracy: 43.8% validation accuracy: 42.5%\n",
        "step:"
       ]
      },
      {
       "output_type": "stream",
       "stream": "stdout",
       "text": [
        " 174000 minibatch loss: 97.3775 minibatch accuracy: 46.9% validation accuracy: 42.9%\n",
        "step:"
       ]
      },
      {
       "output_type": "stream",
       "stream": "stdout",
       "text": [
        " 175000 minibatch loss: 97.2573 minibatch accuracy: 46.9% validation accuracy: 43.5%\n",
        "step:"
       ]
      },
      {
       "output_type": "stream",
       "stream": "stdout",
       "text": [
        " 176000 minibatch loss: 96.6495 minibatch accuracy: 40.6% validation accuracy: 42.3%\n",
        "step:"
       ]
      },
      {
       "output_type": "stream",
       "stream": "stdout",
       "text": [
        " 177000 minibatch loss: 96.3426 minibatch accuracy: 34.4% validation accuracy: 43.9%\n",
        "step:"
       ]
      },
      {
       "output_type": "stream",
       "stream": "stdout",
       "text": [
        " 178000 minibatch loss: 96.0774 minibatch accuracy: 28.1% validation accuracy: 43.5%\n",
        "step:"
       ]
      },
      {
       "output_type": "stream",
       "stream": "stdout",
       "text": [
        " 179000 minibatch loss: 95.4424 minibatch accuracy: 40.6% validation accuracy: 42.2%\n",
        "step:"
       ]
      },
      {
       "output_type": "stream",
       "stream": "stdout",
       "text": [
        " 180000 minibatch loss: 94.8293 minibatch accuracy: 43.8% validation accuracy: 43.2%\n",
        "step:"
       ]
      },
      {
       "output_type": "stream",
       "stream": "stdout",
       "text": [
        " 181000 minibatch loss: 94.6514 minibatch accuracy: 34.4% validation accuracy: 43.3%\n",
        "step:"
       ]
      },
      {
       "output_type": "stream",
       "stream": "stdout",
       "text": [
        " 182000 minibatch loss: 94.2282 minibatch accuracy: 37.5% validation accuracy: 43.4%\n",
        "step:"
       ]
      },
      {
       "output_type": "stream",
       "stream": "stdout",
       "text": [
        " 183000 minibatch loss: 94.0145 minibatch accuracy: 37.5% validation accuracy: 42.8%\n",
        "step:"
       ]
      },
      {
       "output_type": "stream",
       "stream": "stdout",
       "text": [
        " 184000 minibatch loss: 93.3017 minibatch accuracy: 53.1% validation accuracy: 41.8%\n",
        "step:"
       ]
      },
      {
       "output_type": "stream",
       "stream": "stdout",
       "text": [
        " 185000 minibatch loss: 92.9183 minibatch accuracy: 50.0% validation accuracy: 44.2%\n",
        "step:"
       ]
      },
      {
       "output_type": "stream",
       "stream": "stdout",
       "text": [
        " 186000 minibatch loss: 92.4931 minibatch accuracy: 46.9% validation accuracy: 41.5%\n",
        "step:"
       ]
      },
      {
       "output_type": "stream",
       "stream": "stdout",
       "text": [
        " 187000 minibatch loss: 92.2717 minibatch accuracy: 31.2% validation accuracy: 42.4%\n",
        "step:"
       ]
      },
      {
       "output_type": "stream",
       "stream": "stdout",
       "text": [
        " 188000 minibatch loss: 91.7242 minibatch accuracy: 56.2% validation accuracy: 43.6%\n",
        "step:"
       ]
      },
      {
       "output_type": "stream",
       "stream": "stdout",
       "text": [
        " 189000 minibatch loss: 91.2704 minibatch accuracy: 56.2% validation accuracy: 44.8%\n",
        "step:"
       ]
      },
      {
       "output_type": "stream",
       "stream": "stdout",
       "text": [
        " 190000 minibatch loss: 91.2617 minibatch accuracy: 34.4% validation accuracy: 42.6%\n",
        "step:"
       ]
      },
      {
       "output_type": "stream",
       "stream": "stdout",
       "text": [
        " 191000 minibatch loss: 90.6688 minibatch accuracy: 46.9% validation accuracy: 43.1%\n",
        "step:"
       ]
      },
      {
       "output_type": "stream",
       "stream": "stdout",
       "text": [
        " 192000 minibatch loss: 90.0321 minibatch accuracy: 81.2% validation accuracy: 43.6%\n",
        "step:"
       ]
      },
      {
       "output_type": "stream",
       "stream": "stdout",
       "text": [
        " 193000 minibatch loss: 89.8016 minibatch accuracy: 53.1% validation accuracy: 44.0%\n",
        "step:"
       ]
      },
      {
       "output_type": "stream",
       "stream": "stdout",
       "text": [
        " 194000 minibatch loss: 89.676 minibatch accuracy: 28.1% validation accuracy: 43.9%\n",
        "step:"
       ]
      },
      {
       "output_type": "stream",
       "stream": "stdout",
       "text": [
        " 195000 minibatch loss: 89.1576 minibatch accuracy: 40.6% validation accuracy: 44.4%\n",
        "step:"
       ]
      },
      {
       "output_type": "stream",
       "stream": "stdout",
       "text": [
        " 196000 minibatch loss: 88.6668 minibatch accuracy: 50.0% validation accuracy: 43.8%\n",
        "step:"
       ]
      },
      {
       "output_type": "stream",
       "stream": "stdout",
       "text": [
        " 197000 minibatch loss: 88.4776 minibatch accuracy: 37.5% validation accuracy: 43.6%\n",
        "step:"
       ]
      },
      {
       "output_type": "stream",
       "stream": "stdout",
       "text": [
        " 198000 minibatch loss: 88.0056 minibatch accuracy: 46.9% validation accuracy: 44.3%\n",
        "step:"
       ]
      },
      {
       "output_type": "stream",
       "stream": "stdout",
       "text": [
        " 199000 minibatch loss: 87.5652 minibatch accuracy: 56.2% validation accuracy: 43.6%\n",
        "step:"
       ]
      },
      {
       "output_type": "stream",
       "stream": "stdout",
       "text": [
        " 200000 minibatch loss: 87.6897 minibatch accuracy: 18.8% validation accuracy: 44.0%\n",
        "step:"
       ]
      },
      {
       "output_type": "stream",
       "stream": "stdout",
       "text": [
        " 201000 minibatch loss: 87.0351 minibatch accuracy: 25.0% validation accuracy: 43.7%\n",
        "step:"
       ]
      },
      {
       "output_type": "stream",
       "stream": "stdout",
       "text": [
        " 202000 minibatch loss: 86.5378 minibatch accuracy: 37.5% validation accuracy: 42.3%\n",
        "step:"
       ]
      },
      {
       "output_type": "stream",
       "stream": "stdout",
       "text": [
        " 203000 minibatch loss: 86.2763 minibatch accuracy: 40.6% validation accuracy: 44.3%\n",
        "step:"
       ]
      },
      {
       "output_type": "stream",
       "stream": "stdout",
       "text": [
        " 204000 minibatch loss: 85.8388 minibatch accuracy: 46.9% validation accuracy: 43.1%\n",
        "step:"
       ]
      },
      {
       "output_type": "stream",
       "stream": "stdout",
       "text": [
        " 205000 minibatch loss: 85.5484 minibatch accuracy: 43.8% validation accuracy: 43.8%\n",
        "step:"
       ]
      },
      {
       "output_type": "stream",
       "stream": "stdout",
       "text": [
        " 206000 minibatch loss: 85.1939 minibatch accuracy: 37.5% validation accuracy: 42.9%\n",
        "step:"
       ]
      },
      {
       "output_type": "stream",
       "stream": "stdout",
       "text": [
        " 207000 minibatch loss: 84.7118 minibatch accuracy: 50.0% validation accuracy: 42.9%\n",
        "step:"
       ]
      },
      {
       "output_type": "stream",
       "stream": "stdout",
       "text": [
        " 208000 minibatch loss: 84.6043 minibatch accuracy: 34.4% validation accuracy: 44.4%\n",
        "step:"
       ]
      },
      {
       "output_type": "stream",
       "stream": "stdout",
       "text": [
        " 209000 minibatch loss: 84.0195 minibatch accuracy: 46.9% validation accuracy: 43.8%\n",
        "step:"
       ]
      },
      {
       "output_type": "stream",
       "stream": "stdout",
       "text": [
        " 210000 minibatch loss: 83.8751 minibatch accuracy: 43.8% validation accuracy: 43.2%\n",
        "step:"
       ]
      },
      {
       "output_type": "stream",
       "stream": "stdout",
       "text": [
        " 211000 minibatch loss: 83.5828 minibatch accuracy: 40.6% validation accuracy: 43.5%\n",
        "step:"
       ]
      },
      {
       "output_type": "stream",
       "stream": "stdout",
       "text": [
        " 212000 minibatch loss: 83.0004 minibatch accuracy: 59.4% validation accuracy: 44.5%\n",
        "step:"
       ]
      },
      {
       "output_type": "stream",
       "stream": "stdout",
       "text": [
        " 213000 minibatch loss: 82.8125 minibatch accuracy: 37.5% validation accuracy: 44.5%\n",
        "step:"
       ]
      },
      {
       "output_type": "stream",
       "stream": "stdout",
       "text": [
        " 214000 minibatch loss: 82.4787 minibatch accuracy: 40.6% validation accuracy: 43.6%\n",
        "step:"
       ]
      },
      {
       "output_type": "stream",
       "stream": "stdout",
       "text": [
        " 215000 minibatch loss: 81.9961 minibatch accuracy: 43.8% validation accuracy: 43.6%\n",
        "step:"
       ]
      },
      {
       "output_type": "stream",
       "stream": "stdout",
       "text": [
        " 216000 minibatch loss: 81.8919 minibatch accuracy: 34.4% validation accuracy: 44.5%\n",
        "step:"
       ]
      },
      {
       "output_type": "stream",
       "stream": "stdout",
       "text": [
        " 217000 minibatch loss: 81.4406 minibatch accuracy: 46.9% validation accuracy: 44.5%\n",
        "step:"
       ]
      },
      {
       "output_type": "stream",
       "stream": "stdout",
       "text": [
        " 218000 minibatch loss: 80.8698 minibatch accuracy: 59.4% validation accuracy: 43.9%\n",
        "step:"
       ]
      },
      {
       "output_type": "stream",
       "stream": "stdout",
       "text": [
        " 219000 minibatch loss: 80.5684 minibatch accuracy: 59.4% validation accuracy: 44.2%\n",
        "step:"
       ]
      },
      {
       "output_type": "stream",
       "stream": "stdout",
       "text": [
        " 220000 minibatch loss: 80.5393 minibatch accuracy: 31.2% validation accuracy: 44.1%\n",
        "step:"
       ]
      },
      {
       "output_type": "stream",
       "stream": "stdout",
       "text": [
        " 221000 minibatch loss: 80.1332 minibatch accuracy: 40.6% validation accuracy: 43.9%\n",
        "step:"
       ]
      },
      {
       "output_type": "stream",
       "stream": "stdout",
       "text": [
        " 222000 minibatch loss: 79.7178 minibatch accuracy: 59.4% validation accuracy: 44.5%\n",
        "step:"
       ]
      },
      {
       "output_type": "stream",
       "stream": "stdout",
       "text": [
        " 223000 minibatch loss: 79.4243 minibatch accuracy: 43.8% validation accuracy: 44.2%\n",
        "step:"
       ]
      },
      {
       "output_type": "stream",
       "stream": "stdout",
       "text": [
        " 224000 minibatch loss: 79.2854 minibatch accuracy: 43.8% validation accuracy: 44.0%\n",
        "step:"
       ]
      },
      {
       "output_type": "stream",
       "stream": "stdout",
       "text": [
        " 225000 minibatch loss: 78.9347 minibatch accuracy: 40.6% validation accuracy: 44.9%\n",
        "step:"
       ]
      },
      {
       "output_type": "stream",
       "stream": "stdout",
       "text": [
        " 226000 minibatch loss: 78.6017 minibatch accuracy: 40.6% validation accuracy: 44.5%\n",
        "step:"
       ]
      },
      {
       "output_type": "stream",
       "stream": "stdout",
       "text": [
        " 227000 minibatch loss: 78.1354 minibatch accuracy: 56.2% validation accuracy: 43.5%\n",
        "step:"
       ]
      },
      {
       "output_type": "stream",
       "stream": "stdout",
       "text": [
        " 228000 minibatch loss: 77.8648 minibatch accuracy: 46.9% validation accuracy: 45.0%\n",
        "step:"
       ]
      },
      {
       "output_type": "stream",
       "stream": "stdout",
       "text": [
        " 229000 minibatch loss: 77.4355 minibatch accuracy: 53.1% validation accuracy: 44.8%\n",
        "step:"
       ]
      },
      {
       "output_type": "stream",
       "stream": "stdout",
       "text": [
        " 230000 minibatch loss: 77.1429 minibatch accuracy: 50.0% validation accuracy: 45.7%\n",
        "step:"
       ]
      },
      {
       "output_type": "stream",
       "stream": "stdout",
       "text": [
        " 231000 minibatch loss: 76.8019 minibatch accuracy: 43.8% validation accuracy: 44.4%\n",
        "step:"
       ]
      },
      {
       "output_type": "stream",
       "stream": "stdout",
       "text": [
        " 232000 minibatch loss: 76.5102 minibatch accuracy: 50.0% validation accuracy: 44.2%\n",
        "step:"
       ]
      },
      {
       "output_type": "stream",
       "stream": "stdout",
       "text": [
        " 233000 minibatch loss: 76.4279 minibatch accuracy: 37.5% validation accuracy: 45.7%\n",
        "step:"
       ]
      },
      {
       "output_type": "stream",
       "stream": "stdout",
       "text": [
        " 234000 minibatch loss: 76.0412 minibatch accuracy: 50.0% validation accuracy: 44.3%\n",
        "step:"
       ]
      },
      {
       "output_type": "stream",
       "stream": "stdout",
       "text": [
        " 235000 minibatch loss: 75.7742 minibatch accuracy: 34.4% validation accuracy: 44.4%\n",
        "step:"
       ]
      },
      {
       "output_type": "stream",
       "stream": "stdout",
       "text": [
        " 236000 minibatch loss: 75.6664 minibatch accuracy: 40.6% validation accuracy: 44.6%\n",
        "step:"
       ]
      },
      {
       "output_type": "stream",
       "stream": "stdout",
       "text": [
        " 237000 minibatch loss: 75.2123 minibatch accuracy: 46.9% validation accuracy: 44.4%\n",
        "step:"
       ]
      },
      {
       "output_type": "stream",
       "stream": "stdout",
       "text": [
        " 238000 minibatch loss: 74.5307 minibatch accuracy: 50.0% validation accuracy: 44.5%\n",
        "step:"
       ]
      },
      {
       "output_type": "stream",
       "stream": "stdout",
       "text": [
        " 239000 minibatch loss: 74.6302 minibatch accuracy: 37.5% validation accuracy: 44.7%\n",
        "step:"
       ]
      },
      {
       "output_type": "stream",
       "stream": "stdout",
       "text": [
        " 240000 minibatch loss: 73.9175 minibatch accuracy: 53.1% validation accuracy: 44.3%\n",
        "step:"
       ]
      },
      {
       "output_type": "stream",
       "stream": "stdout",
       "text": [
        " 241000 minibatch loss: 73.8641 minibatch accuracy: 43.8% validation accuracy: 46.1%\n",
        "step:"
       ]
      },
      {
       "output_type": "stream",
       "stream": "stdout",
       "text": [
        " 242000 minibatch loss: 73.6163 minibatch accuracy: 28.1% validation accuracy: 44.9%\n",
        "step:"
       ]
      },
      {
       "output_type": "stream",
       "stream": "stdout",
       "text": [
        " 243000 minibatch loss: 73.2843 minibatch accuracy: 46.9% validation accuracy: 44.2%\n",
        "step:"
       ]
      },
      {
       "output_type": "stream",
       "stream": "stdout",
       "text": [
        " 244000 minibatch loss: 72.9759 minibatch accuracy: 46.9% validation accuracy: 44.9%\n",
        "step:"
       ]
      },
      {
       "output_type": "stream",
       "stream": "stdout",
       "text": [
        " 245000 minibatch loss: 72.4896 minibatch accuracy: 62.5% validation accuracy: 44.1%\n",
        "step:"
       ]
      },
      {
       "output_type": "stream",
       "stream": "stdout",
       "text": [
        " 246000 minibatch loss: 72.5569 minibatch accuracy: 43.8% validation accuracy: 43.8%\n",
        "step:"
       ]
      },
      {
       "output_type": "stream",
       "stream": "stdout",
       "text": [
        " 247000 minibatch loss: 72.3908 minibatch accuracy: 31.2% validation accuracy: 44.8%\n",
        "step:"
       ]
      },
      {
       "output_type": "stream",
       "stream": "stdout",
       "text": [
        " 248000 minibatch loss: 71.5135 minibatch accuracy: 62.5% validation accuracy: 44.1%\n",
        "step:"
       ]
      },
      {
       "output_type": "stream",
       "stream": "stdout",
       "text": [
        " 249000 minibatch loss: 71.6066 minibatch accuracy: 46.9% validation accuracy: 44.9%\n",
        "step:"
       ]
      },
      {
       "output_type": "stream",
       "stream": "stdout",
       "text": [
        " 250000 minibatch loss: 71.2896 minibatch accuracy: 43.8% validation accuracy: 45.2%\n",
        "step:"
       ]
      },
      {
       "output_type": "stream",
       "stream": "stdout",
       "text": [
        " 251000 minibatch loss: 71.0685 minibatch accuracy: 40.6% validation accuracy: 45.1%\n",
        "step:"
       ]
      },
      {
       "output_type": "stream",
       "stream": "stdout",
       "text": [
        " 252000 minibatch loss: 70.8038 minibatch accuracy: 37.5% validation accuracy: 44.5%\n",
        "step:"
       ]
      },
      {
       "output_type": "stream",
       "stream": "stdout",
       "text": [
        " 253000 minibatch loss: 70.6535 minibatch accuracy: 25.0% validation accuracy: 45.3%\n",
        "step:"
       ]
      },
      {
       "output_type": "stream",
       "stream": "stdout",
       "text": [
        " 254000 minibatch loss: 69.9959 minibatch accuracy: 46.9% validation accuracy: 44.7%\n",
        "step:"
       ]
      },
      {
       "output_type": "stream",
       "stream": "stdout",
       "text": [
        " 255000 minibatch loss: 70.0557 minibatch accuracy: 31.2% validation accuracy: 45.1%\n",
        "step:"
       ]
      },
      {
       "output_type": "stream",
       "stream": "stdout",
       "text": [
        " 256000 minibatch loss: 69.5771 minibatch accuracy: 40.6% validation accuracy: 46.2%\n",
        "step:"
       ]
      },
      {
       "output_type": "stream",
       "stream": "stdout",
       "text": [
        " 257000 minibatch loss: 69.3552 minibatch accuracy: 46.9% validation accuracy: 45.0%\n",
        "step:"
       ]
      },
      {
       "output_type": "stream",
       "stream": "stdout",
       "text": [
        " 258000 minibatch loss: 69.0543 minibatch accuracy: 46.9% validation accuracy: 45.3%\n",
        "step:"
       ]
      },
      {
       "output_type": "stream",
       "stream": "stdout",
       "text": [
        " 259000 minibatch loss: 68.8292 minibatch accuracy: 59.4% validation accuracy: 44.2%\n",
        "step:"
       ]
      },
      {
       "output_type": "stream",
       "stream": "stdout",
       "text": [
        " 260000 minibatch loss: 68.4718 minibatch accuracy: 43.8% validation accuracy: 44.4%\n",
        "step:"
       ]
      },
      {
       "output_type": "stream",
       "stream": "stdout",
       "text": [
        " 261000 minibatch loss: 68.3619 minibatch accuracy: 53.1% validation accuracy: 45.9%\n",
        "step:"
       ]
      },
      {
       "output_type": "stream",
       "stream": "stdout",
       "text": [
        " 262000 minibatch loss: 68.0164 minibatch accuracy: 43.8% validation accuracy: 44.8%\n",
        "step:"
       ]
      },
      {
       "output_type": "stream",
       "stream": "stdout",
       "text": [
        " 263000 minibatch loss: 67.8392 minibatch accuracy: 40.6% validation accuracy: 45.8%\n",
        "step:"
       ]
      },
      {
       "output_type": "stream",
       "stream": "stdout",
       "text": [
        " 264000 minibatch loss: 67.5976 minibatch accuracy: 40.6% validation accuracy: 45.5%\n",
        "step:"
       ]
      },
      {
       "output_type": "stream",
       "stream": "stdout",
       "text": [
        " 265000 minibatch loss: 66.8913 minibatch accuracy: 53.1% validation accuracy: 43.8%\n",
        "step:"
       ]
      },
      {
       "output_type": "stream",
       "stream": "stdout",
       "text": [
        " 266000 minibatch loss: 66.7343 minibatch accuracy: 59.4% validation accuracy: 46.1%\n",
        "step:"
       ]
      },
      {
       "output_type": "stream",
       "stream": "stdout",
       "text": [
        " 267000 minibatch loss: 66.7843 minibatch accuracy: 50.0% validation accuracy: 45.9%\n",
        "step:"
       ]
      },
      {
       "output_type": "stream",
       "stream": "stdout",
       "text": [
        " 268000 minibatch loss: 66.3001 minibatch accuracy: 46.9% validation accuracy: 45.5%\n",
        "step:"
       ]
      },
      {
       "output_type": "stream",
       "stream": "stdout",
       "text": [
        " 269000 minibatch loss: 66.2591 minibatch accuracy: 40.6% validation accuracy: 43.9%\n",
        "step:"
       ]
      },
      {
       "output_type": "stream",
       "stream": "stdout",
       "text": [
        " 270000 minibatch loss: 65.8062 minibatch accuracy: 50.0% validation accuracy: 43.1%\n",
        "step:"
       ]
      },
      {
       "output_type": "stream",
       "stream": "stdout",
       "text": [
        " 271000 minibatch loss: 65.7767 minibatch accuracy: 28.1% validation accuracy: 46.0%\n",
        "step:"
       ]
      },
      {
       "output_type": "stream",
       "stream": "stdout",
       "text": [
        " 272000 minibatch loss: 65.3715 minibatch accuracy: 50.0% validation accuracy: 44.9%\n",
        "step:"
       ]
      },
      {
       "output_type": "stream",
       "stream": "stdout",
       "text": [
        " 273000 minibatch loss: 65.1928 minibatch accuracy: 40.6% validation accuracy: 45.4%\n",
        "step:"
       ]
      },
      {
       "output_type": "stream",
       "stream": "stdout",
       "text": [
        " 274000 minibatch loss: 64.8589 minibatch accuracy: 40.6% validation accuracy: 44.4%\n",
        "step:"
       ]
      },
      {
       "output_type": "stream",
       "stream": "stdout",
       "text": [
        " 275000 minibatch loss: 64.5519 minibatch accuracy: 40.6% validation accuracy: 44.2%\n",
        "step:"
       ]
      },
      {
       "output_type": "stream",
       "stream": "stdout",
       "text": [
        " 276000 minibatch loss: 64.3903 minibatch accuracy: 37.5% validation accuracy: 45.9%\n",
        "step:"
       ]
      },
      {
       "output_type": "stream",
       "stream": "stdout",
       "text": [
        " 277000 minibatch loss: 63.9988 minibatch accuracy: 50.0% validation accuracy: 45.7%\n",
        "step:"
       ]
      },
      {
       "output_type": "stream",
       "stream": "stdout",
       "text": [
        " 278000 minibatch loss: 63.5888 minibatch accuracy: 59.4% validation accuracy: 45.9%\n",
        "step:"
       ]
      },
      {
       "output_type": "stream",
       "stream": "stdout",
       "text": [
        " 279000 minibatch loss: 63.6674 minibatch accuracy: 34.4% validation accuracy: 45.0%\n",
        "step:"
       ]
      },
      {
       "output_type": "stream",
       "stream": "stdout",
       "text": [
        " 280000 minibatch loss: 63.3313 minibatch accuracy: 43.8% validation accuracy: 45.3%\n",
        "step:"
       ]
      },
      {
       "output_type": "stream",
       "stream": "stdout",
       "text": [
        " 281000 minibatch loss: 63.182 minibatch accuracy: 37.5% validation accuracy: 45.0%\n",
        "step:"
       ]
      },
      {
       "output_type": "stream",
       "stream": "stdout",
       "text": [
        " 282000 minibatch loss: 63.1521 minibatch accuracy: 46.9% validation accuracy: 45.1%\n",
        "step:"
       ]
      },
      {
       "output_type": "stream",
       "stream": "stdout",
       "text": [
        " 283000 minibatch loss: 62.577 minibatch accuracy: 46.9% validation accuracy: 45.5%\n",
        "step:"
       ]
      },
      {
       "output_type": "stream",
       "stream": "stdout",
       "text": [
        " 284000 minibatch loss: 62.3318 minibatch accuracy: 40.6% validation accuracy: 43.5%\n",
        "step:"
       ]
      },
      {
       "output_type": "stream",
       "stream": "stdout",
       "text": [
        " 285000 minibatch loss: 62.2504 minibatch accuracy: 40.6% validation accuracy: 44.4%\n",
        "step:"
       ]
      },
      {
       "output_type": "stream",
       "stream": "stdout",
       "text": [
        " 286000 minibatch loss: 61.9826 minibatch accuracy: 37.5% validation accuracy: 45.1%\n",
        "step:"
       ]
      },
      {
       "output_type": "stream",
       "stream": "stdout",
       "text": [
        " 287000 minibatch loss: 61.5608 minibatch accuracy: 40.6% validation accuracy: 43.8%\n",
        "step:"
       ]
      },
      {
       "output_type": "stream",
       "stream": "stdout",
       "text": [
        " 288000 minibatch loss: 61.353 minibatch accuracy: 53.1% validation accuracy: 45.0%\n",
        "step:"
       ]
      },
      {
       "output_type": "stream",
       "stream": "stdout",
       "text": [
        " 289000 minibatch loss: 61.5242 minibatch accuracy: 28.1% validation accuracy: 44.6%\n",
        "step:"
       ]
      },
      {
       "output_type": "stream",
       "stream": "stdout",
       "text": [
        " 290000 minibatch loss: 60.6711 minibatch accuracy: 56.2% validation accuracy: 44.3%\n",
        "step:"
       ]
      },
      {
       "output_type": "stream",
       "stream": "stdout",
       "text": [
        " 291000 minibatch loss: 60.7898 minibatch accuracy: 34.4% validation accuracy: 45.4%\n",
        "step:"
       ]
      },
      {
       "output_type": "stream",
       "stream": "stdout",
       "text": [
        " 292000 minibatch loss: 60.6781 minibatch accuracy: 34.4% validation accuracy: 44.2%\n",
        "step:"
       ]
      },
      {
       "output_type": "stream",
       "stream": "stdout",
       "text": [
        " 293000 minibatch loss: 60.1586 minibatch accuracy: 53.1% validation accuracy: 45.6%\n",
        "step:"
       ]
      },
      {
       "output_type": "stream",
       "stream": "stdout",
       "text": [
        " 294000 minibatch loss: 60.0575 minibatch accuracy: 43.8% validation accuracy: 44.8%\n",
        "step:"
       ]
      },
      {
       "output_type": "stream",
       "stream": "stdout",
       "text": [
        " 295000 minibatch loss: 59.8864 minibatch accuracy: 31.2% validation accuracy: 45.5%\n",
        "step:"
       ]
      },
      {
       "output_type": "stream",
       "stream": "stdout",
       "text": [
        " 296000 minibatch loss: 59.714 minibatch accuracy: 34.4% validation accuracy: 45.4%\n",
        "step:"
       ]
      },
      {
       "output_type": "stream",
       "stream": "stdout",
       "text": [
        " 297000 minibatch loss: 59.3327 minibatch accuracy: 46.9% validation accuracy: 45.1%\n",
        "step:"
       ]
      },
      {
       "output_type": "stream",
       "stream": "stdout",
       "text": [
        " 298000 minibatch loss: 59.113 minibatch accuracy: 46.9% validation accuracy: 45.3%\n",
        "step:"
       ]
      },
      {
       "output_type": "stream",
       "stream": "stdout",
       "text": [
        " 299000 minibatch loss: 58.666 minibatch accuracy: 68.8% validation accuracy: 44.6%\n",
        "step:"
       ]
      },
      {
       "output_type": "stream",
       "stream": "stdout",
       "text": [
        " 300000 minibatch loss: 58.7138 minibatch accuracy: 50.0% validation accuracy: 45.6%\n",
        "step:"
       ]
      },
      {
       "output_type": "stream",
       "stream": "stdout",
       "text": [
        " 301000 minibatch loss: 58.4462 minibatch accuracy: 37.5% validation accuracy: 46.2%\n",
        "step:"
       ]
      },
      {
       "output_type": "stream",
       "stream": "stdout",
       "text": [
        " 302000 minibatch loss: 58.4495 minibatch accuracy: 37.5% validation accuracy: 45.1%\n",
        "step:"
       ]
      },
      {
       "output_type": "stream",
       "stream": "stdout",
       "text": [
        " 303000 minibatch loss: 58.1052 minibatch accuracy: 37.5% validation accuracy: 45.1%\n",
        "step:"
       ]
      },
      {
       "output_type": "stream",
       "stream": "stdout",
       "text": [
        " 304000 minibatch loss: 57.7684 minibatch accuracy: 53.1% validation accuracy: 44.5%\n",
        "step:"
       ]
      },
      {
       "output_type": "stream",
       "stream": "stdout",
       "text": [
        " 305000 minibatch loss: 57.5321 minibatch accuracy: 56.2% validation accuracy: 45.1%\n",
        "step:"
       ]
      },
      {
       "output_type": "stream",
       "stream": "stdout",
       "text": [
        " 306000 minibatch loss: 57.1282 minibatch accuracy: 59.4% validation accuracy: 45.4%\n",
        "step:"
       ]
      },
      {
       "output_type": "stream",
       "stream": "stdout",
       "text": [
        " 307000 minibatch loss: 57.1218 minibatch accuracy: 46.9% validation accuracy: 44.2%\n",
        "step:"
       ]
      },
      {
       "output_type": "stream",
       "stream": "stdout",
       "text": [
        " 308000 minibatch loss: 56.664 minibatch accuracy: 68.8% validation accuracy: 45.0%\n",
        "step:"
       ]
      },
      {
       "output_type": "stream",
       "stream": "stdout",
       "text": [
        " 309000 minibatch loss: 57.0738 minibatch accuracy: 34.4% validation accuracy: 45.2%\n",
        "step:"
       ]
      },
      {
       "output_type": "stream",
       "stream": "stdout",
       "text": [
        " 310000 minibatch loss: 56.7155 minibatch accuracy: 37.5% validation accuracy: 45.8%\n",
        "step:"
       ]
      },
      {
       "output_type": "stream",
       "stream": "stdout",
       "text": [
        " 311000 minibatch loss: 56.3516 minibatch accuracy: 59.4% validation accuracy: 45.7%\n",
        "step:"
       ]
      },
      {
       "output_type": "stream",
       "stream": "stdout",
       "text": [
        " 312000 minibatch loss: 56.0992 minibatch accuracy: 59.4% validation accuracy: 44.8%\n",
        "step:"
       ]
      },
      {
       "output_type": "stream",
       "stream": "stdout",
       "text": [
        " 313000 minibatch loss: 55.7185 minibatch accuracy: 46.9% validation accuracy: 45.8%\n",
        "step:"
       ]
      },
      {
       "output_type": "stream",
       "stream": "stdout",
       "text": [
        " 314000 minibatch loss: 55.5662 minibatch accuracy: 43.8% validation accuracy: 45.5%\n",
        "step:"
       ]
      },
      {
       "output_type": "stream",
       "stream": "stdout",
       "text": [
        " 315000 minibatch loss: 55.3739 minibatch accuracy: 65.6% validation accuracy: 44.7%\n",
        "step:"
       ]
      },
      {
       "output_type": "stream",
       "stream": "stdout",
       "text": [
        " 316000 minibatch loss: 55.0209 minibatch accuracy: 53.1% validation accuracy: 45.6%\n",
        "step:"
       ]
      },
      {
       "output_type": "stream",
       "stream": "stdout",
       "text": [
        " 317000 minibatch loss: 54.9078 minibatch accuracy: 46.9% validation accuracy: 45.6%\n",
        "step:"
       ]
      },
      {
       "output_type": "stream",
       "stream": "stdout",
       "text": [
        " 318000 minibatch loss: 54.7279 minibatch accuracy: 28.1% validation accuracy: 44.5%\n",
        "step:"
       ]
      },
      {
       "output_type": "stream",
       "stream": "stdout",
       "text": [
        " 319000 minibatch loss: 54.5487 minibatch accuracy: 46.9% validation accuracy: 46.0%\n",
        "step:"
       ]
      },
      {
       "output_type": "stream",
       "stream": "stdout",
       "text": [
        " 320000 minibatch loss: 54.4449 minibatch accuracy: 34.4% validation accuracy: 44.3%\n",
        "step:"
       ]
      },
      {
       "output_type": "stream",
       "stream": "stdout",
       "text": [
        " 321000 minibatch loss: 54.1116 minibatch accuracy: 37.5% validation accuracy: 44.7%\n",
        "step:"
       ]
      },
      {
       "output_type": "stream",
       "stream": "stdout",
       "text": [
        " 322000 minibatch loss: 54.2954 minibatch accuracy: 37.5% validation accuracy: 45.6%\n",
        "step:"
       ]
      },
      {
       "output_type": "stream",
       "stream": "stdout",
       "text": [
        " 323000 minibatch loss: 53.8847 minibatch accuracy: 53.1% validation accuracy: 45.7%\n",
        "step:"
       ]
      },
      {
       "output_type": "stream",
       "stream": "stdout",
       "text": [
        " 324000 minibatch loss: 53.6821 minibatch accuracy: 40.6% validation accuracy: 45.4%\n",
        "step:"
       ]
      },
      {
       "output_type": "stream",
       "stream": "stdout",
       "text": [
        " 325000 minibatch loss: 53.4504 minibatch accuracy: 40.6% validation accuracy: 46.2%\n",
        "step:"
       ]
      },
      {
       "output_type": "stream",
       "stream": "stdout",
       "text": [
        " 326000 minibatch loss: 53.1493 minibatch accuracy: 53.1% validation accuracy: 46.0%\n",
        "step:"
       ]
      },
      {
       "output_type": "stream",
       "stream": "stdout",
       "text": [
        " 327000 minibatch loss: 52.9091 minibatch accuracy: 53.1% validation accuracy: 46.3%\n",
        "step:"
       ]
      },
      {
       "output_type": "stream",
       "stream": "stdout",
       "text": [
        " 328000 minibatch loss: 52.7501 minibatch accuracy: 50.0% validation accuracy: 46.1%\n",
        "step:"
       ]
      },
      {
       "output_type": "stream",
       "stream": "stdout",
       "text": [
        " 329000 minibatch loss: 52.5429 minibatch accuracy: 53.1% validation accuracy: 46.0%\n",
        "step:"
       ]
      },
      {
       "output_type": "stream",
       "stream": "stdout",
       "text": [
        " 330000 minibatch loss: 52.6356 minibatch accuracy: 40.6% validation accuracy: 46.8%\n",
        "step:"
       ]
      },
      {
       "output_type": "stream",
       "stream": "stdout",
       "text": [
        " 331000 minibatch loss: 52.5961 minibatch accuracy: 31.2% validation accuracy: 46.5%\n",
        "step:"
       ]
      },
      {
       "output_type": "stream",
       "stream": "stdout",
       "text": [
        " 332000 minibatch loss: 51.9832 minibatch accuracy: 62.5% validation accuracy: 46.6%\n",
        "step:"
       ]
      },
      {
       "output_type": "stream",
       "stream": "stdout",
       "text": [
        " 333000 minibatch loss: 51.7883 minibatch accuracy: 50.0% validation accuracy: 45.9%\n",
        "step:"
       ]
      },
      {
       "output_type": "stream",
       "stream": "stdout",
       "text": [
        " 334000 minibatch loss: 51.696 minibatch accuracy: 40.6% validation accuracy: 46.3%\n",
        "step:"
       ]
      },
      {
       "output_type": "stream",
       "stream": "stdout",
       "text": [
        " 335000 minibatch loss: 51.554 minibatch accuracy: 40.6% validation accuracy: 46.3%\n",
        "step:"
       ]
      },
      {
       "output_type": "stream",
       "stream": "stdout",
       "text": [
        " 336000 minibatch loss: 51.4336 minibatch accuracy: 43.8% validation accuracy: 46.3%\n",
        "step:"
       ]
      },
      {
       "output_type": "stream",
       "stream": "stdout",
       "text": [
        " 337000 minibatch loss: 51.1023 minibatch accuracy: 46.9% validation accuracy: 45.9%\n",
        "step:"
       ]
      },
      {
       "output_type": "stream",
       "stream": "stdout",
       "text": [
        " 338000 minibatch loss: 50.7744 minibatch accuracy: 59.4% validation accuracy: 46.0%\n",
        "step:"
       ]
      },
      {
       "output_type": "stream",
       "stream": "stdout",
       "text": [
        " 339000 minibatch loss: 50.5403 minibatch accuracy: 53.1% validation accuracy: 46.6%\n",
        "step:"
       ]
      },
      {
       "output_type": "stream",
       "stream": "stdout",
       "text": [
        " 340000 minibatch loss: 50.5147 minibatch accuracy: 43.8% validation accuracy: 45.1%\n",
        "step:"
       ]
      },
      {
       "output_type": "stream",
       "stream": "stdout",
       "text": [
        " 341000 minibatch loss: 50.3526 minibatch accuracy: 46.9% validation accuracy: 46.3%\n",
        "step:"
       ]
      },
      {
       "output_type": "stream",
       "stream": "stdout",
       "text": [
        " 342000 minibatch loss: 50.1403 minibatch accuracy: 43.8% validation accuracy: 46.2%\n",
        "step:"
       ]
      },
      {
       "output_type": "stream",
       "stream": "stdout",
       "text": [
        " 343000 minibatch loss: 50.2044 minibatch accuracy: 43.8% validation accuracy: 45.9%\n",
        "step:"
       ]
      },
      {
       "output_type": "stream",
       "stream": "stdout",
       "text": [
        " 344000 minibatch loss: 49.7628 minibatch accuracy: 53.1% validation accuracy: 45.9%\n",
        "step:"
       ]
      },
      {
       "output_type": "stream",
       "stream": "stdout",
       "text": [
        " 345000 minibatch loss: 49.6555 minibatch accuracy: 56.2% validation accuracy: 46.6%\n",
        "step:"
       ]
      },
      {
       "output_type": "stream",
       "stream": "stdout",
       "text": [
        " 346000 minibatch loss: 49.54 minibatch accuracy: 46.9% validation accuracy: 46.6%\n",
        "step:"
       ]
      },
      {
       "output_type": "stream",
       "stream": "stdout",
       "text": [
        " 347000 minibatch loss: 49.2641 minibatch accuracy: 50.0% validation accuracy: 44.7%\n",
        "step:"
       ]
      },
      {
       "output_type": "stream",
       "stream": "stdout",
       "text": [
        " 348000 minibatch loss: 49.1454 minibatch accuracy: 37.5% validation accuracy: 47.0%\n",
        "step:"
       ]
      },
      {
       "output_type": "stream",
       "stream": "stdout",
       "text": [
        " 349000 minibatch loss: 48.7809 minibatch accuracy: 53.1% validation accuracy: 46.8%\n",
        "step:"
       ]
      },
      {
       "output_type": "stream",
       "stream": "stdout",
       "text": [
        " 350000 minibatch loss: 48.8454 minibatch accuracy: 46.9% validation accuracy: 46.5%\n",
        "step:"
       ]
      },
      {
       "output_type": "stream",
       "stream": "stdout",
       "text": [
        " 351000 minibatch loss: 48.5874 minibatch accuracy: 37.5% validation accuracy: 46.8%\n",
        "step:"
       ]
      },
      {
       "output_type": "stream",
       "stream": "stdout",
       "text": [
        " 352000 minibatch loss: 48.5654 minibatch accuracy: 21.9% validation accuracy: 45.0%\n",
        "step:"
       ]
      },
      {
       "output_type": "stream",
       "stream": "stdout",
       "text": [
        " 353000 minibatch loss: 48.1401 minibatch accuracy: 53.1% validation accuracy: 46.7%\n",
        "step:"
       ]
      },
      {
       "output_type": "stream",
       "stream": "stdout",
       "text": [
        " 354000 minibatch loss: 48.0616 minibatch accuracy: 43.8% validation accuracy: 46.5%\n",
        "step:"
       ]
      },
      {
       "output_type": "stream",
       "stream": "stdout",
       "text": [
        " 355000 minibatch loss: 47.8988 minibatch accuracy: 53.1% validation accuracy: 46.7%\n",
        "step:"
       ]
      },
      {
       "output_type": "stream",
       "stream": "stdout",
       "text": [
        " 356000 minibatch loss: 47.5633 minibatch accuracy: 62.5% validation accuracy: 46.0%\n",
        "step:"
       ]
      },
      {
       "output_type": "stream",
       "stream": "stdout",
       "text": [
        " 357000 minibatch loss: 47.3918 minibatch accuracy: 53.1% validation accuracy: 46.3%\n",
        "step:"
       ]
      },
      {
       "output_type": "stream",
       "stream": "stdout",
       "text": [
        " 358000 minibatch loss: 47.3805 minibatch accuracy: 56.2% validation accuracy: 46.0%\n",
        "step:"
       ]
      },
      {
       "output_type": "stream",
       "stream": "stdout",
       "text": [
        " 359000 minibatch loss: 47.2459 minibatch accuracy: 43.8% validation accuracy: 46.6%\n",
        "step:"
       ]
      },
      {
       "output_type": "stream",
       "stream": "stdout",
       "text": [
        " 360000 minibatch loss: 47.19 minibatch accuracy: 46.9% validation accuracy: 46.3%\n",
        "step:"
       ]
      },
      {
       "output_type": "stream",
       "stream": "stdout",
       "text": [
        " 361000 minibatch loss: 46.8029 minibatch accuracy: 53.1% validation accuracy: 46.0%\n",
        "step:"
       ]
      },
      {
       "output_type": "stream",
       "stream": "stdout",
       "text": [
        " 362000 minibatch loss: 46.558 minibatch accuracy: 53.1% validation accuracy: 45.4%\n",
        "step:"
       ]
      },
      {
       "output_type": "stream",
       "stream": "stdout",
       "text": [
        " 363000 minibatch loss: 46.4667 minibatch accuracy: 50.0% validation accuracy: 45.8%\n",
        "step:"
       ]
      },
      {
       "output_type": "stream",
       "stream": "stdout",
       "text": [
        " 364000 minibatch loss: 46.2656 minibatch accuracy: 43.8% validation accuracy: 47.0%\n",
        "step:"
       ]
      },
      {
       "output_type": "stream",
       "stream": "stdout",
       "text": [
        " 365000 minibatch loss: 46.1727 minibatch accuracy: 50.0% validation accuracy: 46.7%\n",
        "step:"
       ]
      },
      {
       "output_type": "stream",
       "stream": "stdout",
       "text": [
        " 366000 minibatch loss: 45.9011 minibatch accuracy: 50.0% validation accuracy: 45.8%\n",
        "step:"
       ]
      },
      {
       "output_type": "stream",
       "stream": "stdout",
       "text": [
        " 367000 minibatch loss: 45.9097 minibatch accuracy: 50.0% validation accuracy: 46.5%\n",
        "step:"
       ]
      },
      {
       "output_type": "stream",
       "stream": "stdout",
       "text": [
        " 368000 minibatch loss: 45.6634 minibatch accuracy: 43.8% validation accuracy: 46.9%\n",
        "step:"
       ]
      },
      {
       "output_type": "stream",
       "stream": "stdout",
       "text": [
        " 369000 minibatch loss: 45.4609 minibatch accuracy: 43.8% validation accuracy: 46.5%\n",
        "step:"
       ]
      },
      {
       "output_type": "stream",
       "stream": "stdout",
       "text": [
        " 370000 minibatch loss: 45.2869 minibatch accuracy: 43.8% validation accuracy: 47.0%\n",
        "step:"
       ]
      },
      {
       "output_type": "stream",
       "stream": "stdout",
       "text": [
        " 371000 minibatch loss: 45.3756 minibatch accuracy: 34.4% validation accuracy: 47.2%\n",
        "step:"
       ]
      },
      {
       "output_type": "stream",
       "stream": "stdout",
       "text": [
        " 372000 minibatch loss: 45.2365 minibatch accuracy: 40.6% validation accuracy: 46.5%\n",
        "step:"
       ]
      },
      {
       "output_type": "stream",
       "stream": "stdout",
       "text": [
        " 373000 minibatch loss: 44.9104 minibatch accuracy: 46.9% validation accuracy: 46.8%\n",
        "step:"
       ]
      },
      {
       "output_type": "stream",
       "stream": "stdout",
       "text": [
        " 374000 minibatch loss: 44.6133 minibatch accuracy: 40.6% validation accuracy: 46.6%\n",
        "step:"
       ]
      },
      {
       "output_type": "stream",
       "stream": "stdout",
       "text": [
        " 375000 minibatch loss: 44.6433 minibatch accuracy: 40.6% validation accuracy: 46.0%\n",
        "step:"
       ]
      },
      {
       "output_type": "stream",
       "stream": "stdout",
       "text": [
        " 376000 minibatch loss: 44.5385 minibatch accuracy: 46.9% validation accuracy: 46.6%\n",
        "step:"
       ]
      },
      {
       "output_type": "stream",
       "stream": "stdout",
       "text": [
        " 377000 minibatch loss: 44.7558 minibatch accuracy: 15.6% validation accuracy: 47.0%\n",
        "step:"
       ]
      },
      {
       "output_type": "stream",
       "stream": "stdout",
       "text": [
        " 378000 minibatch loss: 44.1257 minibatch accuracy: 34.4% validation accuracy: 46.9%\n",
        "step:"
       ]
      },
      {
       "output_type": "stream",
       "stream": "stdout",
       "text": [
        " 379000 minibatch loss: 44.2385 minibatch accuracy: 43.8% validation accuracy: 46.7%\n",
        "step:"
       ]
      },
      {
       "output_type": "stream",
       "stream": "stdout",
       "text": [
        " 380000 minibatch loss: 43.8851 minibatch accuracy: 56.2% validation accuracy: 46.4%\n",
        "step:"
       ]
      },
      {
       "output_type": "stream",
       "stream": "stdout",
       "text": [
        " 381000 minibatch loss: 43.748 minibatch accuracy: 40.6% validation accuracy: 46.9%\n",
        "step:"
       ]
      },
      {
       "output_type": "stream",
       "stream": "stdout",
       "text": [
        " 382000 minibatch loss: 43.4116 minibatch accuracy: 50.0% validation accuracy: 46.1%\n",
        "step:"
       ]
      },
      {
       "output_type": "stream",
       "stream": "stdout",
       "text": [
        " 383000 minibatch loss: 43.1605 minibatch accuracy: 59.4% validation accuracy: 46.9%\n",
        "step:"
       ]
      },
      {
       "output_type": "stream",
       "stream": "stdout",
       "text": [
        " 384000 minibatch loss: 43.2809 minibatch accuracy: 46.9% validation accuracy: 46.7%\n",
        "step:"
       ]
      },
      {
       "output_type": "stream",
       "stream": "stdout",
       "text": [
        " 385000 minibatch loss: 43.0146 minibatch accuracy: 53.1% validation accuracy: 46.8%\n",
        "step:"
       ]
      },
      {
       "output_type": "stream",
       "stream": "stdout",
       "text": [
        " 386000 minibatch loss: 42.8283 minibatch accuracy: 59.4% validation accuracy: 46.7%\n",
        "step:"
       ]
      },
      {
       "output_type": "stream",
       "stream": "stdout",
       "text": [
        " 387000 minibatch loss: 42.8615 minibatch accuracy: 40.6% validation accuracy: 46.7%\n",
        "step:"
       ]
      },
      {
       "output_type": "stream",
       "stream": "stdout",
       "text": [
        " 388000 minibatch loss: 42.582 minibatch accuracy: 43.8% validation accuracy: 47.2%\n",
        "step:"
       ]
      },
      {
       "output_type": "stream",
       "stream": "stdout",
       "text": [
        " 389000 minibatch loss: 42.4438 minibatch accuracy: 50.0% validation accuracy: 46.4%\n",
        "step:"
       ]
      },
      {
       "output_type": "stream",
       "stream": "stdout",
       "text": [
        " 390000 minibatch loss: 42.427 minibatch accuracy: 37.5% validation accuracy: 45.8%\n",
        "step:"
       ]
      },
      {
       "output_type": "stream",
       "stream": "stdout",
       "text": [
        " 391000 minibatch loss: 42.3128 minibatch accuracy: 34.4% validation accuracy: 47.4%\n",
        "step:"
       ]
      },
      {
       "output_type": "stream",
       "stream": "stdout",
       "text": [
        " 392000 minibatch loss: 42.1762 minibatch accuracy: 34.4% validation accuracy: 46.3%\n",
        "step:"
       ]
      },
      {
       "output_type": "stream",
       "stream": "stdout",
       "text": [
        " 393000 minibatch loss: 41.7702 minibatch accuracy: 46.9% validation accuracy: 46.7%\n",
        "step:"
       ]
      },
      {
       "output_type": "stream",
       "stream": "stdout",
       "text": [
        " 394000 minibatch loss: 41.796 minibatch accuracy: 37.5% validation accuracy: 46.8%\n",
        "step:"
       ]
      },
      {
       "output_type": "stream",
       "stream": "stdout",
       "text": [
        " 395000 minibatch loss: 41.4367 minibatch accuracy: 62.5% validation accuracy: 45.4%\n",
        "step:"
       ]
      },
      {
       "output_type": "stream",
       "stream": "stdout",
       "text": [
        " 396000 minibatch loss: 41.3119 minibatch accuracy: 46.9% validation accuracy: 47.2%\n",
        "step:"
       ]
      },
      {
       "output_type": "stream",
       "stream": "stdout",
       "text": [
        " 397000 minibatch loss: 41.0587 minibatch accuracy: 59.4% validation accuracy: 46.8%\n",
        "step:"
       ]
      },
      {
       "output_type": "stream",
       "stream": "stdout",
       "text": [
        " 398000 minibatch loss: 41.1164 minibatch accuracy: 40.6% validation accuracy: 46.6%\n",
        "step:"
       ]
      },
      {
       "output_type": "stream",
       "stream": "stdout",
       "text": [
        " 399000 minibatch loss: 40.8229 minibatch accuracy: 50.0% validation accuracy: 46.4%\n",
        "step:"
       ]
      },
      {
       "output_type": "stream",
       "stream": "stdout",
       "text": [
        " 400000 minibatch loss: 41.0667 minibatch accuracy: 37.5% validation accuracy: 46.0%\n",
        "Test accuracy at step 400000: 46.1%\n"
       ]
      },
      {
       "output_type": "stream",
       "stream": "stderr",
       "text": [
        "/home/ashley/.virtualenvs/tensorflow_py3_gpu_0.10/lib/python3.5/site-packages/matplotlib/font_manager.py:273: UserWarning: Matplotlib is building the font cache using fc-list. This may take a moment.\n",
        "  warnings.warn('Matplotlib is building the font cache using fc-list. This may take a moment.')\n",
        "/home/ashley/.virtualenvs/tensorflow_py3_gpu_0.10/lib/python3.5/site-packages/matplotlib/font_manager.py:273: UserWarning: Matplotlib is building the font cache using fc-list. This may take a moment.\n",
        "  warnings.warn('Matplotlib is building the font cache using fc-list. This may take a moment.')\n"
       ]
      },
      {
       "output_type": "stream",
       "stream": "stdout",
       "text": [
        "\n",
        "Elapsed time: 0.6729418669144313 hours\n"
       ]
      },
      {
       "metadata": {},
       "output_type": "display_data",
       "png": "[encoded data removed]",
       "text": [
        "<matplotlib.figure.Figure at 0x7fbb915307f0>"
       ]
      },
      {
       "output_type": "stream",
       "stream": "stdout",
       "text": [
        "The best validation accuracy was 47.44 at step 391000\n"
       ]
      }
     ],
     "prompt_number": 4
    },
    {
     "cell_type": "code",
     "collapsed": false,
     "input": [
      "Reducing the feature maps by an order of magnitude decreased the validation performance by 10%."
     ],
     "language": "python",
     "metadata": {},
     "outputs": []
    },
    {
     "cell_type": "markdown",
     "metadata": {},
     "source": [
      "Todo list\n",
      "=========\n",
      "Look at the GoogleNet paper to see what changes I can make. Page 6 / 12.\n",
      "Graph all data points and stop outputing them to the notebook.\n",
      "* Check if any of the weights are close to zero. This means that the capacity of the layer is used inefficiently.\n",
      "* Subtract the mean from images before training.\n",
      "* Idea: try refiring \"dead\" neurons by finding near zero weights and giving them new random values. This will probably decrease model performance initially but it will hopefully improve model performance when it is retrained. This is based on the theory that a larger model with more feature maps/neurons only performs better because it has a better chance of landing on the correct values. First I will need to analyse the values of the weights, find out the mean for each neuron or layer or feature map, find out the standard deviation and find the dead weights."
     ]
    },
    {
     "cell_type": "code",
     "collapsed": false,
     "input": [
      "import subprocess\n",
      "subprocess.call([\"shutdown\", \"+2\"]) # iPython has been set to autosave every 1 minute and this will shutdown in 2 minutes."
     ],
     "language": "python",
     "metadata": {},
     "outputs": []
    },
    {
     "cell_type": "markdown",
     "metadata": {},
     "source": [
      "TODO: stats at the end of training so that they can be resumed if needed."
     ]
    }
   ],
   "metadata": {}
  }
 ]
}