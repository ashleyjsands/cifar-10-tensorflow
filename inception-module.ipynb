{
 "metadata": {
  "colabVersion": "0.3.2",
  "colab_default_view": {},
  "colab_views": {},
  "kernelspec": {
   "display_name": "Python 2",
   "language": "python",
   "name": "python2"
  },
  "language_info": {
   "codemirror_mode": {
    "name": "ipython",
    "version": 2
   },
   "file_extension": ".py",
   "mimetype": "text/x-python",
   "name": "python",
   "nbconvert_exporter": "python",
   "pygments_lexer": "ipython2",
   "version": "2.7.10"
  },
  "name": "",
  "signature": "sha256:9c2a64a82ff42ea78434d22dd8e5e9e68aa3790bacd6ecf5a4efec90aa36b7c4"
 },
 "nbformat": 3,
 "nbformat_minor": 0,
 "worksheets": [
  {
   "cells": [
    {
     "cell_type": "markdown",
     "metadata": {},
     "source": [
      "Attribution: Some of this code is from tensorflow tutorials and tensor udacity examples."
     ]
    },
    {
     "cell_type": "code",
     "collapsed": false,
     "input": [
      "%autosave 60"
     ],
     "language": "python",
     "metadata": {},
     "outputs": [
      {
       "javascript": [
        "IPython.notebook.set_autosave_interval(60000)"
       ],
       "metadata": {},
       "output_type": "display_data"
      },
      {
       "output_type": "stream",
       "stream": "stdout",
       "text": [
        "Autosaving every 60 seconds\n"
       ]
      }
     ],
     "prompt_number": 1
    },
    {
     "cell_type": "code",
     "collapsed": false,
     "input": [
      "import cPickle as pickle\n",
      "import numpy as np\n",
      "import tensorflow as tf\n",
      "import tarfile\n",
      "import ntpath\n",
      "import cPickle, gzip\n",
      "import os\n",
      "from six.moves import urllib\n",
      "import sys\n",
      "import time\n",
      "import math"
     ],
     "language": "python",
     "metadata": {
      "cellView": "both",
      "colab": {
       "autoexec": {
        "startup": false,
        "wait_interval": 0
       }
      },
      "colab_type": "code",
      "id": "tm2CQN_Cpwj0"
     },
     "outputs": [],
     "prompt_number": 2
    },
    {
     "cell_type": "code",
     "collapsed": false,
     "input": [
      "data_dir = \".\"\n",
      "DATA_URL = 'http://www.cs.toronto.edu/~kriz/cifar-10-python.tar.gz'\n",
      "\n",
      "def maybe_download():\n",
      "    \"\"\"Download and extract the tarball from Alex's website.\"\"\"\n",
      "    dest_directory = data_dir\n",
      "    if not os.path.exists(dest_directory):\n",
      "        os.makedirs(dest_directory)\n",
      "    filename = DATA_URL.split('/')[-1]\n",
      "    filepath = os.path.join(dest_directory, filename)\n",
      "    if not os.path.exists(filepath):\n",
      "        def _progress(count, block_size, total_size):\n",
      "            sys.stdout.write('\\r>> Downloading %s %.1f%%' % (filename,\n",
      "                float(count * block_size) / float(total_size) * 100.0))\n",
      "            sys.stdout.flush()\n",
      "        filepath, _ = urllib.request.urlretrieve(DATA_URL, filepath, reporthook=_progress)\n",
      "    print()\n",
      "    statinfo = os.stat(filepath)\n",
      "    print('Successfully downloaded', filename, statinfo.st_size, 'bytes.')\n",
      "\n",
      "def load_cifar_10_dataset():\n",
      "    print \"Opening CIFAR 10 dataset\"\n",
      "    dataset = {}\n",
      "    with tarfile.open(data_dir + \"/cifar-10-python.tar.gz\", \"r:gz\") as tar:\n",
      "        for member in tar.getmembers():\n",
      "            if member.isfile():\n",
      "                if \"_batch\" in member.name:\n",
      "                    file_name = ntpath.basename(member.name)\n",
      "                    f = tar.extractfile(member)\n",
      "                    batch_dataset = cPickle.load(f) \n",
      "                    dataset[file_name] = batch_dataset\n",
      "                elif member.name.endswith(\"batches.meta\"):\n",
      "                    f = tar.extractfile(member)\n",
      "                    label_names = cPickle.load(f) \n",
      "                    dataset[\"meta\"] = label_names\n",
      "    print \"Finished opening CIFAR 10 dataset\"\n",
      "    return dataset\n",
      "\n",
      "def merge_datasets(dataset_one, dataset_two):\n",
      "    return {\n",
      "        \"data\": np.concatenate((dataset_one[\"data\"], dataset_two[\"data\"])),\n",
      "        \"labels\": dataset_one[\"labels\"] + dataset_two[\"labels\"], \n",
      "    }\n",
      "\n",
      "def get_merged_training_datasets(dataset_batches_dict):\n",
      "    training_dataset_names = [ \"data_batch_1\", \"data_batch_2\", \"data_batch_3\", \"data_batch_4\" ]\n",
      "    training_datasets = map(lambda name: dataset_batches_dict[name], training_dataset_names)\n",
      "    training_dataset_and_labels = reduce(merge_datasets, training_datasets)\n",
      "    validation_dataset_and_labels = dataset_batches_dict[\"data_batch_5\"]\n",
      "    test_dataset_and_labels = dataset_batches_dict[\"test_batch\"]\n",
      "    return (\n",
      "        np.asarray(training_dataset_and_labels[\"data\"]), np.asarray(training_dataset_and_labels[\"labels\"]),\n",
      "        np.asarray(validation_dataset_and_labels[\"data\"]), np.asarray(validation_dataset_and_labels[\"labels\"]),\n",
      "        np.asarray(test_dataset_and_labels[\"data\"]), np.asarray(test_dataset_and_labels[\"labels\"])\n",
      "    )\n",
      "\n",
      "maybe_download()\n",
      "dataset_batches_dict = load_cifar_10_dataset()\n",
      "label_names = dataset_batches_dict[\"meta\"][\"label_names\"]\n",
      "train_dataset, train_labels, valid_dataset, valid_labels, test_dataset, test_labels = get_merged_training_datasets(dataset_batches_dict)\n",
      "\n",
      "print 'Training set', train_dataset.shape, train_labels.shape\n",
      "print 'Validation set', valid_dataset.shape, valid_labels.shape\n",
      "print 'Test set', test_dataset.shape, test_labels.shape"
     ],
     "language": "python",
     "metadata": {},
     "outputs": [
      {
       "output_type": "stream",
       "stream": "stdout",
       "text": [
        "()\n",
        "('Successfully downloaded', 'cifar-10-python.tar.gz', 170498071, 'bytes.')\n",
        "Opening CIFAR 10 dataset\n",
        "Finished opening CIFAR 10 dataset"
       ]
      },
      {
       "output_type": "stream",
       "stream": "stdout",
       "text": [
        "\n",
        "Training set (40000, 3072) (40000,)\n",
        "Validation set (10000, 3072) (10000,)\n",
        "Test set (10000, 3072) (10000,)\n"
       ]
      }
     ],
     "prompt_number": 3
    },
    {
     "cell_type": "markdown",
     "metadata": {
      "colab_type": "text",
      "id": "L7aHrm6nGDMB"
     },
     "source": [
      "Reformat into a TensorFlow-friendly shape:\n",
      "- convolutions need the image data formatted as a cube (width by height by #channels)\n",
      "- labels as float 1-hot encodings."
     ]
    },
    {
     "cell_type": "code",
     "collapsed": false,
     "input": [
      "image_size = 32\n",
      "num_labels = 10\n",
      "num_channels = 3 # RGB\n",
      "\n",
      "\n",
      "def reformat(dataset, labels):\n",
      "    #dataset = dataset.reshape(\n",
      "    #  (-1, image_size, image_size, num_channels)).astype(np.float32)\n",
      "    \n",
      "    # the dataset is of a shape (*, num_channels * image_size * image_size) \n",
      "    # with the red values first, followed by the green, then blue.\n",
      "    dataset = dataset\n",
      "    x = dataset.reshape((-1, num_channels, image_size * image_size)) # break the channels into their own axes.\n",
      "    y = x.transpose([0, 2, 1]) # This transpose the matrix by swapping the second and third axes, but not the first. This puts matching RGB values together\n",
      "    reformated_dataset = y.reshape((-1, image_size, image_size, num_channels)).astype(np.float32) # Turn the dataset into a 4D tensor of a collection of images, with axes of width, height and colour channels.\n",
      "    labels = (np.arange(num_labels) == labels[:,None]).astype(np.float32)\n",
      "    return reformated_dataset, labels\n",
      "train_dataset, train_labels = reformat(train_dataset, train_labels)\n",
      "valid_dataset, valid_labels = reformat(valid_dataset, valid_labels)\n",
      "test_dataset, test_labels = reformat(test_dataset, test_labels)\n",
      "print 'Training set', train_dataset.shape, train_labels.shape\n",
      "print 'Validation set', valid_dataset.shape, valid_labels.shape\n",
      "print 'Test set', test_dataset.shape, test_labels.shape"
     ],
     "language": "python",
     "metadata": {
      "cellView": "both",
      "colab": {
       "autoexec": {
        "startup": false,
        "wait_interval": 0
       },
       "output_extras": [
        {
         "item_id": 1
        }
       ]
      },
      "colab_type": "code",
      "executionInfo": {
       "elapsed": 11952,
       "status": "ok",
       "timestamp": 1446658914857,
       "user": {
        "color": "",
        "displayName": "",
        "isAnonymous": false,
        "isMe": true,
        "permissionId": "",
        "photoUrl": "",
        "sessionId": "0",
        "userId": ""
       },
       "user_tz": 480
      },
      "id": "IRSyYiIIGIzS",
      "outputId": "650a208c-8359-4852-f4f5-8bf10e80ef6c"
     },
     "outputs": [
      {
       "output_type": "stream",
       "stream": "stdout",
       "text": [
        "Training set (40000, 32, 32, 3) (40000, 10)\n",
        "Validation set (10000, 32, 32, 3) (10000, 10)\n",
        "Test set (10000, 32, 32, 3) (10000, 10)\n"
       ]
      }
     ],
     "prompt_number": 4
    },
    {
     "cell_type": "code",
     "collapsed": false,
     "input": [
      "def get_best_step(steps_to_predictions, labels):\n",
      "    best_accuracy = 0\n",
      "    best_accuracy_step = 0\n",
      "    for step, predictions in steps_to_predictions.iteritems():\n",
      "        acc = accuracy(predictions, labels)\n",
      "        steps_to_predictions[step] = predictions\n",
      "        if acc > best_accuracy:\n",
      "            best_accuracy = acc\n",
      "            best_accuracy_step = step\n",
      "    return best_accuracy, best_accuracy_step\n",
      "\n",
      "def visualise_accuracies(steps_to_validation_predictions, steps_to_test_predictions):\n",
      "    best_validation_accuracy, best_validation_step = get_best_step(steps_to_validation_predictions, valid_labels)\n",
      "    print \"The best validation accuracy was %s at step %s\" % (best_validation_accuracy, best_validation_step)\n",
      "    best_test_accuracy, best_test_step = get_best_step(steps_to_test_predictions, test_labels)\n",
      "    print \"The best test accuracy was %s at step %s\" % (best_test_accuracy, best_test_step)\n",
      "    \n",
      "    best_prediction = steps_to_test_predictions[best_test_step]\n",
      "    correct_prediction_indexes = []\n",
      "    incorrect_prediction_indexes = []\n",
      "    index = 0\n",
      "    for accurate in np.argmax(best_prediction, 1) == np.argmax(test_labels, 1):\n",
      "        if accurate:\n",
      "            correct_prediction_indexes.append(index)\n",
      "        else:\n",
      "            incorrect_prediction_indexes.append(index)\n",
      "        index += 1\n",
      "    return correct_prediction_indexes, incorrect_prediction_indexes\n",
      "\n",
      "%matplotlib inline\n",
      "\n",
      "import matplotlib.pyplot as plt\n",
      "from random import randint, shuffle\n",
      "\n",
      "def get_index_of_one_hot_vector(one_hot_vector):\n",
      "    for i in range(len(one_hot_vector)):\n",
      "        if one_hot_vector[i] == 1.0:\n",
      "            return i\n",
      "    raise \"Not a one_hot_vector\"\n",
      "    \n",
      "def display_test_data(data_set, labels, data_index, figure, subplot_index, width=5, height=5):\n",
      "    a = figure.add_subplot(width, height, subplot_index)\n",
      "    data = data_set[data_index,:,:,:]\n",
      "    decimal_code_to_fraction_quotient = 255.0\n",
      "    reshaped_data = data.reshape((image_size, image_size,-1)).astype(np.float32) / decimal_code_to_fraction_quotient\n",
      "    plt.axis(\"off\")\n",
      "    #plt.figure(figsize=(100, 100))\n",
      "    plt.imshow(reshaped_data, cmap=plt.cm.hot)\n",
      "    label = get_index_of_one_hot_vector(labels[data_index])\n",
      "    a.set_title(label_names[label])\n",
      "    \n",
      "def display_random_data(data_set, labels, number_of_data=25):\n",
      "    figure_size = math.ceil(pow(number_of_data, 0.5))\n",
      "    figure = plt.figure()\n",
      "    for i in range(number_of_data):\n",
      "        data_index = randint(0, len(data_set) - 1)\n",
      "        display_test_data(data_set, labels, data_index, figure, i, width=figure_size, height=figure_size)\n",
      "\n",
      "    figure.subplots_adjust(hspace=1.5)\n",
      "\n",
      "def display_data(dataset, labels, indexes, number_of_data=25):\n",
      "    figure_size = math.ceil(pow(number_of_data, 0.5))\n",
      "    figure = plt.figure()\n",
      "    for i in range(number_of_data):\n",
      "        display_test_data(dataset, labels, indexes[i], figure, i, width=figure_size, height=figure_size)\n",
      "\n",
      "    figure.subplots_adjust(hspace=1.5)"
     ],
     "language": "python",
     "metadata": {},
     "outputs": [],
     "prompt_number": 5
    },
    {
     "cell_type": "code",
     "collapsed": false,
     "input": [
      "#display_size = 9\n",
      "#index_start = 45\n",
      "#display_data(train_dataset, train_labels, range(index_start, index_start + display_size), number_of_data=display_size)"
     ],
     "language": "python",
     "metadata": {},
     "outputs": [],
     "prompt_number": 6
    },
    {
     "cell_type": "code",
     "collapsed": false,
     "input": [
      "import time\n",
      "import math\n",
      "\n",
      "class Model():\n",
      "    \n",
      "    def __init__(self, graph, batch_size, eval_batch_size, tf_train_dataset, tf_train_labels, eval_dataset, dropout_keep_probability, logits, loss, optimizer, train_prediction, eval_prediction):\n",
      "        self.graph = graph\n",
      "        self.batch_size = batch_size\n",
      "        self.eval_batch_size = eval_batch_size\n",
      "        self.tf_train_dataset = tf_train_dataset\n",
      "        self.tf_train_labels = tf_train_labels\n",
      "        self.eval_dataset = eval_dataset\n",
      "        self.dropout_keep_probability = dropout_keep_probability\n",
      "        self.logits = logits\n",
      "        self.loss = loss\n",
      "        self.optimizer = optimizer\n",
      "        self.train_prediction = train_prediction\n",
      "        self.eval_prediction = eval_prediction\n",
      "        \n",
      "def get_l2_loss(l2_lambda, layer_weights):\n",
      "    return l2_lambda * sum(map(tf.nn.l2_loss, layer_weights))\n",
      "\n",
      "def accuracy(predictions, labels):\n",
      "  return (100.0 * np.sum(np.argmax(predictions, 1) == np.argmax(labels, 1))\n",
      "          / predictions.shape[0])\n",
      "\n",
      "def train_model(model, steps, dropout_keep_prob):\n",
      "    batch_size = model.batch_size\n",
      "    start_time = time.time()\n",
      "    steps_to_validation_predictions = {}\n",
      "    steps_to_test_predictions = {}\n",
      "    # This is some type of fix to get around a GPU problem mentioned in https://github.com/tensorflow/tensorflow/issues/136 \n",
      "    config = tf.ConfigProto()\n",
      "    config.gpu_options.allocator_type = 'BFC'\n",
      "    with tf.Session(graph=model.graph, config=config) as session:\n",
      "        tf.initialize_all_variables().run()\n",
      "        print \"Initialized\"\n",
      "        for step in xrange(steps):\n",
      "            offset = (step * batch_size) % (train_labels.shape[0] - batch_size)\n",
      "            batch_data = train_dataset[offset:(offset + batch_size), :, :, :]\n",
      "            batch_labels = train_labels[offset:(offset + batch_size), :]\n",
      "            feed_dict = {model.tf_train_dataset : batch_data, model.tf_train_labels : batch_labels, model.dropout_keep_probability: dropout_keep_prob}\n",
      "            _, l, predictions = session.run(\n",
      "                [model.optimizer, model.loss, model.train_prediction], feed_dict=feed_dict)\n",
      "            if (step % 1000 == 0):\n",
      "                print \"Minibatch loss at step\", step, \":\", l\n",
      "                print \"Minibatch accuracy: %.1f%%\" % accuracy(predictions, batch_labels)\n",
      "                validation_predictions = model.valid_prediction.eval()\n",
      "                steps_to_validation_predictions[step] = validation_predictions\n",
      "                print \"Validation accuracy at step %s: %.1f%%\" % (step, accuracy(validation_predictions, valid_labels))\n",
      "            if (step != 0 and step % 5000 == 0 and step != (steps - 1)):\n",
      "                test_predictions = model.test_prediction.eval()\n",
      "                steps_to_test_predictions[step] =  test_predictions\n",
      "                print \"Test accuracy at step %s: %.1f%%\" % (step, accuracy(test_predictions, test_labels))\n",
      "        test_predictions = model.test_prediction.eval()\n",
      "        steps_to_test_predictions[step] = test_predictions\n",
      "        print \"Test accuracy at step %s: %.1f%%\\n\" % (step, accuracy(test_predictions, test_labels))\n",
      "        seconds_in_an_hour = 60 * 60\n",
      "        print \"Elapsed time: %s hours\" % ((time.time() - start_time) / seconds_in_an_hour)\n",
      "        return steps_to_validation_predictions, steps_to_test_predictions"
     ],
     "language": "python",
     "metadata": {},
     "outputs": [],
     "prompt_number": 61
    },
    {
     "cell_type": "code",
     "collapsed": false,
     "input": [
      "from neural_network import depth_concat\n",
      "\n",
      "def create_naive_inception_module_model(learning_rate = 0.05, initialised_weights_stddev = 0.1, feature_maps = 16, batch_size = 32, eval_batch_size = 100, l2_lambda = 0.1, decay_steps = 10000, decay_rate = 0.96):\n",
      "    graph = tf.Graph()\n",
      "    with graph.as_default():\n",
      "\n",
      "        # Input data.\n",
      "        tf_train_dataset = tf.placeholder(tf.float32, shape=(batch_size, image_size, image_size, num_channels))\n",
      "        tf_train_labels = tf.placeholder(tf.float32, shape=(batch_size, num_labels))\n",
      "        eval_dataset = tf.placeholder(tf.float32, shape=(eval_batch_size, image_size, image_size, num_channels))\n",
      "        dropout_keep_probability = tf.placeholder(tf.float32)\n",
      "        \n",
      "        # In the naive inception module, we have 6 layers: the input layer, followed by the 1x1 conv, 3x3 conv, 5x5 conv\n",
      "        # and 3x3 maxpooling layer and lastly the DepthConcat layer.\n",
      "        \n",
      "        patch_size = 1\n",
      "        one_by_one_conv_weights = tf.Variable(tf.truncated_normal(\n",
      "            [patch_size, patch_size, num_channels, feature_maps], stddev=initialised_weights_stddev))\n",
      "        one_by_one_conv_biases = tf.Variable(tf.constant(initialised_weights_stddev * 10, shape=[feature_maps]))\n",
      "        \n",
      "        patch_size = 3\n",
      "        three_by_three_conv_weights = tf.Variable(tf.truncated_normal(\n",
      "            [patch_size, patch_size, num_channels, feature_maps], stddev=initialised_weights_stddev))\n",
      "        three_by_three_conv_biases = tf.Variable(tf.constant(initialised_weights_stddev * 10, shape=[feature_maps]))\n",
      "        \n",
      "        patch_size = 5\n",
      "        five_by_five_conv_weights = tf.Variable(tf.truncated_normal(\n",
      "            [patch_size, patch_size, num_channels, feature_maps], stddev=initialised_weights_stddev))\n",
      "        five_by_five_conv_biases = tf.Variable(tf.constant(initialised_weights_stddev * 10, shape=[feature_maps]))\n",
      "    \n",
      "        # The 3x3 maxpooling layer, DepthConcat layer, and averagepooling layer don't need any variables.\n",
      "        \n",
      "        # Now a fully connected layer\n",
      "        number_of_adjacent_layers = 4\n",
      "        num_conv_layers = 3\n",
      "        depth_concat_depth = feature_maps * num_conv_layers + num_channels # num_channels is the 3x2 maxpooling depth.\n",
      "        # I expect avg_pool_ouput to have a shape of (batch_size, 1, 1, depth_concat_depth)\n",
      "        # WARNING: I may have gotten the fc_weights tensor size wrong.\n",
      "        fc_weights = tf.Variable(tf.truncated_normal(\n",
      "            [depth_concat_depth, num_labels], stddev=initialised_weights_stddev))\n",
      "        #fc_biases = tf.Variable(tf.constant(initialised_weights_stddev * 10, shape=[num_labels]))\n",
      "        fc_biases = tf.Variable(tf.constant(1.0, shape=[num_labels]))\n",
      "        \n",
      "        # Model.\n",
      "        def create_model_graph(data, add_dropout = False):\n",
      "            shape = data.get_shape().as_list()\n",
      "            #print \"data shape: %s\" % shape\n",
      "            \n",
      "            conv = tf.nn.conv2d(data, one_by_one_conv_weights, [1, 1, 1, 1], padding='SAME')\n",
      "            one_by_one_output = tf.nn.relu(conv + one_by_one_conv_biases)\n",
      "            shape = one_by_one_output.get_shape().as_list()\n",
      "            #print \"one_by_one_output shape: %s\" % shape\n",
      "\n",
      "            conv = tf.nn.conv2d(data, three_by_three_conv_weights, [1, 1, 1, 1], padding='SAME')\n",
      "            three_by_three_output = tf.nn.relu(conv + three_by_three_conv_biases)\n",
      "            shape = three_by_three_output.get_shape().as_list()\n",
      "            #print \"three_by_three_output shape: %s\" % shape\n",
      "\n",
      "            conv = tf.nn.conv2d(data, five_by_five_conv_weights, [1, 1, 1, 1], padding='SAME')\n",
      "            five_by_five_output = tf.nn.relu(conv + five_by_five_conv_biases)\n",
      "            shape = five_by_five_output.get_shape().as_list()\n",
      "            #print \"five_by_five_output shape: %s\" % shape\n",
      "            \n",
      "            max_pool_output = tf.nn.max_pool(data, [1, 3, 3, 1], [1, 1, 1, 1], padding='SAME')\n",
      "            shape = max_pool_output.get_shape().as_list()\n",
      "            #print \"max_pool_output shape: %s\" % shape\n",
      "            \n",
      "            depth_concat_output = depth_concat([one_by_one_output, three_by_three_output, five_by_five_output, max_pool_output])\n",
      "            shape = depth_concat_output.get_shape().as_list()\n",
      "            #print \"depth_concat_output shape: %s\" % shape\n",
      "            \n",
      "            # The patch size of the avg_pool must match the patch_size of the depth_concat_output\n",
      "            # I assume that the padding must be VALID based on Google's white paper: http://arxiv.org/pdf/1409.4842v1.pdf\n",
      "            largest_patch_size = 32 # This is the height/width of depth_concat_output\n",
      "            avg_pool_output = tf.nn.avg_pool(depth_concat_output, [1, largest_patch_size, largest_patch_size, 1], [1, 1, 1, 1], padding='VALID', name=None)\n",
      "            shape = avg_pool_output.get_shape().as_list()\n",
      "            #print \"avg_pool_output shape: %s\" % shape\n",
      "\n",
      "            # Flatten the average_pool_output from 4 dimensions down to 2.\n",
      "            batch_index = 0\n",
      "            reshape_tensor = tf.reshape(avg_pool_output, (data.get_shape().as_list()[batch_index], 1 * 1 * depth_concat_depth))\n",
      "            #print \"reshape_tensor shape: %s\" % reshape_tensor.get_shape().as_list()\n",
      "            \n",
      "            # TODO: add dropout.\n",
      "            #if add_dropout:\n",
      "            #    hidden = tf.nn.dropout(hidden, dropout_keep_probability)\n",
      "            return tf.matmul(reshape_tensor, fc_weights) + fc_biases\n",
      "\n",
      "        # Training computation.\n",
      "        logits = create_model_graph(tf_train_dataset, add_dropout = True)\n",
      "        layer_weights = [one_by_one_conv_weights, three_by_three_conv_weights, five_by_five_conv_weights, fc_weights]\n",
      "        loss = tf.reduce_mean(tf.nn.softmax_cross_entropy_with_logits(logits, tf_train_labels) + get_l2_loss(l2_lambda, layer_weights))\n",
      "\n",
      "        # Optimizer.\n",
      "        global_step = tf.Variable(0, name=\"global_step\", trainable=False)\n",
      "        decayed_learning_rate = tf.train.exponential_decay(learning_rate, global_step, decay_steps, decay_rate)\n",
      "        optimizer = tf.train.GradientDescentOptimizer(decayed_learning_rate).minimize(loss, global_step=global_step)\n",
      "\n",
      "        # Predictions for the training, validation, and test data.\n",
      "        train_prediction = tf.nn.softmax(logits)\n",
      "        eval_prediction = tf.nn.softmax(create_model_graph(eval_dataset))\n",
      "        \n",
      "        return Model(graph, batch_size, eval_batch_size, tf_train_dataset, tf_train_labels, eval_dataset, dropout_keep_probability, logits, loss, optimizer, train_prediction, eval_prediction)    \n",
      "\n",
      "def get_max_pool_output_size(image_size, number_of_max_pool_layers):\n",
      "    return int(math.ceil(image_size / (2.0 ** number_of_max_pool_layers)) * math.ceil(image_size / (2.0 ** number_of_max_pool_layers)))\n",
      "        \n",
      "def create_inception_module_model(learning_rate = 0.05, initialised_weights_stddev = 0.1, feature_maps = 16, batch_size = 32, eval_batch_size = 1000, l2_lambda = 0.1, decay_steps = 10000, decay_rate = 0.96):\n",
      "    graph = tf.Graph()\n",
      "    with graph.as_default():\n",
      "\n",
      "        # Input data.\n",
      "        tf_train_dataset = tf.placeholder(tf.float32, shape=(batch_size, image_size, image_size, num_channels))\n",
      "        tf_train_labels = tf.placeholder(tf.float32, shape=(batch_size, num_labels))\n",
      "        eval_dataset = tf.placeholder(tf.float32, shape=(eval_batch_size, image_size, image_size, num_channels))\n",
      "        dropout_keep_probability = tf.placeholder(tf.float32)\n",
      "        \"\"\"\n",
      "        In the inception module, we have the following layers:\n",
      "        input layer\n",
      "                  1x1 conv, 1x1 conv, 3x3 maxpool\n",
      "        1x1 conv, 3x3 conv, 5x5 conv, 1x1 conv\n",
      "        DepthConcat\n",
      "        AveragePool\n",
      "        Fully Connected layer\n",
      "        \"\"\"\n",
      "        \n",
      "        patch_size = 1\n",
      "        one_by_one_conv_weights_to_three_by_three = tf.Variable(tf.truncated_normal(\n",
      "            [patch_size, patch_size, num_channels, feature_maps], stddev=initialised_weights_stddev))\n",
      "        one_by_one_conv_biases_to_three_by_three = tf.Variable(tf.constant(initialised_weights_stddev * 10, shape=[feature_maps]))\n",
      "        \n",
      "        one_by_one_conv_weights_to_five_by_five = tf.Variable(tf.truncated_normal(\n",
      "            [patch_size, patch_size, num_channels, feature_maps], stddev=initialised_weights_stddev))\n",
      "        one_by_one_conv_biases_to_five_by_five = tf.Variable(tf.constant(initialised_weights_stddev * 10, shape=[feature_maps]))\n",
      "        \n",
      "        one_by_one_conv_weights_to_depthconcat = tf.Variable(tf.truncated_normal(\n",
      "            [patch_size, patch_size, num_channels, feature_maps], stddev=initialised_weights_stddev))\n",
      "        one_by_one_conv_biases_to_depthconcat = tf.Variable(tf.constant(initialised_weights_stddev * 10, shape=[feature_maps]))\n",
      "        \n",
      "        number_of_max_pools = 1\n",
      "        three_by_three_max_pool_output_size = get_max_pool_output_size(image_size, number_of_max_pools)\n",
      "        one_by_one_conv_weights_from_max_pool = tf.Variable(tf.truncated_normal(\n",
      "            [three_by_three_max_pool_output_size, three_by_three_max_pool_output_size, num_channels, feature_maps], stddev=initialised_weights_stddev))\n",
      "        one_by_one_conv_biases_from_max_pool = tf.Variable(tf.constant(initialised_weights_stddev * 10, shape=[feature_maps]))\n",
      "        \n",
      "        patch_size = 3\n",
      "        three_by_three_conv_weights = tf.Variable(tf.truncated_normal(\n",
      "            [patch_size, patch_size, feature_maps, feature_maps], stddev=initialised_weights_stddev))\n",
      "        three_by_three_conv_biases = tf.Variable(tf.constant(initialised_weights_stddev * 10, shape=[feature_maps]))\n",
      "        \n",
      "        patch_size = 5\n",
      "        five_by_five_conv_weights = tf.Variable(tf.truncated_normal(\n",
      "            [patch_size, patch_size, feature_maps, feature_maps], stddev=initialised_weights_stddev))\n",
      "        five_by_five_conv_biases = tf.Variable(tf.constant(initialised_weights_stddev * 10, shape=[feature_maps]))\n",
      "    \n",
      "        # The 3x3 maxpooling layer, DepthConcat layer, and averagepooling layer don't need any variables.\n",
      "        \n",
      "        # Now a fully connected layer\n",
      "        number_of_adjacent_layers = 4\n",
      "        depth_concat_depth = feature_maps * number_of_adjacent_layers\n",
      "        # I expect avg_pool_ouput to have a shape of (batch_size, 1, 1, depth_concat_depth)\n",
      "        # WARNING: I may have gotten the fc_weights tensor size wrong.\n",
      "        fc_weights = tf.Variable(tf.truncated_normal(\n",
      "            [depth_concat_depth, num_labels], stddev=initialised_weights_stddev))\n",
      "        #fc_biases = tf.Variable(tf.constant(initialised_weights_stddev * 10, shape=[num_labels]))\n",
      "        fc_biases = tf.Variable(tf.constant(1.0, shape=[num_labels]))\n",
      "        \n",
      "        # Model.\n",
      "        def create_model_graph(data, add_dropout = False):\n",
      "            shape = data.get_shape().as_list()\n",
      "            print \"data shape: %s\" % shape\n",
      "            \n",
      "            # Adjacent layer 1\n",
      "            conv = tf.nn.conv2d(data, one_by_one_conv_weights_to_three_by_three, [1, 1, 1, 1], padding='SAME')\n",
      "            one_by_one_conv_weights_to_three_by_three_output = tf.nn.relu(conv + one_by_one_conv_biases_to_three_by_three)\n",
      "            shape = one_by_one_conv_weights_to_three_by_three_output.get_shape().as_list()\n",
      "            print \"one_by_one_conv_weights_to_three_by_three_output shape: %s\" % shape\n",
      "            \n",
      "            conv = tf.nn.conv2d(data, one_by_one_conv_weights_to_five_by_five, [1, 1, 1, 1], padding='SAME')\n",
      "            one_by_one_conv_weights_to_five_by_five_output = tf.nn.relu(conv + one_by_one_conv_biases_to_five_by_five)\n",
      "            shape = one_by_one_conv_weights_to_five_by_five_output.get_shape().as_list()\n",
      "            print \"one_by_one_conv_weights_to_five_by_five_output shape: %s\" % shape\n",
      "            \n",
      "            max_pool_output = tf.nn.max_pool(data, [1, 3, 3, 1], [1, 1, 1, 1], padding='SAME')\n",
      "            shape = max_pool_output.get_shape().as_list()\n",
      "            print \"max_pool_output shape: %s\" % shape\n",
      "            \n",
      "            # Adjacent layer 2\n",
      "            conv = tf.nn.conv2d(data, one_by_one_conv_weights_to_depthconcat, [1, 1, 1, 1], padding='SAME')\n",
      "            one_by_one_output_to_depthconcat = tf.nn.relu(conv + one_by_one_conv_biases_to_depthconcat)\n",
      "            shape = one_by_one_output_to_depthconcat.get_shape().as_list()\n",
      "            print \"one_by_one_output_to_depthconcat shape: %s\" % shape\n",
      "\n",
      "            conv = tf.nn.conv2d(one_by_one_conv_weights_to_three_by_three_output, three_by_three_conv_weights, [1, 1, 1, 1], padding='SAME')\n",
      "            three_by_three_output = tf.nn.relu(conv + three_by_three_conv_biases)\n",
      "            shape = three_by_three_output.get_shape().as_list()\n",
      "            print \"three_by_three_output shape: %s\" % shape\n",
      "\n",
      "            conv = tf.nn.conv2d(one_by_one_conv_weights_to_five_by_five_output, five_by_five_conv_weights, [1, 1, 1, 1], padding='SAME')\n",
      "            five_by_five_output = tf.nn.relu(conv + five_by_five_conv_biases)\n",
      "            shape = five_by_five_output.get_shape().as_list()\n",
      "            print \"five_by_five_output shape: %s\" % shape\n",
      "            \n",
      "            conv = tf.nn.conv2d(max_pool_output, one_by_one_conv_weights_from_max_pool, [1, 1, 1, 1], padding='SAME')\n",
      "            one_by_one_conv_weights_from_max_pool_output = tf.nn.relu(conv + one_by_one_conv_biases_from_max_pool)\n",
      "            shape = one_by_one_conv_weights_from_max_pool_output.get_shape().as_list()\n",
      "            print \"one_by_one_conv_weights_from_max_pool_output shape: %s\" % shape\n",
      "            \n",
      "            \n",
      "            depth_concat_output = depth_concat([one_by_one_output_to_depthconcat, three_by_three_output, five_by_five_output, one_by_one_conv_weights_from_max_pool_output])\n",
      "            shape = depth_concat_output.get_shape().as_list()\n",
      "            print \"depth_concat_output shape: %s\" % shape\n",
      "            \n",
      "            # The patch size of the avg_pool must match the patch_size of the depth_concat_output\n",
      "            # I assume that the padding must be VALID based on Google's white paper: http://arxiv.org/pdf/1409.4842v1.pdf\n",
      "            largest_patch_size = 32 # This is the height/width of depth_concat_output\n",
      "            avg_pool_output = tf.nn.avg_pool(depth_concat_output, [1, largest_patch_size, largest_patch_size, 1], [1, 1, 1, 1], padding='VALID', name=None)\n",
      "            shape = avg_pool_output.get_shape().as_list()\n",
      "            print \"avg_pool_output shape: %s\" % shape\n",
      "\n",
      "            # Flatten the average_pool_output from 4 dimensions down to 2.\n",
      "            batch_index = 0\n",
      "            reshape_tensor = tf.reshape(avg_pool_output, (data.get_shape().as_list()[batch_index], 1 * 1 * depth_concat_depth))\n",
      "            print \"reshape_tensor shape: %s\" % reshape_tensor.get_shape().as_list()\n",
      "            \n",
      "            # TODO: add dropout.\n",
      "            #if add_dropout:\n",
      "            #    hidden = tf.nn.dropout(hidden, dropout_keep_probability)\n",
      "            return tf.matmul(reshape_tensor, fc_weights) + fc_biases\n",
      "\n",
      "        # Training computation.\n",
      "        logits = create_model_graph(tf_train_dataset, add_dropout = True)\n",
      "        layer_weights = [one_by_one_conv_weights_to_three_by_three, one_by_one_conv_weights_to_five_by_five, one_by_one_conv_weights_to_depthconcat, one_by_one_conv_weights_from_max_pool, three_by_three_conv_weights, five_by_five_conv_weights, fc_weights]\n",
      "        loss = tf.reduce_mean(tf.nn.softmax_cross_entropy_with_logits(logits, tf_train_labels) + get_l2_loss(l2_lambda, layer_weights))\n",
      "\n",
      "        # Optimizer.\n",
      "        global_step = tf.Variable(0, name=\"global_step\", trainable=False)\n",
      "        decayed_learning_rate = tf.train.exponential_decay(learning_rate, global_step, decay_steps, decay_rate)\n",
      "        optimizer = tf.train.GradientDescentOptimizer(decayed_learning_rate).minimize(loss, global_step=global_step)\n",
      "\n",
      "        # Predictions for the training, validation, and test data.\n",
      "        train_prediction = tf.nn.softmax(logits)\n",
      "        eval_prediction = tf.nn.softmax(create_model_graph(eval_dataset))\n",
      "        \n",
      "        return Model(graph, batch_size, eval_batch_size, tf_train_dataset, tf_train_labels, eval_dataset, dropout_keep_probability, logits, loss, optimizer, train_prediction, eval_prediction)    \n"
     ],
     "language": "python",
     "metadata": {},
     "outputs": [],
     "prompt_number": 88
    },
    {
     "cell_type": "code",
     "collapsed": false,
     "input": [
      "def train_model_in_batches(model, steps, dropout_keep_prob):\n",
      "    batch_size = model.batch_size\n",
      "    start_time = time.time()\n",
      "    steps_to_validation_predictions = {}\n",
      "    steps_to_test_predictions = {}\n",
      "    # This is some type of fix to get around a GPU problem mentioned in https://github.com/tensorflow/tensorflow/issues/136 \n",
      "    config = tf.ConfigProto()\n",
      "    config.gpu_options.allocator_type = 'BFC'\n",
      "    with tf.Session(graph=model.graph, config=config) as session:\n",
      "        tf.initialize_all_variables().run()\n",
      "        print \"Initialized\"\n",
      "        for step in xrange(steps):\n",
      "            offset = (step * batch_size) % (train_labels.shape[0] - batch_size)\n",
      "            batch_data = train_dataset[offset:(offset + batch_size), :, :, :]\n",
      "            batch_labels = train_labels[offset:(offset + batch_size), :]\n",
      "            feed_dict = {\n",
      "                model.tf_train_dataset: batch_data,\n",
      "                model.tf_train_labels : batch_labels,\n",
      "                model.dropout_keep_probability: dropout_keep_prob\n",
      "            }\n",
      "            _, l, predictions = session.run(\n",
      "                [model.optimizer, model.loss, model.train_prediction], feed_dict=feed_dict)\n",
      "            if (step % 1000 == 0):\n",
      "                print \"step: \", step, \" minibatch loss:\", l, \" minibatch accuracy: %.1f%%\" % accuracy(predictions, batch_labels)\n",
      "                validation_predictions = eval_predictions(session, model, valid_dataset, valid_labels)\n",
      "                #print \"validation_predictions shape: \", validation_predictions.shape, \" valid_labels shape: \", valid_labels.shape\n",
      "                steps_to_validation_predictions[step] = validation_predictions\n",
      "                print \"Validation accuracy at step %s: %.1f%%\" % (step, accuracy(validation_predictions, valid_labels))\n",
      "        test_predictions = eval_predictions(session, model, test_dataset, test_labels)\n",
      "        steps_to_test_predictions[step] = test_predictions\n",
      "        print \"Test accuracy at step %s: %.1f%%\\n\" % (step, accuracy(test_predictions, test_labels))\n",
      "        seconds_in_an_hour = 60 * 60\n",
      "        print \"Elapsed time: %s hours\" % ((time.time() - start_time) / seconds_in_an_hour)\n",
      "        return steps_to_validation_predictions, steps_to_test_predictions\n",
      "\n",
      "def eval_predictions(session, model, dataset, labels):\n",
      "    dataset_size = dataset.shape[0]\n",
      "    batch_size = model.eval_batch_size\n",
      "    #print \"dataset_size: \", dataset_size, \" batch_size: \", batch_size\n",
      "    if dataset_size % batch_size != 0:\n",
      "        raise \"batch_size must be a multiple of dataset_size.\"\n",
      "    predictions = np.ndarray(shape=(dataset_size, num_labels), dtype=np.float32)\n",
      "    steps = dataset_size / batch_size\n",
      "    #print \"steps: \", steps\n",
      "    for step in xrange(steps):\n",
      "        offset = (step * batch_size)\n",
      "        #print \"offset \", offset\n",
      "        batch_data = dataset[offset:(offset + batch_size), :, :, :]\n",
      "        feed_dict = {\n",
      "            model.eval_dataset: batch_data,\n",
      "        }\n",
      "        #predictions[offset:offset+batch_size, :] = model.eval_prediction.eval(feed_dict)\n",
      "        predictions[offset:offset+batch_size, :] = session.run(model.eval_prediction, feed_dict=feed_dict)\n",
      "    #print predictions\n",
      "    return predictions"
     ],
     "language": "python",
     "metadata": {},
     "outputs": [],
     "prompt_number": 89
    },
    {
     "cell_type": "code",
     "collapsed": false,
     "input": [
      "# 5K steps for GPU test\n",
      "model = create_naive_inception_module_model(learning_rate = 0.00025, l2_lambda = 0.025, feature_maps = 25, initialised_weights_stddev = 0.5, decay_steps = 5000, decay_rate = 0.96)\n",
      "steps_to_validation_predictions, steps_to_test_predictions = train_model_in_batches(model, 5001, dropout_keep_prob = 0.9)\n",
      "correct_prediction_indexes, incorrect_prediction_indexes = visualise_accuracies(steps_to_validation_predictions, steps_to_test_predictions)"
     ],
     "language": "python",
     "metadata": {},
     "outputs": [
      {
       "output_type": "stream",
       "stream": "stdout",
       "text": [
        "Initialized\n",
        "step:  0  minibatch loss: 2406.73  minibatch accuracy: 9.4%\n",
        "Validation accuracy at step 0: 9.8%"
       ]
      },
      {
       "output_type": "stream",
       "stream": "stdout",
       "text": [
        "\n",
        "step: "
       ]
      },
      {
       "output_type": "stream",
       "stream": "stdout",
       "text": [
        " 1000  minibatch loss: 32.7409  minibatch accuracy: 18.8%\n",
        "Validation accuracy at step 1000: 14.8%"
       ]
      },
      {
       "output_type": "stream",
       "stream": "stdout",
       "text": [
        "\n",
        "step: "
       ]
      },
      {
       "output_type": "stream",
       "stream": "stdout",
       "text": [
        " 2000  minibatch loss: 28.3887  minibatch accuracy: 18.8%\n",
        "Validation accuracy at step 2000: 15.5%"
       ]
      },
      {
       "output_type": "stream",
       "stream": "stdout",
       "text": [
        "\n",
        "step: "
       ]
      },
      {
       "output_type": "stream",
       "stream": "stdout",
       "text": [
        " 3000  minibatch loss: 12.6368  minibatch accuracy: 21.9%\n",
        "Validation accuracy at step 3000: 14.2%"
       ]
      },
      {
       "output_type": "stream",
       "stream": "stdout",
       "text": [
        "\n",
        "step: "
       ]
      },
      {
       "output_type": "stream",
       "stream": "stdout",
       "text": [
        " 4000  minibatch loss: 16.9961  minibatch accuracy: 12.5%\n",
        "Validation accuracy at step 4000: 15.2%"
       ]
      },
      {
       "output_type": "stream",
       "stream": "stdout",
       "text": [
        "\n",
        "step: "
       ]
      },
      {
       "output_type": "stream",
       "stream": "stdout",
       "text": [
        " 5000  minibatch loss: 29.134  minibatch accuracy: 12.5%\n",
        "Validation accuracy at step 5000: 14.9%"
       ]
      },
      {
       "output_type": "stream",
       "stream": "stdout",
       "text": [
        "\n",
        "Test accuracy at step 5000: 15.1%\n"
       ]
      },
      {
       "output_type": "stream",
       "stream": "stdout",
       "text": [
        "\n",
        "Elapsed time: 0.0154825222492 hours\n",
        "The best validation accuracy was 15.54 at step 2000\n",
        "The best test accuracy was 15.14 at step 5000\n"
       ]
      }
     ],
     "prompt_number": 90
    },
    {
     "cell_type": "markdown",
     "metadata": {},
     "source": [
      "\n",
      "There is a problem running this 5K test on the GPU verse the CPU. For the exact same test, the CPU gets:\n",
      "Initialized\n",
      "step:  0  minibatch loss: 704.159  minibatch accuracy: 6.2%\n",
      "Validation accuracy at step 0: 9.5%\n",
      "step:  1000  minibatch loss: 14.1969  minibatch accuracy: 37.5%\n",
      "Validation accuracy at step 1000: 25.9%\n",
      "step:  2000  minibatch loss: 15.5165  minibatch accuracy: 28.1%\n",
      "Validation accuracy at step 2000: 26.8%\n",
      "step:  3000  minibatch loss: 12.9367  minibatch accuracy: 25.0%\n",
      "Validation accuracy at step 3000: 24.9%\n",
      "step:  4000  minibatch loss: 13.8641  minibatch accuracy: 15.6%\n",
      "Validation accuracy at step 4000: 25.6%\n",
      "step:  5000  minibatch loss: 13.3502  minibatch accuracy: 21.9%\n",
      "Validation accuracy at step 5000: 25.7%\n",
      "Test accuracy at step 5000: 25.4%\n",
      "\n",
      "Elapsed time: 0.0845035924514 hours\n",
      "The best validation accuracy was 26.77 at step 2000\n",
      "The best test accuracy was 25.39 at step 5000\n",
      "\n",
      "The network is not learning on the GPU. This is either a problem with my code and the GPU or its a problem in CUDA or cudNN.\n",
      "\n",
      "Running the GPU with a validation and test batch size of 100 ran 5K steps in minutes and a batch size of 500 in 0.9 minutes.\n"
     ]
    },
    {
     "cell_type": "markdown",
     "metadata": {},
     "source": [
      "**My goal is to achieve 75.86% test accuracy** or higher for the CIFAR-10 dataset. My stretch goal is 90% test accuracy.\n",
      "\n",
      "My first naive adoption of the Not-MNIST conv net achieved ~26% after 5000 steps."
     ]
    },
    {
     "cell_type": "markdown",
     "metadata": {},
     "source": [
      "For myfirst model, halving the decay step improved **validation accuracy to 69.08% and test accuracy to 68.77%**."
     ]
    },
    {
     "cell_type": "markdown",
     "metadata": {},
     "source": [
      "TODO: learn about weight initialisation so you can initialise weights to not only improve model performance but also to get the triple layer double conv model to work and actually learn.\n",
      "\n",
      "Ideas: allow the pool layers to reduce the dimensions of the data to see if it improves performance.\n",
      "\n",
      "Idea: Create deeper networks.\n",
      "\n",
      "Idea: reduce the number of feature maps for deeper layers.\n",
      "\n",
      "Implement a 5x1 and 1x5 convolutional map and see if it maitains performance whilst decreasing training time."
     ]
    },
    {
     "cell_type": "code",
     "collapsed": false,
     "input": [
      "model = create_inception_module_model(learning_rate = 0.001, l2_lambda = 0.1, feature_maps = 16, decay_steps = 10000, decay_rate = 0.96)\n",
      "steps_to_validation_predictions, steps_to_test_predictions = train_model(model, 100001, dropout_keep_prob = 0.9)\n",
      "\n",
      "# Mac Elapsed time: 5.26098220282 hours\n",
      "# Linux Elapsed time: 1.37024735365 hours\n",
      "# Speed up: 3.84"
     ],
     "language": "python",
     "metadata": {},
     "outputs": []
    },
    {
     "cell_type": "markdown",
     "metadata": {},
     "source": [
      "For the initial hyper parameters, for 100K steps, the best validation accuracy was 40%. The learning process was quite sporadic, which indicates bad hyper parameters or net architecture. Halving the learning rate improved the validation accuracy up to 42.6%. This is a good sign that lowering the learning rate may improve performance more and lead to less sporadic performance. Increasing the feature maps from 16 to 24 improve performance up to 43.7 which is a great sign but performance was still very sporadic.\n",
      "\n",
      "Lets try quartering the initial learning rate with 24 feature maps."
     ]
    },
    {
     "cell_type": "code",
     "collapsed": false,
     "input": [
      "# Half the initial learning rate, 24 feature maps and a decreased weight initialisation value\n",
      "model = create_inception_module_model(learning_rate = 0.0005, l2_lambda = 0.1, feature_maps = 24, initialised_weights_stddev = 0.01, decay_steps = 10000, decay_rate = 0.96)\n",
      "steps_to_validation_predictions, steps_to_test_predictions = train_model(model, 100001, dropout_keep_prob = 0.9)\n",
      "correct_prediction_indexes, incorrect_prediction_indexes = visualise_accuracies(steps_to_validation_predictions, steps_to_test_predictions)\n",
      "\n",
      "# Mac Elapsed time: 7.17482998166 hours\n",
      "# Linux Elapsed time: 1.37846191777 hours\n",
      "# Speed up: 5.20"
     ],
     "language": "python",
     "metadata": {},
     "outputs": []
    },
    {
     "cell_type": "markdown",
     "metadata": {},
     "source": [
      "A weights std dev of 0.5 is better than 0.7."
     ]
    },
    {
     "cell_type": "code",
     "collapsed": false,
     "input": [
      "Best values thus far: learning_rate = 0.0005, l2_lambda = 0.1, feature_maps = 24, initialised_weights_stddev = 0.5"
     ],
     "language": "python",
     "metadata": {},
     "outputs": []
    },
    {
     "cell_type": "markdown",
     "metadata": {},
     "source": [
      "Out of all of the experiements, decreasing the l2_lambda to 0.05 was the only one that improvement the validation accuracy:\n",
      "The best validation accuracy was 45.29 at step 96000\n",
      "The best test accuracy was 44.91 at step 90000"
     ]
    },
    {
     "cell_type": "code",
     "collapsed": false,
     "input": [
      "# Halve l2_lambda again\n",
      "model = create_inception_module_model(learning_rate = 0.00025, l2_lambda = 0.025, feature_maps = 24, initialised_weights_stddev = 0.5, decay_steps = 10000, decay_rate = 0.96)\n",
      "steps_to_validation_predictions, steps_to_test_predictions = train_model(model, 100001, dropout_keep_prob = 0.9)\n",
      "correct_prediction_indexes, incorrect_prediction_indexes = visualise_accuracies(steps_to_validation_predictions, steps_to_test_predictions)"
     ],
     "language": "python",
     "metadata": {},
     "outputs": [
      {
       "output_type": "stream",
       "stream": "stdout",
       "text": [
        "Initialized\n",
        "Minibatch loss at step"
       ]
      },
      {
       "output_type": "stream",
       "stream": "stdout",
       "text": [
        " 0 : 1506.8\n",
        "Minibatch accuracy: 6.2%\n",
        "Validation accuracy at step 0: 10.2%"
       ]
      },
      {
       "output_type": "stream",
       "stream": "stdout",
       "text": [
        "\n",
        "Minibatch loss at step"
       ]
      },
      {
       "output_type": "stream",
       "stream": "stdout",
       "text": [
        " 1000 : 14.7615\n",
        "Minibatch accuracy: 34.4%\n",
        "Validation accuracy at step 1000: 22.4%"
       ]
      },
      {
       "output_type": "stream",
       "stream": "stdout",
       "text": [
        "\n",
        "Minibatch loss at step"
       ]
      },
      {
       "output_type": "stream",
       "stream": "stdout",
       "text": [
        " 2000 : 13.5288\n",
        "Minibatch accuracy: 15.6%\n",
        "Validation accuracy at step 2000: 23.5%"
       ]
      },
      {
       "output_type": "stream",
       "stream": "stdout",
       "text": [
        "\n",
        "Minibatch loss at step"
       ]
      },
      {
       "output_type": "stream",
       "stream": "stdout",
       "text": [
        " 3000 : 10.9301\n",
        "Minibatch accuracy: 21.9%\n",
        "Validation accuracy at step 3000: 26.1%"
       ]
      },
      {
       "output_type": "stream",
       "stream": "stdout",
       "text": [
        "\n",
        "Minibatch loss at step"
       ]
      },
      {
       "output_type": "stream",
       "stream": "stdout",
       "text": [
        " 4000 : 11.7428\n",
        "Minibatch accuracy: 25.0%\n",
        "Validation accuracy at step 4000: 25.0%"
       ]
      },
      {
       "output_type": "stream",
       "stream": "stdout",
       "text": [
        "\n",
        "Minibatch loss at step"
       ]
      },
      {
       "output_type": "stream",
       "stream": "stdout",
       "text": [
        " 5000 : 10.2255\n",
        "Minibatch accuracy: 34.4%\n",
        "Validation accuracy at step 5000: 27.7%"
       ]
      },
      {
       "output_type": "stream",
       "stream": "stdout",
       "text": [
        "\n",
        "Test accuracy at step 5000: 28.2%"
       ]
      },
      {
       "output_type": "stream",
       "stream": "stdout",
       "text": [
        "\n",
        "Minibatch loss at step"
       ]
      },
      {
       "output_type": "stream",
       "stream": "stdout",
       "text": [
        " 6000 : 9.14655\n",
        "Minibatch accuracy: 37.5%\n",
        "Validation accuracy at step 6000: 28.8%"
       ]
      },
      {
       "output_type": "stream",
       "stream": "stdout",
       "text": [
        "\n",
        "Minibatch loss at step"
       ]
      },
      {
       "output_type": "stream",
       "stream": "stdout",
       "text": [
        " 7000 : 9.81804\n",
        "Minibatch accuracy: 40.6%\n",
        "Validation accuracy at step 7000: 26.6%"
       ]
      },
      {
       "output_type": "stream",
       "stream": "stdout",
       "text": [
        "\n",
        "Minibatch loss at step"
       ]
      },
      {
       "output_type": "stream",
       "stream": "stdout",
       "text": [
        " 8000 : 9.31104\n",
        "Minibatch accuracy: 25.0%\n",
        "Validation accuracy at step 8000: 26.6%"
       ]
      },
      {
       "output_type": "stream",
       "stream": "stdout",
       "text": [
        "\n",
        "Minibatch loss at step"
       ]
      },
      {
       "output_type": "stream",
       "stream": "stdout",
       "text": [
        " 9000 : 8.54479\n",
        "Minibatch accuracy: 34.4%\n",
        "Validation accuracy at step 9000: 31.9%"
       ]
      },
      {
       "output_type": "stream",
       "stream": "stdout",
       "text": [
        "\n",
        "Minibatch loss at step"
       ]
      },
      {
       "output_type": "stream",
       "stream": "stdout",
       "text": [
        " 10000 : 9.82257\n",
        "Minibatch accuracy: 15.6%\n",
        "Validation accuracy at step 10000: 29.9%"
       ]
      },
      {
       "output_type": "stream",
       "stream": "stdout",
       "text": [
        "\n",
        "Test accuracy at step 10000: 29.0%"
       ]
      },
      {
       "output_type": "stream",
       "stream": "stdout",
       "text": [
        "\n",
        "Minibatch loss at step"
       ]
      },
      {
       "output_type": "stream",
       "stream": "stdout",
       "text": [
        " 11000 : 10.2982\n",
        "Minibatch accuracy: 18.8%\n",
        "Validation accuracy at step 11000: 25.7%"
       ]
      },
      {
       "output_type": "stream",
       "stream": "stdout",
       "text": [
        "\n",
        "Minibatch loss at step"
       ]
      },
      {
       "output_type": "stream",
       "stream": "stdout",
       "text": [
        " 12000 : 9.43428\n",
        "Minibatch accuracy: 34.4%\n",
        "Validation accuracy at step 12000: 32.0%"
       ]
      },
      {
       "output_type": "stream",
       "stream": "stdout",
       "text": [
        "\n",
        "Minibatch loss at step"
       ]
      },
      {
       "output_type": "stream",
       "stream": "stdout",
       "text": [
        " 13000 : 8.90168\n",
        "Minibatch accuracy: 34.4%\n",
        "Validation accuracy at step 13000: 32.1%"
       ]
      },
      {
       "output_type": "stream",
       "stream": "stdout",
       "text": [
        "\n",
        "Minibatch loss at step"
       ]
      },
      {
       "output_type": "stream",
       "stream": "stdout",
       "text": [
        " 14000 : 9.62323\n",
        "Minibatch accuracy: 12.5%\n",
        "Validation accuracy at step 14000: 31.5%"
       ]
      },
      {
       "output_type": "stream",
       "stream": "stdout",
       "text": [
        "\n",
        "Minibatch loss at step"
       ]
      },
      {
       "output_type": "stream",
       "stream": "stdout",
       "text": [
        " 15000 : 8.61638\n",
        "Minibatch accuracy: 34.4%\n",
        "Validation accuracy at step 15000: 31.4%"
       ]
      },
      {
       "output_type": "stream",
       "stream": "stdout",
       "text": [
        "\n",
        "Test accuracy at step 15000: 31.7%"
       ]
      },
      {
       "output_type": "stream",
       "stream": "stdout",
       "text": [
        "\n",
        "Minibatch loss at step"
       ]
      },
      {
       "output_type": "stream",
       "stream": "stdout",
       "text": [
        " 16000 : 8.23908\n",
        "Minibatch accuracy: 28.1%\n",
        "Validation accuracy at step 16000: 33.2%"
       ]
      },
      {
       "output_type": "stream",
       "stream": "stdout",
       "text": [
        "\n",
        "Minibatch loss at step"
       ]
      },
      {
       "output_type": "stream",
       "stream": "stdout",
       "text": [
        " 17000 : 7.92998\n",
        "Minibatch accuracy: 28.1%\n",
        "Validation accuracy at step 17000: 35.6%"
       ]
      },
      {
       "output_type": "stream",
       "stream": "stdout",
       "text": [
        "\n",
        "Minibatch loss at step"
       ]
      },
      {
       "output_type": "stream",
       "stream": "stdout",
       "text": [
        " 18000 : 7.7978\n",
        "Minibatch accuracy: 37.5%\n",
        "Validation accuracy at step 18000: 33.8%"
       ]
      },
      {
       "output_type": "stream",
       "stream": "stdout",
       "text": [
        "\n",
        "Minibatch loss at step"
       ]
      },
      {
       "output_type": "stream",
       "stream": "stdout",
       "text": [
        " 19000 : 7.72297\n",
        "Minibatch accuracy: 43.8%\n",
        "Validation accuracy at step 19000: 34.8%"
       ]
      },
      {
       "output_type": "stream",
       "stream": "stdout",
       "text": [
        "\n",
        "Minibatch loss at step"
       ]
      },
      {
       "output_type": "stream",
       "stream": "stdout",
       "text": [
        " 20000 : 7.40479\n",
        "Minibatch accuracy: 40.6%\n",
        "Validation accuracy at step 20000: 29.3%"
       ]
      },
      {
       "output_type": "stream",
       "stream": "stdout",
       "text": [
        "\n",
        "Test accuracy at step 20000: 30.5%"
       ]
      },
      {
       "output_type": "stream",
       "stream": "stdout",
       "text": [
        "\n",
        "Minibatch loss at step"
       ]
      },
      {
       "output_type": "stream",
       "stream": "stdout",
       "text": [
        " 21000 : 7.56584\n",
        "Minibatch accuracy: 28.1%\n",
        "Validation accuracy at step 21000: 35.1%"
       ]
      },
      {
       "output_type": "stream",
       "stream": "stdout",
       "text": [
        "\n",
        "Minibatch loss at step"
       ]
      },
      {
       "output_type": "stream",
       "stream": "stdout",
       "text": [
        " 22000 : 7.46268\n",
        "Minibatch accuracy: 37.5%\n",
        "Validation accuracy at step 22000: 36.9%"
       ]
      },
      {
       "output_type": "stream",
       "stream": "stdout",
       "text": [
        "\n",
        "Minibatch loss at step"
       ]
      },
      {
       "output_type": "stream",
       "stream": "stdout",
       "text": [
        " 23000 : 7.72004\n",
        "Minibatch accuracy: 31.2%\n",
        "Validation accuracy at step 23000: 34.3%"
       ]
      },
      {
       "output_type": "stream",
       "stream": "stdout",
       "text": [
        "\n",
        "Minibatch loss at step"
       ]
      },
      {
       "output_type": "stream",
       "stream": "stdout",
       "text": [
        " 24000 : 7.31589\n",
        "Minibatch accuracy: 40.6%\n",
        "Validation accuracy at step 24000: 37.8%"
       ]
      },
      {
       "output_type": "stream",
       "stream": "stdout",
       "text": [
        "\n",
        "Minibatch loss at step"
       ]
      },
      {
       "output_type": "stream",
       "stream": "stdout",
       "text": [
        " 25000 : 7.3662\n",
        "Minibatch accuracy: 43.8%\n",
        "Validation accuracy at step 25000: 36.0%"
       ]
      },
      {
       "output_type": "stream",
       "stream": "stdout",
       "text": [
        "\n",
        "Test accuracy at step 25000: 35.6%"
       ]
      },
      {
       "output_type": "stream",
       "stream": "stdout",
       "text": [
        "\n",
        "Minibatch loss at step"
       ]
      },
      {
       "output_type": "stream",
       "stream": "stdout",
       "text": [
        " 26000 : 7.45921\n",
        "Minibatch accuracy: 34.4%\n",
        "Validation accuracy at step 26000: 34.9%"
       ]
      },
      {
       "output_type": "stream",
       "stream": "stdout",
       "text": [
        "\n",
        "Minibatch loss at step"
       ]
      },
      {
       "output_type": "stream",
       "stream": "stdout",
       "text": [
        " 27000 : 6.72495\n",
        "Minibatch accuracy: 43.8%\n",
        "Validation accuracy at step 27000: 37.1%"
       ]
      },
      {
       "output_type": "stream",
       "stream": "stdout",
       "text": [
        "\n",
        "Minibatch loss at step"
       ]
      },
      {
       "output_type": "stream",
       "stream": "stdout",
       "text": [
        " 28000 : 7.06224\n",
        "Minibatch accuracy: 31.2%\n",
        "Validation accuracy at step 28000: 38.1%"
       ]
      },
      {
       "output_type": "stream",
       "stream": "stdout",
       "text": [
        "\n",
        "Minibatch loss at step"
       ]
      },
      {
       "output_type": "stream",
       "stream": "stdout",
       "text": [
        " 29000 : 7.07439\n",
        "Minibatch accuracy: 31.2%\n",
        "Validation accuracy at step 29000: 37.8%"
       ]
      },
      {
       "output_type": "stream",
       "stream": "stdout",
       "text": [
        "\n",
        "Minibatch loss at step"
       ]
      },
      {
       "output_type": "stream",
       "stream": "stdout",
       "text": [
        " 30000 : 7.07452\n",
        "Minibatch accuracy: 31.2%\n",
        "Validation accuracy at step 30000: 34.6%"
       ]
      },
      {
       "output_type": "stream",
       "stream": "stdout",
       "text": [
        "\n",
        "Test accuracy at step 30000: 34.4%"
       ]
      },
      {
       "output_type": "stream",
       "stream": "stdout",
       "text": [
        "\n",
        "Minibatch loss at step"
       ]
      },
      {
       "output_type": "stream",
       "stream": "stdout",
       "text": [
        " 31000 : 6.80192\n",
        "Minibatch accuracy: 37.5%\n",
        "Validation accuracy at step 31000: 36.2%"
       ]
      },
      {
       "output_type": "stream",
       "stream": "stdout",
       "text": [
        "\n",
        "Minibatch loss at step"
       ]
      },
      {
       "output_type": "stream",
       "stream": "stdout",
       "text": [
        " 32000 : 7.1316\n",
        "Minibatch accuracy: 28.1%\n",
        "Validation accuracy at step 32000: 36.8%"
       ]
      },
      {
       "output_type": "stream",
       "stream": "stdout",
       "text": [
        "\n",
        "Minibatch loss at step"
       ]
      },
      {
       "output_type": "stream",
       "stream": "stdout",
       "text": [
        " 33000 : 6.47983\n",
        "Minibatch accuracy: 43.8%\n",
        "Validation accuracy at step 33000: 37.4%"
       ]
      },
      {
       "output_type": "stream",
       "stream": "stdout",
       "text": [
        "\n",
        "Minibatch loss at step"
       ]
      },
      {
       "output_type": "stream",
       "stream": "stdout",
       "text": [
        " 34000 : 6.44661\n",
        "Minibatch accuracy: 34.4%\n",
        "Validation accuracy at step 34000: 37.1%"
       ]
      },
      {
       "output_type": "stream",
       "stream": "stdout",
       "text": [
        "\n",
        "Minibatch loss at step"
       ]
      },
      {
       "output_type": "stream",
       "stream": "stdout",
       "text": [
        " 35000 : 6.45711\n",
        "Minibatch accuracy: 40.6%\n",
        "Validation accuracy at step 35000: 39.3%"
       ]
      },
      {
       "output_type": "stream",
       "stream": "stdout",
       "text": [
        "\n",
        "Test accuracy at step 35000: 38.8%"
       ]
      },
      {
       "output_type": "stream",
       "stream": "stdout",
       "text": [
        "\n",
        "Minibatch loss at step"
       ]
      },
      {
       "output_type": "stream",
       "stream": "stdout",
       "text": [
        " 36000 : 7.08134\n",
        "Minibatch accuracy: 21.9%\n",
        "Validation accuracy at step 36000: 36.9%"
       ]
      },
      {
       "output_type": "stream",
       "stream": "stdout",
       "text": [
        "\n",
        "Minibatch loss at step"
       ]
      },
      {
       "output_type": "stream",
       "stream": "stdout",
       "text": [
        " 37000 : 6.38108\n",
        "Minibatch accuracy: 43.8%\n",
        "Validation accuracy at step 37000: 39.5%"
       ]
      },
      {
       "output_type": "stream",
       "stream": "stdout",
       "text": [
        "\n",
        "Minibatch loss at step"
       ]
      },
      {
       "output_type": "stream",
       "stream": "stdout",
       "text": [
        " 38000 : 6.74988\n",
        "Minibatch accuracy: 37.5%\n",
        "Validation accuracy at step 38000: 39.4%"
       ]
      },
      {
       "output_type": "stream",
       "stream": "stdout",
       "text": [
        "\n",
        "Minibatch loss at step"
       ]
      },
      {
       "output_type": "stream",
       "stream": "stdout",
       "text": [
        " 39000 : 6.71803\n",
        "Minibatch accuracy: 43.8%\n",
        "Validation accuracy at step 39000: 39.2%"
       ]
      },
      {
       "output_type": "stream",
       "stream": "stdout",
       "text": [
        "\n",
        "Minibatch loss at step"
       ]
      },
      {
       "output_type": "stream",
       "stream": "stdout",
       "text": [
        " 40000 : 6.34626\n",
        "Minibatch accuracy: 37.5%\n",
        "Validation accuracy at step 40000: 36.5%"
       ]
      },
      {
       "output_type": "stream",
       "stream": "stdout",
       "text": [
        "\n",
        "Test accuracy at step 40000: 36.7%"
       ]
      },
      {
       "output_type": "stream",
       "stream": "stdout",
       "text": [
        "\n",
        "Minibatch loss at step"
       ]
      },
      {
       "output_type": "stream",
       "stream": "stdout",
       "text": [
        " 41000 : 6.38984\n",
        "Minibatch accuracy: 34.4%\n",
        "Validation accuracy at step 41000: 38.5%"
       ]
      },
      {
       "output_type": "stream",
       "stream": "stdout",
       "text": [
        "\n",
        "Minibatch loss at step"
       ]
      },
      {
       "output_type": "stream",
       "stream": "stdout",
       "text": [
        " 42000 : 6.39808\n",
        "Minibatch accuracy: 28.1%\n",
        "Validation accuracy at step 42000: 39.3%"
       ]
      },
      {
       "output_type": "stream",
       "stream": "stdout",
       "text": [
        "\n",
        "Minibatch loss at step"
       ]
      },
      {
       "output_type": "stream",
       "stream": "stdout",
       "text": [
        " 43000 : 5.93988\n",
        "Minibatch accuracy: 50.0%\n",
        "Validation accuracy at step 43000: 39.4%"
       ]
      },
      {
       "output_type": "stream",
       "stream": "stdout",
       "text": [
        "\n",
        "Minibatch loss at step"
       ]
      },
      {
       "output_type": "stream",
       "stream": "stdout",
       "text": [
        " 44000 : 6.21149\n",
        "Minibatch accuracy: 40.6%\n",
        "Validation accuracy at step 44000: 39.0%"
       ]
      },
      {
       "output_type": "stream",
       "stream": "stdout",
       "text": [
        "\n",
        "Minibatch loss at step"
       ]
      },
      {
       "output_type": "stream",
       "stream": "stdout",
       "text": [
        " 45000 : 5.83762\n",
        "Minibatch accuracy: 56.2%\n",
        "Validation accuracy at step 45000: 41.4%"
       ]
      },
      {
       "output_type": "stream",
       "stream": "stdout",
       "text": [
        "\n",
        "Test accuracy at step 45000: 41.0%"
       ]
      },
      {
       "output_type": "stream",
       "stream": "stdout",
       "text": [
        "\n",
        "Minibatch loss at step"
       ]
      },
      {
       "output_type": "stream",
       "stream": "stdout",
       "text": [
        " 46000 : 5.78305\n",
        "Minibatch accuracy: 46.9%\n",
        "Validation accuracy at step 46000: 41.9%"
       ]
      },
      {
       "output_type": "stream",
       "stream": "stdout",
       "text": [
        "\n",
        "Minibatch loss at step"
       ]
      },
      {
       "output_type": "stream",
       "stream": "stdout",
       "text": [
        " 47000 : 5.91537\n",
        "Minibatch accuracy: 46.9%\n",
        "Validation accuracy at step 47000: 39.2%"
       ]
      },
      {
       "output_type": "stream",
       "stream": "stdout",
       "text": [
        "\n",
        "Minibatch loss at step"
       ]
      },
      {
       "output_type": "stream",
       "stream": "stdout",
       "text": [
        " 48000 : 5.56555\n",
        "Minibatch accuracy: 50.0%\n",
        "Validation accuracy at step 48000: 39.5%"
       ]
      },
      {
       "output_type": "stream",
       "stream": "stdout",
       "text": [
        "\n",
        "Minibatch loss at step"
       ]
      },
      {
       "output_type": "stream",
       "stream": "stdout",
       "text": [
        " 49000 : 5.57237\n",
        "Minibatch accuracy: 50.0%\n",
        "Validation accuracy at step 49000: 40.8%"
       ]
      },
      {
       "output_type": "stream",
       "stream": "stdout",
       "text": [
        "\n",
        "Minibatch loss at step"
       ]
      },
      {
       "output_type": "stream",
       "stream": "stdout",
       "text": [
        " 50000 : 6.02617\n",
        "Minibatch accuracy: 28.1%\n",
        "Validation accuracy at step 50000: 39.5%"
       ]
      },
      {
       "output_type": "stream",
       "stream": "stdout",
       "text": [
        "\n",
        "Test accuracy at step 50000: 39.9%"
       ]
      },
      {
       "output_type": "stream",
       "stream": "stdout",
       "text": [
        "\n",
        "Minibatch loss at step"
       ]
      },
      {
       "output_type": "stream",
       "stream": "stdout",
       "text": [
        " 51000 : 5.87025\n",
        "Minibatch accuracy: 37.5%\n",
        "Validation accuracy at step 51000: 38.2%"
       ]
      },
      {
       "output_type": "stream",
       "stream": "stdout",
       "text": [
        "\n",
        "Minibatch loss at step"
       ]
      },
      {
       "output_type": "stream",
       "stream": "stdout",
       "text": [
        " 52000 : 5.41333\n",
        "Minibatch accuracy: 53.1%\n",
        "Validation accuracy at step 52000: 41.0%"
       ]
      },
      {
       "output_type": "stream",
       "stream": "stdout",
       "text": [
        "\n",
        "Minibatch loss at step"
       ]
      },
      {
       "output_type": "stream",
       "stream": "stdout",
       "text": [
        " 53000 : 5.52449\n",
        "Minibatch accuracy: 53.1%\n",
        "Validation accuracy at step 53000: 42.0%"
       ]
      },
      {
       "output_type": "stream",
       "stream": "stdout",
       "text": [
        "\n",
        "Minibatch loss at step"
       ]
      },
      {
       "output_type": "stream",
       "stream": "stdout",
       "text": [
        " 54000 : 5.60025\n",
        "Minibatch accuracy: 43.8%\n",
        "Validation accuracy at step 54000: 41.5%"
       ]
      },
      {
       "output_type": "stream",
       "stream": "stdout",
       "text": [
        "\n",
        "Minibatch loss at step"
       ]
      },
      {
       "output_type": "stream",
       "stream": "stdout",
       "text": [
        " 55000 : 5.41724\n",
        "Minibatch accuracy: 43.8%\n",
        "Validation accuracy at step 55000: 42.8%"
       ]
      },
      {
       "output_type": "stream",
       "stream": "stdout",
       "text": [
        "\n",
        "Test accuracy at step 55000: 42.6%"
       ]
      },
      {
       "output_type": "stream",
       "stream": "stdout",
       "text": [
        "\n",
        "Minibatch loss at step"
       ]
      },
      {
       "output_type": "stream",
       "stream": "stdout",
       "text": [
        " 56000 : 5.47727\n",
        "Minibatch accuracy: 46.9%\n",
        "Validation accuracy at step 56000: 41.9%"
       ]
      },
      {
       "output_type": "stream",
       "stream": "stdout",
       "text": [
        "\n",
        "Minibatch loss at step"
       ]
      },
      {
       "output_type": "stream",
       "stream": "stdout",
       "text": [
        " 57000 : 6.0087\n",
        "Minibatch accuracy: 28.1%\n",
        "Validation accuracy at step 57000: 41.4%"
       ]
      },
      {
       "output_type": "stream",
       "stream": "stdout",
       "text": [
        "\n",
        "Minibatch loss at step"
       ]
      },
      {
       "output_type": "stream",
       "stream": "stdout",
       "text": [
        " 58000 : 5.58535\n",
        "Minibatch accuracy: 37.5%\n",
        "Validation accuracy at step 58000: 42.0%"
       ]
      },
      {
       "output_type": "stream",
       "stream": "stdout",
       "text": [
        "\n",
        "Minibatch loss at step"
       ]
      },
      {
       "output_type": "stream",
       "stream": "stdout",
       "text": [
        " 59000 : 5.38258\n",
        "Minibatch accuracy: 37.5%\n",
        "Validation accuracy at step 59000: 40.6%"
       ]
      },
      {
       "output_type": "stream",
       "stream": "stdout",
       "text": [
        "\n",
        "Minibatch loss at step"
       ]
      },
      {
       "output_type": "stream",
       "stream": "stdout",
       "text": [
        " 60000 : 5.26434\n",
        "Minibatch accuracy: 43.8%\n",
        "Validation accuracy at step 60000: 42.1%"
       ]
      },
      {
       "output_type": "stream",
       "stream": "stdout",
       "text": [
        "\n",
        "Test accuracy at step 60000: 42.5%"
       ]
      },
      {
       "output_type": "stream",
       "stream": "stdout",
       "text": [
        "\n",
        "Minibatch loss at step"
       ]
      },
      {
       "output_type": "stream",
       "stream": "stdout",
       "text": [
        " 61000 : 5.46378\n",
        "Minibatch accuracy: 37.5%\n",
        "Validation accuracy at step 61000: 41.7%"
       ]
      },
      {
       "output_type": "stream",
       "stream": "stdout",
       "text": [
        "\n",
        "Minibatch loss at step"
       ]
      },
      {
       "output_type": "stream",
       "stream": "stdout",
       "text": [
        " 62000 : 4.99921\n",
        "Minibatch accuracy: 53.1%\n",
        "Validation accuracy at step 62000: 42.3%"
       ]
      },
      {
       "output_type": "stream",
       "stream": "stdout",
       "text": [
        "\n",
        "Minibatch loss at step"
       ]
      },
      {
       "output_type": "stream",
       "stream": "stdout",
       "text": [
        " 63000 : 5.00444\n",
        "Minibatch accuracy: 46.9%\n",
        "Validation accuracy at step 63000: 42.0%"
       ]
      },
      {
       "output_type": "stream",
       "stream": "stdout",
       "text": [
        "\n",
        "Minibatch loss at step"
       ]
      },
      {
       "output_type": "stream",
       "stream": "stdout",
       "text": [
        " 64000 : 5.02014\n",
        "Minibatch accuracy: 40.6%\n",
        "Validation accuracy at step 64000: 43.8%"
       ]
      },
      {
       "output_type": "stream",
       "stream": "stdout",
       "text": [
        "\n",
        "Minibatch loss at step"
       ]
      },
      {
       "output_type": "stream",
       "stream": "stdout",
       "text": [
        " 65000 : 5.201\n",
        "Minibatch accuracy: 43.8%\n",
        "Validation accuracy at step 65000: 43.0%"
       ]
      },
      {
       "output_type": "stream",
       "stream": "stdout",
       "text": [
        "\n",
        "Test accuracy at step 65000: 43.4%"
       ]
      },
      {
       "output_type": "stream",
       "stream": "stdout",
       "text": [
        "\n",
        "Minibatch loss at step"
       ]
      },
      {
       "output_type": "stream",
       "stream": "stdout",
       "text": [
        " 66000 : 5.58339\n",
        "Minibatch accuracy: 28.1%\n",
        "Validation accuracy at step 66000: 40.8%"
       ]
      },
      {
       "output_type": "stream",
       "stream": "stdout",
       "text": [
        "\n",
        "Minibatch loss at step"
       ]
      },
      {
       "output_type": "stream",
       "stream": "stdout",
       "text": [
        " 67000 : 5.24668\n",
        "Minibatch accuracy: 40.6%\n",
        "Validation accuracy at step 67000: 41.9%"
       ]
      },
      {
       "output_type": "stream",
       "stream": "stdout",
       "text": [
        "\n",
        "Minibatch loss at step"
       ]
      },
      {
       "output_type": "stream",
       "stream": "stdout",
       "text": [
        " 68000 : 4.85299\n",
        "Minibatch accuracy: 65.6%\n",
        "Validation accuracy at step 68000: 41.8%"
       ]
      },
      {
       "output_type": "stream",
       "stream": "stdout",
       "text": [
        "\n",
        "Minibatch loss at step"
       ]
      },
      {
       "output_type": "stream",
       "stream": "stdout",
       "text": [
        " 69000 : 4.97419\n",
        "Minibatch accuracy: 46.9%\n",
        "Validation accuracy at step 69000: 41.7%"
       ]
      },
      {
       "output_type": "stream",
       "stream": "stdout",
       "text": [
        "\n",
        "Minibatch loss at step"
       ]
      },
      {
       "output_type": "stream",
       "stream": "stdout",
       "text": [
        " 70000 : 4.89809\n",
        "Minibatch accuracy: 43.8%\n",
        "Validation accuracy at step 70000: 42.7%"
       ]
      },
      {
       "output_type": "stream",
       "stream": "stdout",
       "text": [
        "\n",
        "Test accuracy at step 70000: 42.9%"
       ]
      },
      {
       "output_type": "stream",
       "stream": "stdout",
       "text": [
        "\n",
        "Minibatch loss at step"
       ]
      },
      {
       "output_type": "stream",
       "stream": "stdout",
       "text": [
        " 71000 : 4.76063\n",
        "Minibatch accuracy: 53.1%\n",
        "Validation accuracy at step 71000: 40.8%"
       ]
      },
      {
       "output_type": "stream",
       "stream": "stdout",
       "text": [
        "\n",
        "Minibatch loss at step"
       ]
      },
      {
       "output_type": "stream",
       "stream": "stdout",
       "text": [
        " 72000 : 5.0176\n",
        "Minibatch accuracy: 40.6%\n",
        "Validation accuracy at step 72000: 42.7%"
       ]
      },
      {
       "output_type": "stream",
       "stream": "stdout",
       "text": [
        "\n",
        "Minibatch loss at step"
       ]
      },
      {
       "output_type": "stream",
       "stream": "stdout",
       "text": [
        " 73000 : 4.96398\n",
        "Minibatch accuracy: 43.8%\n",
        "Validation accuracy at step 73000: 43.9%"
       ]
      },
      {
       "output_type": "stream",
       "stream": "stdout",
       "text": [
        "\n",
        "Minibatch loss at step"
       ]
      },
      {
       "output_type": "stream",
       "stream": "stdout",
       "text": [
        " 74000 : 4.79042\n",
        "Minibatch accuracy: 53.1%\n",
        "Validation accuracy at step 74000: 44.2%"
       ]
      },
      {
       "output_type": "stream",
       "stream": "stdout",
       "text": [
        "\n",
        "Minibatch loss at step"
       ]
      },
      {
       "output_type": "stream",
       "stream": "stdout",
       "text": [
        " 75000 : 4.93661\n",
        "Minibatch accuracy: 40.6%\n",
        "Validation accuracy at step 75000: 43.1%"
       ]
      },
      {
       "output_type": "stream",
       "stream": "stdout",
       "text": [
        "\n",
        "Test accuracy at step 75000: 42.5%"
       ]
      },
      {
       "output_type": "stream",
       "stream": "stdout",
       "text": [
        "\n",
        "Minibatch loss at step"
       ]
      },
      {
       "output_type": "stream",
       "stream": "stdout",
       "text": [
        " 76000 : 5.14558\n",
        "Minibatch accuracy: 34.4%\n",
        "Validation accuracy at step 76000: 44.2%"
       ]
      },
      {
       "output_type": "stream",
       "stream": "stdout",
       "text": [
        "\n",
        "Minibatch loss at step"
       ]
      },
      {
       "output_type": "stream",
       "stream": "stdout",
       "text": [
        " 77000 : 4.54217\n",
        "Minibatch accuracy: 46.9%\n",
        "Validation accuracy at step 77000: 43.3%"
       ]
      },
      {
       "output_type": "stream",
       "stream": "stdout",
       "text": [
        "\n",
        "Minibatch loss at step"
       ]
      },
      {
       "output_type": "stream",
       "stream": "stdout",
       "text": [
        " 78000 : 4.7277\n",
        "Minibatch accuracy: 50.0%\n",
        "Validation accuracy at step 78000: 43.8%"
       ]
      },
      {
       "output_type": "stream",
       "stream": "stdout",
       "text": [
        "\n",
        "Minibatch loss at step"
       ]
      },
      {
       "output_type": "stream",
       "stream": "stdout",
       "text": [
        " 79000 : 4.67054\n",
        "Minibatch accuracy: 43.8%\n",
        "Validation accuracy at step 79000: 44.4%"
       ]
      },
      {
       "output_type": "stream",
       "stream": "stdout",
       "text": [
        "\n",
        "Minibatch loss at step"
       ]
      },
      {
       "output_type": "stream",
       "stream": "stdout",
       "text": [
        " 80000 : 4.45621\n",
        "Minibatch accuracy: 40.6%\n",
        "Validation accuracy at step 80000: 44.1%"
       ]
      },
      {
       "output_type": "stream",
       "stream": "stdout",
       "text": [
        "\n",
        "Test accuracy at step 80000: 43.5%"
       ]
      },
      {
       "output_type": "stream",
       "stream": "stdout",
       "text": [
        "\n",
        "Minibatch loss at step"
       ]
      },
      {
       "output_type": "stream",
       "stream": "stdout",
       "text": [
        " 81000 : 4.55585\n",
        "Minibatch accuracy: 53.1%\n",
        "Validation accuracy at step 81000: 43.2%"
       ]
      },
      {
       "output_type": "stream",
       "stream": "stdout",
       "text": [
        "\n",
        "Minibatch loss at step"
       ]
      },
      {
       "output_type": "stream",
       "stream": "stdout",
       "text": [
        " 82000 : 4.31073\n",
        "Minibatch accuracy: 53.1%\n",
        "Validation accuracy at step 82000: 43.4%"
       ]
      },
      {
       "output_type": "stream",
       "stream": "stdout",
       "text": [
        "\n",
        "Minibatch loss at step"
       ]
      },
      {
       "output_type": "stream",
       "stream": "stdout",
       "text": [
        " 83000 : 4.61861\n",
        "Minibatch accuracy: 50.0%\n",
        "Validation accuracy at step 83000: 44.2%"
       ]
      },
      {
       "output_type": "stream",
       "stream": "stdout",
       "text": [
        "\n",
        "Minibatch loss at step"
       ]
      },
      {
       "output_type": "stream",
       "stream": "stdout",
       "text": [
        " 84000 : 4.67474\n",
        "Minibatch accuracy: 50.0%\n",
        "Validation accuracy at step 84000: 43.9%"
       ]
      },
      {
       "output_type": "stream",
       "stream": "stdout",
       "text": [
        "\n",
        "Minibatch loss at step"
       ]
      },
      {
       "output_type": "stream",
       "stream": "stdout",
       "text": [
        " 85000 : 4.3271\n",
        "Minibatch accuracy: 46.9%\n",
        "Validation accuracy at step 85000: 44.9%"
       ]
      },
      {
       "output_type": "stream",
       "stream": "stdout",
       "text": [
        "\n",
        "Test accuracy at step 85000: 44.5%"
       ]
      },
      {
       "output_type": "stream",
       "stream": "stdout",
       "text": [
        "\n",
        "Minibatch loss at step"
       ]
      },
      {
       "output_type": "stream",
       "stream": "stdout",
       "text": [
        " 86000 : 4.29653\n",
        "Minibatch accuracy: 46.9%\n",
        "Validation accuracy at step 86000: 44.0%"
       ]
      },
      {
       "output_type": "stream",
       "stream": "stdout",
       "text": [
        "\n",
        "Minibatch loss at step"
       ]
      },
      {
       "output_type": "stream",
       "stream": "stdout",
       "text": [
        " 87000 : 4.15546\n",
        "Minibatch accuracy: 50.0%\n",
        "Validation accuracy at step 87000: 42.6%"
       ]
      },
      {
       "output_type": "stream",
       "stream": "stdout",
       "text": [
        "\n",
        "Minibatch loss at step"
       ]
      },
      {
       "output_type": "stream",
       "stream": "stdout",
       "text": [
        " 88000 : 4.42939\n",
        "Minibatch accuracy: 37.5%\n",
        "Validation accuracy at step 88000: 44.1%"
       ]
      },
      {
       "output_type": "stream",
       "stream": "stdout",
       "text": [
        "\n",
        "Minibatch loss at step"
       ]
      },
      {
       "output_type": "stream",
       "stream": "stdout",
       "text": [
        " 89000 : 4.31489\n",
        "Minibatch accuracy: 56.2%\n",
        "Validation accuracy at step 89000: 43.9%"
       ]
      },
      {
       "output_type": "stream",
       "stream": "stdout",
       "text": [
        "\n",
        "Minibatch loss at step"
       ]
      },
      {
       "output_type": "stream",
       "stream": "stdout",
       "text": [
        " 90000 : 4.4441\n",
        "Minibatch accuracy: 40.6%\n",
        "Validation accuracy at step 90000: 44.3%"
       ]
      },
      {
       "output_type": "stream",
       "stream": "stdout",
       "text": [
        "\n",
        "Test accuracy at step 90000: 44.4%"
       ]
      },
      {
       "output_type": "stream",
       "stream": "stdout",
       "text": [
        "\n",
        "Minibatch loss at step"
       ]
      },
      {
       "output_type": "stream",
       "stream": "stdout",
       "text": [
        " 91000 : 4.54817\n",
        "Minibatch accuracy: 46.9%\n",
        "Validation accuracy at step 91000: 45.1%"
       ]
      },
      {
       "output_type": "stream",
       "stream": "stdout",
       "text": [
        "\n",
        "Minibatch loss at step"
       ]
      },
      {
       "output_type": "stream",
       "stream": "stdout",
       "text": [
        " 92000 : 4.31947\n",
        "Minibatch accuracy: 46.9%\n",
        "Validation accuracy at step 92000: 44.7%"
       ]
      },
      {
       "output_type": "stream",
       "stream": "stdout",
       "text": [
        "\n",
        "Minibatch loss at step"
       ]
      },
      {
       "output_type": "stream",
       "stream": "stdout",
       "text": [
        " 93000 : 4.7219\n",
        "Minibatch accuracy: 37.5%\n",
        "Validation accuracy at step 93000: 45.4%"
       ]
      },
      {
       "output_type": "stream",
       "stream": "stdout",
       "text": [
        "\n",
        "Minibatch loss at step"
       ]
      },
      {
       "output_type": "stream",
       "stream": "stdout",
       "text": [
        " 94000 : 4.49535\n",
        "Minibatch accuracy: 37.5%\n",
        "Validation accuracy at step 94000: 45.6%"
       ]
      },
      {
       "output_type": "stream",
       "stream": "stdout",
       "text": [
        "\n",
        "Minibatch loss at step"
       ]
      },
      {
       "output_type": "stream",
       "stream": "stdout",
       "text": [
        " 95000 : 4.2902\n",
        "Minibatch accuracy: 46.9%\n",
        "Validation accuracy at step 95000: 44.7%"
       ]
      },
      {
       "output_type": "stream",
       "stream": "stdout",
       "text": [
        "\n",
        "Test accuracy at step 95000: 44.7%"
       ]
      },
      {
       "output_type": "stream",
       "stream": "stdout",
       "text": [
        "\n",
        "Minibatch loss at step"
       ]
      },
      {
       "output_type": "stream",
       "stream": "stdout",
       "text": [
        " 96000 : 4.47442\n",
        "Minibatch accuracy: 37.5%\n",
        "Validation accuracy at step 96000: 45.9%"
       ]
      },
      {
       "output_type": "stream",
       "stream": "stdout",
       "text": [
        "\n",
        "Minibatch loss at step"
       ]
      },
      {
       "output_type": "stream",
       "stream": "stdout",
       "text": [
        " 97000 : 4.27814\n",
        "Minibatch accuracy: 43.8%\n",
        "Validation accuracy at step 97000: 45.2%"
       ]
      },
      {
       "output_type": "stream",
       "stream": "stdout",
       "text": [
        "\n",
        "Minibatch loss at step"
       ]
      },
      {
       "output_type": "stream",
       "stream": "stdout",
       "text": [
        " 98000 : 4.1483\n",
        "Minibatch accuracy: 50.0%\n",
        "Validation accuracy at step 98000: 44.5%"
       ]
      },
      {
       "output_type": "stream",
       "stream": "stdout",
       "text": [
        "\n",
        "Minibatch loss at step"
       ]
      },
      {
       "output_type": "stream",
       "stream": "stdout",
       "text": [
        " 99000 : 4.15305\n",
        "Minibatch accuracy: 40.6%\n",
        "Validation accuracy at step 99000: 45.0%"
       ]
      },
      {
       "output_type": "stream",
       "stream": "stdout",
       "text": [
        "\n",
        "Minibatch loss at step"
       ]
      },
      {
       "output_type": "stream",
       "stream": "stdout",
       "text": [
        " 100000 : 3.98225\n",
        "Minibatch accuracy: 43.8%\n",
        "Validation accuracy at step 100000: 45.4%"
       ]
      },
      {
       "output_type": "stream",
       "stream": "stdout",
       "text": [
        "\n",
        "Test accuracy at step 100000: 45.5%\n"
       ]
      },
      {
       "output_type": "stream",
       "stream": "stdout",
       "text": [
        "\n",
        "Elapsed time: 1.38459513499 hours\n",
        "The best validation accuracy was 45.87 at step 96000"
       ]
      },
      {
       "output_type": "stream",
       "stream": "stdout",
       "text": [
        "\n",
        "The best test accuracy was 45.55 at step 100000\n"
       ]
      }
     ],
     "prompt_number": 24
    },
    {
     "cell_type": "code",
     "collapsed": false,
     "input": [
      "Best result:\n",
      "The best validation accuracy was 45.87 at step 96000\n",
      "The best test accuracy was 45.55 at step 100000"
     ],
     "language": "python",
     "metadata": {},
     "outputs": []
    },
    {
     "cell_type": "code",
     "collapsed": false,
     "input": [
      "# Halve l2_lambda again\n",
      "model = create_inception_module_model(learning_rate = 0.00025, l2_lambda = 0.0125, feature_maps = 24, initialised_weights_stddev = 0.5, decay_steps = 10000, decay_rate = 0.96)\n",
      "steps_to_validation_predictions, steps_to_test_predictions = train_model(model, 100001, dropout_keep_prob = 0.9)\n",
      "correct_prediction_indexes, incorrect_prediction_indexes = visualise_accuracies(steps_to_validation_predictions, steps_to_test_predictions)"
     ],
     "language": "python",
     "metadata": {},
     "outputs": [
      {
       "output_type": "stream",
       "stream": "stdout",
       "text": [
        "Initialized\n",
        "Minibatch loss at step"
       ]
      },
      {
       "output_type": "stream",
       "stream": "stdout",
       "text": [
        " 0 : 1524.97\n",
        "Minibatch accuracy: 12.5%\n",
        "Validation accuracy at step 0: 11.6%"
       ]
      },
      {
       "output_type": "stream",
       "stream": "stdout",
       "text": [
        "\n",
        "Minibatch loss at step"
       ]
      },
      {
       "output_type": "stream",
       "stream": "stdout",
       "text": [
        " 1000 : 10.1706\n",
        "Minibatch accuracy: 6.2%\n",
        "Validation accuracy at step 1000: 19.6%"
       ]
      },
      {
       "output_type": "stream",
       "stream": "stdout",
       "text": [
        "\n",
        "Minibatch loss at step"
       ]
      },
      {
       "output_type": "stream",
       "stream": "stdout",
       "text": [
        " 2000 : 9.24905\n",
        "Minibatch accuracy: 18.8%\n",
        "Validation accuracy at step 2000: 23.0%"
       ]
      },
      {
       "output_type": "stream",
       "stream": "stdout",
       "text": [
        "\n",
        "Minibatch loss at step"
       ]
      },
      {
       "output_type": "stream",
       "stream": "stdout",
       "text": [
        " 3000 : 7.50369\n",
        "Minibatch accuracy: 31.2%\n",
        "Validation accuracy at step 3000: 24.0%"
       ]
      },
      {
       "output_type": "stream",
       "stream": "stdout",
       "text": [
        "\n",
        "Minibatch loss at step"
       ]
      },
      {
       "output_type": "stream",
       "stream": "stdout",
       "text": [
        " 4000 : 7.88247\n",
        "Minibatch accuracy: 21.9%\n",
        "Validation accuracy at step 4000: 21.0%"
       ]
      },
      {
       "output_type": "stream",
       "stream": "stdout",
       "text": [
        "\n",
        "Minibatch loss at step"
       ]
      },
      {
       "output_type": "stream",
       "stream": "stdout",
       "text": [
        " 5000 : 6.17752\n",
        "Minibatch accuracy: 34.4%\n",
        "Validation accuracy at step 5000: 28.1%"
       ]
      },
      {
       "output_type": "stream",
       "stream": "stdout",
       "text": [
        "\n",
        "Test accuracy at step 5000: 28.3%"
       ]
      },
      {
       "output_type": "stream",
       "stream": "stdout",
       "text": [
        "\n",
        "Minibatch loss at step"
       ]
      },
      {
       "output_type": "stream",
       "stream": "stdout",
       "text": [
        " 6000 : 6.89452\n",
        "Minibatch accuracy: 25.0%\n",
        "Validation accuracy at step 6000: 25.7%"
       ]
      },
      {
       "output_type": "stream",
       "stream": "stdout",
       "text": [
        "\n",
        "Minibatch loss at step"
       ]
      },
      {
       "output_type": "stream",
       "stream": "stdout",
       "text": [
        " 7000 : 7.22518\n",
        "Minibatch accuracy: 21.9%\n",
        "Validation accuracy at step 7000: 27.5%"
       ]
      },
      {
       "output_type": "stream",
       "stream": "stdout",
       "text": [
        "\n",
        "Minibatch loss at step"
       ]
      },
      {
       "output_type": "stream",
       "stream": "stdout",
       "text": [
        " 8000 : 6.51447\n",
        "Minibatch accuracy: 31.2%\n",
        "Validation accuracy at step 8000: 25.2%"
       ]
      },
      {
       "output_type": "stream",
       "stream": "stdout",
       "text": [
        "\n",
        "Minibatch loss at step"
       ]
      },
      {
       "output_type": "stream",
       "stream": "stdout",
       "text": [
        " 9000 : 5.7803\n",
        "Minibatch accuracy: 25.0%\n",
        "Validation accuracy at step 9000: 30.4%"
       ]
      },
      {
       "output_type": "stream",
       "stream": "stdout",
       "text": [
        "\n",
        "Minibatch loss at step"
       ]
      },
      {
       "output_type": "stream",
       "stream": "stdout",
       "text": [
        " 10000 : 6.24789\n",
        "Minibatch accuracy: 25.0%\n",
        "Validation accuracy at step 10000: 29.4%"
       ]
      },
      {
       "output_type": "stream",
       "stream": "stdout",
       "text": [
        "\n",
        "Test accuracy at step 10000: 28.7%"
       ]
      },
      {
       "output_type": "stream",
       "stream": "stdout",
       "text": [
        "\n",
        "Minibatch loss at step"
       ]
      },
      {
       "output_type": "stream",
       "stream": "stdout",
       "text": [
        " 11000 : 6.11717\n",
        "Minibatch accuracy: 25.0%\n",
        "Validation accuracy at step 11000: 25.0%"
       ]
      },
      {
       "output_type": "stream",
       "stream": "stdout",
       "text": [
        "\n",
        "Minibatch loss at step"
       ]
      },
      {
       "output_type": "stream",
       "stream": "stdout",
       "text": [
        " 12000 : 6.38286\n",
        "Minibatch accuracy: 28.1%\n",
        "Validation accuracy at step 12000: 32.1%"
       ]
      },
      {
       "output_type": "stream",
       "stream": "stdout",
       "text": [
        "\n",
        "Minibatch loss at step"
       ]
      },
      {
       "output_type": "stream",
       "stream": "stdout",
       "text": [
        " 13000 : 5.08703\n",
        "Minibatch accuracy: 40.6%\n",
        "Validation accuracy at step 13000: 31.6%"
       ]
      },
      {
       "output_type": "stream",
       "stream": "stdout",
       "text": [
        "\n",
        "Minibatch loss at step"
       ]
      },
      {
       "output_type": "stream",
       "stream": "stdout",
       "text": [
        " 14000 : 6.86562\n",
        "Minibatch accuracy: 21.9%\n",
        "Validation accuracy at step 14000: 27.9%"
       ]
      },
      {
       "output_type": "stream",
       "stream": "stdout",
       "text": [
        "\n",
        "Minibatch loss at step"
       ]
      },
      {
       "output_type": "stream",
       "stream": "stdout",
       "text": [
        " 15000 : 5.64656\n",
        "Minibatch accuracy: 28.1%\n",
        "Validation accuracy at step 15000: 27.9%"
       ]
      },
      {
       "output_type": "stream",
       "stream": "stdout",
       "text": [
        "\n",
        "Test accuracy at step 15000: 27.8%"
       ]
      },
      {
       "output_type": "stream",
       "stream": "stdout",
       "text": [
        "\n",
        "Minibatch loss at step"
       ]
      },
      {
       "output_type": "stream",
       "stream": "stdout",
       "text": [
        " 16000 : 5.12181\n",
        "Minibatch accuracy: 21.9%\n",
        "Validation accuracy at step 16000: 31.7%"
       ]
      },
      {
       "output_type": "stream",
       "stream": "stdout",
       "text": [
        "\n",
        "Minibatch loss at step"
       ]
      },
      {
       "output_type": "stream",
       "stream": "stdout",
       "text": [
        " 17000 : 4.94415\n",
        "Minibatch accuracy: 46.9%\n",
        "Validation accuracy at step 17000: 34.4%"
       ]
      },
      {
       "output_type": "stream",
       "stream": "stdout",
       "text": [
        "\n",
        "Minibatch loss at step"
       ]
      },
      {
       "output_type": "stream",
       "stream": "stdout",
       "text": [
        " 18000 : 5.49513\n",
        "Minibatch accuracy: 18.8%\n",
        "Validation accuracy at step 18000: 34.5%"
       ]
      },
      {
       "output_type": "stream",
       "stream": "stdout",
       "text": [
        "\n",
        "Minibatch loss at step"
       ]
      },
      {
       "output_type": "stream",
       "stream": "stdout",
       "text": [
        " 19000 : 4.92588\n",
        "Minibatch accuracy: 46.9%\n",
        "Validation accuracy at step 19000: 33.8%"
       ]
      },
      {
       "output_type": "stream",
       "stream": "stdout",
       "text": [
        "\n",
        "Minibatch loss at step"
       ]
      },
      {
       "output_type": "stream",
       "stream": "stdout",
       "text": [
        " 20000 : 4.97952\n",
        "Minibatch accuracy: 37.5%\n",
        "Validation accuracy at step 20000: 35.6%"
       ]
      },
      {
       "output_type": "stream",
       "stream": "stdout",
       "text": [
        "\n",
        "Test accuracy at step 20000: 35.4%"
       ]
      },
      {
       "output_type": "stream",
       "stream": "stdout",
       "text": [
        "\n",
        "Minibatch loss at step"
       ]
      },
      {
       "output_type": "stream",
       "stream": "stdout",
       "text": [
        " 21000 : 5.37241\n",
        "Minibatch accuracy: 40.6%\n",
        "Validation accuracy at step 21000: 31.9%"
       ]
      },
      {
       "output_type": "stream",
       "stream": "stdout",
       "text": [
        "\n",
        "Minibatch loss at step"
       ]
      },
      {
       "output_type": "stream",
       "stream": "stdout",
       "text": [
        " 22000 : 4.9572\n",
        "Minibatch accuracy: 37.5%\n",
        "Validation accuracy at step 22000: 32.5%"
       ]
      },
      {
       "output_type": "stream",
       "stream": "stdout",
       "text": [
        "\n",
        "Minibatch loss at step"
       ]
      },
      {
       "output_type": "stream",
       "stream": "stdout",
       "text": [
        " 23000 : 5.19864\n",
        "Minibatch accuracy: 31.2%\n",
        "Validation accuracy at step 23000: 35.2%"
       ]
      },
      {
       "output_type": "stream",
       "stream": "stdout",
       "text": [
        "\n",
        "Minibatch loss at step"
       ]
      },
      {
       "output_type": "stream",
       "stream": "stdout",
       "text": [
        " 24000 : 5.10043\n",
        "Minibatch accuracy: 34.4%\n",
        "Validation accuracy at step 24000: 36.6%"
       ]
      },
      {
       "output_type": "stream",
       "stream": "stdout",
       "text": [
        "\n",
        "Minibatch loss at step"
       ]
      },
      {
       "output_type": "stream",
       "stream": "stdout",
       "text": [
        " 25000 : 5.16831\n",
        "Minibatch accuracy: 15.6%\n",
        "Validation accuracy at step 25000: 34.9%"
       ]
      },
      {
       "output_type": "stream",
       "stream": "stdout",
       "text": [
        "\n",
        "Test accuracy at step 25000: 35.0%"
       ]
      },
      {
       "output_type": "stream",
       "stream": "stdout",
       "text": [
        "\n",
        "Minibatch loss at step"
       ]
      },
      {
       "output_type": "stream",
       "stream": "stdout",
       "text": [
        " 26000 : 5.25389\n",
        "Minibatch accuracy: 25.0%\n",
        "Validation accuracy at step 26000: 34.3%"
       ]
      },
      {
       "output_type": "stream",
       "stream": "stdout",
       "text": [
        "\n",
        "Minibatch loss at step"
       ]
      },
      {
       "output_type": "stream",
       "stream": "stdout",
       "text": [
        " 27000 : 4.64401\n",
        "Minibatch accuracy: 46.9%\n",
        "Validation accuracy at step 27000: 37.1%"
       ]
      },
      {
       "output_type": "stream",
       "stream": "stdout",
       "text": [
        "\n",
        "Minibatch loss at step"
       ]
      },
      {
       "output_type": "stream",
       "stream": "stdout",
       "text": [
        " 28000 : 5.10791\n",
        "Minibatch accuracy: 31.2%\n",
        "Validation accuracy at step 28000: 35.0%"
       ]
      },
      {
       "output_type": "stream",
       "stream": "stdout",
       "text": [
        "\n",
        "Minibatch loss at step"
       ]
      },
      {
       "output_type": "stream",
       "stream": "stdout",
       "text": [
        " 29000 : 4.91849\n",
        "Minibatch accuracy: 37.5%\n",
        "Validation accuracy at step 29000: 35.0%"
       ]
      },
      {
       "output_type": "stream",
       "stream": "stdout",
       "text": [
        "\n",
        "Minibatch loss at step"
       ]
      },
      {
       "output_type": "stream",
       "stream": "stdout",
       "text": [
        " 30000 : 4.78664\n",
        "Minibatch accuracy: 46.9%\n",
        "Validation accuracy at step 30000: 37.4%"
       ]
      },
      {
       "output_type": "stream",
       "stream": "stdout",
       "text": [
        "\n",
        "Test accuracy at step 30000: 37.0%"
       ]
      },
      {
       "output_type": "stream",
       "stream": "stdout",
       "text": [
        "\n",
        "Minibatch loss at step"
       ]
      },
      {
       "output_type": "stream",
       "stream": "stdout",
       "text": [
        " 31000 : 4.78424\n",
        "Minibatch accuracy: 37.5%\n",
        "Validation accuracy at step 31000: 33.8%"
       ]
      },
      {
       "output_type": "stream",
       "stream": "stdout",
       "text": [
        "\n",
        "Minibatch loss at step"
       ]
      },
      {
       "output_type": "stream",
       "stream": "stdout",
       "text": [
        " 32000 : 4.95196\n",
        "Minibatch accuracy: 31.2%\n",
        "Validation accuracy at step 32000: 33.0%"
       ]
      },
      {
       "output_type": "stream",
       "stream": "stdout",
       "text": [
        "\n",
        "Minibatch loss at step"
       ]
      },
      {
       "output_type": "stream",
       "stream": "stdout",
       "text": [
        " 33000 : 4.63904\n",
        "Minibatch accuracy: 34.4%\n",
        "Validation accuracy at step 33000: 37.8%"
       ]
      },
      {
       "output_type": "stream",
       "stream": "stdout",
       "text": [
        "\n",
        "Minibatch loss at step"
       ]
      },
      {
       "output_type": "stream",
       "stream": "stdout",
       "text": [
        " 34000 : 4.84911\n",
        "Minibatch accuracy: 31.2%\n",
        "Validation accuracy at step 34000: 37.2%"
       ]
      },
      {
       "output_type": "stream",
       "stream": "stdout",
       "text": [
        "\n",
        "Minibatch loss at step"
       ]
      },
      {
       "output_type": "stream",
       "stream": "stdout",
       "text": [
        " 35000 : 4.51101\n",
        "Minibatch accuracy: 46.9%\n",
        "Validation accuracy at step 35000: 37.5%"
       ]
      },
      {
       "output_type": "stream",
       "stream": "stdout",
       "text": [
        "\n",
        "Test accuracy at step 35000: 37.8%"
       ]
      },
      {
       "output_type": "stream",
       "stream": "stdout",
       "text": [
        "\n",
        "Minibatch loss at step"
       ]
      },
      {
       "output_type": "stream",
       "stream": "stdout",
       "text": [
        " 36000 : 4.92197\n",
        "Minibatch accuracy: 34.4%\n",
        "Validation accuracy at step 36000: 36.2%"
       ]
      },
      {
       "output_type": "stream",
       "stream": "stdout",
       "text": [
        "\n",
        "Minibatch loss at step"
       ]
      },
      {
       "output_type": "stream",
       "stream": "stdout",
       "text": [
        " 37000 : 4.40896\n",
        "Minibatch accuracy: 34.4%\n",
        "Validation accuracy at step 37000: 38.6%"
       ]
      },
      {
       "output_type": "stream",
       "stream": "stdout",
       "text": [
        "\n",
        "Minibatch loss at step"
       ]
      },
      {
       "output_type": "stream",
       "stream": "stdout",
       "text": [
        " 38000 : 4.88034\n",
        "Minibatch accuracy: 37.5%\n",
        "Validation accuracy at step 38000: 38.3%"
       ]
      },
      {
       "output_type": "stream",
       "stream": "stdout",
       "text": [
        "\n",
        "Minibatch loss at step"
       ]
      },
      {
       "output_type": "stream",
       "stream": "stdout",
       "text": [
        " 39000 : 5.03721\n",
        "Minibatch accuracy: 37.5%\n",
        "Validation accuracy at step 39000: 37.7%"
       ]
      },
      {
       "output_type": "stream",
       "stream": "stdout",
       "text": [
        "\n",
        "Minibatch loss at step"
       ]
      },
      {
       "output_type": "stream",
       "stream": "stdout",
       "text": [
        " 40000 : 5.07769\n",
        "Minibatch accuracy: 12.5%\n",
        "Validation accuracy at step 40000: 37.9%"
       ]
      },
      {
       "output_type": "stream",
       "stream": "stdout",
       "text": [
        "\n",
        "Test accuracy at step 40000: 38.9%"
       ]
      },
      {
       "output_type": "stream",
       "stream": "stdout",
       "text": [
        "\n",
        "Minibatch loss at step"
       ]
      },
      {
       "output_type": "stream",
       "stream": "stdout",
       "text": [
        " 41000 : 4.83166\n",
        "Minibatch accuracy: 31.2%\n",
        "Validation accuracy at step 41000: 38.8%"
       ]
      },
      {
       "output_type": "stream",
       "stream": "stdout",
       "text": [
        "\n",
        "Minibatch loss at step"
       ]
      },
      {
       "output_type": "stream",
       "stream": "stdout",
       "text": [
        " 42000 : 4.94851\n",
        "Minibatch accuracy: 31.2%\n",
        "Validation accuracy at step 42000: 38.3%"
       ]
      },
      {
       "output_type": "stream",
       "stream": "stdout",
       "text": [
        "\n",
        "Minibatch loss at step"
       ]
      },
      {
       "output_type": "stream",
       "stream": "stdout",
       "text": [
        " 43000 : 4.71302\n",
        "Minibatch accuracy: 46.9%\n",
        "Validation accuracy at step 43000: 39.1%"
       ]
      },
      {
       "output_type": "stream",
       "stream": "stdout",
       "text": [
        "\n",
        "Minibatch loss at step"
       ]
      },
      {
       "output_type": "stream",
       "stream": "stdout",
       "text": [
        " 44000 : 4.45437\n",
        "Minibatch accuracy: 53.1%\n",
        "Validation accuracy at step 44000: 39.2%"
       ]
      },
      {
       "output_type": "stream",
       "stream": "stdout",
       "text": [
        "\n",
        "Minibatch loss at step"
       ]
      },
      {
       "output_type": "stream",
       "stream": "stdout",
       "text": [
        " 45000 : 4.45458\n",
        "Minibatch accuracy: 53.1%\n",
        "Validation accuracy at step 45000: 40.4%"
       ]
      },
      {
       "output_type": "stream",
       "stream": "stdout",
       "text": [
        "\n",
        "Test accuracy at step 45000: 40.0%"
       ]
      },
      {
       "output_type": "stream",
       "stream": "stdout",
       "text": [
        "\n",
        "Minibatch loss at step"
       ]
      },
      {
       "output_type": "stream",
       "stream": "stdout",
       "text": [
        " 46000 : 4.23073\n",
        "Minibatch accuracy: 43.8%\n",
        "Validation accuracy at step 46000: 40.2%"
       ]
      },
      {
       "output_type": "stream",
       "stream": "stdout",
       "text": [
        "\n",
        "Minibatch loss at step"
       ]
      },
      {
       "output_type": "stream",
       "stream": "stdout",
       "text": [
        " 47000 : 4.35897\n",
        "Minibatch accuracy: 46.9%\n",
        "Validation accuracy at step 47000: 37.8%"
       ]
      },
      {
       "output_type": "stream",
       "stream": "stdout",
       "text": [
        "\n",
        "Minibatch loss at step"
       ]
      },
      {
       "output_type": "stream",
       "stream": "stdout",
       "text": [
        " 48000 : 4.41379\n",
        "Minibatch accuracy: 46.9%\n",
        "Validation accuracy at step 48000: 36.7%"
       ]
      },
      {
       "output_type": "stream",
       "stream": "stdout",
       "text": [
        "\n",
        "Minibatch loss at step"
       ]
      },
      {
       "output_type": "stream",
       "stream": "stdout",
       "text": [
        " 49000 : 4.3138\n",
        "Minibatch accuracy: 40.6%\n",
        "Validation accuracy at step 49000: 39.7%"
       ]
      },
      {
       "output_type": "stream",
       "stream": "stdout",
       "text": [
        "\n",
        "Minibatch loss at step"
       ]
      },
      {
       "output_type": "stream",
       "stream": "stdout",
       "text": [
        " 50000 : 4.40788\n",
        "Minibatch accuracy: 31.2%\n",
        "Validation accuracy at step 50000: 39.5%"
       ]
      },
      {
       "output_type": "stream",
       "stream": "stdout",
       "text": [
        "\n",
        "Test accuracy at step 50000: 39.3%"
       ]
      },
      {
       "output_type": "stream",
       "stream": "stdout",
       "text": [
        "\n",
        "Minibatch loss at step"
       ]
      },
      {
       "output_type": "stream",
       "stream": "stdout",
       "text": [
        " 51000 : 4.68046\n",
        "Minibatch accuracy: 25.0%\n",
        "Validation accuracy at step 51000: 36.6%"
       ]
      },
      {
       "output_type": "stream",
       "stream": "stdout",
       "text": [
        "\n",
        "Minibatch loss at step"
       ]
      },
      {
       "output_type": "stream",
       "stream": "stdout",
       "text": [
        " 52000 : 4.21559\n",
        "Minibatch accuracy: 43.8%\n",
        "Validation accuracy at step 52000: 39.4%"
       ]
      },
      {
       "output_type": "stream",
       "stream": "stdout",
       "text": [
        "\n",
        "Minibatch loss at step"
       ]
      },
      {
       "output_type": "stream",
       "stream": "stdout",
       "text": [
        " 53000 : 4.21452\n",
        "Minibatch accuracy: 46.9%\n",
        "Validation accuracy at step 53000: 40.1%"
       ]
      },
      {
       "output_type": "stream",
       "stream": "stdout",
       "text": [
        "\n",
        "Minibatch loss at step"
       ]
      },
      {
       "output_type": "stream",
       "stream": "stdout",
       "text": [
        " 54000 : 4.40095\n",
        "Minibatch accuracy: 43.8%\n",
        "Validation accuracy at step 54000: 40.8%"
       ]
      },
      {
       "output_type": "stream",
       "stream": "stdout",
       "text": [
        "\n",
        "Minibatch loss at step"
       ]
      },
      {
       "output_type": "stream",
       "stream": "stdout",
       "text": [
        " 55000 : 4.18914\n",
        "Minibatch accuracy: 43.8%\n",
        "Validation accuracy at step 55000: 39.9%"
       ]
      },
      {
       "output_type": "stream",
       "stream": "stdout",
       "text": [
        "\n",
        "Test accuracy at step 55000: 40.2%"
       ]
      },
      {
       "output_type": "stream",
       "stream": "stdout",
       "text": [
        "\n",
        "Minibatch loss at step"
       ]
      },
      {
       "output_type": "stream",
       "stream": "stdout",
       "text": [
        " 56000 : 4.29009\n",
        "Minibatch accuracy: 43.8%\n",
        "Validation accuracy at step 56000: 40.3%"
       ]
      },
      {
       "output_type": "stream",
       "stream": "stdout",
       "text": [
        "\n",
        "Minibatch loss at step"
       ]
      },
      {
       "output_type": "stream",
       "stream": "stdout",
       "text": [
        " 57000 : 4.8833\n",
        "Minibatch accuracy: 15.6%\n",
        "Validation accuracy at step 57000: 41.6%"
       ]
      },
      {
       "output_type": "stream",
       "stream": "stdout",
       "text": [
        "\n",
        "Minibatch loss at step"
       ]
      },
      {
       "output_type": "stream",
       "stream": "stdout",
       "text": [
        " 58000 : 4.39332\n",
        "Minibatch accuracy: 34.4%\n",
        "Validation accuracy at step 58000: 38.8%"
       ]
      },
      {
       "output_type": "stream",
       "stream": "stdout",
       "text": [
        "\n",
        "Minibatch loss at step"
       ]
      },
      {
       "output_type": "stream",
       "stream": "stdout",
       "text": [
        " 59000 : 4.26522\n",
        "Minibatch accuracy: 40.6%\n",
        "Validation accuracy at step 59000: 41.0%"
       ]
      },
      {
       "output_type": "stream",
       "stream": "stdout",
       "text": [
        "\n",
        "Minibatch loss at step"
       ]
      },
      {
       "output_type": "stream",
       "stream": "stdout",
       "text": [
        " 60000 : 4.31725\n",
        "Minibatch accuracy: 37.5%\n",
        "Validation accuracy at step 60000: 40.0%"
       ]
      },
      {
       "output_type": "stream",
       "stream": "stdout",
       "text": [
        "\n",
        "Test accuracy at step 60000: 40.7%"
       ]
      },
      {
       "output_type": "stream",
       "stream": "stdout",
       "text": [
        "\n",
        "Minibatch loss at step"
       ]
      },
      {
       "output_type": "stream",
       "stream": "stdout",
       "text": [
        " 61000 : 4.16816\n",
        "Minibatch accuracy: 46.9%\n",
        "Validation accuracy at step 61000: 41.9%"
       ]
      },
      {
       "output_type": "stream",
       "stream": "stdout",
       "text": [
        "\n",
        "Minibatch loss at step"
       ]
      },
      {
       "output_type": "stream",
       "stream": "stdout",
       "text": [
        " 62000 : 3.98748\n",
        "Minibatch accuracy: 50.0%\n",
        "Validation accuracy at step 62000: 41.3%"
       ]
      },
      {
       "output_type": "stream",
       "stream": "stdout",
       "text": [
        "\n",
        "Minibatch loss at step"
       ]
      },
      {
       "output_type": "stream",
       "stream": "stdout",
       "text": [
        " 63000 : 4.04225\n",
        "Minibatch accuracy: 46.9%\n",
        "Validation accuracy at step 63000: 40.7%"
       ]
      },
      {
       "output_type": "stream",
       "stream": "stdout",
       "text": [
        "\n",
        "Minibatch loss at step"
       ]
      },
      {
       "output_type": "stream",
       "stream": "stdout",
       "text": [
        " 64000 : 4.01175\n",
        "Minibatch accuracy: 46.9%\n",
        "Validation accuracy at step 64000: 40.4%"
       ]
      },
      {
       "output_type": "stream",
       "stream": "stdout",
       "text": [
        "\n",
        "Minibatch loss at step"
       ]
      },
      {
       "output_type": "stream",
       "stream": "stdout",
       "text": [
        " 65000 : 4.04679\n",
        "Minibatch accuracy: 40.6%\n",
        "Validation accuracy at step 65000: 41.5%"
       ]
      },
      {
       "output_type": "stream",
       "stream": "stdout",
       "text": [
        "\n",
        "Test accuracy at step 65000: 42.0%"
       ]
      },
      {
       "output_type": "stream",
       "stream": "stdout",
       "text": [
        "\n",
        "Minibatch loss at step"
       ]
      },
      {
       "output_type": "stream",
       "stream": "stdout",
       "text": [
        " 66000 : 4.39988\n",
        "Minibatch accuracy: 46.9%\n",
        "Validation accuracy at step 66000: 40.5%"
       ]
      },
      {
       "output_type": "stream",
       "stream": "stdout",
       "text": [
        "\n",
        "Minibatch loss at step"
       ]
      },
      {
       "output_type": "stream",
       "stream": "stdout",
       "text": [
        " 67000 : 4.30444\n",
        "Minibatch accuracy: 37.5%\n",
        "Validation accuracy at step 67000: 41.2%"
       ]
      },
      {
       "output_type": "stream",
       "stream": "stdout",
       "text": [
        "\n",
        "Minibatch loss at step"
       ]
      },
      {
       "output_type": "stream",
       "stream": "stdout",
       "text": [
        " 68000 : 3.85871\n",
        "Minibatch accuracy: 53.1%\n",
        "Validation accuracy at step 68000: 41.0%"
       ]
      },
      {
       "output_type": "stream",
       "stream": "stdout",
       "text": [
        "\n",
        "Minibatch loss at step"
       ]
      },
      {
       "output_type": "stream",
       "stream": "stdout",
       "text": [
        " 69000 : 4.24798\n",
        "Minibatch accuracy: 40.6%\n",
        "Validation accuracy at step 69000: 39.3%"
       ]
      },
      {
       "output_type": "stream",
       "stream": "stdout",
       "text": [
        "\n",
        "Minibatch loss at step"
       ]
      },
      {
       "output_type": "stream",
       "stream": "stdout",
       "text": [
        " 70000 : 4.21023\n",
        "Minibatch accuracy: 53.1%\n",
        "Validation accuracy at step 70000: 41.3%"
       ]
      },
      {
       "output_type": "stream",
       "stream": "stdout",
       "text": [
        "\n",
        "Test accuracy at step 70000: 41.9%"
       ]
      },
      {
       "output_type": "stream",
       "stream": "stdout",
       "text": [
        "\n",
        "Minibatch loss at step"
       ]
      },
      {
       "output_type": "stream",
       "stream": "stdout",
       "text": [
        " 71000 : 3.85886\n",
        "Minibatch accuracy: 46.9%\n",
        "Validation accuracy at step 71000: 41.6%"
       ]
      },
      {
       "output_type": "stream",
       "stream": "stdout",
       "text": [
        "\n",
        "Minibatch loss at step"
       ]
      },
      {
       "output_type": "stream",
       "stream": "stdout",
       "text": [
        " 72000 : 4.05982\n",
        "Minibatch accuracy: 46.9%\n",
        "Validation accuracy at step 72000: 41.8%"
       ]
      },
      {
       "output_type": "stream",
       "stream": "stdout",
       "text": [
        "\n",
        "Minibatch loss at step"
       ]
      },
      {
       "output_type": "stream",
       "stream": "stdout",
       "text": [
        " 73000 : 3.8958\n",
        "Minibatch accuracy: 53.1%\n",
        "Validation accuracy at step 73000: 42.7%"
       ]
      },
      {
       "output_type": "stream",
       "stream": "stdout",
       "text": [
        "\n",
        "Minibatch loss at step"
       ]
      },
      {
       "output_type": "stream",
       "stream": "stdout",
       "text": [
        " 74000 : 3.89276\n",
        "Minibatch accuracy: 53.1%\n",
        "Validation accuracy at step 74000: 41.7%"
       ]
      },
      {
       "output_type": "stream",
       "stream": "stdout",
       "text": [
        "\n",
        "Minibatch loss at step"
       ]
      },
      {
       "output_type": "stream",
       "stream": "stdout",
       "text": [
        " 75000 : 4.1957\n",
        "Minibatch accuracy: 25.0%\n",
        "Validation accuracy at step 75000: 41.8%"
       ]
      },
      {
       "output_type": "stream",
       "stream": "stdout",
       "text": [
        "\n",
        "Test accuracy at step 75000: 42.5%"
       ]
      },
      {
       "output_type": "stream",
       "stream": "stdout",
       "text": [
        "\n",
        "Minibatch loss at step"
       ]
      },
      {
       "output_type": "stream",
       "stream": "stdout",
       "text": [
        " 76000 : 4.12736\n",
        "Minibatch accuracy: 40.6%\n",
        "Validation accuracy at step 76000: 42.2%"
       ]
      },
      {
       "output_type": "stream",
       "stream": "stdout",
       "text": [
        "\n",
        "Minibatch loss at step"
       ]
      },
      {
       "output_type": "stream",
       "stream": "stdout",
       "text": [
        " 77000 : 3.8166\n",
        "Minibatch accuracy: 46.9%\n",
        "Validation accuracy at step 77000: 43.0%"
       ]
      },
      {
       "output_type": "stream",
       "stream": "stdout",
       "text": [
        "\n",
        "Minibatch loss at step"
       ]
      },
      {
       "output_type": "stream",
       "stream": "stdout",
       "text": [
        " 78000 : 4.06916\n",
        "Minibatch accuracy: 43.8%\n",
        "Validation accuracy at step 78000: 42.4%"
       ]
      },
      {
       "output_type": "stream",
       "stream": "stdout",
       "text": [
        "\n",
        "Minibatch loss at step"
       ]
      },
      {
       "output_type": "stream",
       "stream": "stdout",
       "text": [
        " 79000 : 3.90532\n",
        "Minibatch accuracy: 43.8%\n",
        "Validation accuracy at step 79000: 42.6%"
       ]
      },
      {
       "output_type": "stream",
       "stream": "stdout",
       "text": [
        "\n",
        "Minibatch loss at step"
       ]
      },
      {
       "output_type": "stream",
       "stream": "stdout",
       "text": [
        " 80000 : 3.65836\n",
        "Minibatch accuracy: 50.0%\n",
        "Validation accuracy at step 80000: 43.1%"
       ]
      },
      {
       "output_type": "stream",
       "stream": "stdout",
       "text": [
        "\n",
        "Test accuracy at step 80000: 42.7%"
       ]
      },
      {
       "output_type": "stream",
       "stream": "stdout",
       "text": [
        "\n",
        "Minibatch loss at step"
       ]
      },
      {
       "output_type": "stream",
       "stream": "stdout",
       "text": [
        " 81000 : 3.87705\n",
        "Minibatch accuracy: 53.1%\n",
        "Validation accuracy at step 81000: 42.8%"
       ]
      },
      {
       "output_type": "stream",
       "stream": "stdout",
       "text": [
        "\n",
        "Minibatch loss at step"
       ]
      },
      {
       "output_type": "stream",
       "stream": "stdout",
       "text": [
        " 82000 : 3.69804\n",
        "Minibatch accuracy: 50.0%\n",
        "Validation accuracy at step 82000: 43.5%"
       ]
      },
      {
       "output_type": "stream",
       "stream": "stdout",
       "text": [
        "\n",
        "Minibatch loss at step"
       ]
      },
      {
       "output_type": "stream",
       "stream": "stdout",
       "text": [
        " 83000 : 4.0829\n",
        "Minibatch accuracy: 50.0%\n",
        "Validation accuracy at step 83000: 41.6%"
       ]
      },
      {
       "output_type": "stream",
       "stream": "stdout",
       "text": [
        "\n",
        "Minibatch loss at step"
       ]
      },
      {
       "output_type": "stream",
       "stream": "stdout",
       "text": [
        " 84000 : 3.98978\n",
        "Minibatch accuracy: 34.4%\n",
        "Validation accuracy at step 84000: 42.7%"
       ]
      },
      {
       "output_type": "stream",
       "stream": "stdout",
       "text": [
        "\n",
        "Minibatch loss at step"
       ]
      },
      {
       "output_type": "stream",
       "stream": "stdout",
       "text": [
        " 85000 : 3.65089\n",
        "Minibatch accuracy: 56.2%\n",
        "Validation accuracy at step 85000: 43.2%"
       ]
      },
      {
       "output_type": "stream",
       "stream": "stdout",
       "text": [
        "\n",
        "Test accuracy at step 85000: 43.4%"
       ]
      },
      {
       "output_type": "stream",
       "stream": "stdout",
       "text": [
        "\n",
        "Minibatch loss at step"
       ]
      },
      {
       "output_type": "stream",
       "stream": "stdout",
       "text": [
        " 86000 : 3.64394\n",
        "Minibatch accuracy: 50.0%\n",
        "Validation accuracy at step 86000: 42.9%"
       ]
      },
      {
       "output_type": "stream",
       "stream": "stdout",
       "text": [
        "\n",
        "Minibatch loss at step"
       ]
      },
      {
       "output_type": "stream",
       "stream": "stdout",
       "text": [
        " 87000 : 3.54381\n",
        "Minibatch accuracy: 59.4%\n",
        "Validation accuracy at step 87000: 42.5%"
       ]
      },
      {
       "output_type": "stream",
       "stream": "stdout",
       "text": [
        "\n",
        "Minibatch loss at step"
       ]
      },
      {
       "output_type": "stream",
       "stream": "stdout",
       "text": [
        " 88000 : 3.75557\n",
        "Minibatch accuracy: 53.1%\n",
        "Validation accuracy at step 88000: 43.5%"
       ]
      },
      {
       "output_type": "stream",
       "stream": "stdout",
       "text": [
        "\n",
        "Minibatch loss at step"
       ]
      },
      {
       "output_type": "stream",
       "stream": "stdout",
       "text": [
        " 89000 : 3.85823\n",
        "Minibatch accuracy: 34.4%\n",
        "Validation accuracy at step 89000: 42.6%"
       ]
      },
      {
       "output_type": "stream",
       "stream": "stdout",
       "text": [
        "\n",
        "Minibatch loss at step"
       ]
      },
      {
       "output_type": "stream",
       "stream": "stdout",
       "text": [
        " 90000 : 4.04515\n",
        "Minibatch accuracy: 25.0%\n",
        "Validation accuracy at step 90000: 44.0%"
       ]
      },
      {
       "output_type": "stream",
       "stream": "stdout",
       "text": [
        "\n",
        "Test accuracy at step 90000: 43.8%"
       ]
      },
      {
       "output_type": "stream",
       "stream": "stdout",
       "text": [
        "\n",
        "Minibatch loss at step"
       ]
      },
      {
       "output_type": "stream",
       "stream": "stdout",
       "text": [
        " 91000 : 4.04014\n",
        "Minibatch accuracy: 37.5%\n",
        "Validation accuracy at step 91000: 43.7%"
       ]
      },
      {
       "output_type": "stream",
       "stream": "stdout",
       "text": [
        "\n",
        "Minibatch loss at step"
       ]
      },
      {
       "output_type": "stream",
       "stream": "stdout",
       "text": [
        " 92000 : 3.66189\n",
        "Minibatch accuracy: 50.0%\n",
        "Validation accuracy at step 92000: 43.5%"
       ]
      },
      {
       "output_type": "stream",
       "stream": "stdout",
       "text": [
        "\n",
        "Minibatch loss at step"
       ]
      },
      {
       "output_type": "stream",
       "stream": "stdout",
       "text": [
        " 93000 : 4.13536\n",
        "Minibatch accuracy: 37.5%\n",
        "Validation accuracy at step 93000: 43.9%"
       ]
      },
      {
       "output_type": "stream",
       "stream": "stdout",
       "text": [
        "\n",
        "Minibatch loss at step"
       ]
      },
      {
       "output_type": "stream",
       "stream": "stdout",
       "text": [
        " 94000 : 3.99162\n",
        "Minibatch accuracy: 37.5%\n",
        "Validation accuracy at step 94000: 44.0%"
       ]
      },
      {
       "output_type": "stream",
       "stream": "stdout",
       "text": [
        "\n",
        "Minibatch loss at step"
       ]
      },
      {
       "output_type": "stream",
       "stream": "stdout",
       "text": [
        " 95000 : 3.84726\n",
        "Minibatch accuracy: 40.6%\n",
        "Validation accuracy at step 95000: 43.8%"
       ]
      },
      {
       "output_type": "stream",
       "stream": "stdout",
       "text": [
        "\n",
        "Test accuracy at step 95000: 43.8%"
       ]
      },
      {
       "output_type": "stream",
       "stream": "stdout",
       "text": [
        "\n",
        "Minibatch loss at step"
       ]
      },
      {
       "output_type": "stream",
       "stream": "stdout",
       "text": [
        " 96000 : 3.78728\n",
        "Minibatch accuracy: 40.6%\n",
        "Validation accuracy at step 96000: 44.8%"
       ]
      },
      {
       "output_type": "stream",
       "stream": "stdout",
       "text": [
        "\n",
        "Minibatch loss at step"
       ]
      },
      {
       "output_type": "stream",
       "stream": "stdout",
       "text": [
        " 97000 : 3.604\n",
        "Minibatch accuracy: 46.9%\n",
        "Validation accuracy at step 97000: 44.0%"
       ]
      },
      {
       "output_type": "stream",
       "stream": "stdout",
       "text": [
        "\n",
        "Minibatch loss at step"
       ]
      },
      {
       "output_type": "stream",
       "stream": "stdout",
       "text": [
        " 98000 : 3.76043\n",
        "Minibatch accuracy: 56.2%\n",
        "Validation accuracy at step 98000: 43.2%"
       ]
      },
      {
       "output_type": "stream",
       "stream": "stdout",
       "text": [
        "\n",
        "Minibatch loss at step"
       ]
      },
      {
       "output_type": "stream",
       "stream": "stdout",
       "text": [
        " 99000 : 3.61392\n",
        "Minibatch accuracy: 40.6%\n",
        "Validation accuracy at step 99000: 43.0%"
       ]
      },
      {
       "output_type": "stream",
       "stream": "stdout",
       "text": [
        "\n",
        "Minibatch loss at step"
       ]
      },
      {
       "output_type": "stream",
       "stream": "stdout",
       "text": [
        " 100000 : 3.56736\n",
        "Minibatch accuracy: 50.0%\n",
        "Validation accuracy at step 100000: 44.1%"
       ]
      },
      {
       "output_type": "stream",
       "stream": "stdout",
       "text": [
        "\n",
        "Test accuracy at step 100000: 44.5%\n"
       ]
      },
      {
       "output_type": "stream",
       "stream": "stdout",
       "text": [
        "\n",
        "Elapsed time: 1.39105834385 hours\n",
        "The best validation accuracy was 44.77 at step 96000\n",
        "The best test accuracy was 44.53 at step 100000"
       ]
      },
      {
       "output_type": "stream",
       "stream": "stdout",
       "text": [
        "\n"
       ]
      }
     ],
     "prompt_number": 25
    },
    {
     "cell_type": "code",
     "collapsed": false,
     "input": [
      "# 0.99 dropout_keep_probability\n",
      "model = create_inception_module_model(learning_rate = 0.00025, l2_lambda = 0.05, feature_maps = 24, initialised_weights_stddev = 0.5, decay_steps = 10000, decay_rate = 0.96)\n",
      "steps_to_validation_predictions, steps_to_test_predictions = train_model(model, 100001, dropout_keep_prob = 0.99)\n",
      "correct_prediction_indexes, incorrect_prediction_indexes = visualise_accuracies(steps_to_validation_predictions, steps_to_test_predictions)"
     ],
     "language": "python",
     "metadata": {},
     "outputs": [
      {
       "output_type": "stream",
       "stream": "stdout",
       "text": [
        "Initialized\n",
        "Minibatch loss at step 0 : 992.474\n",
        "Minibatch accuracy: 9.4%\n",
        "Validation accuracy at step 0: 8.6%"
       ]
      },
      {
       "output_type": "stream",
       "stream": "stdout",
       "text": [
        "\n",
        "Minibatch loss at step"
       ]
      },
      {
       "output_type": "stream",
       "stream": "stdout",
       "text": [
        " 1000 : 23.117\n",
        "Minibatch accuracy: 6.2%\n",
        "Validation accuracy at step 1000: 18.8%"
       ]
      },
      {
       "output_type": "stream",
       "stream": "stdout",
       "text": [
        "\n",
        "Minibatch loss at step"
       ]
      },
      {
       "output_type": "stream",
       "stream": "stdout",
       "text": [
        " 2000 : 18.3853\n",
        "Minibatch accuracy: 31.2%\n",
        "Validation accuracy at step 2000: 17.8%"
       ]
      },
      {
       "output_type": "stream",
       "stream": "stdout",
       "text": [
        "\n",
        "Minibatch loss at step"
       ]
      },
      {
       "output_type": "stream",
       "stream": "stdout",
       "text": [
        " 3000 : 17.9759\n",
        "Minibatch accuracy: 18.8%\n",
        "Validation accuracy at step 3000: 22.9%"
       ]
      },
      {
       "output_type": "stream",
       "stream": "stdout",
       "text": [
        "\n",
        "Minibatch loss at step"
       ]
      },
      {
       "output_type": "stream",
       "stream": "stdout",
       "text": [
        " 4000 : 17.0478\n",
        "Minibatch accuracy: 9.4%\n",
        "Validation accuracy at step 4000: 23.1%"
       ]
      },
      {
       "output_type": "stream",
       "stream": "stdout",
       "text": [
        "\n",
        "Minibatch loss at step"
       ]
      },
      {
       "output_type": "stream",
       "stream": "stdout",
       "text": [
        " 5000 : 15.309\n",
        "Minibatch accuracy: 37.5%\n",
        "Validation accuracy at step 5000: 28.2%"
       ]
      },
      {
       "output_type": "stream",
       "stream": "stdout",
       "text": [
        "\n",
        "Test accuracy at step 5000: 28.2%"
       ]
      },
      {
       "output_type": "stream",
       "stream": "stdout",
       "text": [
        "\n",
        "Minibatch loss at step"
       ]
      },
      {
       "output_type": "stream",
       "stream": "stdout",
       "text": [
        " 6000 : 15.5972\n",
        "Minibatch accuracy: 34.4%\n",
        "Validation accuracy at step 6000: 22.2%"
       ]
      },
      {
       "output_type": "stream",
       "stream": "stdout",
       "text": [
        "\n",
        "Minibatch loss at step"
       ]
      },
      {
       "output_type": "stream",
       "stream": "stdout",
       "text": [
        " 7000 : 14.8663\n",
        "Minibatch accuracy: 28.1%\n",
        "Validation accuracy at step 7000: 26.2%"
       ]
      },
      {
       "output_type": "stream",
       "stream": "stdout",
       "text": [
        "\n",
        "Minibatch loss at step"
       ]
      },
      {
       "output_type": "stream",
       "stream": "stdout",
       "text": [
        " 8000 : 14.2755\n",
        "Minibatch accuracy: 37.5%\n",
        "Validation accuracy at step 8000: 26.4%"
       ]
      },
      {
       "output_type": "stream",
       "stream": "stdout",
       "text": [
        "\n",
        "Minibatch loss at step"
       ]
      },
      {
       "output_type": "stream",
       "stream": "stdout",
       "text": [
        " 9000 : 13.6897\n",
        "Minibatch accuracy: 31.2%\n",
        "Validation accuracy at step 9000: 31.8%"
       ]
      },
      {
       "output_type": "stream",
       "stream": "stdout",
       "text": [
        "\n",
        "Minibatch loss at step"
       ]
      },
      {
       "output_type": "stream",
       "stream": "stdout",
       "text": [
        " 10000 : 14.4588\n",
        "Minibatch accuracy: 18.8%\n",
        "Validation accuracy at step 10000: 28.1%"
       ]
      },
      {
       "output_type": "stream",
       "stream": "stdout",
       "text": [
        "\n",
        "Test accuracy at step 10000: 28.3%"
       ]
      },
      {
       "output_type": "stream",
       "stream": "stdout",
       "text": [
        "\n",
        "Minibatch loss at step"
       ]
      },
      {
       "output_type": "stream",
       "stream": "stdout",
       "text": [
        " 11000 : 14.1913\n",
        "Minibatch accuracy: 21.9%\n",
        "Validation accuracy at step 11000: 26.9%"
       ]
      },
      {
       "output_type": "stream",
       "stream": "stdout",
       "text": [
        "\n",
        "Minibatch loss at step"
       ]
      },
      {
       "output_type": "stream",
       "stream": "stdout",
       "text": [
        " 12000 : 13.2763\n",
        "Minibatch accuracy: 40.6%\n",
        "Validation accuracy at step 12000: 31.8%"
       ]
      },
      {
       "output_type": "stream",
       "stream": "stdout",
       "text": [
        "\n",
        "Minibatch loss at step"
       ]
      },
      {
       "output_type": "stream",
       "stream": "stdout",
       "text": [
        " 13000 : 12.5246\n",
        "Minibatch accuracy: 34.4%\n",
        "Validation accuracy at step 13000: 29.7%"
       ]
      },
      {
       "output_type": "stream",
       "stream": "stdout",
       "text": [
        "\n",
        "Minibatch loss at step"
       ]
      },
      {
       "output_type": "stream",
       "stream": "stdout",
       "text": [
        " 14000 : 12.6963\n",
        "Minibatch accuracy: 34.4%\n",
        "Validation accuracy at step 14000: 29.2%"
       ]
      },
      {
       "output_type": "stream",
       "stream": "stdout",
       "text": [
        "\n",
        "Minibatch loss at step"
       ]
      },
      {
       "output_type": "stream",
       "stream": "stdout",
       "text": [
        " 15000 : 12.182\n",
        "Minibatch accuracy: 34.4%\n",
        "Validation accuracy at step 15000: 33.2%"
       ]
      },
      {
       "output_type": "stream",
       "stream": "stdout",
       "text": [
        "\n",
        "Test accuracy at step 15000: 34.2%"
       ]
      },
      {
       "output_type": "stream",
       "stream": "stdout",
       "text": [
        "\n",
        "Minibatch loss at step"
       ]
      },
      {
       "output_type": "stream",
       "stream": "stdout",
       "text": [
        " 16000 : 11.6846\n",
        "Minibatch accuracy: 34.4%\n",
        "Validation accuracy at step 16000: 30.3%"
       ]
      },
      {
       "output_type": "stream",
       "stream": "stdout",
       "text": [
        "\n",
        "Minibatch loss at step"
       ]
      },
      {
       "output_type": "stream",
       "stream": "stdout",
       "text": [
        " 17000 : 11.3117\n",
        "Minibatch accuracy: 34.4%\n",
        "Validation accuracy at step 17000: 35.6%"
       ]
      },
      {
       "output_type": "stream",
       "stream": "stdout",
       "text": [
        "\n",
        "Minibatch loss at step"
       ]
      },
      {
       "output_type": "stream",
       "stream": "stdout",
       "text": [
        " 18000 : 11.4092\n",
        "Minibatch accuracy: 31.2%\n",
        "Validation accuracy at step 18000: 31.4%"
       ]
      },
      {
       "output_type": "stream",
       "stream": "stdout",
       "text": [
        "\n",
        "Minibatch loss at step"
       ]
      },
      {
       "output_type": "stream",
       "stream": "stdout",
       "text": [
        " 19000 : 10.9834\n",
        "Minibatch accuracy: 40.6%\n",
        "Validation accuracy at step 19000: 34.1%"
       ]
      },
      {
       "output_type": "stream",
       "stream": "stdout",
       "text": [
        "\n",
        "Minibatch loss at step"
       ]
      },
      {
       "output_type": "stream",
       "stream": "stdout",
       "text": [
        " 20000 : 10.451\n",
        "Minibatch accuracy: 59.4%\n",
        "Validation accuracy at step 20000: 34.5%"
       ]
      },
      {
       "output_type": "stream",
       "stream": "stdout",
       "text": [
        "\n",
        "Test accuracy at step 20000: 34.6%"
       ]
      },
      {
       "output_type": "stream",
       "stream": "stdout",
       "text": [
        "\n",
        "Minibatch loss at step"
       ]
      },
      {
       "output_type": "stream",
       "stream": "stdout",
       "text": [
        " 21000 : 10.6303\n",
        "Minibatch accuracy: 21.9%\n",
        "Validation accuracy at step 21000: 32.3%"
       ]
      },
      {
       "output_type": "stream",
       "stream": "stdout",
       "text": [
        "\n",
        "Minibatch loss at step"
       ]
      },
      {
       "output_type": "stream",
       "stream": "stdout",
       "text": [
        " 22000 : 10.5051\n",
        "Minibatch accuracy: 37.5%\n",
        "Validation accuracy at step 22000: 35.9%"
       ]
      },
      {
       "output_type": "stream",
       "stream": "stdout",
       "text": [
        "\n",
        "Minibatch loss at step"
       ]
      },
      {
       "output_type": "stream",
       "stream": "stdout",
       "text": [
        " 23000 : 10.2076\n",
        "Minibatch accuracy: 34.4%\n",
        "Validation accuracy at step 23000: 33.9%"
       ]
      },
      {
       "output_type": "stream",
       "stream": "stdout",
       "text": [
        "\n",
        "Minibatch loss at step"
       ]
      },
      {
       "output_type": "stream",
       "stream": "stdout",
       "text": [
        " 24000 : 9.80943\n",
        "Minibatch accuracy: 31.2%\n",
        "Validation accuracy at step 24000: 37.1%"
       ]
      },
      {
       "output_type": "stream",
       "stream": "stdout",
       "text": [
        "\n",
        "Minibatch loss at step"
       ]
      },
      {
       "output_type": "stream",
       "stream": "stdout",
       "text": [
        " 25000 : 10.0185\n",
        "Minibatch accuracy: 37.5%\n",
        "Validation accuracy at step 25000: 36.1%"
       ]
      },
      {
       "output_type": "stream",
       "stream": "stdout",
       "text": [
        "\n",
        "Test accuracy at step 25000: 35.7%"
       ]
      },
      {
       "output_type": "stream",
       "stream": "stdout",
       "text": [
        "\n",
        "Minibatch loss at step"
       ]
      },
      {
       "output_type": "stream",
       "stream": "stdout",
       "text": [
        " 26000 : 9.71592\n",
        "Minibatch accuracy: 21.9%\n",
        "Validation accuracy at step 26000: 35.9%"
       ]
      },
      {
       "output_type": "stream",
       "stream": "stdout",
       "text": [
        "\n",
        "Minibatch loss at step"
       ]
      },
      {
       "output_type": "stream",
       "stream": "stdout",
       "text": [
        " 27000 : 8.9714\n",
        "Minibatch accuracy: 56.2%\n",
        "Validation accuracy at step 27000: 35.5%"
       ]
      },
      {
       "output_type": "stream",
       "stream": "stdout",
       "text": [
        "\n",
        "Minibatch loss at step"
       ]
      },
      {
       "output_type": "stream",
       "stream": "stdout",
       "text": [
        " 28000 : 9.23944\n",
        "Minibatch accuracy: 37.5%\n",
        "Validation accuracy at step 28000: 35.2%"
       ]
      },
      {
       "output_type": "stream",
       "stream": "stdout",
       "text": [
        "\n",
        "Minibatch loss at step"
       ]
      },
      {
       "output_type": "stream",
       "stream": "stdout",
       "text": [
        " 29000 : 9.04103\n",
        "Minibatch accuracy: 34.4%\n",
        "Validation accuracy at step 29000: 37.1%"
       ]
      },
      {
       "output_type": "stream",
       "stream": "stdout",
       "text": [
        "\n",
        "Minibatch loss at step"
       ]
      },
      {
       "output_type": "stream",
       "stream": "stdout",
       "text": [
        " 30000 : 8.94536\n",
        "Minibatch accuracy: 34.4%\n",
        "Validation accuracy at step 30000: 37.0%"
       ]
      },
      {
       "output_type": "stream",
       "stream": "stdout",
       "text": [
        "\n",
        "Test accuracy at step 30000: 36.7%"
       ]
      },
      {
       "output_type": "stream",
       "stream": "stdout",
       "text": [
        "\n",
        "Minibatch loss at step"
       ]
      },
      {
       "output_type": "stream",
       "stream": "stdout",
       "text": [
        " 31000 : 8.78256\n",
        "Minibatch accuracy: 34.4%\n",
        "Validation accuracy at step 31000: 32.3%"
       ]
      },
      {
       "output_type": "stream",
       "stream": "stdout",
       "text": [
        "\n",
        "Minibatch loss at step"
       ]
      },
      {
       "output_type": "stream",
       "stream": "stdout",
       "text": [
        " 32000 : 8.94298\n",
        "Minibatch accuracy: 18.8%\n",
        "Validation accuracy at step 32000: 35.0%"
       ]
      },
      {
       "output_type": "stream",
       "stream": "stdout",
       "text": [
        "\n",
        "Minibatch loss at step"
       ]
      },
      {
       "output_type": "stream",
       "stream": "stdout",
       "text": [
        " 33000 : 8.19614\n",
        "Minibatch accuracy: 46.9%\n",
        "Validation accuracy at step 33000: 36.4%"
       ]
      },
      {
       "output_type": "stream",
       "stream": "stdout",
       "text": [
        "\n",
        "Minibatch loss at step"
       ]
      },
      {
       "output_type": "stream",
       "stream": "stdout",
       "text": [
        " 34000 : 8.29568\n",
        "Minibatch accuracy: 40.6%\n",
        "Validation accuracy at step 34000: 39.7%"
       ]
      },
      {
       "output_type": "stream",
       "stream": "stdout",
       "text": [
        "\n",
        "Minibatch loss at step"
       ]
      },
      {
       "output_type": "stream",
       "stream": "stdout",
       "text": [
        " 35000 : 8.00552\n",
        "Minibatch accuracy: 43.8%\n",
        "Validation accuracy at step 35000: 39.5%"
       ]
      },
      {
       "output_type": "stream",
       "stream": "stdout",
       "text": [
        "\n",
        "Test accuracy at step 35000: 39.7%"
       ]
      },
      {
       "output_type": "stream",
       "stream": "stdout",
       "text": [
        "\n",
        "Minibatch loss at step"
       ]
      },
      {
       "output_type": "stream",
       "stream": "stdout",
       "text": [
        " 36000 : 8.35067\n",
        "Minibatch accuracy: 31.2%\n",
        "Validation accuracy at step 36000: 35.5%"
       ]
      },
      {
       "output_type": "stream",
       "stream": "stdout",
       "text": [
        "\n",
        "Minibatch loss at step"
       ]
      },
      {
       "output_type": "stream",
       "stream": "stdout",
       "text": [
        " 37000 : 7.69062\n",
        "Minibatch accuracy: 50.0%\n",
        "Validation accuracy at step 37000: 36.9%"
       ]
      },
      {
       "output_type": "stream",
       "stream": "stdout",
       "text": [
        "\n",
        "Minibatch loss at step"
       ]
      },
      {
       "output_type": "stream",
       "stream": "stdout",
       "text": [
        " 38000 : 7.65406\n",
        "Minibatch accuracy: 37.5%\n",
        "Validation accuracy at step 38000: 39.7%"
       ]
      },
      {
       "output_type": "stream",
       "stream": "stdout",
       "text": [
        "\n",
        "Minibatch loss at step"
       ]
      },
      {
       "output_type": "stream",
       "stream": "stdout",
       "text": [
        " 39000 : 8.06123\n",
        "Minibatch accuracy: 40.6%\n",
        "Validation accuracy at step 39000: 37.9%"
       ]
      },
      {
       "output_type": "stream",
       "stream": "stdout",
       "text": [
        "\n",
        "Minibatch loss at step"
       ]
      },
      {
       "output_type": "stream",
       "stream": "stdout",
       "text": [
        " 40000 : 7.54513\n",
        "Minibatch accuracy: 34.4%\n",
        "Validation accuracy at step 40000: 37.9%"
       ]
      },
      {
       "output_type": "stream",
       "stream": "stdout",
       "text": [
        "\n",
        "Test accuracy at step 40000: 38.9%"
       ]
      },
      {
       "output_type": "stream",
       "stream": "stdout",
       "text": [
        "\n",
        "Minibatch loss at step"
       ]
      },
      {
       "output_type": "stream",
       "stream": "stdout",
       "text": [
        " 41000 : 7.27839\n",
        "Minibatch accuracy: 31.2%\n",
        "Validation accuracy at step 41000: 38.4%"
       ]
      },
      {
       "output_type": "stream",
       "stream": "stdout",
       "text": [
        "\n",
        "Minibatch loss at step"
       ]
      },
      {
       "output_type": "stream",
       "stream": "stdout",
       "text": [
        " 42000 : 7.36021\n",
        "Minibatch accuracy: 31.2%\n",
        "Validation accuracy at step 42000: 38.4%"
       ]
      },
      {
       "output_type": "stream",
       "stream": "stdout",
       "text": [
        "\n",
        "Minibatch loss at step"
       ]
      },
      {
       "output_type": "stream",
       "stream": "stdout",
       "text": [
        " 43000 : 7.07377\n",
        "Minibatch accuracy: 43.8%\n",
        "Validation accuracy at step 43000: 37.8%"
       ]
      },
      {
       "output_type": "stream",
       "stream": "stdout",
       "text": [
        "\n",
        "Minibatch loss at step"
       ]
      },
      {
       "output_type": "stream",
       "stream": "stdout",
       "text": [
        " 44000 : 7.01953\n",
        "Minibatch accuracy: 34.4%\n",
        "Validation accuracy at step 44000: 38.5%"
       ]
      },
      {
       "output_type": "stream",
       "stream": "stdout",
       "text": [
        "\n",
        "Minibatch loss at step"
       ]
      },
      {
       "output_type": "stream",
       "stream": "stdout",
       "text": [
        " 45000 : 6.79806\n",
        "Minibatch accuracy: 50.0%\n",
        "Validation accuracy at step 45000: 40.1%"
       ]
      },
      {
       "output_type": "stream",
       "stream": "stdout",
       "text": [
        "\n",
        "Test accuracy at step 45000: 40.1%"
       ]
      },
      {
       "output_type": "stream",
       "stream": "stdout",
       "text": [
        "\n",
        "Minibatch loss at step"
       ]
      },
      {
       "output_type": "stream",
       "stream": "stdout",
       "text": [
        " 46000 : 6.51115\n",
        "Minibatch accuracy: 40.6%\n",
        "Validation accuracy at step 46000: 40.4%"
       ]
      },
      {
       "output_type": "stream",
       "stream": "stdout",
       "text": [
        "\n",
        "Minibatch loss at step"
       ]
      },
      {
       "output_type": "stream",
       "stream": "stdout",
       "text": [
        " 47000 : 6.67164\n",
        "Minibatch accuracy: 56.2%\n",
        "Validation accuracy at step 47000: 35.0%"
       ]
      },
      {
       "output_type": "stream",
       "stream": "stdout",
       "text": [
        "\n",
        "Minibatch loss at step"
       ]
      },
      {
       "output_type": "stream",
       "stream": "stdout",
       "text": [
        " 48000 : 6.45934\n",
        "Minibatch accuracy: 40.6%\n",
        "Validation accuracy at step 48000: 38.0%"
       ]
      },
      {
       "output_type": "stream",
       "stream": "stdout",
       "text": [
        "\n",
        "Minibatch loss at step"
       ]
      },
      {
       "output_type": "stream",
       "stream": "stdout",
       "text": [
        " 49000 : 6.34819\n",
        "Minibatch accuracy: 43.8%\n",
        "Validation accuracy at step 49000: 39.6%"
       ]
      },
      {
       "output_type": "stream",
       "stream": "stdout",
       "text": [
        "\n",
        "Minibatch loss at step"
       ]
      },
      {
       "output_type": "stream",
       "stream": "stdout",
       "text": [
        " 50000 : 6.63198\n",
        "Minibatch accuracy: 25.0%\n",
        "Validation accuracy at step 50000: 40.0%"
       ]
      },
      {
       "output_type": "stream",
       "stream": "stdout",
       "text": [
        "\n",
        "Test accuracy at step 50000: 40.4%"
       ]
      },
      {
       "output_type": "stream",
       "stream": "stdout",
       "text": [
        "\n",
        "Minibatch loss at step"
       ]
      },
      {
       "output_type": "stream",
       "stream": "stdout",
       "text": [
        " 51000 : 6.43135\n",
        "Minibatch accuracy: 34.4%\n",
        "Validation accuracy at step 51000: 37.3%"
       ]
      },
      {
       "output_type": "stream",
       "stream": "stdout",
       "text": [
        "\n",
        "Minibatch loss at step"
       ]
      },
      {
       "output_type": "stream",
       "stream": "stdout",
       "text": [
        " 52000 : 6.0111\n",
        "Minibatch accuracy: 59.4%\n",
        "Validation accuracy at step 52000: 38.9%"
       ]
      },
      {
       "output_type": "stream",
       "stream": "stdout",
       "text": [
        "\n",
        "Minibatch loss at step"
       ]
      },
      {
       "output_type": "stream",
       "stream": "stdout",
       "text": [
        " 53000 : 5.90134\n",
        "Minibatch accuracy: 50.0%\n",
        "Validation accuracy at step 53000: 39.8%"
       ]
      },
      {
       "output_type": "stream",
       "stream": "stdout",
       "text": [
        "\n",
        "Minibatch loss at step"
       ]
      },
      {
       "output_type": "stream",
       "stream": "stdout",
       "text": [
        " 54000 : 5.99671\n",
        "Minibatch accuracy: 46.9%\n",
        "Validation accuracy at step 54000: 39.5%"
       ]
      },
      {
       "output_type": "stream",
       "stream": "stdout",
       "text": [
        "\n",
        "Minibatch loss at step"
       ]
      },
      {
       "output_type": "stream",
       "stream": "stdout",
       "text": [
        " 55000 : 5.81244\n",
        "Minibatch accuracy: 37.5%\n",
        "Validation accuracy at step 55000: 40.2%"
       ]
      },
      {
       "output_type": "stream",
       "stream": "stdout",
       "text": [
        "\n",
        "Test accuracy at step 55000: 40.6%"
       ]
      },
      {
       "output_type": "stream",
       "stream": "stdout",
       "text": [
        "\n",
        "Minibatch loss at step"
       ]
      },
      {
       "output_type": "stream",
       "stream": "stdout",
       "text": [
        " 56000 : 5.81657\n",
        "Minibatch accuracy: 37.5%\n",
        "Validation accuracy at step 56000: 39.5%"
       ]
      },
      {
       "output_type": "stream",
       "stream": "stdout",
       "text": [
        "\n",
        "Minibatch loss at step"
       ]
      },
      {
       "output_type": "stream",
       "stream": "stdout",
       "text": [
        " 57000 : 6.16878\n",
        "Minibatch accuracy: 21.9%\n",
        "Validation accuracy at step 57000: 40.7%"
       ]
      },
      {
       "output_type": "stream",
       "stream": "stdout",
       "text": [
        "\n",
        "Minibatch loss at step"
       ]
      },
      {
       "output_type": "stream",
       "stream": "stdout",
       "text": [
        " 58000 : 5.66697\n",
        "Minibatch accuracy: 34.4%\n",
        "Validation accuracy at step 58000: 39.4%"
       ]
      },
      {
       "output_type": "stream",
       "stream": "stdout",
       "text": [
        "\n",
        "Minibatch loss at step"
       ]
      },
      {
       "output_type": "stream",
       "stream": "stdout",
       "text": [
        " 59000 : 5.4473\n",
        "Minibatch accuracy: 50.0%\n",
        "Validation accuracy at step 59000: 40.4%"
       ]
      },
      {
       "output_type": "stream",
       "stream": "stdout",
       "text": [
        "\n",
        "Minibatch loss at step"
       ]
      },
      {
       "output_type": "stream",
       "stream": "stdout",
       "text": [
        " 60000 : 5.52214\n",
        "Minibatch accuracy: 31.2%\n",
        "Validation accuracy at step 60000: 41.0%"
       ]
      },
      {
       "output_type": "stream",
       "stream": "stdout",
       "text": [
        "\n",
        "Test accuracy at step 60000: 41.6%"
       ]
      },
      {
       "output_type": "stream",
       "stream": "stdout",
       "text": [
        "\n",
        "Minibatch loss at step"
       ]
      },
      {
       "output_type": "stream",
       "stream": "stdout",
       "text": [
        " 61000 : 5.51987\n",
        "Minibatch accuracy: 34.4%\n",
        "Validation accuracy at step 61000: 42.0%"
       ]
      },
      {
       "output_type": "stream",
       "stream": "stdout",
       "text": [
        "\n",
        "Minibatch loss at step"
       ]
      },
      {
       "output_type": "stream",
       "stream": "stdout",
       "text": [
        " 62000 : 5.11504\n",
        "Minibatch accuracy: 46.9%\n",
        "Validation accuracy at step 62000: 41.0%"
       ]
      },
      {
       "output_type": "stream",
       "stream": "stdout",
       "text": [
        "\n",
        "Minibatch loss at step"
       ]
      },
      {
       "output_type": "stream",
       "stream": "stdout",
       "text": [
        " 63000 : 5.07569\n",
        "Minibatch accuracy: 50.0%\n",
        "Validation accuracy at step 63000: 39.7%"
       ]
      },
      {
       "output_type": "stream",
       "stream": "stdout",
       "text": [
        "\n",
        "Minibatch loss at step"
       ]
      },
      {
       "output_type": "stream",
       "stream": "stdout",
       "text": [
        " 64000 : 5.18231\n",
        "Minibatch accuracy: 34.4%\n",
        "Validation accuracy at step 64000: 41.2%"
       ]
      },
      {
       "output_type": "stream",
       "stream": "stdout",
       "text": [
        "\n",
        "Minibatch loss at step"
       ]
      },
      {
       "output_type": "stream",
       "stream": "stdout",
       "text": [
        " 65000 : 5.22526\n",
        "Minibatch accuracy: 34.4%\n",
        "Validation accuracy at step 65000: 40.8%"
       ]
      },
      {
       "output_type": "stream",
       "stream": "stdout",
       "text": [
        "\n",
        "Test accuracy at step 65000: 40.8%"
       ]
      },
      {
       "output_type": "stream",
       "stream": "stdout",
       "text": [
        "\n",
        "Minibatch loss at step"
       ]
      },
      {
       "output_type": "stream",
       "stream": "stdout",
       "text": [
        " 66000 : 5.34551\n",
        "Minibatch accuracy: 28.1%\n",
        "Validation accuracy at step 66000: 41.4%"
       ]
      },
      {
       "output_type": "stream",
       "stream": "stdout",
       "text": [
        "\n",
        "Minibatch loss at step"
       ]
      },
      {
       "output_type": "stream",
       "stream": "stdout",
       "text": [
        " 67000 : 5.02666\n",
        "Minibatch accuracy: 46.9%\n",
        "Validation accuracy at step 67000: 38.6%"
       ]
      },
      {
       "output_type": "stream",
       "stream": "stdout",
       "text": [
        "\n",
        "Minibatch loss at step"
       ]
      },
      {
       "output_type": "stream",
       "stream": "stdout",
       "text": [
        " 68000 : 4.72258\n",
        "Minibatch accuracy: 59.4%\n",
        "Validation accuracy at step 68000: 40.4%"
       ]
      },
      {
       "output_type": "stream",
       "stream": "stdout",
       "text": [
        "\n",
        "Minibatch loss at step"
       ]
      },
      {
       "output_type": "stream",
       "stream": "stdout",
       "text": [
        " 69000 : 4.84649\n",
        "Minibatch accuracy: 50.0%\n",
        "Validation accuracy at step 69000: 39.6%"
       ]
      },
      {
       "output_type": "stream",
       "stream": "stdout",
       "text": [
        "\n",
        "Minibatch loss at step"
       ]
      },
      {
       "output_type": "stream",
       "stream": "stdout",
       "text": [
        " 70000 : 4.71004\n",
        "Minibatch accuracy: 62.5%\n",
        "Validation accuracy at step 70000: 40.8%"
       ]
      },
      {
       "output_type": "stream",
       "stream": "stdout",
       "text": [
        "\n",
        "Test accuracy at step 70000: 40.9%"
       ]
      },
      {
       "output_type": "stream",
       "stream": "stdout",
       "text": [
        "\n",
        "Minibatch loss at step"
       ]
      },
      {
       "output_type": "stream",
       "stream": "stdout",
       "text": [
        " 71000 : 4.72643\n",
        "Minibatch accuracy: 43.8%\n",
        "Validation accuracy at step 71000: 40.6%"
       ]
      },
      {
       "output_type": "stream",
       "stream": "stdout",
       "text": [
        "\n",
        "Minibatch loss at step"
       ]
      },
      {
       "output_type": "stream",
       "stream": "stdout",
       "text": [
        " 72000 : 4.57832\n",
        "Minibatch accuracy: 56.2%\n",
        "Validation accuracy at step 72000: 41.1%"
       ]
      },
      {
       "output_type": "stream",
       "stream": "stdout",
       "text": [
        "\n",
        "Minibatch loss at step"
       ]
      },
      {
       "output_type": "stream",
       "stream": "stdout",
       "text": [
        " 73000 : 4.73709\n",
        "Minibatch accuracy: 43.8%\n",
        "Validation accuracy at step 73000: 42.3%"
       ]
      },
      {
       "output_type": "stream",
       "stream": "stdout",
       "text": [
        "\n",
        "Minibatch loss at step"
       ]
      },
      {
       "output_type": "stream",
       "stream": "stdout",
       "text": [
        " 74000 : 4.46239\n",
        "Minibatch accuracy: 37.5%\n",
        "Validation accuracy at step 74000: 40.7%"
       ]
      },
      {
       "output_type": "stream",
       "stream": "stdout",
       "text": [
        "\n",
        "Minibatch loss at step"
       ]
      },
      {
       "output_type": "stream",
       "stream": "stdout",
       "text": [
        " 75000 : 4.59277\n",
        "Minibatch accuracy: 34.4%\n",
        "Validation accuracy at step 75000: 40.4%"
       ]
      },
      {
       "output_type": "stream",
       "stream": "stdout",
       "text": [
        "\n",
        "Test accuracy at step 75000: 40.3%"
       ]
      },
      {
       "output_type": "stream",
       "stream": "stdout",
       "text": [
        "\n",
        "Minibatch loss at step"
       ]
      },
      {
       "output_type": "stream",
       "stream": "stdout",
       "text": [
        " 76000 : 4.55251\n",
        "Minibatch accuracy: 34.4%\n",
        "Validation accuracy at step 76000: 40.8%"
       ]
      },
      {
       "output_type": "stream",
       "stream": "stdout",
       "text": [
        "\n",
        "Minibatch loss at step"
       ]
      },
      {
       "output_type": "stream",
       "stream": "stdout",
       "text": [
        " 77000 : 4.27862\n",
        "Minibatch accuracy: 53.1%\n",
        "Validation accuracy at step 77000: 42.3%"
       ]
      },
      {
       "output_type": "stream",
       "stream": "stdout",
       "text": [
        "\n",
        "Minibatch loss at step"
       ]
      },
      {
       "output_type": "stream",
       "stream": "stdout",
       "text": [
        " 78000 : 4.51925\n",
        "Minibatch accuracy: 34.4%\n",
        "Validation accuracy at step 78000: 42.5%"
       ]
      },
      {
       "output_type": "stream",
       "stream": "stdout",
       "text": [
        "\n",
        "Minibatch loss at step"
       ]
      },
      {
       "output_type": "stream",
       "stream": "stdout",
       "text": [
        " 79000 : 4.32517\n",
        "Minibatch accuracy: 37.5%\n",
        "Validation accuracy at step 79000: 40.9%"
       ]
      },
      {
       "output_type": "stream",
       "stream": "stdout",
       "text": [
        "\n",
        "Minibatch loss at step"
       ]
      },
      {
       "output_type": "stream",
       "stream": "stdout",
       "text": [
        " 80000 : 4.03001\n",
        "Minibatch accuracy: 56.2%\n",
        "Validation accuracy at step 80000: 42.2%"
       ]
      },
      {
       "output_type": "stream",
       "stream": "stdout",
       "text": [
        "\n",
        "Test accuracy at step 80000: 41.7%"
       ]
      },
      {
       "output_type": "stream",
       "stream": "stdout",
       "text": [
        "\n",
        "Minibatch loss at step"
       ]
      },
      {
       "output_type": "stream",
       "stream": "stdout",
       "text": [
        " 81000 : 4.28316\n",
        "Minibatch accuracy: 34.4%\n",
        "Validation accuracy at step 81000: 40.7%"
       ]
      },
      {
       "output_type": "stream",
       "stream": "stdout",
       "text": [
        "\n",
        "Minibatch loss at step"
       ]
      },
      {
       "output_type": "stream",
       "stream": "stdout",
       "text": [
        " 82000 : 4.00577\n",
        "Minibatch accuracy: 34.4%\n",
        "Validation accuracy at step 82000: 42.6%"
       ]
      },
      {
       "output_type": "stream",
       "stream": "stdout",
       "text": [
        "\n",
        "Minibatch loss at step"
       ]
      },
      {
       "output_type": "stream",
       "stream": "stdout",
       "text": [
        " 83000 : 4.32819\n",
        "Minibatch accuracy: 43.8%\n",
        "Validation accuracy at step 83000: 41.0%"
       ]
      },
      {
       "output_type": "stream",
       "stream": "stdout",
       "text": [
        "\n",
        "Minibatch loss at step"
       ]
      },
      {
       "output_type": "stream",
       "stream": "stdout",
       "text": [
        " 84000 : 4.21106\n",
        "Minibatch accuracy: 37.5%\n",
        "Validation accuracy at step 84000: 39.5%"
       ]
      },
      {
       "output_type": "stream",
       "stream": "stdout",
       "text": [
        "\n",
        "Minibatch loss at step"
       ]
      },
      {
       "output_type": "stream",
       "stream": "stdout",
       "text": [
        " 85000 : 3.76725\n",
        "Minibatch accuracy: 53.1%\n",
        "Validation accuracy at step 85000: 42.5%"
       ]
      },
      {
       "output_type": "stream",
       "stream": "stdout",
       "text": [
        "\n",
        "Test accuracy at step 85000: 42.9%"
       ]
      },
      {
       "output_type": "stream",
       "stream": "stdout",
       "text": [
        "\n",
        "Minibatch loss at step"
       ]
      },
      {
       "output_type": "stream",
       "stream": "stdout",
       "text": [
        " 86000 : 3.90112\n",
        "Minibatch accuracy: 34.4%\n",
        "Validation accuracy at step 86000: 40.9%"
       ]
      },
      {
       "output_type": "stream",
       "stream": "stdout",
       "text": [
        "\n",
        "Minibatch loss at step"
       ]
      },
      {
       "output_type": "stream",
       "stream": "stdout",
       "text": [
        " 87000 : 3.68197\n",
        "Minibatch accuracy: 53.1%\n",
        "Validation accuracy at step 87000: 40.4%"
       ]
      },
      {
       "output_type": "stream",
       "stream": "stdout",
       "text": [
        "\n",
        "Minibatch loss at step"
       ]
      },
      {
       "output_type": "stream",
       "stream": "stdout",
       "text": [
        " 88000 : 3.8353\n",
        "Minibatch accuracy: 50.0%\n",
        "Validation accuracy at step 88000: 42.1%"
       ]
      },
      {
       "output_type": "stream",
       "stream": "stdout",
       "text": [
        "\n",
        "Minibatch loss at step"
       ]
      },
      {
       "output_type": "stream",
       "stream": "stdout",
       "text": [
        " 89000 : 3.90522\n",
        "Minibatch accuracy: 37.5%\n",
        "Validation accuracy at step 89000: 40.1%"
       ]
      },
      {
       "output_type": "stream",
       "stream": "stdout",
       "text": [
        "\n",
        "Minibatch loss at step"
       ]
      },
      {
       "output_type": "stream",
       "stream": "stdout",
       "text": [
        " 90000 : 3.96231\n",
        "Minibatch accuracy: 40.6%\n",
        "Validation accuracy at step 90000: 42.0%"
       ]
      },
      {
       "output_type": "stream",
       "stream": "stdout",
       "text": [
        "\n",
        "Test accuracy at step 90000: 42.1%"
       ]
      },
      {
       "output_type": "stream",
       "stream": "stdout",
       "text": [
        "\n",
        "Minibatch loss at step"
       ]
      },
      {
       "output_type": "stream",
       "stream": "stdout",
       "text": [
        " 91000 : 3.88615\n",
        "Minibatch accuracy: 37.5%\n",
        "Validation accuracy at step 91000: 42.6%"
       ]
      },
      {
       "output_type": "stream",
       "stream": "stdout",
       "text": [
        "\n",
        "Minibatch loss at step"
       ]
      },
      {
       "output_type": "stream",
       "stream": "stdout",
       "text": [
        " 92000 : 3.73808\n",
        "Minibatch accuracy: 43.8%\n",
        "Validation accuracy at step 92000: 42.1%"
       ]
      },
      {
       "output_type": "stream",
       "stream": "stdout",
       "text": [
        "\n",
        "Minibatch loss at step"
       ]
      },
      {
       "output_type": "stream",
       "stream": "stdout",
       "text": [
        " 93000 : 3.98186\n",
        "Minibatch accuracy: 37.5%\n",
        "Validation accuracy at step 93000: 42.6%"
       ]
      },
      {
       "output_type": "stream",
       "stream": "stdout",
       "text": [
        "\n",
        "Minibatch loss at step"
       ]
      },
      {
       "output_type": "stream",
       "stream": "stdout",
       "text": [
        " 94000 : 3.81471\n",
        "Minibatch accuracy: 34.4%\n",
        "Validation accuracy at step 94000: 42.8%"
       ]
      },
      {
       "output_type": "stream",
       "stream": "stdout",
       "text": [
        "\n",
        "Minibatch loss at step"
       ]
      },
      {
       "output_type": "stream",
       "stream": "stdout",
       "text": [
        " 95000 : 3.70397\n",
        "Minibatch accuracy: 34.4%\n",
        "Validation accuracy at step 95000: 41.7%"
       ]
      },
      {
       "output_type": "stream",
       "stream": "stdout",
       "text": [
        "\n",
        "Test accuracy at step 95000: 42.1%"
       ]
      },
      {
       "output_type": "stream",
       "stream": "stdout",
       "text": [
        "\n",
        "Minibatch loss at step"
       ]
      },
      {
       "output_type": "stream",
       "stream": "stdout",
       "text": [
        " 96000 : 3.93522\n",
        "Minibatch accuracy: 37.5%\n",
        "Validation accuracy at step 96000: 43.5%"
       ]
      },
      {
       "output_type": "stream",
       "stream": "stdout",
       "text": [
        "\n",
        "Minibatch loss at step"
       ]
      },
      {
       "output_type": "stream",
       "stream": "stdout",
       "text": [
        " 97000 : 3.63836\n",
        "Minibatch accuracy: 40.6%\n",
        "Validation accuracy at step 97000: 41.7%"
       ]
      },
      {
       "output_type": "stream",
       "stream": "stdout",
       "text": [
        "\n",
        "Minibatch loss at step"
       ]
      },
      {
       "output_type": "stream",
       "stream": "stdout",
       "text": [
        " 98000 : 3.44828\n",
        "Minibatch accuracy: 56.2%\n",
        "Validation accuracy at step 98000: 41.7%"
       ]
      },
      {
       "output_type": "stream",
       "stream": "stdout",
       "text": [
        "\n",
        "Minibatch loss at step"
       ]
      },
      {
       "output_type": "stream",
       "stream": "stdout",
       "text": [
        " 99000 : 3.44616\n",
        "Minibatch accuracy: 56.2%\n",
        "Validation accuracy at step 99000: 42.1%"
       ]
      },
      {
       "output_type": "stream",
       "stream": "stdout",
       "text": [
        "\n",
        "Minibatch loss at step"
       ]
      },
      {
       "output_type": "stream",
       "stream": "stdout",
       "text": [
        " 100000 : 3.43335\n",
        "Minibatch accuracy: 43.8%\n",
        "Validation accuracy at step 100000: 42.5%"
       ]
      },
      {
       "output_type": "stream",
       "stream": "stdout",
       "text": [
        "\n",
        "Test accuracy at step 100000: 43.0%\n"
       ]
      },
      {
       "output_type": "stream",
       "stream": "stdout",
       "text": [
        "\n",
        "Elapsed time: 1.39164272328 hours\n",
        "The best validation accuracy was 43.54 at step 96000"
       ]
      },
      {
       "output_type": "stream",
       "stream": "stdout",
       "text": [
        "\n",
        "The best test accuracy was 42.98 at step 100000\n"
       ]
      }
     ],
     "prompt_number": 26
    },
    {
     "cell_type": "code",
     "collapsed": false,
     "input": [
      "# More feature maps\n",
      "model = create_inception_module_model(learning_rate = 0.00025, l2_lambda = 0.025, feature_maps = 26, initialised_weights_stddev = 0.5, decay_steps = 10000, decay_rate = 0.96)\n",
      "steps_to_validation_predictions, steps_to_test_predictions = train_model(model, 100001, dropout_keep_prob = 0.9)\n",
      "correct_prediction_indexes, incorrect_prediction_indexes = visualise_accuracies(steps_to_validation_predictions, steps_to_test_predictions)"
     ],
     "language": "python",
     "metadata": {},
     "outputs": [
      {
       "output_type": "stream",
       "stream": "stdout",
       "text": [
        "Initialized\n",
        "Minibatch loss at step"
       ]
      },
      {
       "output_type": "stream",
       "stream": "stdout",
       "text": [
        " 0 : 751.536\n",
        "Minibatch accuracy: 3.1%\n",
        "Validation accuracy at step 0: 8.5%"
       ]
      },
      {
       "output_type": "stream",
       "stream": "stdout",
       "text": [
        "\n",
        "Minibatch loss at step"
       ]
      },
      {
       "output_type": "stream",
       "stream": "stdout",
       "text": [
        " 1000 : 17.8157\n",
        "Minibatch accuracy: 12.5%\n",
        "Validation accuracy at step 1000: 20.5%"
       ]
      },
      {
       "output_type": "stream",
       "stream": "stdout",
       "text": [
        "\n",
        "Minibatch loss at step"
       ]
      },
      {
       "output_type": "stream",
       "stream": "stdout",
       "text": [
        " 2000 : 13.1613\n",
        "Minibatch accuracy: 25.0%\n",
        "Validation accuracy at step 2000: 21.0%"
       ]
      },
      {
       "output_type": "stream",
       "stream": "stdout",
       "text": [
        "\n",
        "Minibatch loss at step"
       ]
      },
      {
       "output_type": "stream",
       "stream": "stdout",
       "text": [
        " 3000 : 12.4843\n",
        "Minibatch accuracy: 25.0%\n",
        "Validation accuracy at step 3000: 24.4%"
       ]
      },
      {
       "output_type": "stream",
       "stream": "stdout",
       "text": [
        "\n",
        "Minibatch loss at step"
       ]
      },
      {
       "output_type": "stream",
       "stream": "stdout",
       "text": [
        " 4000 : 12.0612\n",
        "Minibatch accuracy: 28.1%\n",
        "Validation accuracy at step 4000: 25.9%"
       ]
      },
      {
       "output_type": "stream",
       "stream": "stdout",
       "text": [
        "\n",
        "Minibatch loss at step"
       ]
      },
      {
       "output_type": "stream",
       "stream": "stdout",
       "text": [
        " 5000 : 10.2095\n",
        "Minibatch accuracy: 31.2%\n",
        "Validation accuracy at step 5000: 25.7%"
       ]
      },
      {
       "output_type": "stream",
       "stream": "stdout",
       "text": [
        "\n",
        "Test accuracy at step 5000: 25.4%"
       ]
      },
      {
       "output_type": "stream",
       "stream": "stdout",
       "text": [
        "\n",
        "Minibatch loss at step"
       ]
      },
      {
       "output_type": "stream",
       "stream": "stdout",
       "text": [
        " 6000 : 11.203\n",
        "Minibatch accuracy: 25.0%\n",
        "Validation accuracy at step 6000: 23.3%"
       ]
      },
      {
       "output_type": "stream",
       "stream": "stdout",
       "text": [
        "\n",
        "Minibatch loss at step"
       ]
      },
      {
       "output_type": "stream",
       "stream": "stdout",
       "text": [
        " 7000 : 10.5712\n",
        "Minibatch accuracy: 18.8%\n",
        "Validation accuracy at step 7000: 22.9%"
       ]
      },
      {
       "output_type": "stream",
       "stream": "stdout",
       "text": [
        "\n",
        "Minibatch loss at step"
       ]
      },
      {
       "output_type": "stream",
       "stream": "stdout",
       "text": [
        " 8000 : 11.3504\n",
        "Minibatch accuracy: 28.1%\n",
        "Validation accuracy at step 8000: 26.3%"
       ]
      },
      {
       "output_type": "stream",
       "stream": "stdout",
       "text": [
        "\n",
        "Minibatch loss at step"
       ]
      },
      {
       "output_type": "stream",
       "stream": "stdout",
       "text": [
        " 9000 : 9.46035\n",
        "Minibatch accuracy: 28.1%\n",
        "Validation accuracy at step 9000: 28.5%"
       ]
      },
      {
       "output_type": "stream",
       "stream": "stdout",
       "text": [
        "\n",
        "Minibatch loss at step"
       ]
      },
      {
       "output_type": "stream",
       "stream": "stdout",
       "text": [
        " 10000 : 10.0392\n",
        "Minibatch accuracy: 25.0%\n",
        "Validation accuracy at step 10000: 27.7%"
       ]
      },
      {
       "output_type": "stream",
       "stream": "stdout",
       "text": [
        "\n",
        "Test accuracy at step 10000: 26.9%"
       ]
      },
      {
       "output_type": "stream",
       "stream": "stdout",
       "text": [
        "\n",
        "Minibatch loss at step"
       ]
      },
      {
       "output_type": "stream",
       "stream": "stdout",
       "text": [
        " 11000 : 10.1175\n",
        "Minibatch accuracy: 15.6%\n",
        "Validation accuracy at step 11000: 27.3%"
       ]
      },
      {
       "output_type": "stream",
       "stream": "stdout",
       "text": [
        "\n",
        "Minibatch loss at step"
       ]
      },
      {
       "output_type": "stream",
       "stream": "stdout",
       "text": [
        " 12000 : 10.3211\n",
        "Minibatch accuracy: 34.4%\n",
        "Validation accuracy at step 12000: 30.2%"
       ]
      },
      {
       "output_type": "stream",
       "stream": "stdout",
       "text": [
        "\n",
        "Minibatch loss at step"
       ]
      },
      {
       "output_type": "stream",
       "stream": "stdout",
       "text": [
        " 13000 : 10.2528\n",
        "Minibatch accuracy: 15.6%\n",
        "Validation accuracy at step 13000: 29.6%"
       ]
      },
      {
       "output_type": "stream",
       "stream": "stdout",
       "text": [
        "\n",
        "Minibatch loss at step"
       ]
      },
      {
       "output_type": "stream",
       "stream": "stdout",
       "text": [
        " 14000 : 10.1748\n",
        "Minibatch accuracy: 18.8%\n",
        "Validation accuracy at step 14000: 26.3%"
       ]
      },
      {
       "output_type": "stream",
       "stream": "stdout",
       "text": [
        "\n",
        "Minibatch loss at step"
       ]
      },
      {
       "output_type": "stream",
       "stream": "stdout",
       "text": [
        " 15000 : 9.44534\n",
        "Minibatch accuracy: 21.9%\n",
        "Validation accuracy at step 15000: 28.6%"
       ]
      },
      {
       "output_type": "stream",
       "stream": "stdout",
       "text": [
        "\n",
        "Test accuracy at step 15000: 28.6%"
       ]
      },
      {
       "output_type": "stream",
       "stream": "stdout",
       "text": [
        "\n",
        "Minibatch loss at step"
       ]
      },
      {
       "output_type": "stream",
       "stream": "stdout",
       "text": [
        " 16000 : 8.65917\n",
        "Minibatch accuracy: 31.2%\n",
        "Validation accuracy at step 16000: 32.1%"
       ]
      },
      {
       "output_type": "stream",
       "stream": "stdout",
       "text": [
        "\n",
        "Minibatch loss at step"
       ]
      },
      {
       "output_type": "stream",
       "stream": "stdout",
       "text": [
        " 17000 : 8.34556\n",
        "Minibatch accuracy: 53.1%\n",
        "Validation accuracy at step 17000: 32.1%"
       ]
      },
      {
       "output_type": "stream",
       "stream": "stdout",
       "text": [
        "\n",
        "Minibatch loss at step"
       ]
      },
      {
       "output_type": "stream",
       "stream": "stdout",
       "text": [
        " 18000 : 8.35115\n",
        "Minibatch accuracy: 31.2%\n",
        "Validation accuracy at step 18000: 33.9%"
       ]
      },
      {
       "output_type": "stream",
       "stream": "stdout",
       "text": [
        "\n",
        "Minibatch loss at step"
       ]
      },
      {
       "output_type": "stream",
       "stream": "stdout",
       "text": [
        " 19000 : 8.29785\n",
        "Minibatch accuracy: 37.5%\n",
        "Validation accuracy at step 19000: 31.6%"
       ]
      },
      {
       "output_type": "stream",
       "stream": "stdout",
       "text": [
        "\n",
        "Minibatch loss at step"
       ]
      },
      {
       "output_type": "stream",
       "stream": "stdout",
       "text": [
        " 20000 : 8.19641\n",
        "Minibatch accuracy: 37.5%\n",
        "Validation accuracy at step 20000: 31.6%"
       ]
      },
      {
       "output_type": "stream",
       "stream": "stdout",
       "text": [
        "\n",
        "Test accuracy at step 20000: 32.0%"
       ]
      },
      {
       "output_type": "stream",
       "stream": "stdout",
       "text": [
        "\n",
        "Minibatch loss at step"
       ]
      },
      {
       "output_type": "stream",
       "stream": "stdout",
       "text": [
        " 21000 : 8.4319\n",
        "Minibatch accuracy: 28.1%\n",
        "Validation accuracy at step 21000: 32.3%"
       ]
      },
      {
       "output_type": "stream",
       "stream": "stdout",
       "text": [
        "\n",
        "Minibatch loss at step"
       ]
      },
      {
       "output_type": "stream",
       "stream": "stdout",
       "text": [
        " 22000 : 8.1551\n",
        "Minibatch accuracy: 40.6%\n",
        "Validation accuracy at step 22000: 32.6%"
       ]
      },
      {
       "output_type": "stream",
       "stream": "stdout",
       "text": [
        "\n",
        "Minibatch loss at step"
       ]
      },
      {
       "output_type": "stream",
       "stream": "stdout",
       "text": [
        " 23000 : 8.04688\n",
        "Minibatch accuracy: 31.2%\n",
        "Validation accuracy at step 23000: 35.7%"
       ]
      },
      {
       "output_type": "stream",
       "stream": "stdout",
       "text": [
        "\n",
        "Minibatch loss at step"
       ]
      },
      {
       "output_type": "stream",
       "stream": "stdout",
       "text": [
        " 24000 : 8.01273\n",
        "Minibatch accuracy: 31.2%\n",
        "Validation accuracy at step 24000: 35.6%"
       ]
      },
      {
       "output_type": "stream",
       "stream": "stdout",
       "text": [
        "\n",
        "Minibatch loss at step"
       ]
      },
      {
       "output_type": "stream",
       "stream": "stdout",
       "text": [
        " 25000 : 7.86946\n",
        "Minibatch accuracy: 40.6%\n",
        "Validation accuracy at step 25000: 34.1%"
       ]
      },
      {
       "output_type": "stream",
       "stream": "stdout",
       "text": [
        "\n",
        "Test accuracy at step 25000: 34.0%"
       ]
      },
      {
       "output_type": "stream",
       "stream": "stdout",
       "text": [
        "\n",
        "Minibatch loss at step"
       ]
      },
      {
       "output_type": "stream",
       "stream": "stdout",
       "text": [
        " 26000 : 7.55967\n",
        "Minibatch accuracy: 40.6%\n",
        "Validation accuracy at step 26000: 35.3%"
       ]
      },
      {
       "output_type": "stream",
       "stream": "stdout",
       "text": [
        "\n",
        "Minibatch loss at step"
       ]
      },
      {
       "output_type": "stream",
       "stream": "stdout",
       "text": [
        " 27000 : 7.14515\n",
        "Minibatch accuracy: 46.9%\n",
        "Validation accuracy at step 27000: 34.2%"
       ]
      },
      {
       "output_type": "stream",
       "stream": "stdout",
       "text": [
        "\n",
        "Minibatch loss at step"
       ]
      },
      {
       "output_type": "stream",
       "stream": "stdout",
       "text": [
        " 28000 : 7.73639\n",
        "Minibatch accuracy: 34.4%\n",
        "Validation accuracy at step 28000: 35.9%"
       ]
      },
      {
       "output_type": "stream",
       "stream": "stdout",
       "text": [
        "\n",
        "Minibatch loss at step"
       ]
      },
      {
       "output_type": "stream",
       "stream": "stdout",
       "text": [
        " 29000 : 7.87948\n",
        "Minibatch accuracy: 28.1%\n",
        "Validation accuracy at step 29000: 35.6%"
       ]
      },
      {
       "output_type": "stream",
       "stream": "stdout",
       "text": [
        "\n",
        "Minibatch loss at step"
       ]
      },
      {
       "output_type": "stream",
       "stream": "stdout",
       "text": [
        " 30000 : 7.84457\n",
        "Minibatch accuracy: 25.0%\n",
        "Validation accuracy at step 30000: 33.4%"
       ]
      },
      {
       "output_type": "stream",
       "stream": "stdout",
       "text": [
        "\n",
        "Test accuracy at step 30000: 33.8%"
       ]
      },
      {
       "output_type": "stream",
       "stream": "stdout",
       "text": [
        "\n",
        "Minibatch loss at step"
       ]
      },
      {
       "output_type": "stream",
       "stream": "stdout",
       "text": [
        " 31000 : 7.35326\n",
        "Minibatch accuracy: 37.5%\n",
        "Validation accuracy at step 31000: 34.6%"
       ]
      },
      {
       "output_type": "stream",
       "stream": "stdout",
       "text": [
        "\n",
        "Minibatch loss at step"
       ]
      },
      {
       "output_type": "stream",
       "stream": "stdout",
       "text": [
        " 32000 : 7.4716\n",
        "Minibatch accuracy: 40.6%\n",
        "Validation accuracy at step 32000: 34.8%"
       ]
      },
      {
       "output_type": "stream",
       "stream": "stdout",
       "text": [
        "\n",
        "Minibatch loss at step"
       ]
      },
      {
       "output_type": "stream",
       "stream": "stdout",
       "text": [
        " 33000 : 7.09757\n",
        "Minibatch accuracy: 46.9%\n",
        "Validation accuracy at step 33000: 34.3%"
       ]
      },
      {
       "output_type": "stream",
       "stream": "stdout",
       "text": [
        "\n",
        "Minibatch loss at step"
       ]
      },
      {
       "output_type": "stream",
       "stream": "stdout",
       "text": [
        " 34000 : 7.28866\n",
        "Minibatch accuracy: 46.9%\n",
        "Validation accuracy at step 34000: 36.2%"
       ]
      },
      {
       "output_type": "stream",
       "stream": "stdout",
       "text": [
        "\n",
        "Minibatch loss at step"
       ]
      },
      {
       "output_type": "stream",
       "stream": "stdout",
       "text": [
        " 35000 : 6.9993\n",
        "Minibatch accuracy: 31.2%\n",
        "Validation accuracy at step 35000: 38.7%"
       ]
      },
      {
       "output_type": "stream",
       "stream": "stdout",
       "text": [
        "\n",
        "Test accuracy at step 35000: 38.9%"
       ]
      },
      {
       "output_type": "stream",
       "stream": "stdout",
       "text": [
        "\n",
        "Minibatch loss at step"
       ]
      },
      {
       "output_type": "stream",
       "stream": "stdout",
       "text": [
        " 36000 : 7.99035\n",
        "Minibatch accuracy: 28.1%\n",
        "Validation accuracy at step 36000: 35.3%"
       ]
      },
      {
       "output_type": "stream",
       "stream": "stdout",
       "text": [
        "\n",
        "Minibatch loss at step"
       ]
      },
      {
       "output_type": "stream",
       "stream": "stdout",
       "text": [
        " 37000 : 6.78491\n",
        "Minibatch accuracy: 43.8%\n",
        "Validation accuracy at step 37000: 36.5%"
       ]
      },
      {
       "output_type": "stream",
       "stream": "stdout",
       "text": [
        "\n",
        "Minibatch loss at step"
       ]
      },
      {
       "output_type": "stream",
       "stream": "stdout",
       "text": [
        " 38000 : 6.98465\n",
        "Minibatch accuracy: 43.8%\n",
        "Validation accuracy at step 38000: 37.9%"
       ]
      },
      {
       "output_type": "stream",
       "stream": "stdout",
       "text": [
        "\n",
        "Minibatch loss at step"
       ]
      },
      {
       "output_type": "stream",
       "stream": "stdout",
       "text": [
        " 39000 : 7.50681\n",
        "Minibatch accuracy: 25.0%\n",
        "Validation accuracy at step 39000: 36.2%"
       ]
      },
      {
       "output_type": "stream",
       "stream": "stdout",
       "text": [
        "\n",
        "Minibatch loss at step"
       ]
      },
      {
       "output_type": "stream",
       "stream": "stdout",
       "text": [
        " 40000 : 6.78107\n",
        "Minibatch accuracy: 40.6%\n",
        "Validation accuracy at step 40000: 38.0%"
       ]
      },
      {
       "output_type": "stream",
       "stream": "stdout",
       "text": [
        "\n",
        "Test accuracy at step 40000: 37.9%"
       ]
      },
      {
       "output_type": "stream",
       "stream": "stdout",
       "text": [
        "\n",
        "Minibatch loss at step"
       ]
      },
      {
       "output_type": "stream",
       "stream": "stdout",
       "text": [
        " 41000 : 6.67216\n",
        "Minibatch accuracy: 31.2%\n",
        "Validation accuracy at step 41000: 37.1%"
       ]
      },
      {
       "output_type": "stream",
       "stream": "stdout",
       "text": [
        "\n",
        "Minibatch loss at step"
       ]
      },
      {
       "output_type": "stream",
       "stream": "stdout",
       "text": [
        " 42000 : 6.90985\n",
        "Minibatch accuracy: 21.9%\n",
        "Validation accuracy at step 42000: 38.0%"
       ]
      },
      {
       "output_type": "stream",
       "stream": "stdout",
       "text": [
        "\n",
        "Minibatch loss at step"
       ]
      },
      {
       "output_type": "stream",
       "stream": "stdout",
       "text": [
        " 43000 : 6.69252\n",
        "Minibatch accuracy: 50.0%\n",
        "Validation accuracy at step 43000: 37.6%"
       ]
      },
      {
       "output_type": "stream",
       "stream": "stdout",
       "text": [
        "\n",
        "Minibatch loss at step"
       ]
      },
      {
       "output_type": "stream",
       "stream": "stdout",
       "text": [
        " 44000 : 6.52012\n",
        "Minibatch accuracy: 43.8%\n",
        "Validation accuracy at step 44000: 38.5%"
       ]
      },
      {
       "output_type": "stream",
       "stream": "stdout",
       "text": [
        "\n",
        "Minibatch loss at step"
       ]
      },
      {
       "output_type": "stream",
       "stream": "stdout",
       "text": [
        " 45000 : 6.35587\n",
        "Minibatch accuracy: 46.9%\n",
        "Validation accuracy at step 45000: 40.9%"
       ]
      },
      {
       "output_type": "stream",
       "stream": "stdout",
       "text": [
        "\n",
        "Test accuracy at step 45000: 41.0%"
       ]
      },
      {
       "output_type": "stream",
       "stream": "stdout",
       "text": [
        "\n",
        "Minibatch loss at step"
       ]
      },
      {
       "output_type": "stream",
       "stream": "stdout",
       "text": [
        " 46000 : 6.29486\n",
        "Minibatch accuracy: 25.0%\n",
        "Validation accuracy at step 46000: 40.6%"
       ]
      },
      {
       "output_type": "stream",
       "stream": "stdout",
       "text": [
        "\n",
        "Minibatch loss at step"
       ]
      },
      {
       "output_type": "stream",
       "stream": "stdout",
       "text": [
        " 47000 : 6.31308\n",
        "Minibatch accuracy: 46.9%\n",
        "Validation accuracy at step 47000: 38.2%"
       ]
      },
      {
       "output_type": "stream",
       "stream": "stdout",
       "text": [
        "\n",
        "Minibatch loss at step"
       ]
      },
      {
       "output_type": "stream",
       "stream": "stdout",
       "text": [
        " 48000 : 6.21632\n",
        "Minibatch accuracy: 50.0%\n",
        "Validation accuracy at step 48000: 37.0%"
       ]
      },
      {
       "output_type": "stream",
       "stream": "stdout",
       "text": [
        "\n",
        "Minibatch loss at step"
       ]
      },
      {
       "output_type": "stream",
       "stream": "stdout",
       "text": [
        " 49000 : 6.1232\n",
        "Minibatch accuracy: 37.5%\n",
        "Validation accuracy at step 49000: 38.4%"
       ]
      },
      {
       "output_type": "stream",
       "stream": "stdout",
       "text": [
        "\n",
        "Minibatch loss at step"
       ]
      },
      {
       "output_type": "stream",
       "stream": "stdout",
       "text": [
        " 50000 : 6.42269\n",
        "Minibatch accuracy: 31.2%\n",
        "Validation accuracy at step 50000: 39.0%"
       ]
      },
      {
       "output_type": "stream",
       "stream": "stdout",
       "text": [
        "\n",
        "Test accuracy at step 50000: 39.0%"
       ]
      },
      {
       "output_type": "stream",
       "stream": "stdout",
       "text": [
        "\n",
        "Minibatch loss at step"
       ]
      },
      {
       "output_type": "stream",
       "stream": "stdout",
       "text": [
        " 51000 : 6.47484\n",
        "Minibatch accuracy: 21.9%\n",
        "Validation accuracy at step 51000: 39.7%"
       ]
      },
      {
       "output_type": "stream",
       "stream": "stdout",
       "text": [
        "\n",
        "Minibatch loss at step"
       ]
      },
      {
       "output_type": "stream",
       "stream": "stdout",
       "text": [
        " 52000 : 6.10868\n",
        "Minibatch accuracy: 43.8%\n",
        "Validation accuracy at step 52000: 39.6%"
       ]
      },
      {
       "output_type": "stream",
       "stream": "stdout",
       "text": [
        "\n",
        "Minibatch loss at step"
       ]
      },
      {
       "output_type": "stream",
       "stream": "stdout",
       "text": [
        " 53000 : 5.89522\n",
        "Minibatch accuracy: 43.8%\n",
        "Validation accuracy at step 53000: 40.6%"
       ]
      },
      {
       "output_type": "stream",
       "stream": "stdout",
       "text": [
        "\n",
        "Minibatch loss at step"
       ]
      },
      {
       "output_type": "stream",
       "stream": "stdout",
       "text": [
        " 54000 : 6.24957\n",
        "Minibatch accuracy: 34.4%\n",
        "Validation accuracy at step 54000: 40.2%"
       ]
      },
      {
       "output_type": "stream",
       "stream": "stdout",
       "text": [
        "\n",
        "Minibatch loss at step"
       ]
      },
      {
       "output_type": "stream",
       "stream": "stdout",
       "text": [
        " 55000 : 5.88161\n",
        "Minibatch accuracy: 46.9%\n",
        "Validation accuracy at step 55000: 40.7%"
       ]
      },
      {
       "output_type": "stream",
       "stream": "stdout",
       "text": [
        "\n",
        "Test accuracy at step 55000: 40.8%"
       ]
      },
      {
       "output_type": "stream",
       "stream": "stdout",
       "text": [
        "\n",
        "Minibatch loss at step"
       ]
      },
      {
       "output_type": "stream",
       "stream": "stdout",
       "text": [
        " 56000 : 6.15833\n",
        "Minibatch accuracy: 37.5%\n",
        "Validation accuracy at step 56000: 40.0%"
       ]
      },
      {
       "output_type": "stream",
       "stream": "stdout",
       "text": [
        "\n",
        "Minibatch loss at step"
       ]
      },
      {
       "output_type": "stream",
       "stream": "stdout",
       "text": [
        " 57000 : 6.34244\n",
        "Minibatch accuracy: 25.0%\n",
        "Validation accuracy at step 57000: 38.3%"
       ]
      },
      {
       "output_type": "stream",
       "stream": "stdout",
       "text": [
        "\n",
        "Minibatch loss at step"
       ]
      },
      {
       "output_type": "stream",
       "stream": "stdout",
       "text": [
        " 58000 : 5.95043\n",
        "Minibatch accuracy: 34.4%\n",
        "Validation accuracy at step 58000: 37.8%"
       ]
      },
      {
       "output_type": "stream",
       "stream": "stdout",
       "text": [
        "\n",
        "Minibatch loss at step"
       ]
      },
      {
       "output_type": "stream",
       "stream": "stdout",
       "text": [
        " 59000 : 5.68147\n",
        "Minibatch accuracy: 43.8%\n",
        "Validation accuracy at step 59000: 39.5%"
       ]
      },
      {
       "output_type": "stream",
       "stream": "stdout",
       "text": [
        "\n",
        "Minibatch loss at step"
       ]
      },
      {
       "output_type": "stream",
       "stream": "stdout",
       "text": [
        " 60000 : 5.84618\n",
        "Minibatch accuracy: 25.0%\n",
        "Validation accuracy at step 60000: 41.7%"
       ]
      },
      {
       "output_type": "stream",
       "stream": "stdout",
       "text": [
        "\n",
        "Test accuracy at step 60000: 41.7%"
       ]
      },
      {
       "output_type": "stream",
       "stream": "stdout",
       "text": [
        "\n",
        "Minibatch loss at step"
       ]
      },
      {
       "output_type": "stream",
       "stream": "stdout",
       "text": [
        " 61000 : 5.72719\n",
        "Minibatch accuracy: 37.5%\n",
        "Validation accuracy at step 61000: 42.2%"
       ]
      },
      {
       "output_type": "stream",
       "stream": "stdout",
       "text": [
        "\n",
        "Minibatch loss at step"
       ]
      },
      {
       "output_type": "stream",
       "stream": "stdout",
       "text": [
        " 62000 : 5.42724\n",
        "Minibatch accuracy: 46.9%\n",
        "Validation accuracy at step 62000: 41.5%"
       ]
      },
      {
       "output_type": "stream",
       "stream": "stdout",
       "text": [
        "\n",
        "Minibatch loss at step"
       ]
      },
      {
       "output_type": "stream",
       "stream": "stdout",
       "text": [
        " 63000 : 5.46691\n",
        "Minibatch accuracy: 56.2%\n",
        "Validation accuracy at step 63000: 40.0%"
       ]
      },
      {
       "output_type": "stream",
       "stream": "stdout",
       "text": [
        "\n",
        "Minibatch loss at step"
       ]
      },
      {
       "output_type": "stream",
       "stream": "stdout",
       "text": [
        " 64000 : 5.55758\n",
        "Minibatch accuracy: 46.9%\n",
        "Validation accuracy at step 64000: 41.8%"
       ]
      },
      {
       "output_type": "stream",
       "stream": "stdout",
       "text": [
        "\n",
        "Minibatch loss at step"
       ]
      },
      {
       "output_type": "stream",
       "stream": "stdout",
       "text": [
        " 65000 : 5.52898\n",
        "Minibatch accuracy: 40.6%\n",
        "Validation accuracy at step 65000: 41.4%"
       ]
      },
      {
       "output_type": "stream",
       "stream": "stdout",
       "text": [
        "\n",
        "Test accuracy at step 65000: 41.7%"
       ]
      },
      {
       "output_type": "stream",
       "stream": "stdout",
       "text": [
        "\n",
        "Minibatch loss at step"
       ]
      },
      {
       "output_type": "stream",
       "stream": "stdout",
       "text": [
        " 66000 : 5.78168\n",
        "Minibatch accuracy: 43.8%\n",
        "Validation accuracy at step 66000: 38.5%"
       ]
      },
      {
       "output_type": "stream",
       "stream": "stdout",
       "text": [
        "\n",
        "Minibatch loss at step"
       ]
      },
      {
       "output_type": "stream",
       "stream": "stdout",
       "text": [
        " 67000 : 5.52025\n",
        "Minibatch accuracy: 50.0%\n",
        "Validation accuracy at step 67000: 38.9%"
       ]
      },
      {
       "output_type": "stream",
       "stream": "stdout",
       "text": [
        "\n",
        "Minibatch loss at step"
       ]
      },
      {
       "output_type": "stream",
       "stream": "stdout",
       "text": [
        " 68000 : 5.31573\n",
        "Minibatch accuracy: 56.2%\n",
        "Validation accuracy at step 68000: 41.3%"
       ]
      },
      {
       "output_type": "stream",
       "stream": "stdout",
       "text": [
        "\n",
        "Minibatch loss at step"
       ]
      },
      {
       "output_type": "stream",
       "stream": "stdout",
       "text": [
        " 69000 : 5.31359\n",
        "Minibatch accuracy: 46.9%\n",
        "Validation accuracy at step 69000: 38.8%"
       ]
      },
      {
       "output_type": "stream",
       "stream": "stdout",
       "text": [
        "\n",
        "Minibatch loss at step"
       ]
      },
      {
       "output_type": "stream",
       "stream": "stdout",
       "text": [
        " 70000 : 5.43366\n",
        "Minibatch accuracy: 43.8%\n",
        "Validation accuracy at step 70000: 41.1%"
       ]
      },
      {
       "output_type": "stream",
       "stream": "stdout",
       "text": [
        "\n",
        "Test accuracy at step 70000: 41.4%"
       ]
      },
      {
       "output_type": "stream",
       "stream": "stdout",
       "text": [
        "\n",
        "Minibatch loss at step"
       ]
      },
      {
       "output_type": "stream",
       "stream": "stdout",
       "text": [
        " 71000 : 5.3731\n",
        "Minibatch accuracy: 40.6%\n",
        "Validation accuracy at step 71000: 42.0%"
       ]
      },
      {
       "output_type": "stream",
       "stream": "stdout",
       "text": [
        "\n",
        "Minibatch loss at step"
       ]
      },
      {
       "output_type": "stream",
       "stream": "stdout",
       "text": [
        " 72000 : 5.10335\n",
        "Minibatch accuracy: 53.1%\n",
        "Validation accuracy at step 72000: 40.6%"
       ]
      },
      {
       "output_type": "stream",
       "stream": "stdout",
       "text": [
        "\n",
        "Minibatch loss at step"
       ]
      },
      {
       "output_type": "stream",
       "stream": "stdout",
       "text": [
        " 73000 : 5.3401\n",
        "Minibatch accuracy: 34.4%\n",
        "Validation accuracy at step 73000: 43.1%"
       ]
      },
      {
       "output_type": "stream",
       "stream": "stdout",
       "text": [
        "\n",
        "Minibatch loss at step"
       ]
      },
      {
       "output_type": "stream",
       "stream": "stdout",
       "text": [
        " 74000 : 5.1051\n",
        "Minibatch accuracy: 46.9%\n",
        "Validation accuracy at step 74000: 42.5%"
       ]
      },
      {
       "output_type": "stream",
       "stream": "stdout",
       "text": [
        "\n",
        "Minibatch loss at step"
       ]
      },
      {
       "output_type": "stream",
       "stream": "stdout",
       "text": [
        " 75000 : 5.22435\n",
        "Minibatch accuracy: 37.5%\n",
        "Validation accuracy at step 75000: 42.3%"
       ]
      },
      {
       "output_type": "stream",
       "stream": "stdout",
       "text": [
        "\n",
        "Test accuracy at step 75000: 42.1%"
       ]
      },
      {
       "output_type": "stream",
       "stream": "stdout",
       "text": [
        "\n",
        "Minibatch loss at step"
       ]
      },
      {
       "output_type": "stream",
       "stream": "stdout",
       "text": [
        " 76000 : 5.30697\n",
        "Minibatch accuracy: 37.5%\n",
        "Validation accuracy at step 76000: 41.6%"
       ]
      },
      {
       "output_type": "stream",
       "stream": "stdout",
       "text": [
        "\n",
        "Minibatch loss at step"
       ]
      },
      {
       "output_type": "stream",
       "stream": "stdout",
       "text": [
        " 77000 : 4.99215\n",
        "Minibatch accuracy: 46.9%\n",
        "Validation accuracy at step 77000: 42.8%"
       ]
      },
      {
       "output_type": "stream",
       "stream": "stdout",
       "text": [
        "\n",
        "Minibatch loss at step"
       ]
      },
      {
       "output_type": "stream",
       "stream": "stdout",
       "text": [
        " 78000 : 5.16238\n",
        "Minibatch accuracy: 31.2%\n",
        "Validation accuracy at step 78000: 41.7%"
       ]
      },
      {
       "output_type": "stream",
       "stream": "stdout",
       "text": [
        "\n",
        "Minibatch loss at step"
       ]
      },
      {
       "output_type": "stream",
       "stream": "stdout",
       "text": [
        " 79000 : 5.07566\n",
        "Minibatch accuracy: 37.5%\n",
        "Validation accuracy at step 79000: 43.1%"
       ]
      },
      {
       "output_type": "stream",
       "stream": "stdout",
       "text": [
        "\n",
        "Minibatch loss at step"
       ]
      },
      {
       "output_type": "stream",
       "stream": "stdout",
       "text": [
        " 80000 : 4.77373\n",
        "Minibatch accuracy: 43.8%\n",
        "Validation accuracy at step 80000: 43.2%"
       ]
      },
      {
       "output_type": "stream",
       "stream": "stdout",
       "text": [
        "\n",
        "Test accuracy at step 80000: 43.1%"
       ]
      },
      {
       "output_type": "stream",
       "stream": "stdout",
       "text": [
        "\n",
        "Minibatch loss at step"
       ]
      },
      {
       "output_type": "stream",
       "stream": "stdout",
       "text": [
        " 81000 : 5.11215\n",
        "Minibatch accuracy: 43.8%\n",
        "Validation accuracy at step 81000: 41.7%"
       ]
      },
      {
       "output_type": "stream",
       "stream": "stdout",
       "text": [
        "\n",
        "Minibatch loss at step"
       ]
      },
      {
       "output_type": "stream",
       "stream": "stdout",
       "text": [
        " 82000 : 4.72766\n",
        "Minibatch accuracy: 46.9%\n",
        "Validation accuracy at step 82000: 42.7%"
       ]
      },
      {
       "output_type": "stream",
       "stream": "stdout",
       "text": [
        "\n",
        "Minibatch loss at step"
       ]
      },
      {
       "output_type": "stream",
       "stream": "stdout",
       "text": [
        " 83000 : 5.07922\n",
        "Minibatch accuracy: 37.5%\n",
        "Validation accuracy at step 83000: 42.5%"
       ]
      },
      {
       "output_type": "stream",
       "stream": "stdout",
       "text": [
        "\n",
        "Minibatch loss at step"
       ]
      },
      {
       "output_type": "stream",
       "stream": "stdout",
       "text": [
        " 84000 : 5.09179\n",
        "Minibatch accuracy: 37.5%\n",
        "Validation accuracy at step 84000: 41.8%"
       ]
      },
      {
       "output_type": "stream",
       "stream": "stdout",
       "text": [
        "\n",
        "Minibatch loss at step"
       ]
      },
      {
       "output_type": "stream",
       "stream": "stdout",
       "text": [
        " 85000 : 4.66535\n",
        "Minibatch accuracy: 46.9%\n",
        "Validation accuracy at step 85000: 44.5%"
       ]
      },
      {
       "output_type": "stream",
       "stream": "stdout",
       "text": [
        "\n",
        "Test accuracy at step 85000: 44.9%"
       ]
      },
      {
       "output_type": "stream",
       "stream": "stdout",
       "text": [
        "\n",
        "Minibatch loss at step"
       ]
      },
      {
       "output_type": "stream",
       "stream": "stdout",
       "text": [
        " 86000 : 4.68235\n",
        "Minibatch accuracy: 46.9%\n",
        "Validation accuracy at step 86000: 43.6%"
       ]
      },
      {
       "output_type": "stream",
       "stream": "stdout",
       "text": [
        "\n",
        "Minibatch loss at step"
       ]
      },
      {
       "output_type": "stream",
       "stream": "stdout",
       "text": [
        " 87000 : 4.49145\n",
        "Minibatch accuracy: 50.0%\n",
        "Validation accuracy at step 87000: 42.9%"
       ]
      },
      {
       "output_type": "stream",
       "stream": "stdout",
       "text": [
        "\n",
        "Minibatch loss at step"
       ]
      },
      {
       "output_type": "stream",
       "stream": "stdout",
       "text": [
        " 88000 : 4.6341\n",
        "Minibatch accuracy: 40.6%\n",
        "Validation accuracy at step 88000: 43.6%"
       ]
      },
      {
       "output_type": "stream",
       "stream": "stdout",
       "text": [
        "\n",
        "Minibatch loss at step"
       ]
      },
      {
       "output_type": "stream",
       "stream": "stdout",
       "text": [
        " 89000 : 4.5717\n",
        "Minibatch accuracy: 53.1%\n",
        "Validation accuracy at step 89000: 41.9%"
       ]
      },
      {
       "output_type": "stream",
       "stream": "stdout",
       "text": [
        "\n",
        "Minibatch loss at step"
       ]
      },
      {
       "output_type": "stream",
       "stream": "stdout",
       "text": [
        " 90000 : 4.87707\n",
        "Minibatch accuracy: 31.2%\n",
        "Validation accuracy at step 90000: 44.3%"
       ]
      },
      {
       "output_type": "stream",
       "stream": "stdout",
       "text": [
        "\n",
        "Test accuracy at step 90000: 44.0%"
       ]
      },
      {
       "output_type": "stream",
       "stream": "stdout",
       "text": [
        "\n",
        "Minibatch loss at step"
       ]
      },
      {
       "output_type": "stream",
       "stream": "stdout",
       "text": [
        " 91000 : 4.84826\n",
        "Minibatch accuracy: 40.6%\n",
        "Validation accuracy at step 91000: 44.4%"
       ]
      },
      {
       "output_type": "stream",
       "stream": "stdout",
       "text": [
        "\n",
        "Minibatch loss at step"
       ]
      },
      {
       "output_type": "stream",
       "stream": "stdout",
       "text": [
        " 92000 : 4.46969\n",
        "Minibatch accuracy: 40.6%\n",
        "Validation accuracy at step 92000: 44.0%"
       ]
      },
      {
       "output_type": "stream",
       "stream": "stdout",
       "text": [
        "\n",
        "Minibatch loss at step"
       ]
      },
      {
       "output_type": "stream",
       "stream": "stdout",
       "text": [
        " 93000 : 4.88783\n",
        "Minibatch accuracy: 31.2%\n",
        "Validation accuracy at step 93000: 43.9%"
       ]
      },
      {
       "output_type": "stream",
       "stream": "stdout",
       "text": [
        "\n",
        "Minibatch loss at step"
       ]
      },
      {
       "output_type": "stream",
       "stream": "stdout",
       "text": [
        " 94000 : 4.64717\n",
        "Minibatch accuracy: 34.4%\n",
        "Validation accuracy at step 94000: 44.5%"
       ]
      },
      {
       "output_type": "stream",
       "stream": "stdout",
       "text": [
        "\n",
        "Minibatch loss at step"
       ]
      },
      {
       "output_type": "stream",
       "stream": "stdout",
       "text": [
        " 95000 : 4.55931\n",
        "Minibatch accuracy: 37.5%\n",
        "Validation accuracy at step 95000: 44.0%"
       ]
      },
      {
       "output_type": "stream",
       "stream": "stdout",
       "text": [
        "\n",
        "Test accuracy at step 95000: 44.4%"
       ]
      },
      {
       "output_type": "stream",
       "stream": "stdout",
       "text": [
        "\n",
        "Minibatch loss at step"
       ]
      },
      {
       "output_type": "stream",
       "stream": "stdout",
       "text": [
        " 96000 : 4.84241\n",
        "Minibatch accuracy: 40.6%\n",
        "Validation accuracy at step 96000: 45.7%"
       ]
      },
      {
       "output_type": "stream",
       "stream": "stdout",
       "text": [
        "\n",
        "Minibatch loss at step"
       ]
      },
      {
       "output_type": "stream",
       "stream": "stdout",
       "text": [
        " 97000 : 4.50249\n",
        "Minibatch accuracy: 46.9%\n",
        "Validation accuracy at step 97000: 45.0%"
       ]
      },
      {
       "output_type": "stream",
       "stream": "stdout",
       "text": [
        "\n",
        "Minibatch loss at step"
       ]
      },
      {
       "output_type": "stream",
       "stream": "stdout",
       "text": [
        " 98000 : 4.3653\n",
        "Minibatch accuracy: 59.4%\n",
        "Validation accuracy at step 98000: 43.4%"
       ]
      },
      {
       "output_type": "stream",
       "stream": "stdout",
       "text": [
        "\n",
        "Minibatch loss at step"
       ]
      },
      {
       "output_type": "stream",
       "stream": "stdout",
       "text": [
        " 99000 : 4.43879\n",
        "Minibatch accuracy: 40.6%\n",
        "Validation accuracy at step 99000: 43.7%"
       ]
      },
      {
       "output_type": "stream",
       "stream": "stdout",
       "text": [
        "\n",
        "Minibatch loss at step"
       ]
      },
      {
       "output_type": "stream",
       "stream": "stdout",
       "text": [
        " 100000 : 4.35159\n",
        "Minibatch accuracy: 46.9%\n",
        "Validation accuracy at step 100000: 45.2%"
       ]
      },
      {
       "output_type": "stream",
       "stream": "stdout",
       "text": [
        "\n",
        "Test accuracy at step 100000: 45.1%\n"
       ]
      },
      {
       "output_type": "stream",
       "stream": "stdout",
       "text": [
        "\n",
        "Elapsed time: 1.59629146364 hours\n",
        "The best validation accuracy was 45.74 at step 96000"
       ]
      },
      {
       "output_type": "stream",
       "stream": "stdout",
       "text": [
        "\n",
        "The best test accuracy was 45.14 at step 100000\n"
       ]
      }
     ],
     "prompt_number": 27
    },
    {
     "cell_type": "code",
     "collapsed": false,
     "input": [
      "# Smaller learning rate with twice as many steps\n",
      "model = create_inception_module_model(learning_rate = 0.000125, l2_lambda = 0.025, feature_maps = 26, initialised_weights_stddev = 0.5, decay_steps = 10000, decay_rate = 0.96)\n",
      "steps_to_validation_predictions, steps_to_test_predictions = train_model(model, 200001, dropout_keep_prob = 0.9)\n",
      "correct_prediction_indexes, incorrect_prediction_indexes = visualise_accuracies(steps_to_validation_predictions, steps_to_test_predictions)"
     ],
     "language": "python",
     "metadata": {},
     "outputs": [
      {
       "output_type": "stream",
       "stream": "stdout",
       "text": [
        "Initialized\n",
        "Minibatch loss at step"
       ]
      },
      {
       "output_type": "stream",
       "stream": "stdout",
       "text": [
        " 0 : 606.286\n",
        "Minibatch accuracy: 6.2%\n",
        "Validation accuracy at step 0: 10.2%"
       ]
      },
      {
       "output_type": "stream",
       "stream": "stdout",
       "text": [
        "\n",
        "Minibatch loss at step"
       ]
      },
      {
       "output_type": "stream",
       "stream": "stdout",
       "text": [
        " 1000 : 22.5646\n",
        "Minibatch accuracy: 21.9%\n",
        "Validation accuracy at step 1000: 17.0%"
       ]
      },
      {
       "output_type": "stream",
       "stream": "stdout",
       "text": [
        "\n",
        "Minibatch loss at step"
       ]
      },
      {
       "output_type": "stream",
       "stream": "stdout",
       "text": [
        " 2000 : 19.8021\n",
        "Minibatch accuracy: 9.4%\n",
        "Validation accuracy at step 2000: 18.2%"
       ]
      },
      {
       "output_type": "stream",
       "stream": "stdout",
       "text": [
        "\n",
        "Minibatch loss at step"
       ]
      },
      {
       "output_type": "stream",
       "stream": "stdout",
       "text": [
        " 3000 : 15.9605\n",
        "Minibatch accuracy: 18.8%\n",
        "Validation accuracy at step 3000: 21.5%"
       ]
      },
      {
       "output_type": "stream",
       "stream": "stdout",
       "text": [
        "\n",
        "Minibatch loss at step"
       ]
      },
      {
       "output_type": "stream",
       "stream": "stdout",
       "text": [
        " 4000 : 15.0946\n",
        "Minibatch accuracy: 12.5%\n",
        "Validation accuracy at step 4000: 22.4%"
       ]
      },
      {
       "output_type": "stream",
       "stream": "stdout",
       "text": [
        "\n",
        "Minibatch loss at step"
       ]
      },
      {
       "output_type": "stream",
       "stream": "stdout",
       "text": [
        " 5000 : 11.5759\n",
        "Minibatch accuracy: 18.8%\n",
        "Validation accuracy at step 5000: 22.3%"
       ]
      },
      {
       "output_type": "stream",
       "stream": "stdout",
       "text": [
        "\n",
        "Test accuracy at step 5000: 22.4%"
       ]
      },
      {
       "output_type": "stream",
       "stream": "stdout",
       "text": [
        "\n",
        "Minibatch loss at step"
       ]
      },
      {
       "output_type": "stream",
       "stream": "stdout",
       "text": [
        " 6000 : 10.8389\n",
        "Minibatch accuracy: 31.2%\n",
        "Validation accuracy at step 6000: 23.6%"
       ]
      },
      {
       "output_type": "stream",
       "stream": "stdout",
       "text": [
        "\n",
        "Minibatch loss at step"
       ]
      },
      {
       "output_type": "stream",
       "stream": "stdout",
       "text": [
        " 7000 : 12.0129\n",
        "Minibatch accuracy: 15.6%\n",
        "Validation accuracy at step 7000: 19.3%"
       ]
      },
      {
       "output_type": "stream",
       "stream": "stdout",
       "text": [
        "\n",
        "Minibatch loss at step"
       ]
      },
      {
       "output_type": "stream",
       "stream": "stdout",
       "text": [
        " 8000 : 12.2672\n",
        "Minibatch accuracy: 28.1%\n",
        "Validation accuracy at step 8000: 25.6%"
       ]
      },
      {
       "output_type": "stream",
       "stream": "stdout",
       "text": [
        "\n",
        "Minibatch loss at step"
       ]
      },
      {
       "output_type": "stream",
       "stream": "stdout",
       "text": [
        " 9000 : 10.7511\n",
        "Minibatch accuracy: 37.5%\n",
        "Validation accuracy at step 9000: 23.7%"
       ]
      },
      {
       "output_type": "stream",
       "stream": "stdout",
       "text": [
        "\n",
        "Minibatch loss at step"
       ]
      },
      {
       "output_type": "stream",
       "stream": "stdout",
       "text": [
        " 10000 : 11.2593\n",
        "Minibatch accuracy: 25.0%\n",
        "Validation accuracy at step 10000: 21.8%"
       ]
      },
      {
       "output_type": "stream",
       "stream": "stdout",
       "text": [
        "\n",
        "Test accuracy at step 10000: 23.0%"
       ]
      },
      {
       "output_type": "stream",
       "stream": "stdout",
       "text": [
        "\n",
        "Minibatch loss at step"
       ]
      },
      {
       "output_type": "stream",
       "stream": "stdout",
       "text": [
        " 11000 : 11.8895\n",
        "Minibatch accuracy: 21.9%\n",
        "Validation accuracy at step 11000: 25.2%"
       ]
      },
      {
       "output_type": "stream",
       "stream": "stdout",
       "text": [
        "\n",
        "Minibatch loss at step"
       ]
      },
      {
       "output_type": "stream",
       "stream": "stdout",
       "text": [
        " 12000 : 10.7527\n",
        "Minibatch accuracy: 28.1%\n",
        "Validation accuracy at step 12000: 24.3%"
       ]
      },
      {
       "output_type": "stream",
       "stream": "stdout",
       "text": [
        "\n",
        "Minibatch loss at step"
       ]
      },
      {
       "output_type": "stream",
       "stream": "stdout",
       "text": [
        " 13000 : 12.9532\n",
        "Minibatch accuracy: 15.6%\n",
        "Validation accuracy at step 13000: 27.1%"
       ]
      },
      {
       "output_type": "stream",
       "stream": "stdout",
       "text": [
        "\n",
        "Minibatch loss at step"
       ]
      },
      {
       "output_type": "stream",
       "stream": "stdout",
       "text": [
        " 14000 : 11.6115\n",
        "Minibatch accuracy: 3.1%\n",
        "Validation accuracy at step 14000: 22.9%"
       ]
      },
      {
       "output_type": "stream",
       "stream": "stdout",
       "text": [
        "\n",
        "Minibatch loss at step"
       ]
      },
      {
       "output_type": "stream",
       "stream": "stdout",
       "text": [
        " 15000 : 9.61823\n",
        "Minibatch accuracy: 31.2%\n",
        "Validation accuracy at step 15000: 26.1%"
       ]
      },
      {
       "output_type": "stream",
       "stream": "stdout",
       "text": [
        "\n",
        "Test accuracy at step 15000: 27.3%"
       ]
      },
      {
       "output_type": "stream",
       "stream": "stdout",
       "text": [
        "\n",
        "Minibatch loss at step"
       ]
      },
      {
       "output_type": "stream",
       "stream": "stdout",
       "text": [
        " 16000 : 9.90346\n",
        "Minibatch accuracy: 31.2%\n",
        "Validation accuracy at step 16000: 26.5%"
       ]
      },
      {
       "output_type": "stream",
       "stream": "stdout",
       "text": [
        "\n",
        "Minibatch loss at step"
       ]
      },
      {
       "output_type": "stream",
       "stream": "stdout",
       "text": [
        " 17000 : 10.1106\n",
        "Minibatch accuracy: 28.1%\n",
        "Validation accuracy at step 17000: 29.9%"
       ]
      },
      {
       "output_type": "stream",
       "stream": "stdout",
       "text": [
        "\n",
        "Minibatch loss at step"
       ]
      },
      {
       "output_type": "stream",
       "stream": "stdout",
       "text": [
        " 18000 : 9.64151\n",
        "Minibatch accuracy: 21.9%\n",
        "Validation accuracy at step 18000: 29.1%"
       ]
      },
      {
       "output_type": "stream",
       "stream": "stdout",
       "text": [
        "\n",
        "Minibatch loss at step"
       ]
      },
      {
       "output_type": "stream",
       "stream": "stdout",
       "text": [
        " 19000 : 9.32262\n",
        "Minibatch accuracy: 46.9%\n",
        "Validation accuracy at step 19000: 26.5%"
       ]
      },
      {
       "output_type": "stream",
       "stream": "stdout",
       "text": [
        "\n",
        "Minibatch loss at step"
       ]
      },
      {
       "output_type": "stream",
       "stream": "stdout",
       "text": [
        " 20000 : 9.38327\n",
        "Minibatch accuracy: 28.1%\n",
        "Validation accuracy at step 20000: 22.0%"
       ]
      },
      {
       "output_type": "stream",
       "stream": "stdout",
       "text": [
        "\n",
        "Test accuracy at step 20000: 22.8%"
       ]
      },
      {
       "output_type": "stream",
       "stream": "stdout",
       "text": [
        "\n",
        "Minibatch loss at step"
       ]
      },
      {
       "output_type": "stream",
       "stream": "stdout",
       "text": [
        " 21000 : 9.05257\n",
        "Minibatch accuracy: 15.6%\n",
        "Validation accuracy at step 21000: 27.1%"
       ]
      },
      {
       "output_type": "stream",
       "stream": "stdout",
       "text": [
        "\n",
        "Minibatch loss at step"
       ]
      },
      {
       "output_type": "stream",
       "stream": "stdout",
       "text": [
        " 22000 : 9.60688\n",
        "Minibatch accuracy: 31.2%\n",
        "Validation accuracy at step 22000: 28.5%"
       ]
      },
      {
       "output_type": "stream",
       "stream": "stdout",
       "text": [
        "\n",
        "Minibatch loss at step"
       ]
      },
      {
       "output_type": "stream",
       "stream": "stdout",
       "text": [
        " 23000 : 9.32369\n",
        "Minibatch accuracy: 25.0%\n",
        "Validation accuracy at step 23000: 31.3%"
       ]
      },
      {
       "output_type": "stream",
       "stream": "stdout",
       "text": [
        "\n",
        "Minibatch loss at step"
       ]
      },
      {
       "output_type": "stream",
       "stream": "stdout",
       "text": [
        " 24000 : 9.38525\n",
        "Minibatch accuracy: 28.1%\n",
        "Validation accuracy at step 24000: 30.6%"
       ]
      },
      {
       "output_type": "stream",
       "stream": "stdout",
       "text": [
        "\n",
        "Minibatch loss at step"
       ]
      },
      {
       "output_type": "stream",
       "stream": "stdout",
       "text": [
        " 25000 : 9.02193\n",
        "Minibatch accuracy: 37.5%\n",
        "Validation accuracy at step 25000: 31.0%"
       ]
      },
      {
       "output_type": "stream",
       "stream": "stdout",
       "text": [
        "\n",
        "Test accuracy at step 25000: 31.6%"
       ]
      },
      {
       "output_type": "stream",
       "stream": "stdout",
       "text": [
        "\n",
        "Minibatch loss at step"
       ]
      },
      {
       "output_type": "stream",
       "stream": "stdout",
       "text": [
        " 26000 : 8.92648\n",
        "Minibatch accuracy: 37.5%\n",
        "Validation accuracy at step 26000: 30.9%"
       ]
      },
      {
       "output_type": "stream",
       "stream": "stdout",
       "text": [
        "\n",
        "Minibatch loss at step"
       ]
      },
      {
       "output_type": "stream",
       "stream": "stdout",
       "text": [
        " 27000 : 8.52887\n",
        "Minibatch accuracy: 40.6%\n",
        "Validation accuracy at step 27000: 30.8%"
       ]
      },
      {
       "output_type": "stream",
       "stream": "stdout",
       "text": [
        "\n",
        "Minibatch loss at step"
       ]
      },
      {
       "output_type": "stream",
       "stream": "stdout",
       "text": [
        " 28000 : 8.98282\n",
        "Minibatch accuracy: 21.9%\n",
        "Validation accuracy at step 28000: 30.1%"
       ]
      },
      {
       "output_type": "stream",
       "stream": "stdout",
       "text": [
        "\n",
        "Minibatch loss at step"
       ]
      },
      {
       "output_type": "stream",
       "stream": "stdout",
       "text": [
        " 29000 : 8.92468\n",
        "Minibatch accuracy: 28.1%\n",
        "Validation accuracy at step 29000: 31.5%"
       ]
      },
      {
       "output_type": "stream",
       "stream": "stdout",
       "text": [
        "\n",
        "Minibatch loss at step"
       ]
      },
      {
       "output_type": "stream",
       "stream": "stdout",
       "text": [
        " 30000 : 8.66822\n",
        "Minibatch accuracy: 43.8%\n",
        "Validation accuracy at step 30000: 25.9%"
       ]
      },
      {
       "output_type": "stream",
       "stream": "stdout",
       "text": [
        "\n",
        "Test accuracy at step 30000: 26.9%"
       ]
      },
      {
       "output_type": "stream",
       "stream": "stdout",
       "text": [
        "\n",
        "Minibatch loss at step"
       ]
      },
      {
       "output_type": "stream",
       "stream": "stdout",
       "text": [
        " 31000 : 8.64119\n",
        "Minibatch accuracy: 40.6%\n",
        "Validation accuracy at step 31000: 31.0%"
       ]
      },
      {
       "output_type": "stream",
       "stream": "stdout",
       "text": [
        "\n",
        "Minibatch loss at step"
       ]
      },
      {
       "output_type": "stream",
       "stream": "stdout",
       "text": [
        " 32000 : 8.59013\n",
        "Minibatch accuracy: 28.1%\n",
        "Validation accuracy at step 32000: 29.1%"
       ]
      },
      {
       "output_type": "stream",
       "stream": "stdout",
       "text": [
        "\n",
        "Minibatch loss at step"
       ]
      },
      {
       "output_type": "stream",
       "stream": "stdout",
       "text": [
        " 33000 : 8.03676\n",
        "Minibatch accuracy: 37.5%\n",
        "Validation accuracy at step 33000: 32.6%"
       ]
      },
      {
       "output_type": "stream",
       "stream": "stdout",
       "text": [
        "\n",
        "Minibatch loss at step"
       ]
      },
      {
       "output_type": "stream",
       "stream": "stdout",
       "text": [
        " 34000 : 8.55629\n",
        "Minibatch accuracy: 25.0%\n",
        "Validation accuracy at step 34000: 32.8%"
       ]
      },
      {
       "output_type": "stream",
       "stream": "stdout",
       "text": [
        "\n",
        "Minibatch loss at step"
       ]
      },
      {
       "output_type": "stream",
       "stream": "stdout",
       "text": [
        " 35000 : 8.47302\n",
        "Minibatch accuracy: 31.2%\n",
        "Validation accuracy at step 35000: 32.7%"
       ]
      },
      {
       "output_type": "stream",
       "stream": "stdout",
       "text": [
        "\n",
        "Test accuracy at step 35000: 32.9%"
       ]
      },
      {
       "output_type": "stream",
       "stream": "stdout",
       "text": [
        "\n",
        "Minibatch loss at step"
       ]
      },
      {
       "output_type": "stream",
       "stream": "stdout",
       "text": [
        " 36000 : 8.88218\n",
        "Minibatch accuracy: 21.9%\n",
        "Validation accuracy at step 36000: 32.1%"
       ]
      },
      {
       "output_type": "stream",
       "stream": "stdout",
       "text": [
        "\n",
        "Minibatch loss at step"
       ]
      },
      {
       "output_type": "stream",
       "stream": "stdout",
       "text": [
        " 37000 : 8.00915\n",
        "Minibatch accuracy: 31.2%\n",
        "Validation accuracy at step 37000: 32.9%"
       ]
      },
      {
       "output_type": "stream",
       "stream": "stdout",
       "text": [
        "\n",
        "Minibatch loss at step"
       ]
      },
      {
       "output_type": "stream",
       "stream": "stdout",
       "text": [
        " 38000 : 8.5726\n",
        "Minibatch accuracy: 43.8%\n",
        "Validation accuracy at step 38000: 34.2%"
       ]
      },
      {
       "output_type": "stream",
       "stream": "stdout",
       "text": [
        "\n",
        "Minibatch loss at step"
       ]
      },
      {
       "output_type": "stream",
       "stream": "stdout",
       "text": [
        " 39000 : 8.90174\n",
        "Minibatch accuracy: 21.9%\n",
        "Validation accuracy at step 39000: 32.9%"
       ]
      },
      {
       "output_type": "stream",
       "stream": "stdout",
       "text": [
        "\n",
        "Minibatch loss at step"
       ]
      },
      {
       "output_type": "stream",
       "stream": "stdout",
       "text": [
        " 40000 : 8.23529\n",
        "Minibatch accuracy: 25.0%\n",
        "Validation accuracy at step 40000: 31.7%"
       ]
      },
      {
       "output_type": "stream",
       "stream": "stdout",
       "text": [
        "\n",
        "Test accuracy at step 40000: 32.2%"
       ]
      },
      {
       "output_type": "stream",
       "stream": "stdout",
       "text": [
        "\n",
        "Minibatch loss at step"
       ]
      },
      {
       "output_type": "stream",
       "stream": "stdout",
       "text": [
        " 41000 : 8.62256\n",
        "Minibatch accuracy: 18.8%\n",
        "Validation accuracy at step 41000: 30.3%"
       ]
      },
      {
       "output_type": "stream",
       "stream": "stdout",
       "text": [
        "\n",
        "Minibatch loss at step"
       ]
      },
      {
       "output_type": "stream",
       "stream": "stdout",
       "text": [
        " 42000 : 8.29766\n",
        "Minibatch accuracy: 21.9%\n",
        "Validation accuracy at step 42000: 34.0%"
       ]
      },
      {
       "output_type": "stream",
       "stream": "stdout",
       "text": [
        "\n",
        "Minibatch loss at step"
       ]
      },
      {
       "output_type": "stream",
       "stream": "stdout",
       "text": [
        " 43000 : 8.20239\n",
        "Minibatch accuracy: 37.5%\n",
        "Validation accuracy at step 43000: 33.8%"
       ]
      },
      {
       "output_type": "stream",
       "stream": "stdout",
       "text": [
        "\n",
        "Minibatch loss at step"
       ]
      },
      {
       "output_type": "stream",
       "stream": "stdout",
       "text": [
        " 44000 : 7.92317\n",
        "Minibatch accuracy: 34.4%\n",
        "Validation accuracy at step 44000: 35.9%"
       ]
      },
      {
       "output_type": "stream",
       "stream": "stdout",
       "text": [
        "\n",
        "Minibatch loss at step"
       ]
      },
      {
       "output_type": "stream",
       "stream": "stdout",
       "text": [
        " 45000 : 7.75664\n",
        "Minibatch accuracy: 37.5%\n",
        "Validation accuracy at step 45000: 35.3%"
       ]
      },
      {
       "output_type": "stream",
       "stream": "stdout",
       "text": [
        "\n",
        "Test accuracy at step 45000: 34.5%"
       ]
      },
      {
       "output_type": "stream",
       "stream": "stdout",
       "text": [
        "\n",
        "Minibatch loss at step"
       ]
      },
      {
       "output_type": "stream",
       "stream": "stdout",
       "text": [
        " 46000 : 7.50976\n",
        "Minibatch accuracy: 40.6%\n",
        "Validation accuracy at step 46000: 36.4%"
       ]
      },
      {
       "output_type": "stream",
       "stream": "stdout",
       "text": [
        "\n",
        "Minibatch loss at step"
       ]
      },
      {
       "output_type": "stream",
       "stream": "stdout",
       "text": [
        " 47000 : 7.742\n",
        "Minibatch accuracy: 40.6%\n",
        "Validation accuracy at step 47000: 33.7%"
       ]
      },
      {
       "output_type": "stream",
       "stream": "stdout",
       "text": [
        "\n",
        "Minibatch loss at step"
       ]
      },
      {
       "output_type": "stream",
       "stream": "stdout",
       "text": [
        " 48000 : 7.5962\n",
        "Minibatch accuracy: 37.5%\n",
        "Validation accuracy at step 48000: 33.4%"
       ]
      },
      {
       "output_type": "stream",
       "stream": "stdout",
       "text": [
        "\n",
        "Minibatch loss at step"
       ]
      },
      {
       "output_type": "stream",
       "stream": "stdout",
       "text": [
        " 49000 : 7.36786\n",
        "Minibatch accuracy: 56.2%\n",
        "Validation accuracy at step 49000: 33.9%"
       ]
      },
      {
       "output_type": "stream",
       "stream": "stdout",
       "text": [
        "\n",
        "Minibatch loss at step"
       ]
      },
      {
       "output_type": "stream",
       "stream": "stdout",
       "text": [
        " 50000 : 7.91701\n",
        "Minibatch accuracy: 21.9%\n",
        "Validation accuracy at step 50000: 32.0%"
       ]
      },
      {
       "output_type": "stream",
       "stream": "stdout",
       "text": [
        "\n",
        "Test accuracy at step 50000: 32.1%"
       ]
      },
      {
       "output_type": "stream",
       "stream": "stdout",
       "text": [
        "\n",
        "Minibatch loss at step"
       ]
      },
      {
       "output_type": "stream",
       "stream": "stdout",
       "text": [
        " 51000 : 7.78496\n",
        "Minibatch accuracy: 21.9%\n",
        "Validation accuracy at step 51000: 33.6%"
       ]
      },
      {
       "output_type": "stream",
       "stream": "stdout",
       "text": [
        "\n",
        "Minibatch loss at step"
       ]
      },
      {
       "output_type": "stream",
       "stream": "stdout",
       "text": [
        " 52000 : 7.50175\n",
        "Minibatch accuracy: 43.8%\n",
        "Validation accuracy at step 52000: 36.3%"
       ]
      },
      {
       "output_type": "stream",
       "stream": "stdout",
       "text": [
        "\n",
        "Minibatch loss at step"
       ]
      },
      {
       "output_type": "stream",
       "stream": "stdout",
       "text": [
        " 53000 : 7.37961\n",
        "Minibatch accuracy: 43.8%\n",
        "Validation accuracy at step 53000: 36.5%"
       ]
      },
      {
       "output_type": "stream",
       "stream": "stdout",
       "text": [
        "\n",
        "Minibatch loss at step"
       ]
      },
      {
       "output_type": "stream",
       "stream": "stdout",
       "text": [
        " 54000 : 7.63169\n",
        "Minibatch accuracy: 31.2%\n",
        "Validation accuracy at step 54000: 35.6%"
       ]
      },
      {
       "output_type": "stream",
       "stream": "stdout",
       "text": [
        "\n",
        "Minibatch loss at step"
       ]
      },
      {
       "output_type": "stream",
       "stream": "stdout",
       "text": [
        " 55000 : 7.22066\n",
        "Minibatch accuracy: 50.0%\n",
        "Validation accuracy at step 55000: 37.2%"
       ]
      },
      {
       "output_type": "stream",
       "stream": "stdout",
       "text": [
        "\n",
        "Test accuracy at step 55000: 37.3%"
       ]
      },
      {
       "output_type": "stream",
       "stream": "stdout",
       "text": [
        "\n",
        "Minibatch loss at step"
       ]
      },
      {
       "output_type": "stream",
       "stream": "stdout",
       "text": [
        " 56000 : 7.35966\n",
        "Minibatch accuracy: 43.8%\n",
        "Validation accuracy at step 56000: 37.4%"
       ]
      },
      {
       "output_type": "stream",
       "stream": "stdout",
       "text": [
        "\n",
        "Minibatch loss at step"
       ]
      },
      {
       "output_type": "stream",
       "stream": "stdout",
       "text": [
        " 57000 : 8.03649\n",
        "Minibatch accuracy: 25.0%\n",
        "Validation accuracy at step 57000: 33.7%"
       ]
      },
      {
       "output_type": "stream",
       "stream": "stdout",
       "text": [
        "\n",
        "Minibatch loss at step"
       ]
      },
      {
       "output_type": "stream",
       "stream": "stdout",
       "text": [
        " 58000 : 7.59289\n",
        "Minibatch accuracy: 28.1%\n",
        "Validation accuracy at step 58000: 37.1%"
       ]
      },
      {
       "output_type": "stream",
       "stream": "stdout",
       "text": [
        "\n",
        "Minibatch loss at step"
       ]
      },
      {
       "output_type": "stream",
       "stream": "stdout",
       "text": [
        " 59000 : 7.14865\n",
        "Minibatch accuracy: 40.6%\n",
        "Validation accuracy at step 59000: 37.4%"
       ]
      },
      {
       "output_type": "stream",
       "stream": "stdout",
       "text": [
        "\n",
        "Minibatch loss at step"
       ]
      },
      {
       "output_type": "stream",
       "stream": "stdout",
       "text": [
        " 60000 : 7.45883\n",
        "Minibatch accuracy: 34.4%\n",
        "Validation accuracy at step 60000: 38.6%"
       ]
      },
      {
       "output_type": "stream",
       "stream": "stdout",
       "text": [
        "\n",
        "Test accuracy at step 60000: 38.0%"
       ]
      },
      {
       "output_type": "stream",
       "stream": "stdout",
       "text": [
        "\n",
        "Minibatch loss at step"
       ]
      },
      {
       "output_type": "stream",
       "stream": "stdout",
       "text": [
        " 61000 : 7.19682\n",
        "Minibatch accuracy: 31.2%\n",
        "Validation accuracy at step 61000: 39.5%"
       ]
      },
      {
       "output_type": "stream",
       "stream": "stdout",
       "text": [
        "\n",
        "Minibatch loss at step"
       ]
      },
      {
       "output_type": "stream",
       "stream": "stdout",
       "text": [
        " 62000 : 7.20321\n",
        "Minibatch accuracy: 43.8%\n",
        "Validation accuracy at step 62000: 38.4%"
       ]
      },
      {
       "output_type": "stream",
       "stream": "stdout",
       "text": [
        "\n",
        "Minibatch loss at step"
       ]
      },
      {
       "output_type": "stream",
       "stream": "stdout",
       "text": [
        " 63000 : 7.12775\n",
        "Minibatch accuracy: 37.5%\n",
        "Validation accuracy at step 63000: 35.8%"
       ]
      },
      {
       "output_type": "stream",
       "stream": "stdout",
       "text": [
        "\n",
        "Minibatch loss at step"
       ]
      },
      {
       "output_type": "stream",
       "stream": "stdout",
       "text": [
        " 64000 : 7.23955\n",
        "Minibatch accuracy: 31.2%\n",
        "Validation accuracy at step 64000: 37.7%"
       ]
      },
      {
       "output_type": "stream",
       "stream": "stdout",
       "text": [
        "\n",
        "Minibatch loss at step"
       ]
      },
      {
       "output_type": "stream",
       "stream": "stdout",
       "text": [
        " 65000 : 7.48254\n",
        "Minibatch accuracy: 34.4%\n",
        "Validation accuracy at step 65000: 36.1%"
       ]
      },
      {
       "output_type": "stream",
       "stream": "stdout",
       "text": [
        "\n",
        "Test accuracy at step 65000: 36.3%"
       ]
      },
      {
       "output_type": "stream",
       "stream": "stdout",
       "text": [
        "\n",
        "Minibatch loss at step"
       ]
      },
      {
       "output_type": "stream",
       "stream": "stdout",
       "text": [
        " 66000 : 7.54697\n",
        "Minibatch accuracy: 31.2%\n",
        "Validation accuracy at step 66000: 35.4%"
       ]
      },
      {
       "output_type": "stream",
       "stream": "stdout",
       "text": [
        "\n",
        "Minibatch loss at step"
       ]
      },
      {
       "output_type": "stream",
       "stream": "stdout",
       "text": [
        " 67000 : 7.34494\n",
        "Minibatch accuracy: 34.4%\n",
        "Validation accuracy at step 67000: 35.8%"
       ]
      },
      {
       "output_type": "stream",
       "stream": "stdout",
       "text": [
        "\n",
        "Minibatch loss at step"
       ]
      },
      {
       "output_type": "stream",
       "stream": "stdout",
       "text": [
        " 68000 : 6.87718\n",
        "Minibatch accuracy: 53.1%\n",
        "Validation accuracy at step 68000: 37.5%"
       ]
      },
      {
       "output_type": "stream",
       "stream": "stdout",
       "text": [
        "\n",
        "Minibatch loss at step"
       ]
      },
      {
       "output_type": "stream",
       "stream": "stdout",
       "text": [
        " 69000 : 7.33053\n",
        "Minibatch accuracy: 28.1%\n",
        "Validation accuracy at step 69000: 34.6%"
       ]
      },
      {
       "output_type": "stream",
       "stream": "stdout",
       "text": [
        "\n",
        "Minibatch loss at step"
       ]
      },
      {
       "output_type": "stream",
       "stream": "stdout",
       "text": [
        " 70000 : 6.98646\n",
        "Minibatch accuracy: 34.4%\n",
        "Validation accuracy at step 70000: 36.0%"
       ]
      },
      {
       "output_type": "stream",
       "stream": "stdout",
       "text": [
        "\n",
        "Test accuracy at step 70000: 36.2%"
       ]
      },
      {
       "output_type": "stream",
       "stream": "stdout",
       "text": [
        "\n",
        "Minibatch loss at step"
       ]
      },
      {
       "output_type": "stream",
       "stream": "stdout",
       "text": [
        " 71000 : 6.96506\n",
        "Minibatch accuracy: 43.8%\n",
        "Validation accuracy at step 71000: 38.0%"
       ]
      },
      {
       "output_type": "stream",
       "stream": "stdout",
       "text": [
        "\n",
        "Minibatch loss at step"
       ]
      },
      {
       "output_type": "stream",
       "stream": "stdout",
       "text": [
        " 72000 : 6.77802\n",
        "Minibatch accuracy: 40.6%\n",
        "Validation accuracy at step 72000: 38.1%"
       ]
      },
      {
       "output_type": "stream",
       "stream": "stdout",
       "text": [
        "\n",
        "Minibatch loss at step"
       ]
      },
      {
       "output_type": "stream",
       "stream": "stdout",
       "text": [
        " 73000 : 7.08169\n",
        "Minibatch accuracy: 28.1%\n",
        "Validation accuracy at step 73000: 40.5%"
       ]
      },
      {
       "output_type": "stream",
       "stream": "stdout",
       "text": [
        "\n",
        "Minibatch loss at step"
       ]
      },
      {
       "output_type": "stream",
       "stream": "stdout",
       "text": [
        " 74000 : 6.96445\n",
        "Minibatch accuracy: 34.4%\n",
        "Validation accuracy at step 74000: 34.9%"
       ]
      },
      {
       "output_type": "stream",
       "stream": "stdout",
       "text": [
        "\n",
        "Minibatch loss at step"
       ]
      },
      {
       "output_type": "stream",
       "stream": "stdout",
       "text": [
        " 75000 : 6.91485\n",
        "Minibatch accuracy: 34.4%\n",
        "Validation accuracy at step 75000: 38.0%"
       ]
      },
      {
       "output_type": "stream",
       "stream": "stdout",
       "text": [
        "\n",
        "Test accuracy at step 75000: 37.5%"
       ]
      },
      {
       "output_type": "stream",
       "stream": "stdout",
       "text": [
        "\n",
        "Minibatch loss at step"
       ]
      },
      {
       "output_type": "stream",
       "stream": "stdout",
       "text": [
        " 76000 : 7.18253\n",
        "Minibatch accuracy: 37.5%\n",
        "Validation accuracy at step 76000: 39.7%"
       ]
      },
      {
       "output_type": "stream",
       "stream": "stdout",
       "text": [
        "\n",
        "Minibatch loss at step"
       ]
      },
      {
       "output_type": "stream",
       "stream": "stdout",
       "text": [
        " 77000 : 6.59076\n",
        "Minibatch accuracy: 43.8%\n",
        "Validation accuracy at step 77000: 37.9%"
       ]
      },
      {
       "output_type": "stream",
       "stream": "stdout",
       "text": [
        "\n",
        "Minibatch loss at step"
       ]
      },
      {
       "output_type": "stream",
       "stream": "stdout",
       "text": [
        " 78000 : 6.74155\n",
        "Minibatch accuracy: 40.6%\n",
        "Validation accuracy at step 78000: 37.4%"
       ]
      },
      {
       "output_type": "stream",
       "stream": "stdout",
       "text": [
        "\n",
        "Minibatch loss at step"
       ]
      },
      {
       "output_type": "stream",
       "stream": "stdout",
       "text": [
        " 79000 : 6.705\n",
        "Minibatch accuracy: 31.2%\n",
        "Validation accuracy at step 79000: 39.9%"
       ]
      },
      {
       "output_type": "stream",
       "stream": "stdout",
       "text": [
        "\n",
        "Minibatch loss at step"
       ]
      },
      {
       "output_type": "stream",
       "stream": "stdout",
       "text": [
        " 80000 : 6.39293\n",
        "Minibatch accuracy: 50.0%\n",
        "Validation accuracy at step 80000: 40.8%"
       ]
      },
      {
       "output_type": "stream",
       "stream": "stdout",
       "text": [
        "\n",
        "Test accuracy at step 80000: 40.0%"
       ]
      },
      {
       "output_type": "stream",
       "stream": "stdout",
       "text": [
        "\n",
        "Minibatch loss at step"
       ]
      },
      {
       "output_type": "stream",
       "stream": "stdout",
       "text": [
        " 81000 : 6.96317\n",
        "Minibatch accuracy: 37.5%\n",
        "Validation accuracy at step 81000: 39.1%"
       ]
      },
      {
       "output_type": "stream",
       "stream": "stdout",
       "text": [
        "\n",
        "Minibatch loss at step"
       ]
      },
      {
       "output_type": "stream",
       "stream": "stdout",
       "text": [
        " 82000 : 6.54057\n",
        "Minibatch accuracy: 50.0%\n",
        "Validation accuracy at step 82000: 39.9%"
       ]
      },
      {
       "output_type": "stream",
       "stream": "stdout",
       "text": [
        "\n",
        "Minibatch loss at step"
       ]
      },
      {
       "output_type": "stream",
       "stream": "stdout",
       "text": [
        " 83000 : 7.12862\n",
        "Minibatch accuracy: 40.6%\n",
        "Validation accuracy at step 83000: 37.2%"
       ]
      },
      {
       "output_type": "stream",
       "stream": "stdout",
       "text": [
        "\n",
        "Minibatch loss at step"
       ]
      },
      {
       "output_type": "stream",
       "stream": "stdout",
       "text": [
        " 84000 : 7.10142\n",
        "Minibatch accuracy: 25.0%\n",
        "Validation accuracy at step 84000: 38.2%"
       ]
      },
      {
       "output_type": "stream",
       "stream": "stdout",
       "text": [
        "\n",
        "Minibatch loss at step"
       ]
      },
      {
       "output_type": "stream",
       "stream": "stdout",
       "text": [
        " 85000 : 6.39422\n",
        "Minibatch accuracy: 37.5%\n",
        "Validation accuracy at step 85000: 40.7%"
       ]
      },
      {
       "output_type": "stream",
       "stream": "stdout",
       "text": [
        "\n",
        "Test accuracy at step 85000: 40.5%"
       ]
      },
      {
       "output_type": "stream",
       "stream": "stdout",
       "text": [
        "\n",
        "Minibatch loss at step"
       ]
      },
      {
       "output_type": "stream",
       "stream": "stdout",
       "text": [
        " 86000 : 6.42849\n",
        "Minibatch accuracy: 34.4%\n",
        "Validation accuracy at step 86000: 38.9%"
       ]
      },
      {
       "output_type": "stream",
       "stream": "stdout",
       "text": [
        "\n",
        "Minibatch loss at step"
       ]
      },
      {
       "output_type": "stream",
       "stream": "stdout",
       "text": [
        " 87000 : 6.25119\n",
        "Minibatch accuracy: 37.5%\n",
        "Validation accuracy at step 87000: 39.8%"
       ]
      },
      {
       "output_type": "stream",
       "stream": "stdout",
       "text": [
        "\n",
        "Minibatch loss at step"
       ]
      },
      {
       "output_type": "stream",
       "stream": "stdout",
       "text": [
        " 88000 : 6.5567\n",
        "Minibatch accuracy: 40.6%\n",
        "Validation accuracy at step 88000: 41.0%"
       ]
      },
      {
       "output_type": "stream",
       "stream": "stdout",
       "text": [
        "\n",
        "Minibatch loss at step"
       ]
      },
      {
       "output_type": "stream",
       "stream": "stdout",
       "text": [
        " 89000 : 6.4848\n",
        "Minibatch accuracy: 43.8%\n",
        "Validation accuracy at step 89000: 38.3%"
       ]
      },
      {
       "output_type": "stream",
       "stream": "stdout",
       "text": [
        "\n",
        "Minibatch loss at step"
       ]
      },
      {
       "output_type": "stream",
       "stream": "stdout",
       "text": [
        " 90000 : 6.54211\n",
        "Minibatch accuracy: 40.6%\n",
        "Validation accuracy at step 90000: 41.2%"
       ]
      },
      {
       "output_type": "stream",
       "stream": "stdout",
       "text": [
        "\n",
        "Test accuracy at step 90000: 40.7%"
       ]
      },
      {
       "output_type": "stream",
       "stream": "stdout",
       "text": [
        "\n",
        "Minibatch loss at step"
       ]
      },
      {
       "output_type": "stream",
       "stream": "stdout",
       "text": [
        " 91000 : 6.69016\n",
        "Minibatch accuracy: 25.0%\n",
        "Validation accuracy at step 91000: 41.2%"
       ]
      },
      {
       "output_type": "stream",
       "stream": "stdout",
       "text": [
        "\n",
        "Minibatch loss at step"
       ]
      },
      {
       "output_type": "stream",
       "stream": "stdout",
       "text": [
        " 92000 : 6.243\n",
        "Minibatch accuracy: 53.1%\n",
        "Validation accuracy at step 92000: 40.4%"
       ]
      },
      {
       "output_type": "stream",
       "stream": "stdout",
       "text": [
        "\n",
        "Minibatch loss at step"
       ]
      },
      {
       "output_type": "stream",
       "stream": "stdout",
       "text": [
        " 93000 : 6.7278\n",
        "Minibatch accuracy: 37.5%\n",
        "Validation accuracy at step 93000: 39.1%"
       ]
      },
      {
       "output_type": "stream",
       "stream": "stdout",
       "text": [
        "\n",
        "Minibatch loss at step"
       ]
      },
      {
       "output_type": "stream",
       "stream": "stdout",
       "text": [
        " 94000 : 6.64138\n",
        "Minibatch accuracy: 34.4%\n",
        "Validation accuracy at step 94000: 41.0%"
       ]
      },
      {
       "output_type": "stream",
       "stream": "stdout",
       "text": [
        "\n",
        "Minibatch loss at step"
       ]
      },
      {
       "output_type": "stream",
       "stream": "stdout",
       "text": [
        " 95000 : 6.47917\n",
        "Minibatch accuracy: 31.2%\n",
        "Validation accuracy at step 95000: 38.7%"
       ]
      },
      {
       "output_type": "stream",
       "stream": "stdout",
       "text": [
        "\n",
        "Test accuracy at step 95000: 38.1%"
       ]
      },
      {
       "output_type": "stream",
       "stream": "stdout",
       "text": [
        "\n",
        "Minibatch loss at step"
       ]
      },
      {
       "output_type": "stream",
       "stream": "stdout",
       "text": [
        " 96000 : 6.53329\n",
        "Minibatch accuracy: 43.8%\n",
        "Validation accuracy at step 96000: 41.5%"
       ]
      },
      {
       "output_type": "stream",
       "stream": "stdout",
       "text": [
        "\n",
        "Minibatch loss at step"
       ]
      },
      {
       "output_type": "stream",
       "stream": "stdout",
       "text": [
        " 97000 : 6.28617\n",
        "Minibatch accuracy: 43.8%\n",
        "Validation accuracy at step 97000: 42.1%"
       ]
      },
      {
       "output_type": "stream",
       "stream": "stdout",
       "text": [
        "\n",
        "Minibatch loss at step"
       ]
      },
      {
       "output_type": "stream",
       "stream": "stdout",
       "text": [
        " 98000 : 6.39299\n",
        "Minibatch accuracy: 46.9%\n",
        "Validation accuracy at step 98000: 39.8%"
       ]
      },
      {
       "output_type": "stream",
       "stream": "stdout",
       "text": [
        "\n",
        "Minibatch loss at step"
       ]
      },
      {
       "output_type": "stream",
       "stream": "stdout",
       "text": [
        " 99000 : 6.13275\n",
        "Minibatch accuracy: 50.0%\n",
        "Validation accuracy at step 99000: 41.0%"
       ]
      },
      {
       "output_type": "stream",
       "stream": "stdout",
       "text": [
        "\n",
        "Minibatch loss at step"
       ]
      },
      {
       "output_type": "stream",
       "stream": "stdout",
       "text": [
        " 100000 : 6.19364\n",
        "Minibatch accuracy: 40.6%\n",
        "Validation accuracy at step 100000: 41.5%"
       ]
      },
      {
       "output_type": "stream",
       "stream": "stdout",
       "text": [
        "\n",
        "Test accuracy at step 100000: 41.3%"
       ]
      },
      {
       "output_type": "stream",
       "stream": "stdout",
       "text": [
        "\n",
        "Minibatch loss at step"
       ]
      },
      {
       "output_type": "stream",
       "stream": "stdout",
       "text": [
        " 101000 : 6.19775\n",
        "Minibatch accuracy: 56.2%\n",
        "Validation accuracy at step 101000: 39.7%"
       ]
      },
      {
       "output_type": "stream",
       "stream": "stdout",
       "text": [
        "\n",
        "Minibatch loss at step"
       ]
      },
      {
       "output_type": "stream",
       "stream": "stdout",
       "text": [
        " 102000 : 6.02123\n",
        "Minibatch accuracy: 40.6%\n",
        "Validation accuracy at step 102000: 40.1%"
       ]
      },
      {
       "output_type": "stream",
       "stream": "stdout",
       "text": [
        "\n",
        "Minibatch loss at step"
       ]
      },
      {
       "output_type": "stream",
       "stream": "stdout",
       "text": [
        " 103000 : 6.31075\n",
        "Minibatch accuracy: 50.0%\n",
        "Validation accuracy at step 103000: 41.7%"
       ]
      },
      {
       "output_type": "stream",
       "stream": "stdout",
       "text": [
        "\n",
        "Minibatch loss at step"
       ]
      },
      {
       "output_type": "stream",
       "stream": "stdout",
       "text": [
        " 104000 : 6.22003\n",
        "Minibatch accuracy: 46.9%\n",
        "Validation accuracy at step 104000: 38.9%"
       ]
      },
      {
       "output_type": "stream",
       "stream": "stdout",
       "text": [
        "\n",
        "Minibatch loss at step"
       ]
      },
      {
       "output_type": "stream",
       "stream": "stdout",
       "text": [
        " 105000 : 6.00295\n",
        "Minibatch accuracy: 53.1%\n",
        "Validation accuracy at step 105000: 41.7%"
       ]
      },
      {
       "output_type": "stream",
       "stream": "stdout",
       "text": [
        "\n",
        "Test accuracy at step 105000: 41.0%"
       ]
      },
      {
       "output_type": "stream",
       "stream": "stdout",
       "text": [
        "\n",
        "Minibatch loss at step"
       ]
      },
      {
       "output_type": "stream",
       "stream": "stdout",
       "text": [
        " 106000 : 6.07414\n",
        "Minibatch accuracy: 50.0%\n",
        "Validation accuracy at step 106000: 42.2%"
       ]
      },
      {
       "output_type": "stream",
       "stream": "stdout",
       "text": [
        "\n",
        "Minibatch loss at step"
       ]
      },
      {
       "output_type": "stream",
       "stream": "stdout",
       "text": [
        " 107000 : 6.14884\n",
        "Minibatch accuracy: 34.4%\n",
        "Validation accuracy at step 107000: 42.7%"
       ]
      },
      {
       "output_type": "stream",
       "stream": "stdout",
       "text": [
        "\n",
        "Minibatch loss at step"
       ]
      },
      {
       "output_type": "stream",
       "stream": "stdout",
       "text": [
        " 108000 : 6.1806\n",
        "Minibatch accuracy: 37.5%\n",
        "Validation accuracy at step 108000: 41.4%"
       ]
      },
      {
       "output_type": "stream",
       "stream": "stdout",
       "text": [
        "\n",
        "Minibatch loss at step"
       ]
      },
      {
       "output_type": "stream",
       "stream": "stdout",
       "text": [
        " 109000 : 5.90171\n",
        "Minibatch accuracy: 56.2%\n",
        "Validation accuracy at step 109000: 40.7%"
       ]
      },
      {
       "output_type": "stream",
       "stream": "stdout",
       "text": [
        "\n",
        "Minibatch loss at step"
       ]
      },
      {
       "output_type": "stream",
       "stream": "stdout",
       "text": [
        " 110000 : 6.11029\n",
        "Minibatch accuracy: 46.9%\n",
        "Validation accuracy at step 110000: 42.7%"
       ]
      },
      {
       "output_type": "stream",
       "stream": "stdout",
       "text": [
        "\n",
        "Test accuracy at step 110000: 41.9%"
       ]
      },
      {
       "output_type": "stream",
       "stream": "stdout",
       "text": [
        "\n",
        "Minibatch loss at step"
       ]
      },
      {
       "output_type": "stream",
       "stream": "stdout",
       "text": [
        " 111000 : 5.93074\n",
        "Minibatch accuracy: 50.0%\n",
        "Validation accuracy at step 111000: 41.4%"
       ]
      },
      {
       "output_type": "stream",
       "stream": "stdout",
       "text": [
        "\n",
        "Minibatch loss at step"
       ]
      },
      {
       "output_type": "stream",
       "stream": "stdout",
       "text": [
        " 112000 : 6.02283\n",
        "Minibatch accuracy: 34.4%\n",
        "Validation accuracy at step 112000: 40.1%"
       ]
      },
      {
       "output_type": "stream",
       "stream": "stdout",
       "text": [
        "\n",
        "Minibatch loss at step"
       ]
      },
      {
       "output_type": "stream",
       "stream": "stdout",
       "text": [
        " 113000 : 6.06385\n",
        "Minibatch accuracy: 43.8%\n",
        "Validation accuracy at step 113000: 39.5%"
       ]
      },
      {
       "output_type": "stream",
       "stream": "stdout",
       "text": [
        "\n",
        "Minibatch loss at step"
       ]
      },
      {
       "output_type": "stream",
       "stream": "stdout",
       "text": [
        " 114000 : 6.05061\n",
        "Minibatch accuracy: 21.9%\n",
        "Validation accuracy at step 114000: 42.2%"
       ]
      },
      {
       "output_type": "stream",
       "stream": "stdout",
       "text": [
        "\n",
        "Minibatch loss at step"
       ]
      },
      {
       "output_type": "stream",
       "stream": "stdout",
       "text": [
        " 115000 : 6.13465\n",
        "Minibatch accuracy: 40.6%\n",
        "Validation accuracy at step 115000: 40.3%"
       ]
      },
      {
       "output_type": "stream",
       "stream": "stdout",
       "text": [
        "\n",
        "Test accuracy at step 115000: 40.6%"
       ]
      },
      {
       "output_type": "stream",
       "stream": "stdout",
       "text": [
        "\n",
        "Minibatch loss at step"
       ]
      },
      {
       "output_type": "stream",
       "stream": "stdout",
       "text": [
        " 116000 : 6.10231\n",
        "Minibatch accuracy: 34.4%\n",
        "Validation accuracy at step 116000: 42.8%"
       ]
      },
      {
       "output_type": "stream",
       "stream": "stdout",
       "text": [
        "\n",
        "Minibatch loss at step"
       ]
      },
      {
       "output_type": "stream",
       "stream": "stdout",
       "text": [
        " 117000 : 6.13091\n",
        "Minibatch accuracy: 40.6%\n",
        "Validation accuracy at step 117000: 40.4%"
       ]
      },
      {
       "output_type": "stream",
       "stream": "stdout",
       "text": [
        "\n",
        "Minibatch loss at step"
       ]
      },
      {
       "output_type": "stream",
       "stream": "stdout",
       "text": [
        " 118000 : 5.66314\n",
        "Minibatch accuracy: 62.5%\n",
        "Validation accuracy at step 118000: 41.3%"
       ]
      },
      {
       "output_type": "stream",
       "stream": "stdout",
       "text": [
        "\n",
        "Minibatch loss at step"
       ]
      },
      {
       "output_type": "stream",
       "stream": "stdout",
       "text": [
        " 119000 : 5.79917\n",
        "Minibatch accuracy: 50.0%\n",
        "Validation accuracy at step 119000: 42.9%"
       ]
      },
      {
       "output_type": "stream",
       "stream": "stdout",
       "text": [
        "\n",
        "Minibatch loss at step"
       ]
      },
      {
       "output_type": "stream",
       "stream": "stdout",
       "text": [
        " 120000 : 5.93958\n",
        "Minibatch accuracy: 40.6%\n",
        "Validation accuracy at step 120000: 41.4%"
       ]
      },
      {
       "output_type": "stream",
       "stream": "stdout",
       "text": [
        "\n",
        "Test accuracy at step 120000: 42.2%"
       ]
      },
      {
       "output_type": "stream",
       "stream": "stdout",
       "text": [
        "\n",
        "Minibatch loss at step"
       ]
      },
      {
       "output_type": "stream",
       "stream": "stdout",
       "text": [
        " 121000 : 5.874\n",
        "Minibatch accuracy: 46.9%\n",
        "Validation accuracy at step 121000: 42.7%"
       ]
      },
      {
       "output_type": "stream",
       "stream": "stdout",
       "text": [
        "\n",
        "Minibatch loss at step"
       ]
      },
      {
       "output_type": "stream",
       "stream": "stdout",
       "text": [
        " 122000 : 5.78509\n",
        "Minibatch accuracy: 40.6%\n",
        "Validation accuracy at step 122000: 41.6%"
       ]
      },
      {
       "output_type": "stream",
       "stream": "stdout",
       "text": [
        "\n",
        "Minibatch loss at step"
       ]
      },
      {
       "output_type": "stream",
       "stream": "stdout",
       "text": [
        " 123000 : 5.97267\n",
        "Minibatch accuracy: 34.4%\n",
        "Validation accuracy at step 123000: 41.9%"
       ]
      },
      {
       "output_type": "stream",
       "stream": "stdout",
       "text": [
        "\n",
        "Minibatch loss at step"
       ]
      },
      {
       "output_type": "stream",
       "stream": "stdout",
       "text": [
        " 124000 : 5.84671\n",
        "Minibatch accuracy: 40.6%\n",
        "Validation accuracy at step 124000: 37.4%"
       ]
      },
      {
       "output_type": "stream",
       "stream": "stdout",
       "text": [
        "\n",
        "Minibatch loss at step"
       ]
      },
      {
       "output_type": "stream",
       "stream": "stdout",
       "text": [
        " 125000 : 5.78467\n",
        "Minibatch accuracy: 40.6%\n",
        "Validation accuracy at step 125000: 42.8%"
       ]
      },
      {
       "output_type": "stream",
       "stream": "stdout",
       "text": [
        "\n",
        "Test accuracy at step 125000: 43.0%"
       ]
      },
      {
       "output_type": "stream",
       "stream": "stdout",
       "text": [
        "\n",
        "Minibatch loss at step"
       ]
      },
      {
       "output_type": "stream",
       "stream": "stdout",
       "text": [
        " 126000 : 5.71218\n",
        "Minibatch accuracy: 43.8%\n",
        "Validation accuracy at step 126000: 42.4%"
       ]
      },
      {
       "output_type": "stream",
       "stream": "stdout",
       "text": [
        "\n",
        "Minibatch loss at step"
       ]
      },
      {
       "output_type": "stream",
       "stream": "stdout",
       "text": [
        " 127000 : 5.67947\n",
        "Minibatch accuracy: 40.6%\n",
        "Validation accuracy at step 127000: 42.0%"
       ]
      },
      {
       "output_type": "stream",
       "stream": "stdout",
       "text": [
        "\n",
        "Minibatch loss at step"
       ]
      },
      {
       "output_type": "stream",
       "stream": "stdout",
       "text": [
        " 128000 : 5.75795\n",
        "Minibatch accuracy: 40.6%\n",
        "Validation accuracy at step 128000: 42.0%"
       ]
      },
      {
       "output_type": "stream",
       "stream": "stdout",
       "text": [
        "\n",
        "Minibatch loss at step"
       ]
      },
      {
       "output_type": "stream",
       "stream": "stdout",
       "text": [
        " 129000 : 5.54864\n",
        "Minibatch accuracy: 37.5%\n",
        "Validation accuracy at step 129000: 42.5%"
       ]
      },
      {
       "output_type": "stream",
       "stream": "stdout",
       "text": [
        "\n",
        "Minibatch loss at step"
       ]
      },
      {
       "output_type": "stream",
       "stream": "stdout",
       "text": [
        " 130000 : 5.738\n",
        "Minibatch accuracy: 37.5%\n",
        "Validation accuracy at step 130000: 41.7%"
       ]
      },
      {
       "output_type": "stream",
       "stream": "stdout",
       "text": [
        "\n",
        "Test accuracy at step 130000: 41.4%"
       ]
      },
      {
       "output_type": "stream",
       "stream": "stdout",
       "text": [
        "\n",
        "Minibatch loss at step"
       ]
      },
      {
       "output_type": "stream",
       "stream": "stdout",
       "text": [
        " 131000 : 5.89244\n",
        "Minibatch accuracy: 40.6%\n",
        "Validation accuracy at step 131000: 41.5%"
       ]
      },
      {
       "output_type": "stream",
       "stream": "stdout",
       "text": [
        "\n",
        "Minibatch loss at step"
       ]
      },
      {
       "output_type": "stream",
       "stream": "stdout",
       "text": [
        " 132000 : 5.42285\n",
        "Minibatch accuracy: 56.2%\n",
        "Validation accuracy at step 132000: 43.6%"
       ]
      },
      {
       "output_type": "stream",
       "stream": "stdout",
       "text": [
        "\n",
        "Minibatch loss at step"
       ]
      },
      {
       "output_type": "stream",
       "stream": "stdout",
       "text": [
        " 133000 : 5.36187\n",
        "Minibatch accuracy: 62.5%\n",
        "Validation accuracy at step 133000: 42.3%"
       ]
      },
      {
       "output_type": "stream",
       "stream": "stdout",
       "text": [
        "\n",
        "Minibatch loss at step"
       ]
      },
      {
       "output_type": "stream",
       "stream": "stdout",
       "text": [
        " 134000 : 5.74225\n",
        "Minibatch accuracy: 40.6%\n",
        "Validation accuracy at step 134000: 41.9%"
       ]
      },
      {
       "output_type": "stream",
       "stream": "stdout",
       "text": [
        "\n",
        "Minibatch loss at step"
       ]
      },
      {
       "output_type": "stream",
       "stream": "stdout",
       "text": [
        " 135000 : 5.81892\n",
        "Minibatch accuracy: 40.6%\n",
        "Validation accuracy at step 135000: 41.4%"
       ]
      },
      {
       "output_type": "stream",
       "stream": "stdout",
       "text": [
        "\n",
        "Test accuracy at step 135000: 41.5%"
       ]
      },
      {
       "output_type": "stream",
       "stream": "stdout",
       "text": [
        "\n",
        "Minibatch loss at step"
       ]
      },
      {
       "output_type": "stream",
       "stream": "stdout",
       "text": [
        " 136000 : 5.57659\n",
        "Minibatch accuracy: 34.4%\n",
        "Validation accuracy at step 136000: 43.4%"
       ]
      },
      {
       "output_type": "stream",
       "stream": "stdout",
       "text": [
        "\n",
        "Minibatch loss at step"
       ]
      },
      {
       "output_type": "stream",
       "stream": "stdout",
       "text": [
        " 137000 : 5.58539\n",
        "Minibatch accuracy: 37.5%\n",
        "Validation accuracy at step 137000: 43.4%"
       ]
      },
      {
       "output_type": "stream",
       "stream": "stdout",
       "text": [
        "\n",
        "Minibatch loss at step"
       ]
      },
      {
       "output_type": "stream",
       "stream": "stdout",
       "text": [
        " 138000 : 5.89751\n",
        "Minibatch accuracy: 31.2%\n",
        "Validation accuracy at step 138000: 42.2%"
       ]
      },
      {
       "output_type": "stream",
       "stream": "stdout",
       "text": [
        "\n",
        "Minibatch loss at step"
       ]
      },
      {
       "output_type": "stream",
       "stream": "stdout",
       "text": [
        " 139000 : 5.27952\n",
        "Minibatch accuracy: 43.8%\n",
        "Validation accuracy at step 139000: 43.7%"
       ]
      },
      {
       "output_type": "stream",
       "stream": "stdout",
       "text": [
        "\n",
        "Minibatch loss at step"
       ]
      },
      {
       "output_type": "stream",
       "stream": "stdout",
       "text": [
        " 140000 : 5.59025\n",
        "Minibatch accuracy: 43.8%\n",
        "Validation accuracy at step 140000: 42.8%"
       ]
      },
      {
       "output_type": "stream",
       "stream": "stdout",
       "text": [
        "\n",
        "Test accuracy at step 140000: 42.8%"
       ]
      },
      {
       "output_type": "stream",
       "stream": "stdout",
       "text": [
        "\n",
        "Minibatch loss at step"
       ]
      },
      {
       "output_type": "stream",
       "stream": "stdout",
       "text": [
        " 141000 : 5.92227\n",
        "Minibatch accuracy: 28.1%\n",
        "Validation accuracy at step 141000: 43.0%"
       ]
      },
      {
       "output_type": "stream",
       "stream": "stdout",
       "text": [
        "\n",
        "Minibatch loss at step"
       ]
      },
      {
       "output_type": "stream",
       "stream": "stdout",
       "text": [
        " 142000 : 5.5336\n",
        "Minibatch accuracy: 37.5%\n",
        "Validation accuracy at step 142000: 41.5%"
       ]
      },
      {
       "output_type": "stream",
       "stream": "stdout",
       "text": [
        "\n",
        "Minibatch loss at step"
       ]
      },
      {
       "output_type": "stream",
       "stream": "stdout",
       "text": [
        " 143000 : 5.6615\n",
        "Minibatch accuracy: 37.5%\n",
        "Validation accuracy at step 143000: 43.1%"
       ]
      },
      {
       "output_type": "stream",
       "stream": "stdout",
       "text": [
        "\n",
        "Minibatch loss at step"
       ]
      },
      {
       "output_type": "stream",
       "stream": "stdout",
       "text": [
        " 144000 : 5.40791\n",
        "Minibatch accuracy: 46.9%\n",
        "Validation accuracy at step 144000: 44.2%"
       ]
      },
      {
       "output_type": "stream",
       "stream": "stdout",
       "text": [
        "\n",
        "Minibatch loss at step"
       ]
      },
      {
       "output_type": "stream",
       "stream": "stdout",
       "text": [
        " 145000 : 5.34086\n",
        "Minibatch accuracy: 50.0%\n",
        "Validation accuracy at step 145000: 41.4%"
       ]
      },
      {
       "output_type": "stream",
       "stream": "stdout",
       "text": [
        "\n",
        "Test accuracy at step 145000: 41.5%"
       ]
      },
      {
       "output_type": "stream",
       "stream": "stdout",
       "text": [
        "\n",
        "Minibatch loss at step"
       ]
      },
      {
       "output_type": "stream",
       "stream": "stdout",
       "text": [
        " 146000 : 5.42079\n",
        "Minibatch accuracy: 59.4%\n",
        "Validation accuracy at step 146000: 42.2%"
       ]
      },
      {
       "output_type": "stream",
       "stream": "stdout",
       "text": [
        "\n",
        "Minibatch loss at step"
       ]
      },
      {
       "output_type": "stream",
       "stream": "stdout",
       "text": [
        " 147000 : 5.29992\n",
        "Minibatch accuracy: 56.2%\n",
        "Validation accuracy at step 147000: 42.3%"
       ]
      },
      {
       "output_type": "stream",
       "stream": "stdout",
       "text": [
        "\n",
        "Minibatch loss at step"
       ]
      },
      {
       "output_type": "stream",
       "stream": "stdout",
       "text": [
        " 148000 : 5.67293\n",
        "Minibatch accuracy: 34.4%\n",
        "Validation accuracy at step 148000: 44.3%"
       ]
      },
      {
       "output_type": "stream",
       "stream": "stdout",
       "text": [
        "\n",
        "Minibatch loss at step"
       ]
      },
      {
       "output_type": "stream",
       "stream": "stdout",
       "text": [
        " 149000 : 5.11864\n",
        "Minibatch accuracy: 56.2%\n",
        "Validation accuracy at step 149000: 43.3%"
       ]
      },
      {
       "output_type": "stream",
       "stream": "stdout",
       "text": [
        "\n",
        "Minibatch loss at step"
       ]
      },
      {
       "output_type": "stream",
       "stream": "stdout",
       "text": [
        " 150000 : 5.02947\n",
        "Minibatch accuracy: 53.1%\n",
        "Validation accuracy at step 150000: 42.8%"
       ]
      },
      {
       "output_type": "stream",
       "stream": "stdout",
       "text": [
        "\n",
        "Test accuracy at step 150000: 43.5%"
       ]
      },
      {
       "output_type": "stream",
       "stream": "stdout",
       "text": [
        "\n",
        "Minibatch loss at step"
       ]
      },
      {
       "output_type": "stream",
       "stream": "stdout",
       "text": [
        " 151000 : 5.32788\n",
        "Minibatch accuracy: 46.9%\n",
        "Validation accuracy at step 151000: 42.0%"
       ]
      },
      {
       "output_type": "stream",
       "stream": "stdout",
       "text": [
        "\n",
        "Minibatch loss at step"
       ]
      },
      {
       "output_type": "stream",
       "stream": "stdout",
       "text": [
        " 152000 : 5.69193\n",
        "Minibatch accuracy: 46.9%\n",
        "Validation accuracy at step 152000: 41.2%"
       ]
      },
      {
       "output_type": "stream",
       "stream": "stdout",
       "text": [
        "\n",
        "Minibatch loss at step"
       ]
      },
      {
       "output_type": "stream",
       "stream": "stdout",
       "text": [
        " 153000 : 5.48232\n",
        "Minibatch accuracy: 31.2%\n",
        "Validation accuracy at step 153000: 42.7%"
       ]
      },
      {
       "output_type": "stream",
       "stream": "stdout",
       "text": [
        "\n",
        "Minibatch loss at step"
       ]
      },
      {
       "output_type": "stream",
       "stream": "stdout",
       "text": [
        " 154000 : 5.31826\n",
        "Minibatch accuracy: 40.6%\n",
        "Validation accuracy at step 154000: 44.4%"
       ]
      },
      {
       "output_type": "stream",
       "stream": "stdout",
       "text": [
        "\n",
        "Minibatch loss at step"
       ]
      },
      {
       "output_type": "stream",
       "stream": "stdout",
       "text": [
        " 155000 : 5.31643\n",
        "Minibatch accuracy: 43.8%\n",
        "Validation accuracy at step 155000: 43.1%"
       ]
      },
      {
       "output_type": "stream",
       "stream": "stdout",
       "text": [
        "\n",
        "Test accuracy at step 155000: 42.9%"
       ]
      },
      {
       "output_type": "stream",
       "stream": "stdout",
       "text": [
        "\n",
        "Minibatch loss at step"
       ]
      },
      {
       "output_type": "stream",
       "stream": "stdout",
       "text": [
        " 156000 : 5.31367\n",
        "Minibatch accuracy: 40.6%\n",
        "Validation accuracy at step 156000: 43.5%"
       ]
      },
      {
       "output_type": "stream",
       "stream": "stdout",
       "text": [
        "\n",
        "Minibatch loss at step"
       ]
      },
      {
       "output_type": "stream",
       "stream": "stdout",
       "text": [
        " 157000 : 5.34483\n",
        "Minibatch accuracy: 46.9%\n",
        "Validation accuracy at step 157000: 43.7%"
       ]
      },
      {
       "output_type": "stream",
       "stream": "stdout",
       "text": [
        "\n",
        "Minibatch loss at step"
       ]
      },
      {
       "output_type": "stream",
       "stream": "stdout",
       "text": [
        " 158000 : 5.11425\n",
        "Minibatch accuracy: 50.0%\n",
        "Validation accuracy at step 158000: 44.1%"
       ]
      },
      {
       "output_type": "stream",
       "stream": "stdout",
       "text": [
        "\n",
        "Minibatch loss at step"
       ]
      },
      {
       "output_type": "stream",
       "stream": "stdout",
       "text": [
        " 159000 : 5.07243\n",
        "Minibatch accuracy: 40.6%\n",
        "Validation accuracy at step 159000: 43.4%"
       ]
      },
      {
       "output_type": "stream",
       "stream": "stdout",
       "text": [
        "\n",
        "Minibatch loss at step"
       ]
      },
      {
       "output_type": "stream",
       "stream": "stdout",
       "text": [
        " 160000 : 5.26968\n",
        "Minibatch accuracy: 43.8%\n",
        "Validation accuracy at step 160000: 44.0%"
       ]
      },
      {
       "output_type": "stream",
       "stream": "stdout",
       "text": [
        "\n",
        "Test accuracy at step 160000: 43.3%"
       ]
      },
      {
       "output_type": "stream",
       "stream": "stdout",
       "text": [
        "\n",
        "Minibatch loss at step"
       ]
      },
      {
       "output_type": "stream",
       "stream": "stdout",
       "text": [
        " 161000 : 5.26292\n",
        "Minibatch accuracy: 40.6%\n",
        "Validation accuracy at step 161000: 44.3%"
       ]
      },
      {
       "output_type": "stream",
       "stream": "stdout",
       "text": [
        "\n",
        "Minibatch loss at step"
       ]
      },
      {
       "output_type": "stream",
       "stream": "stdout",
       "text": [
        " 162000 : 5.23867\n",
        "Minibatch accuracy: 40.6%\n",
        "Validation accuracy at step 162000: 44.8%"
       ]
      },
      {
       "output_type": "stream",
       "stream": "stdout",
       "text": [
        "\n",
        "Minibatch loss at step"
       ]
      },
      {
       "output_type": "stream",
       "stream": "stdout",
       "text": [
        " 163000 : 5.08119\n",
        "Minibatch accuracy: 46.9%\n",
        "Validation accuracy at step 163000: 44.7%"
       ]
      },
      {
       "output_type": "stream",
       "stream": "stdout",
       "text": [
        "\n",
        "Minibatch loss at step"
       ]
      },
      {
       "output_type": "stream",
       "stream": "stdout",
       "text": [
        " 164000 : 5.18695\n",
        "Minibatch accuracy: 53.1%\n",
        "Validation accuracy at step 164000: 43.6%"
       ]
      },
      {
       "output_type": "stream",
       "stream": "stdout",
       "text": [
        "\n",
        "Minibatch loss at step"
       ]
      },
      {
       "output_type": "stream",
       "stream": "stdout",
       "text": [
        " 165000 : 5.26821\n",
        "Minibatch accuracy: 40.6%\n",
        "Validation accuracy at step 165000: 43.9%"
       ]
      },
      {
       "output_type": "stream",
       "stream": "stdout",
       "text": [
        "\n",
        "Test accuracy at step 165000: 44.1%"
       ]
      },
      {
       "output_type": "stream",
       "stream": "stdout",
       "text": [
        "\n",
        "Minibatch loss at step"
       ]
      },
      {
       "output_type": "stream",
       "stream": "stdout",
       "text": [
        " 166000 : 5.42679\n",
        "Minibatch accuracy: 40.6%\n",
        "Validation accuracy at step 166000: 43.7%"
       ]
      },
      {
       "output_type": "stream",
       "stream": "stdout",
       "text": [
        "\n",
        "Minibatch loss at step"
       ]
      },
      {
       "output_type": "stream",
       "stream": "stdout",
       "text": [
        " 167000 : 4.93432\n",
        "Minibatch accuracy: 59.4%\n",
        "Validation accuracy at step 167000: 42.7%"
       ]
      },
      {
       "output_type": "stream",
       "stream": "stdout",
       "text": [
        "\n",
        "Minibatch loss at step"
       ]
      },
      {
       "output_type": "stream",
       "stream": "stdout",
       "text": [
        " 168000 : 5.25907\n",
        "Minibatch accuracy: 43.8%\n",
        "Validation accuracy at step 168000: 43.8%"
       ]
      },
      {
       "output_type": "stream",
       "stream": "stdout",
       "text": [
        "\n",
        "Minibatch loss at step"
       ]
      },
      {
       "output_type": "stream",
       "stream": "stdout",
       "text": [
        " 169000 : 5.16553\n",
        "Minibatch accuracy: 46.9%\n",
        "Validation accuracy at step 169000: 43.2%"
       ]
      },
      {
       "output_type": "stream",
       "stream": "stdout",
       "text": [
        "\n",
        "Minibatch loss at step"
       ]
      },
      {
       "output_type": "stream",
       "stream": "stdout",
       "text": [
        " 170000 : 5.16976\n",
        "Minibatch accuracy: 40.6%\n",
        "Validation accuracy at step 170000: 43.4%"
       ]
      },
      {
       "output_type": "stream",
       "stream": "stdout",
       "text": [
        "\n",
        "Test accuracy at step 170000: 43.1%"
       ]
      },
      {
       "output_type": "stream",
       "stream": "stdout",
       "text": [
        "\n",
        "Minibatch loss at step"
       ]
      },
      {
       "output_type": "stream",
       "stream": "stdout",
       "text": [
        " 171000 : 4.78722\n",
        "Minibatch accuracy: 62.5%\n",
        "Validation accuracy at step 171000: 43.8%"
       ]
      },
      {
       "output_type": "stream",
       "stream": "stdout",
       "text": [
        "\n",
        "Minibatch loss at step"
       ]
      },
      {
       "output_type": "stream",
       "stream": "stdout",
       "text": [
        " 172000 : 4.97487\n",
        "Minibatch accuracy: 53.1%\n",
        "Validation accuracy at step 172000: 44.7%"
       ]
      },
      {
       "output_type": "stream",
       "stream": "stdout",
       "text": [
        "\n",
        "Minibatch loss at step"
       ]
      },
      {
       "output_type": "stream",
       "stream": "stdout",
       "text": [
        " 173000 : 5.096\n",
        "Minibatch accuracy: 46.9%\n",
        "Validation accuracy at step 173000: 43.8%"
       ]
      },
      {
       "output_type": "stream",
       "stream": "stdout",
       "text": [
        "\n",
        "Minibatch loss at step"
       ]
      },
      {
       "output_type": "stream",
       "stream": "stdout",
       "text": [
        " 174000 : 4.93916\n",
        "Minibatch accuracy: 37.5%\n",
        "Validation accuracy at step 174000: 43.5%"
       ]
      },
      {
       "output_type": "stream",
       "stream": "stdout",
       "text": [
        "\n",
        "Minibatch loss at step"
       ]
      },
      {
       "output_type": "stream",
       "stream": "stdout",
       "text": [
        " 175000 : 5.63018\n",
        "Minibatch accuracy: 28.1%\n",
        "Validation accuracy at step 175000: 44.5%"
       ]
      },
      {
       "output_type": "stream",
       "stream": "stdout",
       "text": [
        "\n",
        "Test accuracy at step 175000: 44.0%"
       ]
      },
      {
       "output_type": "stream",
       "stream": "stdout",
       "text": [
        "\n",
        "Minibatch loss at step"
       ]
      },
      {
       "output_type": "stream",
       "stream": "stdout",
       "text": [
        " 176000 : 5.0461\n",
        "Minibatch accuracy: 43.8%\n",
        "Validation accuracy at step 176000: 42.5%"
       ]
      },
      {
       "output_type": "stream",
       "stream": "stdout",
       "text": [
        "\n",
        "Minibatch loss at step"
       ]
      },
      {
       "output_type": "stream",
       "stream": "stdout",
       "text": [
        " 177000 : 5.13479\n",
        "Minibatch accuracy: 53.1%\n",
        "Validation accuracy at step 177000: 45.0%"
       ]
      },
      {
       "output_type": "stream",
       "stream": "stdout",
       "text": [
        "\n",
        "Minibatch loss at step"
       ]
      },
      {
       "output_type": "stream",
       "stream": "stdout",
       "text": [
        " 178000 : 5.28577\n",
        "Minibatch accuracy: 31.2%\n",
        "Validation accuracy at step 178000: 42.5%"
       ]
      },
      {
       "output_type": "stream",
       "stream": "stdout",
       "text": [
        "\n",
        "Minibatch loss at step"
       ]
      },
      {
       "output_type": "stream",
       "stream": "stdout",
       "text": [
        " 179000 : 5.131\n",
        "Minibatch accuracy: 59.4%\n",
        "Validation accuracy at step 179000: 44.9%"
       ]
      },
      {
       "output_type": "stream",
       "stream": "stdout",
       "text": [
        "\n",
        "Minibatch loss at step"
       ]
      },
      {
       "output_type": "stream",
       "stream": "stdout",
       "text": [
        " 180000 : 4.81201\n",
        "Minibatch accuracy: 46.9%\n",
        "Validation accuracy at step 180000: 44.7%"
       ]
      },
      {
       "output_type": "stream",
       "stream": "stdout",
       "text": [
        "\n",
        "Test accuracy at step 180000: 44.1%"
       ]
      },
      {
       "output_type": "stream",
       "stream": "stdout",
       "text": [
        "\n",
        "Minibatch loss at step"
       ]
      },
      {
       "output_type": "stream",
       "stream": "stdout",
       "text": [
        " 181000 : 5.05778\n",
        "Minibatch accuracy: 34.4%\n",
        "Validation accuracy at step 181000: 42.9%"
       ]
      },
      {
       "output_type": "stream",
       "stream": "stdout",
       "text": [
        "\n",
        "Minibatch loss at step"
       ]
      },
      {
       "output_type": "stream",
       "stream": "stdout",
       "text": [
        " 182000 : 5.14258\n",
        "Minibatch accuracy: 31.2%\n",
        "Validation accuracy at step 182000: 44.9%"
       ]
      },
      {
       "output_type": "stream",
       "stream": "stdout",
       "text": [
        "\n",
        "Minibatch loss at step"
       ]
      },
      {
       "output_type": "stream",
       "stream": "stdout",
       "text": [
        " 183000 : 5.31825\n",
        "Minibatch accuracy: 43.8%\n",
        "Validation accuracy at step 183000: 44.5%"
       ]
      },
      {
       "output_type": "stream",
       "stream": "stdout",
       "text": [
        "\n",
        "Minibatch loss at step"
       ]
      },
      {
       "output_type": "stream",
       "stream": "stdout",
       "text": [
        " 184000 : 4.94989\n",
        "Minibatch accuracy: 62.5%\n",
        "Validation accuracy at step 184000: 44.2%"
       ]
      },
      {
       "output_type": "stream",
       "stream": "stdout",
       "text": [
        "\n",
        "Minibatch loss at step"
       ]
      },
      {
       "output_type": "stream",
       "stream": "stdout",
       "text": [
        " 185000 : 4.9303\n",
        "Minibatch accuracy: 40.6%\n",
        "Validation accuracy at step 185000: 44.4%"
       ]
      },
      {
       "output_type": "stream",
       "stream": "stdout",
       "text": [
        "\n",
        "Test accuracy at step 185000: 44.2%"
       ]
      },
      {
       "output_type": "stream",
       "stream": "stdout",
       "text": [
        "\n",
        "Minibatch loss at step"
       ]
      },
      {
       "output_type": "stream",
       "stream": "stdout",
       "text": [
        " 186000 : 4.90471\n",
        "Minibatch accuracy: 56.2%\n",
        "Validation accuracy at step 186000: 42.4%"
       ]
      },
      {
       "output_type": "stream",
       "stream": "stdout",
       "text": [
        "\n",
        "Minibatch loss at step"
       ]
      },
      {
       "output_type": "stream",
       "stream": "stdout",
       "text": [
        " 187000 : 4.96819\n",
        "Minibatch accuracy: 40.6%\n",
        "Validation accuracy at step 187000: 44.4%"
       ]
      },
      {
       "output_type": "stream",
       "stream": "stdout",
       "text": [
        "\n",
        "Minibatch loss at step"
       ]
      },
      {
       "output_type": "stream",
       "stream": "stdout",
       "text": [
        " 188000 : 4.81336\n",
        "Minibatch accuracy: 56.2%\n",
        "Validation accuracy at step 188000: 44.4%"
       ]
      },
      {
       "output_type": "stream",
       "stream": "stdout",
       "text": [
        "\n",
        "Minibatch loss at step"
       ]
      },
      {
       "output_type": "stream",
       "stream": "stdout",
       "text": [
        " 189000 : 4.75367\n",
        "Minibatch accuracy: 50.0%\n",
        "Validation accuracy at step 189000: 44.4%"
       ]
      },
      {
       "output_type": "stream",
       "stream": "stdout",
       "text": [
        "\n",
        "Minibatch loss at step"
       ]
      },
      {
       "output_type": "stream",
       "stream": "stdout",
       "text": [
        " 190000 : 4.85148\n",
        "Minibatch accuracy: 46.9%\n",
        "Validation accuracy at step 190000: 43.8%"
       ]
      },
      {
       "output_type": "stream",
       "stream": "stdout",
       "text": [
        "\n",
        "Test accuracy at step 190000: 43.6%"
       ]
      },
      {
       "output_type": "stream",
       "stream": "stdout",
       "text": [
        "\n",
        "Minibatch loss at step"
       ]
      },
      {
       "output_type": "stream",
       "stream": "stdout",
       "text": [
        " 191000 : 5.09525\n",
        "Minibatch accuracy: 34.4%\n",
        "Validation accuracy at step 191000: 44.8%"
       ]
      },
      {
       "output_type": "stream",
       "stream": "stdout",
       "text": [
        "\n",
        "Minibatch loss at step"
       ]
      },
      {
       "output_type": "stream",
       "stream": "stdout",
       "text": [
        " 192000 : 4.82647\n",
        "Minibatch accuracy: 43.8%\n",
        "Validation accuracy at step 192000: 45.3%"
       ]
      },
      {
       "output_type": "stream",
       "stream": "stdout",
       "text": [
        "\n",
        "Minibatch loss at step"
       ]
      },
      {
       "output_type": "stream",
       "stream": "stdout",
       "text": [
        " 193000 : 4.84652\n",
        "Minibatch accuracy: 40.6%\n",
        "Validation accuracy at step 193000: 44.3%"
       ]
      },
      {
       "output_type": "stream",
       "stream": "stdout",
       "text": [
        "\n",
        "Minibatch loss at step"
       ]
      },
      {
       "output_type": "stream",
       "stream": "stdout",
       "text": [
        " 194000 : 5.10673\n",
        "Minibatch accuracy: 34.4%\n",
        "Validation accuracy at step 194000: 45.5%"
       ]
      },
      {
       "output_type": "stream",
       "stream": "stdout",
       "text": [
        "\n",
        "Minibatch loss at step"
       ]
      },
      {
       "output_type": "stream",
       "stream": "stdout",
       "text": [
        " 195000 : 4.89261\n",
        "Minibatch accuracy: 40.6%\n",
        "Validation accuracy at step 195000: 44.8%"
       ]
      },
      {
       "output_type": "stream",
       "stream": "stdout",
       "text": [
        "\n",
        "Test accuracy at step 195000: 44.8%"
       ]
      },
      {
       "output_type": "stream",
       "stream": "stdout",
       "text": [
        "\n",
        "Minibatch loss at step"
       ]
      },
      {
       "output_type": "stream",
       "stream": "stdout",
       "text": [
        " 196000 : 4.72418\n",
        "Minibatch accuracy: 43.8%\n",
        "Validation accuracy at step 196000: 45.3%"
       ]
      },
      {
       "output_type": "stream",
       "stream": "stdout",
       "text": [
        "\n",
        "Minibatch loss at step"
       ]
      },
      {
       "output_type": "stream",
       "stream": "stdout",
       "text": [
        " 197000 : 4.8037\n",
        "Minibatch accuracy: 53.1%\n",
        "Validation accuracy at step 197000: 44.8%"
       ]
      },
      {
       "output_type": "stream",
       "stream": "stdout",
       "text": [
        "\n",
        "Minibatch loss at step"
       ]
      },
      {
       "output_type": "stream",
       "stream": "stdout",
       "text": [
        " 198000 : 4.85394\n",
        "Minibatch accuracy: 37.5%\n",
        "Validation accuracy at step 198000: 44.7%"
       ]
      },
      {
       "output_type": "stream",
       "stream": "stdout",
       "text": [
        "\n",
        "Minibatch loss at step"
       ]
      },
      {
       "output_type": "stream",
       "stream": "stdout",
       "text": [
        " 199000 : 4.59099\n",
        "Minibatch accuracy: 53.1%\n",
        "Validation accuracy at step 199000: 45.3%"
       ]
      },
      {
       "output_type": "stream",
       "stream": "stdout",
       "text": [
        "\n",
        "Minibatch loss at step"
       ]
      },
      {
       "output_type": "stream",
       "stream": "stdout",
       "text": [
        " 200000 : 5.31132\n",
        "Minibatch accuracy: 18.8%\n",
        "Validation accuracy at step 200000: 45.1%"
       ]
      },
      {
       "output_type": "stream",
       "stream": "stdout",
       "text": [
        "\n",
        "Test accuracy at step 200000: 44.6%\n"
       ]
      },
      {
       "output_type": "stream",
       "stream": "stdout",
       "text": [
        "\n",
        "Elapsed time: 3.18852475968 hours\n",
        "The best validation accuracy was 45.51 at step 194000"
       ]
      },
      {
       "output_type": "stream",
       "stream": "stdout",
       "text": [
        "\n",
        "The best test accuracy was 44.78 at step 195000\n"
       ]
      }
     ],
     "prompt_number": 28
    },
    {
     "cell_type": "code",
     "collapsed": false,
     "input": [
      "# One more feature map and twice as many steps\n",
      "model = create_inception_module_model(learning_rate = 0.00025, l2_lambda = 0.025, feature_maps = 25, initialised_weights_stddev = 0.5, decay_steps = 10000, decay_rate = 0.96)\n",
      "steps_to_validation_predictions, steps_to_test_predictions = train_model(model, 200001, dropout_keep_prob = 0.9)\n",
      "correct_prediction_indexes, incorrect_prediction_indexes = visualise_accuracies(steps_to_validation_predictions, steps_to_test_predictions)"
     ],
     "language": "python",
     "metadata": {},
     "outputs": [
      {
       "output_type": "stream",
       "stream": "stdout",
       "text": [
        "Initialized\n",
        "Minibatch loss at step"
       ]
      },
      {
       "output_type": "stream",
       "stream": "stdout",
       "text": [
        " 0 : 1541.49\n",
        "Minibatch accuracy: 6.2%\n",
        "Validation accuracy at step 0: 10.2%"
       ]
      },
      {
       "output_type": "stream",
       "stream": "stdout",
       "text": [
        "\n",
        "Minibatch loss at step"
       ]
      },
      {
       "output_type": "stream",
       "stream": "stdout",
       "text": [
        " 1000 : 15.8539\n",
        "Minibatch accuracy: 25.0%\n",
        "Validation accuracy at step 1000: 20.9%"
       ]
      },
      {
       "output_type": "stream",
       "stream": "stdout",
       "text": [
        "\n",
        "Minibatch loss at step"
       ]
      },
      {
       "output_type": "stream",
       "stream": "stdout",
       "text": [
        " 2000 : 14.8707\n",
        "Minibatch accuracy: 12.5%\n",
        "Validation accuracy at step 2000: 24.1%"
       ]
      },
      {
       "output_type": "stream",
       "stream": "stdout",
       "text": [
        "\n",
        "Minibatch loss at step"
       ]
      },
      {
       "output_type": "stream",
       "stream": "stdout",
       "text": [
        " 3000 : 11.9193\n",
        "Minibatch accuracy: 18.8%\n",
        "Validation accuracy at step 3000: 24.3%"
       ]
      },
      {
       "output_type": "stream",
       "stream": "stdout",
       "text": [
        "\n",
        "Minibatch loss at step"
       ]
      },
      {
       "output_type": "stream",
       "stream": "stdout",
       "text": [
        " 4000 : 11.6947\n",
        "Minibatch accuracy: 15.6%\n",
        "Validation accuracy at step 4000: 24.7%"
       ]
      },
      {
       "output_type": "stream",
       "stream": "stdout",
       "text": [
        "\n",
        "Minibatch loss at step"
       ]
      },
      {
       "output_type": "stream",
       "stream": "stdout",
       "text": [
        " 5000 : 10.108\n",
        "Minibatch accuracy: 34.4%\n",
        "Validation accuracy at step 5000: 25.3%"
       ]
      },
      {
       "output_type": "stream",
       "stream": "stdout",
       "text": [
        "\n",
        "Test accuracy at step 5000: 25.2%"
       ]
      },
      {
       "output_type": "stream",
       "stream": "stdout",
       "text": [
        "\n",
        "Minibatch loss at step"
       ]
      },
      {
       "output_type": "stream",
       "stream": "stdout",
       "text": [
        " 6000 : 9.72596\n",
        "Minibatch accuracy: 28.1%\n",
        "Validation accuracy at step 6000: 23.0%"
       ]
      },
      {
       "output_type": "stream",
       "stream": "stdout",
       "text": [
        "\n",
        "Minibatch loss at step"
       ]
      },
      {
       "output_type": "stream",
       "stream": "stdout",
       "text": [
        " 7000 : 10.0731\n",
        "Minibatch accuracy: 40.6%\n",
        "Validation accuracy at step 7000: 26.7%"
       ]
      },
      {
       "output_type": "stream",
       "stream": "stdout",
       "text": [
        "\n",
        "Minibatch loss at step"
       ]
      },
      {
       "output_type": "stream",
       "stream": "stdout",
       "text": [
        " 8000 : 9.88438\n",
        "Minibatch accuracy: 40.6%\n",
        "Validation accuracy at step 8000: 26.9%"
       ]
      },
      {
       "output_type": "stream",
       "stream": "stdout",
       "text": [
        "\n",
        "Minibatch loss at step"
       ]
      },
      {
       "output_type": "stream",
       "stream": "stdout",
       "text": [
        " 9000 : 9.29067\n",
        "Minibatch accuracy: 31.2%\n",
        "Validation accuracy at step 9000: 28.7%"
       ]
      },
      {
       "output_type": "stream",
       "stream": "stdout",
       "text": [
        "\n",
        "Minibatch loss at step"
       ]
      },
      {
       "output_type": "stream",
       "stream": "stdout",
       "text": [
        " 10000 : 9.39039\n",
        "Minibatch accuracy: 21.9%\n",
        "Validation accuracy at step 10000: 26.2%"
       ]
      },
      {
       "output_type": "stream",
       "stream": "stdout",
       "text": [
        "\n",
        "Test accuracy at step 10000: 26.8%"
       ]
      },
      {
       "output_type": "stream",
       "stream": "stdout",
       "text": [
        "\n",
        "Minibatch loss at step"
       ]
      },
      {
       "output_type": "stream",
       "stream": "stdout",
       "text": [
        " 11000 : 9.51685\n",
        "Minibatch accuracy: 31.2%\n",
        "Validation accuracy at step 11000: 25.6%"
       ]
      },
      {
       "output_type": "stream",
       "stream": "stdout",
       "text": [
        "\n",
        "Minibatch loss at step"
       ]
      },
      {
       "output_type": "stream",
       "stream": "stdout",
       "text": [
        " 12000 : 9.16054\n",
        "Minibatch accuracy: 40.6%\n",
        "Validation accuracy at step 12000: 30.6%"
       ]
      },
      {
       "output_type": "stream",
       "stream": "stdout",
       "text": [
        "\n",
        "Minibatch loss at step"
       ]
      },
      {
       "output_type": "stream",
       "stream": "stdout",
       "text": [
        " 13000 : 8.52765\n",
        "Minibatch accuracy: 40.6%\n",
        "Validation accuracy at step 13000: 30.1%"
       ]
      },
      {
       "output_type": "stream",
       "stream": "stdout",
       "text": [
        "\n",
        "Minibatch loss at step"
       ]
      },
      {
       "output_type": "stream",
       "stream": "stdout",
       "text": [
        " 14000 : 9.32957\n",
        "Minibatch accuracy: 37.5%\n",
        "Validation accuracy at step 14000: 26.4%"
       ]
      },
      {
       "output_type": "stream",
       "stream": "stdout",
       "text": [
        "\n",
        "Minibatch loss at step"
       ]
      },
      {
       "output_type": "stream",
       "stream": "stdout",
       "text": [
        " 15000 : 8.56532\n",
        "Minibatch accuracy: 18.8%\n",
        "Validation accuracy at step 15000: 29.4%"
       ]
      },
      {
       "output_type": "stream",
       "stream": "stdout",
       "text": [
        "\n",
        "Test accuracy at step 15000: 29.8%"
       ]
      },
      {
       "output_type": "stream",
       "stream": "stdout",
       "text": [
        "\n",
        "Minibatch loss at step"
       ]
      },
      {
       "output_type": "stream",
       "stream": "stdout",
       "text": [
        " 16000 : 8.34913\n",
        "Minibatch accuracy: 37.5%\n",
        "Validation accuracy at step 16000: 27.0%"
       ]
      },
      {
       "output_type": "stream",
       "stream": "stdout",
       "text": [
        "\n",
        "Minibatch loss at step"
       ]
      },
      {
       "output_type": "stream",
       "stream": "stdout",
       "text": [
        " 17000 : 8.45529\n",
        "Minibatch accuracy: 40.6%\n",
        "Validation accuracy at step 17000: 33.7%"
       ]
      },
      {
       "output_type": "stream",
       "stream": "stdout",
       "text": [
        "\n",
        "Minibatch loss at step"
       ]
      },
      {
       "output_type": "stream",
       "stream": "stdout",
       "text": [
        " 18000 : 8.34814\n",
        "Minibatch accuracy: 28.1%\n",
        "Validation accuracy at step 18000: 32.5%"
       ]
      },
      {
       "output_type": "stream",
       "stream": "stdout",
       "text": [
        "\n",
        "Minibatch loss at step"
       ]
      },
      {
       "output_type": "stream",
       "stream": "stdout",
       "text": [
        " 19000 : 8.08188\n",
        "Minibatch accuracy: 43.8%\n",
        "Validation accuracy at step 19000: 32.5%"
       ]
      },
      {
       "output_type": "stream",
       "stream": "stdout",
       "text": [
        "\n",
        "Minibatch loss at step"
       ]
      },
      {
       "output_type": "stream",
       "stream": "stdout",
       "text": [
        " 20000 : 8.00942\n",
        "Minibatch accuracy: 37.5%\n",
        "Validation accuracy at step 20000: 32.2%"
       ]
      },
      {
       "output_type": "stream",
       "stream": "stdout",
       "text": [
        "\n",
        "Test accuracy at step 20000: 32.4%"
       ]
      },
      {
       "output_type": "stream",
       "stream": "stdout",
       "text": [
        "\n",
        "Minibatch loss at step"
       ]
      },
      {
       "output_type": "stream",
       "stream": "stdout",
       "text": [
        " 21000 : 7.94742\n",
        "Minibatch accuracy: 34.4%\n",
        "Validation accuracy at step 21000: 32.0%"
       ]
      },
      {
       "output_type": "stream",
       "stream": "stdout",
       "text": [
        "\n",
        "Minibatch loss at step"
       ]
      },
      {
       "output_type": "stream",
       "stream": "stdout",
       "text": [
        " 22000 : 8.02404\n",
        "Minibatch accuracy: 31.2%\n",
        "Validation accuracy at step 22000: 31.5%"
       ]
      },
      {
       "output_type": "stream",
       "stream": "stdout",
       "text": [
        "\n",
        "Minibatch loss at step"
       ]
      },
      {
       "output_type": "stream",
       "stream": "stdout",
       "text": [
        " 23000 : 7.91607\n",
        "Minibatch accuracy: 25.0%\n",
        "Validation accuracy at step 23000: 33.5%"
       ]
      },
      {
       "output_type": "stream",
       "stream": "stdout",
       "text": [
        "\n",
        "Minibatch loss at step"
       ]
      },
      {
       "output_type": "stream",
       "stream": "stdout",
       "text": [
        " 24000 : 7.62895\n",
        "Minibatch accuracy: 25.0%\n",
        "Validation accuracy at step 24000: 35.7%"
       ]
      },
      {
       "output_type": "stream",
       "stream": "stdout",
       "text": [
        "\n",
        "Minibatch loss at step"
       ]
      },
      {
       "output_type": "stream",
       "stream": "stdout",
       "text": [
        " 25000 : 8.06189\n",
        "Minibatch accuracy: 31.2%\n",
        "Validation accuracy at step 25000: 33.1%"
       ]
      },
      {
       "output_type": "stream",
       "stream": "stdout",
       "text": [
        "\n",
        "Test accuracy at step 25000: 32.7%"
       ]
      },
      {
       "output_type": "stream",
       "stream": "stdout",
       "text": [
        "\n",
        "Minibatch loss at step"
       ]
      },
      {
       "output_type": "stream",
       "stream": "stdout",
       "text": [
        " 26000 : 7.65259\n",
        "Minibatch accuracy: 21.9%\n",
        "Validation accuracy at step 26000: 33.4%"
       ]
      },
      {
       "output_type": "stream",
       "stream": "stdout",
       "text": [
        "\n",
        "Minibatch loss at step"
       ]
      },
      {
       "output_type": "stream",
       "stream": "stdout",
       "text": [
        " 27000 : 7.09487\n",
        "Minibatch accuracy: 53.1%\n",
        "Validation accuracy at step 27000: 34.9%"
       ]
      },
      {
       "output_type": "stream",
       "stream": "stdout",
       "text": [
        "\n",
        "Minibatch loss at step"
       ]
      },
      {
       "output_type": "stream",
       "stream": "stdout",
       "text": [
        " 28000 : 7.49243\n",
        "Minibatch accuracy: 37.5%\n",
        "Validation accuracy at step 28000: 32.5%"
       ]
      },
      {
       "output_type": "stream",
       "stream": "stdout",
       "text": [
        "\n",
        "Minibatch loss at step"
       ]
      },
      {
       "output_type": "stream",
       "stream": "stdout",
       "text": [
        " 29000 : 7.42344\n",
        "Minibatch accuracy: 28.1%\n",
        "Validation accuracy at step 29000: 32.7%"
       ]
      },
      {
       "output_type": "stream",
       "stream": "stdout",
       "text": [
        "\n",
        "Minibatch loss at step"
       ]
      },
      {
       "output_type": "stream",
       "stream": "stdout",
       "text": [
        " 30000 : 7.27459\n",
        "Minibatch accuracy: 34.4%\n",
        "Validation accuracy at step 30000: 35.9%"
       ]
      },
      {
       "output_type": "stream",
       "stream": "stdout",
       "text": [
        "\n",
        "Test accuracy at step 30000: 36.2%"
       ]
      },
      {
       "output_type": "stream",
       "stream": "stdout",
       "text": [
        "\n",
        "Minibatch loss at step"
       ]
      },
      {
       "output_type": "stream",
       "stream": "stdout",
       "text": [
        " 31000 : 7.29184\n",
        "Minibatch accuracy: 25.0%\n",
        "Validation accuracy at step 31000: 35.2%"
       ]
      },
      {
       "output_type": "stream",
       "stream": "stdout",
       "text": [
        "\n",
        "Minibatch loss at step"
       ]
      },
      {
       "output_type": "stream",
       "stream": "stdout",
       "text": [
        " 32000 : 7.52949\n",
        "Minibatch accuracy: 25.0%\n",
        "Validation accuracy at step 32000: 35.1%"
       ]
      },
      {
       "output_type": "stream",
       "stream": "stdout",
       "text": [
        "\n",
        "Minibatch loss at step"
       ]
      },
      {
       "output_type": "stream",
       "stream": "stdout",
       "text": [
        " 33000 : 6.95823\n",
        "Minibatch accuracy: 50.0%\n",
        "Validation accuracy at step 33000: 35.2%"
       ]
      },
      {
       "output_type": "stream",
       "stream": "stdout",
       "text": [
        "\n",
        "Minibatch loss at step"
       ]
      },
      {
       "output_type": "stream",
       "stream": "stdout",
       "text": [
        " 34000 : 7.08949\n",
        "Minibatch accuracy: 31.2%\n",
        "Validation accuracy at step 34000: 37.3%"
       ]
      },
      {
       "output_type": "stream",
       "stream": "stdout",
       "text": [
        "\n",
        "Minibatch loss at step"
       ]
      },
      {
       "output_type": "stream",
       "stream": "stdout",
       "text": [
        " 35000 : 6.86611\n",
        "Minibatch accuracy: 40.6%\n",
        "Validation accuracy at step 35000: 37.8%"
       ]
      },
      {
       "output_type": "stream",
       "stream": "stdout",
       "text": [
        "\n",
        "Test accuracy at step 35000: 38.2%"
       ]
      },
      {
       "output_type": "stream",
       "stream": "stdout",
       "text": [
        "\n",
        "Minibatch loss at step"
       ]
      },
      {
       "output_type": "stream",
       "stream": "stdout",
       "text": [
        " 36000 : 7.7386\n",
        "Minibatch accuracy: 28.1%\n",
        "Validation accuracy at step 36000: 36.9%"
       ]
      },
      {
       "output_type": "stream",
       "stream": "stdout",
       "text": [
        "\n",
        "Minibatch loss at step"
       ]
      },
      {
       "output_type": "stream",
       "stream": "stdout",
       "text": [
        " 37000 : 6.66146\n",
        "Minibatch accuracy: 46.9%\n",
        "Validation accuracy at step 37000: 37.1%"
       ]
      },
      {
       "output_type": "stream",
       "stream": "stdout",
       "text": [
        "\n",
        "Minibatch loss at step"
       ]
      },
      {
       "output_type": "stream",
       "stream": "stdout",
       "text": [
        " 38000 : 6.82322\n",
        "Minibatch accuracy: 25.0%\n",
        "Validation accuracy at step 38000: 38.5%"
       ]
      },
      {
       "output_type": "stream",
       "stream": "stdout",
       "text": [
        "\n",
        "Minibatch loss at step"
       ]
      },
      {
       "output_type": "stream",
       "stream": "stdout",
       "text": [
        " 39000 : 7.42438\n",
        "Minibatch accuracy: 28.1%\n",
        "Validation accuracy at step 39000: 38.5%"
       ]
      },
      {
       "output_type": "stream",
       "stream": "stdout",
       "text": [
        "\n",
        "Minibatch loss at step"
       ]
      },
      {
       "output_type": "stream",
       "stream": "stdout",
       "text": [
        " 40000 : 6.79259\n",
        "Minibatch accuracy: 37.5%\n",
        "Validation accuracy at step 40000: 37.3%"
       ]
      },
      {
       "output_type": "stream",
       "stream": "stdout",
       "text": [
        "\n",
        "Test accuracy at step 40000: 37.8%"
       ]
      },
      {
       "output_type": "stream",
       "stream": "stdout",
       "text": [
        "\n",
        "Minibatch loss at step"
       ]
      },
      {
       "output_type": "stream",
       "stream": "stdout",
       "text": [
        " 41000 : 6.80968\n",
        "Minibatch accuracy: 21.9%\n",
        "Validation accuracy at step 41000: 35.7%"
       ]
      },
      {
       "output_type": "stream",
       "stream": "stdout",
       "text": [
        "\n",
        "Minibatch loss at step"
       ]
      },
      {
       "output_type": "stream",
       "stream": "stdout",
       "text": [
        " 42000 : 6.63807\n",
        "Minibatch accuracy: 34.4%\n",
        "Validation accuracy at step 42000: 38.5%"
       ]
      },
      {
       "output_type": "stream",
       "stream": "stdout",
       "text": [
        "\n",
        "Minibatch loss at step"
       ]
      },
      {
       "output_type": "stream",
       "stream": "stdout",
       "text": [
        " 43000 : 6.46423\n",
        "Minibatch accuracy: 43.8%\n",
        "Validation accuracy at step 43000: 37.3%"
       ]
      },
      {
       "output_type": "stream",
       "stream": "stdout",
       "text": [
        "\n",
        "Minibatch loss at step"
       ]
      },
      {
       "output_type": "stream",
       "stream": "stdout",
       "text": [
        " 44000 : 6.59216\n",
        "Minibatch accuracy: 43.8%\n",
        "Validation accuracy at step 44000: 38.8%"
       ]
      },
      {
       "output_type": "stream",
       "stream": "stdout",
       "text": [
        "\n",
        "Minibatch loss at step"
       ]
      },
      {
       "output_type": "stream",
       "stream": "stdout",
       "text": [
        " 45000 : 6.02365\n",
        "Minibatch accuracy: 53.1%\n",
        "Validation accuracy at step 45000: 39.2%"
       ]
      },
      {
       "output_type": "stream",
       "stream": "stdout",
       "text": [
        "\n",
        "Test accuracy at step 45000: 39.6%"
       ]
      },
      {
       "output_type": "stream",
       "stream": "stdout",
       "text": [
        "\n",
        "Minibatch loss at step"
       ]
      },
      {
       "output_type": "stream",
       "stream": "stdout",
       "text": [
        " 46000 : 6.04853\n",
        "Minibatch accuracy: 53.1%\n",
        "Validation accuracy at step 46000: 39.1%"
       ]
      },
      {
       "output_type": "stream",
       "stream": "stdout",
       "text": [
        "\n",
        "Minibatch loss at step"
       ]
      },
      {
       "output_type": "stream",
       "stream": "stdout",
       "text": [
        " 47000 : 6.10922\n",
        "Minibatch accuracy: 53.1%\n",
        "Validation accuracy at step 47000: 36.8%"
       ]
      },
      {
       "output_type": "stream",
       "stream": "stdout",
       "text": [
        "\n",
        "Minibatch loss at step"
       ]
      },
      {
       "output_type": "stream",
       "stream": "stdout",
       "text": [
        " 48000 : 5.97325\n",
        "Minibatch accuracy: 56.2%\n",
        "Validation accuracy at step 48000: 38.2%"
       ]
      },
      {
       "output_type": "stream",
       "stream": "stdout",
       "text": [
        "\n",
        "Minibatch loss at step"
       ]
      },
      {
       "output_type": "stream",
       "stream": "stdout",
       "text": [
        " 49000 : 5.82146\n",
        "Minibatch accuracy: 56.2%\n",
        "Validation accuracy at step 49000: 39.3%"
       ]
      },
      {
       "output_type": "stream",
       "stream": "stdout",
       "text": [
        "\n",
        "Minibatch loss at step"
       ]
      },
      {
       "output_type": "stream",
       "stream": "stdout",
       "text": [
        " 50000 : 6.52948\n",
        "Minibatch accuracy: 18.8%\n",
        "Validation accuracy at step 50000: 39.7%"
       ]
      },
      {
       "output_type": "stream",
       "stream": "stdout",
       "text": [
        "\n",
        "Test accuracy at step 50000: 40.3%"
       ]
      },
      {
       "output_type": "stream",
       "stream": "stdout",
       "text": [
        "\n",
        "Minibatch loss at step"
       ]
      },
      {
       "output_type": "stream",
       "stream": "stdout",
       "text": [
        " 51000 : 6.18206\n",
        "Minibatch accuracy: 28.1%\n",
        "Validation accuracy at step 51000: 37.6%"
       ]
      },
      {
       "output_type": "stream",
       "stream": "stdout",
       "text": [
        "\n",
        "Minibatch loss at step"
       ]
      },
      {
       "output_type": "stream",
       "stream": "stdout",
       "text": [
        " 52000 : 5.97467\n",
        "Minibatch accuracy: 37.5%\n",
        "Validation accuracy at step 52000: 38.0%"
       ]
      },
      {
       "output_type": "stream",
       "stream": "stdout",
       "text": [
        "\n",
        "Minibatch loss at step"
       ]
      },
      {
       "output_type": "stream",
       "stream": "stdout",
       "text": [
        " 53000 : 5.79737\n",
        "Minibatch accuracy: 46.9%\n",
        "Validation accuracy at step 53000: 39.1%"
       ]
      },
      {
       "output_type": "stream",
       "stream": "stdout",
       "text": [
        "\n",
        "Minibatch loss at step"
       ]
      },
      {
       "output_type": "stream",
       "stream": "stdout",
       "text": [
        " 54000 : 5.97547\n",
        "Minibatch accuracy: 37.5%\n",
        "Validation accuracy at step 54000: 39.6%"
       ]
      },
      {
       "output_type": "stream",
       "stream": "stdout",
       "text": [
        "\n",
        "Minibatch loss at step"
       ]
      },
      {
       "output_type": "stream",
       "stream": "stdout",
       "text": [
        " 55000 : 5.79089\n",
        "Minibatch accuracy: 31.2%\n",
        "Validation accuracy at step 55000: 40.0%"
       ]
      },
      {
       "output_type": "stream",
       "stream": "stdout",
       "text": [
        "\n",
        "Test accuracy at step 55000: 40.2%"
       ]
      },
      {
       "output_type": "stream",
       "stream": "stdout",
       "text": [
        "\n",
        "Minibatch loss at step"
       ]
      },
      {
       "output_type": "stream",
       "stream": "stdout",
       "text": [
        " 56000 : 5.85925\n",
        "Minibatch accuracy: 50.0%\n",
        "Validation accuracy at step 56000: 41.2%"
       ]
      },
      {
       "output_type": "stream",
       "stream": "stdout",
       "text": [
        "\n",
        "Minibatch loss at step"
       ]
      },
      {
       "output_type": "stream",
       "stream": "stdout",
       "text": [
        " 57000 : 6.23118\n",
        "Minibatch accuracy: 28.1%\n",
        "Validation accuracy at step 57000: 39.7%"
       ]
      },
      {
       "output_type": "stream",
       "stream": "stdout",
       "text": [
        "\n",
        "Minibatch loss at step"
       ]
      },
      {
       "output_type": "stream",
       "stream": "stdout",
       "text": [
        " 58000 : 5.81547\n",
        "Minibatch accuracy: 34.4%\n",
        "Validation accuracy at step 58000: 38.6%"
       ]
      },
      {
       "output_type": "stream",
       "stream": "stdout",
       "text": [
        "\n",
        "Minibatch loss at step"
       ]
      },
      {
       "output_type": "stream",
       "stream": "stdout",
       "text": [
        " 59000 : 5.42694\n",
        "Minibatch accuracy: 50.0%\n",
        "Validation accuracy at step 59000: 40.7%"
       ]
      },
      {
       "output_type": "stream",
       "stream": "stdout",
       "text": [
        "\n",
        "Minibatch loss at step"
       ]
      },
      {
       "output_type": "stream",
       "stream": "stdout",
       "text": [
        " 60000 : 5.70837\n",
        "Minibatch accuracy: 37.5%\n",
        "Validation accuracy at step 60000: 39.9%"
       ]
      },
      {
       "output_type": "stream",
       "stream": "stdout",
       "text": [
        "\n",
        "Test accuracy at step 60000: 40.0%"
       ]
      },
      {
       "output_type": "stream",
       "stream": "stdout",
       "text": [
        "\n",
        "Minibatch loss at step"
       ]
      },
      {
       "output_type": "stream",
       "stream": "stdout",
       "text": [
        " 61000 : 5.75596\n",
        "Minibatch accuracy: 37.5%\n",
        "Validation accuracy at step 61000: 40.8%"
       ]
      },
      {
       "output_type": "stream",
       "stream": "stdout",
       "text": [
        "\n",
        "Minibatch loss at step"
       ]
      },
      {
       "output_type": "stream",
       "stream": "stdout",
       "text": [
        " 62000 : 5.27179\n",
        "Minibatch accuracy: 53.1%\n",
        "Validation accuracy at step 62000: 40.7%"
       ]
      },
      {
       "output_type": "stream",
       "stream": "stdout",
       "text": [
        "\n",
        "Minibatch loss at step"
       ]
      },
      {
       "output_type": "stream",
       "stream": "stdout",
       "text": [
        " 63000 : 5.32564\n",
        "Minibatch accuracy: 53.1%\n",
        "Validation accuracy at step 63000: 40.1%"
       ]
      },
      {
       "output_type": "stream",
       "stream": "stdout",
       "text": [
        "\n",
        "Minibatch loss at step"
       ]
      },
      {
       "output_type": "stream",
       "stream": "stdout",
       "text": [
        " 64000 : 5.51508\n",
        "Minibatch accuracy: 37.5%\n",
        "Validation accuracy at step 64000: 41.2%"
       ]
      },
      {
       "output_type": "stream",
       "stream": "stdout",
       "text": [
        "\n",
        "Minibatch loss at step"
       ]
      },
      {
       "output_type": "stream",
       "stream": "stdout",
       "text": [
        " 65000 : 5.57427\n",
        "Minibatch accuracy: 31.2%\n",
        "Validation accuracy at step 65000: 40.5%"
       ]
      },
      {
       "output_type": "stream",
       "stream": "stdout",
       "text": [
        "\n",
        "Test accuracy at step 65000: 40.5%"
       ]
      },
      {
       "output_type": "stream",
       "stream": "stdout",
       "text": [
        "\n",
        "Minibatch loss at step"
       ]
      },
      {
       "output_type": "stream",
       "stream": "stdout",
       "text": [
        " 66000 : 5.84306\n",
        "Minibatch accuracy: 25.0%\n",
        "Validation accuracy at step 66000: 40.4%"
       ]
      },
      {
       "output_type": "stream",
       "stream": "stdout",
       "text": [
        "\n",
        "Minibatch loss at step"
       ]
      },
      {
       "output_type": "stream",
       "stream": "stdout",
       "text": [
        " 67000 : 5.34169\n",
        "Minibatch accuracy: 46.9%\n",
        "Validation accuracy at step 67000: 39.5%"
       ]
      },
      {
       "output_type": "stream",
       "stream": "stdout",
       "text": [
        "\n",
        "Minibatch loss at step"
       ]
      },
      {
       "output_type": "stream",
       "stream": "stdout",
       "text": [
        " 68000 : 5.15482\n",
        "Minibatch accuracy: 40.6%\n",
        "Validation accuracy at step 68000: 39.1%"
       ]
      },
      {
       "output_type": "stream",
       "stream": "stdout",
       "text": [
        "\n",
        "Minibatch loss at step"
       ]
      },
      {
       "output_type": "stream",
       "stream": "stdout",
       "text": [
        " 69000 : 5.33236\n",
        "Minibatch accuracy: 43.8%\n",
        "Validation accuracy at step 69000: 40.2%"
       ]
      },
      {
       "output_type": "stream",
       "stream": "stdout",
       "text": [
        "\n",
        "Minibatch loss at step"
       ]
      },
      {
       "output_type": "stream",
       "stream": "stdout",
       "text": [
        " 70000 : 5.39187\n",
        "Minibatch accuracy: 31.2%\n",
        "Validation accuracy at step 70000: 40.3%"
       ]
      },
      {
       "output_type": "stream",
       "stream": "stdout",
       "text": [
        "\n",
        "Test accuracy at step 70000: 40.7%"
       ]
      },
      {
       "output_type": "stream",
       "stream": "stdout",
       "text": [
        "\n",
        "Minibatch loss at step"
       ]
      },
      {
       "output_type": "stream",
       "stream": "stdout",
       "text": [
        " 71000 : 4.96206\n",
        "Minibatch accuracy: 56.2%\n",
        "Validation accuracy at step 71000: 40.7%"
       ]
      },
      {
       "output_type": "stream",
       "stream": "stdout",
       "text": [
        "\n",
        "Minibatch loss at step"
       ]
      },
      {
       "output_type": "stream",
       "stream": "stdout",
       "text": [
        " 72000 : 5.27002\n",
        "Minibatch accuracy: 43.8%\n",
        "Validation accuracy at step 72000: 42.0%"
       ]
      },
      {
       "output_type": "stream",
       "stream": "stdout",
       "text": [
        "\n",
        "Minibatch loss at step"
       ]
      },
      {
       "output_type": "stream",
       "stream": "stdout",
       "text": [
        " 73000 : 5.2149\n",
        "Minibatch accuracy: 46.9%\n",
        "Validation accuracy at step 73000: 42.6%"
       ]
      },
      {
       "output_type": "stream",
       "stream": "stdout",
       "text": [
        "\n",
        "Minibatch loss at step"
       ]
      },
      {
       "output_type": "stream",
       "stream": "stdout",
       "text": [
        " 74000 : 5.07727\n",
        "Minibatch accuracy: 31.2%\n",
        "Validation accuracy at step 74000: 41.9%"
       ]
      },
      {
       "output_type": "stream",
       "stream": "stdout",
       "text": [
        "\n",
        "Minibatch loss at step"
       ]
      },
      {
       "output_type": "stream",
       "stream": "stdout",
       "text": [
        " 75000 : 5.10249\n",
        "Minibatch accuracy: 37.5%\n",
        "Validation accuracy at step 75000: 41.3%"
       ]
      },
      {
       "output_type": "stream",
       "stream": "stdout",
       "text": [
        "\n",
        "Test accuracy at step 75000: 41.9%"
       ]
      },
      {
       "output_type": "stream",
       "stream": "stdout",
       "text": [
        "\n",
        "Minibatch loss at step"
       ]
      },
      {
       "output_type": "stream",
       "stream": "stdout",
       "text": [
        " 76000 : 5.15645\n",
        "Minibatch accuracy: 37.5%\n",
        "Validation accuracy at step 76000: 41.9%"
       ]
      },
      {
       "output_type": "stream",
       "stream": "stdout",
       "text": [
        "\n",
        "Minibatch loss at step"
       ]
      },
      {
       "output_type": "stream",
       "stream": "stdout",
       "text": [
        " 77000 : 4.78677\n",
        "Minibatch accuracy: 50.0%\n",
        "Validation accuracy at step 77000: 41.3%"
       ]
      },
      {
       "output_type": "stream",
       "stream": "stdout",
       "text": [
        "\n",
        "Minibatch loss at step"
       ]
      },
      {
       "output_type": "stream",
       "stream": "stdout",
       "text": [
        " 78000 : 5.02428\n",
        "Minibatch accuracy: 59.4%\n",
        "Validation accuracy at step 78000: 41.0%"
       ]
      },
      {
       "output_type": "stream",
       "stream": "stdout",
       "text": [
        "\n",
        "Minibatch loss at step"
       ]
      },
      {
       "output_type": "stream",
       "stream": "stdout",
       "text": [
        " 79000 : 4.91756\n",
        "Minibatch accuracy: 46.9%\n",
        "Validation accuracy at step 79000: 41.8%"
       ]
      },
      {
       "output_type": "stream",
       "stream": "stdout",
       "text": [
        "\n",
        "Minibatch loss at step"
       ]
      },
      {
       "output_type": "stream",
       "stream": "stdout",
       "text": [
        " 80000 : 4.68909\n",
        "Minibatch accuracy: 50.0%\n",
        "Validation accuracy at step 80000: 41.9%"
       ]
      },
      {
       "output_type": "stream",
       "stream": "stdout",
       "text": [
        "\n",
        "Test accuracy at step 80000: 42.4%"
       ]
      },
      {
       "output_type": "stream",
       "stream": "stdout",
       "text": [
        "\n",
        "Minibatch loss at step"
       ]
      },
      {
       "output_type": "stream",
       "stream": "stdout",
       "text": [
        " 81000 : 4.87974\n",
        "Minibatch accuracy: 43.8%\n",
        "Validation accuracy at step 81000: 42.3%"
       ]
      },
      {
       "output_type": "stream",
       "stream": "stdout",
       "text": [
        "\n",
        "Minibatch loss at step"
       ]
      },
      {
       "output_type": "stream",
       "stream": "stdout",
       "text": [
        " 82000 : 4.65878\n",
        "Minibatch accuracy: 43.8%\n",
        "Validation accuracy at step 82000: 41.2%"
       ]
      },
      {
       "output_type": "stream",
       "stream": "stdout",
       "text": [
        "\n",
        "Minibatch loss at step"
       ]
      },
      {
       "output_type": "stream",
       "stream": "stdout",
       "text": [
        " 83000 : 5.18866\n",
        "Minibatch accuracy: 46.9%\n",
        "Validation accuracy at step 83000: 42.0%"
       ]
      },
      {
       "output_type": "stream",
       "stream": "stdout",
       "text": [
        "\n",
        "Minibatch loss at step"
       ]
      },
      {
       "output_type": "stream",
       "stream": "stdout",
       "text": [
        " 84000 : 4.98153\n",
        "Minibatch accuracy: 53.1%\n",
        "Validation accuracy at step 84000: 40.3%"
       ]
      },
      {
       "output_type": "stream",
       "stream": "stdout",
       "text": [
        "\n",
        "Minibatch loss at step"
       ]
      },
      {
       "output_type": "stream",
       "stream": "stdout",
       "text": [
        " 85000 : 4.55706\n",
        "Minibatch accuracy: 43.8%\n",
        "Validation accuracy at step 85000: 43.5%"
       ]
      },
      {
       "output_type": "stream",
       "stream": "stdout",
       "text": [
        "\n",
        "Test accuracy at step 85000: 43.8%"
       ]
      },
      {
       "output_type": "stream",
       "stream": "stdout",
       "text": [
        "\n",
        "Minibatch loss at step"
       ]
      },
      {
       "output_type": "stream",
       "stream": "stdout",
       "text": [
        " 86000 : 4.61218\n",
        "Minibatch accuracy: 34.4%\n",
        "Validation accuracy at step 86000: 42.4%"
       ]
      },
      {
       "output_type": "stream",
       "stream": "stdout",
       "text": [
        "\n",
        "Minibatch loss at step"
       ]
      },
      {
       "output_type": "stream",
       "stream": "stdout",
       "text": [
        " 87000 : 4.27642\n",
        "Minibatch accuracy: 65.6%\n",
        "Validation accuracy at step 87000: 41.0%"
       ]
      },
      {
       "output_type": "stream",
       "stream": "stdout",
       "text": [
        "\n",
        "Minibatch loss at step"
       ]
      },
      {
       "output_type": "stream",
       "stream": "stdout",
       "text": [
        " 88000 : 4.715\n",
        "Minibatch accuracy: 46.9%\n",
        "Validation accuracy at step 88000: 42.5%"
       ]
      },
      {
       "output_type": "stream",
       "stream": "stdout",
       "text": [
        "\n",
        "Minibatch loss at step"
       ]
      },
      {
       "output_type": "stream",
       "stream": "stdout",
       "text": [
        " 89000 : 4.58078\n",
        "Minibatch accuracy: 59.4%\n",
        "Validation accuracy at step 89000: 41.1%"
       ]
      },
      {
       "output_type": "stream",
       "stream": "stdout",
       "text": [
        "\n",
        "Minibatch loss at step"
       ]
      },
      {
       "output_type": "stream",
       "stream": "stdout",
       "text": [
        " 90000 : 4.71894\n",
        "Minibatch accuracy: 43.8%\n",
        "Validation accuracy at step 90000: 42.4%"
       ]
      },
      {
       "output_type": "stream",
       "stream": "stdout",
       "text": [
        "\n",
        "Test accuracy at step 90000: 42.8%"
       ]
      },
      {
       "output_type": "stream",
       "stream": "stdout",
       "text": [
        "\n",
        "Minibatch loss at step"
       ]
      },
      {
       "output_type": "stream",
       "stream": "stdout",
       "text": [
        " 91000 : 4.71221\n",
        "Minibatch accuracy: 46.9%\n",
        "Validation accuracy at step 91000: 43.3%"
       ]
      },
      {
       "output_type": "stream",
       "stream": "stdout",
       "text": [
        "\n",
        "Minibatch loss at step"
       ]
      },
      {
       "output_type": "stream",
       "stream": "stdout",
       "text": [
        " 92000 : 4.41493\n",
        "Minibatch accuracy: 50.0%\n",
        "Validation accuracy at step 92000: 43.8%"
       ]
      },
      {
       "output_type": "stream",
       "stream": "stdout",
       "text": [
        "\n",
        "Minibatch loss at step"
       ]
      },
      {
       "output_type": "stream",
       "stream": "stdout",
       "text": [
        " 93000 : 4.8224\n",
        "Minibatch accuracy: 34.4%\n",
        "Validation accuracy at step 93000: 43.4%"
       ]
      },
      {
       "output_type": "stream",
       "stream": "stdout",
       "text": [
        "\n",
        "Minibatch loss at step"
       ]
      },
      {
       "output_type": "stream",
       "stream": "stdout",
       "text": [
        " 94000 : 4.60204\n",
        "Minibatch accuracy: 40.6%\n",
        "Validation accuracy at step 94000: 44.3%"
       ]
      },
      {
       "output_type": "stream",
       "stream": "stdout",
       "text": [
        "\n",
        "Minibatch loss at step"
       ]
      },
      {
       "output_type": "stream",
       "stream": "stdout",
       "text": [
        " 95000 : 4.6756\n",
        "Minibatch accuracy: 34.4%\n",
        "Validation accuracy at step 95000: 43.3%"
       ]
      },
      {
       "output_type": "stream",
       "stream": "stdout",
       "text": [
        "\n",
        "Test accuracy at step 95000: 43.3%"
       ]
      },
      {
       "output_type": "stream",
       "stream": "stdout",
       "text": [
        "\n",
        "Minibatch loss at step"
       ]
      },
      {
       "output_type": "stream",
       "stream": "stdout",
       "text": [
        " 96000 : 4.68587\n",
        "Minibatch accuracy: 34.4%\n",
        "Validation accuracy at step 96000: 44.2%"
       ]
      },
      {
       "output_type": "stream",
       "stream": "stdout",
       "text": [
        "\n",
        "Minibatch loss at step"
       ]
      },
      {
       "output_type": "stream",
       "stream": "stdout",
       "text": [
        " 97000 : 4.5178\n",
        "Minibatch accuracy: 34.4%\n",
        "Validation accuracy at step 97000: 44.1%"
       ]
      },
      {
       "output_type": "stream",
       "stream": "stdout",
       "text": [
        "\n",
        "Minibatch loss at step"
       ]
      },
      {
       "output_type": "stream",
       "stream": "stdout",
       "text": [
        " 98000 : 4.33251\n",
        "Minibatch accuracy: 56.2%\n",
        "Validation accuracy at step 98000: 42.6%"
       ]
      },
      {
       "output_type": "stream",
       "stream": "stdout",
       "text": [
        "\n",
        "Minibatch loss at step"
       ]
      },
      {
       "output_type": "stream",
       "stream": "stdout",
       "text": [
        " 99000 : 4.26662\n",
        "Minibatch accuracy: 50.0%\n",
        "Validation accuracy at step 99000: 42.2%"
       ]
      },
      {
       "output_type": "stream",
       "stream": "stdout",
       "text": [
        "\n",
        "Minibatch loss at step"
       ]
      },
      {
       "output_type": "stream",
       "stream": "stdout",
       "text": [
        " 100000 : 4.30138\n",
        "Minibatch accuracy: 40.6%\n",
        "Validation accuracy at step 100000: 44.3%"
       ]
      },
      {
       "output_type": "stream",
       "stream": "stdout",
       "text": [
        "\n",
        "Test accuracy at step 100000: 44.3%"
       ]
      },
      {
       "output_type": "stream",
       "stream": "stdout",
       "text": [
        "\n",
        "Minibatch loss at step"
       ]
      },
      {
       "output_type": "stream",
       "stream": "stdout",
       "text": [
        " 101000 : 4.23655\n",
        "Minibatch accuracy: 50.0%\n",
        "Validation accuracy at step 101000: 42.7%"
       ]
      },
      {
       "output_type": "stream",
       "stream": "stdout",
       "text": [
        "\n",
        "Minibatch loss at step"
       ]
      },
      {
       "output_type": "stream",
       "stream": "stdout",
       "text": [
        " 102000 : 4.23309\n",
        "Minibatch accuracy: 50.0%\n",
        "Validation accuracy at step 102000: 41.9%"
       ]
      },
      {
       "output_type": "stream",
       "stream": "stdout",
       "text": [
        "\n",
        "Minibatch loss at step"
       ]
      },
      {
       "output_type": "stream",
       "stream": "stdout",
       "text": [
        " 103000 : 4.2851\n",
        "Minibatch accuracy: 37.5%\n",
        "Validation accuracy at step 103000: 43.9%"
       ]
      },
      {
       "output_type": "stream",
       "stream": "stdout",
       "text": [
        "\n",
        "Minibatch loss at step"
       ]
      },
      {
       "output_type": "stream",
       "stream": "stdout",
       "text": [
        " 104000 : 4.27559\n",
        "Minibatch accuracy: 43.8%\n",
        "Validation accuracy at step 104000: 41.6%"
       ]
      },
      {
       "output_type": "stream",
       "stream": "stdout",
       "text": [
        "\n",
        "Minibatch loss at step"
       ]
      },
      {
       "output_type": "stream",
       "stream": "stdout",
       "text": [
        " 105000 : 4.21203\n",
        "Minibatch accuracy: 43.8%\n",
        "Validation accuracy at step 105000: 43.5%"
       ]
      },
      {
       "output_type": "stream",
       "stream": "stdout",
       "text": [
        "\n",
        "Test accuracy at step 105000: 43.5%"
       ]
      },
      {
       "output_type": "stream",
       "stream": "stdout",
       "text": [
        "\n",
        "Minibatch loss at step"
       ]
      },
      {
       "output_type": "stream",
       "stream": "stdout",
       "text": [
        " 106000 : 4.28789\n",
        "Minibatch accuracy: 40.6%\n",
        "Validation accuracy at step 106000: 43.2%"
       ]
      },
      {
       "output_type": "stream",
       "stream": "stdout",
       "text": [
        "\n",
        "Minibatch loss at step"
       ]
      },
      {
       "output_type": "stream",
       "stream": "stdout",
       "text": [
        " 107000 : 4.22654\n",
        "Minibatch accuracy: 46.9%\n",
        "Validation accuracy at step 107000: 43.9%"
       ]
      },
      {
       "output_type": "stream",
       "stream": "stdout",
       "text": [
        "\n",
        "Minibatch loss at step"
       ]
      },
      {
       "output_type": "stream",
       "stream": "stdout",
       "text": [
        " 108000 : 4.23286\n",
        "Minibatch accuracy: 46.9%\n",
        "Validation accuracy at step 108000: 43.4%"
       ]
      },
      {
       "output_type": "stream",
       "stream": "stdout",
       "text": [
        "\n",
        "Minibatch loss at step"
       ]
      },
      {
       "output_type": "stream",
       "stream": "stdout",
       "text": [
        " 109000 : 4.1243\n",
        "Minibatch accuracy: 40.6%\n",
        "Validation accuracy at step 109000: 43.9%"
       ]
      },
      {
       "output_type": "stream",
       "stream": "stdout",
       "text": [
        "\n",
        "Minibatch loss at step"
       ]
      },
      {
       "output_type": "stream",
       "stream": "stdout",
       "text": [
        " 110000 : 4.14849\n",
        "Minibatch accuracy: 46.9%\n",
        "Validation accuracy at step 110000: 43.4%"
       ]
      },
      {
       "output_type": "stream",
       "stream": "stdout",
       "text": [
        "\n",
        "Test accuracy at step 110000: 43.9%"
       ]
      },
      {
       "output_type": "stream",
       "stream": "stdout",
       "text": [
        "\n",
        "Minibatch loss at step"
       ]
      },
      {
       "output_type": "stream",
       "stream": "stdout",
       "text": [
        " 111000 : 4.13825\n",
        "Minibatch accuracy: 40.6%\n",
        "Validation accuracy at step 111000: 45.4%"
       ]
      },
      {
       "output_type": "stream",
       "stream": "stdout",
       "text": [
        "\n",
        "Minibatch loss at step"
       ]
      },
      {
       "output_type": "stream",
       "stream": "stdout",
       "text": [
        " 112000 : 4.02661\n",
        "Minibatch accuracy: 46.9%\n",
        "Validation accuracy at step 112000: 42.0%"
       ]
      },
      {
       "output_type": "stream",
       "stream": "stdout",
       "text": [
        "\n",
        "Minibatch loss at step"
       ]
      },
      {
       "output_type": "stream",
       "stream": "stdout",
       "text": [
        " 113000 : 4.06371\n",
        "Minibatch accuracy: 46.9%\n",
        "Validation accuracy at step 113000: 43.3%"
       ]
      },
      {
       "output_type": "stream",
       "stream": "stdout",
       "text": [
        "\n",
        "Minibatch loss at step"
       ]
      },
      {
       "output_type": "stream",
       "stream": "stdout",
       "text": [
        " 114000 : 4.18966\n",
        "Minibatch accuracy: 40.6%\n",
        "Validation accuracy at step 114000: 44.1%"
       ]
      },
      {
       "output_type": "stream",
       "stream": "stdout",
       "text": [
        "\n",
        "Minibatch loss at step"
       ]
      },
      {
       "output_type": "stream",
       "stream": "stdout",
       "text": [
        " 115000 : 4.11791\n",
        "Minibatch accuracy: 40.6%\n",
        "Validation accuracy at step 115000: 44.1%"
       ]
      },
      {
       "output_type": "stream",
       "stream": "stdout",
       "text": [
        "\n",
        "Test accuracy at step 115000: 43.9%"
       ]
      },
      {
       "output_type": "stream",
       "stream": "stdout",
       "text": [
        "\n",
        "Minibatch loss at step"
       ]
      },
      {
       "output_type": "stream",
       "stream": "stdout",
       "text": [
        " 116000 : 4.23147\n",
        "Minibatch accuracy: 34.4%\n",
        "Validation accuracy at step 116000: 44.5%"
       ]
      },
      {
       "output_type": "stream",
       "stream": "stdout",
       "text": [
        "\n",
        "Minibatch loss at step"
       ]
      },
      {
       "output_type": "stream",
       "stream": "stdout",
       "text": [
        " 117000 : 4.16182\n",
        "Minibatch accuracy: 46.9%\n",
        "Validation accuracy at step 117000: 43.1%"
       ]
      },
      {
       "output_type": "stream",
       "stream": "stdout",
       "text": [
        "\n",
        "Minibatch loss at step"
       ]
      },
      {
       "output_type": "stream",
       "stream": "stdout",
       "text": [
        " 118000 : 3.89225\n",
        "Minibatch accuracy: 50.0%\n",
        "Validation accuracy at step 118000: 43.3%"
       ]
      },
      {
       "output_type": "stream",
       "stream": "stdout",
       "text": [
        "\n",
        "Minibatch loss at step"
       ]
      },
      {
       "output_type": "stream",
       "stream": "stdout",
       "text": [
        " 119000 : 3.825\n",
        "Minibatch accuracy: 46.9%\n",
        "Validation accuracy at step 119000: 43.6%"
       ]
      },
      {
       "output_type": "stream",
       "stream": "stdout",
       "text": [
        "\n",
        "Minibatch loss at step"
       ]
      },
      {
       "output_type": "stream",
       "stream": "stdout",
       "text": [
        " 120000 : 3.98998\n",
        "Minibatch accuracy: 46.9%\n",
        "Validation accuracy at step 120000: 44.2%"
       ]
      },
      {
       "output_type": "stream",
       "stream": "stdout",
       "text": [
        "\n",
        "Test accuracy at step 120000: 44.3%"
       ]
      },
      {
       "output_type": "stream",
       "stream": "stdout",
       "text": [
        "\n",
        "Minibatch loss at step"
       ]
      },
      {
       "output_type": "stream",
       "stream": "stdout",
       "text": [
        " 121000 : 4.00048\n",
        "Minibatch accuracy: 40.6%\n",
        "Validation accuracy at step 121000: 45.1%"
       ]
      },
      {
       "output_type": "stream",
       "stream": "stdout",
       "text": [
        "\n",
        "Minibatch loss at step"
       ]
      },
      {
       "output_type": "stream",
       "stream": "stdout",
       "text": [
        " 122000 : 3.82381\n",
        "Minibatch accuracy: 50.0%\n",
        "Validation accuracy at step 122000: 44.4%"
       ]
      },
      {
       "output_type": "stream",
       "stream": "stdout",
       "text": [
        "\n",
        "Minibatch loss at step"
       ]
      },
      {
       "output_type": "stream",
       "stream": "stdout",
       "text": [
        " 123000 : 3.88624\n",
        "Minibatch accuracy: 46.9%\n",
        "Validation accuracy at step 123000: 44.9%"
       ]
      },
      {
       "output_type": "stream",
       "stream": "stdout",
       "text": [
        "\n",
        "Minibatch loss at step"
       ]
      },
      {
       "output_type": "stream",
       "stream": "stdout",
       "text": [
        " 124000 : 3.96117\n",
        "Minibatch accuracy: 37.5%\n",
        "Validation accuracy at step 124000: 43.6%"
       ]
      },
      {
       "output_type": "stream",
       "stream": "stdout",
       "text": [
        "\n",
        "Minibatch loss at step"
       ]
      },
      {
       "output_type": "stream",
       "stream": "stdout",
       "text": [
        " 125000 : 3.80913\n",
        "Minibatch accuracy: 53.1%\n",
        "Validation accuracy at step 125000: 45.0%"
       ]
      },
      {
       "output_type": "stream",
       "stream": "stdout",
       "text": [
        "\n",
        "Test accuracy at step 125000: 44.6%"
       ]
      },
      {
       "output_type": "stream",
       "stream": "stdout",
       "text": [
        "\n",
        "Minibatch loss at step"
       ]
      },
      {
       "output_type": "stream",
       "stream": "stdout",
       "text": [
        " 126000 : 3.86502\n",
        "Minibatch accuracy: 40.6%\n",
        "Validation accuracy at step 126000: 45.1%"
       ]
      },
      {
       "output_type": "stream",
       "stream": "stdout",
       "text": [
        "\n",
        "Minibatch loss at step"
       ]
      },
      {
       "output_type": "stream",
       "stream": "stdout",
       "text": [
        " 127000 : 3.8582\n",
        "Minibatch accuracy: 40.6%\n",
        "Validation accuracy at step 127000: 42.4%"
       ]
      },
      {
       "output_type": "stream",
       "stream": "stdout",
       "text": [
        "\n",
        "Minibatch loss at step"
       ]
      },
      {
       "output_type": "stream",
       "stream": "stdout",
       "text": [
        " 128000 : 3.89282\n",
        "Minibatch accuracy: 43.8%\n",
        "Validation accuracy at step 128000: 44.3%"
       ]
      },
      {
       "output_type": "stream",
       "stream": "stdout",
       "text": [
        "\n",
        "Minibatch loss at step"
       ]
      },
      {
       "output_type": "stream",
       "stream": "stdout",
       "text": [
        " 129000 : 3.72058\n",
        "Minibatch accuracy: 43.8%\n",
        "Validation accuracy at step 129000: 45.2%"
       ]
      },
      {
       "output_type": "stream",
       "stream": "stdout",
       "text": [
        "\n",
        "Minibatch loss at step"
       ]
      },
      {
       "output_type": "stream",
       "stream": "stdout",
       "text": [
        " 130000 : 3.88387\n",
        "Minibatch accuracy: 34.4%\n",
        "Validation accuracy at step 130000: 43.9%"
       ]
      },
      {
       "output_type": "stream",
       "stream": "stdout",
       "text": [
        "\n",
        "Test accuracy at step 130000: 44.2%"
       ]
      },
      {
       "output_type": "stream",
       "stream": "stdout",
       "text": [
        "\n",
        "Minibatch loss at step"
       ]
      },
      {
       "output_type": "stream",
       "stream": "stdout",
       "text": [
        " 131000 : 3.82275\n",
        "Minibatch accuracy: 43.8%\n",
        "Validation accuracy at step 131000: 44.3%"
       ]
      },
      {
       "output_type": "stream",
       "stream": "stdout",
       "text": [
        "\n",
        "Minibatch loss at step"
       ]
      },
      {
       "output_type": "stream",
       "stream": "stdout",
       "text": [
        " 132000 : 3.51462\n",
        "Minibatch accuracy: 62.5%\n",
        "Validation accuracy at step 132000: 44.9%"
       ]
      },
      {
       "output_type": "stream",
       "stream": "stdout",
       "text": [
        "\n",
        "Minibatch loss at step"
       ]
      },
      {
       "output_type": "stream",
       "stream": "stdout",
       "text": [
        " 133000 : 3.54993\n",
        "Minibatch accuracy: 53.1%\n",
        "Validation accuracy at step 133000: 44.0%"
       ]
      },
      {
       "output_type": "stream",
       "stream": "stdout",
       "text": [
        "\n",
        "Minibatch loss at step"
       ]
      },
      {
       "output_type": "stream",
       "stream": "stdout",
       "text": [
        " 134000 : 3.79316\n",
        "Minibatch accuracy: 40.6%\n",
        "Validation accuracy at step 134000: 44.0%"
       ]
      },
      {
       "output_type": "stream",
       "stream": "stdout",
       "text": [
        "\n",
        "Minibatch loss at step"
       ]
      },
      {
       "output_type": "stream",
       "stream": "stdout",
       "text": [
        " 135000 : 3.79687\n",
        "Minibatch accuracy: 34.4%\n",
        "Validation accuracy at step 135000: 44.3%"
       ]
      },
      {
       "output_type": "stream",
       "stream": "stdout",
       "text": [
        "\n",
        "Test accuracy at step 135000: 44.8%"
       ]
      },
      {
       "output_type": "stream",
       "stream": "stdout",
       "text": [
        "\n",
        "Minibatch loss at step"
       ]
      },
      {
       "output_type": "stream",
       "stream": "stdout",
       "text": [
        " 136000 : 3.66835\n",
        "Minibatch accuracy: 46.9%\n",
        "Validation accuracy at step 136000: 44.3%"
       ]
      },
      {
       "output_type": "stream",
       "stream": "stdout",
       "text": [
        "\n",
        "Minibatch loss at step"
       ]
      },
      {
       "output_type": "stream",
       "stream": "stdout",
       "text": [
        " 137000 : 3.58685\n",
        "Minibatch accuracy: 43.8%\n",
        "Validation accuracy at step 137000: 45.1%"
       ]
      },
      {
       "output_type": "stream",
       "stream": "stdout",
       "text": [
        "\n",
        "Minibatch loss at step"
       ]
      },
      {
       "output_type": "stream",
       "stream": "stdout",
       "text": [
        " 138000 : 3.96681\n",
        "Minibatch accuracy: 31.2%\n",
        "Validation accuracy at step 138000: 45.1%"
       ]
      },
      {
       "output_type": "stream",
       "stream": "stdout",
       "text": [
        "\n",
        "Minibatch loss at step"
       ]
      },
      {
       "output_type": "stream",
       "stream": "stdout",
       "text": [
        " 139000 : 3.35203\n",
        "Minibatch accuracy: 46.9%\n",
        "Validation accuracy at step 139000: 45.5%"
       ]
      },
      {
       "output_type": "stream",
       "stream": "stdout",
       "text": [
        "\n",
        "Minibatch loss at step"
       ]
      },
      {
       "output_type": "stream",
       "stream": "stdout",
       "text": [
        " 140000 : 3.61607\n",
        "Minibatch accuracy: 50.0%\n",
        "Validation accuracy at step 140000: 44.7%"
       ]
      },
      {
       "output_type": "stream",
       "stream": "stdout",
       "text": [
        "\n",
        "Test accuracy at step 140000: 45.2%"
       ]
      },
      {
       "output_type": "stream",
       "stream": "stdout",
       "text": [
        "\n",
        "Minibatch loss at step"
       ]
      },
      {
       "output_type": "stream",
       "stream": "stdout",
       "text": [
        " 141000 : 3.73278\n",
        "Minibatch accuracy: 43.8%\n",
        "Validation accuracy at step 141000: 45.5%"
       ]
      },
      {
       "output_type": "stream",
       "stream": "stdout",
       "text": [
        "\n",
        "Minibatch loss at step"
       ]
      },
      {
       "output_type": "stream",
       "stream": "stdout",
       "text": [
        " 142000 : 3.68466\n",
        "Minibatch accuracy: 34.4%\n",
        "Validation accuracy at step 142000: 44.3%"
       ]
      },
      {
       "output_type": "stream",
       "stream": "stdout",
       "text": [
        "\n",
        "Minibatch loss at step"
       ]
      },
      {
       "output_type": "stream",
       "stream": "stdout",
       "text": [
        " 143000 : 3.65308\n",
        "Minibatch accuracy: 34.4%\n",
        "Validation accuracy at step 143000: 45.6%"
       ]
      },
      {
       "output_type": "stream",
       "stream": "stdout",
       "text": [
        "\n",
        "Minibatch loss at step"
       ]
      },
      {
       "output_type": "stream",
       "stream": "stdout",
       "text": [
        " 144000 : 3.52842\n",
        "Minibatch accuracy: 46.9%\n",
        "Validation accuracy at step 144000: 45.4%"
       ]
      },
      {
       "output_type": "stream",
       "stream": "stdout",
       "text": [
        "\n",
        "Minibatch loss at step"
       ]
      },
      {
       "output_type": "stream",
       "stream": "stdout",
       "text": [
        " 145000 : 3.4383\n",
        "Minibatch accuracy: 56.2%\n",
        "Validation accuracy at step 145000: 42.8%"
       ]
      },
      {
       "output_type": "stream",
       "stream": "stdout",
       "text": [
        "\n",
        "Test accuracy at step 145000: 42.5%"
       ]
      },
      {
       "output_type": "stream",
       "stream": "stdout",
       "text": [
        "\n",
        "Minibatch loss at step"
       ]
      },
      {
       "output_type": "stream",
       "stream": "stdout",
       "text": [
        " 146000 : 3.58347\n",
        "Minibatch accuracy: 50.0%\n",
        "Validation accuracy at step 146000: 45.6%"
       ]
      },
      {
       "output_type": "stream",
       "stream": "stdout",
       "text": [
        "\n",
        "Minibatch loss at step"
       ]
      },
      {
       "output_type": "stream",
       "stream": "stdout",
       "text": [
        " 147000 : 3.4244\n",
        "Minibatch accuracy: 43.8%\n",
        "Validation accuracy at step 147000: 45.5%"
       ]
      },
      {
       "output_type": "stream",
       "stream": "stdout",
       "text": [
        "\n",
        "Minibatch loss at step"
       ]
      },
      {
       "output_type": "stream",
       "stream": "stdout",
       "text": [
        " 148000 : 3.73661\n",
        "Minibatch accuracy: 37.5%\n",
        "Validation accuracy at step 148000: 45.9%"
       ]
      },
      {
       "output_type": "stream",
       "stream": "stdout",
       "text": [
        "\n",
        "Minibatch loss at step"
       ]
      },
      {
       "output_type": "stream",
       "stream": "stdout",
       "text": [
        " 149000 : 3.30645\n",
        "Minibatch accuracy: 53.1%\n",
        "Validation accuracy at step 149000: 44.4%"
       ]
      },
      {
       "output_type": "stream",
       "stream": "stdout",
       "text": [
        "\n",
        "Minibatch loss at step"
       ]
      },
      {
       "output_type": "stream",
       "stream": "stdout",
       "text": [
        " 150000 : 3.2852\n",
        "Minibatch accuracy: 53.1%\n",
        "Validation accuracy at step 150000: 44.8%"
       ]
      },
      {
       "output_type": "stream",
       "stream": "stdout",
       "text": [
        "\n",
        "Test accuracy at step 150000: 44.9%"
       ]
      },
      {
       "output_type": "stream",
       "stream": "stdout",
       "text": [
        "\n",
        "Minibatch loss at step"
       ]
      },
      {
       "output_type": "stream",
       "stream": "stdout",
       "text": [
        " 151000 : 3.63495\n",
        "Minibatch accuracy: 40.6%\n",
        "Validation accuracy at step 151000: 44.1%"
       ]
      },
      {
       "output_type": "stream",
       "stream": "stdout",
       "text": [
        "\n",
        "Minibatch loss at step"
       ]
      },
      {
       "output_type": "stream",
       "stream": "stdout",
       "text": [
        " 152000 : 3.68728\n",
        "Minibatch accuracy: 40.6%\n",
        "Validation accuracy at step 152000: 44.0%"
       ]
      },
      {
       "output_type": "stream",
       "stream": "stdout",
       "text": [
        "\n",
        "Minibatch loss at step"
       ]
      },
      {
       "output_type": "stream",
       "stream": "stdout",
       "text": [
        " 153000 : 3.43968\n",
        "Minibatch accuracy: 40.6%\n",
        "Validation accuracy at step 153000: 45.6%"
       ]
      },
      {
       "output_type": "stream",
       "stream": "stdout",
       "text": [
        "\n",
        "Minibatch loss at step"
       ]
      },
      {
       "output_type": "stream",
       "stream": "stdout",
       "text": [
        " 154000 : 3.24192\n",
        "Minibatch accuracy: 46.9%\n",
        "Validation accuracy at step 154000: 45.9%"
       ]
      },
      {
       "output_type": "stream",
       "stream": "stdout",
       "text": [
        "\n",
        "Minibatch loss at step"
       ]
      },
      {
       "output_type": "stream",
       "stream": "stdout",
       "text": [
        " 155000 : 3.29437\n",
        "Minibatch accuracy: 56.2%\n",
        "Validation accuracy at step 155000: 45.3%"
       ]
      },
      {
       "output_type": "stream",
       "stream": "stdout",
       "text": [
        "\n",
        "Test accuracy at step 155000: 45.1%"
       ]
      },
      {
       "output_type": "stream",
       "stream": "stdout",
       "text": [
        "\n",
        "Minibatch loss at step"
       ]
      },
      {
       "output_type": "stream",
       "stream": "stdout",
       "text": [
        " 156000 : 3.38729\n",
        "Minibatch accuracy: 46.9%\n",
        "Validation accuracy at step 156000: 45.6%"
       ]
      },
      {
       "output_type": "stream",
       "stream": "stdout",
       "text": [
        "\n",
        "Minibatch loss at step"
       ]
      },
      {
       "output_type": "stream",
       "stream": "stdout",
       "text": [
        " 157000 : 3.20609\n",
        "Minibatch accuracy: 56.2%\n",
        "Validation accuracy at step 157000: 45.4%"
       ]
      },
      {
       "output_type": "stream",
       "stream": "stdout",
       "text": [
        "\n",
        "Minibatch loss at step"
       ]
      },
      {
       "output_type": "stream",
       "stream": "stdout",
       "text": [
        " 158000 : 3.15801\n",
        "Minibatch accuracy: 53.1%\n",
        "Validation accuracy at step 158000: 46.3%"
       ]
      },
      {
       "output_type": "stream",
       "stream": "stdout",
       "text": [
        "\n",
        "Minibatch loss at step"
       ]
      },
      {
       "output_type": "stream",
       "stream": "stdout",
       "text": [
        " 159000 : 3.38326\n",
        "Minibatch accuracy: 34.4%\n",
        "Validation accuracy at step 159000: 44.7%"
       ]
      },
      {
       "output_type": "stream",
       "stream": "stdout",
       "text": [
        "\n",
        "Minibatch loss at step"
       ]
      },
      {
       "output_type": "stream",
       "stream": "stdout",
       "text": [
        " 160000 : 3.40536\n",
        "Minibatch accuracy: 40.6%\n",
        "Validation accuracy at step 160000: 46.5%"
       ]
      },
      {
       "output_type": "stream",
       "stream": "stdout",
       "text": [
        "\n",
        "Test accuracy at step 160000: 46.2%"
       ]
      },
      {
       "output_type": "stream",
       "stream": "stdout",
       "text": [
        "\n",
        "Minibatch loss at step"
       ]
      },
      {
       "output_type": "stream",
       "stream": "stdout",
       "text": [
        " 161000 : 3.37231\n",
        "Minibatch accuracy: 46.9%\n",
        "Validation accuracy at step 161000: 46.6%"
       ]
      },
      {
       "output_type": "stream",
       "stream": "stdout",
       "text": [
        "\n",
        "Minibatch loss at step"
       ]
      },
      {
       "output_type": "stream",
       "stream": "stdout",
       "text": [
        " 162000 : 3.3909\n",
        "Minibatch accuracy: 53.1%\n",
        "Validation accuracy at step 162000: 46.7%"
       ]
      },
      {
       "output_type": "stream",
       "stream": "stdout",
       "text": [
        "\n",
        "Minibatch loss at step"
       ]
      },
      {
       "output_type": "stream",
       "stream": "stdout",
       "text": [
        " 163000 : 3.20575\n",
        "Minibatch accuracy: 50.0%\n",
        "Validation accuracy at step 163000: 46.5%"
       ]
      },
      {
       "output_type": "stream",
       "stream": "stdout",
       "text": [
        "\n",
        "Minibatch loss at step"
       ]
      },
      {
       "output_type": "stream",
       "stream": "stdout",
       "text": [
        " 164000 : 3.4466\n",
        "Minibatch accuracy: 53.1%\n",
        "Validation accuracy at step 164000: 46.1%"
       ]
      },
      {
       "output_type": "stream",
       "stream": "stdout",
       "text": [
        "\n",
        "Minibatch loss at step"
       ]
      },
      {
       "output_type": "stream",
       "stream": "stdout",
       "text": [
        " 165000 : 3.14975\n",
        "Minibatch accuracy: 56.2%\n",
        "Validation accuracy at step 165000: 46.4%"
       ]
      },
      {
       "output_type": "stream",
       "stream": "stdout",
       "text": [
        "\n",
        "Test accuracy at step 165000: 46.5%"
       ]
      },
      {
       "output_type": "stream",
       "stream": "stdout",
       "text": [
        "\n",
        "Minibatch loss at step"
       ]
      },
      {
       "output_type": "stream",
       "stream": "stdout",
       "text": [
        " 166000 : 3.43458\n",
        "Minibatch accuracy: 50.0%\n",
        "Validation accuracy at step 166000: 46.2%"
       ]
      },
      {
       "output_type": "stream",
       "stream": "stdout",
       "text": [
        "\n",
        "Minibatch loss at step"
       ]
      },
      {
       "output_type": "stream",
       "stream": "stdout",
       "text": [
        " 167000 : 3.04485\n",
        "Minibatch accuracy: 53.1%\n",
        "Validation accuracy at step 167000: 45.8%"
       ]
      },
      {
       "output_type": "stream",
       "stream": "stdout",
       "text": [
        "\n",
        "Minibatch loss at step"
       ]
      },
      {
       "output_type": "stream",
       "stream": "stdout",
       "text": [
        " 168000 : 3.47083\n",
        "Minibatch accuracy: 37.5%\n",
        "Validation accuracy at step 168000: 45.6%"
       ]
      },
      {
       "output_type": "stream",
       "stream": "stdout",
       "text": [
        "\n",
        "Minibatch loss at step"
       ]
      },
      {
       "output_type": "stream",
       "stream": "stdout",
       "text": [
        " 169000 : 3.24313\n",
        "Minibatch accuracy: 37.5%\n",
        "Validation accuracy at step 169000: 46.7%"
       ]
      },
      {
       "output_type": "stream",
       "stream": "stdout",
       "text": [
        "\n",
        "Minibatch loss at step"
       ]
      },
      {
       "output_type": "stream",
       "stream": "stdout",
       "text": [
        " 170000 : 3.41259\n",
        "Minibatch accuracy: 40.6%\n",
        "Validation accuracy at step 170000: 45.9%"
       ]
      },
      {
       "output_type": "stream",
       "stream": "stdout",
       "text": [
        "\n",
        "Test accuracy at step 170000: 46.7%"
       ]
      },
      {
       "output_type": "stream",
       "stream": "stdout",
       "text": [
        "\n",
        "Minibatch loss at step"
       ]
      },
      {
       "output_type": "stream",
       "stream": "stdout",
       "text": [
        " 171000 : 3.08838\n",
        "Minibatch accuracy: 62.5%\n",
        "Validation accuracy at step 171000: 44.5%"
       ]
      },
      {
       "output_type": "stream",
       "stream": "stdout",
       "text": [
        "\n",
        "Minibatch loss at step"
       ]
      },
      {
       "output_type": "stream",
       "stream": "stdout",
       "text": [
        " 172000 : 3.10183\n",
        "Minibatch accuracy: 53.1%\n",
        "Validation accuracy at step 172000: 46.7%"
       ]
      },
      {
       "output_type": "stream",
       "stream": "stdout",
       "text": [
        "\n",
        "Minibatch loss at step"
       ]
      },
      {
       "output_type": "stream",
       "stream": "stdout",
       "text": [
        " 173000 : 3.17925\n",
        "Minibatch accuracy: 43.8%\n",
        "Validation accuracy at step 173000: 45.6%"
       ]
      },
      {
       "output_type": "stream",
       "stream": "stdout",
       "text": [
        "\n",
        "Minibatch loss at step"
       ]
      },
      {
       "output_type": "stream",
       "stream": "stdout",
       "text": [
        " 174000 : 3.15114\n",
        "Minibatch accuracy: 40.6%\n",
        "Validation accuracy at step 174000: 47.1%"
       ]
      },
      {
       "output_type": "stream",
       "stream": "stdout",
       "text": [
        "\n",
        "Minibatch loss at step"
       ]
      },
      {
       "output_type": "stream",
       "stream": "stdout",
       "text": [
        " 175000 : 3.6065\n",
        "Minibatch accuracy: 34.4%\n",
        "Validation accuracy at step 175000: 46.8%"
       ]
      },
      {
       "output_type": "stream",
       "stream": "stdout",
       "text": [
        "\n",
        "Test accuracy at step 175000: 47.1%"
       ]
      },
      {
       "output_type": "stream",
       "stream": "stdout",
       "text": [
        "\n",
        "Minibatch loss at step"
       ]
      },
      {
       "output_type": "stream",
       "stream": "stdout",
       "text": [
        " 176000 : 3.20157\n",
        "Minibatch accuracy: 40.6%\n",
        "Validation accuracy at step 176000: 46.5%"
       ]
      },
      {
       "output_type": "stream",
       "stream": "stdout",
       "text": [
        "\n",
        "Minibatch loss at step"
       ]
      },
      {
       "output_type": "stream",
       "stream": "stdout",
       "text": [
        " 177000 : 3.20404\n",
        "Minibatch accuracy: 56.2%\n",
        "Validation accuracy at step 177000: 46.6%"
       ]
      },
      {
       "output_type": "stream",
       "stream": "stdout",
       "text": [
        "\n",
        "Minibatch loss at step"
       ]
      },
      {
       "output_type": "stream",
       "stream": "stdout",
       "text": [
        " 178000 : 3.51842\n",
        "Minibatch accuracy: 25.0%\n",
        "Validation accuracy at step 178000: 46.5%"
       ]
      },
      {
       "output_type": "stream",
       "stream": "stdout",
       "text": [
        "\n",
        "Minibatch loss at step"
       ]
      },
      {
       "output_type": "stream",
       "stream": "stdout",
       "text": [
        " 179000 : 3.34693\n",
        "Minibatch accuracy: 53.1%\n",
        "Validation accuracy at step 179000: 46.9%"
       ]
      },
      {
       "output_type": "stream",
       "stream": "stdout",
       "text": [
        "\n",
        "Minibatch loss at step"
       ]
      },
      {
       "output_type": "stream",
       "stream": "stdout",
       "text": [
        " 180000 : 2.96999\n",
        "Minibatch accuracy: 56.2%\n",
        "Validation accuracy at step 180000: 46.8%"
       ]
      },
      {
       "output_type": "stream",
       "stream": "stdout",
       "text": [
        "\n",
        "Test accuracy at step 180000: 46.6%"
       ]
      },
      {
       "output_type": "stream",
       "stream": "stdout",
       "text": [
        "\n",
        "Minibatch loss at step"
       ]
      },
      {
       "output_type": "stream",
       "stream": "stdout",
       "text": [
        " 181000 : 3.10754\n",
        "Minibatch accuracy: 46.9%\n",
        "Validation accuracy at step 181000: 44.3%"
       ]
      },
      {
       "output_type": "stream",
       "stream": "stdout",
       "text": [
        "\n",
        "Minibatch loss at step"
       ]
      },
      {
       "output_type": "stream",
       "stream": "stdout",
       "text": [
        " 182000 : 3.157\n",
        "Minibatch accuracy: 53.1%\n",
        "Validation accuracy at step 182000: 46.1%"
       ]
      },
      {
       "output_type": "stream",
       "stream": "stdout",
       "text": [
        "\n",
        "Minibatch loss at step"
       ]
      },
      {
       "output_type": "stream",
       "stream": "stdout",
       "text": [
        " 183000 : 3.22649\n",
        "Minibatch accuracy: 34.4%\n",
        "Validation accuracy at step 183000: 46.4%"
       ]
      },
      {
       "output_type": "stream",
       "stream": "stdout",
       "text": [
        "\n",
        "Minibatch loss at step"
       ]
      },
      {
       "output_type": "stream",
       "stream": "stdout",
       "text": [
        " 184000 : 2.90958\n",
        "Minibatch accuracy: 71.9%\n",
        "Validation accuracy at step 184000: 46.4%"
       ]
      },
      {
       "output_type": "stream",
       "stream": "stdout",
       "text": [
        "\n",
        "Minibatch loss at step"
       ]
      },
      {
       "output_type": "stream",
       "stream": "stdout",
       "text": [
        " 185000 : 2.98943\n",
        "Minibatch accuracy: 46.9%\n",
        "Validation accuracy at step 185000: 46.5%"
       ]
      },
      {
       "output_type": "stream",
       "stream": "stdout",
       "text": [
        "\n",
        "Test accuracy at step 185000: 46.6%"
       ]
      },
      {
       "output_type": "stream",
       "stream": "stdout",
       "text": [
        "\n",
        "Minibatch loss at step"
       ]
      },
      {
       "output_type": "stream",
       "stream": "stdout",
       "text": [
        " 186000 : 2.90798\n",
        "Minibatch accuracy: 56.2%\n",
        "Validation accuracy at step 186000: 45.8%"
       ]
      },
      {
       "output_type": "stream",
       "stream": "stdout",
       "text": [
        "\n",
        "Minibatch loss at step"
       ]
      },
      {
       "output_type": "stream",
       "stream": "stdout",
       "text": [
        " 187000 : 3.06849\n",
        "Minibatch accuracy: 31.2%\n",
        "Validation accuracy at step 187000: 46.6%"
       ]
      },
      {
       "output_type": "stream",
       "stream": "stdout",
       "text": [
        "\n",
        "Minibatch loss at step"
       ]
      },
      {
       "output_type": "stream",
       "stream": "stdout",
       "text": [
        " 188000 : 2.85979\n",
        "Minibatch accuracy: 65.6%\n",
        "Validation accuracy at step 188000: 46.2%"
       ]
      },
      {
       "output_type": "stream",
       "stream": "stdout",
       "text": [
        "\n",
        "Minibatch loss at step"
       ]
      },
      {
       "output_type": "stream",
       "stream": "stdout",
       "text": [
        " 189000 : 2.90513\n",
        "Minibatch accuracy: 46.9%\n",
        "Validation accuracy at step 189000: 47.3%"
       ]
      },
      {
       "output_type": "stream",
       "stream": "stdout",
       "text": [
        "\n",
        "Minibatch loss at step"
       ]
      },
      {
       "output_type": "stream",
       "stream": "stdout",
       "text": [
        " 190000 : 3.05021\n",
        "Minibatch accuracy: 46.9%\n",
        "Validation accuracy at step 190000: 46.5%"
       ]
      },
      {
       "output_type": "stream",
       "stream": "stdout",
       "text": [
        "\n",
        "Test accuracy at step 190000: 46.2%"
       ]
      },
      {
       "output_type": "stream",
       "stream": "stdout",
       "text": [
        "\n",
        "Minibatch loss at step"
       ]
      },
      {
       "output_type": "stream",
       "stream": "stdout",
       "text": [
        " 191000 : 3.14161\n",
        "Minibatch accuracy: 37.5%\n",
        "Validation accuracy at step 191000: 46.0%"
       ]
      },
      {
       "output_type": "stream",
       "stream": "stdout",
       "text": [
        "\n",
        "Minibatch loss at step"
       ]
      },
      {
       "output_type": "stream",
       "stream": "stdout",
       "text": [
        " 192000 : 2.93996\n",
        "Minibatch accuracy: 56.2%\n",
        "Validation accuracy at step 192000: 47.2%"
       ]
      },
      {
       "output_type": "stream",
       "stream": "stdout",
       "text": [
        "\n",
        "Minibatch loss at step"
       ]
      },
      {
       "output_type": "stream",
       "stream": "stdout",
       "text": [
        " 193000 : 2.97971\n",
        "Minibatch accuracy: 50.0%\n",
        "Validation accuracy at step 193000: 46.0%"
       ]
      },
      {
       "output_type": "stream",
       "stream": "stdout",
       "text": [
        "\n",
        "Minibatch loss at step"
       ]
      },
      {
       "output_type": "stream",
       "stream": "stdout",
       "text": [
        " 194000 : 3.17527\n",
        "Minibatch accuracy: 40.6%\n",
        "Validation accuracy at step 194000: 47.8%"
       ]
      },
      {
       "output_type": "stream",
       "stream": "stdout",
       "text": [
        "\n",
        "Minibatch loss at step"
       ]
      },
      {
       "output_type": "stream",
       "stream": "stdout",
       "text": [
        " 195000 : 3.07087\n",
        "Minibatch accuracy: 37.5%\n",
        "Validation accuracy at step 195000: 47.1%"
       ]
      },
      {
       "output_type": "stream",
       "stream": "stdout",
       "text": [
        "\n",
        "Test accuracy at step 195000: 47.2%"
       ]
      },
      {
       "output_type": "stream",
       "stream": "stdout",
       "text": [
        "\n",
        "Minibatch loss at step"
       ]
      },
      {
       "output_type": "stream",
       "stream": "stdout",
       "text": [
        " 196000 : 2.78684\n",
        "Minibatch accuracy: 59.4%\n",
        "Validation accuracy at step 196000: 46.8%"
       ]
      },
      {
       "output_type": "stream",
       "stream": "stdout",
       "text": [
        "\n",
        "Minibatch loss at step"
       ]
      },
      {
       "output_type": "stream",
       "stream": "stdout",
       "text": [
        " 197000 : 2.96386\n",
        "Minibatch accuracy: 43.8%\n",
        "Validation accuracy at step 197000: 47.3%"
       ]
      },
      {
       "output_type": "stream",
       "stream": "stdout",
       "text": [
        "\n",
        "Minibatch loss at step"
       ]
      },
      {
       "output_type": "stream",
       "stream": "stdout",
       "text": [
        " 198000 : 2.92759\n",
        "Minibatch accuracy: 40.6%\n",
        "Validation accuracy at step 198000: 47.5%"
       ]
      },
      {
       "output_type": "stream",
       "stream": "stdout",
       "text": [
        "\n",
        "Minibatch loss at step"
       ]
      },
      {
       "output_type": "stream",
       "stream": "stdout",
       "text": [
        " 199000 : 2.7828\n",
        "Minibatch accuracy: 50.0%\n",
        "Validation accuracy at step 199000: 47.6%"
       ]
      },
      {
       "output_type": "stream",
       "stream": "stdout",
       "text": [
        "\n",
        "Minibatch loss at step"
       ]
      },
      {
       "output_type": "stream",
       "stream": "stdout",
       "text": [
        " 200000 : 3.45687\n",
        "Minibatch accuracy: 28.1%\n",
        "Validation accuracy at step 200000: 47.5%"
       ]
      },
      {
       "output_type": "stream",
       "stream": "stdout",
       "text": [
        "\n",
        "Test accuracy at step 200000: 47.2%\n"
       ]
      },
      {
       "output_type": "stream",
       "stream": "stdout",
       "text": [
        "\n",
        "Elapsed time: 3.25091269361 hours\n",
        "The best validation accuracy was 47.81 at step 194000"
       ]
      },
      {
       "output_type": "stream",
       "stream": "stdout",
       "text": [
        "\n",
        "The best test accuracy was 47.23 at step 200000\n"
       ]
      }
     ],
     "prompt_number": 9
    },
    {
     "cell_type": "markdown",
     "metadata": {},
     "source": [
      "This is the best result thus far:\n",
      "The best validation accuracy was 47.81 at step 194000\n",
      "The best test accuracy was 47.23 at step 200000"
     ]
    },
    {
     "cell_type": "markdown",
     "metadata": {},
     "source": [
      "I'm currently facing the law of diminishing returns. This naive implementation of the inception module has its limitations. It is time to implement the full module."
     ]
    },
    {
     "cell_type": "markdown",
     "metadata": {},
     "source": [
      "# 400K steps with a longer decay step of 50000\n",
      "model = create_naive_inception_module_model(learning_rate = 0.00025, l2_lambda = 0.025, feature_maps = 25, initialised_weights_stddev = 0.5, decay_steps = 50000, decay_rate = 0.96)\n",
      "steps_to_validation_predictions, steps_to_test_predictions = train_model(model, 400001, dropout_keep_prob = 0.9)\n",
      "correct_prediction_indexes, incorrect_prediction_indexes = visualise_accuracies(steps_to_validation_predictions, steps_to_test_predictions)\n",
      "\n",
      "***Best performance thus far:***\n",
      "\n",
      "Elapsed time: 6.38758515033 hours\n",
      "The best validation accuracy was 50.77 at step 377000\n",
      "The best test accuracy was 49.92 at step 370000"
     ]
    },
    {
     "cell_type": "code",
     "collapsed": false,
     "input": [
      "# 400K steps with a longer decay step of 50000, with maxpool fixed to 3x3 + 1s\n",
      "model = create_naive_inception_module_model(learning_rate = 0.00025, l2_lambda = 0.025, feature_maps = 25, initialised_weights_stddev = 0.5, decay_steps = 50000, decay_rate = 0.96)\n",
      "steps_to_validation_predictions, steps_to_test_predictions = train_model(model, 400001, dropout_keep_prob = 0.9)\n",
      "correct_prediction_indexes, incorrect_prediction_indexes = visualise_accuracies(steps_to_validation_predictions, steps_to_test_predictions)"
     ],
     "language": "python",
     "metadata": {},
     "outputs": [
      {
       "output_type": "stream",
       "stream": "stdout",
       "text": [
        "Initialized\n",
        "Minibatch loss at step"
       ]
      },
      {
       "output_type": "stream",
       "stream": "stdout",
       "text": [
        " 0 : 715.69\n",
        "Minibatch accuracy: 12.5%\n",
        "Validation accuracy at step 0: 10.2%"
       ]
      },
      {
       "output_type": "stream",
       "stream": "stdout",
       "text": [
        "\n",
        "Minibatch loss at step"
       ]
      },
      {
       "output_type": "stream",
       "stream": "stdout",
       "text": [
        " 1000 : 18.0129\n",
        "Minibatch accuracy: 28.1%\n",
        "Validation accuracy at step 1000: 20.6%"
       ]
      },
      {
       "output_type": "stream",
       "stream": "stdout",
       "text": [
        "\n",
        "Minibatch loss at step"
       ]
      },
      {
       "output_type": "stream",
       "stream": "stdout",
       "text": [
        " 2000 : 15.8855\n",
        "Minibatch accuracy: 12.5%\n",
        "Validation accuracy at step 2000: 22.3%"
       ]
      },
      {
       "output_type": "stream",
       "stream": "stdout",
       "text": [
        "\n",
        "Minibatch loss at step"
       ]
      },
      {
       "output_type": "stream",
       "stream": "stdout",
       "text": [
        " 3000 : 12.3248\n",
        "Minibatch accuracy: 28.1%\n",
        "Validation accuracy at step 3000: 24.9%"
       ]
      },
      {
       "output_type": "stream",
       "stream": "stdout",
       "text": [
        "\n",
        "Minibatch loss at step"
       ]
      },
      {
       "output_type": "stream",
       "stream": "stdout",
       "text": [
        " 4000 : 12.7253\n",
        "Minibatch accuracy: 21.9%\n",
        "Validation accuracy at step 4000: 22.6%"
       ]
      },
      {
       "output_type": "stream",
       "stream": "stdout",
       "text": [
        "\n",
        "Minibatch loss at step"
       ]
      },
      {
       "output_type": "stream",
       "stream": "stdout",
       "text": [
        " 5000 : 12.3741\n",
        "Minibatch accuracy: 31.2%\n",
        "Validation accuracy at step 5000: 25.8%"
       ]
      },
      {
       "output_type": "stream",
       "stream": "stdout",
       "text": [
        "\n",
        "Test accuracy at step 5000: 25.6%"
       ]
      },
      {
       "output_type": "stream",
       "stream": "stdout",
       "text": [
        "\n",
        "Minibatch loss at step"
       ]
      },
      {
       "output_type": "stream",
       "stream": "stdout",
       "text": [
        " 6000 : 10.0584\n",
        "Minibatch accuracy: 34.4%\n",
        "Validation accuracy at step 6000: 27.0%"
       ]
      },
      {
       "output_type": "stream",
       "stream": "stdout",
       "text": [
        "\n",
        "Minibatch loss at step"
       ]
      },
      {
       "output_type": "stream",
       "stream": "stdout",
       "text": [
        " 7000 : 11.8544\n",
        "Minibatch accuracy: 25.0%\n",
        "Validation accuracy at step 7000: 22.0%"
       ]
      },
      {
       "output_type": "stream",
       "stream": "stdout",
       "text": [
        "\n",
        "Minibatch loss at step"
       ]
      },
      {
       "output_type": "stream",
       "stream": "stdout",
       "text": [
        " 8000 : 10.7207\n",
        "Minibatch accuracy: 21.9%\n",
        "Validation accuracy at step 8000: 27.9%"
       ]
      },
      {
       "output_type": "stream",
       "stream": "stdout",
       "text": [
        "\n",
        "Minibatch loss at step"
       ]
      },
      {
       "output_type": "stream",
       "stream": "stdout",
       "text": [
        " 9000 : 8.93393\n",
        "Minibatch accuracy: 46.9%\n",
        "Validation accuracy at step 9000: 30.6%"
       ]
      },
      {
       "output_type": "stream",
       "stream": "stdout",
       "text": [
        "\n",
        "Minibatch loss at step"
       ]
      },
      {
       "output_type": "stream",
       "stream": "stdout",
       "text": [
        " 10000 : 11.9152\n",
        "Minibatch accuracy: 25.0%\n",
        "Validation accuracy at step 10000: 25.5%"
       ]
      },
      {
       "output_type": "stream",
       "stream": "stdout",
       "text": [
        "\n",
        "Test accuracy at step 10000: 24.6%"
       ]
      },
      {
       "output_type": "stream",
       "stream": "stdout",
       "text": [
        "\n",
        "Minibatch loss at step"
       ]
      },
      {
       "output_type": "stream",
       "stream": "stdout",
       "text": [
        " 11000 : 11.3362\n",
        "Minibatch accuracy: 28.1%\n",
        "Validation accuracy at step 11000: 29.6%"
       ]
      },
      {
       "output_type": "stream",
       "stream": "stdout",
       "text": [
        "\n",
        "Minibatch loss at step"
       ]
      },
      {
       "output_type": "stream",
       "stream": "stdout",
       "text": [
        " 12000 : 10.2469\n",
        "Minibatch accuracy: 25.0%\n",
        "Validation accuracy at step 12000: 32.0%"
       ]
      },
      {
       "output_type": "stream",
       "stream": "stdout",
       "text": [
        "\n",
        "Minibatch loss at step"
       ]
      },
      {
       "output_type": "stream",
       "stream": "stdout",
       "text": [
        " 13000 : 10.2886\n",
        "Minibatch accuracy: 28.1%\n",
        "Validation accuracy at step 13000: 25.4%"
       ]
      },
      {
       "output_type": "stream",
       "stream": "stdout",
       "text": [
        "\n",
        "Minibatch loss at step"
       ]
      },
      {
       "output_type": "stream",
       "stream": "stdout",
       "text": [
        " 14000 : 10.4501\n",
        "Minibatch accuracy: 15.6%\n",
        "Validation accuracy at step 14000: 26.5%"
       ]
      },
      {
       "output_type": "stream",
       "stream": "stdout",
       "text": [
        "\n",
        "Minibatch loss at step"
       ]
      },
      {
       "output_type": "stream",
       "stream": "stdout",
       "text": [
        " 15000 : 8.41537\n",
        "Minibatch accuracy: 31.2%\n",
        "Validation accuracy at step 15000: 30.3%"
       ]
      },
      {
       "output_type": "stream",
       "stream": "stdout",
       "text": [
        "\n",
        "Test accuracy at step 15000: 29.6%"
       ]
      },
      {
       "output_type": "stream",
       "stream": "stdout",
       "text": [
        "\n",
        "Minibatch loss at step"
       ]
      },
      {
       "output_type": "stream",
       "stream": "stdout",
       "text": [
        " 16000 : 8.77296\n",
        "Minibatch accuracy: 37.5%\n",
        "Validation accuracy at step 16000: 31.9%"
       ]
      },
      {
       "output_type": "stream",
       "stream": "stdout",
       "text": [
        "\n",
        "Minibatch loss at step"
       ]
      },
      {
       "output_type": "stream",
       "stream": "stdout",
       "text": [
        " 17000 : 8.66192\n",
        "Minibatch accuracy: 28.1%\n",
        "Validation accuracy at step 17000: 30.9%"
       ]
      },
      {
       "output_type": "stream",
       "stream": "stdout",
       "text": [
        "\n",
        "Minibatch loss at step"
       ]
      },
      {
       "output_type": "stream",
       "stream": "stdout",
       "text": [
        " 18000 : 9.90797\n",
        "Minibatch accuracy: 34.4%\n",
        "Validation accuracy at step 18000: 29.4%"
       ]
      },
      {
       "output_type": "stream",
       "stream": "stdout",
       "text": [
        "\n",
        "Minibatch loss at step"
       ]
      },
      {
       "output_type": "stream",
       "stream": "stdout",
       "text": [
        " 19000 : 8.01107\n",
        "Minibatch accuracy: 34.4%\n",
        "Validation accuracy at step 19000: 33.3%"
       ]
      },
      {
       "output_type": "stream",
       "stream": "stdout",
       "text": [
        "\n",
        "Minibatch loss at step"
       ]
      },
      {
       "output_type": "stream",
       "stream": "stdout",
       "text": [
        " 20000 : 8.0532\n",
        "Minibatch accuracy: 34.4%\n",
        "Validation accuracy at step 20000: 32.2%"
       ]
      },
      {
       "output_type": "stream",
       "stream": "stdout",
       "text": [
        "\n",
        "Test accuracy at step 20000: 32.2%"
       ]
      },
      {
       "output_type": "stream",
       "stream": "stdout",
       "text": [
        "\n",
        "Minibatch loss at step"
       ]
      },
      {
       "output_type": "stream",
       "stream": "stdout",
       "text": [
        " 21000 : 8.50367\n",
        "Minibatch accuracy: 21.9%\n",
        "Validation accuracy at step 21000: 28.6%"
       ]
      },
      {
       "output_type": "stream",
       "stream": "stdout",
       "text": [
        "\n",
        "Minibatch loss at step"
       ]
      },
      {
       "output_type": "stream",
       "stream": "stdout",
       "text": [
        " 22000 : 8.15645\n",
        "Minibatch accuracy: 34.4%\n",
        "Validation accuracy at step 22000: 29.6%"
       ]
      },
      {
       "output_type": "stream",
       "stream": "stdout",
       "text": [
        "\n",
        "Minibatch loss at step"
       ]
      },
      {
       "output_type": "stream",
       "stream": "stdout",
       "text": [
        " 23000 : 8.30532\n",
        "Minibatch accuracy: 18.8%\n",
        "Validation accuracy at step 23000: 35.9%"
       ]
      },
      {
       "output_type": "stream",
       "stream": "stdout",
       "text": [
        "\n",
        "Minibatch loss at step"
       ]
      },
      {
       "output_type": "stream",
       "stream": "stdout",
       "text": [
        " 24000 : 7.83811\n",
        "Minibatch accuracy: 28.1%\n",
        "Validation accuracy at step 24000: 34.3%"
       ]
      },
      {
       "output_type": "stream",
       "stream": "stdout",
       "text": [
        "\n",
        "Minibatch loss at step"
       ]
      },
      {
       "output_type": "stream",
       "stream": "stdout",
       "text": [
        " 25000 : 7.90854\n",
        "Minibatch accuracy: 40.6%\n",
        "Validation accuracy at step 25000: 32.6%"
       ]
      },
      {
       "output_type": "stream",
       "stream": "stdout",
       "text": [
        "\n",
        "Test accuracy at step 25000: 31.9%"
       ]
      },
      {
       "output_type": "stream",
       "stream": "stdout",
       "text": [
        "\n",
        "Minibatch loss at step"
       ]
      },
      {
       "output_type": "stream",
       "stream": "stdout",
       "text": [
        " 26000 : 7.54948\n",
        "Minibatch accuracy: 37.5%\n",
        "Validation accuracy at step 26000: 33.6%"
       ]
      },
      {
       "output_type": "stream",
       "stream": "stdout",
       "text": [
        "\n",
        "Minibatch loss at step"
       ]
      },
      {
       "output_type": "stream",
       "stream": "stdout",
       "text": [
        " 27000 : 7.12114\n",
        "Minibatch accuracy: 53.1%\n",
        "Validation accuracy at step 27000: 32.1%"
       ]
      },
      {
       "output_type": "stream",
       "stream": "stdout",
       "text": [
        "\n",
        "Minibatch loss at step"
       ]
      },
      {
       "output_type": "stream",
       "stream": "stdout",
       "text": [
        " 28000 : 7.44076\n",
        "Minibatch accuracy: 28.1%\n",
        "Validation accuracy at step 28000: 28.3%"
       ]
      },
      {
       "output_type": "stream",
       "stream": "stdout",
       "text": [
        "\n",
        "Minibatch loss at step"
       ]
      },
      {
       "output_type": "stream",
       "stream": "stdout",
       "text": [
        " 29000 : 7.58564\n",
        "Minibatch accuracy: 31.2%\n",
        "Validation accuracy at step 29000: 33.7%"
       ]
      },
      {
       "output_type": "stream",
       "stream": "stdout",
       "text": [
        "\n",
        "Minibatch loss at step"
       ]
      },
      {
       "output_type": "stream",
       "stream": "stdout",
       "text": [
        " 30000 : 7.59121\n",
        "Minibatch accuracy: 25.0%\n",
        "Validation accuracy at step 30000: 27.1%"
       ]
      },
      {
       "output_type": "stream",
       "stream": "stdout",
       "text": [
        "\n",
        "Test accuracy at step 30000: 27.7%"
       ]
      },
      {
       "output_type": "stream",
       "stream": "stdout",
       "text": [
        "\n",
        "Minibatch loss at step"
       ]
      },
      {
       "output_type": "stream",
       "stream": "stdout",
       "text": [
        " 31000 : 6.99337\n",
        "Minibatch accuracy: 37.5%\n",
        "Validation accuracy at step 31000: 26.2%"
       ]
      },
      {
       "output_type": "stream",
       "stream": "stdout",
       "text": [
        "\n",
        "Minibatch loss at step"
       ]
      },
      {
       "output_type": "stream",
       "stream": "stdout",
       "text": [
        " 32000 : 7.88173\n",
        "Minibatch accuracy: 25.0%\n",
        "Validation accuracy at step 32000: 30.0%"
       ]
      },
      {
       "output_type": "stream",
       "stream": "stdout",
       "text": [
        "\n",
        "Minibatch loss at step"
       ]
      },
      {
       "output_type": "stream",
       "stream": "stdout",
       "text": [
        " 33000 : 7.32768\n",
        "Minibatch accuracy: 37.5%\n",
        "Validation accuracy at step 33000: 31.8%"
       ]
      },
      {
       "output_type": "stream",
       "stream": "stdout",
       "text": [
        "\n",
        "Minibatch loss at step"
       ]
      },
      {
       "output_type": "stream",
       "stream": "stdout",
       "text": [
        " 34000 : 7.40916\n",
        "Minibatch accuracy: 34.4%\n",
        "Validation accuracy at step 34000: 33.5%"
       ]
      },
      {
       "output_type": "stream",
       "stream": "stdout",
       "text": [
        "\n",
        "Minibatch loss at step"
       ]
      },
      {
       "output_type": "stream",
       "stream": "stdout",
       "text": [
        " 35000 : 6.69813\n",
        "Minibatch accuracy: 37.5%\n",
        "Validation accuracy at step 35000: 28.6%"
       ]
      },
      {
       "output_type": "stream",
       "stream": "stdout",
       "text": [
        "\n",
        "Test accuracy at step 35000: 29.3%"
       ]
      },
      {
       "output_type": "stream",
       "stream": "stdout",
       "text": [
        "\n",
        "Minibatch loss at step"
       ]
      },
      {
       "output_type": "stream",
       "stream": "stdout",
       "text": [
        " 36000 : 7.8196\n",
        "Minibatch accuracy: 28.1%\n",
        "Validation accuracy at step 36000: 33.9%"
       ]
      },
      {
       "output_type": "stream",
       "stream": "stdout",
       "text": [
        "\n",
        "Minibatch loss at step"
       ]
      },
      {
       "output_type": "stream",
       "stream": "stdout",
       "text": [
        " 37000 : 7.36242\n",
        "Minibatch accuracy: 25.0%\n",
        "Validation accuracy at step 37000: 29.8%"
       ]
      },
      {
       "output_type": "stream",
       "stream": "stdout",
       "text": [
        "\n",
        "Minibatch loss at step"
       ]
      },
      {
       "output_type": "stream",
       "stream": "stdout",
       "text": [
        " 38000 : 6.95874\n",
        "Minibatch accuracy: 37.5%\n",
        "Validation accuracy at step 38000: 35.0%"
       ]
      },
      {
       "output_type": "stream",
       "stream": "stdout",
       "text": [
        "\n",
        "Minibatch loss at step"
       ]
      },
      {
       "output_type": "stream",
       "stream": "stdout",
       "text": [
        " 39000 : 7.2817\n",
        "Minibatch accuracy: 28.1%\n",
        "Validation accuracy at step 39000: 27.1%"
       ]
      },
      {
       "output_type": "stream",
       "stream": "stdout",
       "text": [
        "\n",
        "Minibatch loss at step"
       ]
      },
      {
       "output_type": "stream",
       "stream": "stdout",
       "text": [
        " 40000 : 6.65863\n",
        "Minibatch accuracy: 37.5%\n",
        "Validation accuracy at step 40000: 28.5%"
       ]
      },
      {
       "output_type": "stream",
       "stream": "stdout",
       "text": [
        "\n",
        "Test accuracy at step 40000: 28.5%"
       ]
      },
      {
       "output_type": "stream",
       "stream": "stdout",
       "text": [
        "\n",
        "Minibatch loss at step"
       ]
      },
      {
       "output_type": "stream",
       "stream": "stdout",
       "text": [
        " 41000 : 6.77324\n",
        "Minibatch accuracy: 28.1%\n",
        "Validation accuracy at step 41000: 30.9%"
       ]
      },
      {
       "output_type": "stream",
       "stream": "stdout",
       "text": [
        "\n",
        "Minibatch loss at step"
       ]
      },
      {
       "output_type": "stream",
       "stream": "stdout",
       "text": [
        " 42000 : 6.69505\n",
        "Minibatch accuracy: 18.8%\n",
        "Validation accuracy at step 42000: 28.1%"
       ]
      },
      {
       "output_type": "stream",
       "stream": "stdout",
       "text": [
        "\n",
        "Minibatch loss at step"
       ]
      },
      {
       "output_type": "stream",
       "stream": "stdout",
       "text": [
        " 43000 : 6.1051\n",
        "Minibatch accuracy: 40.6%\n",
        "Validation accuracy at step 43000: 36.4%"
       ]
      },
      {
       "output_type": "stream",
       "stream": "stdout",
       "text": [
        "\n",
        "Minibatch loss at step"
       ]
      },
      {
       "output_type": "stream",
       "stream": "stdout",
       "text": [
        " 44000 : 6.9739\n",
        "Minibatch accuracy: 31.2%\n",
        "Validation accuracy at step 44000: 33.0%"
       ]
      },
      {
       "output_type": "stream",
       "stream": "stdout",
       "text": [
        "\n",
        "Minibatch loss at step"
       ]
      },
      {
       "output_type": "stream",
       "stream": "stdout",
       "text": [
        " 45000 : 6.46663\n",
        "Minibatch accuracy: 25.0%\n",
        "Validation accuracy at step 45000: 33.6%"
       ]
      },
      {
       "output_type": "stream",
       "stream": "stdout",
       "text": [
        "\n",
        "Test accuracy at step 45000: 33.8%"
       ]
      },
      {
       "output_type": "stream",
       "stream": "stdout",
       "text": [
        "\n",
        "Minibatch loss at step"
       ]
      },
      {
       "output_type": "stream",
       "stream": "stdout",
       "text": [
        " 46000 : 5.88493\n",
        "Minibatch accuracy: 37.5%\n",
        "Validation accuracy at step 46000: 38.1%"
       ]
      },
      {
       "output_type": "stream",
       "stream": "stdout",
       "text": [
        "\n",
        "Minibatch loss at step"
       ]
      },
      {
       "output_type": "stream",
       "stream": "stdout",
       "text": [
        " 47000 : 6.17958\n",
        "Minibatch accuracy: 34.4%\n",
        "Validation accuracy at step 47000: 29.8%"
       ]
      },
      {
       "output_type": "stream",
       "stream": "stdout",
       "text": [
        "\n",
        "Minibatch loss at step"
       ]
      },
      {
       "output_type": "stream",
       "stream": "stdout",
       "text": [
        " 48000 : 6.47743\n",
        "Minibatch accuracy: 31.2%\n",
        "Validation accuracy at step 48000: 24.7%"
       ]
      },
      {
       "output_type": "stream",
       "stream": "stdout",
       "text": [
        "\n",
        "Minibatch loss at step"
       ]
      },
      {
       "output_type": "stream",
       "stream": "stdout",
       "text": [
        " 49000 : 6.10754\n",
        "Minibatch accuracy: 34.4%\n",
        "Validation accuracy at step 49000: 30.5%"
       ]
      },
      {
       "output_type": "stream",
       "stream": "stdout",
       "text": [
        "\n",
        "Minibatch loss at step"
       ]
      },
      {
       "output_type": "stream",
       "stream": "stdout",
       "text": [
        " 50000 : 5.66315\n",
        "Minibatch accuracy: 43.8%\n",
        "Validation accuracy at step 50000: 32.7%"
       ]
      },
      {
       "output_type": "stream",
       "stream": "stdout",
       "text": [
        "\n",
        "Test accuracy at step 50000: 33.5%"
       ]
      },
      {
       "output_type": "stream",
       "stream": "stdout",
       "text": [
        "\n",
        "Minibatch loss at step"
       ]
      },
      {
       "output_type": "stream",
       "stream": "stdout",
       "text": [
        " 51000 : 6.13838\n",
        "Minibatch accuracy: 21.9%\n",
        "Validation accuracy at step 51000: 28.9%"
       ]
      },
      {
       "output_type": "stream",
       "stream": "stdout",
       "text": [
        "\n",
        "Minibatch loss at step"
       ]
      },
      {
       "output_type": "stream",
       "stream": "stdout",
       "text": [
        " 52000 : 5.7371\n",
        "Minibatch accuracy: 43.8%\n",
        "Validation accuracy at step 52000: 31.5%"
       ]
      },
      {
       "output_type": "stream",
       "stream": "stdout",
       "text": [
        "\n",
        "Minibatch loss at step"
       ]
      },
      {
       "output_type": "stream",
       "stream": "stdout",
       "text": [
        " 53000 : 5.84455\n",
        "Minibatch accuracy: 21.9%\n",
        "Validation accuracy at step 53000: 35.7%"
       ]
      },
      {
       "output_type": "stream",
       "stream": "stdout",
       "text": [
        "\n",
        "Minibatch loss at step"
       ]
      },
      {
       "output_type": "stream",
       "stream": "stdout",
       "text": [
        " 54000 : 6.4804\n",
        "Minibatch accuracy: 31.2%\n",
        "Validation accuracy at step 54000: 34.6%"
       ]
      },
      {
       "output_type": "stream",
       "stream": "stdout",
       "text": [
        "\n",
        "Minibatch loss at step"
       ]
      },
      {
       "output_type": "stream",
       "stream": "stdout",
       "text": [
        " 55000 : 5.5197\n",
        "Minibatch accuracy: 28.1%\n",
        "Validation accuracy at step 55000: 39.1%"
       ]
      },
      {
       "output_type": "stream",
       "stream": "stdout",
       "text": [
        "\n",
        "Test accuracy at step 55000: 39.3%"
       ]
      },
      {
       "output_type": "stream",
       "stream": "stdout",
       "text": [
        "\n",
        "Minibatch loss at step"
       ]
      },
      {
       "output_type": "stream",
       "stream": "stdout",
       "text": [
        " 56000 : 6.18475\n",
        "Minibatch accuracy: 34.4%\n",
        "Validation accuracy at step 56000: 33.6%"
       ]
      },
      {
       "output_type": "stream",
       "stream": "stdout",
       "text": [
        "\n",
        "Minibatch loss at step"
       ]
      },
      {
       "output_type": "stream",
       "stream": "stdout",
       "text": [
        " 57000 : 6.15549\n",
        "Minibatch accuracy: 18.8%\n",
        "Validation accuracy at step 57000: 32.5%"
       ]
      },
      {
       "output_type": "stream",
       "stream": "stdout",
       "text": [
        "\n",
        "Minibatch loss at step"
       ]
      },
      {
       "output_type": "stream",
       "stream": "stdout",
       "text": [
        " 58000 : 5.7225\n",
        "Minibatch accuracy: 43.8%\n",
        "Validation accuracy at step 58000: 34.9%"
       ]
      },
      {
       "output_type": "stream",
       "stream": "stdout",
       "text": [
        "\n",
        "Minibatch loss at step"
       ]
      },
      {
       "output_type": "stream",
       "stream": "stdout",
       "text": [
        " 59000 : 5.56302\n",
        "Minibatch accuracy: 34.4%\n",
        "Validation accuracy at step 59000: 32.1%"
       ]
      },
      {
       "output_type": "stream",
       "stream": "stdout",
       "text": [
        "\n",
        "Minibatch loss at step"
       ]
      },
      {
       "output_type": "stream",
       "stream": "stdout",
       "text": [
        " 60000 : 5.56415\n",
        "Minibatch accuracy: 25.0%\n",
        "Validation accuracy at step 60000: 34.8%"
       ]
      },
      {
       "output_type": "stream",
       "stream": "stdout",
       "text": [
        "\n",
        "Test accuracy at step 60000: 34.3%"
       ]
      },
      {
       "output_type": "stream",
       "stream": "stdout",
       "text": [
        "\n",
        "Minibatch loss at step"
       ]
      },
      {
       "output_type": "stream",
       "stream": "stdout",
       "text": [
        " 61000 : 5.59687\n",
        "Minibatch accuracy: 34.4%\n",
        "Validation accuracy at step 61000: 31.5%"
       ]
      },
      {
       "output_type": "stream",
       "stream": "stdout",
       "text": [
        "\n",
        "Minibatch loss at step"
       ]
      },
      {
       "output_type": "stream",
       "stream": "stdout",
       "text": [
        " 62000 : 4.72478\n",
        "Minibatch accuracy: 65.6%\n",
        "Validation accuracy at step 62000: 39.3%"
       ]
      },
      {
       "output_type": "stream",
       "stream": "stdout",
       "text": [
        "\n",
        "Minibatch loss at step"
       ]
      },
      {
       "output_type": "stream",
       "stream": "stdout",
       "text": [
        " 63000 : 5.24434\n",
        "Minibatch accuracy: 40.6%\n",
        "Validation accuracy at step 63000: 36.0%"
       ]
      },
      {
       "output_type": "stream",
       "stream": "stdout",
       "text": [
        "\n",
        "Minibatch loss at step"
       ]
      },
      {
       "output_type": "stream",
       "stream": "stdout",
       "text": [
        " 64000 : 5.34771\n",
        "Minibatch accuracy: 37.5%\n",
        "Validation accuracy at step 64000: 32.7%"
       ]
      },
      {
       "output_type": "stream",
       "stream": "stdout",
       "text": [
        "\n",
        "Minibatch loss at step"
       ]
      },
      {
       "output_type": "stream",
       "stream": "stdout",
       "text": [
        " 65000 : 5.918\n",
        "Minibatch accuracy: 28.1%\n",
        "Validation accuracy at step 65000: 32.0%"
       ]
      },
      {
       "output_type": "stream",
       "stream": "stdout",
       "text": [
        "\n",
        "Test accuracy at step 65000: 32.3%"
       ]
      },
      {
       "output_type": "stream",
       "stream": "stdout",
       "text": [
        "\n",
        "Minibatch loss at step"
       ]
      },
      {
       "output_type": "stream",
       "stream": "stdout",
       "text": [
        " 66000 : 5.62944\n",
        "Minibatch accuracy: 21.9%\n",
        "Validation accuracy at step 66000: 20.6%"
       ]
      },
      {
       "output_type": "stream",
       "stream": "stdout",
       "text": [
        "\n",
        "Minibatch loss at step"
       ]
      },
      {
       "output_type": "stream",
       "stream": "stdout",
       "text": [
        " 67000 : 5.57823\n",
        "Minibatch accuracy: 37.5%\n",
        "Validation accuracy at step 67000: 35.6%"
       ]
      },
      {
       "output_type": "stream",
       "stream": "stdout",
       "text": [
        "\n",
        "Minibatch loss at step"
       ]
      },
      {
       "output_type": "stream",
       "stream": "stdout",
       "text": [
        " 68000 : 5.13493\n",
        "Minibatch accuracy: 31.2%\n",
        "Validation accuracy at step 68000: 34.2%"
       ]
      },
      {
       "output_type": "stream",
       "stream": "stdout",
       "text": [
        "\n",
        "Minibatch loss at step"
       ]
      },
      {
       "output_type": "stream",
       "stream": "stdout",
       "text": [
        " 69000 : 5.07986\n",
        "Minibatch accuracy: 28.1%\n",
        "Validation accuracy at step 69000: 30.0%"
       ]
      },
      {
       "output_type": "stream",
       "stream": "stdout",
       "text": [
        "\n",
        "Minibatch loss at step"
       ]
      },
      {
       "output_type": "stream",
       "stream": "stdout",
       "text": [
        " 70000 : 5.20028\n",
        "Minibatch accuracy: 28.1%\n",
        "Validation accuracy at step 70000: 38.1%"
       ]
      },
      {
       "output_type": "stream",
       "stream": "stdout",
       "text": [
        "\n",
        "Test accuracy at step 70000: 38.2%"
       ]
      },
      {
       "output_type": "stream",
       "stream": "stdout",
       "text": [
        "\n",
        "Minibatch loss at step"
       ]
      },
      {
       "output_type": "stream",
       "stream": "stdout",
       "text": [
        " 71000 : 5.2141\n",
        "Minibatch accuracy: 34.4%\n",
        "Validation accuracy at step 71000: 37.8%"
       ]
      },
      {
       "output_type": "stream",
       "stream": "stdout",
       "text": [
        "\n",
        "Minibatch loss at step"
       ]
      },
      {
       "output_type": "stream",
       "stream": "stdout",
       "text": [
        " 72000 : 4.69743\n",
        "Minibatch accuracy: 56.2%\n",
        "Validation accuracy at step 72000: 39.9%"
       ]
      },
      {
       "output_type": "stream",
       "stream": "stdout",
       "text": [
        "\n",
        "Minibatch loss at step"
       ]
      },
      {
       "output_type": "stream",
       "stream": "stdout",
       "text": [
        " 73000 : 5.30181\n",
        "Minibatch accuracy: 25.0%\n",
        "Validation accuracy at step 73000: 39.9%"
       ]
      },
      {
       "output_type": "stream",
       "stream": "stdout",
       "text": [
        "\n",
        "Minibatch loss at step"
       ]
      },
      {
       "output_type": "stream",
       "stream": "stdout",
       "text": [
        " 74000 : 4.86493\n",
        "Minibatch accuracy: 28.1%\n",
        "Validation accuracy at step 74000: 30.3%"
       ]
      },
      {
       "output_type": "stream",
       "stream": "stdout",
       "text": [
        "\n",
        "Minibatch loss at step"
       ]
      },
      {
       "output_type": "stream",
       "stream": "stdout",
       "text": [
        " 75000 : 6.55998\n",
        "Minibatch accuracy: 18.8%\n",
        "Validation accuracy at step 75000: 35.0%"
       ]
      },
      {
       "output_type": "stream",
       "stream": "stdout",
       "text": [
        "\n",
        "Test accuracy at step 75000: 34.7%"
       ]
      },
      {
       "output_type": "stream",
       "stream": "stdout",
       "text": [
        "\n",
        "Minibatch loss at step"
       ]
      },
      {
       "output_type": "stream",
       "stream": "stdout",
       "text": [
        " 76000 : 4.75\n",
        "Minibatch accuracy: 40.6%\n",
        "Validation accuracy at step 76000: 34.4%"
       ]
      },
      {
       "output_type": "stream",
       "stream": "stdout",
       "text": [
        "\n",
        "Minibatch loss at step"
       ]
      },
      {
       "output_type": "stream",
       "stream": "stdout",
       "text": [
        " 77000 : 4.99044\n",
        "Minibatch accuracy: 25.0%\n",
        "Validation accuracy at step 77000: 33.1%"
       ]
      },
      {
       "output_type": "stream",
       "stream": "stdout",
       "text": [
        "\n",
        "Minibatch loss at step"
       ]
      },
      {
       "output_type": "stream",
       "stream": "stdout",
       "text": [
        " 78000 : 5.1316\n",
        "Minibatch accuracy: 25.0%\n",
        "Validation accuracy at step 78000: 33.5%"
       ]
      },
      {
       "output_type": "stream",
       "stream": "stdout",
       "text": [
        "\n",
        "Minibatch loss at step"
       ]
      },
      {
       "output_type": "stream",
       "stream": "stdout",
       "text": [
        " 79000 : 4.60295\n",
        "Minibatch accuracy: 43.8%\n",
        "Validation accuracy at step 79000: 38.6%"
       ]
      },
      {
       "output_type": "stream",
       "stream": "stdout",
       "text": [
        "\n",
        "Minibatch loss at step"
       ]
      },
      {
       "output_type": "stream",
       "stream": "stdout",
       "text": [
        " 80000 : 5.08266\n",
        "Minibatch accuracy: 25.0%\n",
        "Validation accuracy at step 80000: 37.3%"
       ]
      },
      {
       "output_type": "stream",
       "stream": "stdout",
       "text": [
        "\n",
        "Test accuracy at step 80000: 36.7%"
       ]
      },
      {
       "output_type": "stream",
       "stream": "stdout",
       "text": [
        "\n",
        "Minibatch loss at step"
       ]
      },
      {
       "output_type": "stream",
       "stream": "stdout",
       "text": [
        " 81000 : 5.68091\n",
        "Minibatch accuracy: 9.4%\n",
        "Validation accuracy at step 81000: 33.2%"
       ]
      },
      {
       "output_type": "stream",
       "stream": "stdout",
       "text": [
        "\n",
        "Minibatch loss at step"
       ]
      },
      {
       "output_type": "stream",
       "stream": "stdout",
       "text": [
        " 82000 : 4.62404\n",
        "Minibatch accuracy: 40.6%\n",
        "Validation accuracy at step 82000: 38.5%"
       ]
      },
      {
       "output_type": "stream",
       "stream": "stdout",
       "text": [
        "\n",
        "Minibatch loss at step"
       ]
      },
      {
       "output_type": "stream",
       "stream": "stdout",
       "text": [
        " 83000 : 4.77096\n",
        "Minibatch accuracy: 34.4%\n",
        "Validation accuracy at step 83000: 35.3%"
       ]
      },
      {
       "output_type": "stream",
       "stream": "stdout",
       "text": [
        "\n",
        "Minibatch loss at step"
       ]
      },
      {
       "output_type": "stream",
       "stream": "stdout",
       "text": [
        " 84000 : 5.02503\n",
        "Minibatch accuracy: 34.4%\n",
        "Validation accuracy at step 84000: 34.2%"
       ]
      },
      {
       "output_type": "stream",
       "stream": "stdout",
       "text": [
        "\n",
        "Minibatch loss at step"
       ]
      },
      {
       "output_type": "stream",
       "stream": "stdout",
       "text": [
        " 85000 : 4.07708\n",
        "Minibatch accuracy: 40.6%\n",
        "Validation accuracy at step 85000: 37.4%"
       ]
      },
      {
       "output_type": "stream",
       "stream": "stdout",
       "text": [
        "\n",
        "Test accuracy at step 85000: 38.4%"
       ]
      },
      {
       "output_type": "stream",
       "stream": "stdout",
       "text": [
        "\n",
        "Minibatch loss at step"
       ]
      },
      {
       "output_type": "stream",
       "stream": "stdout",
       "text": [
        " 86000 : 4.31235\n",
        "Minibatch accuracy: 34.4%\n",
        "Validation accuracy at step 86000: 36.5%"
       ]
      },
      {
       "output_type": "stream",
       "stream": "stdout",
       "text": [
        "\n",
        "Minibatch loss at step"
       ]
      },
      {
       "output_type": "stream",
       "stream": "stdout",
       "text": [
        " 87000 : 4.40714\n",
        "Minibatch accuracy: 34.4%\n",
        "Validation accuracy at step 87000: 36.7%"
       ]
      },
      {
       "output_type": "stream",
       "stream": "stdout",
       "text": [
        "\n",
        "Minibatch loss at step"
       ]
      },
      {
       "output_type": "stream",
       "stream": "stdout",
       "text": [
        " 88000 : 4.08021\n",
        "Minibatch accuracy: 46.9%\n",
        "Validation accuracy at step 88000: 43.2%"
       ]
      },
      {
       "output_type": "stream",
       "stream": "stdout",
       "text": [
        "\n",
        "Minibatch loss at step"
       ]
      },
      {
       "output_type": "stream",
       "stream": "stdout",
       "text": [
        " 89000 : 4.48915\n",
        "Minibatch accuracy: 37.5%\n",
        "Validation accuracy at step 89000: 29.9%"
       ]
      },
      {
       "output_type": "stream",
       "stream": "stdout",
       "text": [
        "\n",
        "Minibatch loss at step"
       ]
      },
      {
       "output_type": "stream",
       "stream": "stdout",
       "text": [
        " 90000 : 4.52304\n",
        "Minibatch accuracy: 31.2%\n",
        "Validation accuracy at step 90000: 41.3%"
       ]
      },
      {
       "output_type": "stream",
       "stream": "stdout",
       "text": [
        "\n",
        "Test accuracy at step 90000: 41.1%"
       ]
      },
      {
       "output_type": "stream",
       "stream": "stdout",
       "text": [
        "\n",
        "Minibatch loss at step"
       ]
      },
      {
       "output_type": "stream",
       "stream": "stdout",
       "text": [
        " 91000 : 4.31597\n",
        "Minibatch accuracy: 40.6%\n",
        "Validation accuracy at step 91000: 42.4%"
       ]
      },
      {
       "output_type": "stream",
       "stream": "stdout",
       "text": [
        "\n",
        "Minibatch loss at step"
       ]
      },
      {
       "output_type": "stream",
       "stream": "stdout",
       "text": [
        " 92000 : 3.84561\n",
        "Minibatch accuracy: 53.1%\n",
        "Validation accuracy at step 92000: 39.9%"
       ]
      },
      {
       "output_type": "stream",
       "stream": "stdout",
       "text": [
        "\n",
        "Minibatch loss at step"
       ]
      },
      {
       "output_type": "stream",
       "stream": "stdout",
       "text": [
        " 93000 : 4.47731\n",
        "Minibatch accuracy: 37.5%\n",
        "Validation accuracy at step 93000: 34.0%"
       ]
      },
      {
       "output_type": "stream",
       "stream": "stdout",
       "text": [
        "\n",
        "Minibatch loss at step"
       ]
      },
      {
       "output_type": "stream",
       "stream": "stdout",
       "text": [
        " 94000 : 4.2521\n",
        "Minibatch accuracy: 43.8%\n",
        "Validation accuracy at step 94000: 38.2%"
       ]
      },
      {
       "output_type": "stream",
       "stream": "stdout",
       "text": [
        "\n",
        "Minibatch loss at step"
       ]
      },
      {
       "output_type": "stream",
       "stream": "stdout",
       "text": [
        " 95000 : 4.63173\n",
        "Minibatch accuracy: 37.5%\n",
        "Validation accuracy at step 95000: 34.7%"
       ]
      },
      {
       "output_type": "stream",
       "stream": "stdout",
       "text": [
        "\n",
        "Test accuracy at step 95000: 34.2%"
       ]
      },
      {
       "output_type": "stream",
       "stream": "stdout",
       "text": [
        "\n",
        "Minibatch loss at step"
       ]
      },
      {
       "output_type": "stream",
       "stream": "stdout",
       "text": [
        " 96000 : 4.49746\n",
        "Minibatch accuracy: 31.2%\n",
        "Validation accuracy at step 96000: 40.2%"
       ]
      },
      {
       "output_type": "stream",
       "stream": "stdout",
       "text": [
        "\n",
        "Minibatch loss at step"
       ]
      },
      {
       "output_type": "stream",
       "stream": "stdout",
       "text": [
        " 97000 : 4.41268\n",
        "Minibatch accuracy: 37.5%\n",
        "Validation accuracy at step 97000: 34.5%"
       ]
      },
      {
       "output_type": "stream",
       "stream": "stdout",
       "text": [
        "\n",
        "Minibatch loss at step"
       ]
      },
      {
       "output_type": "stream",
       "stream": "stdout",
       "text": [
        " 98000 : 4.07567\n",
        "Minibatch accuracy: 40.6%\n",
        "Validation accuracy at step 98000: 39.5%"
       ]
      },
      {
       "output_type": "stream",
       "stream": "stdout",
       "text": [
        "\n",
        "Minibatch loss at step"
       ]
      },
      {
       "output_type": "stream",
       "stream": "stdout",
       "text": [
        " 99000 : 3.87825\n",
        "Minibatch accuracy: 37.5%\n",
        "Validation accuracy at step 99000: 32.2%"
       ]
      },
      {
       "output_type": "stream",
       "stream": "stdout",
       "text": [
        "\n",
        "Minibatch loss at step"
       ]
      },
      {
       "output_type": "stream",
       "stream": "stdout",
       "text": [
        " 100000 : 4.18523\n",
        "Minibatch accuracy: 25.0%\n",
        "Validation accuracy at step 100000: 36.6%"
       ]
      },
      {
       "output_type": "stream",
       "stream": "stdout",
       "text": [
        "\n",
        "Test accuracy at step 100000: 36.3%"
       ]
      },
      {
       "output_type": "stream",
       "stream": "stdout",
       "text": [
        "\n",
        "Minibatch loss at step"
       ]
      },
      {
       "output_type": "stream",
       "stream": "stdout",
       "text": [
        " 101000 : 4.0231\n",
        "Minibatch accuracy: 40.6%\n",
        "Validation accuracy at step 101000: 30.5%"
       ]
      },
      {
       "output_type": "stream",
       "stream": "stdout",
       "text": [
        "\n",
        "Minibatch loss at step"
       ]
      },
      {
       "output_type": "stream",
       "stream": "stdout",
       "text": [
        " 102000 : 4.05492\n",
        "Minibatch accuracy: 40.6%\n",
        "Validation accuracy at step 102000: 32.4%"
       ]
      },
      {
       "output_type": "stream",
       "stream": "stdout",
       "text": [
        "\n",
        "Minibatch loss at step"
       ]
      },
      {
       "output_type": "stream",
       "stream": "stdout",
       "text": [
        " 103000 : 4.51235\n",
        "Minibatch accuracy: 28.1%\n",
        "Validation accuracy at step 103000: 39.7%"
       ]
      },
      {
       "output_type": "stream",
       "stream": "stdout",
       "text": [
        "\n",
        "Minibatch loss at step"
       ]
      },
      {
       "output_type": "stream",
       "stream": "stdout",
       "text": [
        " 104000 : 4.28823\n",
        "Minibatch accuracy: 21.9%\n",
        "Validation accuracy at step 104000: 35.7%"
       ]
      },
      {
       "output_type": "stream",
       "stream": "stdout",
       "text": [
        "\n",
        "Minibatch loss at step"
       ]
      },
      {
       "output_type": "stream",
       "stream": "stdout",
       "text": [
        " 105000 : 3.6571\n",
        "Minibatch accuracy: 37.5%\n",
        "Validation accuracy at step 105000: 32.0%"
       ]
      },
      {
       "output_type": "stream",
       "stream": "stdout",
       "text": [
        "\n",
        "Test accuracy at step 105000: 33.3%"
       ]
      },
      {
       "output_type": "stream",
       "stream": "stdout",
       "text": [
        "\n",
        "Minibatch loss at step"
       ]
      },
      {
       "output_type": "stream",
       "stream": "stdout",
       "text": [
        " 106000 : 3.59639\n",
        "Minibatch accuracy: 56.2%\n",
        "Validation accuracy at step 106000: 38.5%"
       ]
      },
      {
       "output_type": "stream",
       "stream": "stdout",
       "text": [
        "\n",
        "Minibatch loss at step"
       ]
      },
      {
       "output_type": "stream",
       "stream": "stdout",
       "text": [
        " 107000 : 4.40783\n",
        "Minibatch accuracy: 28.1%\n",
        "Validation accuracy at step 107000: 34.7%"
       ]
      },
      {
       "output_type": "stream",
       "stream": "stdout",
       "text": [
        "\n",
        "Minibatch loss at step"
       ]
      },
      {
       "output_type": "stream",
       "stream": "stdout",
       "text": [
        " 108000 : 3.71128\n",
        "Minibatch accuracy: 43.8%\n",
        "Validation accuracy at step 108000: 42.8%"
       ]
      },
      {
       "output_type": "stream",
       "stream": "stdout",
       "text": [
        "\n",
        "Minibatch loss at step"
       ]
      },
      {
       "output_type": "stream",
       "stream": "stdout",
       "text": [
        " 109000 : 3.31474\n",
        "Minibatch accuracy: 62.5%\n",
        "Validation accuracy at step 109000: 40.1%"
       ]
      },
      {
       "output_type": "stream",
       "stream": "stdout",
       "text": [
        "\n",
        "Minibatch loss at step"
       ]
      },
      {
       "output_type": "stream",
       "stream": "stdout",
       "text": [
        " 110000 : 3.47778\n",
        "Minibatch accuracy: 46.9%\n",
        "Validation accuracy at step 110000: 40.8%"
       ]
      },
      {
       "output_type": "stream",
       "stream": "stdout",
       "text": [
        "\n",
        "Test accuracy at step 110000: 40.0%"
       ]
      },
      {
       "output_type": "stream",
       "stream": "stdout",
       "text": [
        "\n",
        "Minibatch loss at step"
       ]
      },
      {
       "output_type": "stream",
       "stream": "stdout",
       "text": [
        " 111000 : 3.38733\n",
        "Minibatch accuracy: 53.1%\n",
        "Validation accuracy at step 111000: 42.3%"
       ]
      },
      {
       "output_type": "stream",
       "stream": "stdout",
       "text": [
        "\n",
        "Minibatch loss at step"
       ]
      },
      {
       "output_type": "stream",
       "stream": "stdout",
       "text": [
        " 112000 : 3.53023\n",
        "Minibatch accuracy: 43.8%\n",
        "Validation accuracy at step 112000: 43.8%"
       ]
      },
      {
       "output_type": "stream",
       "stream": "stdout",
       "text": [
        "\n",
        "Minibatch loss at step"
       ]
      },
      {
       "output_type": "stream",
       "stream": "stdout",
       "text": [
        " 113000 : 3.60664\n",
        "Minibatch accuracy: 50.0%\n",
        "Validation accuracy at step 113000: 37.7%"
       ]
      },
      {
       "output_type": "stream",
       "stream": "stdout",
       "text": [
        "\n",
        "Minibatch loss at step"
       ]
      },
      {
       "output_type": "stream",
       "stream": "stdout",
       "text": [
        " 114000 : 3.68383\n",
        "Minibatch accuracy: 28.1%\n",
        "Validation accuracy at step 114000: 37.8%"
       ]
      },
      {
       "output_type": "stream",
       "stream": "stdout",
       "text": [
        "\n",
        "Minibatch loss at step"
       ]
      },
      {
       "output_type": "stream",
       "stream": "stdout",
       "text": [
        " 115000 : 3.86088\n",
        "Minibatch accuracy: 31.2%\n",
        "Validation accuracy at step 115000: 37.4%"
       ]
      },
      {
       "output_type": "stream",
       "stream": "stdout",
       "text": [
        "\n",
        "Test accuracy at step 115000: 37.3%"
       ]
      },
      {
       "output_type": "stream",
       "stream": "stdout",
       "text": [
        "\n",
        "Minibatch loss at step"
       ]
      },
      {
       "output_type": "stream",
       "stream": "stdout",
       "text": [
        " 116000 : 3.92761\n",
        "Minibatch accuracy: 28.1%\n",
        "Validation accuracy at step 116000: 39.4%"
       ]
      },
      {
       "output_type": "stream",
       "stream": "stdout",
       "text": [
        "\n",
        "Minibatch loss at step"
       ]
      },
      {
       "output_type": "stream",
       "stream": "stdout",
       "text": [
        " 117000 : 3.54325\n",
        "Minibatch accuracy: 43.8%\n",
        "Validation accuracy at step 117000: 38.1%"
       ]
      },
      {
       "output_type": "stream",
       "stream": "stdout",
       "text": [
        "\n",
        "Minibatch loss at step"
       ]
      },
      {
       "output_type": "stream",
       "stream": "stdout",
       "text": [
        " 118000 : 3.44705\n",
        "Minibatch accuracy: 46.9%\n",
        "Validation accuracy at step 118000: 37.5%"
       ]
      },
      {
       "output_type": "stream",
       "stream": "stdout",
       "text": [
        "\n",
        "Minibatch loss at step"
       ]
      },
      {
       "output_type": "stream",
       "stream": "stdout",
       "text": [
        " 119000 : 3.71419\n",
        "Minibatch accuracy: 46.9%\n",
        "Validation accuracy at step 119000: 31.6%"
       ]
      },
      {
       "output_type": "stream",
       "stream": "stdout",
       "text": [
        "\n",
        "Minibatch loss at step"
       ]
      },
      {
       "output_type": "stream",
       "stream": "stdout",
       "text": [
        " 120000 : 3.37491\n",
        "Minibatch accuracy: 46.9%\n",
        "Validation accuracy at step 120000: 32.4%"
       ]
      },
      {
       "output_type": "stream",
       "stream": "stdout",
       "text": [
        "\n",
        "Test accuracy at step 120000: 32.0%"
       ]
      },
      {
       "output_type": "stream",
       "stream": "stdout",
       "text": [
        "\n",
        "Minibatch loss at step"
       ]
      },
      {
       "output_type": "stream",
       "stream": "stdout",
       "text": [
        " 121000 : 3.86261\n",
        "Minibatch accuracy: 28.1%\n",
        "Validation accuracy at step 121000: 36.3%"
       ]
      },
      {
       "output_type": "stream",
       "stream": "stdout",
       "text": [
        "\n",
        "Minibatch loss at step"
       ]
      },
      {
       "output_type": "stream",
       "stream": "stdout",
       "text": [
        " 122000 : 3.44422\n",
        "Minibatch accuracy: 37.5%\n",
        "Validation accuracy at step 122000: 39.8%"
       ]
      },
      {
       "output_type": "stream",
       "stream": "stdout",
       "text": [
        "\n",
        "Minibatch loss at step"
       ]
      },
      {
       "output_type": "stream",
       "stream": "stdout",
       "text": [
        " 123000 : 3.76845\n",
        "Minibatch accuracy: 31.2%\n",
        "Validation accuracy at step 123000: 37.2%"
       ]
      },
      {
       "output_type": "stream",
       "stream": "stdout",
       "text": [
        "\n",
        "Minibatch loss at step"
       ]
      },
      {
       "output_type": "stream",
       "stream": "stdout",
       "text": [
        " 124000 : 3.7497\n",
        "Minibatch accuracy: 37.5%\n",
        "Validation accuracy at step 124000: 27.7%"
       ]
      },
      {
       "output_type": "stream",
       "stream": "stdout",
       "text": [
        "\n",
        "Minibatch loss at step"
       ]
      },
      {
       "output_type": "stream",
       "stream": "stdout",
       "text": [
        " 125000 : 3.4656\n",
        "Minibatch accuracy: 34.4%\n",
        "Validation accuracy at step 125000: 43.0%"
       ]
      },
      {
       "output_type": "stream",
       "stream": "stdout",
       "text": [
        "\n",
        "Test accuracy at step 125000: 42.9%"
       ]
      },
      {
       "output_type": "stream",
       "stream": "stdout",
       "text": [
        "\n",
        "Minibatch loss at step"
       ]
      },
      {
       "output_type": "stream",
       "stream": "stdout",
       "text": [
        " 126000 : 3.64434\n",
        "Minibatch accuracy: 34.4%\n",
        "Validation accuracy at step 126000: 41.6%"
       ]
      },
      {
       "output_type": "stream",
       "stream": "stdout",
       "text": [
        "\n",
        "Minibatch loss at step"
       ]
      },
      {
       "output_type": "stream",
       "stream": "stdout",
       "text": [
        " 127000 : 3.47356\n",
        "Minibatch accuracy: 37.5%\n",
        "Validation accuracy at step 127000: 38.6%"
       ]
      },
      {
       "output_type": "stream",
       "stream": "stdout",
       "text": [
        "\n",
        "Minibatch loss at step"
       ]
      },
      {
       "output_type": "stream",
       "stream": "stdout",
       "text": [
        " 128000 : 4.49492\n",
        "Minibatch accuracy: 34.4%\n",
        "Validation accuracy at step 128000: 38.5%"
       ]
      },
      {
       "output_type": "stream",
       "stream": "stdout",
       "text": [
        "\n",
        "Minibatch loss at step"
       ]
      },
      {
       "output_type": "stream",
       "stream": "stdout",
       "text": [
        " 129000 : 2.93587\n",
        "Minibatch accuracy: 50.0%\n",
        "Validation accuracy at step 129000: 40.8%"
       ]
      },
      {
       "output_type": "stream",
       "stream": "stdout",
       "text": [
        "\n",
        "Minibatch loss at step"
       ]
      },
      {
       "output_type": "stream",
       "stream": "stdout",
       "text": [
        " 130000 : 3.64922\n",
        "Minibatch accuracy: 21.9%\n",
        "Validation accuracy at step 130000: 24.9%"
       ]
      },
      {
       "output_type": "stream",
       "stream": "stdout",
       "text": [
        "\n",
        "Test accuracy at step 130000: 25.1%"
       ]
      },
      {
       "output_type": "stream",
       "stream": "stdout",
       "text": [
        "\n",
        "Minibatch loss at step"
       ]
      },
      {
       "output_type": "stream",
       "stream": "stdout",
       "text": [
        " 131000 : 3.51042\n",
        "Minibatch accuracy: 31.2%\n",
        "Validation accuracy at step 131000: 44.1%"
       ]
      },
      {
       "output_type": "stream",
       "stream": "stdout",
       "text": [
        "\n",
        "Minibatch loss at step"
       ]
      },
      {
       "output_type": "stream",
       "stream": "stdout",
       "text": [
        " 132000 : 2.90409\n",
        "Minibatch accuracy: 53.1%\n",
        "Validation accuracy at step 132000: 40.2%"
       ]
      },
      {
       "output_type": "stream",
       "stream": "stdout",
       "text": [
        "\n",
        "Minibatch loss at step"
       ]
      },
      {
       "output_type": "stream",
       "stream": "stdout",
       "text": [
        " 133000 : 3.15501\n",
        "Minibatch accuracy: 53.1%\n",
        "Validation accuracy at step 133000: 41.8%"
       ]
      },
      {
       "output_type": "stream",
       "stream": "stdout",
       "text": [
        "\n",
        "Minibatch loss at step"
       ]
      },
      {
       "output_type": "stream",
       "stream": "stdout",
       "text": [
        " 134000 : 3.23439\n",
        "Minibatch accuracy: 34.4%\n",
        "Validation accuracy at step 134000: 36.9%"
       ]
      },
      {
       "output_type": "stream",
       "stream": "stdout",
       "text": [
        "\n",
        "Minibatch loss at step"
       ]
      },
      {
       "output_type": "stream",
       "stream": "stdout",
       "text": [
        " 135000 : 3.7012\n",
        "Minibatch accuracy: 34.4%\n",
        "Validation accuracy at step 135000: 42.0%"
       ]
      },
      {
       "output_type": "stream",
       "stream": "stdout",
       "text": [
        "\n",
        "Test accuracy at step 135000: 41.5%"
       ]
      },
      {
       "output_type": "stream",
       "stream": "stdout",
       "text": [
        "\n",
        "Minibatch loss at step"
       ]
      },
      {
       "output_type": "stream",
       "stream": "stdout",
       "text": [
        " 136000 : 3.5917\n",
        "Minibatch accuracy: 28.1%\n",
        "Validation accuracy at step 136000: 33.3%"
       ]
      },
      {
       "output_type": "stream",
       "stream": "stdout",
       "text": [
        "\n",
        "Minibatch loss at step"
       ]
      },
      {
       "output_type": "stream",
       "stream": "stdout",
       "text": [
        " 137000 : 3.14192\n",
        "Minibatch accuracy: 46.9%\n",
        "Validation accuracy at step 137000: 34.5%"
       ]
      },
      {
       "output_type": "stream",
       "stream": "stdout",
       "text": [
        "\n",
        "Minibatch loss at step"
       ]
      },
      {
       "output_type": "stream",
       "stream": "stdout",
       "text": [
        " 138000 : 3.42667\n",
        "Minibatch accuracy: 34.4%\n",
        "Validation accuracy at step 138000: 34.6%"
       ]
      },
      {
       "output_type": "stream",
       "stream": "stdout",
       "text": [
        "\n",
        "Minibatch loss at step"
       ]
      },
      {
       "output_type": "stream",
       "stream": "stdout",
       "text": [
        " 139000 : 2.87592\n",
        "Minibatch accuracy: 53.1%\n",
        "Validation accuracy at step 139000: 42.4%"
       ]
      },
      {
       "output_type": "stream",
       "stream": "stdout",
       "text": [
        "\n",
        "Minibatch loss at step"
       ]
      },
      {
       "output_type": "stream",
       "stream": "stdout",
       "text": [
        " 140000 : 3.04298\n",
        "Minibatch accuracy: 43.8%\n",
        "Validation accuracy at step 140000: 44.3%"
       ]
      },
      {
       "output_type": "stream",
       "stream": "stdout",
       "text": [
        "\n",
        "Test accuracy at step 140000: 44.5%"
       ]
      },
      {
       "output_type": "stream",
       "stream": "stdout",
       "text": [
        "\n",
        "Minibatch loss at step"
       ]
      },
      {
       "output_type": "stream",
       "stream": "stdout",
       "text": [
        " 141000 : 3.39012\n",
        "Minibatch accuracy: 31.2%\n",
        "Validation accuracy at step 141000: 42.0%"
       ]
      },
      {
       "output_type": "stream",
       "stream": "stdout",
       "text": [
        "\n",
        "Minibatch loss at step"
       ]
      },
      {
       "output_type": "stream",
       "stream": "stdout",
       "text": [
        " 142000 : 3.03296\n",
        "Minibatch accuracy: 50.0%\n",
        "Validation accuracy at step 142000: 36.3%"
       ]
      },
      {
       "output_type": "stream",
       "stream": "stdout",
       "text": [
        "\n",
        "Minibatch loss at step"
       ]
      },
      {
       "output_type": "stream",
       "stream": "stdout",
       "text": [
        " 143000 : 3.54211\n",
        "Minibatch accuracy: 21.9%\n",
        "Validation accuracy at step 143000: 32.8%"
       ]
      },
      {
       "output_type": "stream",
       "stream": "stdout",
       "text": [
        "\n",
        "Minibatch loss at step"
       ]
      },
      {
       "output_type": "stream",
       "stream": "stdout",
       "text": [
        " 144000 : 3.39704\n",
        "Minibatch accuracy: 40.6%\n",
        "Validation accuracy at step 144000: 33.2%"
       ]
      },
      {
       "output_type": "stream",
       "stream": "stdout",
       "text": [
        "\n",
        "Minibatch loss at step"
       ]
      },
      {
       "output_type": "stream",
       "stream": "stdout",
       "text": [
        " 145000 : 2.67444\n",
        "Minibatch accuracy: 59.4%\n",
        "Validation accuracy at step 145000: 40.2%"
       ]
      },
      {
       "output_type": "stream",
       "stream": "stdout",
       "text": [
        "\n",
        "Test accuracy at step 145000: 39.9%"
       ]
      },
      {
       "output_type": "stream",
       "stream": "stdout",
       "text": [
        "\n",
        "Minibatch loss at step"
       ]
      },
      {
       "output_type": "stream",
       "stream": "stdout",
       "text": [
        " 146000 : 3.33867\n",
        "Minibatch accuracy: 34.4%\n",
        "Validation accuracy at step 146000: 38.0%"
       ]
      },
      {
       "output_type": "stream",
       "stream": "stdout",
       "text": [
        "\n",
        "Minibatch loss at step"
       ]
      },
      {
       "output_type": "stream",
       "stream": "stdout",
       "text": [
        " 147000 : 2.9883\n",
        "Minibatch accuracy: 53.1%\n",
        "Validation accuracy at step 147000: 39.5%"
       ]
      },
      {
       "output_type": "stream",
       "stream": "stdout",
       "text": [
        "\n",
        "Minibatch loss at step"
       ]
      },
      {
       "output_type": "stream",
       "stream": "stdout",
       "text": [
        " 148000 : 3.51695\n",
        "Minibatch accuracy: 37.5%\n",
        "Validation accuracy at step 148000: 37.8%"
       ]
      },
      {
       "output_type": "stream",
       "stream": "stdout",
       "text": [
        "\n",
        "Minibatch loss at step"
       ]
      },
      {
       "output_type": "stream",
       "stream": "stdout",
       "text": [
        " 149000 : 3.17166\n",
        "Minibatch accuracy: 34.4%\n",
        "Validation accuracy at step 149000: 32.1%"
       ]
      },
      {
       "output_type": "stream",
       "stream": "stdout",
       "text": [
        "\n",
        "Minibatch loss at step"
       ]
      },
      {
       "output_type": "stream",
       "stream": "stdout",
       "text": [
        " 150000 : 2.7479\n",
        "Minibatch accuracy: 43.8%\n",
        "Validation accuracy at step 150000: 46.8%"
       ]
      },
      {
       "output_type": "stream",
       "stream": "stdout",
       "text": [
        "\n",
        "Test accuracy at step 150000: 47.1%"
       ]
      },
      {
       "output_type": "stream",
       "stream": "stdout",
       "text": [
        "\n",
        "Minibatch loss at step"
       ]
      },
      {
       "output_type": "stream",
       "stream": "stdout",
       "text": [
        " 151000 : 2.96061\n",
        "Minibatch accuracy: 43.8%\n",
        "Validation accuracy at step 151000: 37.8%"
       ]
      },
      {
       "output_type": "stream",
       "stream": "stdout",
       "text": [
        "\n",
        "Minibatch loss at step"
       ]
      },
      {
       "output_type": "stream",
       "stream": "stdout",
       "text": [
        " 152000 : 3.12793\n",
        "Minibatch accuracy: 50.0%\n",
        "Validation accuracy at step 152000: 42.9%"
       ]
      },
      {
       "output_type": "stream",
       "stream": "stdout",
       "text": [
        "\n",
        "Minibatch loss at step"
       ]
      },
      {
       "output_type": "stream",
       "stream": "stdout",
       "text": [
        " 153000 : 2.80125\n",
        "Minibatch accuracy: 31.2%\n",
        "Validation accuracy at step 153000: 40.8%"
       ]
      },
      {
       "output_type": "stream",
       "stream": "stdout",
       "text": [
        "\n",
        "Minibatch loss at step"
       ]
      },
      {
       "output_type": "stream",
       "stream": "stdout",
       "text": [
        " 154000 : 2.61754\n",
        "Minibatch accuracy: 53.1%\n",
        "Validation accuracy at step 154000: 37.8%"
       ]
      },
      {
       "output_type": "stream",
       "stream": "stdout",
       "text": [
        "\n",
        "Minibatch loss at step"
       ]
      },
      {
       "output_type": "stream",
       "stream": "stdout",
       "text": [
        " 155000 : 2.73634\n",
        "Minibatch accuracy: 40.6%\n",
        "Validation accuracy at step 155000: 43.1%"
       ]
      },
      {
       "output_type": "stream",
       "stream": "stdout",
       "text": [
        "\n",
        "Test accuracy at step 155000: 42.6%"
       ]
      },
      {
       "output_type": "stream",
       "stream": "stdout",
       "text": [
        "\n",
        "Minibatch loss at step"
       ]
      },
      {
       "output_type": "stream",
       "stream": "stdout",
       "text": [
        " 156000 : 3.4358\n",
        "Minibatch accuracy: 28.1%\n",
        "Validation accuracy at step 156000: 37.7%"
       ]
      },
      {
       "output_type": "stream",
       "stream": "stdout",
       "text": [
        "\n",
        "Minibatch loss at step"
       ]
      },
      {
       "output_type": "stream",
       "stream": "stdout",
       "text": [
        " 157000 : 2.58558\n",
        "Minibatch accuracy: 43.8%\n",
        "Validation accuracy at step 157000: 43.7%"
       ]
      },
      {
       "output_type": "stream",
       "stream": "stdout",
       "text": [
        "\n",
        "Minibatch loss at step"
       ]
      },
      {
       "output_type": "stream",
       "stream": "stdout",
       "text": [
        " 158000 : 2.82069\n",
        "Minibatch accuracy: 46.9%\n",
        "Validation accuracy at step 158000: 41.4%"
       ]
      },
      {
       "output_type": "stream",
       "stream": "stdout",
       "text": [
        "\n",
        "Minibatch loss at step"
       ]
      },
      {
       "output_type": "stream",
       "stream": "stdout",
       "text": [
        " 159000 : 3.06503\n",
        "Minibatch accuracy: 18.8%\n",
        "Validation accuracy at step 159000: 41.6%"
       ]
      },
      {
       "output_type": "stream",
       "stream": "stdout",
       "text": [
        "\n",
        "Minibatch loss at step"
       ]
      },
      {
       "output_type": "stream",
       "stream": "stdout",
       "text": [
        " 160000 : 2.90365\n",
        "Minibatch accuracy: 40.6%\n",
        "Validation accuracy at step 160000: 39.5%"
       ]
      },
      {
       "output_type": "stream",
       "stream": "stdout",
       "text": [
        "\n",
        "Test accuracy at step 160000: 39.5%"
       ]
      },
      {
       "output_type": "stream",
       "stream": "stdout",
       "text": [
        "\n",
        "Minibatch loss at step"
       ]
      },
      {
       "output_type": "stream",
       "stream": "stdout",
       "text": [
        " 161000 : 2.77312\n",
        "Minibatch accuracy: 50.0%\n",
        "Validation accuracy at step 161000: 37.9%"
       ]
      },
      {
       "output_type": "stream",
       "stream": "stdout",
       "text": [
        "\n",
        "Minibatch loss at step"
       ]
      },
      {
       "output_type": "stream",
       "stream": "stdout",
       "text": [
        " 162000 : 3.11051\n",
        "Minibatch accuracy: 28.1%\n",
        "Validation accuracy at step 162000: 40.8%"
       ]
      },
      {
       "output_type": "stream",
       "stream": "stdout",
       "text": [
        "\n",
        "Minibatch loss at step"
       ]
      },
      {
       "output_type": "stream",
       "stream": "stdout",
       "text": [
        " 163000 : 2.7984\n",
        "Minibatch accuracy: 37.5%\n",
        "Validation accuracy at step 163000: 40.6%"
       ]
      },
      {
       "output_type": "stream",
       "stream": "stdout",
       "text": [
        "\n",
        "Minibatch loss at step"
       ]
      },
      {
       "output_type": "stream",
       "stream": "stdout",
       "text": [
        " 164000 : 3.05723\n",
        "Minibatch accuracy: 43.8%\n",
        "Validation accuracy at step 164000: 40.3%"
       ]
      },
      {
       "output_type": "stream",
       "stream": "stdout",
       "text": [
        "\n",
        "Minibatch loss at step"
       ]
      },
      {
       "output_type": "stream",
       "stream": "stdout",
       "text": [
        " 165000 : 2.58273\n",
        "Minibatch accuracy: 53.1%\n",
        "Validation accuracy at step 165000: 39.3%"
       ]
      },
      {
       "output_type": "stream",
       "stream": "stdout",
       "text": [
        "\n",
        "Test accuracy at step 165000: 38.9%"
       ]
      },
      {
       "output_type": "stream",
       "stream": "stdout",
       "text": [
        "\n",
        "Minibatch loss at step"
       ]
      },
      {
       "output_type": "stream",
       "stream": "stdout",
       "text": [
        " 166000 : 2.87518\n",
        "Minibatch accuracy: 43.8%\n",
        "Validation accuracy at step 166000: 41.3%"
       ]
      },
      {
       "output_type": "stream",
       "stream": "stdout",
       "text": [
        "\n",
        "Minibatch loss at step"
       ]
      },
      {
       "output_type": "stream",
       "stream": "stdout",
       "text": [
        " 167000 : 2.69699\n",
        "Minibatch accuracy: 40.6%\n",
        "Validation accuracy at step 167000: 42.4%"
       ]
      },
      {
       "output_type": "stream",
       "stream": "stdout",
       "text": [
        "\n",
        "Minibatch loss at step"
       ]
      },
      {
       "output_type": "stream",
       "stream": "stdout",
       "text": [
        " 168000 : 3.64926\n",
        "Minibatch accuracy: 18.8%\n",
        "Validation accuracy at step 168000: 39.1%"
       ]
      },
      {
       "output_type": "stream",
       "stream": "stdout",
       "text": [
        "\n",
        "Minibatch loss at step"
       ]
      },
      {
       "output_type": "stream",
       "stream": "stdout",
       "text": [
        " 169000 : 2.85236\n",
        "Minibatch accuracy: 43.8%\n",
        "Validation accuracy at step 169000: 41.6%"
       ]
      },
      {
       "output_type": "stream",
       "stream": "stdout",
       "text": [
        "\n",
        "Minibatch loss at step"
       ]
      },
      {
       "output_type": "stream",
       "stream": "stdout",
       "text": [
        " 170000 : 2.91439\n",
        "Minibatch accuracy: 40.6%\n",
        "Validation accuracy at step 170000: 26.1%"
       ]
      },
      {
       "output_type": "stream",
       "stream": "stdout",
       "text": [
        "\n",
        "Test accuracy at step 170000: 26.7%"
       ]
      },
      {
       "output_type": "stream",
       "stream": "stdout",
       "text": [
        "\n",
        "Minibatch loss at step"
       ]
      },
      {
       "output_type": "stream",
       "stream": "stdout",
       "text": [
        " 171000 : 2.43809\n",
        "Minibatch accuracy: 59.4%\n",
        "Validation accuracy at step 171000: 43.2%"
       ]
      },
      {
       "output_type": "stream",
       "stream": "stdout",
       "text": [
        "\n",
        "Minibatch loss at step"
       ]
      },
      {
       "output_type": "stream",
       "stream": "stdout",
       "text": [
        " 172000 : 2.77506\n",
        "Minibatch accuracy: 31.2%\n",
        "Validation accuracy at step 172000: 45.0%"
       ]
      },
      {
       "output_type": "stream",
       "stream": "stdout",
       "text": [
        "\n",
        "Minibatch loss at step"
       ]
      },
      {
       "output_type": "stream",
       "stream": "stdout",
       "text": [
        " 173000 : 2.59195\n",
        "Minibatch accuracy: 25.0%\n",
        "Validation accuracy at step 173000: 43.7%"
       ]
      },
      {
       "output_type": "stream",
       "stream": "stdout",
       "text": [
        "\n",
        "Minibatch loss at step"
       ]
      },
      {
       "output_type": "stream",
       "stream": "stdout",
       "text": [
        " 174000 : 2.50523\n",
        "Minibatch accuracy: 46.9%\n",
        "Validation accuracy at step 174000: 35.1%"
       ]
      },
      {
       "output_type": "stream",
       "stream": "stdout",
       "text": [
        "\n",
        "Minibatch loss at step"
       ]
      },
      {
       "output_type": "stream",
       "stream": "stdout",
       "text": [
        " 175000 : 3.04582\n",
        "Minibatch accuracy: 31.2%\n",
        "Validation accuracy at step 175000: 43.4%"
       ]
      },
      {
       "output_type": "stream",
       "stream": "stdout",
       "text": [
        "\n",
        "Test accuracy at step 175000: 42.8%"
       ]
      },
      {
       "output_type": "stream",
       "stream": "stdout",
       "text": [
        "\n",
        "Minibatch loss at step"
       ]
      },
      {
       "output_type": "stream",
       "stream": "stdout",
       "text": [
        " 176000 : 2.68508\n",
        "Minibatch accuracy: 40.6%\n",
        "Validation accuracy at step 176000: 41.9%"
       ]
      },
      {
       "output_type": "stream",
       "stream": "stdout",
       "text": [
        "\n",
        "Minibatch loss at step"
       ]
      },
      {
       "output_type": "stream",
       "stream": "stdout",
       "text": [
        " 177000 : 3.1046\n",
        "Minibatch accuracy: 28.1%\n",
        "Validation accuracy at step 177000: 38.6%"
       ]
      },
      {
       "output_type": "stream",
       "stream": "stdout",
       "text": [
        "\n",
        "Minibatch loss at step"
       ]
      },
      {
       "output_type": "stream",
       "stream": "stdout",
       "text": [
        " 178000 : 3.12722\n",
        "Minibatch accuracy: 15.6%\n",
        "Validation accuracy at step 178000: 26.8%"
       ]
      },
      {
       "output_type": "stream",
       "stream": "stdout",
       "text": [
        "\n",
        "Minibatch loss at step"
       ]
      },
      {
       "output_type": "stream",
       "stream": "stdout",
       "text": [
        " 179000 : 2.87093\n",
        "Minibatch accuracy: 37.5%\n",
        "Validation accuracy at step 179000: 40.4%"
       ]
      },
      {
       "output_type": "stream",
       "stream": "stdout",
       "text": [
        "\n",
        "Minibatch loss at step"
       ]
      },
      {
       "output_type": "stream",
       "stream": "stdout",
       "text": [
        " 180000 : 2.64428\n",
        "Minibatch accuracy: 43.8%\n",
        "Validation accuracy at step 180000: 41.4%"
       ]
      },
      {
       "output_type": "stream",
       "stream": "stdout",
       "text": [
        "\n",
        "Test accuracy at step 180000: 40.4%"
       ]
      },
      {
       "output_type": "stream",
       "stream": "stdout",
       "text": [
        "\n",
        "Minibatch loss at step"
       ]
      },
      {
       "output_type": "stream",
       "stream": "stdout",
       "text": [
        " 181000 : 2.53828\n",
        "Minibatch accuracy: 37.5%\n",
        "Validation accuracy at step 181000: 31.0%"
       ]
      },
      {
       "output_type": "stream",
       "stream": "stdout",
       "text": [
        "\n",
        "Minibatch loss at step"
       ]
      },
      {
       "output_type": "stream",
       "stream": "stdout",
       "text": [
        " 182000 : 2.67078\n",
        "Minibatch accuracy: 43.8%\n",
        "Validation accuracy at step 182000: 39.6%"
       ]
      },
      {
       "output_type": "stream",
       "stream": "stdout",
       "text": [
        "\n",
        "Minibatch loss at step"
       ]
      },
      {
       "output_type": "stream",
       "stream": "stdout",
       "text": [
        " 183000 : 2.80793\n",
        "Minibatch accuracy: 31.2%\n",
        "Validation accuracy at step 183000: 40.7%"
       ]
      },
      {
       "output_type": "stream",
       "stream": "stdout",
       "text": [
        "\n",
        "Minibatch loss at step"
       ]
      },
      {
       "output_type": "stream",
       "stream": "stdout",
       "text": [
        " 184000 : 2.36975\n",
        "Minibatch accuracy: 46.9%\n",
        "Validation accuracy at step 184000: 37.5%"
       ]
      },
      {
       "output_type": "stream",
       "stream": "stdout",
       "text": [
        "\n",
        "Minibatch loss at step"
       ]
      },
      {
       "output_type": "stream",
       "stream": "stdout",
       "text": [
        " 185000 : 2.40516\n",
        "Minibatch accuracy: 53.1%\n",
        "Validation accuracy at step 185000: 39.1%"
       ]
      },
      {
       "output_type": "stream",
       "stream": "stdout",
       "text": [
        "\n",
        "Test accuracy at step 185000: 39.1%"
       ]
      },
      {
       "output_type": "stream",
       "stream": "stdout",
       "text": [
        "\n",
        "Minibatch loss at step"
       ]
      },
      {
       "output_type": "stream",
       "stream": "stdout",
       "text": [
        " 186000 : 2.23257\n",
        "Minibatch accuracy: 50.0%\n",
        "Validation accuracy at step 186000: 36.3%"
       ]
      },
      {
       "output_type": "stream",
       "stream": "stdout",
       "text": [
        "\n",
        "Minibatch loss at step"
       ]
      },
      {
       "output_type": "stream",
       "stream": "stdout",
       "text": [
        " 187000 : 2.7701\n",
        "Minibatch accuracy: 40.6%\n",
        "Validation accuracy at step 187000: 38.6%"
       ]
      },
      {
       "output_type": "stream",
       "stream": "stdout",
       "text": [
        "\n",
        "Minibatch loss at step"
       ]
      },
      {
       "output_type": "stream",
       "stream": "stdout",
       "text": [
        " 188000 : 2.24407\n",
        "Minibatch accuracy: 50.0%\n",
        "Validation accuracy at step 188000: 42.3%"
       ]
      },
      {
       "output_type": "stream",
       "stream": "stdout",
       "text": [
        "\n",
        "Minibatch loss at step"
       ]
      },
      {
       "output_type": "stream",
       "stream": "stdout",
       "text": [
        " 189000 : 2.36776\n",
        "Minibatch accuracy: 43.8%\n",
        "Validation accuracy at step 189000: 44.9%"
       ]
      },
      {
       "output_type": "stream",
       "stream": "stdout",
       "text": [
        "\n",
        "Minibatch loss at step"
       ]
      },
      {
       "output_type": "stream",
       "stream": "stdout",
       "text": [
        " 190000 : 2.47187\n",
        "Minibatch accuracy: 46.9%\n",
        "Validation accuracy at step 190000: 44.9%"
       ]
      },
      {
       "output_type": "stream",
       "stream": "stdout",
       "text": [
        "\n",
        "Test accuracy at step 190000: 44.3%"
       ]
      },
      {
       "output_type": "stream",
       "stream": "stdout",
       "text": [
        "\n",
        "Minibatch loss at step"
       ]
      },
      {
       "output_type": "stream",
       "stream": "stdout",
       "text": [
        " 191000 : 2.60902\n",
        "Minibatch accuracy: 28.1%\n",
        "Validation accuracy at step 191000: 38.8%"
       ]
      },
      {
       "output_type": "stream",
       "stream": "stdout",
       "text": [
        "\n",
        "Minibatch loss at step"
       ]
      },
      {
       "output_type": "stream",
       "stream": "stdout",
       "text": [
        " 192000 : 2.26254\n",
        "Minibatch accuracy: 50.0%\n",
        "Validation accuracy at step 192000: 41.3%"
       ]
      },
      {
       "output_type": "stream",
       "stream": "stdout",
       "text": [
        "\n",
        "Minibatch loss at step"
       ]
      },
      {
       "output_type": "stream",
       "stream": "stdout",
       "text": [
        " 193000 : 2.41045\n",
        "Minibatch accuracy: 43.8%\n",
        "Validation accuracy at step 193000: 38.8%"
       ]
      },
      {
       "output_type": "stream",
       "stream": "stdout",
       "text": [
        "\n",
        "Minibatch loss at step"
       ]
      },
      {
       "output_type": "stream",
       "stream": "stdout",
       "text": [
        " 194000 : 3.14932\n",
        "Minibatch accuracy: 21.9%\n",
        "Validation accuracy at step 194000: 39.4%"
       ]
      },
      {
       "output_type": "stream",
       "stream": "stdout",
       "text": [
        "\n",
        "Minibatch loss at step"
       ]
      },
      {
       "output_type": "stream",
       "stream": "stdout",
       "text": [
        " 195000 : 2.71505\n",
        "Minibatch accuracy: 25.0%\n",
        "Validation accuracy at step 195000: 38.5%"
       ]
      },
      {
       "output_type": "stream",
       "stream": "stdout",
       "text": [
        "\n",
        "Test accuracy at step 195000: 38.9%"
       ]
      },
      {
       "output_type": "stream",
       "stream": "stdout",
       "text": [
        "\n",
        "Minibatch loss at step"
       ]
      },
      {
       "output_type": "stream",
       "stream": "stdout",
       "text": [
        " 196000 : 2.59708\n",
        "Minibatch accuracy: 31.2%\n",
        "Validation accuracy at step 196000: 41.3%"
       ]
      },
      {
       "output_type": "stream",
       "stream": "stdout",
       "text": [
        "\n",
        "Minibatch loss at step"
       ]
      },
      {
       "output_type": "stream",
       "stream": "stdout",
       "text": [
        " 197000 : 2.65295\n",
        "Minibatch accuracy: 28.1%\n",
        "Validation accuracy at step 197000: 43.0%"
       ]
      },
      {
       "output_type": "stream",
       "stream": "stdout",
       "text": [
        "\n",
        "Minibatch loss at step"
       ]
      },
      {
       "output_type": "stream",
       "stream": "stdout",
       "text": [
        " 198000 : 2.3544\n",
        "Minibatch accuracy: 50.0%\n",
        "Validation accuracy at step 198000: 45.0%"
       ]
      },
      {
       "output_type": "stream",
       "stream": "stdout",
       "text": [
        "\n",
        "Minibatch loss at step"
       ]
      },
      {
       "output_type": "stream",
       "stream": "stdout",
       "text": [
        " 199000 : 2.40842\n",
        "Minibatch accuracy: 37.5%\n",
        "Validation accuracy at step 199000: 38.8%"
       ]
      },
      {
       "output_type": "stream",
       "stream": "stdout",
       "text": [
        "\n",
        "Minibatch loss at step"
       ]
      },
      {
       "output_type": "stream",
       "stream": "stdout",
       "text": [
        " 200000 : 2.95829\n",
        "Minibatch accuracy: 25.0%\n",
        "Validation accuracy at step 200000: 40.9%"
       ]
      },
      {
       "output_type": "stream",
       "stream": "stdout",
       "text": [
        "\n",
        "Test accuracy at step 200000: 41.6%"
       ]
      },
      {
       "output_type": "stream",
       "stream": "stdout",
       "text": [
        "\n",
        "Minibatch loss at step"
       ]
      },
      {
       "output_type": "stream",
       "stream": "stdout",
       "text": [
        " 201000 : 2.54299\n",
        "Minibatch accuracy: 31.2%\n",
        "Validation accuracy at step 201000: 44.8%"
       ]
      },
      {
       "output_type": "stream",
       "stream": "stdout",
       "text": [
        "\n",
        "Minibatch loss at step"
       ]
      },
      {
       "output_type": "stream",
       "stream": "stdout",
       "text": [
        " 202000 : 2.33467\n",
        "Minibatch accuracy: 34.4%\n",
        "Validation accuracy at step 202000: 36.4%"
       ]
      },
      {
       "output_type": "stream",
       "stream": "stdout",
       "text": [
        "\n",
        "Minibatch loss at step"
       ]
      },
      {
       "output_type": "stream",
       "stream": "stdout",
       "text": [
        " 203000 : 2.45651\n",
        "Minibatch accuracy: 46.9%\n",
        "Validation accuracy at step 203000: 40.9%"
       ]
      },
      {
       "output_type": "stream",
       "stream": "stdout",
       "text": [
        "\n",
        "Minibatch loss at step"
       ]
      },
      {
       "output_type": "stream",
       "stream": "stdout",
       "text": [
        " 204000 : 2.4913\n",
        "Minibatch accuracy: 28.1%\n",
        "Validation accuracy at step 204000: 39.1%"
       ]
      },
      {
       "output_type": "stream",
       "stream": "stdout",
       "text": [
        "\n",
        "Minibatch loss at step"
       ]
      },
      {
       "output_type": "stream",
       "stream": "stdout",
       "text": [
        " 205000 : 2.73188\n",
        "Minibatch accuracy: 21.9%\n",
        "Validation accuracy at step 205000: 35.0%"
       ]
      },
      {
       "output_type": "stream",
       "stream": "stdout",
       "text": [
        "\n",
        "Test accuracy at step 205000: 34.4%"
       ]
      },
      {
       "output_type": "stream",
       "stream": "stdout",
       "text": [
        "\n",
        "Minibatch loss at step"
       ]
      },
      {
       "output_type": "stream",
       "stream": "stdout",
       "text": [
        " 206000 : 2.33195\n",
        "Minibatch accuracy: 46.9%\n",
        "Validation accuracy at step 206000: 39.7%"
       ]
      },
      {
       "output_type": "stream",
       "stream": "stdout",
       "text": [
        "\n",
        "Minibatch loss at step"
       ]
      },
      {
       "output_type": "stream",
       "stream": "stdout",
       "text": [
        " 207000 : 2.22932\n",
        "Minibatch accuracy: 56.2%\n",
        "Validation accuracy at step 207000: 35.0%"
       ]
      },
      {
       "output_type": "stream",
       "stream": "stdout",
       "text": [
        "\n",
        "Minibatch loss at step"
       ]
      },
      {
       "output_type": "stream",
       "stream": "stdout",
       "text": [
        " 208000 : 2.90344\n",
        "Minibatch accuracy: 28.1%\n",
        "Validation accuracy at step 208000: 36.8%"
       ]
      },
      {
       "output_type": "stream",
       "stream": "stdout",
       "text": [
        "\n",
        "Minibatch loss at step"
       ]
      },
      {
       "output_type": "stream",
       "stream": "stdout",
       "text": [
        " 209000 : 2.19045\n",
        "Minibatch accuracy: 53.1%\n",
        "Validation accuracy at step 209000: 43.8%"
       ]
      },
      {
       "output_type": "stream",
       "stream": "stdout",
       "text": [
        "\n",
        "Minibatch loss at step"
       ]
      },
      {
       "output_type": "stream",
       "stream": "stdout",
       "text": [
        " 210000 : 2.77803\n",
        "Minibatch accuracy: 31.2%\n",
        "Validation accuracy at step 210000: 38.7%"
       ]
      },
      {
       "output_type": "stream",
       "stream": "stdout",
       "text": [
        "\n",
        "Test accuracy at step 210000: 39.0%"
       ]
      },
      {
       "output_type": "stream",
       "stream": "stdout",
       "text": [
        "\n",
        "Minibatch loss at step"
       ]
      },
      {
       "output_type": "stream",
       "stream": "stdout",
       "text": [
        " 211000 : 2.31528\n",
        "Minibatch accuracy: 43.8%\n",
        "Validation accuracy at step 211000: 44.9%"
       ]
      },
      {
       "output_type": "stream",
       "stream": "stdout",
       "text": [
        "\n",
        "Minibatch loss at step"
       ]
      },
      {
       "output_type": "stream",
       "stream": "stdout",
       "text": [
        " 212000 : 1.88021\n",
        "Minibatch accuracy: 56.2%\n",
        "Validation accuracy at step 212000: 45.8%"
       ]
      },
      {
       "output_type": "stream",
       "stream": "stdout",
       "text": [
        "\n",
        "Minibatch loss at step"
       ]
      },
      {
       "output_type": "stream",
       "stream": "stdout",
       "text": [
        " 213000 : 2.60804\n",
        "Minibatch accuracy: 56.2%\n",
        "Validation accuracy at step 213000: 45.3%"
       ]
      },
      {
       "output_type": "stream",
       "stream": "stdout",
       "text": [
        "\n",
        "Minibatch loss at step"
       ]
      },
      {
       "output_type": "stream",
       "stream": "stdout",
       "text": [
        " 214000 : 2.85307\n",
        "Minibatch accuracy: 37.5%\n",
        "Validation accuracy at step 214000: 42.2%"
       ]
      },
      {
       "output_type": "stream",
       "stream": "stdout",
       "text": [
        "\n",
        "Minibatch loss at step"
       ]
      },
      {
       "output_type": "stream",
       "stream": "stdout",
       "text": [
        " 215000 : 2.65591\n",
        "Minibatch accuracy: 34.4%\n",
        "Validation accuracy at step 215000: 42.5%"
       ]
      },
      {
       "output_type": "stream",
       "stream": "stdout",
       "text": [
        "\n",
        "Test accuracy at step 215000: 42.1%"
       ]
      },
      {
       "output_type": "stream",
       "stream": "stdout",
       "text": [
        "\n",
        "Minibatch loss at step"
       ]
      },
      {
       "output_type": "stream",
       "stream": "stdout",
       "text": [
        " 216000 : 2.61004\n",
        "Minibatch accuracy: 53.1%\n",
        "Validation accuracy at step 216000: 47.7%"
       ]
      },
      {
       "output_type": "stream",
       "stream": "stdout",
       "text": [
        "\n",
        "Minibatch loss at step"
       ]
      },
      {
       "output_type": "stream",
       "stream": "stdout",
       "text": [
        " 217000 : 2.13097\n",
        "Minibatch accuracy: 50.0%\n",
        "Validation accuracy at step 217000: 40.5%"
       ]
      },
      {
       "output_type": "stream",
       "stream": "stdout",
       "text": [
        "\n",
        "Minibatch loss at step"
       ]
      },
      {
       "output_type": "stream",
       "stream": "stdout",
       "text": [
        " 218000 : 2.11262\n",
        "Minibatch accuracy: 50.0%\n",
        "Validation accuracy at step 218000: 46.2%"
       ]
      },
      {
       "output_type": "stream",
       "stream": "stdout",
       "text": [
        "\n",
        "Minibatch loss at step"
       ]
      },
      {
       "output_type": "stream",
       "stream": "stdout",
       "text": [
        " 219000 : 2.23582\n",
        "Minibatch accuracy: 40.6%\n",
        "Validation accuracy at step 219000: 35.9%"
       ]
      },
      {
       "output_type": "stream",
       "stream": "stdout",
       "text": [
        "\n",
        "Minibatch loss at step"
       ]
      },
      {
       "output_type": "stream",
       "stream": "stdout",
       "text": [
        " 220000 : 2.37037\n",
        "Minibatch accuracy: 31.2%\n",
        "Validation accuracy at step 220000: 41.8%"
       ]
      },
      {
       "output_type": "stream",
       "stream": "stdout",
       "text": [
        "\n",
        "Test accuracy at step 220000: 41.6%"
       ]
      },
      {
       "output_type": "stream",
       "stream": "stdout",
       "text": [
        "\n",
        "Minibatch loss at step"
       ]
      },
      {
       "output_type": "stream",
       "stream": "stdout",
       "text": [
        " 221000 : 2.55617\n",
        "Minibatch accuracy: 31.2%\n",
        "Validation accuracy at step 221000: 27.6%"
       ]
      },
      {
       "output_type": "stream",
       "stream": "stdout",
       "text": [
        "\n",
        "Minibatch loss at step"
       ]
      },
      {
       "output_type": "stream",
       "stream": "stdout",
       "text": [
        " 222000 : 2.15629\n",
        "Minibatch accuracy: 43.8%\n",
        "Validation accuracy at step 222000: 43.8%"
       ]
      },
      {
       "output_type": "stream",
       "stream": "stdout",
       "text": [
        "\n",
        "Minibatch loss at step"
       ]
      },
      {
       "output_type": "stream",
       "stream": "stdout",
       "text": [
        " 223000 : 2.34721\n",
        "Minibatch accuracy: 43.8%\n",
        "Validation accuracy at step 223000: 45.1%"
       ]
      },
      {
       "output_type": "stream",
       "stream": "stdout",
       "text": [
        "\n",
        "Minibatch loss at step"
       ]
      },
      {
       "output_type": "stream",
       "stream": "stdout",
       "text": [
        " 224000 : 2.97343\n",
        "Minibatch accuracy: 25.0%\n",
        "Validation accuracy at step 224000: 38.2%"
       ]
      },
      {
       "output_type": "stream",
       "stream": "stdout",
       "text": [
        "\n",
        "Minibatch loss at step"
       ]
      },
      {
       "output_type": "stream",
       "stream": "stdout",
       "text": [
        " 225000 : 2.3734\n",
        "Minibatch accuracy: 37.5%\n",
        "Validation accuracy at step 225000: 36.4%"
       ]
      },
      {
       "output_type": "stream",
       "stream": "stdout",
       "text": [
        "\n",
        "Test accuracy at step 225000: 36.0%"
       ]
      },
      {
       "output_type": "stream",
       "stream": "stdout",
       "text": [
        "\n",
        "Minibatch loss at step"
       ]
      },
      {
       "output_type": "stream",
       "stream": "stdout",
       "text": [
        " 226000 : 2.44338\n",
        "Minibatch accuracy: 28.1%\n",
        "Validation accuracy at step 226000: 41.8%"
       ]
      },
      {
       "output_type": "stream",
       "stream": "stdout",
       "text": [
        "\n",
        "Minibatch loss at step"
       ]
      },
      {
       "output_type": "stream",
       "stream": "stdout",
       "text": [
        " 227000 : 2.11238\n",
        "Minibatch accuracy: 56.2%\n",
        "Validation accuracy at step 227000: 38.5%"
       ]
      },
      {
       "output_type": "stream",
       "stream": "stdout",
       "text": [
        "\n",
        "Minibatch loss at step"
       ]
      },
      {
       "output_type": "stream",
       "stream": "stdout",
       "text": [
        " 228000 : 2.18764\n",
        "Minibatch accuracy: 43.8%\n",
        "Validation accuracy at step 228000: 46.1%"
       ]
      },
      {
       "output_type": "stream",
       "stream": "stdout",
       "text": [
        "\n",
        "Minibatch loss at step"
       ]
      },
      {
       "output_type": "stream",
       "stream": "stdout",
       "text": [
        " 229000 : 2.42325\n",
        "Minibatch accuracy: 43.8%\n",
        "Validation accuracy at step 229000: 41.3%"
       ]
      },
      {
       "output_type": "stream",
       "stream": "stdout",
       "text": [
        "\n",
        "Minibatch loss at step"
       ]
      },
      {
       "output_type": "stream",
       "stream": "stdout",
       "text": [
        " 230000 : 1.83214\n",
        "Minibatch accuracy: 56.2%\n",
        "Validation accuracy at step 230000: 40.0%"
       ]
      },
      {
       "output_type": "stream",
       "stream": "stdout",
       "text": [
        "\n",
        "Test accuracy at step 230000: 40.2%"
       ]
      },
      {
       "output_type": "stream",
       "stream": "stdout",
       "text": [
        "\n",
        "Minibatch loss at step"
       ]
      },
      {
       "output_type": "stream",
       "stream": "stdout",
       "text": [
        " 231000 : 2.10081\n",
        "Minibatch accuracy: 53.1%\n",
        "Validation accuracy at step 231000: 37.8%"
       ]
      },
      {
       "output_type": "stream",
       "stream": "stdout",
       "text": [
        "\n",
        "Minibatch loss at step"
       ]
      },
      {
       "output_type": "stream",
       "stream": "stdout",
       "text": [
        " 232000 : 2.50464\n",
        "Minibatch accuracy: 31.2%\n",
        "Validation accuracy at step 232000: 44.8%"
       ]
      },
      {
       "output_type": "stream",
       "stream": "stdout",
       "text": [
        "\n",
        "Minibatch loss at step"
       ]
      },
      {
       "output_type": "stream",
       "stream": "stdout",
       "text": [
        " 233000 : 2.24859\n",
        "Minibatch accuracy: 46.9%\n",
        "Validation accuracy at step 233000: 41.7%"
       ]
      },
      {
       "output_type": "stream",
       "stream": "stdout",
       "text": [
        "\n",
        "Minibatch loss at step"
       ]
      },
      {
       "output_type": "stream",
       "stream": "stdout",
       "text": [
        " 234000 : 2.04833\n",
        "Minibatch accuracy: 50.0%\n",
        "Validation accuracy at step 234000: 40.9%"
       ]
      },
      {
       "output_type": "stream",
       "stream": "stdout",
       "text": [
        "\n",
        "Minibatch loss at step"
       ]
      },
      {
       "output_type": "stream",
       "stream": "stdout",
       "text": [
        " 235000 : 2.33419\n",
        "Minibatch accuracy: 43.8%\n",
        "Validation accuracy at step 235000: 34.9%"
       ]
      },
      {
       "output_type": "stream",
       "stream": "stdout",
       "text": [
        "\n",
        "Test accuracy at step 235000: 34.5%"
       ]
      },
      {
       "output_type": "stream",
       "stream": "stdout",
       "text": [
        "\n",
        "Minibatch loss at step"
       ]
      },
      {
       "output_type": "stream",
       "stream": "stdout",
       "text": [
        " 236000 : 2.53859\n",
        "Minibatch accuracy: 28.1%\n",
        "Validation accuracy at step 236000: 36.4%"
       ]
      },
      {
       "output_type": "stream",
       "stream": "stdout",
       "text": [
        "\n",
        "Minibatch loss at step"
       ]
      },
      {
       "output_type": "stream",
       "stream": "stdout",
       "text": [
        " 237000 : 2.25765\n",
        "Minibatch accuracy: 50.0%\n",
        "Validation accuracy at step 237000: 43.5%"
       ]
      },
      {
       "output_type": "stream",
       "stream": "stdout",
       "text": [
        "\n",
        "Minibatch loss at step"
       ]
      },
      {
       "output_type": "stream",
       "stream": "stdout",
       "text": [
        " 238000 : 1.75359\n",
        "Minibatch accuracy: 53.1%\n",
        "Validation accuracy at step 238000: 42.0%"
       ]
      },
      {
       "output_type": "stream",
       "stream": "stdout",
       "text": [
        "\n",
        "Minibatch loss at step"
       ]
      },
      {
       "output_type": "stream",
       "stream": "stdout",
       "text": [
        " 239000 : 2.3232\n",
        "Minibatch accuracy: 43.8%\n",
        "Validation accuracy at step 239000: 43.4%"
       ]
      },
      {
       "output_type": "stream",
       "stream": "stdout",
       "text": [
        "\n",
        "Minibatch loss at step"
       ]
      },
      {
       "output_type": "stream",
       "stream": "stdout",
       "text": [
        " 240000 : 2.14888\n",
        "Minibatch accuracy: 34.4%\n",
        "Validation accuracy at step 240000: 33.6%"
       ]
      },
      {
       "output_type": "stream",
       "stream": "stdout",
       "text": [
        "\n",
        "Test accuracy at step 240000: 33.3%"
       ]
      },
      {
       "output_type": "stream",
       "stream": "stdout",
       "text": [
        "\n",
        "Minibatch loss at step"
       ]
      },
      {
       "output_type": "stream",
       "stream": "stdout",
       "text": [
        " 241000 : 2.36601\n",
        "Minibatch accuracy: 40.6%\n",
        "Validation accuracy at step 241000: 43.9%"
       ]
      },
      {
       "output_type": "stream",
       "stream": "stdout",
       "text": [
        "\n",
        "Minibatch loss at step"
       ]
      },
      {
       "output_type": "stream",
       "stream": "stdout",
       "text": [
        " 242000 : 2.20047\n",
        "Minibatch accuracy: 37.5%\n",
        "Validation accuracy at step 242000: 44.6%"
       ]
      },
      {
       "output_type": "stream",
       "stream": "stdout",
       "text": [
        "\n",
        "Minibatch loss at step"
       ]
      },
      {
       "output_type": "stream",
       "stream": "stdout",
       "text": [
        " 243000 : 2.41744\n",
        "Minibatch accuracy: 37.5%\n",
        "Validation accuracy at step 243000: 39.1%"
       ]
      },
      {
       "output_type": "stream",
       "stream": "stdout",
       "text": [
        "\n",
        "Minibatch loss at step"
       ]
      },
      {
       "output_type": "stream",
       "stream": "stdout",
       "text": [
        " 244000 : 2.55283\n",
        "Minibatch accuracy: 31.2%\n",
        "Validation accuracy at step 244000: 38.6%"
       ]
      },
      {
       "output_type": "stream",
       "stream": "stdout",
       "text": [
        "\n",
        "Minibatch loss at step"
       ]
      },
      {
       "output_type": "stream",
       "stream": "stdout",
       "text": [
        " 245000 : 1.70239\n",
        "Minibatch accuracy: 56.2%\n",
        "Validation accuracy at step 245000: 42.3%"
       ]
      },
      {
       "output_type": "stream",
       "stream": "stdout",
       "text": [
        "\n",
        "Test accuracy at step 245000: 42.8%"
       ]
      },
      {
       "output_type": "stream",
       "stream": "stdout",
       "text": [
        "\n",
        "Minibatch loss at step"
       ]
      },
      {
       "output_type": "stream",
       "stream": "stdout",
       "text": [
        " 246000 : 2.74468\n",
        "Minibatch accuracy: 31.2%\n",
        "Validation accuracy at step 246000: 41.5%"
       ]
      },
      {
       "output_type": "stream",
       "stream": "stdout",
       "text": [
        "\n",
        "Minibatch loss at step"
       ]
      },
      {
       "output_type": "stream",
       "stream": "stdout",
       "text": [
        " 247000 : 2.41564\n",
        "Minibatch accuracy: 37.5%\n",
        "Validation accuracy at step 247000: 44.4%"
       ]
      },
      {
       "output_type": "stream",
       "stream": "stdout",
       "text": [
        "\n",
        "Minibatch loss at step"
       ]
      },
      {
       "output_type": "stream",
       "stream": "stdout",
       "text": [
        " 248000 : 1.96172\n",
        "Minibatch accuracy: 53.1%\n",
        "Validation accuracy at step 248000: 39.4%"
       ]
      },
      {
       "output_type": "stream",
       "stream": "stdout",
       "text": [
        "\n",
        "Minibatch loss at step"
       ]
      },
      {
       "output_type": "stream",
       "stream": "stdout",
       "text": [
        " 249000 : 1.93747\n",
        "Minibatch accuracy: 62.5%\n",
        "Validation accuracy at step 249000: 40.3%"
       ]
      },
      {
       "output_type": "stream",
       "stream": "stdout",
       "text": [
        "\n",
        "Minibatch loss at step"
       ]
      },
      {
       "output_type": "stream",
       "stream": "stdout",
       "text": [
        " 250000 : 2.83447\n",
        "Minibatch accuracy: 34.4%\n",
        "Validation accuracy at step 250000: 41.4%"
       ]
      },
      {
       "output_type": "stream",
       "stream": "stdout",
       "text": [
        "\n",
        "Test accuracy at step 250000: 41.3%"
       ]
      },
      {
       "output_type": "stream",
       "stream": "stdout",
       "text": [
        "\n",
        "Minibatch loss at step"
       ]
      },
      {
       "output_type": "stream",
       "stream": "stdout",
       "text": [
        " 251000 : 1.91448\n",
        "Minibatch accuracy: 56.2%\n",
        "Validation accuracy at step 251000: 41.8%"
       ]
      },
      {
       "output_type": "stream",
       "stream": "stdout",
       "text": [
        "\n",
        "Minibatch loss at step"
       ]
      },
      {
       "output_type": "stream",
       "stream": "stdout",
       "text": [
        " 252000 : 2.61249\n",
        "Minibatch accuracy: 34.4%\n",
        "Validation accuracy at step 252000: 34.2%"
       ]
      },
      {
       "output_type": "stream",
       "stream": "stdout",
       "text": [
        "\n",
        "Minibatch loss at step"
       ]
      },
      {
       "output_type": "stream",
       "stream": "stdout",
       "text": [
        " 253000 : 2.33943\n",
        "Minibatch accuracy: 31.2%\n",
        "Validation accuracy at step 253000: 40.7%"
       ]
      },
      {
       "output_type": "stream",
       "stream": "stdout",
       "text": [
        "\n",
        "Minibatch loss at step"
       ]
      },
      {
       "output_type": "stream",
       "stream": "stdout",
       "text": [
        " 254000 : 1.92728\n",
        "Minibatch accuracy: 56.2%\n",
        "Validation accuracy at step 254000: 39.5%"
       ]
      },
      {
       "output_type": "stream",
       "stream": "stdout",
       "text": [
        "\n",
        "Minibatch loss at step"
       ]
      },
      {
       "output_type": "stream",
       "stream": "stdout",
       "text": [
        " 255000 : 2.28762\n",
        "Minibatch accuracy: 43.8%\n",
        "Validation accuracy at step 255000: 45.5%"
       ]
      },
      {
       "output_type": "stream",
       "stream": "stdout",
       "text": [
        "\n",
        "Test accuracy at step 255000: 45.8%"
       ]
      },
      {
       "output_type": "stream",
       "stream": "stdout",
       "text": [
        "\n",
        "Minibatch loss at step"
       ]
      },
      {
       "output_type": "stream",
       "stream": "stdout",
       "text": [
        " 256000 : 2.24772\n",
        "Minibatch accuracy: 31.2%\n",
        "Validation accuracy at step 256000: 40.1%"
       ]
      },
      {
       "output_type": "stream",
       "stream": "stdout",
       "text": [
        "\n",
        "Minibatch loss at step"
       ]
      },
      {
       "output_type": "stream",
       "stream": "stdout",
       "text": [
        " 257000 : 2.3611\n",
        "Minibatch accuracy: 31.2%\n",
        "Validation accuracy at step 257000: 42.0%"
       ]
      },
      {
       "output_type": "stream",
       "stream": "stdout",
       "text": [
        "\n",
        "Minibatch loss at step"
       ]
      },
      {
       "output_type": "stream",
       "stream": "stdout",
       "text": [
        " 258000 : 1.88024\n",
        "Minibatch accuracy: 53.1%\n",
        "Validation accuracy at step 258000: 42.9%"
       ]
      },
      {
       "output_type": "stream",
       "stream": "stdout",
       "text": [
        "\n",
        "Minibatch loss at step"
       ]
      },
      {
       "output_type": "stream",
       "stream": "stdout",
       "text": [
        " 259000 : 1.90953\n",
        "Minibatch accuracy: 50.0%\n",
        "Validation accuracy at step 259000: 42.4%"
       ]
      },
      {
       "output_type": "stream",
       "stream": "stdout",
       "text": [
        "\n",
        "Minibatch loss at step"
       ]
      },
      {
       "output_type": "stream",
       "stream": "stdout",
       "text": [
        " 260000 : 2.21732\n",
        "Minibatch accuracy: 40.6%\n",
        "Validation accuracy at step 260000: 41.6%"
       ]
      },
      {
       "output_type": "stream",
       "stream": "stdout",
       "text": [
        "\n",
        "Test accuracy at step 260000: 41.7%"
       ]
      },
      {
       "output_type": "stream",
       "stream": "stdout",
       "text": [
        "\n",
        "Minibatch loss at step"
       ]
      },
      {
       "output_type": "stream",
       "stream": "stdout",
       "text": [
        " 261000 : 2.32418\n",
        "Minibatch accuracy: 34.4%\n",
        "Validation accuracy at step 261000: 45.2%"
       ]
      },
      {
       "output_type": "stream",
       "stream": "stdout",
       "text": [
        "\n",
        "Minibatch loss at step"
       ]
      },
      {
       "output_type": "stream",
       "stream": "stdout",
       "text": [
        " 262000 : 2.2836\n",
        "Minibatch accuracy: 31.2%\n",
        "Validation accuracy at step 262000: 39.8%"
       ]
      },
      {
       "output_type": "stream",
       "stream": "stdout",
       "text": [
        "\n",
        "Minibatch loss at step"
       ]
      },
      {
       "output_type": "stream",
       "stream": "stdout",
       "text": [
        " 263000 : 2.29287\n",
        "Minibatch accuracy: 40.6%\n",
        "Validation accuracy at step 263000: 36.8%"
       ]
      },
      {
       "output_type": "stream",
       "stream": "stdout",
       "text": [
        "\n",
        "Minibatch loss at step"
       ]
      },
      {
       "output_type": "stream",
       "stream": "stdout",
       "text": [
        " 264000 : 2.3183\n",
        "Minibatch accuracy: 37.5%\n",
        "Validation accuracy at step 264000: 37.0%"
       ]
      },
      {
       "output_type": "stream",
       "stream": "stdout",
       "text": [
        "\n",
        "Minibatch loss at step"
       ]
      },
      {
       "output_type": "stream",
       "stream": "stdout",
       "text": [
        " 265000 : 1.6146\n",
        "Minibatch accuracy: 59.4%\n",
        "Validation accuracy at step 265000: 41.5%"
       ]
      },
      {
       "output_type": "stream",
       "stream": "stdout",
       "text": [
        "\n",
        "Test accuracy at step 265000: 41.8%"
       ]
      },
      {
       "output_type": "stream",
       "stream": "stdout",
       "text": [
        "\n",
        "Minibatch loss at step"
       ]
      },
      {
       "output_type": "stream",
       "stream": "stdout",
       "text": [
        " 266000 : 2.1636\n",
        "Minibatch accuracy: 46.9%\n",
        "Validation accuracy at step 266000: 41.4%"
       ]
      },
      {
       "output_type": "stream",
       "stream": "stdout",
       "text": [
        "\n",
        "Minibatch loss at step"
       ]
      },
      {
       "output_type": "stream",
       "stream": "stdout",
       "text": [
        " 267000 : 2.25172\n",
        "Minibatch accuracy: 46.9%\n",
        "Validation accuracy at step 267000: 44.5%"
       ]
      },
      {
       "output_type": "stream",
       "stream": "stdout",
       "text": [
        "\n",
        "Minibatch loss at step"
       ]
      },
      {
       "output_type": "stream",
       "stream": "stdout",
       "text": [
        " 268000 : 1.95173\n",
        "Minibatch accuracy: 46.9%\n",
        "Validation accuracy at step 268000: 44.7%"
       ]
      },
      {
       "output_type": "stream",
       "stream": "stdout",
       "text": [
        "\n",
        "Minibatch loss at step"
       ]
      },
      {
       "output_type": "stream",
       "stream": "stdout",
       "text": [
        " 269000 : 2.71624\n",
        "Minibatch accuracy: 34.4%\n",
        "Validation accuracy at step 269000: 36.8%"
       ]
      },
      {
       "output_type": "stream",
       "stream": "stdout",
       "text": [
        "\n",
        "Minibatch loss at step"
       ]
      },
      {
       "output_type": "stream",
       "stream": "stdout",
       "text": [
        " 270000 : 2.15181\n",
        "Minibatch accuracy: 56.2%\n",
        "Validation accuracy at step 270000: 44.1%"
       ]
      },
      {
       "output_type": "stream",
       "stream": "stdout",
       "text": [
        "\n",
        "Test accuracy at step 270000: 44.1%"
       ]
      },
      {
       "output_type": "stream",
       "stream": "stdout",
       "text": [
        "\n",
        "Minibatch loss at step"
       ]
      },
      {
       "output_type": "stream",
       "stream": "stdout",
       "text": [
        " 271000 : 2.37225\n",
        "Minibatch accuracy: 31.2%\n",
        "Validation accuracy at step 271000: 41.0%"
       ]
      },
      {
       "output_type": "stream",
       "stream": "stdout",
       "text": [
        "\n",
        "Minibatch loss at step"
       ]
      },
      {
       "output_type": "stream",
       "stream": "stdout",
       "text": [
        " 272000 : 1.98526\n",
        "Minibatch accuracy: 43.8%\n",
        "Validation accuracy at step 272000: 42.8%"
       ]
      },
      {
       "output_type": "stream",
       "stream": "stdout",
       "text": [
        "\n",
        "Minibatch loss at step"
       ]
      },
      {
       "output_type": "stream",
       "stream": "stdout",
       "text": [
        " 273000 : 2.29058\n",
        "Minibatch accuracy: 37.5%\n",
        "Validation accuracy at step 273000: 44.6%"
       ]
      },
      {
       "output_type": "stream",
       "stream": "stdout",
       "text": [
        "\n",
        "Minibatch loss at step"
       ]
      },
      {
       "output_type": "stream",
       "stream": "stdout",
       "text": [
        " 274000 : 1.94222\n",
        "Minibatch accuracy: 40.6%\n",
        "Validation accuracy at step 274000: 45.2%"
       ]
      },
      {
       "output_type": "stream",
       "stream": "stdout",
       "text": [
        "\n",
        "Minibatch loss at step"
       ]
      },
      {
       "output_type": "stream",
       "stream": "stdout",
       "text": [
        " 275000 : 2.36907\n",
        "Minibatch accuracy: 34.4%\n",
        "Validation accuracy at step 275000: 41.3%"
       ]
      },
      {
       "output_type": "stream",
       "stream": "stdout",
       "text": [
        "\n",
        "Test accuracy at step 275000: 41.3%"
       ]
      },
      {
       "output_type": "stream",
       "stream": "stdout",
       "text": [
        "\n",
        "Minibatch loss at step"
       ]
      },
      {
       "output_type": "stream",
       "stream": "stdout",
       "text": [
        " 276000 : 2.00222\n",
        "Minibatch accuracy: 53.1%\n",
        "Validation accuracy at step 276000: 41.5%"
       ]
      },
      {
       "output_type": "stream",
       "stream": "stdout",
       "text": [
        "\n",
        "Minibatch loss at step"
       ]
      },
      {
       "output_type": "stream",
       "stream": "stdout",
       "text": [
        " 277000 : 2.15008\n",
        "Minibatch accuracy: 40.6%\n",
        "Validation accuracy at step 277000: 46.5%"
       ]
      },
      {
       "output_type": "stream",
       "stream": "stdout",
       "text": [
        "\n",
        "Minibatch loss at step"
       ]
      },
      {
       "output_type": "stream",
       "stream": "stdout",
       "text": [
        " 278000 : 1.9505\n",
        "Minibatch accuracy: 50.0%\n",
        "Validation accuracy at step 278000: 44.4%"
       ]
      },
      {
       "output_type": "stream",
       "stream": "stdout",
       "text": [
        "\n",
        "Minibatch loss at step"
       ]
      },
      {
       "output_type": "stream",
       "stream": "stdout",
       "text": [
        " 279000 : 1.8574\n",
        "Minibatch accuracy: 46.9%\n",
        "Validation accuracy at step 279000: 42.4%"
       ]
      },
      {
       "output_type": "stream",
       "stream": "stdout",
       "text": [
        "\n",
        "Minibatch loss at step"
       ]
      },
      {
       "output_type": "stream",
       "stream": "stdout",
       "text": [
        " 280000 : 2.09333\n",
        "Minibatch accuracy: 34.4%\n",
        "Validation accuracy at step 280000: 38.9%"
       ]
      },
      {
       "output_type": "stream",
       "stream": "stdout",
       "text": [
        "\n",
        "Test accuracy at step 280000: 38.9%"
       ]
      },
      {
       "output_type": "stream",
       "stream": "stdout",
       "text": [
        "\n",
        "Minibatch loss at step"
       ]
      },
      {
       "output_type": "stream",
       "stream": "stdout",
       "text": [
        " 281000 : 2.18988\n",
        "Minibatch accuracy: 34.4%\n",
        "Validation accuracy at step 281000: 47.5%"
       ]
      },
      {
       "output_type": "stream",
       "stream": "stdout",
       "text": [
        "\n",
        "Minibatch loss at step"
       ]
      },
      {
       "output_type": "stream",
       "stream": "stdout",
       "text": [
        " 282000 : 2.6244\n",
        "Minibatch accuracy: 21.9%\n",
        "Validation accuracy at step 282000: 42.0%"
       ]
      },
      {
       "output_type": "stream",
       "stream": "stdout",
       "text": [
        "\n",
        "Minibatch loss at step"
       ]
      },
      {
       "output_type": "stream",
       "stream": "stdout",
       "text": [
        " 283000 : 1.99999\n",
        "Minibatch accuracy: 43.8%\n",
        "Validation accuracy at step 283000: 36.0%"
       ]
      },
      {
       "output_type": "stream",
       "stream": "stdout",
       "text": [
        "\n",
        "Minibatch loss at step"
       ]
      },
      {
       "output_type": "stream",
       "stream": "stdout",
       "text": [
        " 284000 : 2.00837\n",
        "Minibatch accuracy: 34.4%\n",
        "Validation accuracy at step 284000: 38.2%"
       ]
      },
      {
       "output_type": "stream",
       "stream": "stdout",
       "text": [
        "\n",
        "Minibatch loss at step"
       ]
      },
      {
       "output_type": "stream",
       "stream": "stdout",
       "text": [
        " 285000 : 2.12812\n",
        "Minibatch accuracy: 43.8%\n",
        "Validation accuracy at step 285000: 46.2%"
       ]
      },
      {
       "output_type": "stream",
       "stream": "stdout",
       "text": [
        "\n",
        "Test accuracy at step 285000: 45.9%"
       ]
      },
      {
       "output_type": "stream",
       "stream": "stdout",
       "text": [
        "\n",
        "Minibatch loss at step"
       ]
      },
      {
       "output_type": "stream",
       "stream": "stdout",
       "text": [
        " 286000 : 1.94025\n",
        "Minibatch accuracy: 46.9%\n",
        "Validation accuracy at step 286000: 45.1%"
       ]
      },
      {
       "output_type": "stream",
       "stream": "stdout",
       "text": [
        "\n",
        "Minibatch loss at step"
       ]
      },
      {
       "output_type": "stream",
       "stream": "stdout",
       "text": [
        " 287000 : 1.56129\n",
        "Minibatch accuracy: 56.2%\n",
        "Validation accuracy at step 287000: 41.7%"
       ]
      },
      {
       "output_type": "stream",
       "stream": "stdout",
       "text": [
        "\n",
        "Minibatch loss at step"
       ]
      },
      {
       "output_type": "stream",
       "stream": "stdout",
       "text": [
        " 288000 : 2.03027\n",
        "Minibatch accuracy: 43.8%\n",
        "Validation accuracy at step 288000: 36.5%"
       ]
      },
      {
       "output_type": "stream",
       "stream": "stdout",
       "text": [
        "\n",
        "Minibatch loss at step"
       ]
      },
      {
       "output_type": "stream",
       "stream": "stdout",
       "text": [
        " 289000 : 2.49144\n",
        "Minibatch accuracy: 28.1%\n",
        "Validation accuracy at step 289000: 39.7%"
       ]
      },
      {
       "output_type": "stream",
       "stream": "stdout",
       "text": [
        "\n",
        "Minibatch loss at step"
       ]
      },
      {
       "output_type": "stream",
       "stream": "stdout",
       "text": [
        " 290000 : 1.73688\n",
        "Minibatch accuracy: 46.9%\n",
        "Validation accuracy at step 290000: 40.0%"
       ]
      },
      {
       "output_type": "stream",
       "stream": "stdout",
       "text": [
        "\n",
        "Test accuracy at step 290000: 40.0%"
       ]
      },
      {
       "output_type": "stream",
       "stream": "stdout",
       "text": [
        "\n",
        "Minibatch loss at step"
       ]
      },
      {
       "output_type": "stream",
       "stream": "stdout",
       "text": [
        " 291000 : 1.86404\n",
        "Minibatch accuracy: 40.6%\n",
        "Validation accuracy at step 291000: 47.0%"
       ]
      },
      {
       "output_type": "stream",
       "stream": "stdout",
       "text": [
        "\n",
        "Minibatch loss at step"
       ]
      },
      {
       "output_type": "stream",
       "stream": "stdout",
       "text": [
        " 292000 : 2.20069\n",
        "Minibatch accuracy: 31.2%\n",
        "Validation accuracy at step 292000: 45.5%"
       ]
      },
      {
       "output_type": "stream",
       "stream": "stdout",
       "text": [
        "\n",
        "Minibatch loss at step"
       ]
      },
      {
       "output_type": "stream",
       "stream": "stdout",
       "text": [
        " 293000 : 2.16073\n",
        "Minibatch accuracy: 40.6%\n",
        "Validation accuracy at step 293000: 40.4%"
       ]
      },
      {
       "output_type": "stream",
       "stream": "stdout",
       "text": [
        "\n",
        "Minibatch loss at step"
       ]
      },
      {
       "output_type": "stream",
       "stream": "stdout",
       "text": [
        " 294000 : 2.01693\n",
        "Minibatch accuracy: 46.9%\n",
        "Validation accuracy at step 294000: 43.2%"
       ]
      },
      {
       "output_type": "stream",
       "stream": "stdout",
       "text": [
        "\n",
        "Minibatch loss at step"
       ]
      },
      {
       "output_type": "stream",
       "stream": "stdout",
       "text": [
        " 295000 : 2.38797\n",
        "Minibatch accuracy: 21.9%\n",
        "Validation accuracy at step 295000: 42.1%"
       ]
      },
      {
       "output_type": "stream",
       "stream": "stdout",
       "text": [
        "\n",
        "Test accuracy at step 295000: 41.8%"
       ]
      },
      {
       "output_type": "stream",
       "stream": "stdout",
       "text": [
        "\n",
        "Minibatch loss at step"
       ]
      },
      {
       "output_type": "stream",
       "stream": "stdout",
       "text": [
        " 296000 : 2.10013\n",
        "Minibatch accuracy: 50.0%\n",
        "Validation accuracy at step 296000: 36.8%"
       ]
      },
      {
       "output_type": "stream",
       "stream": "stdout",
       "text": [
        "\n",
        "Minibatch loss at step"
       ]
      },
      {
       "output_type": "stream",
       "stream": "stdout",
       "text": [
        " 297000 : 2.05163\n",
        "Minibatch accuracy: 37.5%\n",
        "Validation accuracy at step 297000: 43.5%"
       ]
      },
      {
       "output_type": "stream",
       "stream": "stdout",
       "text": [
        "\n",
        "Minibatch loss at step"
       ]
      },
      {
       "output_type": "stream",
       "stream": "stdout",
       "text": [
        " 298000 : 1.733\n",
        "Minibatch accuracy: 56.2%\n",
        "Validation accuracy at step 298000: 47.1%"
       ]
      },
      {
       "output_type": "stream",
       "stream": "stdout",
       "text": [
        "\n",
        "Minibatch loss at step"
       ]
      },
      {
       "output_type": "stream",
       "stream": "stdout",
       "text": [
        " 299000 : 1.50997\n",
        "Minibatch accuracy: 43.8%\n",
        "Validation accuracy at step 299000: 42.0%"
       ]
      },
      {
       "output_type": "stream",
       "stream": "stdout",
       "text": [
        "\n",
        "Minibatch loss at step"
       ]
      },
      {
       "output_type": "stream",
       "stream": "stdout",
       "text": [
        " 300000 : 2.05999\n",
        "Minibatch accuracy: 40.6%\n",
        "Validation accuracy at step 300000: 34.6%"
       ]
      },
      {
       "output_type": "stream",
       "stream": "stdout",
       "text": [
        "\n",
        "Test accuracy at step 300000: 34.3%"
       ]
      },
      {
       "output_type": "stream",
       "stream": "stdout",
       "text": [
        "\n",
        "Minibatch loss at step"
       ]
      },
      {
       "output_type": "stream",
       "stream": "stdout",
       "text": [
        " 301000 : 2.06936\n",
        "Minibatch accuracy: 46.9%\n",
        "Validation accuracy at step 301000: 44.8%"
       ]
      },
      {
       "output_type": "stream",
       "stream": "stdout",
       "text": [
        "\n",
        "Minibatch loss at step"
       ]
      },
      {
       "output_type": "stream",
       "stream": "stdout",
       "text": [
        " 302000 : 2.39892\n",
        "Minibatch accuracy: 28.1%\n",
        "Validation accuracy at step 302000: 43.0%"
       ]
      },
      {
       "output_type": "stream",
       "stream": "stdout",
       "text": [
        "\n",
        "Minibatch loss at step"
       ]
      },
      {
       "output_type": "stream",
       "stream": "stdout",
       "text": [
        " 303000 : 1.99133\n",
        "Minibatch accuracy: 53.1%\n",
        "Validation accuracy at step 303000: 46.6%"
       ]
      },
      {
       "output_type": "stream",
       "stream": "stdout",
       "text": [
        "\n",
        "Minibatch loss at step"
       ]
      },
      {
       "output_type": "stream",
       "stream": "stdout",
       "text": [
        " 304000 : 1.90251\n",
        "Minibatch accuracy: 50.0%\n",
        "Validation accuracy at step 304000: 43.6%"
       ]
      },
      {
       "output_type": "stream",
       "stream": "stdout",
       "text": [
        "\n",
        "Minibatch loss at step"
       ]
      },
      {
       "output_type": "stream",
       "stream": "stdout",
       "text": [
        " 305000 : 2.01952\n",
        "Minibatch accuracy: 43.8%\n",
        "Validation accuracy at step 305000: 36.5%"
       ]
      },
      {
       "output_type": "stream",
       "stream": "stdout",
       "text": [
        "\n",
        "Test accuracy at step 305000: 36.1%"
       ]
      },
      {
       "output_type": "stream",
       "stream": "stdout",
       "text": [
        "\n",
        "Minibatch loss at step"
       ]
      },
      {
       "output_type": "stream",
       "stream": "stdout",
       "text": [
        " 306000 : 1.55403\n",
        "Minibatch accuracy: 53.1%\n",
        "Validation accuracy at step 306000: 45.5%"
       ]
      },
      {
       "output_type": "stream",
       "stream": "stdout",
       "text": [
        "\n",
        "Minibatch loss at step"
       ]
      },
      {
       "output_type": "stream",
       "stream": "stdout",
       "text": [
        " 307000 : 2.09587\n",
        "Minibatch accuracy: 50.0%\n",
        "Validation accuracy at step 307000: 43.9%"
       ]
      },
      {
       "output_type": "stream",
       "stream": "stdout",
       "text": [
        "\n",
        "Minibatch loss at step"
       ]
      },
      {
       "output_type": "stream",
       "stream": "stdout",
       "text": [
        " 308000 : 1.83647\n",
        "Minibatch accuracy: 50.0%\n",
        "Validation accuracy at step 308000: 46.7%"
       ]
      },
      {
       "output_type": "stream",
       "stream": "stdout",
       "text": [
        "\n",
        "Minibatch loss at step"
       ]
      },
      {
       "output_type": "stream",
       "stream": "stdout",
       "text": [
        " 309000 : 2.3489\n",
        "Minibatch accuracy: 25.0%\n",
        "Validation accuracy at step 309000: 41.1%"
       ]
      },
      {
       "output_type": "stream",
       "stream": "stdout",
       "text": [
        "\n",
        "Minibatch loss at step"
       ]
      },
      {
       "output_type": "stream",
       "stream": "stdout",
       "text": [
        " 310000 : 2.68266\n",
        "Minibatch accuracy: 28.1%\n",
        "Validation accuracy at step 310000: 40.8%"
       ]
      },
      {
       "output_type": "stream",
       "stream": "stdout",
       "text": [
        "\n",
        "Test accuracy at step 310000: 40.8%"
       ]
      },
      {
       "output_type": "stream",
       "stream": "stdout",
       "text": [
        "\n",
        "Minibatch loss at step"
       ]
      },
      {
       "output_type": "stream",
       "stream": "stdout",
       "text": [
        " 311000 : 2.12296\n",
        "Minibatch accuracy: 46.9%\n",
        "Validation accuracy at step 311000: 41.4%"
       ]
      },
      {
       "output_type": "stream",
       "stream": "stdout",
       "text": [
        "\n",
        "Minibatch loss at step"
       ]
      },
      {
       "output_type": "stream",
       "stream": "stdout",
       "text": [
        " 312000 : 1.96057\n",
        "Minibatch accuracy: 40.6%\n",
        "Validation accuracy at step 312000: 46.2%"
       ]
      },
      {
       "output_type": "stream",
       "stream": "stdout",
       "text": [
        "\n",
        "Minibatch loss at step"
       ]
      },
      {
       "output_type": "stream",
       "stream": "stdout",
       "text": [
        " 313000 : 2.17351\n",
        "Minibatch accuracy: 34.4%\n",
        "Validation accuracy at step 313000: 42.7%"
       ]
      },
      {
       "output_type": "stream",
       "stream": "stdout",
       "text": [
        "\n",
        "Minibatch loss at step"
       ]
      },
      {
       "output_type": "stream",
       "stream": "stdout",
       "text": [
        " 314000 : 1.92381\n",
        "Minibatch accuracy: 34.4%\n",
        "Validation accuracy at step 314000: 45.1%"
       ]
      },
      {
       "output_type": "stream",
       "stream": "stdout",
       "text": [
        "\n",
        "Minibatch loss at step"
       ]
      },
      {
       "output_type": "stream",
       "stream": "stdout",
       "text": [
        " 315000 : 1.89298\n",
        "Minibatch accuracy: 46.9%\n",
        "Validation accuracy at step 315000: 43.8%"
       ]
      },
      {
       "output_type": "stream",
       "stream": "stdout",
       "text": [
        "\n",
        "Test accuracy at step 315000: 43.8%"
       ]
      },
      {
       "output_type": "stream",
       "stream": "stdout",
       "text": [
        "\n",
        "Minibatch loss at step"
       ]
      },
      {
       "output_type": "stream",
       "stream": "stdout",
       "text": [
        " 316000 : 1.77617\n",
        "Minibatch accuracy: 50.0%\n",
        "Validation accuracy at step 316000: 46.1%"
       ]
      },
      {
       "output_type": "stream",
       "stream": "stdout",
       "text": [
        "\n",
        "Minibatch loss at step"
       ]
      },
      {
       "output_type": "stream",
       "stream": "stdout",
       "text": [
        " 317000 : 1.84498\n",
        "Minibatch accuracy: 50.0%\n",
        "Validation accuracy at step 317000: 49.1%"
       ]
      },
      {
       "output_type": "stream",
       "stream": "stdout",
       "text": [
        "\n",
        "Minibatch loss at step"
       ]
      },
      {
       "output_type": "stream",
       "stream": "stdout",
       "text": [
        " 318000 : 1.8842\n",
        "Minibatch accuracy: 34.4%\n",
        "Validation accuracy at step 318000: 40.9%"
       ]
      },
      {
       "output_type": "stream",
       "stream": "stdout",
       "text": [
        "\n",
        "Minibatch loss at step"
       ]
      },
      {
       "output_type": "stream",
       "stream": "stdout",
       "text": [
        " 319000 : 1.7774\n",
        "Minibatch accuracy: 34.4%\n",
        "Validation accuracy at step 319000: 45.7%"
       ]
      },
      {
       "output_type": "stream",
       "stream": "stdout",
       "text": [
        "\n",
        "Minibatch loss at step"
       ]
      },
      {
       "output_type": "stream",
       "stream": "stdout",
       "text": [
        " 320000 : 2.02403\n",
        "Minibatch accuracy: 34.4%\n",
        "Validation accuracy at step 320000: 43.7%"
       ]
      },
      {
       "output_type": "stream",
       "stream": "stdout",
       "text": [
        "\n",
        "Test accuracy at step 320000: 43.5%"
       ]
      },
      {
       "output_type": "stream",
       "stream": "stdout",
       "text": [
        "\n",
        "Minibatch loss at step"
       ]
      },
      {
       "output_type": "stream",
       "stream": "stdout",
       "text": [
        " 321000 : 1.66835\n",
        "Minibatch accuracy: 59.4%\n",
        "Validation accuracy at step 321000: 35.8%"
       ]
      },
      {
       "output_type": "stream",
       "stream": "stdout",
       "text": [
        "\n",
        "Minibatch loss at step"
       ]
      },
      {
       "output_type": "stream",
       "stream": "stdout",
       "text": [
        " 322000 : 2.03096\n",
        "Minibatch accuracy: 46.9%\n",
        "Validation accuracy at step 322000: 43.1%"
       ]
      },
      {
       "output_type": "stream",
       "stream": "stdout",
       "text": [
        "\n",
        "Minibatch loss at step"
       ]
      },
      {
       "output_type": "stream",
       "stream": "stdout",
       "text": [
        " 323000 : 2.42453\n",
        "Minibatch accuracy: 37.5%\n",
        "Validation accuracy at step 323000: 43.0%"
       ]
      },
      {
       "output_type": "stream",
       "stream": "stdout",
       "text": [
        "\n",
        "Minibatch loss at step"
       ]
      },
      {
       "output_type": "stream",
       "stream": "stdout",
       "text": [
        " 324000 : 2.73864\n",
        "Minibatch accuracy: 21.9%\n",
        "Validation accuracy at step 324000: 30.9%"
       ]
      },
      {
       "output_type": "stream",
       "stream": "stdout",
       "text": [
        "\n",
        "Minibatch loss at step"
       ]
      },
      {
       "output_type": "stream",
       "stream": "stdout",
       "text": [
        " 325000 : 2.00216\n",
        "Minibatch accuracy: 43.8%\n",
        "Validation accuracy at step 325000: 36.3%"
       ]
      },
      {
       "output_type": "stream",
       "stream": "stdout",
       "text": [
        "\n",
        "Test accuracy at step 325000: 37.4%"
       ]
      },
      {
       "output_type": "stream",
       "stream": "stdout",
       "text": [
        "\n",
        "Minibatch loss at step"
       ]
      },
      {
       "output_type": "stream",
       "stream": "stdout",
       "text": [
        " 326000 : 1.91259\n",
        "Minibatch accuracy: 50.0%\n",
        "Validation accuracy at step 326000: 47.9%"
       ]
      },
      {
       "output_type": "stream",
       "stream": "stdout",
       "text": [
        "\n",
        "Minibatch loss at step"
       ]
      },
      {
       "output_type": "stream",
       "stream": "stdout",
       "text": [
        " 327000 : 1.60786\n",
        "Minibatch accuracy: 56.2%\n",
        "Validation accuracy at step 327000: 42.2%"
       ]
      },
      {
       "output_type": "stream",
       "stream": "stdout",
       "text": [
        "\n",
        "Minibatch loss at step"
       ]
      },
      {
       "output_type": "stream",
       "stream": "stdout",
       "text": [
        " 328000 : 2.01634\n",
        "Minibatch accuracy: 43.8%\n",
        "Validation accuracy at step 328000: 42.3%"
       ]
      },
      {
       "output_type": "stream",
       "stream": "stdout",
       "text": [
        "\n",
        "Minibatch loss at step"
       ]
      },
      {
       "output_type": "stream",
       "stream": "stdout",
       "text": [
        " 329000 : 1.92117\n",
        "Minibatch accuracy: 43.8%\n",
        "Validation accuracy at step 329000: 40.1%"
       ]
      },
      {
       "output_type": "stream",
       "stream": "stdout",
       "text": [
        "\n",
        "Minibatch loss at step"
       ]
      },
      {
       "output_type": "stream",
       "stream": "stdout",
       "text": [
        " 330000 : 2.08779\n",
        "Minibatch accuracy: 37.5%\n",
        "Validation accuracy at step 330000: 44.3%"
       ]
      },
      {
       "output_type": "stream",
       "stream": "stdout",
       "text": [
        "\n",
        "Test accuracy at step 330000: 44.9%"
       ]
      },
      {
       "output_type": "stream",
       "stream": "stdout",
       "text": [
        "\n",
        "Minibatch loss at step"
       ]
      },
      {
       "output_type": "stream",
       "stream": "stdout",
       "text": [
        " 331000 : 2.34114\n",
        "Minibatch accuracy: 25.0%\n",
        "Validation accuracy at step 331000: 39.3%"
       ]
      },
      {
       "output_type": "stream",
       "stream": "stdout",
       "text": [
        "\n",
        "Minibatch loss at step"
       ]
      },
      {
       "output_type": "stream",
       "stream": "stdout",
       "text": [
        " 332000 : 1.78224\n",
        "Minibatch accuracy: 43.8%\n",
        "Validation accuracy at step 332000: 45.2%"
       ]
      },
      {
       "output_type": "stream",
       "stream": "stdout",
       "text": [
        "\n",
        "Minibatch loss at step"
       ]
      },
      {
       "output_type": "stream",
       "stream": "stdout",
       "text": [
        " 333000 : 1.58033\n",
        "Minibatch accuracy: 53.1%\n",
        "Validation accuracy at step 333000: 40.5%"
       ]
      },
      {
       "output_type": "stream",
       "stream": "stdout",
       "text": [
        "\n",
        "Minibatch loss at step"
       ]
      },
      {
       "output_type": "stream",
       "stream": "stdout",
       "text": [
        " 334000 : 1.96122\n",
        "Minibatch accuracy: 37.5%\n",
        "Validation accuracy at step 334000: 42.3%"
       ]
      },
      {
       "output_type": "stream",
       "stream": "stdout",
       "text": [
        "\n",
        "Minibatch loss at step"
       ]
      },
      {
       "output_type": "stream",
       "stream": "stdout",
       "text": [
        " 335000 : 2.09442\n",
        "Minibatch accuracy: 43.8%\n",
        "Validation accuracy at step 335000: 49.3%"
       ]
      },
      {
       "output_type": "stream",
       "stream": "stdout",
       "text": [
        "\n",
        "Test accuracy at step 335000: 48.7%"
       ]
      },
      {
       "output_type": "stream",
       "stream": "stdout",
       "text": [
        "\n",
        "Minibatch loss at step"
       ]
      },
      {
       "output_type": "stream",
       "stream": "stdout",
       "text": [
        " 336000 : 2.02582\n",
        "Minibatch accuracy: 40.6%\n",
        "Validation accuracy at step 336000: 44.1%"
       ]
      },
      {
       "output_type": "stream",
       "stream": "stdout",
       "text": [
        "\n",
        "Minibatch loss at step"
       ]
      },
      {
       "output_type": "stream",
       "stream": "stdout",
       "text": [
        " 337000 : 1.82501\n",
        "Minibatch accuracy: 43.8%\n",
        "Validation accuracy at step 337000: 44.4%"
       ]
      },
      {
       "output_type": "stream",
       "stream": "stdout",
       "text": [
        "\n",
        "Minibatch loss at step"
       ]
      },
      {
       "output_type": "stream",
       "stream": "stdout",
       "text": [
        " 338000 : 1.89854\n",
        "Minibatch accuracy: 34.4%\n",
        "Validation accuracy at step 338000: 42.9%"
       ]
      },
      {
       "output_type": "stream",
       "stream": "stdout",
       "text": [
        "\n",
        "Minibatch loss at step"
       ]
      },
      {
       "output_type": "stream",
       "stream": "stdout",
       "text": [
        " 339000 : 1.61324\n",
        "Minibatch accuracy: 46.9%\n",
        "Validation accuracy at step 339000: 45.9%"
       ]
      },
      {
       "output_type": "stream",
       "stream": "stdout",
       "text": [
        "\n",
        "Minibatch loss at step"
       ]
      },
      {
       "output_type": "stream",
       "stream": "stdout",
       "text": [
        " 340000 : 1.73496\n",
        "Minibatch accuracy: 50.0%\n",
        "Validation accuracy at step 340000: 43.8%"
       ]
      },
      {
       "output_type": "stream",
       "stream": "stdout",
       "text": [
        "\n",
        "Test accuracy at step 340000: 43.5%"
       ]
      },
      {
       "output_type": "stream",
       "stream": "stdout",
       "text": [
        "\n",
        "Minibatch loss at step"
       ]
      },
      {
       "output_type": "stream",
       "stream": "stdout",
       "text": [
        " 341000 : 1.7563\n",
        "Minibatch accuracy: 43.8%\n",
        "Validation accuracy at step 341000: 46.3%"
       ]
      },
      {
       "output_type": "stream",
       "stream": "stdout",
       "text": [
        "\n",
        "Minibatch loss at step"
       ]
      },
      {
       "output_type": "stream",
       "stream": "stdout",
       "text": [
        " 342000 : 1.89782\n",
        "Minibatch accuracy: 34.4%\n",
        "Validation accuracy at step 342000: 43.2%"
       ]
      },
      {
       "output_type": "stream",
       "stream": "stdout",
       "text": [
        "\n",
        "Minibatch loss at step"
       ]
      },
      {
       "output_type": "stream",
       "stream": "stdout",
       "text": [
        " 343000 : 2.08375\n",
        "Minibatch accuracy: 37.5%\n",
        "Validation accuracy at step 343000: 33.9%"
       ]
      },
      {
       "output_type": "stream",
       "stream": "stdout",
       "text": [
        "\n",
        "Minibatch loss at step"
       ]
      },
      {
       "output_type": "stream",
       "stream": "stdout",
       "text": [
        " 344000 : 2.39582\n",
        "Minibatch accuracy: 37.5%\n",
        "Validation accuracy at step 344000: 44.3%"
       ]
      },
      {
       "output_type": "stream",
       "stream": "stdout",
       "text": [
        "\n",
        "Minibatch loss at step"
       ]
      },
      {
       "output_type": "stream",
       "stream": "stdout",
       "text": [
        " 345000 : 1.65069\n",
        "Minibatch accuracy: 59.4%\n",
        "Validation accuracy at step 345000: 47.3%"
       ]
      },
      {
       "output_type": "stream",
       "stream": "stdout",
       "text": [
        "\n",
        "Test accuracy at step 345000: 46.4%"
       ]
      },
      {
       "output_type": "stream",
       "stream": "stdout",
       "text": [
        "\n",
        "Minibatch loss at step"
       ]
      },
      {
       "output_type": "stream",
       "stream": "stdout",
       "text": [
        " 346000 : 2.57254\n",
        "Minibatch accuracy: 46.9%\n",
        "Validation accuracy at step 346000: 40.6%"
       ]
      },
      {
       "output_type": "stream",
       "stream": "stdout",
       "text": [
        "\n",
        "Minibatch loss at step"
       ]
      },
      {
       "output_type": "stream",
       "stream": "stdout",
       "text": [
        " 347000 : 1.82694\n",
        "Minibatch accuracy: 50.0%\n",
        "Validation accuracy at step 347000: 40.7%"
       ]
      },
      {
       "output_type": "stream",
       "stream": "stdout",
       "text": [
        "\n",
        "Minibatch loss at step"
       ]
      },
      {
       "output_type": "stream",
       "stream": "stdout",
       "text": [
        " 348000 : 1.81695\n",
        "Minibatch accuracy: 37.5%\n",
        "Validation accuracy at step 348000: 40.0%"
       ]
      },
      {
       "output_type": "stream",
       "stream": "stdout",
       "text": [
        "\n",
        "Minibatch loss at step"
       ]
      },
      {
       "output_type": "stream",
       "stream": "stdout",
       "text": [
        " 349000 : 1.69556\n",
        "Minibatch accuracy: 37.5%\n",
        "Validation accuracy at step 349000: 40.9%"
       ]
      },
      {
       "output_type": "stream",
       "stream": "stdout",
       "text": [
        "\n",
        "Minibatch loss at step"
       ]
      },
      {
       "output_type": "stream",
       "stream": "stdout",
       "text": [
        " 350000 : 2.11744\n",
        "Minibatch accuracy: 40.6%\n",
        "Validation accuracy at step 350000: 38.5%"
       ]
      },
      {
       "output_type": "stream",
       "stream": "stdout",
       "text": [
        "\n",
        "Test accuracy at step 350000: 38.7%"
       ]
      },
      {
       "output_type": "stream",
       "stream": "stdout",
       "text": [
        "\n",
        "Minibatch loss at step"
       ]
      },
      {
       "output_type": "stream",
       "stream": "stdout",
       "text": [
        " 351000 : 1.73547\n",
        "Minibatch accuracy: 46.9%\n",
        "Validation accuracy at step 351000: 40.2%"
       ]
      },
      {
       "output_type": "stream",
       "stream": "stdout",
       "text": [
        "\n",
        "Minibatch loss at step"
       ]
      },
      {
       "output_type": "stream",
       "stream": "stdout",
       "text": [
        " 352000 : 1.81927\n",
        "Minibatch accuracy: 43.8%\n",
        "Validation accuracy at step 352000: 41.8%"
       ]
      },
      {
       "output_type": "stream",
       "stream": "stdout",
       "text": [
        "\n",
        "Minibatch loss at step"
       ]
      },
      {
       "output_type": "stream",
       "stream": "stdout",
       "text": [
        " 353000 : 1.6072\n",
        "Minibatch accuracy: 50.0%\n",
        "Validation accuracy at step 353000: 40.9%"
       ]
      },
      {
       "output_type": "stream",
       "stream": "stdout",
       "text": [
        "\n",
        "Minibatch loss at step"
       ]
      },
      {
       "output_type": "stream",
       "stream": "stdout",
       "text": [
        " 354000 : 1.99028\n",
        "Minibatch accuracy: 50.0%\n",
        "Validation accuracy at step 354000: 44.2%"
       ]
      },
      {
       "output_type": "stream",
       "stream": "stdout",
       "text": [
        "\n",
        "Minibatch loss at step"
       ]
      },
      {
       "output_type": "stream",
       "stream": "stdout",
       "text": [
        " 355000 : 2.31297\n",
        "Minibatch accuracy: 31.2%\n",
        "Validation accuracy at step 355000: 39.9%"
       ]
      },
      {
       "output_type": "stream",
       "stream": "stdout",
       "text": [
        "\n",
        "Test accuracy at step 355000: 40.7%"
       ]
      },
      {
       "output_type": "stream",
       "stream": "stdout",
       "text": [
        "\n",
        "Minibatch loss at step"
       ]
      },
      {
       "output_type": "stream",
       "stream": "stdout",
       "text": [
        " 356000 : 1.74358\n",
        "Minibatch accuracy: 50.0%\n",
        "Validation accuracy at step 356000: 38.7%"
       ]
      },
      {
       "output_type": "stream",
       "stream": "stdout",
       "text": [
        "\n",
        "Minibatch loss at step"
       ]
      },
      {
       "output_type": "stream",
       "stream": "stdout",
       "text": [
        " 357000 : 1.86536\n",
        "Minibatch accuracy: 34.4%\n",
        "Validation accuracy at step 357000: 46.1%"
       ]
      },
      {
       "output_type": "stream",
       "stream": "stdout",
       "text": [
        "\n",
        "Minibatch loss at step"
       ]
      },
      {
       "output_type": "stream",
       "stream": "stdout",
       "text": [
        " 358000 : 1.9766\n",
        "Minibatch accuracy: 43.8%\n",
        "Validation accuracy at step 358000: 46.7%"
       ]
      },
      {
       "output_type": "stream",
       "stream": "stdout",
       "text": [
        "\n",
        "Minibatch loss at step"
       ]
      },
      {
       "output_type": "stream",
       "stream": "stdout",
       "text": [
        " 359000 : 1.8364\n",
        "Minibatch accuracy: 40.6%\n",
        "Validation accuracy at step 359000: 43.7%"
       ]
      },
      {
       "output_type": "stream",
       "stream": "stdout",
       "text": [
        "\n",
        "Minibatch loss at step"
       ]
      },
      {
       "output_type": "stream",
       "stream": "stdout",
       "text": [
        " 360000 : 1.943\n",
        "Minibatch accuracy: 53.1%\n",
        "Validation accuracy at step 360000: 43.6%"
       ]
      },
      {
       "output_type": "stream",
       "stream": "stdout",
       "text": [
        "\n",
        "Test accuracy at step 360000: 44.0%"
       ]
      },
      {
       "output_type": "stream",
       "stream": "stdout",
       "text": [
        "\n",
        "Minibatch loss at step"
       ]
      },
      {
       "output_type": "stream",
       "stream": "stdout",
       "text": [
        " 361000 : 2.2381\n",
        "Minibatch accuracy: 46.9%\n",
        "Validation accuracy at step 361000: 46.8%"
       ]
      },
      {
       "output_type": "stream",
       "stream": "stdout",
       "text": [
        "\n",
        "Minibatch loss at step"
       ]
      },
      {
       "output_type": "stream",
       "stream": "stdout",
       "text": [
        " 362000 : 1.45256\n",
        "Minibatch accuracy: 59.4%\n",
        "Validation accuracy at step 362000: 46.0%"
       ]
      },
      {
       "output_type": "stream",
       "stream": "stdout",
       "text": [
        "\n",
        "Minibatch loss at step"
       ]
      },
      {
       "output_type": "stream",
       "stream": "stdout",
       "text": [
        " 363000 : 2.07373\n",
        "Minibatch accuracy: 40.6%\n",
        "Validation accuracy at step 363000: 43.9%"
       ]
      },
      {
       "output_type": "stream",
       "stream": "stdout",
       "text": [
        "\n",
        "Minibatch loss at step"
       ]
      },
      {
       "output_type": "stream",
       "stream": "stdout",
       "text": [
        " 364000 : 1.73596\n",
        "Minibatch accuracy: 46.9%\n",
        "Validation accuracy at step 364000: 44.1%"
       ]
      },
      {
       "output_type": "stream",
       "stream": "stdout",
       "text": [
        "\n",
        "Minibatch loss at step"
       ]
      },
      {
       "output_type": "stream",
       "stream": "stdout",
       "text": [
        " 365000 : 2.00264\n",
        "Minibatch accuracy: 40.6%\n",
        "Validation accuracy at step 365000: 41.7%"
       ]
      },
      {
       "output_type": "stream",
       "stream": "stdout",
       "text": [
        "\n",
        "Test accuracy at step 365000: 42.2%"
       ]
      },
      {
       "output_type": "stream",
       "stream": "stdout",
       "text": [
        "\n",
        "Minibatch loss at step"
       ]
      },
      {
       "output_type": "stream",
       "stream": "stdout",
       "text": [
        " 366000 : 1.52633\n",
        "Minibatch accuracy: 50.0%\n",
        "Validation accuracy at step 366000: 43.9%"
       ]
      },
      {
       "output_type": "stream",
       "stream": "stdout",
       "text": [
        "\n",
        "Minibatch loss at step"
       ]
      },
      {
       "output_type": "stream",
       "stream": "stdout",
       "text": [
        " 367000 : 2.23147\n",
        "Minibatch accuracy: 37.5%\n",
        "Validation accuracy at step 367000: 44.3%"
       ]
      },
      {
       "output_type": "stream",
       "stream": "stdout",
       "text": [
        "\n",
        "Minibatch loss at step"
       ]
      },
      {
       "output_type": "stream",
       "stream": "stdout",
       "text": [
        " 368000 : 1.82969\n",
        "Minibatch accuracy: 43.8%\n",
        "Validation accuracy at step 368000: 41.0%"
       ]
      },
      {
       "output_type": "stream",
       "stream": "stdout",
       "text": [
        "\n",
        "Minibatch loss at step"
       ]
      },
      {
       "output_type": "stream",
       "stream": "stdout",
       "text": [
        " 369000 : 1.61158\n",
        "Minibatch accuracy: 43.8%\n",
        "Validation accuracy at step 369000: 41.0%"
       ]
      },
      {
       "output_type": "stream",
       "stream": "stdout",
       "text": [
        "\n",
        "Minibatch loss at step"
       ]
      },
      {
       "output_type": "stream",
       "stream": "stdout",
       "text": [
        " 370000 : 1.78036\n",
        "Minibatch accuracy: 53.1%\n",
        "Validation accuracy at step 370000: 44.8%"
       ]
      },
      {
       "output_type": "stream",
       "stream": "stdout",
       "text": [
        "\n",
        "Test accuracy at step 370000: 44.7%"
       ]
      },
      {
       "output_type": "stream",
       "stream": "stdout",
       "text": [
        "\n",
        "Minibatch loss at step"
       ]
      },
      {
       "output_type": "stream",
       "stream": "stdout",
       "text": [
        " 371000 : 1.906\n",
        "Minibatch accuracy: 43.8%\n",
        "Validation accuracy at step 371000: 42.8%"
       ]
      },
      {
       "output_type": "stream",
       "stream": "stdout",
       "text": [
        "\n",
        "Minibatch loss at step"
       ]
      },
      {
       "output_type": "stream",
       "stream": "stdout",
       "text": [
        " 372000 : 1.99995\n",
        "Minibatch accuracy: 31.2%\n",
        "Validation accuracy at step 372000: 42.5%"
       ]
      },
      {
       "output_type": "stream",
       "stream": "stdout",
       "text": [
        "\n",
        "Minibatch loss at step"
       ]
      },
      {
       "output_type": "stream",
       "stream": "stdout",
       "text": [
        " 373000 : 1.52637\n",
        "Minibatch accuracy: 56.2%\n",
        "Validation accuracy at step 373000: 44.8%"
       ]
      },
      {
       "output_type": "stream",
       "stream": "stdout",
       "text": [
        "\n",
        "Minibatch loss at step"
       ]
      },
      {
       "output_type": "stream",
       "stream": "stdout",
       "text": [
        " 374000 : 1.58828\n",
        "Minibatch accuracy: 53.1%\n",
        "Validation accuracy at step 374000: 47.3%"
       ]
      },
      {
       "output_type": "stream",
       "stream": "stdout",
       "text": [
        "\n",
        "Minibatch loss at step"
       ]
      },
      {
       "output_type": "stream",
       "stream": "stdout",
       "text": [
        " 375000 : 1.77466\n",
        "Minibatch accuracy: 40.6%\n",
        "Validation accuracy at step 375000: 46.1%"
       ]
      },
      {
       "output_type": "stream",
       "stream": "stdout",
       "text": [
        "\n",
        "Test accuracy at step 375000: 46.1%"
       ]
      },
      {
       "output_type": "stream",
       "stream": "stdout",
       "text": [
        "\n",
        "Minibatch loss at step"
       ]
      },
      {
       "output_type": "stream",
       "stream": "stdout",
       "text": [
        " 376000 : 1.48929\n",
        "Minibatch accuracy: 56.2%\n",
        "Validation accuracy at step 376000: 38.4%"
       ]
      },
      {
       "output_type": "stream",
       "stream": "stdout",
       "text": [
        "\n",
        "Minibatch loss at step"
       ]
      },
      {
       "output_type": "stream",
       "stream": "stdout",
       "text": [
        " 377000 : 2.35022\n",
        "Minibatch accuracy: 40.6%\n",
        "Validation accuracy at step 377000: 46.4%"
       ]
      },
      {
       "output_type": "stream",
       "stream": "stdout",
       "text": [
        "\n",
        "Minibatch loss at step"
       ]
      },
      {
       "output_type": "stream",
       "stream": "stdout",
       "text": [
        " 378000 : 1.64196\n",
        "Minibatch accuracy: 56.2%\n",
        "Validation accuracy at step 378000: 33.6%"
       ]
      },
      {
       "output_type": "stream",
       "stream": "stdout",
       "text": [
        "\n",
        "Minibatch loss at step"
       ]
      },
      {
       "output_type": "stream",
       "stream": "stdout",
       "text": [
        " 379000 : 1.8861\n",
        "Minibatch accuracy: 46.9%\n",
        "Validation accuracy at step 379000: 44.8%"
       ]
      },
      {
       "output_type": "stream",
       "stream": "stdout",
       "text": [
        "\n",
        "Minibatch loss at step"
       ]
      },
      {
       "output_type": "stream",
       "stream": "stdout",
       "text": [
        " 380000 : 1.81729\n",
        "Minibatch accuracy: 56.2%\n",
        "Validation accuracy at step 380000: 48.9%"
       ]
      },
      {
       "output_type": "stream",
       "stream": "stdout",
       "text": [
        "\n",
        "Test accuracy at step 380000: 48.6%"
       ]
      },
      {
       "output_type": "stream",
       "stream": "stdout",
       "text": [
        "\n",
        "Minibatch loss at step"
       ]
      },
      {
       "output_type": "stream",
       "stream": "stdout",
       "text": [
        " 381000 : 1.74658\n",
        "Minibatch accuracy: 40.6%\n",
        "Validation accuracy at step 381000: 44.2%"
       ]
      },
      {
       "output_type": "stream",
       "stream": "stdout",
       "text": [
        "\n",
        "Minibatch loss at step"
       ]
      },
      {
       "output_type": "stream",
       "stream": "stdout",
       "text": [
        " 382000 : 1.46613\n",
        "Minibatch accuracy: 59.4%\n",
        "Validation accuracy at step 382000: 45.0%"
       ]
      },
      {
       "output_type": "stream",
       "stream": "stdout",
       "text": [
        "\n",
        "Minibatch loss at step"
       ]
      },
      {
       "output_type": "stream",
       "stream": "stdout",
       "text": [
        " 383000 : 1.50228\n",
        "Minibatch accuracy: 50.0%\n",
        "Validation accuracy at step 383000: 41.8%"
       ]
      },
      {
       "output_type": "stream",
       "stream": "stdout",
       "text": [
        "\n",
        "Minibatch loss at step"
       ]
      },
      {
       "output_type": "stream",
       "stream": "stdout",
       "text": [
        " 384000 : 1.84424\n",
        "Minibatch accuracy: 40.6%\n",
        "Validation accuracy at step 384000: 42.4%"
       ]
      },
      {
       "output_type": "stream",
       "stream": "stdout",
       "text": [
        "\n",
        "Minibatch loss at step"
       ]
      },
      {
       "output_type": "stream",
       "stream": "stdout",
       "text": [
        " 385000 : 1.80557\n",
        "Minibatch accuracy: 50.0%\n",
        "Validation accuracy at step 385000: 44.2%"
       ]
      },
      {
       "output_type": "stream",
       "stream": "stdout",
       "text": [
        "\n",
        "Test accuracy at step 385000: 44.1%"
       ]
      },
      {
       "output_type": "stream",
       "stream": "stdout",
       "text": [
        "\n",
        "Minibatch loss at step"
       ]
      },
      {
       "output_type": "stream",
       "stream": "stdout",
       "text": [
        " 386000 : 1.98165\n",
        "Minibatch accuracy: 34.4%\n",
        "Validation accuracy at step 386000: 30.5%"
       ]
      },
      {
       "output_type": "stream",
       "stream": "stdout",
       "text": [
        "\n",
        "Minibatch loss at step"
       ]
      },
      {
       "output_type": "stream",
       "stream": "stdout",
       "text": [
        " 387000 : 1.86599\n",
        "Minibatch accuracy: 53.1%\n",
        "Validation accuracy at step 387000: 45.9%"
       ]
      },
      {
       "output_type": "stream",
       "stream": "stdout",
       "text": [
        "\n",
        "Minibatch loss at step"
       ]
      },
      {
       "output_type": "stream",
       "stream": "stdout",
       "text": [
        " 388000 : 1.91539\n",
        "Minibatch accuracy: 40.6%\n",
        "Validation accuracy at step 388000: 39.2%"
       ]
      },
      {
       "output_type": "stream",
       "stream": "stdout",
       "text": [
        "\n",
        "Minibatch loss at step"
       ]
      },
      {
       "output_type": "stream",
       "stream": "stdout",
       "text": [
        " 389000 : 1.84009\n",
        "Minibatch accuracy: 40.6%\n",
        "Validation accuracy at step 389000: 39.3%"
       ]
      },
      {
       "output_type": "stream",
       "stream": "stdout",
       "text": [
        "\n",
        "Minibatch loss at step"
       ]
      },
      {
       "output_type": "stream",
       "stream": "stdout",
       "text": [
        " 390000 : 2.18298\n",
        "Minibatch accuracy: 34.4%\n",
        "Validation accuracy at step 390000: 44.3%"
       ]
      },
      {
       "output_type": "stream",
       "stream": "stdout",
       "text": [
        "\n",
        "Test accuracy at step 390000: 43.7%"
       ]
      },
      {
       "output_type": "stream",
       "stream": "stdout",
       "text": [
        "\n",
        "Minibatch loss at step"
       ]
      },
      {
       "output_type": "stream",
       "stream": "stdout",
       "text": [
        " 391000 : 2.09295\n",
        "Minibatch accuracy: 40.6%\n",
        "Validation accuracy at step 391000: 42.9%"
       ]
      },
      {
       "output_type": "stream",
       "stream": "stdout",
       "text": [
        "\n",
        "Minibatch loss at step"
       ]
      },
      {
       "output_type": "stream",
       "stream": "stdout",
       "text": [
        " 392000 : 1.91575\n",
        "Minibatch accuracy: 40.6%\n",
        "Validation accuracy at step 392000: 35.2%"
       ]
      },
      {
       "output_type": "stream",
       "stream": "stdout",
       "text": [
        "\n",
        "Minibatch loss at step"
       ]
      },
      {
       "output_type": "stream",
       "stream": "stdout",
       "text": [
        " 393000 : 1.61001\n",
        "Minibatch accuracy: 46.9%\n",
        "Validation accuracy at step 393000: 47.5%"
       ]
      },
      {
       "output_type": "stream",
       "stream": "stdout",
       "text": [
        "\n",
        "Minibatch loss at step"
       ]
      },
      {
       "output_type": "stream",
       "stream": "stdout",
       "text": [
        " 394000 : 2.05091\n",
        "Minibatch accuracy: 37.5%\n",
        "Validation accuracy at step 394000: 43.9%"
       ]
      },
      {
       "output_type": "stream",
       "stream": "stdout",
       "text": [
        "\n",
        "Minibatch loss at step"
       ]
      },
      {
       "output_type": "stream",
       "stream": "stdout",
       "text": [
        " 395000 : 1.8936\n",
        "Minibatch accuracy: 43.8%\n",
        "Validation accuracy at step 395000: 44.1%"
       ]
      },
      {
       "output_type": "stream",
       "stream": "stdout",
       "text": [
        "\n",
        "Test accuracy at step 395000: 43.8%"
       ]
      },
      {
       "output_type": "stream",
       "stream": "stdout",
       "text": [
        "\n",
        "Minibatch loss at step"
       ]
      },
      {
       "output_type": "stream",
       "stream": "stdout",
       "text": [
        " 396000 : 1.5588\n",
        "Minibatch accuracy: 53.1%\n",
        "Validation accuracy at step 396000: 46.4%"
       ]
      },
      {
       "output_type": "stream",
       "stream": "stdout",
       "text": [
        "\n",
        "Minibatch loss at step"
       ]
      },
      {
       "output_type": "stream",
       "stream": "stdout",
       "text": [
        " 397000 : 1.37795\n",
        "Minibatch accuracy: 62.5%\n",
        "Validation accuracy at step 397000: 44.7%"
       ]
      },
      {
       "output_type": "stream",
       "stream": "stdout",
       "text": [
        "\n",
        "Minibatch loss at step"
       ]
      },
      {
       "output_type": "stream",
       "stream": "stdout",
       "text": [
        " 398000 : 1.50888\n",
        "Minibatch accuracy: 53.1%\n",
        "Validation accuracy at step 398000: 42.6%"
       ]
      },
      {
       "output_type": "stream",
       "stream": "stdout",
       "text": [
        "\n",
        "Minibatch loss at step"
       ]
      },
      {
       "output_type": "stream",
       "stream": "stdout",
       "text": [
        " 399000 : 1.52462\n",
        "Minibatch accuracy: 53.1%\n",
        "Validation accuracy at step 399000: 47.2%"
       ]
      },
      {
       "output_type": "stream",
       "stream": "stdout",
       "text": [
        "\n",
        "Minibatch loss at step"
       ]
      },
      {
       "output_type": "stream",
       "stream": "stdout",
       "text": [
        " 400000 : 2.15883\n",
        "Minibatch accuracy: 25.0%\n",
        "Validation accuracy at step 400000: 47.0%"
       ]
      },
      {
       "output_type": "stream",
       "stream": "stdout",
       "text": [
        "\n",
        "Test accuracy at step 400000: 46.8%\n"
       ]
      },
      {
       "output_type": "stream",
       "stream": "stdout",
       "text": [
        "\n",
        "Elapsed time: 6.61379670805 hours\n",
        "The best validation accuracy was 49.29 at step 335000"
       ]
      },
      {
       "output_type": "stream",
       "stream": "stdout",
       "text": [
        "\n",
        "The best test accuracy was 48.67 at step 335000"
       ]
      },
      {
       "output_type": "stream",
       "stream": "stdout",
       "text": [
        "\n"
       ]
      }
     ],
     "prompt_number": 20
    },
    {
     "cell_type": "code",
     "collapsed": false,
     "input": [
      "# 400K steps with a longer decay step of 5000\n",
      "model = create_naive_inception_module_model(learning_rate = 0.00025, l2_lambda = 0.025, feature_maps = 25, initialised_weights_stddev = 0.5, decay_steps = 5000, decay_rate = 0.96)\n",
      "steps_to_validation_predictions, steps_to_test_predictions = train_model(model, 400001, dropout_keep_prob = 0.9)\n",
      "correct_prediction_indexes, incorrect_prediction_indexes = visualise_accuracies(steps_to_validation_predictions, steps_to_test_predictions)"
     ],
     "language": "python",
     "metadata": {},
     "outputs": [
      {
       "output_type": "stream",
       "stream": "stdout",
       "text": [
        "Initialized\n",
        "Minibatch loss at step"
       ]
      },
      {
       "output_type": "stream",
       "stream": "stdout",
       "text": [
        " 0 : 1508.15\n",
        "Minibatch accuracy: 12.5%\n",
        "Validation accuracy at step 0: 10.2%"
       ]
      },
      {
       "output_type": "stream",
       "stream": "stdout",
       "text": [
        "\n",
        "Minibatch loss at step"
       ]
      },
      {
       "output_type": "stream",
       "stream": "stdout",
       "text": [
        " 1000 : 14.3232\n",
        "Minibatch accuracy: 31.2%\n",
        "Validation accuracy at step 1000: 18.5%"
       ]
      },
      {
       "output_type": "stream",
       "stream": "stdout",
       "text": [
        "\n",
        "Minibatch loss at step"
       ]
      },
      {
       "output_type": "stream",
       "stream": "stdout",
       "text": [
        " 2000 : 12.5533\n",
        "Minibatch accuracy: 31.2%\n",
        "Validation accuracy at step 2000: 25.2%"
       ]
      },
      {
       "output_type": "stream",
       "stream": "stdout",
       "text": [
        "\n",
        "Minibatch loss at step"
       ]
      },
      {
       "output_type": "stream",
       "stream": "stdout",
       "text": [
        " 3000 : 13.0354\n",
        "Minibatch accuracy: 28.1%\n",
        "Validation accuracy at step 3000: 22.0%"
       ]
      },
      {
       "output_type": "stream",
       "stream": "stdout",
       "text": [
        "\n",
        "Minibatch loss at step"
       ]
      },
      {
       "output_type": "stream",
       "stream": "stdout",
       "text": [
        " 4000 : 11.5025\n",
        "Minibatch accuracy: 21.9%\n",
        "Validation accuracy at step 4000: 25.9%"
       ]
      },
      {
       "output_type": "stream",
       "stream": "stdout",
       "text": [
        "\n",
        "Minibatch loss at step"
       ]
      },
      {
       "output_type": "stream",
       "stream": "stdout",
       "text": [
        " 5000 : 10.1697\n",
        "Minibatch accuracy: 34.4%\n",
        "Validation accuracy at step 5000: 22.9%"
       ]
      },
      {
       "output_type": "stream",
       "stream": "stdout",
       "text": [
        "\n",
        "Test accuracy at step 5000: 23.1%"
       ]
      },
      {
       "output_type": "stream",
       "stream": "stdout",
       "text": [
        "\n",
        "Minibatch loss at step"
       ]
      },
      {
       "output_type": "stream",
       "stream": "stdout",
       "text": [
        " 6000 : 9.75313\n",
        "Minibatch accuracy: 34.4%\n",
        "Validation accuracy at step 6000: 23.7%"
       ]
      },
      {
       "output_type": "stream",
       "stream": "stdout",
       "text": [
        "\n",
        "Minibatch loss at step"
       ]
      },
      {
       "output_type": "stream",
       "stream": "stdout",
       "text": [
        " 7000 : 12.3407\n",
        "Minibatch accuracy: 31.2%\n",
        "Validation accuracy at step 7000: 24.2%"
       ]
      },
      {
       "output_type": "stream",
       "stream": "stdout",
       "text": [
        "\n",
        "Minibatch loss at step"
       ]
      },
      {
       "output_type": "stream",
       "stream": "stdout",
       "text": [
        " 8000 : 10.8661\n",
        "Minibatch accuracy: 25.0%\n",
        "Validation accuracy at step 8000: 22.2%"
       ]
      },
      {
       "output_type": "stream",
       "stream": "stdout",
       "text": [
        "\n",
        "Minibatch loss at step"
       ]
      },
      {
       "output_type": "stream",
       "stream": "stdout",
       "text": [
        " 9000 : 9.61071\n",
        "Minibatch accuracy: 31.2%\n",
        "Validation accuracy at step 9000: 27.7%"
       ]
      },
      {
       "output_type": "stream",
       "stream": "stdout",
       "text": [
        "\n",
        "Minibatch loss at step"
       ]
      },
      {
       "output_type": "stream",
       "stream": "stdout",
       "text": [
        " 10000 : 9.79312\n",
        "Minibatch accuracy: 31.2%\n",
        "Validation accuracy at step 10000: 28.0%"
       ]
      },
      {
       "output_type": "stream",
       "stream": "stdout",
       "text": [
        "\n",
        "Test accuracy at step 10000: 28.1%"
       ]
      },
      {
       "output_type": "stream",
       "stream": "stdout",
       "text": [
        "\n",
        "Minibatch loss at step"
       ]
      },
      {
       "output_type": "stream",
       "stream": "stdout",
       "text": [
        " 11000 : 9.81161\n",
        "Minibatch accuracy: 25.0%\n",
        "Validation accuracy at step 11000: 24.8%"
       ]
      },
      {
       "output_type": "stream",
       "stream": "stdout",
       "text": [
        "\n",
        "Minibatch loss at step"
       ]
      },
      {
       "output_type": "stream",
       "stream": "stdout",
       "text": [
        " 12000 : 9.48431\n",
        "Minibatch accuracy: 31.2%\n",
        "Validation accuracy at step 12000: 28.9%"
       ]
      },
      {
       "output_type": "stream",
       "stream": "stdout",
       "text": [
        "\n",
        "Minibatch loss at step"
       ]
      },
      {
       "output_type": "stream",
       "stream": "stdout",
       "text": [
        " 13000 : 10.2161\n",
        "Minibatch accuracy: 18.8%\n",
        "Validation accuracy at step 13000: 25.7%"
       ]
      },
      {
       "output_type": "stream",
       "stream": "stdout",
       "text": [
        "\n",
        "Minibatch loss at step"
       ]
      },
      {
       "output_type": "stream",
       "stream": "stdout",
       "text": [
        " 14000 : 9.80884\n",
        "Minibatch accuracy: 21.9%\n",
        "Validation accuracy at step 14000: 24.3%"
       ]
      },
      {
       "output_type": "stream",
       "stream": "stdout",
       "text": [
        "\n",
        "Minibatch loss at step"
       ]
      },
      {
       "output_type": "stream",
       "stream": "stdout",
       "text": [
        " 15000 : 8.58951\n",
        "Minibatch accuracy: 31.2%\n",
        "Validation accuracy at step 15000: 29.5%"
       ]
      },
      {
       "output_type": "stream",
       "stream": "stdout",
       "text": [
        "\n",
        "Test accuracy at step 15000: 29.7%"
       ]
      },
      {
       "output_type": "stream",
       "stream": "stdout",
       "text": [
        "\n",
        "Minibatch loss at step"
       ]
      },
      {
       "output_type": "stream",
       "stream": "stdout",
       "text": [
        " 16000 : 8.57294\n",
        "Minibatch accuracy: 28.1%\n",
        "Validation accuracy at step 16000: 29.7%"
       ]
      },
      {
       "output_type": "stream",
       "stream": "stdout",
       "text": [
        "\n",
        "Minibatch loss at step"
       ]
      },
      {
       "output_type": "stream",
       "stream": "stdout",
       "text": [
        " 17000 : 8.49739\n",
        "Minibatch accuracy: 40.6%\n",
        "Validation accuracy at step 17000: 31.7%"
       ]
      },
      {
       "output_type": "stream",
       "stream": "stdout",
       "text": [
        "\n",
        "Minibatch loss at step"
       ]
      },
      {
       "output_type": "stream",
       "stream": "stdout",
       "text": [
        " 18000 : 9.23664\n",
        "Minibatch accuracy: 21.9%\n",
        "Validation accuracy at step 18000: 29.4%"
       ]
      },
      {
       "output_type": "stream",
       "stream": "stdout",
       "text": [
        "\n",
        "Minibatch loss at step"
       ]
      },
      {
       "output_type": "stream",
       "stream": "stdout",
       "text": [
        " 19000 : 8.28776\n",
        "Minibatch accuracy: 34.4%\n",
        "Validation accuracy at step 19000: 31.0%"
       ]
      },
      {
       "output_type": "stream",
       "stream": "stdout",
       "text": [
        "\n",
        "Minibatch loss at step"
       ]
      },
      {
       "output_type": "stream",
       "stream": "stdout",
       "text": [
        " 20000 : 8.13525\n",
        "Minibatch accuracy: 31.2%\n",
        "Validation accuracy at step 20000: 24.3%"
       ]
      },
      {
       "output_type": "stream",
       "stream": "stdout",
       "text": [
        "\n",
        "Test accuracy at step 20000: 24.9%"
       ]
      },
      {
       "output_type": "stream",
       "stream": "stdout",
       "text": [
        "\n",
        "Minibatch loss at step"
       ]
      },
      {
       "output_type": "stream",
       "stream": "stdout",
       "text": [
        " 21000 : 8.4172\n",
        "Minibatch accuracy: 25.0%\n",
        "Validation accuracy at step 21000: 24.0%"
       ]
      },
      {
       "output_type": "stream",
       "stream": "stdout",
       "text": [
        "\n",
        "Minibatch loss at step"
       ]
      },
      {
       "output_type": "stream",
       "stream": "stdout",
       "text": [
        " 22000 : 8.20988\n",
        "Minibatch accuracy: 34.4%\n",
        "Validation accuracy at step 22000: 26.6%"
       ]
      },
      {
       "output_type": "stream",
       "stream": "stdout",
       "text": [
        "\n",
        "Minibatch loss at step"
       ]
      },
      {
       "output_type": "stream",
       "stream": "stdout",
       "text": [
        " 23000 : 8.3994\n",
        "Minibatch accuracy: 18.8%\n",
        "Validation accuracy at step 23000: 32.2%"
       ]
      },
      {
       "output_type": "stream",
       "stream": "stdout",
       "text": [
        "\n",
        "Minibatch loss at step"
       ]
      },
      {
       "output_type": "stream",
       "stream": "stdout",
       "text": [
        " 24000 : 7.70657\n",
        "Minibatch accuracy: 21.9%\n",
        "Validation accuracy at step 24000: 32.8%"
       ]
      },
      {
       "output_type": "stream",
       "stream": "stdout",
       "text": [
        "\n",
        "Minibatch loss at step"
       ]
      },
      {
       "output_type": "stream",
       "stream": "stdout",
       "text": [
        " 25000 : 8.27192\n",
        "Minibatch accuracy: 28.1%\n",
        "Validation accuracy at step 25000: 28.5%"
       ]
      },
      {
       "output_type": "stream",
       "stream": "stdout",
       "text": [
        "\n",
        "Test accuracy at step 25000: 29.6%"
       ]
      },
      {
       "output_type": "stream",
       "stream": "stdout",
       "text": [
        "\n",
        "Minibatch loss at step"
       ]
      },
      {
       "output_type": "stream",
       "stream": "stdout",
       "text": [
        " 26000 : 7.96981\n",
        "Minibatch accuracy: 25.0%\n",
        "Validation accuracy at step 26000: 33.0%"
       ]
      },
      {
       "output_type": "stream",
       "stream": "stdout",
       "text": [
        "\n",
        "Minibatch loss at step"
       ]
      },
      {
       "output_type": "stream",
       "stream": "stdout",
       "text": [
        " 27000 : 7.27264\n",
        "Minibatch accuracy: 53.1%\n",
        "Validation accuracy at step 27000: 31.7%"
       ]
      },
      {
       "output_type": "stream",
       "stream": "stdout",
       "text": [
        "\n",
        "Minibatch loss at step"
       ]
      },
      {
       "output_type": "stream",
       "stream": "stdout",
       "text": [
        " 28000 : 7.58417\n",
        "Minibatch accuracy: 31.2%\n",
        "Validation accuracy at step 28000: 32.3%"
       ]
      },
      {
       "output_type": "stream",
       "stream": "stdout",
       "text": [
        "\n",
        "Minibatch loss at step"
       ]
      },
      {
       "output_type": "stream",
       "stream": "stdout",
       "text": [
        " 29000 : 7.95031\n",
        "Minibatch accuracy: 40.6%\n",
        "Validation accuracy at step 29000: 31.2%"
       ]
      },
      {
       "output_type": "stream",
       "stream": "stdout",
       "text": [
        "\n",
        "Minibatch loss at step"
       ]
      },
      {
       "output_type": "stream",
       "stream": "stdout",
       "text": [
        " 30000 : 7.58817\n",
        "Minibatch accuracy: 31.2%\n",
        "Validation accuracy at step 30000: 28.6%"
       ]
      },
      {
       "output_type": "stream",
       "stream": "stdout",
       "text": [
        "\n",
        "Test accuracy at step 30000: 28.6%"
       ]
      },
      {
       "output_type": "stream",
       "stream": "stdout",
       "text": [
        "\n",
        "Minibatch loss at step"
       ]
      },
      {
       "output_type": "stream",
       "stream": "stdout",
       "text": [
        " 31000 : 7.47983\n",
        "Minibatch accuracy: 37.5%\n",
        "Validation accuracy at step 31000: 25.3%"
       ]
      },
      {
       "output_type": "stream",
       "stream": "stdout",
       "text": [
        "\n",
        "Minibatch loss at step"
       ]
      },
      {
       "output_type": "stream",
       "stream": "stdout",
       "text": [
        " 32000 : 7.46452\n",
        "Minibatch accuracy: 21.9%\n",
        "Validation accuracy at step 32000: 28.6%"
       ]
      },
      {
       "output_type": "stream",
       "stream": "stdout",
       "text": [
        "\n",
        "Minibatch loss at step"
       ]
      },
      {
       "output_type": "stream",
       "stream": "stdout",
       "text": [
        " 33000 : 7.16146\n",
        "Minibatch accuracy: 46.9%\n",
        "Validation accuracy at step 33000: 30.2%"
       ]
      },
      {
       "output_type": "stream",
       "stream": "stdout",
       "text": [
        "\n",
        "Minibatch loss at step"
       ]
      },
      {
       "output_type": "stream",
       "stream": "stdout",
       "text": [
        " 34000 : 7.67245\n",
        "Minibatch accuracy: 28.1%\n",
        "Validation accuracy at step 34000: 31.7%"
       ]
      },
      {
       "output_type": "stream",
       "stream": "stdout",
       "text": [
        "\n",
        "Minibatch loss at step"
       ]
      },
      {
       "output_type": "stream",
       "stream": "stdout",
       "text": [
        " 35000 : 7.19442\n",
        "Minibatch accuracy: 43.8%\n",
        "Validation accuracy at step 35000: 32.2%"
       ]
      },
      {
       "output_type": "stream",
       "stream": "stdout",
       "text": [
        "\n",
        "Test accuracy at step 35000: 32.7%"
       ]
      },
      {
       "output_type": "stream",
       "stream": "stdout",
       "text": [
        "\n",
        "Minibatch loss at step"
       ]
      },
      {
       "output_type": "stream",
       "stream": "stdout",
       "text": [
        " 36000 : 7.47455\n",
        "Minibatch accuracy: 25.0%\n",
        "Validation accuracy at step 36000: 34.2%"
       ]
      },
      {
       "output_type": "stream",
       "stream": "stdout",
       "text": [
        "\n",
        "Minibatch loss at step"
       ]
      },
      {
       "output_type": "stream",
       "stream": "stdout",
       "text": [
        " 37000 : 7.09919\n",
        "Minibatch accuracy: 34.4%\n",
        "Validation accuracy at step 37000: 30.3%"
       ]
      },
      {
       "output_type": "stream",
       "stream": "stdout",
       "text": [
        "\n",
        "Minibatch loss at step"
       ]
      },
      {
       "output_type": "stream",
       "stream": "stdout",
       "text": [
        " 38000 : 7.25632\n",
        "Minibatch accuracy: 43.8%\n",
        "Validation accuracy at step 38000: 36.5%"
       ]
      },
      {
       "output_type": "stream",
       "stream": "stdout",
       "text": [
        "\n",
        "Minibatch loss at step"
       ]
      },
      {
       "output_type": "stream",
       "stream": "stdout",
       "text": [
        " 39000 : 7.38418\n",
        "Minibatch accuracy: 34.4%\n",
        "Validation accuracy at step 39000: 30.0%"
       ]
      },
      {
       "output_type": "stream",
       "stream": "stdout",
       "text": [
        "\n",
        "Minibatch loss at step"
       ]
      },
      {
       "output_type": "stream",
       "stream": "stdout",
       "text": [
        " 40000 : 7.24065\n",
        "Minibatch accuracy: 25.0%\n",
        "Validation accuracy at step 40000: 30.3%"
       ]
      },
      {
       "output_type": "stream",
       "stream": "stdout",
       "text": [
        "\n",
        "Test accuracy at step 40000: 30.1%"
       ]
      },
      {
       "output_type": "stream",
       "stream": "stdout",
       "text": [
        "\n",
        "Minibatch loss at step"
       ]
      },
      {
       "output_type": "stream",
       "stream": "stdout",
       "text": [
        " 41000 : 7.16112\n",
        "Minibatch accuracy: 28.1%\n",
        "Validation accuracy at step 41000: 30.4%"
       ]
      },
      {
       "output_type": "stream",
       "stream": "stdout",
       "text": [
        "\n",
        "Minibatch loss at step"
       ]
      },
      {
       "output_type": "stream",
       "stream": "stdout",
       "text": [
        " 42000 : 6.89122\n",
        "Minibatch accuracy: 25.0%\n",
        "Validation accuracy at step 42000: 31.6%"
       ]
      },
      {
       "output_type": "stream",
       "stream": "stdout",
       "text": [
        "\n",
        "Minibatch loss at step"
       ]
      },
      {
       "output_type": "stream",
       "stream": "stdout",
       "text": [
        " 43000 : 6.64759\n",
        "Minibatch accuracy: 40.6%\n",
        "Validation accuracy at step 43000: 33.9%"
       ]
      },
      {
       "output_type": "stream",
       "stream": "stdout",
       "text": [
        "\n",
        "Minibatch loss at step"
       ]
      },
      {
       "output_type": "stream",
       "stream": "stdout",
       "text": [
        " 44000 : 6.8819\n",
        "Minibatch accuracy: 40.6%\n",
        "Validation accuracy at step 44000: 33.9%"
       ]
      },
      {
       "output_type": "stream",
       "stream": "stdout",
       "text": [
        "\n",
        "Minibatch loss at step"
       ]
      },
      {
       "output_type": "stream",
       "stream": "stdout",
       "text": [
        " 45000 : 6.90289\n",
        "Minibatch accuracy: 28.1%\n",
        "Validation accuracy at step 45000: 32.1%"
       ]
      },
      {
       "output_type": "stream",
       "stream": "stdout",
       "text": [
        "\n",
        "Test accuracy at step 45000: 32.9%"
       ]
      },
      {
       "output_type": "stream",
       "stream": "stdout",
       "text": [
        "\n",
        "Minibatch loss at step"
       ]
      },
      {
       "output_type": "stream",
       "stream": "stdout",
       "text": [
        " 46000 : 6.33296\n",
        "Minibatch accuracy: 34.4%\n",
        "Validation accuracy at step 46000: 36.4%"
       ]
      },
      {
       "output_type": "stream",
       "stream": "stdout",
       "text": [
        "\n",
        "Minibatch loss at step"
       ]
      },
      {
       "output_type": "stream",
       "stream": "stdout",
       "text": [
        " 47000 : 6.26867\n",
        "Minibatch accuracy: 59.4%\n",
        "Validation accuracy at step 47000: 31.5%"
       ]
      },
      {
       "output_type": "stream",
       "stream": "stdout",
       "text": [
        "\n",
        "Minibatch loss at step"
       ]
      },
      {
       "output_type": "stream",
       "stream": "stdout",
       "text": [
        " 48000 : 6.4071\n",
        "Minibatch accuracy: 40.6%\n",
        "Validation accuracy at step 48000: 29.6%"
       ]
      },
      {
       "output_type": "stream",
       "stream": "stdout",
       "text": [
        "\n",
        "Minibatch loss at step"
       ]
      },
      {
       "output_type": "stream",
       "stream": "stdout",
       "text": [
        " 49000 : 6.26336\n",
        "Minibatch accuracy: 40.6%\n",
        "Validation accuracy at step 49000: 34.8%"
       ]
      },
      {
       "output_type": "stream",
       "stream": "stdout",
       "text": [
        "\n",
        "Minibatch loss at step"
       ]
      },
      {
       "output_type": "stream",
       "stream": "stdout",
       "text": [
        " 50000 : 6.25076\n",
        "Minibatch accuracy: 40.6%\n",
        "Validation accuracy at step 50000: 32.8%"
       ]
      },
      {
       "output_type": "stream",
       "stream": "stdout",
       "text": [
        "\n",
        "Test accuracy at step 50000: 34.3%"
       ]
      },
      {
       "output_type": "stream",
       "stream": "stdout",
       "text": [
        "\n",
        "Minibatch loss at step"
       ]
      },
      {
       "output_type": "stream",
       "stream": "stdout",
       "text": [
        " 51000 : 6.51253\n",
        "Minibatch accuracy: 25.0%\n",
        "Validation accuracy at step 51000: 31.2%"
       ]
      },
      {
       "output_type": "stream",
       "stream": "stdout",
       "text": [
        "\n",
        "Minibatch loss at step"
       ]
      },
      {
       "output_type": "stream",
       "stream": "stdout",
       "text": [
        " 52000 : 6.03747\n",
        "Minibatch accuracy: 46.9%\n",
        "Validation accuracy at step 52000: 33.7%"
       ]
      },
      {
       "output_type": "stream",
       "stream": "stdout",
       "text": [
        "\n",
        "Minibatch loss at step"
       ]
      },
      {
       "output_type": "stream",
       "stream": "stdout",
       "text": [
        " 53000 : 6.14714\n",
        "Minibatch accuracy: 46.9%\n",
        "Validation accuracy at step 53000: 35.6%"
       ]
      },
      {
       "output_type": "stream",
       "stream": "stdout",
       "text": [
        "\n",
        "Minibatch loss at step"
       ]
      },
      {
       "output_type": "stream",
       "stream": "stdout",
       "text": [
        " 54000 : 6.52181\n",
        "Minibatch accuracy: 21.9%\n",
        "Validation accuracy at step 54000: 33.8%"
       ]
      },
      {
       "output_type": "stream",
       "stream": "stdout",
       "text": [
        "\n",
        "Minibatch loss at step"
       ]
      },
      {
       "output_type": "stream",
       "stream": "stdout",
       "text": [
        " 55000 : 6.22454\n",
        "Minibatch accuracy: 31.2%\n",
        "Validation accuracy at step 55000: 37.7%"
       ]
      },
      {
       "output_type": "stream",
       "stream": "stdout",
       "text": [
        "\n",
        "Test accuracy at step 55000: 37.9%"
       ]
      },
      {
       "output_type": "stream",
       "stream": "stdout",
       "text": [
        "\n",
        "Minibatch loss at step"
       ]
      },
      {
       "output_type": "stream",
       "stream": "stdout",
       "text": [
        " 56000 : 6.27873\n",
        "Minibatch accuracy: 34.4%\n",
        "Validation accuracy at step 56000: 35.4%"
       ]
      },
      {
       "output_type": "stream",
       "stream": "stdout",
       "text": [
        "\n",
        "Minibatch loss at step"
       ]
      },
      {
       "output_type": "stream",
       "stream": "stdout",
       "text": [
        " 57000 : 6.38577\n",
        "Minibatch accuracy: 21.9%\n",
        "Validation accuracy at step 57000: 33.9%"
       ]
      },
      {
       "output_type": "stream",
       "stream": "stdout",
       "text": [
        "\n",
        "Minibatch loss at step"
       ]
      },
      {
       "output_type": "stream",
       "stream": "stdout",
       "text": [
        " 58000 : 6.2982\n",
        "Minibatch accuracy: 37.5%\n",
        "Validation accuracy at step 58000: 36.4%"
       ]
      },
      {
       "output_type": "stream",
       "stream": "stdout",
       "text": [
        "\n",
        "Minibatch loss at step"
       ]
      },
      {
       "output_type": "stream",
       "stream": "stdout",
       "text": [
        " 59000 : 5.74517\n",
        "Minibatch accuracy: 43.8%\n",
        "Validation accuracy at step 59000: 35.1%"
       ]
      },
      {
       "output_type": "stream",
       "stream": "stdout",
       "text": [
        "\n",
        "Minibatch loss at step"
       ]
      },
      {
       "output_type": "stream",
       "stream": "stdout",
       "text": [
        " 60000 : 6.10291\n",
        "Minibatch accuracy: 28.1%\n",
        "Validation accuracy at step 60000: 36.9%"
       ]
      },
      {
       "output_type": "stream",
       "stream": "stdout",
       "text": [
        "\n",
        "Test accuracy at step 60000: 37.9%"
       ]
      },
      {
       "output_type": "stream",
       "stream": "stdout",
       "text": [
        "\n",
        "Minibatch loss at step"
       ]
      },
      {
       "output_type": "stream",
       "stream": "stdout",
       "text": [
        " 61000 : 6.06017\n",
        "Minibatch accuracy: 37.5%\n",
        "Validation accuracy at step 61000: 33.5%"
       ]
      },
      {
       "output_type": "stream",
       "stream": "stdout",
       "text": [
        "\n",
        "Minibatch loss at step"
       ]
      },
      {
       "output_type": "stream",
       "stream": "stdout",
       "text": [
        " 62000 : 5.6298\n",
        "Minibatch accuracy: 46.9%\n",
        "Validation accuracy at step 62000: 36.7%"
       ]
      },
      {
       "output_type": "stream",
       "stream": "stdout",
       "text": [
        "\n",
        "Minibatch loss at step"
       ]
      },
      {
       "output_type": "stream",
       "stream": "stdout",
       "text": [
        " 63000 : 5.62196\n",
        "Minibatch accuracy: 53.1%\n",
        "Validation accuracy at step 63000: 36.2%"
       ]
      },
      {
       "output_type": "stream",
       "stream": "stdout",
       "text": [
        "\n",
        "Minibatch loss at step"
       ]
      },
      {
       "output_type": "stream",
       "stream": "stdout",
       "text": [
        " 64000 : 5.74488\n",
        "Minibatch accuracy: 31.2%\n",
        "Validation accuracy at step 64000: 36.7%"
       ]
      },
      {
       "output_type": "stream",
       "stream": "stdout",
       "text": [
        "\n",
        "Minibatch loss at step"
       ]
      },
      {
       "output_type": "stream",
       "stream": "stdout",
       "text": [
        " 65000 : 6.05431\n",
        "Minibatch accuracy: 43.8%\n",
        "Validation accuracy at step 65000: 35.4%"
       ]
      },
      {
       "output_type": "stream",
       "stream": "stdout",
       "text": [
        "\n",
        "Test accuracy at step 65000: 36.2%"
       ]
      },
      {
       "output_type": "stream",
       "stream": "stdout",
       "text": [
        "\n",
        "Minibatch loss at step"
       ]
      },
      {
       "output_type": "stream",
       "stream": "stdout",
       "text": [
        " 66000 : 6.19832\n",
        "Minibatch accuracy: 31.2%\n",
        "Validation accuracy at step 66000: 27.3%"
       ]
      },
      {
       "output_type": "stream",
       "stream": "stdout",
       "text": [
        "\n",
        "Minibatch loss at step"
       ]
      },
      {
       "output_type": "stream",
       "stream": "stdout",
       "text": [
        " 67000 : 6.09593\n",
        "Minibatch accuracy: 31.2%\n",
        "Validation accuracy at step 67000: 37.5%"
       ]
      },
      {
       "output_type": "stream",
       "stream": "stdout",
       "text": [
        "\n",
        "Minibatch loss at step"
       ]
      },
      {
       "output_type": "stream",
       "stream": "stdout",
       "text": [
        " 68000 : 5.61301\n",
        "Minibatch accuracy: 50.0%\n",
        "Validation accuracy at step 68000: 35.0%"
       ]
      },
      {
       "output_type": "stream",
       "stream": "stdout",
       "text": [
        "\n",
        "Minibatch loss at step"
       ]
      },
      {
       "output_type": "stream",
       "stream": "stdout",
       "text": [
        " 69000 : 5.77023\n",
        "Minibatch accuracy: 40.6%\n",
        "Validation accuracy at step 69000: 32.4%"
       ]
      },
      {
       "output_type": "stream",
       "stream": "stdout",
       "text": [
        "\n",
        "Minibatch loss at step"
       ]
      },
      {
       "output_type": "stream",
       "stream": "stdout",
       "text": [
        " 70000 : 5.72776\n",
        "Minibatch accuracy: 34.4%\n",
        "Validation accuracy at step 70000: 37.0%"
       ]
      },
      {
       "output_type": "stream",
       "stream": "stdout",
       "text": [
        "\n",
        "Test accuracy at step 70000: 37.8%"
       ]
      },
      {
       "output_type": "stream",
       "stream": "stdout",
       "text": [
        "\n",
        "Minibatch loss at step"
       ]
      },
      {
       "output_type": "stream",
       "stream": "stdout",
       "text": [
        " 71000 : 5.45374\n",
        "Minibatch accuracy: 40.6%\n",
        "Validation accuracy at step 71000: 37.5%"
       ]
      },
      {
       "output_type": "stream",
       "stream": "stdout",
       "text": [
        "\n",
        "Minibatch loss at step"
       ]
      },
      {
       "output_type": "stream",
       "stream": "stdout",
       "text": [
        " 72000 : 5.60279\n",
        "Minibatch accuracy: 50.0%\n",
        "Validation accuracy at step 72000: 38.3%"
       ]
      },
      {
       "output_type": "stream",
       "stream": "stdout",
       "text": [
        "\n",
        "Minibatch loss at step"
       ]
      },
      {
       "output_type": "stream",
       "stream": "stdout",
       "text": [
        " 73000 : 5.5595\n",
        "Minibatch accuracy: 46.9%\n",
        "Validation accuracy at step 73000: 40.9%"
       ]
      },
      {
       "output_type": "stream",
       "stream": "stdout",
       "text": [
        "\n",
        "Minibatch loss at step"
       ]
      },
      {
       "output_type": "stream",
       "stream": "stdout",
       "text": [
        " 74000 : 5.55103\n",
        "Minibatch accuracy: 25.0%\n",
        "Validation accuracy at step 74000: 35.7%"
       ]
      },
      {
       "output_type": "stream",
       "stream": "stdout",
       "text": [
        "\n",
        "Minibatch loss at step"
       ]
      },
      {
       "output_type": "stream",
       "stream": "stdout",
       "text": [
        " 75000 : 6.15794\n",
        "Minibatch accuracy: 28.1%\n",
        "Validation accuracy at step 75000: 39.5%"
       ]
      },
      {
       "output_type": "stream",
       "stream": "stdout",
       "text": [
        "\n",
        "Test accuracy at step 75000: 40.5%"
       ]
      },
      {
       "output_type": "stream",
       "stream": "stdout",
       "text": [
        "\n",
        "Minibatch loss at step"
       ]
      },
      {
       "output_type": "stream",
       "stream": "stdout",
       "text": [
        " 76000 : 5.62291\n",
        "Minibatch accuracy: 34.4%\n",
        "Validation accuracy at step 76000: 36.2%"
       ]
      },
      {
       "output_type": "stream",
       "stream": "stdout",
       "text": [
        "\n",
        "Minibatch loss at step"
       ]
      },
      {
       "output_type": "stream",
       "stream": "stdout",
       "text": [
        " 77000 : 5.47021\n",
        "Minibatch accuracy: 31.2%\n",
        "Validation accuracy at step 77000: 36.9%"
       ]
      },
      {
       "output_type": "stream",
       "stream": "stdout",
       "text": [
        "\n",
        "Minibatch loss at step"
       ]
      },
      {
       "output_type": "stream",
       "stream": "stdout",
       "text": [
        " 78000 : 5.58229\n",
        "Minibatch accuracy: 37.5%\n",
        "Validation accuracy at step 78000: 36.7%"
       ]
      },
      {
       "output_type": "stream",
       "stream": "stdout",
       "text": [
        "\n",
        "Minibatch loss at step"
       ]
      },
      {
       "output_type": "stream",
       "stream": "stdout",
       "text": [
        " 79000 : 5.39798\n",
        "Minibatch accuracy: 37.5%\n",
        "Validation accuracy at step 79000: 38.5%"
       ]
      },
      {
       "output_type": "stream",
       "stream": "stdout",
       "text": [
        "\n",
        "Minibatch loss at step"
       ]
      },
      {
       "output_type": "stream",
       "stream": "stdout",
       "text": [
        " 80000 : 5.12718\n",
        "Minibatch accuracy: 37.5%\n",
        "Validation accuracy at step 80000: 41.0%"
       ]
      },
      {
       "output_type": "stream",
       "stream": "stdout",
       "text": [
        "\n",
        "Test accuracy at step 80000: 41.0%"
       ]
      },
      {
       "output_type": "stream",
       "stream": "stdout",
       "text": [
        "\n",
        "Minibatch loss at step"
       ]
      },
      {
       "output_type": "stream",
       "stream": "stdout",
       "text": [
        " 81000 : 5.78886\n",
        "Minibatch accuracy: 25.0%\n",
        "Validation accuracy at step 81000: 37.9%"
       ]
      },
      {
       "output_type": "stream",
       "stream": "stdout",
       "text": [
        "\n",
        "Minibatch loss at step"
       ]
      },
      {
       "output_type": "stream",
       "stream": "stdout",
       "text": [
        " 82000 : 5.28516\n",
        "Minibatch accuracy: 46.9%\n",
        "Validation accuracy at step 82000: 39.5%"
       ]
      },
      {
       "output_type": "stream",
       "stream": "stdout",
       "text": [
        "\n",
        "Minibatch loss at step"
       ]
      },
      {
       "output_type": "stream",
       "stream": "stdout",
       "text": [
        " 83000 : 5.55951\n",
        "Minibatch accuracy: 46.9%\n",
        "Validation accuracy at step 83000: 36.1%"
       ]
      },
      {
       "output_type": "stream",
       "stream": "stdout",
       "text": [
        "\n",
        "Minibatch loss at step"
       ]
      },
      {
       "output_type": "stream",
       "stream": "stdout",
       "text": [
        " 84000 : 5.69729\n",
        "Minibatch accuracy: 25.0%\n",
        "Validation accuracy at step 84000: 38.1%"
       ]
      },
      {
       "output_type": "stream",
       "stream": "stdout",
       "text": [
        "\n",
        "Minibatch loss at step"
       ]
      },
      {
       "output_type": "stream",
       "stream": "stdout",
       "text": [
        " 85000 : 5.04312\n",
        "Minibatch accuracy: 40.6%\n",
        "Validation accuracy at step 85000: 41.3%"
       ]
      },
      {
       "output_type": "stream",
       "stream": "stdout",
       "text": [
        "\n",
        "Test accuracy at step 85000: 41.9%"
       ]
      },
      {
       "output_type": "stream",
       "stream": "stdout",
       "text": [
        "\n",
        "Minibatch loss at step"
       ]
      },
      {
       "output_type": "stream",
       "stream": "stdout",
       "text": [
        " 86000 : 4.98917\n",
        "Minibatch accuracy: 43.8%\n",
        "Validation accuracy at step 86000: 39.0%"
       ]
      },
      {
       "output_type": "stream",
       "stream": "stdout",
       "text": [
        "\n",
        "Minibatch loss at step"
       ]
      },
      {
       "output_type": "stream",
       "stream": "stdout",
       "text": [
        " 87000 : 4.83607\n",
        "Minibatch accuracy: 56.2%\n",
        "Validation accuracy at step 87000: 36.4%"
       ]
      },
      {
       "output_type": "stream",
       "stream": "stdout",
       "text": [
        "\n",
        "Minibatch loss at step"
       ]
      },
      {
       "output_type": "stream",
       "stream": "stdout",
       "text": [
        " 88000 : 5.18432\n",
        "Minibatch accuracy: 46.9%\n",
        "Validation accuracy at step 88000: 41.3%"
       ]
      },
      {
       "output_type": "stream",
       "stream": "stdout",
       "text": [
        "\n",
        "Minibatch loss at step"
       ]
      },
      {
       "output_type": "stream",
       "stream": "stdout",
       "text": [
        " 89000 : 5.03615\n",
        "Minibatch accuracy: 56.2%\n",
        "Validation accuracy at step 89000: 37.3%"
       ]
      },
      {
       "output_type": "stream",
       "stream": "stdout",
       "text": [
        "\n",
        "Minibatch loss at step"
       ]
      },
      {
       "output_type": "stream",
       "stream": "stdout",
       "text": [
        " 90000 : 5.1826\n",
        "Minibatch accuracy: 40.6%\n",
        "Validation accuracy at step 90000: 40.5%"
       ]
      },
      {
       "output_type": "stream",
       "stream": "stdout",
       "text": [
        "\n",
        "Test accuracy at step 90000: 40.4%"
       ]
      },
      {
       "output_type": "stream",
       "stream": "stdout",
       "text": [
        "\n",
        "Minibatch loss at step"
       ]
      },
      {
       "output_type": "stream",
       "stream": "stdout",
       "text": [
        " 91000 : 5.282\n",
        "Minibatch accuracy: 34.4%\n",
        "Validation accuracy at step 91000: 40.9%"
       ]
      },
      {
       "output_type": "stream",
       "stream": "stdout",
       "text": [
        "\n",
        "Minibatch loss at step"
       ]
      },
      {
       "output_type": "stream",
       "stream": "stdout",
       "text": [
        " 92000 : 4.94867\n",
        "Minibatch accuracy: 46.9%\n",
        "Validation accuracy at step 92000: 41.6%"
       ]
      },
      {
       "output_type": "stream",
       "stream": "stdout",
       "text": [
        "\n",
        "Minibatch loss at step"
       ]
      },
      {
       "output_type": "stream",
       "stream": "stdout",
       "text": [
        " 93000 : 5.21715\n",
        "Minibatch accuracy: 40.6%\n",
        "Validation accuracy at step 93000: 39.2%"
       ]
      },
      {
       "output_type": "stream",
       "stream": "stdout",
       "text": [
        "\n",
        "Minibatch loss at step"
       ]
      },
      {
       "output_type": "stream",
       "stream": "stdout",
       "text": [
        " 94000 : 5.17233\n",
        "Minibatch accuracy: 37.5%\n",
        "Validation accuracy at step 94000: 39.6%"
       ]
      },
      {
       "output_type": "stream",
       "stream": "stdout",
       "text": [
        "\n",
        "Minibatch loss at step"
       ]
      },
      {
       "output_type": "stream",
       "stream": "stdout",
       "text": [
        " 95000 : 5.38936\n",
        "Minibatch accuracy: 37.5%\n",
        "Validation accuracy at step 95000: 36.3%"
       ]
      },
      {
       "output_type": "stream",
       "stream": "stdout",
       "text": [
        "\n",
        "Test accuracy at step 95000: 36.5%"
       ]
      },
      {
       "output_type": "stream",
       "stream": "stdout",
       "text": [
        "\n",
        "Minibatch loss at step"
       ]
      },
      {
       "output_type": "stream",
       "stream": "stdout",
       "text": [
        " 96000 : 5.19848\n",
        "Minibatch accuracy: 37.5%\n",
        "Validation accuracy at step 96000: 42.8%"
       ]
      },
      {
       "output_type": "stream",
       "stream": "stdout",
       "text": [
        "\n",
        "Minibatch loss at step"
       ]
      },
      {
       "output_type": "stream",
       "stream": "stdout",
       "text": [
        " 97000 : 4.88755\n",
        "Minibatch accuracy: 43.8%\n",
        "Validation accuracy at step 97000: 42.2%"
       ]
      },
      {
       "output_type": "stream",
       "stream": "stdout",
       "text": [
        "\n",
        "Minibatch loss at step"
       ]
      },
      {
       "output_type": "stream",
       "stream": "stdout",
       "text": [
        " 98000 : 4.85771\n",
        "Minibatch accuracy: 46.9%\n",
        "Validation accuracy at step 98000: 39.4%"
       ]
      },
      {
       "output_type": "stream",
       "stream": "stdout",
       "text": [
        "\n",
        "Minibatch loss at step"
       ]
      },
      {
       "output_type": "stream",
       "stream": "stdout",
       "text": [
        " 99000 : 4.74723\n",
        "Minibatch accuracy: 53.1%\n",
        "Validation accuracy at step 99000: 39.3%"
       ]
      },
      {
       "output_type": "stream",
       "stream": "stdout",
       "text": [
        "\n",
        "Minibatch loss at step"
       ]
      },
      {
       "output_type": "stream",
       "stream": "stdout",
       "text": [
        " 100000 : 4.95982\n",
        "Minibatch accuracy: 31.2%\n",
        "Validation accuracy at step 100000: 42.5%"
       ]
      },
      {
       "output_type": "stream",
       "stream": "stdout",
       "text": [
        "\n",
        "Test accuracy at step 100000: 43.4%"
       ]
      },
      {
       "output_type": "stream",
       "stream": "stdout",
       "text": [
        "\n",
        "Minibatch loss at step"
       ]
      },
      {
       "output_type": "stream",
       "stream": "stdout",
       "text": [
        " 101000 : 4.69648\n",
        "Minibatch accuracy: 50.0%\n",
        "Validation accuracy at step 101000: 38.7%"
       ]
      },
      {
       "output_type": "stream",
       "stream": "stdout",
       "text": [
        "\n",
        "Minibatch loss at step"
       ]
      },
      {
       "output_type": "stream",
       "stream": "stdout",
       "text": [
        " 102000 : 4.94453\n",
        "Minibatch accuracy: 43.8%\n",
        "Validation accuracy at step 102000: 38.0%"
       ]
      },
      {
       "output_type": "stream",
       "stream": "stdout",
       "text": [
        "\n",
        "Minibatch loss at step"
       ]
      },
      {
       "output_type": "stream",
       "stream": "stdout",
       "text": [
        " 103000 : 5.04722\n",
        "Minibatch accuracy: 34.4%\n",
        "Validation accuracy at step 103000: 41.8%"
       ]
      },
      {
       "output_type": "stream",
       "stream": "stdout",
       "text": [
        "\n",
        "Minibatch loss at step"
       ]
      },
      {
       "output_type": "stream",
       "stream": "stdout",
       "text": [
        " 104000 : 4.98436\n",
        "Minibatch accuracy: 37.5%\n",
        "Validation accuracy at step 104000: 41.2%"
       ]
      },
      {
       "output_type": "stream",
       "stream": "stdout",
       "text": [
        "\n",
        "Minibatch loss at step"
       ]
      },
      {
       "output_type": "stream",
       "stream": "stdout",
       "text": [
        " 105000 : 4.63876\n",
        "Minibatch accuracy: 53.1%\n",
        "Validation accuracy at step 105000: 39.5%"
       ]
      },
      {
       "output_type": "stream",
       "stream": "stdout",
       "text": [
        "\n",
        "Test accuracy at step 105000: 39.8%"
       ]
      },
      {
       "output_type": "stream",
       "stream": "stdout",
       "text": [
        "\n",
        "Minibatch loss at step"
       ]
      },
      {
       "output_type": "stream",
       "stream": "stdout",
       "text": [
        " 106000 : 4.96403\n",
        "Minibatch accuracy: 50.0%\n",
        "Validation accuracy at step 106000: 41.1%"
       ]
      },
      {
       "output_type": "stream",
       "stream": "stdout",
       "text": [
        "\n",
        "Minibatch loss at step"
       ]
      },
      {
       "output_type": "stream",
       "stream": "stdout",
       "text": [
        " 107000 : 5.13315\n",
        "Minibatch accuracy: 34.4%\n",
        "Validation accuracy at step 107000: 41.1%"
       ]
      },
      {
       "output_type": "stream",
       "stream": "stdout",
       "text": [
        "\n",
        "Minibatch loss at step"
       ]
      },
      {
       "output_type": "stream",
       "stream": "stdout",
       "text": [
        " 108000 : 4.51393\n",
        "Minibatch accuracy: 43.8%\n",
        "Validation accuracy at step 108000: 40.9%"
       ]
      },
      {
       "output_type": "stream",
       "stream": "stdout",
       "text": [
        "\n",
        "Minibatch loss at step"
       ]
      },
      {
       "output_type": "stream",
       "stream": "stdout",
       "text": [
        " 109000 : 4.59314\n",
        "Minibatch accuracy: 59.4%\n",
        "Validation accuracy at step 109000: 40.8%"
       ]
      },
      {
       "output_type": "stream",
       "stream": "stdout",
       "text": [
        "\n",
        "Minibatch loss at step"
       ]
      },
      {
       "output_type": "stream",
       "stream": "stdout",
       "text": [
        " 110000 : 4.47396\n",
        "Minibatch accuracy: 56.2%\n",
        "Validation accuracy at step 110000: 41.7%"
       ]
      },
      {
       "output_type": "stream",
       "stream": "stdout",
       "text": [
        "\n",
        "Test accuracy at step 110000: 42.4%"
       ]
      },
      {
       "output_type": "stream",
       "stream": "stdout",
       "text": [
        "\n",
        "Minibatch loss at step"
       ]
      },
      {
       "output_type": "stream",
       "stream": "stdout",
       "text": [
        " 111000 : 4.60204\n",
        "Minibatch accuracy: 43.8%\n",
        "Validation accuracy at step 111000: 42.3%"
       ]
      },
      {
       "output_type": "stream",
       "stream": "stdout",
       "text": [
        "\n",
        "Minibatch loss at step"
       ]
      },
      {
       "output_type": "stream",
       "stream": "stdout",
       "text": [
        " 112000 : 4.29613\n",
        "Minibatch accuracy: 46.9%\n",
        "Validation accuracy at step 112000: 41.8%"
       ]
      },
      {
       "output_type": "stream",
       "stream": "stdout",
       "text": [
        "\n",
        "Minibatch loss at step"
       ]
      },
      {
       "output_type": "stream",
       "stream": "stdout",
       "text": [
        " 113000 : 4.59769\n",
        "Minibatch accuracy: 40.6%\n",
        "Validation accuracy at step 113000: 41.6%"
       ]
      },
      {
       "output_type": "stream",
       "stream": "stdout",
       "text": [
        "\n",
        "Minibatch loss at step"
       ]
      },
      {
       "output_type": "stream",
       "stream": "stdout",
       "text": [
        " 114000 : 4.95159\n",
        "Minibatch accuracy: 40.6%\n",
        "Validation accuracy at step 114000: 40.3%"
       ]
      },
      {
       "output_type": "stream",
       "stream": "stdout",
       "text": [
        "\n",
        "Minibatch loss at step"
       ]
      },
      {
       "output_type": "stream",
       "stream": "stdout",
       "text": [
        " 115000 : 4.94506\n",
        "Minibatch accuracy: 34.4%\n",
        "Validation accuracy at step 115000: 42.2%"
       ]
      },
      {
       "output_type": "stream",
       "stream": "stdout",
       "text": [
        "\n",
        "Test accuracy at step 115000: 42.6%"
       ]
      },
      {
       "output_type": "stream",
       "stream": "stdout",
       "text": [
        "\n",
        "Minibatch loss at step"
       ]
      },
      {
       "output_type": "stream",
       "stream": "stdout",
       "text": [
        " 116000 : 4.99578\n",
        "Minibatch accuracy: 40.6%\n",
        "Validation accuracy at step 116000: 42.5%"
       ]
      },
      {
       "output_type": "stream",
       "stream": "stdout",
       "text": [
        "\n",
        "Minibatch loss at step"
       ]
      },
      {
       "output_type": "stream",
       "stream": "stdout",
       "text": [
        " 117000 : 4.69083\n",
        "Minibatch accuracy: 50.0%\n",
        "Validation accuracy at step 117000: 41.5%"
       ]
      },
      {
       "output_type": "stream",
       "stream": "stdout",
       "text": [
        "\n",
        "Minibatch loss at step"
       ]
      },
      {
       "output_type": "stream",
       "stream": "stdout",
       "text": [
        " 118000 : 4.40664\n",
        "Minibatch accuracy: 56.2%\n",
        "Validation accuracy at step 118000: 42.6%"
       ]
      },
      {
       "output_type": "stream",
       "stream": "stdout",
       "text": [
        "\n",
        "Minibatch loss at step"
       ]
      },
      {
       "output_type": "stream",
       "stream": "stdout",
       "text": [
        " 119000 : 4.57783\n",
        "Minibatch accuracy: 34.4%\n",
        "Validation accuracy at step 119000: 40.6%"
       ]
      },
      {
       "output_type": "stream",
       "stream": "stdout",
       "text": [
        "\n",
        "Minibatch loss at step"
       ]
      },
      {
       "output_type": "stream",
       "stream": "stdout",
       "text": [
        " 120000 : 4.52448\n",
        "Minibatch accuracy: 53.1%\n",
        "Validation accuracy at step 120000: 40.8%"
       ]
      },
      {
       "output_type": "stream",
       "stream": "stdout",
       "text": [
        "\n",
        "Test accuracy at step 120000: 41.0%"
       ]
      },
      {
       "output_type": "stream",
       "stream": "stdout",
       "text": [
        "\n",
        "Minibatch loss at step"
       ]
      },
      {
       "output_type": "stream",
       "stream": "stdout",
       "text": [
        " 121000 : 4.51812\n",
        "Minibatch accuracy: 46.9%\n",
        "Validation accuracy at step 121000: 42.3%"
       ]
      },
      {
       "output_type": "stream",
       "stream": "stdout",
       "text": [
        "\n",
        "Minibatch loss at step"
       ]
      },
      {
       "output_type": "stream",
       "stream": "stdout",
       "text": [
        " 122000 : 4.51943\n",
        "Minibatch accuracy: 31.2%\n",
        "Validation accuracy at step 122000: 42.4%"
       ]
      },
      {
       "output_type": "stream",
       "stream": "stdout",
       "text": [
        "\n",
        "Minibatch loss at step"
       ]
      },
      {
       "output_type": "stream",
       "stream": "stdout",
       "text": [
        " 123000 : 4.73298\n",
        "Minibatch accuracy: 37.5%\n",
        "Validation accuracy at step 123000: 41.3%"
       ]
      },
      {
       "output_type": "stream",
       "stream": "stdout",
       "text": [
        "\n",
        "Minibatch loss at step"
       ]
      },
      {
       "output_type": "stream",
       "stream": "stdout",
       "text": [
        " 124000 : 4.61484\n",
        "Minibatch accuracy: 40.6%\n",
        "Validation accuracy at step 124000: 37.2%"
       ]
      },
      {
       "output_type": "stream",
       "stream": "stdout",
       "text": [
        "\n",
        "Minibatch loss at step"
       ]
      },
      {
       "output_type": "stream",
       "stream": "stdout",
       "text": [
        " 125000 : 4.53248\n",
        "Minibatch accuracy: 46.9%\n",
        "Validation accuracy at step 125000: 43.6%"
       ]
      },
      {
       "output_type": "stream",
       "stream": "stdout",
       "text": [
        "\n",
        "Test accuracy at step 125000: 44.1%"
       ]
      },
      {
       "output_type": "stream",
       "stream": "stdout",
       "text": [
        "\n",
        "Minibatch loss at step"
       ]
      },
      {
       "output_type": "stream",
       "stream": "stdout",
       "text": [
        " 126000 : 4.52301\n",
        "Minibatch accuracy: 37.5%\n",
        "Validation accuracy at step 126000: 43.0%"
       ]
      },
      {
       "output_type": "stream",
       "stream": "stdout",
       "text": [
        "\n",
        "Minibatch loss at step"
       ]
      },
      {
       "output_type": "stream",
       "stream": "stdout",
       "text": [
        " 127000 : 4.4769\n",
        "Minibatch accuracy: 43.8%\n",
        "Validation accuracy at step 127000: 39.7%"
       ]
      },
      {
       "output_type": "stream",
       "stream": "stdout",
       "text": [
        "\n",
        "Minibatch loss at step"
       ]
      },
      {
       "output_type": "stream",
       "stream": "stdout",
       "text": [
        " 128000 : 4.5751\n",
        "Minibatch accuracy: 28.1%\n",
        "Validation accuracy at step 128000: 42.0%"
       ]
      },
      {
       "output_type": "stream",
       "stream": "stdout",
       "text": [
        "\n",
        "Minibatch loss at step"
       ]
      },
      {
       "output_type": "stream",
       "stream": "stdout",
       "text": [
        " 129000 : 4.32737\n",
        "Minibatch accuracy: 43.8%\n",
        "Validation accuracy at step 129000: 42.0%"
       ]
      },
      {
       "output_type": "stream",
       "stream": "stdout",
       "text": [
        "\n",
        "Minibatch loss at step"
       ]
      },
      {
       "output_type": "stream",
       "stream": "stdout",
       "text": [
        " 130000 : 4.76478\n",
        "Minibatch accuracy: 28.1%\n",
        "Validation accuracy at step 130000: 39.1%"
       ]
      },
      {
       "output_type": "stream",
       "stream": "stdout",
       "text": [
        "\n",
        "Test accuracy at step 130000: 39.3%"
       ]
      },
      {
       "output_type": "stream",
       "stream": "stdout",
       "text": [
        "\n",
        "Minibatch loss at step"
       ]
      },
      {
       "output_type": "stream",
       "stream": "stdout",
       "text": [
        " 131000 : 4.64097\n",
        "Minibatch accuracy: 31.2%\n",
        "Validation accuracy at step 131000: 42.2%"
       ]
      },
      {
       "output_type": "stream",
       "stream": "stdout",
       "text": [
        "\n",
        "Minibatch loss at step"
       ]
      },
      {
       "output_type": "stream",
       "stream": "stdout",
       "text": [
        " 132000 : 4.11784\n",
        "Minibatch accuracy: 56.2%\n",
        "Validation accuracy at step 132000: 42.7%"
       ]
      },
      {
       "output_type": "stream",
       "stream": "stdout",
       "text": [
        "\n",
        "Minibatch loss at step"
       ]
      },
      {
       "output_type": "stream",
       "stream": "stdout",
       "text": [
        " 133000 : 4.10454\n",
        "Minibatch accuracy: 50.0%\n",
        "Validation accuracy at step 133000: 41.7%"
       ]
      },
      {
       "output_type": "stream",
       "stream": "stdout",
       "text": [
        "\n",
        "Minibatch loss at step"
       ]
      },
      {
       "output_type": "stream",
       "stream": "stdout",
       "text": [
        " 134000 : 4.3704\n",
        "Minibatch accuracy: 50.0%\n",
        "Validation accuracy at step 134000: 41.5%"
       ]
      },
      {
       "output_type": "stream",
       "stream": "stdout",
       "text": [
        "\n",
        "Minibatch loss at step"
       ]
      },
      {
       "output_type": "stream",
       "stream": "stdout",
       "text": [
        " 135000 : 4.65344\n",
        "Minibatch accuracy: 37.5%\n",
        "Validation accuracy at step 135000: 44.3%"
       ]
      },
      {
       "output_type": "stream",
       "stream": "stdout",
       "text": [
        "\n",
        "Test accuracy at step 135000: 44.7%"
       ]
      },
      {
       "output_type": "stream",
       "stream": "stdout",
       "text": [
        "\n",
        "Minibatch loss at step"
       ]
      },
      {
       "output_type": "stream",
       "stream": "stdout",
       "text": [
        " 136000 : 4.33409\n",
        "Minibatch accuracy: 40.6%\n",
        "Validation accuracy at step 136000: 43.0%"
       ]
      },
      {
       "output_type": "stream",
       "stream": "stdout",
       "text": [
        "\n",
        "Minibatch loss at step"
       ]
      },
      {
       "output_type": "stream",
       "stream": "stdout",
       "text": [
        " 137000 : 4.24196\n",
        "Minibatch accuracy: 43.8%\n",
        "Validation accuracy at step 137000: 41.5%"
       ]
      },
      {
       "output_type": "stream",
       "stream": "stdout",
       "text": [
        "\n",
        "Minibatch loss at step"
       ]
      },
      {
       "output_type": "stream",
       "stream": "stdout",
       "text": [
        " 138000 : 4.62988\n",
        "Minibatch accuracy: 28.1%\n",
        "Validation accuracy at step 138000: 42.8%"
       ]
      },
      {
       "output_type": "stream",
       "stream": "stdout",
       "text": [
        "\n",
        "Minibatch loss at step"
       ]
      },
      {
       "output_type": "stream",
       "stream": "stdout",
       "text": [
        " 139000 : 4.13212\n",
        "Minibatch accuracy: 50.0%\n",
        "Validation accuracy at step 139000: 42.9%"
       ]
      },
      {
       "output_type": "stream",
       "stream": "stdout",
       "text": [
        "\n",
        "Minibatch loss at step"
       ]
      },
      {
       "output_type": "stream",
       "stream": "stdout",
       "text": [
        " 140000 : 4.28199\n",
        "Minibatch accuracy: 37.5%\n",
        "Validation accuracy at step 140000: 43.4%"
       ]
      },
      {
       "output_type": "stream",
       "stream": "stdout",
       "text": [
        "\n",
        "Test accuracy at step 140000: 44.0%"
       ]
      },
      {
       "output_type": "stream",
       "stream": "stdout",
       "text": [
        "\n",
        "Minibatch loss at step"
       ]
      },
      {
       "output_type": "stream",
       "stream": "stdout",
       "text": [
        " 141000 : 4.374\n",
        "Minibatch accuracy: 40.6%\n",
        "Validation accuracy at step 141000: 43.5%"
       ]
      },
      {
       "output_type": "stream",
       "stream": "stdout",
       "text": [
        "\n",
        "Minibatch loss at step"
       ]
      },
      {
       "output_type": "stream",
       "stream": "stdout",
       "text": [
        " 142000 : 4.55099\n",
        "Minibatch accuracy: 40.6%\n",
        "Validation accuracy at step 142000: 42.1%"
       ]
      },
      {
       "output_type": "stream",
       "stream": "stdout",
       "text": [
        "\n",
        "Minibatch loss at step"
       ]
      },
      {
       "output_type": "stream",
       "stream": "stdout",
       "text": [
        " 143000 : 4.34105\n",
        "Minibatch accuracy: 34.4%\n",
        "Validation accuracy at step 143000: 42.3%"
       ]
      },
      {
       "output_type": "stream",
       "stream": "stdout",
       "text": [
        "\n",
        "Minibatch loss at step"
       ]
      },
      {
       "output_type": "stream",
       "stream": "stdout",
       "text": [
        " 144000 : 4.08786\n",
        "Minibatch accuracy: 46.9%\n",
        "Validation accuracy at step 144000: 42.6%"
       ]
      },
      {
       "output_type": "stream",
       "stream": "stdout",
       "text": [
        "\n",
        "Minibatch loss at step"
       ]
      },
      {
       "output_type": "stream",
       "stream": "stdout",
       "text": [
        " 145000 : 4.07666\n",
        "Minibatch accuracy: 50.0%\n",
        "Validation accuracy at step 145000: 42.1%"
       ]
      },
      {
       "output_type": "stream",
       "stream": "stdout",
       "text": [
        "\n",
        "Test accuracy at step 145000: 42.3%"
       ]
      },
      {
       "output_type": "stream",
       "stream": "stdout",
       "text": [
        "\n",
        "Minibatch loss at step"
       ]
      },
      {
       "output_type": "stream",
       "stream": "stdout",
       "text": [
        " 146000 : 4.32482\n",
        "Minibatch accuracy: 50.0%\n",
        "Validation accuracy at step 146000: 42.5%"
       ]
      },
      {
       "output_type": "stream",
       "stream": "stdout",
       "text": [
        "\n",
        "Minibatch loss at step"
       ]
      },
      {
       "output_type": "stream",
       "stream": "stdout",
       "text": [
        " 147000 : 4.25884\n",
        "Minibatch accuracy: 43.8%\n",
        "Validation accuracy at step 147000: 43.5%"
       ]
      },
      {
       "output_type": "stream",
       "stream": "stdout",
       "text": [
        "\n",
        "Minibatch loss at step"
       ]
      },
      {
       "output_type": "stream",
       "stream": "stdout",
       "text": [
        " 148000 : 4.48872\n",
        "Minibatch accuracy: 31.2%\n",
        "Validation accuracy at step 148000: 43.3%"
       ]
      },
      {
       "output_type": "stream",
       "stream": "stdout",
       "text": [
        "\n",
        "Minibatch loss at step"
       ]
      },
      {
       "output_type": "stream",
       "stream": "stdout",
       "text": [
        " 149000 : 4.1252\n",
        "Minibatch accuracy: 46.9%\n",
        "Validation accuracy at step 149000: 42.6%"
       ]
      },
      {
       "output_type": "stream",
       "stream": "stdout",
       "text": [
        "\n",
        "Minibatch loss at step"
       ]
      },
      {
       "output_type": "stream",
       "stream": "stdout",
       "text": [
        " 150000 : 3.9245\n",
        "Minibatch accuracy: 56.2%\n",
        "Validation accuracy at step 150000: 45.0%"
       ]
      },
      {
       "output_type": "stream",
       "stream": "stdout",
       "text": [
        "\n",
        "Test accuracy at step 150000: 45.6%"
       ]
      },
      {
       "output_type": "stream",
       "stream": "stdout",
       "text": [
        "\n",
        "Minibatch loss at step"
       ]
      },
      {
       "output_type": "stream",
       "stream": "stdout",
       "text": [
        " 151000 : 4.14231\n",
        "Minibatch accuracy: 46.9%\n",
        "Validation accuracy at step 151000: 40.2%"
       ]
      },
      {
       "output_type": "stream",
       "stream": "stdout",
       "text": [
        "\n",
        "Minibatch loss at step"
       ]
      },
      {
       "output_type": "stream",
       "stream": "stdout",
       "text": [
        " 152000 : 4.35445\n",
        "Minibatch accuracy: 46.9%\n",
        "Validation accuracy at step 152000: 40.6%"
       ]
      },
      {
       "output_type": "stream",
       "stream": "stdout",
       "text": [
        "\n",
        "Minibatch loss at step"
       ]
      },
      {
       "output_type": "stream",
       "stream": "stdout",
       "text": [
        " 153000 : 4.20676\n",
        "Minibatch accuracy: 25.0%\n",
        "Validation accuracy at step 153000: 43.2%"
       ]
      },
      {
       "output_type": "stream",
       "stream": "stdout",
       "text": [
        "\n",
        "Minibatch loss at step"
       ]
      },
      {
       "output_type": "stream",
       "stream": "stdout",
       "text": [
        " 154000 : 3.97438\n",
        "Minibatch accuracy: 46.9%\n",
        "Validation accuracy at step 154000: 42.7%"
       ]
      },
      {
       "output_type": "stream",
       "stream": "stdout",
       "text": [
        "\n",
        "Minibatch loss at step"
       ]
      },
      {
       "output_type": "stream",
       "stream": "stdout",
       "text": [
        " 155000 : 4.06232\n",
        "Minibatch accuracy: 37.5%\n",
        "Validation accuracy at step 155000: 44.1%"
       ]
      },
      {
       "output_type": "stream",
       "stream": "stdout",
       "text": [
        "\n",
        "Test accuracy at step 155000: 43.7%"
       ]
      },
      {
       "output_type": "stream",
       "stream": "stdout",
       "text": [
        "\n",
        "Minibatch loss at step"
       ]
      },
      {
       "output_type": "stream",
       "stream": "stdout",
       "text": [
        " 156000 : 4.27204\n",
        "Minibatch accuracy: 37.5%\n",
        "Validation accuracy at step 156000: 42.9%"
       ]
      },
      {
       "output_type": "stream",
       "stream": "stdout",
       "text": [
        "\n",
        "Minibatch loss at step"
       ]
      },
      {
       "output_type": "stream",
       "stream": "stdout",
       "text": [
        " 157000 : 3.8647\n",
        "Minibatch accuracy: 50.0%\n",
        "Validation accuracy at step 157000: 44.3%"
       ]
      },
      {
       "output_type": "stream",
       "stream": "stdout",
       "text": [
        "\n",
        "Minibatch loss at step"
       ]
      },
      {
       "output_type": "stream",
       "stream": "stdout",
       "text": [
        " 158000 : 3.8084\n",
        "Minibatch accuracy: 53.1%\n",
        "Validation accuracy at step 158000: 44.3%"
       ]
      },
      {
       "output_type": "stream",
       "stream": "stdout",
       "text": [
        "\n",
        "Minibatch loss at step"
       ]
      },
      {
       "output_type": "stream",
       "stream": "stdout",
       "text": [
        " 159000 : 4.18272\n",
        "Minibatch accuracy: 40.6%\n",
        "Validation accuracy at step 159000: 43.6%"
       ]
      },
      {
       "output_type": "stream",
       "stream": "stdout",
       "text": [
        "\n",
        "Minibatch loss at step"
       ]
      },
      {
       "output_type": "stream",
       "stream": "stdout",
       "text": [
        " 160000 : 4.1051\n",
        "Minibatch accuracy: 50.0%\n",
        "Validation accuracy at step 160000: 44.8%"
       ]
      },
      {
       "output_type": "stream",
       "stream": "stdout",
       "text": [
        "\n",
        "Test accuracy at step 160000: 44.8%"
       ]
      },
      {
       "output_type": "stream",
       "stream": "stdout",
       "text": [
        "\n",
        "Minibatch loss at step"
       ]
      },
      {
       "output_type": "stream",
       "stream": "stdout",
       "text": [
        " 161000 : 4.06464\n",
        "Minibatch accuracy: 46.9%\n",
        "Validation accuracy at step 161000: 44.0%"
       ]
      },
      {
       "output_type": "stream",
       "stream": "stdout",
       "text": [
        "\n",
        "Minibatch loss at step"
       ]
      },
      {
       "output_type": "stream",
       "stream": "stdout",
       "text": [
        " 162000 : 4.19652\n",
        "Minibatch accuracy: 40.6%\n",
        "Validation accuracy at step 162000: 43.6%"
       ]
      },
      {
       "output_type": "stream",
       "stream": "stdout",
       "text": [
        "\n",
        "Minibatch loss at step"
       ]
      },
      {
       "output_type": "stream",
       "stream": "stdout",
       "text": [
        " 163000 : 4.03043\n",
        "Minibatch accuracy: 31.2%\n",
        "Validation accuracy at step 163000: 44.7%"
       ]
      },
      {
       "output_type": "stream",
       "stream": "stdout",
       "text": [
        "\n",
        "Minibatch loss at step"
       ]
      },
      {
       "output_type": "stream",
       "stream": "stdout",
       "text": [
        " 164000 : 4.12288\n",
        "Minibatch accuracy: 43.8%\n",
        "Validation accuracy at step 164000: 42.9%"
       ]
      },
      {
       "output_type": "stream",
       "stream": "stdout",
       "text": [
        "\n",
        "Minibatch loss at step"
       ]
      },
      {
       "output_type": "stream",
       "stream": "stdout",
       "text": [
        " 165000 : 3.8562\n",
        "Minibatch accuracy: 53.1%\n",
        "Validation accuracy at step 165000: 44.1%"
       ]
      },
      {
       "output_type": "stream",
       "stream": "stdout",
       "text": [
        "\n",
        "Test accuracy at step 165000: 44.8%"
       ]
      },
      {
       "output_type": "stream",
       "stream": "stdout",
       "text": [
        "\n",
        "Minibatch loss at step"
       ]
      },
      {
       "output_type": "stream",
       "stream": "stdout",
       "text": [
        " 166000 : 4.13375\n",
        "Minibatch accuracy: 43.8%\n",
        "Validation accuracy at step 166000: 44.4%"
       ]
      },
      {
       "output_type": "stream",
       "stream": "stdout",
       "text": [
        "\n",
        "Minibatch loss at step"
       ]
      },
      {
       "output_type": "stream",
       "stream": "stdout",
       "text": [
        " 167000 : 3.72396\n",
        "Minibatch accuracy: 56.2%\n",
        "Validation accuracy at step 167000: 43.8%"
       ]
      },
      {
       "output_type": "stream",
       "stream": "stdout",
       "text": [
        "\n",
        "Minibatch loss at step"
       ]
      },
      {
       "output_type": "stream",
       "stream": "stdout",
       "text": [
        " 168000 : 4.27905\n",
        "Minibatch accuracy: 37.5%\n",
        "Validation accuracy at step 168000: 44.0%"
       ]
      },
      {
       "output_type": "stream",
       "stream": "stdout",
       "text": [
        "\n",
        "Minibatch loss at step"
       ]
      },
      {
       "output_type": "stream",
       "stream": "stdout",
       "text": [
        " 169000 : 4.13492\n",
        "Minibatch accuracy: 46.9%\n",
        "Validation accuracy at step 169000: 43.0%"
       ]
      },
      {
       "output_type": "stream",
       "stream": "stdout",
       "text": [
        "\n",
        "Minibatch loss at step"
       ]
      },
      {
       "output_type": "stream",
       "stream": "stdout",
       "text": [
        " 170000 : 4.00198\n",
        "Minibatch accuracy: 46.9%\n",
        "Validation accuracy at step 170000: 43.2%"
       ]
      },
      {
       "output_type": "stream",
       "stream": "stdout",
       "text": [
        "\n",
        "Test accuracy at step 170000: 44.1%"
       ]
      },
      {
       "output_type": "stream",
       "stream": "stdout",
       "text": [
        "\n",
        "Minibatch loss at step"
       ]
      },
      {
       "output_type": "stream",
       "stream": "stdout",
       "text": [
        " 171000 : 3.9847\n",
        "Minibatch accuracy: 59.4%\n",
        "Validation accuracy at step 171000: 43.6%"
       ]
      },
      {
       "output_type": "stream",
       "stream": "stdout",
       "text": [
        "\n",
        "Minibatch loss at step"
       ]
      },
      {
       "output_type": "stream",
       "stream": "stdout",
       "text": [
        " 172000 : 3.71068\n",
        "Minibatch accuracy: 56.2%\n",
        "Validation accuracy at step 172000: 44.2%"
       ]
      },
      {
       "output_type": "stream",
       "stream": "stdout",
       "text": [
        "\n",
        "Minibatch loss at step"
       ]
      },
      {
       "output_type": "stream",
       "stream": "stdout",
       "text": [
        " 173000 : 3.9498\n",
        "Minibatch accuracy: 43.8%\n",
        "Validation accuracy at step 173000: 43.9%"
       ]
      },
      {
       "output_type": "stream",
       "stream": "stdout",
       "text": [
        "\n",
        "Minibatch loss at step"
       ]
      },
      {
       "output_type": "stream",
       "stream": "stdout",
       "text": [
        " 174000 : 3.98585\n",
        "Minibatch accuracy: 40.6%\n",
        "Validation accuracy at step 174000: 43.2%"
       ]
      },
      {
       "output_type": "stream",
       "stream": "stdout",
       "text": [
        "\n",
        "Minibatch loss at step"
       ]
      },
      {
       "output_type": "stream",
       "stream": "stdout",
       "text": [
        " 175000 : 4.41445\n",
        "Minibatch accuracy: 31.2%\n",
        "Validation accuracy at step 175000: 44.4%"
       ]
      },
      {
       "output_type": "stream",
       "stream": "stdout",
       "text": [
        "\n",
        "Test accuracy at step 175000: 45.2%"
       ]
      },
      {
       "output_type": "stream",
       "stream": "stdout",
       "text": [
        "\n",
        "Minibatch loss at step"
       ]
      },
      {
       "output_type": "stream",
       "stream": "stdout",
       "text": [
        " 176000 : 4.07652\n",
        "Minibatch accuracy: 34.4%\n",
        "Validation accuracy at step 176000: 42.8%"
       ]
      },
      {
       "output_type": "stream",
       "stream": "stdout",
       "text": [
        "\n",
        "Minibatch loss at step"
       ]
      },
      {
       "output_type": "stream",
       "stream": "stdout",
       "text": [
        " 177000 : 4.24112\n",
        "Minibatch accuracy: 34.4%\n",
        "Validation accuracy at step 177000: 45.2%"
       ]
      },
      {
       "output_type": "stream",
       "stream": "stdout",
       "text": [
        "\n",
        "Minibatch loss at step"
       ]
      },
      {
       "output_type": "stream",
       "stream": "stdout",
       "text": [
        " 178000 : 4.2257\n",
        "Minibatch accuracy: 31.2%\n",
        "Validation accuracy at step 178000: 43.2%"
       ]
      },
      {
       "output_type": "stream",
       "stream": "stdout",
       "text": [
        "\n",
        "Minibatch loss at step"
       ]
      },
      {
       "output_type": "stream",
       "stream": "stdout",
       "text": [
        " 179000 : 4.16141\n",
        "Minibatch accuracy: 34.4%\n",
        "Validation accuracy at step 179000: 43.0%"
       ]
      },
      {
       "output_type": "stream",
       "stream": "stdout",
       "text": [
        "\n",
        "Minibatch loss at step"
       ]
      },
      {
       "output_type": "stream",
       "stream": "stdout",
       "text": [
        " 180000 : 3.67748\n",
        "Minibatch accuracy: 59.4%\n",
        "Validation accuracy at step 180000: 44.3%"
       ]
      },
      {
       "output_type": "stream",
       "stream": "stdout",
       "text": [
        "\n",
        "Test accuracy at step 180000: 44.8%"
       ]
      },
      {
       "output_type": "stream",
       "stream": "stdout",
       "text": [
        "\n",
        "Minibatch loss at step"
       ]
      },
      {
       "output_type": "stream",
       "stream": "stdout",
       "text": [
        " 181000 : 3.80812\n",
        "Minibatch accuracy: 50.0%\n",
        "Validation accuracy at step 181000: 42.8%"
       ]
      },
      {
       "output_type": "stream",
       "stream": "stdout",
       "text": [
        "\n",
        "Minibatch loss at step"
       ]
      },
      {
       "output_type": "stream",
       "stream": "stdout",
       "text": [
        " 182000 : 3.71894\n",
        "Minibatch accuracy: 56.2%\n",
        "Validation accuracy at step 182000: 44.0%"
       ]
      },
      {
       "output_type": "stream",
       "stream": "stdout",
       "text": [
        "\n",
        "Minibatch loss at step"
       ]
      },
      {
       "output_type": "stream",
       "stream": "stdout",
       "text": [
        " 183000 : 4.20584\n",
        "Minibatch accuracy: 34.4%\n",
        "Validation accuracy at step 183000: 44.9%"
       ]
      },
      {
       "output_type": "stream",
       "stream": "stdout",
       "text": [
        "\n",
        "Minibatch loss at step"
       ]
      },
      {
       "output_type": "stream",
       "stream": "stdout",
       "text": [
        " 184000 : 3.79795\n",
        "Minibatch accuracy: 50.0%\n",
        "Validation accuracy at step 184000: 43.9%"
       ]
      },
      {
       "output_type": "stream",
       "stream": "stdout",
       "text": [
        "\n",
        "Minibatch loss at step"
       ]
      },
      {
       "output_type": "stream",
       "stream": "stdout",
       "text": [
        " 185000 : 3.90412\n",
        "Minibatch accuracy: 43.8%\n",
        "Validation accuracy at step 185000: 44.1%"
       ]
      },
      {
       "output_type": "stream",
       "stream": "stdout",
       "text": [
        "\n",
        "Test accuracy at step 185000: 43.8%"
       ]
      },
      {
       "output_type": "stream",
       "stream": "stdout",
       "text": [
        "\n",
        "Minibatch loss at step"
       ]
      },
      {
       "output_type": "stream",
       "stream": "stdout",
       "text": [
        " 186000 : 3.62995\n",
        "Minibatch accuracy: 56.2%\n",
        "Validation accuracy at step 186000: 40.5%"
       ]
      },
      {
       "output_type": "stream",
       "stream": "stdout",
       "text": [
        "\n",
        "Minibatch loss at step"
       ]
      },
      {
       "output_type": "stream",
       "stream": "stdout",
       "text": [
        " 187000 : 4.01238\n",
        "Minibatch accuracy: 37.5%\n",
        "Validation accuracy at step 187000: 43.1%"
       ]
      },
      {
       "output_type": "stream",
       "stream": "stdout",
       "text": [
        "\n",
        "Minibatch loss at step"
       ]
      },
      {
       "output_type": "stream",
       "stream": "stdout",
       "text": [
        " 188000 : 3.8385\n",
        "Minibatch accuracy: 46.9%\n",
        "Validation accuracy at step 188000: 44.6%"
       ]
      },
      {
       "output_type": "stream",
       "stream": "stdout",
       "text": [
        "\n",
        "Minibatch loss at step"
       ]
      },
      {
       "output_type": "stream",
       "stream": "stdout",
       "text": [
        " 189000 : 3.78175\n",
        "Minibatch accuracy: 53.1%\n",
        "Validation accuracy at step 189000: 45.8%"
       ]
      },
      {
       "output_type": "stream",
       "stream": "stdout",
       "text": [
        "\n",
        "Minibatch loss at step"
       ]
      },
      {
       "output_type": "stream",
       "stream": "stdout",
       "text": [
        " 190000 : 3.9516\n",
        "Minibatch accuracy: 40.6%\n",
        "Validation accuracy at step 190000: 43.1%"
       ]
      },
      {
       "output_type": "stream",
       "stream": "stdout",
       "text": [
        "\n",
        "Test accuracy at step 190000: 42.9%"
       ]
      },
      {
       "output_type": "stream",
       "stream": "stdout",
       "text": [
        "\n",
        "Minibatch loss at step"
       ]
      },
      {
       "output_type": "stream",
       "stream": "stdout",
       "text": [
        " 191000 : 3.91189\n",
        "Minibatch accuracy: 46.9%\n",
        "Validation accuracy at step 191000: 45.0%"
       ]
      },
      {
       "output_type": "stream",
       "stream": "stdout",
       "text": [
        "\n",
        "Minibatch loss at step"
       ]
      },
      {
       "output_type": "stream",
       "stream": "stdout",
       "text": [
        " 192000 : 3.60343\n",
        "Minibatch accuracy: 53.1%\n",
        "Validation accuracy at step 192000: 45.0%"
       ]
      },
      {
       "output_type": "stream",
       "stream": "stdout",
       "text": [
        "\n",
        "Minibatch loss at step"
       ]
      },
      {
       "output_type": "stream",
       "stream": "stdout",
       "text": [
        " 193000 : 3.9532\n",
        "Minibatch accuracy: 50.0%\n",
        "Validation accuracy at step 193000: 43.9%"
       ]
      },
      {
       "output_type": "stream",
       "stream": "stdout",
       "text": [
        "\n",
        "Minibatch loss at step"
       ]
      },
      {
       "output_type": "stream",
       "stream": "stdout",
       "text": [
        " 194000 : 3.94322\n",
        "Minibatch accuracy: 34.4%\n",
        "Validation accuracy at step 194000: 44.5%"
       ]
      },
      {
       "output_type": "stream",
       "stream": "stdout",
       "text": [
        "\n",
        "Minibatch loss at step"
       ]
      },
      {
       "output_type": "stream",
       "stream": "stdout",
       "text": [
        " 195000 : 3.81373\n",
        "Minibatch accuracy: 43.8%\n",
        "Validation accuracy at step 195000: 44.7%"
       ]
      },
      {
       "output_type": "stream",
       "stream": "stdout",
       "text": [
        "\n",
        "Test accuracy at step 195000: 44.5%"
       ]
      },
      {
       "output_type": "stream",
       "stream": "stdout",
       "text": [
        "\n",
        "Minibatch loss at step"
       ]
      },
      {
       "output_type": "stream",
       "stream": "stdout",
       "text": [
        " 196000 : 3.64682\n",
        "Minibatch accuracy: 50.0%\n",
        "Validation accuracy at step 196000: 44.8%"
       ]
      },
      {
       "output_type": "stream",
       "stream": "stdout",
       "text": [
        "\n",
        "Minibatch loss at step"
       ]
      },
      {
       "output_type": "stream",
       "stream": "stdout",
       "text": [
        " 197000 : 3.89094\n",
        "Minibatch accuracy: 50.0%\n",
        "Validation accuracy at step 197000: 44.4%"
       ]
      },
      {
       "output_type": "stream",
       "stream": "stdout",
       "text": [
        "\n",
        "Minibatch loss at step"
       ]
      },
      {
       "output_type": "stream",
       "stream": "stdout",
       "text": [
        " 198000 : 3.67149\n",
        "Minibatch accuracy: 46.9%\n",
        "Validation accuracy at step 198000: 45.3%"
       ]
      },
      {
       "output_type": "stream",
       "stream": "stdout",
       "text": [
        "\n",
        "Minibatch loss at step"
       ]
      },
      {
       "output_type": "stream",
       "stream": "stdout",
       "text": [
        " 199000 : 3.53531\n",
        "Minibatch accuracy: 65.6%\n",
        "Validation accuracy at step 199000: 44.5%"
       ]
      },
      {
       "output_type": "stream",
       "stream": "stdout",
       "text": [
        "\n",
        "Minibatch loss at step"
       ]
      },
      {
       "output_type": "stream",
       "stream": "stdout",
       "text": [
        " 200000 : 4.34795\n",
        "Minibatch accuracy: 28.1%\n",
        "Validation accuracy at step 200000: 45.6%"
       ]
      },
      {
       "output_type": "stream",
       "stream": "stdout",
       "text": [
        "\n",
        "Test accuracy at step 200000: 46.0%"
       ]
      },
      {
       "output_type": "stream",
       "stream": "stdout",
       "text": [
        "\n",
        "Minibatch loss at step"
       ]
      },
      {
       "output_type": "stream",
       "stream": "stdout",
       "text": [
        " 201000 : 3.94625\n",
        "Minibatch accuracy: 37.5%\n",
        "Validation accuracy at step 201000: 44.7%"
       ]
      },
      {
       "output_type": "stream",
       "stream": "stdout",
       "text": [
        "\n",
        "Minibatch loss at step"
       ]
      },
      {
       "output_type": "stream",
       "stream": "stdout",
       "text": [
        " 202000 : 3.68893\n",
        "Minibatch accuracy: 43.8%\n",
        "Validation accuracy at step 202000: 43.5%"
       ]
      },
      {
       "output_type": "stream",
       "stream": "stdout",
       "text": [
        "\n",
        "Minibatch loss at step"
       ]
      },
      {
       "output_type": "stream",
       "stream": "stdout",
       "text": [
        " 203000 : 3.94538\n",
        "Minibatch accuracy: 46.9%\n",
        "Validation accuracy at step 203000: 46.1%"
       ]
      },
      {
       "output_type": "stream",
       "stream": "stdout",
       "text": [
        "\n",
        "Minibatch loss at step"
       ]
      },
      {
       "output_type": "stream",
       "stream": "stdout",
       "text": [
        " 204000 : 3.67703\n",
        "Minibatch accuracy: 53.1%\n",
        "Validation accuracy at step 204000: 44.4%"
       ]
      },
      {
       "output_type": "stream",
       "stream": "stdout",
       "text": [
        "\n",
        "Minibatch loss at step"
       ]
      },
      {
       "output_type": "stream",
       "stream": "stdout",
       "text": [
        " 205000 : 4.0471\n",
        "Minibatch accuracy: 43.8%\n",
        "Validation accuracy at step 205000: 44.5%"
       ]
      },
      {
       "output_type": "stream",
       "stream": "stdout",
       "text": [
        "\n",
        "Test accuracy at step 205000: 44.6%"
       ]
      },
      {
       "output_type": "stream",
       "stream": "stdout",
       "text": [
        "\n",
        "Minibatch loss at step"
       ]
      },
      {
       "output_type": "stream",
       "stream": "stdout",
       "text": [
        " 206000 : 3.56328\n",
        "Minibatch accuracy: 46.9%\n",
        "Validation accuracy at step 206000: 43.7%"
       ]
      },
      {
       "output_type": "stream",
       "stream": "stdout",
       "text": [
        "\n",
        "Minibatch loss at step"
       ]
      },
      {
       "output_type": "stream",
       "stream": "stdout",
       "text": [
        " 207000 : 3.49761\n",
        "Minibatch accuracy: 56.2%\n",
        "Validation accuracy at step 207000: 43.5%"
       ]
      },
      {
       "output_type": "stream",
       "stream": "stdout",
       "text": [
        "\n",
        "Minibatch loss at step"
       ]
      },
      {
       "output_type": "stream",
       "stream": "stdout",
       "text": [
        " 208000 : 3.95024\n",
        "Minibatch accuracy: 25.0%\n",
        "Validation accuracy at step 208000: 45.3%"
       ]
      },
      {
       "output_type": "stream",
       "stream": "stdout",
       "text": [
        "\n",
        "Minibatch loss at step"
       ]
      },
      {
       "output_type": "stream",
       "stream": "stdout",
       "text": [
        " 209000 : 3.69887\n",
        "Minibatch accuracy: 50.0%\n",
        "Validation accuracy at step 209000: 45.0%"
       ]
      },
      {
       "output_type": "stream",
       "stream": "stdout",
       "text": [
        "\n",
        "Minibatch loss at step"
       ]
      },
      {
       "output_type": "stream",
       "stream": "stdout",
       "text": [
        " 210000 : 3.89458\n",
        "Minibatch accuracy: 37.5%\n",
        "Validation accuracy at step 210000: 44.4%"
       ]
      },
      {
       "output_type": "stream",
       "stream": "stdout",
       "text": [
        "\n",
        "Test accuracy at step 210000: 44.8%"
       ]
      },
      {
       "output_type": "stream",
       "stream": "stdout",
       "text": [
        "\n",
        "Minibatch loss at step"
       ]
      },
      {
       "output_type": "stream",
       "stream": "stdout",
       "text": [
        " 211000 : 3.72423\n",
        "Minibatch accuracy: 46.9%\n",
        "Validation accuracy at step 211000: 45.8%"
       ]
      },
      {
       "output_type": "stream",
       "stream": "stdout",
       "text": [
        "\n",
        "Minibatch loss at step"
       ]
      },
      {
       "output_type": "stream",
       "stream": "stdout",
       "text": [
        " 212000 : 3.37774\n",
        "Minibatch accuracy: 59.4%\n",
        "Validation accuracy at step 212000: 45.9%"
       ]
      },
      {
       "output_type": "stream",
       "stream": "stdout",
       "text": [
        "\n",
        "Minibatch loss at step"
       ]
      },
      {
       "output_type": "stream",
       "stream": "stdout",
       "text": [
        " 213000 : 4.01288\n",
        "Minibatch accuracy: 53.1%\n",
        "Validation accuracy at step 213000: 46.0%"
       ]
      },
      {
       "output_type": "stream",
       "stream": "stdout",
       "text": [
        "\n",
        "Minibatch loss at step"
       ]
      },
      {
       "output_type": "stream",
       "stream": "stdout",
       "text": [
        " 214000 : 3.82125\n",
        "Minibatch accuracy: 40.6%\n",
        "Validation accuracy at step 214000: 44.5%"
       ]
      },
      {
       "output_type": "stream",
       "stream": "stdout",
       "text": [
        "\n",
        "Minibatch loss at step"
       ]
      },
      {
       "output_type": "stream",
       "stream": "stdout",
       "text": [
        " 215000 : 3.65867\n",
        "Minibatch accuracy: 50.0%\n",
        "Validation accuracy at step 215000: 44.2%"
       ]
      },
      {
       "output_type": "stream",
       "stream": "stdout",
       "text": [
        "\n",
        "Test accuracy at step 215000: 44.2%"
       ]
      },
      {
       "output_type": "stream",
       "stream": "stdout",
       "text": [
        "\n",
        "Minibatch loss at step"
       ]
      },
      {
       "output_type": "stream",
       "stream": "stdout",
       "text": [
        " 216000 : 3.75204\n",
        "Minibatch accuracy: 50.0%\n",
        "Validation accuracy at step 216000: 45.4%"
       ]
      },
      {
       "output_type": "stream",
       "stream": "stdout",
       "text": [
        "\n",
        "Minibatch loss at step"
       ]
      },
      {
       "output_type": "stream",
       "stream": "stdout",
       "text": [
        " 217000 : 3.75307\n",
        "Minibatch accuracy: 46.9%\n",
        "Validation accuracy at step 217000: 44.9%"
       ]
      },
      {
       "output_type": "stream",
       "stream": "stdout",
       "text": [
        "\n",
        "Minibatch loss at step"
       ]
      },
      {
       "output_type": "stream",
       "stream": "stdout",
       "text": [
        " 218000 : 3.43148\n",
        "Minibatch accuracy: 59.4%\n",
        "Validation accuracy at step 218000: 45.1%"
       ]
      },
      {
       "output_type": "stream",
       "stream": "stdout",
       "text": [
        "\n",
        "Minibatch loss at step"
       ]
      },
      {
       "output_type": "stream",
       "stream": "stdout",
       "text": [
        " 219000 : 3.5127\n",
        "Minibatch accuracy: 62.5%\n",
        "Validation accuracy at step 219000: 44.7%"
       ]
      },
      {
       "output_type": "stream",
       "stream": "stdout",
       "text": [
        "\n",
        "Minibatch loss at step"
       ]
      },
      {
       "output_type": "stream",
       "stream": "stdout",
       "text": [
        " 220000 : 3.70777\n",
        "Minibatch accuracy: 43.8%\n",
        "Validation accuracy at step 220000: 44.9%"
       ]
      },
      {
       "output_type": "stream",
       "stream": "stdout",
       "text": [
        "\n",
        "Test accuracy at step 220000: 45.5%"
       ]
      },
      {
       "output_type": "stream",
       "stream": "stdout",
       "text": [
        "\n",
        "Minibatch loss at step"
       ]
      },
      {
       "output_type": "stream",
       "stream": "stdout",
       "text": [
        " 221000 : 3.87149\n",
        "Minibatch accuracy: 43.8%\n",
        "Validation accuracy at step 221000: 45.0%"
       ]
      },
      {
       "output_type": "stream",
       "stream": "stdout",
       "text": [
        "\n",
        "Minibatch loss at step"
       ]
      },
      {
       "output_type": "stream",
       "stream": "stdout",
       "text": [
        " 222000 : 3.56483\n",
        "Minibatch accuracy: 46.9%\n",
        "Validation accuracy at step 222000: 45.0%"
       ]
      },
      {
       "output_type": "stream",
       "stream": "stdout",
       "text": [
        "\n",
        "Minibatch loss at step"
       ]
      },
      {
       "output_type": "stream",
       "stream": "stdout",
       "text": [
        " 223000 : 3.59899\n",
        "Minibatch accuracy: 53.1%\n",
        "Validation accuracy at step 223000: 45.5%"
       ]
      },
      {
       "output_type": "stream",
       "stream": "stdout",
       "text": [
        "\n",
        "Minibatch loss at step"
       ]
      },
      {
       "output_type": "stream",
       "stream": "stdout",
       "text": [
        " 224000 : 4.02573\n",
        "Minibatch accuracy: 37.5%\n",
        "Validation accuracy at step 224000: 44.1%"
       ]
      },
      {
       "output_type": "stream",
       "stream": "stdout",
       "text": [
        "\n",
        "Minibatch loss at step"
       ]
      },
      {
       "output_type": "stream",
       "stream": "stdout",
       "text": [
        " 225000 : 3.78183\n",
        "Minibatch accuracy: 37.5%\n",
        "Validation accuracy at step 225000: 46.0%"
       ]
      },
      {
       "output_type": "stream",
       "stream": "stdout",
       "text": [
        "\n",
        "Test accuracy at step 225000: 45.6%"
       ]
      },
      {
       "output_type": "stream",
       "stream": "stdout",
       "text": [
        "\n",
        "Minibatch loss at step"
       ]
      },
      {
       "output_type": "stream",
       "stream": "stdout",
       "text": [
        " 226000 : 3.75385\n",
        "Minibatch accuracy: 46.9%\n",
        "Validation accuracy at step 226000: 45.6%"
       ]
      },
      {
       "output_type": "stream",
       "stream": "stdout",
       "text": [
        "\n",
        "Minibatch loss at step"
       ]
      },
      {
       "output_type": "stream",
       "stream": "stdout",
       "text": [
        " 227000 : 3.52288\n",
        "Minibatch accuracy: 46.9%\n",
        "Validation accuracy at step 227000: 45.3%"
       ]
      },
      {
       "output_type": "stream",
       "stream": "stdout",
       "text": [
        "\n",
        "Minibatch loss at step"
       ]
      },
      {
       "output_type": "stream",
       "stream": "stdout",
       "text": [
        " 228000 : 3.65403\n",
        "Minibatch accuracy: 46.9%\n",
        "Validation accuracy at step 228000: 45.8%"
       ]
      },
      {
       "output_type": "stream",
       "stream": "stdout",
       "text": [
        "\n",
        "Minibatch loss at step"
       ]
      },
      {
       "output_type": "stream",
       "stream": "stdout",
       "text": [
        " 229000 : 3.71782\n",
        "Minibatch accuracy: 46.9%\n",
        "Validation accuracy at step 229000: 44.7%"
       ]
      },
      {
       "output_type": "stream",
       "stream": "stdout",
       "text": [
        "\n",
        "Minibatch loss at step"
       ]
      },
      {
       "output_type": "stream",
       "stream": "stdout",
       "text": [
        " 230000 : 3.42667\n",
        "Minibatch accuracy: 59.4%\n",
        "Validation accuracy at step 230000: 45.5%"
       ]
      },
      {
       "output_type": "stream",
       "stream": "stdout",
       "text": [
        "\n",
        "Test accuracy at step 230000: 45.8%"
       ]
      },
      {
       "output_type": "stream",
       "stream": "stdout",
       "text": [
        "\n",
        "Minibatch loss at step"
       ]
      },
      {
       "output_type": "stream",
       "stream": "stdout",
       "text": [
        " 231000 : 3.65895\n",
        "Minibatch accuracy: 40.6%\n",
        "Validation accuracy at step 231000: 44.8%"
       ]
      },
      {
       "output_type": "stream",
       "stream": "stdout",
       "text": [
        "\n",
        "Minibatch loss at step"
       ]
      },
      {
       "output_type": "stream",
       "stream": "stdout",
       "text": [
        " 232000 : 3.69035\n",
        "Minibatch accuracy: 43.8%\n",
        "Validation accuracy at step 232000: 45.1%"
       ]
      },
      {
       "output_type": "stream",
       "stream": "stdout",
       "text": [
        "\n",
        "Minibatch loss at step"
       ]
      },
      {
       "output_type": "stream",
       "stream": "stdout",
       "text": [
        " 233000 : 3.89081\n",
        "Minibatch accuracy: 40.6%\n",
        "Validation accuracy at step 233000: 46.0%"
       ]
      },
      {
       "output_type": "stream",
       "stream": "stdout",
       "text": [
        "\n",
        "Minibatch loss at step"
       ]
      },
      {
       "output_type": "stream",
       "stream": "stdout",
       "text": [
        " 234000 : 3.71034\n",
        "Minibatch accuracy: 40.6%\n",
        "Validation accuracy at step 234000: 44.7%"
       ]
      },
      {
       "output_type": "stream",
       "stream": "stdout",
       "text": [
        "\n",
        "Minibatch loss at step"
       ]
      },
      {
       "output_type": "stream",
       "stream": "stdout",
       "text": [
        " 235000 : 3.80213\n",
        "Minibatch accuracy: 40.6%\n",
        "Validation accuracy at step 235000: 45.8%"
       ]
      },
      {
       "output_type": "stream",
       "stream": "stdout",
       "text": [
        "\n",
        "Test accuracy at step 235000: 45.7%"
       ]
      },
      {
       "output_type": "stream",
       "stream": "stdout",
       "text": [
        "\n",
        "Minibatch loss at step"
       ]
      },
      {
       "output_type": "stream",
       "stream": "stdout",
       "text": [
        " 236000 : 4.09432\n",
        "Minibatch accuracy: 28.1%\n",
        "Validation accuracy at step 236000: 44.1%"
       ]
      },
      {
       "output_type": "stream",
       "stream": "stdout",
       "text": [
        "\n",
        "Minibatch loss at step"
       ]
      },
      {
       "output_type": "stream",
       "stream": "stdout",
       "text": [
        " 237000 : 3.93099\n",
        "Minibatch accuracy: 37.5%\n",
        "Validation accuracy at step 237000: 46.3%"
       ]
      },
      {
       "output_type": "stream",
       "stream": "stdout",
       "text": [
        "\n",
        "Minibatch loss at step"
       ]
      },
      {
       "output_type": "stream",
       "stream": "stdout",
       "text": [
        " 238000 : 3.34839\n",
        "Minibatch accuracy: 40.6%\n",
        "Validation accuracy at step 238000: 45.9%"
       ]
      },
      {
       "output_type": "stream",
       "stream": "stdout",
       "text": [
        "\n",
        "Minibatch loss at step"
       ]
      },
      {
       "output_type": "stream",
       "stream": "stdout",
       "text": [
        " 239000 : 3.82391\n",
        "Minibatch accuracy: 31.2%\n",
        "Validation accuracy at step 239000: 45.1%"
       ]
      },
      {
       "output_type": "stream",
       "stream": "stdout",
       "text": [
        "\n",
        "Minibatch loss at step"
       ]
      },
      {
       "output_type": "stream",
       "stream": "stdout",
       "text": [
        " 240000 : 3.34704\n",
        "Minibatch accuracy: 59.4%\n",
        "Validation accuracy at step 240000: 45.2%"
       ]
      },
      {
       "output_type": "stream",
       "stream": "stdout",
       "text": [
        "\n",
        "Test accuracy at step 240000: 45.6%"
       ]
      },
      {
       "output_type": "stream",
       "stream": "stdout",
       "text": [
        "\n",
        "Minibatch loss at step"
       ]
      },
      {
       "output_type": "stream",
       "stream": "stdout",
       "text": [
        " 241000 : 3.64663\n",
        "Minibatch accuracy: 46.9%\n",
        "Validation accuracy at step 241000: 46.2%"
       ]
      },
      {
       "output_type": "stream",
       "stream": "stdout",
       "text": [
        "\n",
        "Minibatch loss at step"
       ]
      },
      {
       "output_type": "stream",
       "stream": "stdout",
       "text": [
        " 242000 : 3.51009\n",
        "Minibatch accuracy: 50.0%\n",
        "Validation accuracy at step 242000: 46.0%"
       ]
      },
      {
       "output_type": "stream",
       "stream": "stdout",
       "text": [
        "\n",
        "Minibatch loss at step"
       ]
      },
      {
       "output_type": "stream",
       "stream": "stdout",
       "text": [
        " 243000 : 3.51699\n",
        "Minibatch accuracy: 50.0%\n",
        "Validation accuracy at step 243000: 45.5%"
       ]
      },
      {
       "output_type": "stream",
       "stream": "stdout",
       "text": [
        "\n",
        "Minibatch loss at step"
       ]
      },
      {
       "output_type": "stream",
       "stream": "stdout",
       "text": [
        " 244000 : 3.74286\n",
        "Minibatch accuracy: 43.8%\n",
        "Validation accuracy at step 244000: 45.4%"
       ]
      },
      {
       "output_type": "stream",
       "stream": "stdout",
       "text": [
        "\n",
        "Minibatch loss at step"
       ]
      },
      {
       "output_type": "stream",
       "stream": "stdout",
       "text": [
        " 245000 : 3.43051\n",
        "Minibatch accuracy: 62.5%\n",
        "Validation accuracy at step 245000: 43.9%"
       ]
      },
      {
       "output_type": "stream",
       "stream": "stdout",
       "text": [
        "\n",
        "Test accuracy at step 245000: 44.9%"
       ]
      },
      {
       "output_type": "stream",
       "stream": "stdout",
       "text": [
        "\n",
        "Minibatch loss at step"
       ]
      },
      {
       "output_type": "stream",
       "stream": "stdout",
       "text": [
        " 246000 : 3.81927\n",
        "Minibatch accuracy: 40.6%\n",
        "Validation accuracy at step 246000: 45.5%"
       ]
      },
      {
       "output_type": "stream",
       "stream": "stdout",
       "text": [
        "\n",
        "Minibatch loss at step"
       ]
      },
      {
       "output_type": "stream",
       "stream": "stdout",
       "text": [
        " 247000 : 3.88878\n",
        "Minibatch accuracy: 31.2%\n",
        "Validation accuracy at step 247000: 45.8%"
       ]
      },
      {
       "output_type": "stream",
       "stream": "stdout",
       "text": [
        "\n",
        "Minibatch loss at step"
       ]
      },
      {
       "output_type": "stream",
       "stream": "stdout",
       "text": [
        " 248000 : 3.21573\n",
        "Minibatch accuracy: 50.0%\n",
        "Validation accuracy at step 248000: 45.1%"
       ]
      },
      {
       "output_type": "stream",
       "stream": "stdout",
       "text": [
        "\n",
        "Minibatch loss at step"
       ]
      },
      {
       "output_type": "stream",
       "stream": "stdout",
       "text": [
        " 249000 : 3.5441\n",
        "Minibatch accuracy: 53.1%\n",
        "Validation accuracy at step 249000: 45.3%"
       ]
      },
      {
       "output_type": "stream",
       "stream": "stdout",
       "text": [
        "\n",
        "Minibatch loss at step"
       ]
      },
      {
       "output_type": "stream",
       "stream": "stdout",
       "text": [
        " 250000 : 3.58659\n",
        "Minibatch accuracy: 46.9%\n",
        "Validation accuracy at step 250000: 45.8%"
       ]
      },
      {
       "output_type": "stream",
       "stream": "stdout",
       "text": [
        "\n",
        "Test accuracy at step 250000: 45.9%"
       ]
      },
      {
       "output_type": "stream",
       "stream": "stdout",
       "text": [
        "\n",
        "Minibatch loss at step"
       ]
      },
      {
       "output_type": "stream",
       "stream": "stdout",
       "text": [
        " 251000 : 3.61588\n",
        "Minibatch accuracy: 37.5%\n",
        "Validation accuracy at step 251000: 45.3%"
       ]
      },
      {
       "output_type": "stream",
       "stream": "stdout",
       "text": [
        "\n",
        "Minibatch loss at step"
       ]
      },
      {
       "output_type": "stream",
       "stream": "stdout",
       "text": [
        " 252000 : 3.64624\n",
        "Minibatch accuracy: 40.6%\n",
        "Validation accuracy at step 252000: 44.9%"
       ]
      },
      {
       "output_type": "stream",
       "stream": "stdout",
       "text": [
        "\n",
        "Minibatch loss at step"
       ]
      },
      {
       "output_type": "stream",
       "stream": "stdout",
       "text": [
        " 253000 : 3.8671\n",
        "Minibatch accuracy: 31.2%\n",
        "Validation accuracy at step 253000: 46.7%"
       ]
      },
      {
       "output_type": "stream",
       "stream": "stdout",
       "text": [
        "\n",
        "Minibatch loss at step"
       ]
      },
      {
       "output_type": "stream",
       "stream": "stdout",
       "text": [
        " 254000 : 3.47306\n",
        "Minibatch accuracy: 46.9%\n",
        "Validation accuracy at step 254000: 44.9%"
       ]
      },
      {
       "output_type": "stream",
       "stream": "stdout",
       "text": [
        "\n",
        "Minibatch loss at step"
       ]
      },
      {
       "output_type": "stream",
       "stream": "stdout",
       "text": [
        " 255000 : 3.65061\n",
        "Minibatch accuracy: 50.0%\n",
        "Validation accuracy at step 255000: 45.4%"
       ]
      },
      {
       "output_type": "stream",
       "stream": "stdout",
       "text": [
        "\n",
        "Test accuracy at step 255000: 45.9%"
       ]
      },
      {
       "output_type": "stream",
       "stream": "stdout",
       "text": [
        "\n",
        "Minibatch loss at step"
       ]
      },
      {
       "output_type": "stream",
       "stream": "stdout",
       "text": [
        " 256000 : 3.51639\n",
        "Minibatch accuracy: 46.9%\n",
        "Validation accuracy at step 256000: 46.5%"
       ]
      },
      {
       "output_type": "stream",
       "stream": "stdout",
       "text": [
        "\n",
        "Minibatch loss at step"
       ]
      },
      {
       "output_type": "stream",
       "stream": "stdout",
       "text": [
        " 257000 : 3.64637\n",
        "Minibatch accuracy: 40.6%\n",
        "Validation accuracy at step 257000: 45.6%"
       ]
      },
      {
       "output_type": "stream",
       "stream": "stdout",
       "text": [
        "\n",
        "Minibatch loss at step"
       ]
      },
      {
       "output_type": "stream",
       "stream": "stdout",
       "text": [
        " 258000 : 3.54981\n",
        "Minibatch accuracy: 50.0%\n",
        "Validation accuracy at step 258000: 45.4%"
       ]
      },
      {
       "output_type": "stream",
       "stream": "stdout",
       "text": [
        "\n",
        "Minibatch loss at step"
       ]
      },
      {
       "output_type": "stream",
       "stream": "stdout",
       "text": [
        " 259000 : 3.51433\n",
        "Minibatch accuracy: 53.1%\n",
        "Validation accuracy at step 259000: 45.2%"
       ]
      },
      {
       "output_type": "stream",
       "stream": "stdout",
       "text": [
        "\n",
        "Minibatch loss at step"
       ]
      },
      {
       "output_type": "stream",
       "stream": "stdout",
       "text": [
        " 260000 : 3.4707\n",
        "Minibatch accuracy: 43.8%\n",
        "Validation accuracy at step 260000: 45.6%"
       ]
      },
      {
       "output_type": "stream",
       "stream": "stdout",
       "text": [
        "\n",
        "Test accuracy at step 260000: 45.7%"
       ]
      },
      {
       "output_type": "stream",
       "stream": "stdout",
       "text": [
        "\n",
        "Minibatch loss at step"
       ]
      },
      {
       "output_type": "stream",
       "stream": "stdout",
       "text": [
        " 261000 : 3.62463\n",
        "Minibatch accuracy: 46.9%\n",
        "Validation accuracy at step 261000: 46.1%"
       ]
      },
      {
       "output_type": "stream",
       "stream": "stdout",
       "text": [
        "\n",
        "Minibatch loss at step"
       ]
      },
      {
       "output_type": "stream",
       "stream": "stdout",
       "text": [
        " 262000 : 3.70959\n",
        "Minibatch accuracy: 34.4%\n",
        "Validation accuracy at step 262000: 45.5%"
       ]
      },
      {
       "output_type": "stream",
       "stream": "stdout",
       "text": [
        "\n",
        "Minibatch loss at step"
       ]
      },
      {
       "output_type": "stream",
       "stream": "stdout",
       "text": [
        " 263000 : 3.93818\n",
        "Minibatch accuracy: 31.2%\n",
        "Validation accuracy at step 263000: 45.2%"
       ]
      },
      {
       "output_type": "stream",
       "stream": "stdout",
       "text": [
        "\n",
        "Minibatch loss at step"
       ]
      },
      {
       "output_type": "stream",
       "stream": "stdout",
       "text": [
        " 264000 : 3.72779\n",
        "Minibatch accuracy: 40.6%\n",
        "Validation accuracy at step 264000: 45.5%"
       ]
      },
      {
       "output_type": "stream",
       "stream": "stdout",
       "text": [
        "\n",
        "Minibatch loss at step"
       ]
      },
      {
       "output_type": "stream",
       "stream": "stdout",
       "text": [
        " 265000 : 3.24989\n",
        "Minibatch accuracy: 50.0%\n",
        "Validation accuracy at step 265000: 45.0%"
       ]
      },
      {
       "output_type": "stream",
       "stream": "stdout",
       "text": [
        "\n",
        "Test accuracy at step 265000: 45.1%"
       ]
      },
      {
       "output_type": "stream",
       "stream": "stdout",
       "text": [
        "\n",
        "Minibatch loss at step"
       ]
      },
      {
       "output_type": "stream",
       "stream": "stdout",
       "text": [
        " 266000 : 3.45955\n",
        "Minibatch accuracy: 53.1%\n",
        "Validation accuracy at step 266000: 46.7%"
       ]
      },
      {
       "output_type": "stream",
       "stream": "stdout",
       "text": [
        "\n",
        "Minibatch loss at step"
       ]
      },
      {
       "output_type": "stream",
       "stream": "stdout",
       "text": [
        " 267000 : 3.75525\n",
        "Minibatch accuracy: 46.9%\n",
        "Validation accuracy at step 267000: 45.6%"
       ]
      },
      {
       "output_type": "stream",
       "stream": "stdout",
       "text": [
        "\n",
        "Minibatch loss at step"
       ]
      },
      {
       "output_type": "stream",
       "stream": "stdout",
       "text": [
        " 268000 : 3.29031\n",
        "Minibatch accuracy: 56.2%\n",
        "Validation accuracy at step 268000: 45.2%"
       ]
      },
      {
       "output_type": "stream",
       "stream": "stdout",
       "text": [
        "\n",
        "Minibatch loss at step"
       ]
      },
      {
       "output_type": "stream",
       "stream": "stdout",
       "text": [
        " 269000 : 3.77319\n",
        "Minibatch accuracy: 34.4%\n",
        "Validation accuracy at step 269000: 44.4%"
       ]
      },
      {
       "output_type": "stream",
       "stream": "stdout",
       "text": [
        "\n",
        "Minibatch loss at step"
       ]
      },
      {
       "output_type": "stream",
       "stream": "stdout",
       "text": [
        " 270000 : 3.53638\n",
        "Minibatch accuracy: 56.2%\n",
        "Validation accuracy at step 270000: 45.6%"
       ]
      },
      {
       "output_type": "stream",
       "stream": "stdout",
       "text": [
        "\n",
        "Test accuracy at step 270000: 45.7%"
       ]
      },
      {
       "output_type": "stream",
       "stream": "stdout",
       "text": [
        "\n",
        "Minibatch loss at step"
       ]
      },
      {
       "output_type": "stream",
       "stream": "stdout",
       "text": [
        " 271000 : 3.65947\n",
        "Minibatch accuracy: 31.2%\n",
        "Validation accuracy at step 271000: 46.4%"
       ]
      },
      {
       "output_type": "stream",
       "stream": "stdout",
       "text": [
        "\n",
        "Minibatch loss at step"
       ]
      },
      {
       "output_type": "stream",
       "stream": "stdout",
       "text": [
        " 272000 : 3.41765\n",
        "Minibatch accuracy: 62.5%\n",
        "Validation accuracy at step 272000: 45.4%"
       ]
      },
      {
       "output_type": "stream",
       "stream": "stdout",
       "text": [
        "\n",
        "Minibatch loss at step"
       ]
      },
      {
       "output_type": "stream",
       "stream": "stdout",
       "text": [
        " 273000 : 3.83928\n",
        "Minibatch accuracy: 37.5%\n",
        "Validation accuracy at step 273000: 46.3%"
       ]
      },
      {
       "output_type": "stream",
       "stream": "stdout",
       "text": [
        "\n",
        "Minibatch loss at step"
       ]
      },
      {
       "output_type": "stream",
       "stream": "stdout",
       "text": [
        " 274000 : 3.6525\n",
        "Minibatch accuracy: 37.5%\n",
        "Validation accuracy at step 274000: 45.0%"
       ]
      },
      {
       "output_type": "stream",
       "stream": "stdout",
       "text": [
        "\n",
        "Minibatch loss at step"
       ]
      },
      {
       "output_type": "stream",
       "stream": "stdout",
       "text": [
        " 275000 : 3.44497\n",
        "Minibatch accuracy: 40.6%\n",
        "Validation accuracy at step 275000: 45.1%"
       ]
      },
      {
       "output_type": "stream",
       "stream": "stdout",
       "text": [
        "\n",
        "Test accuracy at step 275000: 45.9%"
       ]
      },
      {
       "output_type": "stream",
       "stream": "stdout",
       "text": [
        "\n",
        "Minibatch loss at step"
       ]
      },
      {
       "output_type": "stream",
       "stream": "stdout",
       "text": [
        " 276000 : 3.60752\n",
        "Minibatch accuracy: 37.5%\n",
        "Validation accuracy at step 276000: 46.4%"
       ]
      },
      {
       "output_type": "stream",
       "stream": "stdout",
       "text": [
        "\n",
        "Minibatch loss at step"
       ]
      },
      {
       "output_type": "stream",
       "stream": "stdout",
       "text": [
        " 277000 : 3.23939\n",
        "Minibatch accuracy: 68.8%\n",
        "Validation accuracy at step 277000: 45.8%"
       ]
      },
      {
       "output_type": "stream",
       "stream": "stdout",
       "text": [
        "\n",
        "Minibatch loss at step"
       ]
      },
      {
       "output_type": "stream",
       "stream": "stdout",
       "text": [
        " 278000 : 3.15513\n",
        "Minibatch accuracy: 56.2%\n",
        "Validation accuracy at step 278000: 46.5%"
       ]
      },
      {
       "output_type": "stream",
       "stream": "stdout",
       "text": [
        "\n",
        "Minibatch loss at step"
       ]
      },
      {
       "output_type": "stream",
       "stream": "stdout",
       "text": [
        " 279000 : 3.45567\n",
        "Minibatch accuracy: 43.8%\n",
        "Validation accuracy at step 279000: 46.3%"
       ]
      },
      {
       "output_type": "stream",
       "stream": "stdout",
       "text": [
        "\n",
        "Minibatch loss at step"
       ]
      },
      {
       "output_type": "stream",
       "stream": "stdout",
       "text": [
        " 280000 : 3.43776\n",
        "Minibatch accuracy: 53.1%\n",
        "Validation accuracy at step 280000: 46.1%"
       ]
      },
      {
       "output_type": "stream",
       "stream": "stdout",
       "text": [
        "\n",
        "Test accuracy at step 280000: 46.2%"
       ]
      },
      {
       "output_type": "stream",
       "stream": "stdout",
       "text": [
        "\n",
        "Minibatch loss at step"
       ]
      },
      {
       "output_type": "stream",
       "stream": "stdout",
       "text": [
        " 281000 : 3.73684\n",
        "Minibatch accuracy: 31.2%\n",
        "Validation accuracy at step 281000: 46.0%"
       ]
      },
      {
       "output_type": "stream",
       "stream": "stdout",
       "text": [
        "\n",
        "Minibatch loss at step"
       ]
      },
      {
       "output_type": "stream",
       "stream": "stdout",
       "text": [
        " 282000 : 3.76739\n",
        "Minibatch accuracy: 46.9%\n",
        "Validation accuracy at step 282000: 45.8%"
       ]
      },
      {
       "output_type": "stream",
       "stream": "stdout",
       "text": [
        "\n",
        "Minibatch loss at step"
       ]
      },
      {
       "output_type": "stream",
       "stream": "stdout",
       "text": [
        " 283000 : 3.54018\n",
        "Minibatch accuracy: 34.4%\n",
        "Validation accuracy at step 283000: 46.1%"
       ]
      },
      {
       "output_type": "stream",
       "stream": "stdout",
       "text": [
        "\n",
        "Minibatch loss at step"
       ]
      },
      {
       "output_type": "stream",
       "stream": "stdout",
       "text": [
        " 284000 : 3.36165\n",
        "Minibatch accuracy: 50.0%\n",
        "Validation accuracy at step 284000: 45.8%"
       ]
      },
      {
       "output_type": "stream",
       "stream": "stdout",
       "text": [
        "\n",
        "Minibatch loss at step"
       ]
      },
      {
       "output_type": "stream",
       "stream": "stdout",
       "text": [
        " 285000 : 3.53037\n",
        "Minibatch accuracy: 43.8%\n",
        "Validation accuracy at step 285000: 46.1%"
       ]
      },
      {
       "output_type": "stream",
       "stream": "stdout",
       "text": [
        "\n",
        "Test accuracy at step 285000: 46.1%"
       ]
      },
      {
       "output_type": "stream",
       "stream": "stdout",
       "text": [
        "\n",
        "Minibatch loss at step"
       ]
      },
      {
       "output_type": "stream",
       "stream": "stdout",
       "text": [
        " 286000 : 3.41698\n",
        "Minibatch accuracy: 50.0%\n",
        "Validation accuracy at step 286000: 46.1%"
       ]
      },
      {
       "output_type": "stream",
       "stream": "stdout",
       "text": [
        "\n",
        "Minibatch loss at step"
       ]
      },
      {
       "output_type": "stream",
       "stream": "stdout",
       "text": [
        " 287000 : 3.17746\n",
        "Minibatch accuracy: 50.0%\n",
        "Validation accuracy at step 287000: 45.2%"
       ]
      },
      {
       "output_type": "stream",
       "stream": "stdout",
       "text": [
        "\n",
        "Minibatch loss at step"
       ]
      },
      {
       "output_type": "stream",
       "stream": "stdout",
       "text": [
        " 288000 : 3.46621\n",
        "Minibatch accuracy: 43.8%\n",
        "Validation accuracy at step 288000: 46.2%"
       ]
      },
      {
       "output_type": "stream",
       "stream": "stdout",
       "text": [
        "\n",
        "Minibatch loss at step"
       ]
      },
      {
       "output_type": "stream",
       "stream": "stdout",
       "text": [
        " 289000 : 3.89996\n",
        "Minibatch accuracy: 31.2%\n",
        "Validation accuracy at step 289000: 46.0%"
       ]
      },
      {
       "output_type": "stream",
       "stream": "stdout",
       "text": [
        "\n",
        "Minibatch loss at step"
       ]
      },
      {
       "output_type": "stream",
       "stream": "stdout",
       "text": [
        " 290000 : 3.15353\n",
        "Minibatch accuracy: 62.5%\n",
        "Validation accuracy at step 290000: 46.4%"
       ]
      },
      {
       "output_type": "stream",
       "stream": "stdout",
       "text": [
        "\n",
        "Test accuracy at step 290000: 46.3%"
       ]
      },
      {
       "output_type": "stream",
       "stream": "stdout",
       "text": [
        "\n",
        "Minibatch loss at step"
       ]
      },
      {
       "output_type": "stream",
       "stream": "stdout",
       "text": [
        " 291000 : 3.42546\n",
        "Minibatch accuracy: 40.6%\n",
        "Validation accuracy at step 291000: 46.1%"
       ]
      },
      {
       "output_type": "stream",
       "stream": "stdout",
       "text": [
        "\n",
        "Minibatch loss at step"
       ]
      },
      {
       "output_type": "stream",
       "stream": "stdout",
       "text": [
        " 292000 : 3.77613\n",
        "Minibatch accuracy: 31.2%\n",
        "Validation accuracy at step 292000: 44.9%"
       ]
      },
      {
       "output_type": "stream",
       "stream": "stdout",
       "text": [
        "\n",
        "Minibatch loss at step"
       ]
      },
      {
       "output_type": "stream",
       "stream": "stdout",
       "text": [
        " 293000 : 3.4047\n",
        "Minibatch accuracy: 46.9%\n",
        "Validation accuracy at step 293000: 46.5%"
       ]
      },
      {
       "output_type": "stream",
       "stream": "stdout",
       "text": [
        "\n",
        "Minibatch loss at step"
       ]
      },
      {
       "output_type": "stream",
       "stream": "stdout",
       "text": [
        " 294000 : 3.67051\n",
        "Minibatch accuracy: 43.8%\n",
        "Validation accuracy at step 294000: 45.8%"
       ]
      },
      {
       "output_type": "stream",
       "stream": "stdout",
       "text": [
        "\n",
        "Minibatch loss at step"
       ]
      },
      {
       "output_type": "stream",
       "stream": "stdout",
       "text": [
        " 295000 : 3.71629\n",
        "Minibatch accuracy: 31.2%\n",
        "Validation accuracy at step 295000: 46.6%"
       ]
      },
      {
       "output_type": "stream",
       "stream": "stdout",
       "text": [
        "\n",
        "Test accuracy at step 295000: 46.5%"
       ]
      },
      {
       "output_type": "stream",
       "stream": "stdout",
       "text": [
        "\n",
        "Minibatch loss at step"
       ]
      },
      {
       "output_type": "stream",
       "stream": "stdout",
       "text": [
        " 296000 : 3.578\n",
        "Minibatch accuracy: 53.1%\n",
        "Validation accuracy at step 296000: 46.5%"
       ]
      },
      {
       "output_type": "stream",
       "stream": "stdout",
       "text": [
        "\n",
        "Minibatch loss at step"
       ]
      },
      {
       "output_type": "stream",
       "stream": "stdout",
       "text": [
        " 297000 : 3.4978\n",
        "Minibatch accuracy: 56.2%\n",
        "Validation accuracy at step 297000: 45.6%"
       ]
      },
      {
       "output_type": "stream",
       "stream": "stdout",
       "text": [
        "\n",
        "Minibatch loss at step"
       ]
      },
      {
       "output_type": "stream",
       "stream": "stdout",
       "text": [
        " 298000 : 3.4276\n",
        "Minibatch accuracy: 46.9%\n",
        "Validation accuracy at step 298000: 46.5%"
       ]
      },
      {
       "output_type": "stream",
       "stream": "stdout",
       "text": [
        "\n",
        "Minibatch loss at step"
       ]
      },
      {
       "output_type": "stream",
       "stream": "stdout",
       "text": [
        " 299000 : 3.03338\n",
        "Minibatch accuracy: 68.8%\n",
        "Validation accuracy at step 299000: 45.9%"
       ]
      },
      {
       "output_type": "stream",
       "stream": "stdout",
       "text": [
        "\n",
        "Minibatch loss at step"
       ]
      },
      {
       "output_type": "stream",
       "stream": "stdout",
       "text": [
        " 300000 : 3.45031\n",
        "Minibatch accuracy: 46.9%\n",
        "Validation accuracy at step 300000: 46.7%"
       ]
      },
      {
       "output_type": "stream",
       "stream": "stdout",
       "text": [
        "\n",
        "Test accuracy at step 300000: 46.9%"
       ]
      },
      {
       "output_type": "stream",
       "stream": "stdout",
       "text": [
        "\n",
        "Minibatch loss at step"
       ]
      },
      {
       "output_type": "stream",
       "stream": "stdout",
       "text": [
        " 301000 : 3.50389\n",
        "Minibatch accuracy: 43.8%\n",
        "Validation accuracy at step 301000: 46.8%"
       ]
      },
      {
       "output_type": "stream",
       "stream": "stdout",
       "text": [
        "\n",
        "Minibatch loss at step"
       ]
      },
      {
       "output_type": "stream",
       "stream": "stdout",
       "text": [
        " 302000 : 3.71383\n",
        "Minibatch accuracy: 31.2%\n",
        "Validation accuracy at step 302000: 45.7%"
       ]
      },
      {
       "output_type": "stream",
       "stream": "stdout",
       "text": [
        "\n",
        "Minibatch loss at step"
       ]
      },
      {
       "output_type": "stream",
       "stream": "stdout",
       "text": [
        " 303000 : 3.4508\n",
        "Minibatch accuracy: 53.1%\n",
        "Validation accuracy at step 303000: 45.9%"
       ]
      },
      {
       "output_type": "stream",
       "stream": "stdout",
       "text": [
        "\n",
        "Minibatch loss at step"
       ]
      },
      {
       "output_type": "stream",
       "stream": "stdout",
       "text": [
        " 304000 : 3.41754\n",
        "Minibatch accuracy: 56.2%\n",
        "Validation accuracy at step 304000: 46.2%"
       ]
      },
      {
       "output_type": "stream",
       "stream": "stdout",
       "text": [
        "\n",
        "Minibatch loss at step"
       ]
      },
      {
       "output_type": "stream",
       "stream": "stdout",
       "text": [
        " 305000 : 3.44235\n",
        "Minibatch accuracy: 43.8%\n",
        "Validation accuracy at step 305000: 46.1%"
       ]
      },
      {
       "output_type": "stream",
       "stream": "stdout",
       "text": [
        "\n",
        "Test accuracy at step 305000: 46.5%"
       ]
      },
      {
       "output_type": "stream",
       "stream": "stdout",
       "text": [
        "\n",
        "Minibatch loss at step"
       ]
      },
      {
       "output_type": "stream",
       "stream": "stdout",
       "text": [
        " 306000 : 3.19118\n",
        "Minibatch accuracy: 65.6%\n",
        "Validation accuracy at step 306000: 46.2%"
       ]
      },
      {
       "output_type": "stream",
       "stream": "stdout",
       "text": [
        "\n",
        "Minibatch loss at step"
       ]
      },
      {
       "output_type": "stream",
       "stream": "stdout",
       "text": [
        " 307000 : 3.61711\n",
        "Minibatch accuracy: 50.0%\n",
        "Validation accuracy at step 307000: 45.7%"
       ]
      },
      {
       "output_type": "stream",
       "stream": "stdout",
       "text": [
        "\n",
        "Minibatch loss at step"
       ]
      },
      {
       "output_type": "stream",
       "stream": "stdout",
       "text": [
        " 308000 : 3.21569\n",
        "Minibatch accuracy: 59.4%\n",
        "Validation accuracy at step 308000: 46.1%"
       ]
      },
      {
       "output_type": "stream",
       "stream": "stdout",
       "text": [
        "\n",
        "Minibatch loss at step"
       ]
      },
      {
       "output_type": "stream",
       "stream": "stdout",
       "text": [
        " 309000 : 3.62365\n",
        "Minibatch accuracy: 50.0%\n",
        "Validation accuracy at step 309000: 46.2%"
       ]
      },
      {
       "output_type": "stream",
       "stream": "stdout",
       "text": [
        "\n",
        "Minibatch loss at step"
       ]
      },
      {
       "output_type": "stream",
       "stream": "stdout",
       "text": [
        " 310000 : 3.84278\n",
        "Minibatch accuracy: 43.8%\n",
        "Validation accuracy at step 310000: 46.2%"
       ]
      },
      {
       "output_type": "stream",
       "stream": "stdout",
       "text": [
        "\n",
        "Test accuracy at step 310000: 46.5%"
       ]
      },
      {
       "output_type": "stream",
       "stream": "stdout",
       "text": [
        "\n",
        "Minibatch loss at step"
       ]
      },
      {
       "output_type": "stream",
       "stream": "stdout",
       "text": [
        " 311000 : 3.65889\n",
        "Minibatch accuracy: 37.5%\n",
        "Validation accuracy at step 311000: 46.1%"
       ]
      },
      {
       "output_type": "stream",
       "stream": "stdout",
       "text": [
        "\n",
        "Minibatch loss at step"
       ]
      },
      {
       "output_type": "stream",
       "stream": "stdout",
       "text": [
        " 312000 : 3.506\n",
        "Minibatch accuracy: 43.8%\n",
        "Validation accuracy at step 312000: 46.1%"
       ]
      },
      {
       "output_type": "stream",
       "stream": "stdout",
       "text": [
        "\n",
        "Minibatch loss at step"
       ]
      },
      {
       "output_type": "stream",
       "stream": "stdout",
       "text": [
        " 313000 : 3.16592\n",
        "Minibatch accuracy: 53.1%\n",
        "Validation accuracy at step 313000: 46.7%"
       ]
      },
      {
       "output_type": "stream",
       "stream": "stdout",
       "text": [
        "\n",
        "Minibatch loss at step"
       ]
      },
      {
       "output_type": "stream",
       "stream": "stdout",
       "text": [
        " 314000 : 3.46288\n",
        "Minibatch accuracy: 40.6%\n",
        "Validation accuracy at step 314000: 46.1%"
       ]
      },
      {
       "output_type": "stream",
       "stream": "stdout",
       "text": [
        "\n",
        "Minibatch loss at step"
       ]
      },
      {
       "output_type": "stream",
       "stream": "stdout",
       "text": [
        " 315000 : 3.23859\n",
        "Minibatch accuracy: 56.2%\n",
        "Validation accuracy at step 315000: 45.8%"
       ]
      },
      {
       "output_type": "stream",
       "stream": "stdout",
       "text": [
        "\n",
        "Test accuracy at step 315000: 45.8%"
       ]
      },
      {
       "output_type": "stream",
       "stream": "stdout",
       "text": [
        "\n",
        "Minibatch loss at step"
       ]
      },
      {
       "output_type": "stream",
       "stream": "stdout",
       "text": [
        " 316000 : 3.05156\n",
        "Minibatch accuracy: 59.4%\n",
        "Validation accuracy at step 316000: 46.3%"
       ]
      },
      {
       "output_type": "stream",
       "stream": "stdout",
       "text": [
        "\n",
        "Minibatch loss at step"
       ]
      },
      {
       "output_type": "stream",
       "stream": "stdout",
       "text": [
        " 317000 : 3.23605\n",
        "Minibatch accuracy: 56.2%\n",
        "Validation accuracy at step 317000: 46.5%"
       ]
      },
      {
       "output_type": "stream",
       "stream": "stdout",
       "text": [
        "\n",
        "Minibatch loss at step"
       ]
      },
      {
       "output_type": "stream",
       "stream": "stdout",
       "text": [
        " 318000 : 3.21262\n",
        "Minibatch accuracy: 43.8%\n",
        "Validation accuracy at step 318000: 45.8%"
       ]
      },
      {
       "output_type": "stream",
       "stream": "stdout",
       "text": [
        "\n",
        "Minibatch loss at step"
       ]
      },
      {
       "output_type": "stream",
       "stream": "stdout",
       "text": [
        " 319000 : 3.32472\n",
        "Minibatch accuracy: 59.4%\n",
        "Validation accuracy at step 319000: 45.9%"
       ]
      },
      {
       "output_type": "stream",
       "stream": "stdout",
       "text": [
        "\n",
        "Minibatch loss at step"
       ]
      },
      {
       "output_type": "stream",
       "stream": "stdout",
       "text": [
        " 320000 : 3.4204\n",
        "Minibatch accuracy: 40.6%\n",
        "Validation accuracy at step 320000: 45.2%"
       ]
      },
      {
       "output_type": "stream",
       "stream": "stdout",
       "text": [
        "\n",
        "Test accuracy at step 320000: 45.4%"
       ]
      },
      {
       "output_type": "stream",
       "stream": "stdout",
       "text": [
        "\n",
        "Minibatch loss at step"
       ]
      },
      {
       "output_type": "stream",
       "stream": "stdout",
       "text": [
        " 321000 : 3.17739\n",
        "Minibatch accuracy: 53.1%\n",
        "Validation accuracy at step 321000: 46.5%"
       ]
      },
      {
       "output_type": "stream",
       "stream": "stdout",
       "text": [
        "\n",
        "Minibatch loss at step"
       ]
      },
      {
       "output_type": "stream",
       "stream": "stdout",
       "text": [
        " 322000 : 3.4841\n",
        "Minibatch accuracy: 46.9%\n",
        "Validation accuracy at step 322000: 46.5%"
       ]
      },
      {
       "output_type": "stream",
       "stream": "stdout",
       "text": [
        "\n",
        "Minibatch loss at step"
       ]
      },
      {
       "output_type": "stream",
       "stream": "stdout",
       "text": [
        " 323000 : 3.53094\n",
        "Minibatch accuracy: 46.9%\n",
        "Validation accuracy at step 323000: 46.4%"
       ]
      },
      {
       "output_type": "stream",
       "stream": "stdout",
       "text": [
        "\n",
        "Minibatch loss at step"
       ]
      },
      {
       "output_type": "stream",
       "stream": "stdout",
       "text": [
        " 324000 : 3.3473\n",
        "Minibatch accuracy: 46.9%\n",
        "Validation accuracy at step 324000: 46.0%"
       ]
      },
      {
       "output_type": "stream",
       "stream": "stdout",
       "text": [
        "\n",
        "Minibatch loss at step"
       ]
      },
      {
       "output_type": "stream",
       "stream": "stdout",
       "text": [
        " 325000 : 3.48672\n",
        "Minibatch accuracy: 43.8%\n",
        "Validation accuracy at step 325000: 46.5%"
       ]
      },
      {
       "output_type": "stream",
       "stream": "stdout",
       "text": [
        "\n",
        "Test accuracy at step 325000: 46.9%"
       ]
      },
      {
       "output_type": "stream",
       "stream": "stdout",
       "text": [
        "\n",
        "Minibatch loss at step"
       ]
      },
      {
       "output_type": "stream",
       "stream": "stdout",
       "text": [
        " 326000 : 3.35604\n",
        "Minibatch accuracy: 37.5%\n",
        "Validation accuracy at step 326000: 46.6%"
       ]
      },
      {
       "output_type": "stream",
       "stream": "stdout",
       "text": [
        "\n",
        "Minibatch loss at step"
       ]
      },
      {
       "output_type": "stream",
       "stream": "stdout",
       "text": [
        " 327000 : 3.14727\n",
        "Minibatch accuracy: 59.4%\n",
        "Validation accuracy at step 327000: 46.8%"
       ]
      },
      {
       "output_type": "stream",
       "stream": "stdout",
       "text": [
        "\n",
        "Minibatch loss at step"
       ]
      },
      {
       "output_type": "stream",
       "stream": "stdout",
       "text": [
        " 328000 : 3.17723\n",
        "Minibatch accuracy: 56.2%\n",
        "Validation accuracy at step 328000: 46.7%"
       ]
      },
      {
       "output_type": "stream",
       "stream": "stdout",
       "text": [
        "\n",
        "Minibatch loss at step"
       ]
      },
      {
       "output_type": "stream",
       "stream": "stdout",
       "text": [
        " 329000 : 3.37704\n",
        "Minibatch accuracy: 46.9%\n",
        "Validation accuracy at step 329000: 46.5%"
       ]
      },
      {
       "output_type": "stream",
       "stream": "stdout",
       "text": [
        "\n",
        "Minibatch loss at step"
       ]
      },
      {
       "output_type": "stream",
       "stream": "stdout",
       "text": [
        " 330000 : 3.59069\n",
        "Minibatch accuracy: 40.6%\n",
        "Validation accuracy at step 330000: 46.9%"
       ]
      },
      {
       "output_type": "stream",
       "stream": "stdout",
       "text": [
        "\n",
        "Test accuracy at step 330000: 46.9%"
       ]
      },
      {
       "output_type": "stream",
       "stream": "stdout",
       "text": [
        "\n",
        "Minibatch loss at step"
       ]
      },
      {
       "output_type": "stream",
       "stream": "stdout",
       "text": [
        " 331000 : 3.65939\n",
        "Minibatch accuracy: 37.5%\n",
        "Validation accuracy at step 331000: 47.0%"
       ]
      },
      {
       "output_type": "stream",
       "stream": "stdout",
       "text": [
        "\n",
        "Minibatch loss at step"
       ]
      },
      {
       "output_type": "stream",
       "stream": "stdout",
       "text": [
        " 332000 : 3.29116\n",
        "Minibatch accuracy: 53.1%\n",
        "Validation accuracy at step 332000: 46.5%"
       ]
      },
      {
       "output_type": "stream",
       "stream": "stdout",
       "text": [
        "\n",
        "Minibatch loss at step"
       ]
      },
      {
       "output_type": "stream",
       "stream": "stdout",
       "text": [
        " 333000 : 3.08267\n",
        "Minibatch accuracy: 50.0%\n",
        "Validation accuracy at step 333000: 46.9%"
       ]
      },
      {
       "output_type": "stream",
       "stream": "stdout",
       "text": [
        "\n",
        "Minibatch loss at step"
       ]
      },
      {
       "output_type": "stream",
       "stream": "stdout",
       "text": [
        " 334000 : 3.37826\n",
        "Minibatch accuracy: 50.0%\n",
        "Validation accuracy at step 334000: 47.0%"
       ]
      },
      {
       "output_type": "stream",
       "stream": "stdout",
       "text": [
        "\n",
        "Minibatch loss at step"
       ]
      },
      {
       "output_type": "stream",
       "stream": "stdout",
       "text": [
        " 335000 : 3.42361\n",
        "Minibatch accuracy: 40.6%\n",
        "Validation accuracy at step 335000: 47.0%"
       ]
      },
      {
       "output_type": "stream",
       "stream": "stdout",
       "text": [
        "\n",
        "Test accuracy at step 335000: 47.1%"
       ]
      },
      {
       "output_type": "stream",
       "stream": "stdout",
       "text": [
        "\n",
        "Minibatch loss at step"
       ]
      },
      {
       "output_type": "stream",
       "stream": "stdout",
       "text": [
        " 336000 : 3.72429\n",
        "Minibatch accuracy: 37.5%\n",
        "Validation accuracy at step 336000: 46.8%"
       ]
      },
      {
       "output_type": "stream",
       "stream": "stdout",
       "text": [
        "\n",
        "Minibatch loss at step"
       ]
      },
      {
       "output_type": "stream",
       "stream": "stdout",
       "text": [
        " 337000 : 3.36165\n",
        "Minibatch accuracy: 43.8%\n",
        "Validation accuracy at step 337000: 46.3%"
       ]
      },
      {
       "output_type": "stream",
       "stream": "stdout",
       "text": [
        "\n",
        "Minibatch loss at step"
       ]
      },
      {
       "output_type": "stream",
       "stream": "stdout",
       "text": [
        " 338000 : 3.20649\n",
        "Minibatch accuracy: 50.0%\n",
        "Validation accuracy at step 338000: 46.6%"
       ]
      },
      {
       "output_type": "stream",
       "stream": "stdout",
       "text": [
        "\n",
        "Minibatch loss at step"
       ]
      },
      {
       "output_type": "stream",
       "stream": "stdout",
       "text": [
        " 339000 : 3.19867\n",
        "Minibatch accuracy: 59.4%\n",
        "Validation accuracy at step 339000: 46.9%"
       ]
      },
      {
       "output_type": "stream",
       "stream": "stdout",
       "text": [
        "\n",
        "Minibatch loss at step"
       ]
      },
      {
       "output_type": "stream",
       "stream": "stdout",
       "text": [
        " 340000 : 3.31515\n",
        "Minibatch accuracy: 43.8%\n",
        "Validation accuracy at step 340000: 46.5%"
       ]
      },
      {
       "output_type": "stream",
       "stream": "stdout",
       "text": [
        "\n",
        "Test accuracy at step 340000: 46.5%"
       ]
      },
      {
       "output_type": "stream",
       "stream": "stdout",
       "text": [
        "\n",
        "Minibatch loss at step"
       ]
      },
      {
       "output_type": "stream",
       "stream": "stdout",
       "text": [
        " 341000 : 3.33002\n",
        "Minibatch accuracy: 43.8%\n",
        "Validation accuracy at step 341000: 46.8%"
       ]
      },
      {
       "output_type": "stream",
       "stream": "stdout",
       "text": [
        "\n",
        "Minibatch loss at step"
       ]
      },
      {
       "output_type": "stream",
       "stream": "stdout",
       "text": [
        " 342000 : 3.25732\n",
        "Minibatch accuracy: 56.2%\n",
        "Validation accuracy at step 342000: 46.3%"
       ]
      },
      {
       "output_type": "stream",
       "stream": "stdout",
       "text": [
        "\n",
        "Minibatch loss at step"
       ]
      },
      {
       "output_type": "stream",
       "stream": "stdout",
       "text": [
        " 343000 : 3.4848\n",
        "Minibatch accuracy: 40.6%\n",
        "Validation accuracy at step 343000: 46.0%"
       ]
      },
      {
       "output_type": "stream",
       "stream": "stdout",
       "text": [
        "\n",
        "Minibatch loss at step"
       ]
      },
      {
       "output_type": "stream",
       "stream": "stdout",
       "text": [
        " 344000 : 3.37945\n",
        "Minibatch accuracy: 40.6%\n",
        "Validation accuracy at step 344000: 46.6%"
       ]
      },
      {
       "output_type": "stream",
       "stream": "stdout",
       "text": [
        "\n",
        "Minibatch loss at step"
       ]
      },
      {
       "output_type": "stream",
       "stream": "stdout",
       "text": [
        " 345000 : 3.13775\n",
        "Minibatch accuracy: 65.6%\n",
        "Validation accuracy at step 345000: 47.0%"
       ]
      },
      {
       "output_type": "stream",
       "stream": "stdout",
       "text": [
        "\n",
        "Test accuracy at step 345000: 47.1%"
       ]
      },
      {
       "output_type": "stream",
       "stream": "stdout",
       "text": [
        "\n",
        "Minibatch loss at step"
       ]
      },
      {
       "output_type": "stream",
       "stream": "stdout",
       "text": [
        " 346000 : 3.53684\n",
        "Minibatch accuracy: 37.5%\n",
        "Validation accuracy at step 346000: 47.0%"
       ]
      },
      {
       "output_type": "stream",
       "stream": "stdout",
       "text": [
        "\n",
        "Minibatch loss at step"
       ]
      },
      {
       "output_type": "stream",
       "stream": "stdout",
       "text": [
        " 347000 : 3.38418\n",
        "Minibatch accuracy: 40.6%\n",
        "Validation accuracy at step 347000: 45.9%"
       ]
      },
      {
       "output_type": "stream",
       "stream": "stdout",
       "text": [
        "\n",
        "Minibatch loss at step"
       ]
      },
      {
       "output_type": "stream",
       "stream": "stdout",
       "text": [
        " 348000 : 3.44291\n",
        "Minibatch accuracy: 31.2%\n",
        "Validation accuracy at step 348000: 47.1%"
       ]
      },
      {
       "output_type": "stream",
       "stream": "stdout",
       "text": [
        "\n",
        "Minibatch loss at step"
       ]
      },
      {
       "output_type": "stream",
       "stream": "stdout",
       "text": [
        " 349000 : 3.2742\n",
        "Minibatch accuracy: 50.0%\n",
        "Validation accuracy at step 349000: 47.3%"
       ]
      },
      {
       "output_type": "stream",
       "stream": "stdout",
       "text": [
        "\n",
        "Minibatch loss at step"
       ]
      },
      {
       "output_type": "stream",
       "stream": "stdout",
       "text": [
        " 350000 : 3.33861\n",
        "Minibatch accuracy: 50.0%\n",
        "Validation accuracy at step 350000: 46.9%"
       ]
      },
      {
       "output_type": "stream",
       "stream": "stdout",
       "text": [
        "\n",
        "Test accuracy at step 350000: 46.8%"
       ]
      },
      {
       "output_type": "stream",
       "stream": "stdout",
       "text": [
        "\n",
        "Minibatch loss at step"
       ]
      },
      {
       "output_type": "stream",
       "stream": "stdout",
       "text": [
        " 351000 : 3.40792\n",
        "Minibatch accuracy: 34.4%\n",
        "Validation accuracy at step 351000: 47.2%"
       ]
      },
      {
       "output_type": "stream",
       "stream": "stdout",
       "text": [
        "\n",
        "Minibatch loss at step"
       ]
      },
      {
       "output_type": "stream",
       "stream": "stdout",
       "text": [
        " 352000 : 3.48337\n",
        "Minibatch accuracy: 37.5%\n",
        "Validation accuracy at step 352000: 46.3%"
       ]
      },
      {
       "output_type": "stream",
       "stream": "stdout",
       "text": [
        "\n",
        "Minibatch loss at step"
       ]
      },
      {
       "output_type": "stream",
       "stream": "stdout",
       "text": [
        " 353000 : 3.09943\n",
        "Minibatch accuracy: 65.6%\n",
        "Validation accuracy at step 353000: 46.9%"
       ]
      },
      {
       "output_type": "stream",
       "stream": "stdout",
       "text": [
        "\n",
        "Minibatch loss at step"
       ]
      },
      {
       "output_type": "stream",
       "stream": "stdout",
       "text": [
        " 354000 : 3.42145\n",
        "Minibatch accuracy: 50.0%\n",
        "Validation accuracy at step 354000: 47.1%"
       ]
      },
      {
       "output_type": "stream",
       "stream": "stdout",
       "text": [
        "\n",
        "Minibatch loss at step"
       ]
      },
      {
       "output_type": "stream",
       "stream": "stdout",
       "text": [
        " 355000 : 3.3499\n",
        "Minibatch accuracy: 53.1%\n",
        "Validation accuracy at step 355000: 47.0%"
       ]
      },
      {
       "output_type": "stream",
       "stream": "stdout",
       "text": [
        "\n",
        "Test accuracy at step 355000: 47.2%"
       ]
      },
      {
       "output_type": "stream",
       "stream": "stdout",
       "text": [
        "\n",
        "Minibatch loss at step"
       ]
      },
      {
       "output_type": "stream",
       "stream": "stdout",
       "text": [
        " 356000 : 3.32541\n",
        "Minibatch accuracy: 56.2%\n",
        "Validation accuracy at step 356000: 47.1%"
       ]
      },
      {
       "output_type": "stream",
       "stream": "stdout",
       "text": [
        "\n",
        "Minibatch loss at step"
       ]
      },
      {
       "output_type": "stream",
       "stream": "stdout",
       "text": [
        " 357000 : 3.33384\n",
        "Minibatch accuracy: 56.2%\n",
        "Validation accuracy at step 357000: 46.7%"
       ]
      },
      {
       "output_type": "stream",
       "stream": "stdout",
       "text": [
        "\n",
        "Minibatch loss at step"
       ]
      },
      {
       "output_type": "stream",
       "stream": "stdout",
       "text": [
        " 358000 : 3.32693\n",
        "Minibatch accuracy: 46.9%\n",
        "Validation accuracy at step 358000: 46.5%"
       ]
      },
      {
       "output_type": "stream",
       "stream": "stdout",
       "text": [
        "\n",
        "Minibatch loss at step"
       ]
      },
      {
       "output_type": "stream",
       "stream": "stdout",
       "text": [
        " 359000 : 3.32431\n",
        "Minibatch accuracy: 53.1%\n",
        "Validation accuracy at step 359000: 46.7%"
       ]
      },
      {
       "output_type": "stream",
       "stream": "stdout",
       "text": [
        "\n",
        "Minibatch loss at step"
       ]
      },
      {
       "output_type": "stream",
       "stream": "stdout",
       "text": [
        " 360000 : 3.41275\n",
        "Minibatch accuracy: 40.6%\n",
        "Validation accuracy at step 360000: 47.0%"
       ]
      },
      {
       "output_type": "stream",
       "stream": "stdout",
       "text": [
        "\n",
        "Test accuracy at step 360000: 46.9%"
       ]
      },
      {
       "output_type": "stream",
       "stream": "stdout",
       "text": [
        "\n",
        "Minibatch loss at step"
       ]
      },
      {
       "output_type": "stream",
       "stream": "stdout",
       "text": [
        " 361000 : 3.25885\n",
        "Minibatch accuracy: 53.1%\n",
        "Validation accuracy at step 361000: 46.5%"
       ]
      },
      {
       "output_type": "stream",
       "stream": "stdout",
       "text": [
        "\n",
        "Minibatch loss at step"
       ]
      },
      {
       "output_type": "stream",
       "stream": "stdout",
       "text": [
        " 362000 : 3.196\n",
        "Minibatch accuracy: 56.2%\n",
        "Validation accuracy at step 362000: 46.9%"
       ]
      },
      {
       "output_type": "stream",
       "stream": "stdout",
       "text": [
        "\n",
        "Minibatch loss at step"
       ]
      },
      {
       "output_type": "stream",
       "stream": "stdout",
       "text": [
        " 363000 : 3.33521\n",
        "Minibatch accuracy: 46.9%\n",
        "Validation accuracy at step 363000: 46.4%"
       ]
      },
      {
       "output_type": "stream",
       "stream": "stdout",
       "text": [
        "\n",
        "Minibatch loss at step"
       ]
      },
      {
       "output_type": "stream",
       "stream": "stdout",
       "text": [
        " 364000 : 3.37028\n",
        "Minibatch accuracy: 40.6%\n",
        "Validation accuracy at step 364000: 46.8%"
       ]
      },
      {
       "output_type": "stream",
       "stream": "stdout",
       "text": [
        "\n",
        "Minibatch loss at step"
       ]
      },
      {
       "output_type": "stream",
       "stream": "stdout",
       "text": [
        " 365000 : 3.35844\n",
        "Minibatch accuracy: 43.8%\n",
        "Validation accuracy at step 365000: 46.8%"
       ]
      },
      {
       "output_type": "stream",
       "stream": "stdout",
       "text": [
        "\n",
        "Test accuracy at step 365000: 47.2%"
       ]
      },
      {
       "output_type": "stream",
       "stream": "stdout",
       "text": [
        "\n",
        "Minibatch loss at step"
       ]
      },
      {
       "output_type": "stream",
       "stream": "stdout",
       "text": [
        " 366000 : 3.14627\n",
        "Minibatch accuracy: 68.8%\n",
        "Validation accuracy at step 366000: 46.9%"
       ]
      },
      {
       "output_type": "stream",
       "stream": "stdout",
       "text": [
        "\n",
        "Minibatch loss at step"
       ]
      },
      {
       "output_type": "stream",
       "stream": "stdout",
       "text": [
        " 367000 : 3.33121\n",
        "Minibatch accuracy: 46.9%\n",
        "Validation accuracy at step 367000: 46.9%"
       ]
      },
      {
       "output_type": "stream",
       "stream": "stdout",
       "text": [
        "\n",
        "Minibatch loss at step"
       ]
      },
      {
       "output_type": "stream",
       "stream": "stdout",
       "text": [
        " 368000 : 3.19089\n",
        "Minibatch accuracy: 46.9%\n",
        "Validation accuracy at step 368000: 46.8%"
       ]
      },
      {
       "output_type": "stream",
       "stream": "stdout",
       "text": [
        "\n",
        "Minibatch loss at step"
       ]
      },
      {
       "output_type": "stream",
       "stream": "stdout",
       "text": [
        " 369000 : 3.35659\n",
        "Minibatch accuracy: 43.8%\n",
        "Validation accuracy at step 369000: 46.9%"
       ]
      },
      {
       "output_type": "stream",
       "stream": "stdout",
       "text": [
        "\n",
        "Minibatch loss at step"
       ]
      },
      {
       "output_type": "stream",
       "stream": "stdout",
       "text": [
        " 370000 : 3.07356\n",
        "Minibatch accuracy: 65.6%\n",
        "Validation accuracy at step 370000: 47.1%"
       ]
      },
      {
       "output_type": "stream",
       "stream": "stdout",
       "text": [
        "\n",
        "Test accuracy at step 370000: 47.2%"
       ]
      },
      {
       "output_type": "stream",
       "stream": "stdout",
       "text": [
        "\n",
        "Minibatch loss at step"
       ]
      },
      {
       "output_type": "stream",
       "stream": "stdout",
       "text": [
        " 371000 : 3.52074\n",
        "Minibatch accuracy: 43.8%\n",
        "Validation accuracy at step 371000: 47.0%"
       ]
      },
      {
       "output_type": "stream",
       "stream": "stdout",
       "text": [
        "\n",
        "Minibatch loss at step"
       ]
      },
      {
       "output_type": "stream",
       "stream": "stdout",
       "text": [
        " 372000 : 3.51013\n",
        "Minibatch accuracy: 34.4%\n",
        "Validation accuracy at step 372000: 46.9%"
       ]
      },
      {
       "output_type": "stream",
       "stream": "stdout",
       "text": [
        "\n",
        "Minibatch loss at step"
       ]
      },
      {
       "output_type": "stream",
       "stream": "stdout",
       "text": [
        " 373000 : 3.24049\n",
        "Minibatch accuracy: 50.0%\n",
        "Validation accuracy at step 373000: 46.8%"
       ]
      },
      {
       "output_type": "stream",
       "stream": "stdout",
       "text": [
        "\n",
        "Minibatch loss at step"
       ]
      },
      {
       "output_type": "stream",
       "stream": "stdout",
       "text": [
        " 374000 : 3.1732\n",
        "Minibatch accuracy: 62.5%\n",
        "Validation accuracy at step 374000: 46.8%"
       ]
      },
      {
       "output_type": "stream",
       "stream": "stdout",
       "text": [
        "\n",
        "Minibatch loss at step"
       ]
      },
      {
       "output_type": "stream",
       "stream": "stdout",
       "text": [
        " 375000 : 3.30027\n",
        "Minibatch accuracy: 53.1%\n",
        "Validation accuracy at step 375000: 47.1%"
       ]
      },
      {
       "output_type": "stream",
       "stream": "stdout",
       "text": [
        "\n",
        "Test accuracy at step 375000: 47.2%"
       ]
      },
      {
       "output_type": "stream",
       "stream": "stdout",
       "text": [
        "\n",
        "Minibatch loss at step"
       ]
      },
      {
       "output_type": "stream",
       "stream": "stdout",
       "text": [
        " 376000 : 3.19775\n",
        "Minibatch accuracy: 56.2%\n",
        "Validation accuracy at step 376000: 47.0%"
       ]
      },
      {
       "output_type": "stream",
       "stream": "stdout",
       "text": [
        "\n",
        "Minibatch loss at step"
       ]
      },
      {
       "output_type": "stream",
       "stream": "stdout",
       "text": [
        " 377000 : 3.69497\n",
        "Minibatch accuracy: 31.2%\n",
        "Validation accuracy at step 377000: 47.2%"
       ]
      },
      {
       "output_type": "stream",
       "stream": "stdout",
       "text": [
        "\n",
        "Minibatch loss at step"
       ]
      },
      {
       "output_type": "stream",
       "stream": "stdout",
       "text": [
        " 378000 : 3.24209\n",
        "Minibatch accuracy: 53.1%\n",
        "Validation accuracy at step 378000: 47.0%"
       ]
      },
      {
       "output_type": "stream",
       "stream": "stdout",
       "text": [
        "\n",
        "Minibatch loss at step"
       ]
      },
      {
       "output_type": "stream",
       "stream": "stdout",
       "text": [
        " 379000 : 3.63856\n",
        "Minibatch accuracy: 43.8%\n",
        "Validation accuracy at step 379000: 47.2%"
       ]
      },
      {
       "output_type": "stream",
       "stream": "stdout",
       "text": [
        "\n",
        "Minibatch loss at step"
       ]
      },
      {
       "output_type": "stream",
       "stream": "stdout",
       "text": [
        " 380000 : 3.42049\n",
        "Minibatch accuracy: 43.8%\n",
        "Validation accuracy at step 380000: 47.1%"
       ]
      },
      {
       "output_type": "stream",
       "stream": "stdout",
       "text": [
        "\n",
        "Test accuracy at step 380000: 46.9%"
       ]
      },
      {
       "output_type": "stream",
       "stream": "stdout",
       "text": [
        "\n",
        "Minibatch loss at step"
       ]
      },
      {
       "output_type": "stream",
       "stream": "stdout",
       "text": [
        " 381000 : 3.48678\n",
        "Minibatch accuracy: 31.2%\n",
        "Validation accuracy at step 381000: 47.0%"
       ]
      },
      {
       "output_type": "stream",
       "stream": "stdout",
       "text": [
        "\n",
        "Minibatch loss at step"
       ]
      },
      {
       "output_type": "stream",
       "stream": "stdout",
       "text": [
        " 382000 : 3.12641\n",
        "Minibatch accuracy: 62.5%\n",
        "Validation accuracy at step 382000: 47.1%"
       ]
      },
      {
       "output_type": "stream",
       "stream": "stdout",
       "text": [
        "\n",
        "Minibatch loss at step"
       ]
      },
      {
       "output_type": "stream",
       "stream": "stdout",
       "text": [
        " 383000 : 3.09117\n",
        "Minibatch accuracy: 62.5%\n",
        "Validation accuracy at step 383000: 46.9%"
       ]
      },
      {
       "output_type": "stream",
       "stream": "stdout",
       "text": [
        "\n",
        "Minibatch loss at step"
       ]
      },
      {
       "output_type": "stream",
       "stream": "stdout",
       "text": [
        " 384000 : 3.30306\n",
        "Minibatch accuracy: 53.1%\n",
        "Validation accuracy at step 384000: 47.0%"
       ]
      },
      {
       "output_type": "stream",
       "stream": "stdout",
       "text": [
        "\n",
        "Minibatch loss at step"
       ]
      },
      {
       "output_type": "stream",
       "stream": "stdout",
       "text": [
        " 385000 : 3.16807\n",
        "Minibatch accuracy: 53.1%\n",
        "Validation accuracy at step 385000: 47.4%"
       ]
      },
      {
       "output_type": "stream",
       "stream": "stdout",
       "text": [
        "\n",
        "Test accuracy at step 385000: 47.2%"
       ]
      },
      {
       "output_type": "stream",
       "stream": "stdout",
       "text": [
        "\n",
        "Minibatch loss at step"
       ]
      },
      {
       "output_type": "stream",
       "stream": "stdout",
       "text": [
        " 386000 : 3.04075\n",
        "Minibatch accuracy: 68.8%\n",
        "Validation accuracy at step 386000: 47.0%"
       ]
      },
      {
       "output_type": "stream",
       "stream": "stdout",
       "text": [
        "\n",
        "Minibatch loss at step"
       ]
      },
      {
       "output_type": "stream",
       "stream": "stdout",
       "text": [
        " 387000 : 3.43495\n",
        "Minibatch accuracy: 34.4%\n",
        "Validation accuracy at step 387000: 46.9%"
       ]
      },
      {
       "output_type": "stream",
       "stream": "stdout",
       "text": [
        "\n",
        "Minibatch loss at step"
       ]
      },
      {
       "output_type": "stream",
       "stream": "stdout",
       "text": [
        " 388000 : 3.25417\n",
        "Minibatch accuracy: 34.4%\n",
        "Validation accuracy at step 388000: 47.1%"
       ]
      },
      {
       "output_type": "stream",
       "stream": "stdout",
       "text": [
        "\n",
        "Minibatch loss at step"
       ]
      },
      {
       "output_type": "stream",
       "stream": "stdout",
       "text": [
        " 389000 : 3.39077\n",
        "Minibatch accuracy: 37.5%\n",
        "Validation accuracy at step 389000: 46.9%"
       ]
      },
      {
       "output_type": "stream",
       "stream": "stdout",
       "text": [
        "\n",
        "Minibatch loss at step"
       ]
      },
      {
       "output_type": "stream",
       "stream": "stdout",
       "text": [
        " 390000 : 3.51651\n",
        "Minibatch accuracy: 40.6%\n",
        "Validation accuracy at step 390000: 47.2%"
       ]
      },
      {
       "output_type": "stream",
       "stream": "stdout",
       "text": [
        "\n",
        "Test accuracy at step 390000: 47.2%"
       ]
      },
      {
       "output_type": "stream",
       "stream": "stdout",
       "text": [
        "\n",
        "Minibatch loss at step"
       ]
      },
      {
       "output_type": "stream",
       "stream": "stdout",
       "text": [
        " 391000 : 3.48656\n",
        "Minibatch accuracy: 34.4%\n",
        "Validation accuracy at step 391000: 47.3%"
       ]
      },
      {
       "output_type": "stream",
       "stream": "stdout",
       "text": [
        "\n",
        "Minibatch loss at step"
       ]
      },
      {
       "output_type": "stream",
       "stream": "stdout",
       "text": [
        " 392000 : 3.37768\n",
        "Minibatch accuracy: 46.9%\n",
        "Validation accuracy at step 392000: 46.7%"
       ]
      },
      {
       "output_type": "stream",
       "stream": "stdout",
       "text": [
        "\n",
        "Minibatch loss at step"
       ]
      },
      {
       "output_type": "stream",
       "stream": "stdout",
       "text": [
        " 393000 : 3.18884\n",
        "Minibatch accuracy: 53.1%\n",
        "Validation accuracy at step 393000: 47.1%"
       ]
      },
      {
       "output_type": "stream",
       "stream": "stdout",
       "text": [
        "\n",
        "Minibatch loss at step"
       ]
      },
      {
       "output_type": "stream",
       "stream": "stdout",
       "text": [
        " 394000 : 3.40232\n",
        "Minibatch accuracy: 37.5%\n",
        "Validation accuracy at step 394000: 47.2%"
       ]
      },
      {
       "output_type": "stream",
       "stream": "stdout",
       "text": [
        "\n",
        "Minibatch loss at step"
       ]
      },
      {
       "output_type": "stream",
       "stream": "stdout",
       "text": [
        " 395000 : 3.30828\n",
        "Minibatch accuracy: 53.1%\n",
        "Validation accuracy at step 395000: 47.3%"
       ]
      },
      {
       "output_type": "stream",
       "stream": "stdout",
       "text": [
        "\n",
        "Test accuracy at step 395000: 46.8%"
       ]
      },
      {
       "output_type": "stream",
       "stream": "stdout",
       "text": [
        "\n",
        "Minibatch loss at step"
       ]
      },
      {
       "output_type": "stream",
       "stream": "stdout",
       "text": [
        " 396000 : 3.12899\n",
        "Minibatch accuracy: 56.2%\n",
        "Validation accuracy at step 396000: 47.2%"
       ]
      },
      {
       "output_type": "stream",
       "stream": "stdout",
       "text": [
        "\n",
        "Minibatch loss at step"
       ]
      },
      {
       "output_type": "stream",
       "stream": "stdout",
       "text": [
        " 397000 : 2.86596\n",
        "Minibatch accuracy: 78.1%\n",
        "Validation accuracy at step 397000: 47.2%"
       ]
      },
      {
       "output_type": "stream",
       "stream": "stdout",
       "text": [
        "\n",
        "Minibatch loss at step"
       ]
      },
      {
       "output_type": "stream",
       "stream": "stdout",
       "text": [
        " 398000 : 3.14699\n",
        "Minibatch accuracy: 56.2%\n",
        "Validation accuracy at step 398000: 46.9%"
       ]
      },
      {
       "output_type": "stream",
       "stream": "stdout",
       "text": [
        "\n",
        "Minibatch loss at step"
       ]
      },
      {
       "output_type": "stream",
       "stream": "stdout",
       "text": [
        " 399000 : 3.04399\n",
        "Minibatch accuracy: 62.5%\n",
        "Validation accuracy at step 399000: 47.0%"
       ]
      },
      {
       "output_type": "stream",
       "stream": "stdout",
       "text": [
        "\n",
        "Minibatch loss at step"
       ]
      },
      {
       "output_type": "stream",
       "stream": "stdout",
       "text": [
        " 400000 : 3.61989\n",
        "Minibatch accuracy: 31.2%\n",
        "Validation accuracy at step 400000: 47.1%"
       ]
      },
      {
       "output_type": "stream",
       "stream": "stdout",
       "text": [
        "\n",
        "Test accuracy at step 400000: 46.9%\n"
       ]
      },
      {
       "output_type": "stream",
       "stream": "stdout",
       "text": [
        "\n",
        "Elapsed time: 6.55357307692 hours\n",
        "The best validation accuracy was 47.38 at step 385000"
       ]
      },
      {
       "output_type": "stream",
       "stream": "stdout",
       "text": [
        "\n",
        "The best test accuracy was 47.25 at step 370000\n"
       ]
      }
     ],
     "prompt_number": 21
    },
    {
     "cell_type": "code",
     "collapsed": false,
     "input": [
      "# wise inception module excecuted for 400K steps with a longer decay step of 50000\n",
      "model = create_inception_module_model(learning_rate = 0.00025, l2_lambda = 0.025, feature_maps = 25, initialised_weights_stddev = 0.5, decay_steps = 50000, decay_rate = 0.96)\n",
      "steps_to_validation_predictions, steps_to_test_predictions = train_model(model, 400001, dropout_keep_prob = 0.9)\n",
      "correct_prediction_indexes, incorrect_prediction_indexes = visualise_accuracies(steps_to_validation_predictions, steps_to_test_predictions)"
     ],
     "language": "python",
     "metadata": {},
     "outputs": [
      {
       "output_type": "stream",
       "stream": "stdout",
       "text": [
        "data shape: [32, 32, 32, 3]\n",
        "one_by_one_conv_weights_to_three_by_three_output shape: [32, 32, 32, 25]\n",
        "one_by_one_conv_weights_to_five_by_five_output shape: [32, 32, 32, 25]\n",
        "max_pool_output shape: [32, 32, 32, 3]\n",
        "one_by_one_output_to_depthconcat shape: [32, 32, 32, 25]\n",
        "three_by_three_output shape: [32, 32, 32, 25]\n",
        "five_by_five_output shape: [32, 32, 32, 25]\n"
       ]
      },
      {
       "ename": "ValueError",
       "evalue": "('filter must not be larger than the input: ', 'Filter: [', Dimension(256), 'x', Dimension(256), '] ', 'Input: [', Dimension(32), 'x', Dimension(32), '] ')",
       "output_type": "pyerr",
       "traceback": [
        "\u001b[1;31m---------------------------------------------------------------------------\u001b[0m\n\u001b[1;31mValueError\u001b[0m                                Traceback (most recent call last)",
        "\u001b[1;32m<ipython-input-19-283bff1d71cf>\u001b[0m in \u001b[0;36m<module>\u001b[1;34m()\u001b[0m\n\u001b[0;32m      1\u001b[0m \u001b[1;31m# wise inception module excecuted for 400K steps with a longer decay step of 50000\u001b[0m\u001b[1;33m\u001b[0m\u001b[1;33m\u001b[0m\u001b[0m\n\u001b[1;32m----> 2\u001b[1;33m \u001b[0mmodel\u001b[0m \u001b[1;33m=\u001b[0m \u001b[0mcreate_inception_module_model\u001b[0m\u001b[1;33m(\u001b[0m\u001b[0mlearning_rate\u001b[0m \u001b[1;33m=\u001b[0m \u001b[1;36m0.00025\u001b[0m\u001b[1;33m,\u001b[0m \u001b[0ml2_lambda\u001b[0m \u001b[1;33m=\u001b[0m \u001b[1;36m0.025\u001b[0m\u001b[1;33m,\u001b[0m \u001b[0mfeature_maps\u001b[0m \u001b[1;33m=\u001b[0m \u001b[1;36m25\u001b[0m\u001b[1;33m,\u001b[0m \u001b[0minitialised_weights_stddev\u001b[0m \u001b[1;33m=\u001b[0m \u001b[1;36m0.5\u001b[0m\u001b[1;33m,\u001b[0m \u001b[0mdecay_steps\u001b[0m \u001b[1;33m=\u001b[0m \u001b[1;36m50000\u001b[0m\u001b[1;33m,\u001b[0m \u001b[0mdecay_rate\u001b[0m \u001b[1;33m=\u001b[0m \u001b[1;36m0.96\u001b[0m\u001b[1;33m)\u001b[0m\u001b[1;33m\u001b[0m\u001b[0m\n\u001b[0m\u001b[0;32m      3\u001b[0m \u001b[0msteps_to_validation_predictions\u001b[0m\u001b[1;33m,\u001b[0m \u001b[0msteps_to_test_predictions\u001b[0m \u001b[1;33m=\u001b[0m \u001b[0mtrain_model\u001b[0m\u001b[1;33m(\u001b[0m\u001b[0mmodel\u001b[0m\u001b[1;33m,\u001b[0m \u001b[1;36m400001\u001b[0m\u001b[1;33m,\u001b[0m \u001b[0mdropout_keep_prob\u001b[0m \u001b[1;33m=\u001b[0m \u001b[1;36m0.9\u001b[0m\u001b[1;33m)\u001b[0m\u001b[1;33m\u001b[0m\u001b[0m\n\u001b[0;32m      4\u001b[0m \u001b[0mcorrect_prediction_indexes\u001b[0m\u001b[1;33m,\u001b[0m \u001b[0mincorrect_prediction_indexes\u001b[0m \u001b[1;33m=\u001b[0m \u001b[0mvisualise_accuracies\u001b[0m\u001b[1;33m(\u001b[0m\u001b[0msteps_to_validation_predictions\u001b[0m\u001b[1;33m,\u001b[0m \u001b[0msteps_to_test_predictions\u001b[0m\u001b[1;33m)\u001b[0m\u001b[1;33m\u001b[0m\u001b[0m\n",
        "\u001b[1;32m<ipython-input-18-e3923e4c3e74>\u001b[0m in \u001b[0;36mcreate_inception_module_model\u001b[1;34m(learning_rate, initialised_weights_stddev, feature_maps, batch_size, l2_lambda, decay_steps, decay_rate)\u001b[0m\n\u001b[0;32m    233\u001b[0m \u001b[1;33m\u001b[0m\u001b[0m\n\u001b[0;32m    234\u001b[0m         \u001b[1;31m# Training computation.\u001b[0m\u001b[1;33m\u001b[0m\u001b[1;33m\u001b[0m\u001b[0m\n\u001b[1;32m--> 235\u001b[1;33m         \u001b[0mlogits\u001b[0m \u001b[1;33m=\u001b[0m \u001b[0mcreate_model_graph\u001b[0m\u001b[1;33m(\u001b[0m\u001b[0mtf_train_dataset\u001b[0m\u001b[1;33m,\u001b[0m \u001b[0madd_dropout\u001b[0m \u001b[1;33m=\u001b[0m \u001b[0mTrue\u001b[0m\u001b[1;33m)\u001b[0m\u001b[1;33m\u001b[0m\u001b[0m\n\u001b[0m\u001b[0;32m    236\u001b[0m         \u001b[0mlayer_weights\u001b[0m \u001b[1;33m=\u001b[0m \u001b[1;33m[\u001b[0m\u001b[0mone_by_one_conv_weights_to_three_by_three\u001b[0m\u001b[1;33m,\u001b[0m \u001b[0mone_by_one_conv_weights_to_five_by_five\u001b[0m\u001b[1;33m,\u001b[0m \u001b[0mone_by_one_conv_weights_to_depthconcat\u001b[0m\u001b[1;33m,\u001b[0m \u001b[0mone_by_one_conv_weights_from_max_pool\u001b[0m\u001b[1;33m,\u001b[0m \u001b[0mthree_by_three_conv_weights\u001b[0m\u001b[1;33m,\u001b[0m \u001b[0mfive_by_five_conv_weights\u001b[0m\u001b[1;33m,\u001b[0m \u001b[0mfc_weights\u001b[0m\u001b[1;33m]\u001b[0m\u001b[1;33m\u001b[0m\u001b[0m\n\u001b[0;32m    237\u001b[0m         \u001b[0mloss\u001b[0m \u001b[1;33m=\u001b[0m \u001b[0mtf\u001b[0m\u001b[1;33m.\u001b[0m\u001b[0mreduce_mean\u001b[0m\u001b[1;33m(\u001b[0m\u001b[0mtf\u001b[0m\u001b[1;33m.\u001b[0m\u001b[0mnn\u001b[0m\u001b[1;33m.\u001b[0m\u001b[0msoftmax_cross_entropy_with_logits\u001b[0m\u001b[1;33m(\u001b[0m\u001b[0mlogits\u001b[0m\u001b[1;33m,\u001b[0m \u001b[0mtf_train_labels\u001b[0m\u001b[1;33m)\u001b[0m \u001b[1;33m+\u001b[0m \u001b[0mget_l2_loss\u001b[0m\u001b[1;33m(\u001b[0m\u001b[0ml2_lambda\u001b[0m\u001b[1;33m,\u001b[0m \u001b[0mlayer_weights\u001b[0m\u001b[1;33m)\u001b[0m\u001b[1;33m)\u001b[0m\u001b[1;33m\u001b[0m\u001b[0m\n",
        "\u001b[1;32m<ipython-input-18-e3923e4c3e74>\u001b[0m in \u001b[0;36mcreate_model_graph\u001b[1;34m(data, add_dropout)\u001b[0m\n\u001b[0;32m    205\u001b[0m             \u001b[1;32mprint\u001b[0m \u001b[1;34m\"five_by_five_output shape: %s\"\u001b[0m \u001b[1;33m%\u001b[0m \u001b[0mshape\u001b[0m\u001b[1;33m\u001b[0m\u001b[0m\n\u001b[0;32m    206\u001b[0m \u001b[1;33m\u001b[0m\u001b[0m\n\u001b[1;32m--> 207\u001b[1;33m             \u001b[0mconv\u001b[0m \u001b[1;33m=\u001b[0m \u001b[0mtf\u001b[0m\u001b[1;33m.\u001b[0m\u001b[0mnn\u001b[0m\u001b[1;33m.\u001b[0m\u001b[0mconv2d\u001b[0m\u001b[1;33m(\u001b[0m\u001b[0mmax_pool_output\u001b[0m\u001b[1;33m,\u001b[0m \u001b[0mone_by_one_conv_weights_from_max_pool\u001b[0m\u001b[1;33m,\u001b[0m \u001b[1;33m[\u001b[0m\u001b[1;36m1\u001b[0m\u001b[1;33m,\u001b[0m \u001b[1;36m1\u001b[0m\u001b[1;33m,\u001b[0m \u001b[1;36m1\u001b[0m\u001b[1;33m,\u001b[0m \u001b[1;36m1\u001b[0m\u001b[1;33m]\u001b[0m\u001b[1;33m,\u001b[0m \u001b[0mpadding\u001b[0m\u001b[1;33m=\u001b[0m\u001b[1;34m'SAME'\u001b[0m\u001b[1;33m)\u001b[0m\u001b[1;33m\u001b[0m\u001b[0m\n\u001b[0m\u001b[0;32m    208\u001b[0m             \u001b[0mone_by_one_conv_weights_from_max_pool_output\u001b[0m \u001b[1;33m=\u001b[0m \u001b[0mtf\u001b[0m\u001b[1;33m.\u001b[0m\u001b[0mnn\u001b[0m\u001b[1;33m.\u001b[0m\u001b[0mrelu\u001b[0m\u001b[1;33m(\u001b[0m\u001b[0mconv\u001b[0m \u001b[1;33m+\u001b[0m \u001b[0mone_by_one_conv_biases_from_max_pool\u001b[0m\u001b[1;33m)\u001b[0m\u001b[1;33m\u001b[0m\u001b[0m\n\u001b[0;32m    209\u001b[0m             \u001b[0mshape\u001b[0m \u001b[1;33m=\u001b[0m \u001b[0mone_by_one_conv_weights_from_max_pool_output\u001b[0m\u001b[1;33m.\u001b[0m\u001b[0mget_shape\u001b[0m\u001b[1;33m(\u001b[0m\u001b[1;33m)\u001b[0m\u001b[1;33m.\u001b[0m\u001b[0mas_list\u001b[0m\u001b[1;33m(\u001b[0m\u001b[1;33m)\u001b[0m\u001b[1;33m\u001b[0m\u001b[0m\n",
        "\u001b[1;32m/home/ashley/.virtualenvs/tensorflow_0.6.0_cpu/local/lib/python2.7/site-packages/tensorflow/python/ops/gen_nn_ops.pyc\u001b[0m in \u001b[0;36mconv2d\u001b[1;34m(input, filter, strides, padding, use_cudnn_on_gpu, name)\u001b[0m\n\u001b[0;32m    205\u001b[0m   return _op_def_lib.apply_op(\"Conv2D\", input=input, filter=filter,\n\u001b[0;32m    206\u001b[0m                               \u001b[0mstrides\u001b[0m\u001b[1;33m=\u001b[0m\u001b[0mstrides\u001b[0m\u001b[1;33m,\u001b[0m \u001b[0mpadding\u001b[0m\u001b[1;33m=\u001b[0m\u001b[0mpadding\u001b[0m\u001b[1;33m,\u001b[0m\u001b[1;33m\u001b[0m\u001b[0m\n\u001b[1;32m--> 207\u001b[1;33m                               use_cudnn_on_gpu=use_cudnn_on_gpu, name=name)\n\u001b[0m\u001b[0;32m    208\u001b[0m \u001b[1;33m\u001b[0m\u001b[0m\n\u001b[0;32m    209\u001b[0m \u001b[1;33m\u001b[0m\u001b[0m\n",
        "\u001b[1;32m/home/ashley/.virtualenvs/tensorflow_0.6.0_cpu/local/lib/python2.7/site-packages/tensorflow/python/ops/op_def_library.pyc\u001b[0m in \u001b[0;36mapply_op\u001b[1;34m(self, op_type_name, g, name, **keywords)\u001b[0m\n\u001b[0;32m    631\u001b[0m         op = g.create_op(op_type_name, inputs, output_types, name=scope,\n\u001b[0;32m    632\u001b[0m                          \u001b[0minput_types\u001b[0m\u001b[1;33m=\u001b[0m\u001b[0minput_types\u001b[0m\u001b[1;33m,\u001b[0m \u001b[0mattrs\u001b[0m\u001b[1;33m=\u001b[0m\u001b[0mattr_protos\u001b[0m\u001b[1;33m,\u001b[0m\u001b[1;33m\u001b[0m\u001b[0m\n\u001b[1;32m--> 633\u001b[1;33m                          op_def=op_def)\n\u001b[0m\u001b[0;32m    634\u001b[0m         \u001b[0moutputs\u001b[0m \u001b[1;33m=\u001b[0m \u001b[0mop\u001b[0m\u001b[1;33m.\u001b[0m\u001b[0moutputs\u001b[0m\u001b[1;33m\u001b[0m\u001b[0m\n\u001b[0;32m    635\u001b[0m         return _Restructure(ops.convert_n_to_tensor_or_indexed_slices(outputs),\n",
        "\u001b[1;32m/home/ashley/.virtualenvs/tensorflow_0.6.0_cpu/local/lib/python2.7/site-packages/tensorflow/python/framework/ops.pyc\u001b[0m in \u001b[0;36mcreate_op\u001b[1;34m(self, op_type, inputs, dtypes, input_types, name, attrs, op_def, compute_shapes)\u001b[0m\n\u001b[0;32m   1710\u001b[0m                     original_op=self._default_original_op, op_def=op_def)\n\u001b[0;32m   1711\u001b[0m     \u001b[1;32mif\u001b[0m \u001b[0mcompute_shapes\u001b[0m\u001b[1;33m:\u001b[0m\u001b[1;33m\u001b[0m\u001b[0m\n\u001b[1;32m-> 1712\u001b[1;33m       \u001b[0mset_shapes_for_outputs\u001b[0m\u001b[1;33m(\u001b[0m\u001b[0mret\u001b[0m\u001b[1;33m)\u001b[0m\u001b[1;33m\u001b[0m\u001b[0m\n\u001b[0m\u001b[0;32m   1713\u001b[0m     \u001b[0mself\u001b[0m\u001b[1;33m.\u001b[0m\u001b[0m_add_op\u001b[0m\u001b[1;33m(\u001b[0m\u001b[0mret\u001b[0m\u001b[1;33m)\u001b[0m\u001b[1;33m\u001b[0m\u001b[0m\n\u001b[0;32m   1714\u001b[0m     \u001b[0mself\u001b[0m\u001b[1;33m.\u001b[0m\u001b[0m_record_op_seen_by_control_dependencies\u001b[0m\u001b[1;33m(\u001b[0m\u001b[0mret\u001b[0m\u001b[1;33m)\u001b[0m\u001b[1;33m\u001b[0m\u001b[0m\n",
        "\u001b[1;32m/home/ashley/.virtualenvs/tensorflow_0.6.0_cpu/local/lib/python2.7/site-packages/tensorflow/python/framework/ops.pyc\u001b[0m in \u001b[0;36mset_shapes_for_outputs\u001b[1;34m(op)\u001b[0m\n\u001b[0;32m   1415\u001b[0m       raise RuntimeError(\"No shape function registered for standard op: %s\"\n\u001b[0;32m   1416\u001b[0m                          % op.type)\n\u001b[1;32m-> 1417\u001b[1;33m   \u001b[0mshapes\u001b[0m \u001b[1;33m=\u001b[0m \u001b[0mshape_func\u001b[0m\u001b[1;33m(\u001b[0m\u001b[0mop\u001b[0m\u001b[1;33m)\u001b[0m\u001b[1;33m\u001b[0m\u001b[0m\n\u001b[0m\u001b[0;32m   1418\u001b[0m   \u001b[1;32mif\u001b[0m \u001b[0mlen\u001b[0m\u001b[1;33m(\u001b[0m\u001b[0mop\u001b[0m\u001b[1;33m.\u001b[0m\u001b[0moutputs\u001b[0m\u001b[1;33m)\u001b[0m \u001b[1;33m!=\u001b[0m \u001b[0mlen\u001b[0m\u001b[1;33m(\u001b[0m\u001b[0mshapes\u001b[0m\u001b[1;33m)\u001b[0m\u001b[1;33m:\u001b[0m\u001b[1;33m\u001b[0m\u001b[0m\n\u001b[0;32m   1419\u001b[0m     raise RuntimeError(\n",
        "\u001b[1;32m/home/ashley/.virtualenvs/tensorflow_0.6.0_cpu/local/lib/python2.7/site-packages/tensorflow/python/ops/common_shapes.pyc\u001b[0m in \u001b[0;36mconv2d_shape\u001b[1;34m(op)\u001b[0m\n\u001b[0;32m    187\u001b[0m   \u001b[0mpadding\u001b[0m \u001b[1;33m=\u001b[0m \u001b[0mop\u001b[0m\u001b[1;33m.\u001b[0m\u001b[0mget_attr\u001b[0m\u001b[1;33m(\u001b[0m\u001b[1;34m\"padding\"\u001b[0m\u001b[1;33m)\u001b[0m\u001b[1;33m\u001b[0m\u001b[0m\n\u001b[0;32m    188\u001b[0m   out_rows, out_cols = _Get2DOutputSize(\n\u001b[1;32m--> 189\u001b[1;33m       in_rows, in_cols, filter_rows, filter_cols, stride, stride, padding)\n\u001b[0m\u001b[0;32m    190\u001b[0m \u001b[1;33m\u001b[0m\u001b[0m\n\u001b[0;32m    191\u001b[0m   \u001b[1;32mreturn\u001b[0m \u001b[1;33m[\u001b[0m\u001b[0mtensor_shape\u001b[0m\u001b[1;33m.\u001b[0m\u001b[0mTensorShape\u001b[0m\u001b[1;33m(\u001b[0m\u001b[1;33m[\u001b[0m\u001b[0mbatch_size\u001b[0m\u001b[1;33m,\u001b[0m \u001b[0mout_rows\u001b[0m\u001b[1;33m,\u001b[0m \u001b[0mout_cols\u001b[0m\u001b[1;33m,\u001b[0m \u001b[0mdepth_out\u001b[0m\u001b[1;33m]\u001b[0m\u001b[1;33m)\u001b[0m\u001b[1;33m]\u001b[0m\u001b[1;33m\u001b[0m\u001b[0m\n",
        "\u001b[1;32m/home/ashley/.virtualenvs/tensorflow_0.6.0_cpu/local/lib/python2.7/site-packages/tensorflow/python/ops/common_shapes.pyc\u001b[0m in \u001b[0;36m_Get2DOutputSize\u001b[1;34m(input_height, input_width, filter_height, filter_width, row_stride, col_stride, padding_type)\u001b[0m\n\u001b[0;32m    105\u001b[0m       raise ValueError(\"filter must not be larger than the input: \",\n\u001b[0;32m    106\u001b[0m                        \u001b[1;34m\"Filter: [\"\u001b[0m\u001b[1;33m,\u001b[0m \u001b[0mfilter_height\u001b[0m\u001b[1;33m,\u001b[0m \u001b[1;34m\"x\"\u001b[0m\u001b[1;33m,\u001b[0m \u001b[0mfilter_width\u001b[0m\u001b[1;33m,\u001b[0m \u001b[1;34m\"] \"\u001b[0m\u001b[1;33m,\u001b[0m\u001b[1;33m\u001b[0m\u001b[0m\n\u001b[1;32m--> 107\u001b[1;33m                        \"Input: [\", input_height, \"x\", input_width, \"] \")\n\u001b[0m\u001b[0;32m    108\u001b[0m     \u001b[1;32mif\u001b[0m \u001b[0mrow_stride\u001b[0m \u001b[1;33m>\u001b[0m \u001b[0mfilter_height\u001b[0m \u001b[1;32mor\u001b[0m \u001b[0mcol_stride\u001b[0m \u001b[1;33m>\u001b[0m \u001b[0mfilter_width\u001b[0m\u001b[1;33m:\u001b[0m\u001b[1;33m\u001b[0m\u001b[0m\n\u001b[0;32m    109\u001b[0m       raise ValueError(\"stride must be less than or equal to filter size\",\n",
        "\u001b[1;31mValueError\u001b[0m: ('filter must not be larger than the input: ', 'Filter: [', Dimension(256), 'x', Dimension(256), '] ', 'Input: [', Dimension(32), 'x', Dimension(32), '] ')"
       ]
      }
     ],
     "prompt_number": 19
    },
    {
     "cell_type": "code",
     "collapsed": false,
     "input": [
      "import subprocess\n",
      "subprocess.call([\"shutdown\", \"+2\"]) # iPython has been set to autosave every 1 minute and this will shutdown in 2 minutes."
     ],
     "language": "python",
     "metadata": {},
     "outputs": [
      {
       "metadata": {},
       "output_type": "pyout",
       "prompt_number": 22,
       "text": [
        "0"
       ]
      }
     ],
     "prompt_number": 22
    },
    {
     "cell_type": "code",
     "collapsed": false,
     "input": [],
     "language": "python",
     "metadata": {},
     "outputs": []
    }
   ],
   "metadata": {}
  }
 ]
}