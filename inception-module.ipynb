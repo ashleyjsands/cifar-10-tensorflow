{
 "metadata": {
  "colabVersion": "0.3.2",
  "colab_default_view": {},
  "colab_views": {},
  "kernelspec": {
   "display_name": "Python 2",
   "language": "python",
   "name": "python2"
  },
  "language_info": {
   "codemirror_mode": {
    "name": "ipython",
    "version": 2
   },
   "file_extension": ".py",
   "mimetype": "text/x-python",
   "name": "python",
   "nbconvert_exporter": "python",
   "pygments_lexer": "ipython2",
   "version": "2.7.10"
  },
  "name": "",
  "signature": "sha256:f52d5de714d0e978d861f84b16e4548840090e81588ee2b414195e00d0245ddd"
 },
 "nbformat": 3,
 "nbformat_minor": 0,
 "worksheets": [
  {
   "cells": [
    {
     "cell_type": "markdown",
     "metadata": {},
     "source": [
      "Attribution: Some of this code is from tensorflow tutorials and tensor udacity examples."
     ]
    },
    {
     "cell_type": "code",
     "collapsed": false,
     "input": [
      "%autosave 60"
     ],
     "language": "python",
     "metadata": {},
     "outputs": [
      {
       "javascript": [
        "IPython.notebook.set_autosave_interval(60000)"
       ],
       "metadata": {},
       "output_type": "display_data"
      },
      {
       "output_type": "stream",
       "stream": "stdout",
       "text": [
        "Autosaving every 60 seconds\n"
       ]
      }
     ],
     "prompt_number": 1
    },
    {
     "cell_type": "code",
     "collapsed": false,
     "input": [
      "import cPickle as pickle\n",
      "import numpy as np\n",
      "import tensorflow as tf\n",
      "import tarfile\n",
      "import ntpath\n",
      "import cPickle, gzip\n",
      "import os\n",
      "from six.moves import urllib\n",
      "import sys\n",
      "import time\n",
      "import math"
     ],
     "language": "python",
     "metadata": {
      "cellView": "both",
      "colab": {
       "autoexec": {
        "startup": false,
        "wait_interval": 0
       }
      },
      "colab_type": "code",
      "id": "tm2CQN_Cpwj0"
     },
     "outputs": [],
     "prompt_number": 2
    },
    {
     "cell_type": "code",
     "collapsed": false,
     "input": [
      "data_dir = \".\"\n",
      "DATA_URL = 'http://www.cs.toronto.edu/~kriz/cifar-10-python.tar.gz'\n",
      "\n",
      "def maybe_download():\n",
      "    \"\"\"Download and extract the tarball from Alex's website.\"\"\"\n",
      "    dest_directory = data_dir\n",
      "    if not os.path.exists(dest_directory):\n",
      "        os.makedirs(dest_directory)\n",
      "    filename = DATA_URL.split('/')[-1]\n",
      "    filepath = os.path.join(dest_directory, filename)\n",
      "    if not os.path.exists(filepath):\n",
      "        def _progress(count, block_size, total_size):\n",
      "            sys.stdout.write('\\r>> Downloading %s %.1f%%' % (filename,\n",
      "                float(count * block_size) / float(total_size) * 100.0))\n",
      "            sys.stdout.flush()\n",
      "        filepath, _ = urllib.request.urlretrieve(DATA_URL, filepath, reporthook=_progress)\n",
      "    print()\n",
      "    statinfo = os.stat(filepath)\n",
      "    print('Successfully downloaded', filename, statinfo.st_size, 'bytes.')\n",
      "\n",
      "def load_cifar_10_dataset():\n",
      "    print \"Opening CIFAR 10 dataset\"\n",
      "    dataset = {}\n",
      "    with tarfile.open(data_dir + \"/cifar-10-python.tar.gz\", \"r:gz\") as tar:\n",
      "        for member in tar.getmembers():\n",
      "            if member.isfile():\n",
      "                if \"_batch\" in member.name:\n",
      "                    file_name = ntpath.basename(member.name)\n",
      "                    f = tar.extractfile(member)\n",
      "                    batch_dataset = cPickle.load(f) \n",
      "                    dataset[file_name] = batch_dataset\n",
      "                elif member.name.endswith(\"batches.meta\"):\n",
      "                    f = tar.extractfile(member)\n",
      "                    label_names = cPickle.load(f) \n",
      "                    dataset[\"meta\"] = label_names\n",
      "    print \"Finished opening CIFAR 10 dataset\"\n",
      "    return dataset\n",
      "\n",
      "def merge_datasets(dataset_one, dataset_two):\n",
      "    return {\n",
      "        \"data\": np.concatenate((dataset_one[\"data\"], dataset_two[\"data\"])),\n",
      "        \"labels\": dataset_one[\"labels\"] + dataset_two[\"labels\"], \n",
      "    }\n",
      "\n",
      "def get_merged_training_datasets(dataset_batches_dict):\n",
      "    training_dataset_names = [ \"data_batch_1\", \"data_batch_2\", \"data_batch_3\", \"data_batch_4\" ]\n",
      "    training_datasets = map(lambda name: dataset_batches_dict[name], training_dataset_names)\n",
      "    training_dataset_and_labels = reduce(merge_datasets, training_datasets)\n",
      "    validation_dataset_and_labels = dataset_batches_dict[\"data_batch_5\"]\n",
      "    test_dataset_and_labels = dataset_batches_dict[\"test_batch\"]\n",
      "    return (\n",
      "        np.asarray(training_dataset_and_labels[\"data\"]), np.asarray(training_dataset_and_labels[\"labels\"]),\n",
      "        np.asarray(validation_dataset_and_labels[\"data\"]), np.asarray(validation_dataset_and_labels[\"labels\"]),\n",
      "        np.asarray(test_dataset_and_labels[\"data\"]), np.asarray(test_dataset_and_labels[\"labels\"])\n",
      "    )\n",
      "\n",
      "maybe_download()\n",
      "dataset_batches_dict = load_cifar_10_dataset()\n",
      "label_names = dataset_batches_dict[\"meta\"][\"label_names\"]\n",
      "train_dataset, train_labels, valid_dataset, valid_labels, test_dataset, test_labels = get_merged_training_datasets(dataset_batches_dict)\n",
      "\n",
      "print 'Training set', train_dataset.shape, train_labels.shape\n",
      "print 'Validation set', valid_dataset.shape, valid_labels.shape\n",
      "print 'Test set', test_dataset.shape, test_labels.shape"
     ],
     "language": "python",
     "metadata": {},
     "outputs": [
      {
       "output_type": "stream",
       "stream": "stdout",
       "text": [
        "()\n",
        "('Successfully downloaded', 'cifar-10-python.tar.gz', 170498071, 'bytes.')\n",
        "Opening CIFAR 10 dataset\n",
        "Finished opening CIFAR 10 dataset"
       ]
      },
      {
       "output_type": "stream",
       "stream": "stdout",
       "text": [
        "\n",
        "Training set"
       ]
      },
      {
       "output_type": "stream",
       "stream": "stdout",
       "text": [
        " (40000, 3072) (40000,)\n",
        "Validation set (10000, 3072) (10000,)\n",
        "Test set (10000, 3072) (10000,)\n"
       ]
      }
     ],
     "prompt_number": 3
    },
    {
     "cell_type": "markdown",
     "metadata": {
      "colab_type": "text",
      "id": "L7aHrm6nGDMB"
     },
     "source": [
      "Reformat into a TensorFlow-friendly shape:\n",
      "- convolutions need the image data formatted as a cube (width by height by #channels)\n",
      "- labels as float 1-hot encodings."
     ]
    },
    {
     "cell_type": "code",
     "collapsed": false,
     "input": [
      "image_size = 32\n",
      "num_labels = 10\n",
      "num_channels = 3 # RGB\n",
      "\n",
      "\n",
      "def reformat(dataset, labels):\n",
      "    #dataset = dataset.reshape(\n",
      "    #  (-1, image_size, image_size, num_channels)).astype(np.float32)\n",
      "    \n",
      "    # the dataset is of a shape (*, num_channels * image_size * image_size) \n",
      "    # with the red values first, followed by the green, then blue.\n",
      "    dataset = dataset\n",
      "    x = dataset.reshape((-1, num_channels, image_size * image_size)) # break the channels into their own axes.\n",
      "    y = x.transpose([0, 2, 1]) # This transpose the matrix by swapping the second and third axes, but not the first. This puts matching RGB values together\n",
      "    reformated_dataset = y.reshape((-1, image_size, image_size, num_channels)).astype(np.float32) # Turn the dataset into a 4D tensor of a collection of images, with axes of width, height and colour channels.\n",
      "    labels = (np.arange(num_labels) == labels[:,None]).astype(np.float32)\n",
      "    return reformated_dataset, labels\n",
      "train_dataset, train_labels = reformat(train_dataset, train_labels)\n",
      "valid_dataset, valid_labels = reformat(valid_dataset, valid_labels)\n",
      "test_dataset, test_labels = reformat(test_dataset, test_labels)\n",
      "print 'Training set', train_dataset.shape, train_labels.shape\n",
      "print 'Validation set', valid_dataset.shape, valid_labels.shape\n",
      "print 'Test set', test_dataset.shape, test_labels.shape"
     ],
     "language": "python",
     "metadata": {
      "cellView": "both",
      "colab": {
       "autoexec": {
        "startup": false,
        "wait_interval": 0
       },
       "output_extras": [
        {
         "item_id": 1
        }
       ]
      },
      "colab_type": "code",
      "executionInfo": {
       "elapsed": 11952,
       "status": "ok",
       "timestamp": 1446658914857,
       "user": {
        "color": "",
        "displayName": "",
        "isAnonymous": false,
        "isMe": true,
        "permissionId": "",
        "photoUrl": "",
        "sessionId": "0",
        "userId": ""
       },
       "user_tz": 480
      },
      "id": "IRSyYiIIGIzS",
      "outputId": "650a208c-8359-4852-f4f5-8bf10e80ef6c"
     },
     "outputs": [
      {
       "output_type": "stream",
       "stream": "stdout",
       "text": [
        "Training set (40000, 32, 32, 3) (40000, 10)\n",
        "Validation set (10000, 32, 32, 3) (10000, 10)\n",
        "Test set (10000, 32, 32, 3) (10000, 10)\n"
       ]
      }
     ],
     "prompt_number": 4
    },
    {
     "cell_type": "code",
     "collapsed": false,
     "input": [
      "def get_best_step(steps_to_predictions, labels):\n",
      "    best_accuracy = 0\n",
      "    best_accuracy_step = 0\n",
      "    for step, predictions in steps_to_predictions.iteritems():\n",
      "        acc = accuracy(predictions, labels)\n",
      "        steps_to_predictions[step] = predictions\n",
      "        if acc > best_accuracy:\n",
      "            best_accuracy = acc\n",
      "            best_accuracy_step = step\n",
      "    return best_accuracy, best_accuracy_step\n",
      "\n",
      "def visualise_accuracies(steps_to_validation_predictions, steps_to_test_predictions):\n",
      "    best_validation_accuracy, best_validation_step = get_best_step(steps_to_validation_predictions, valid_labels)\n",
      "    print \"The best validation accuracy was %s at step %s\" % (best_validation_accuracy, best_validation_step)\n",
      "    best_test_accuracy, best_test_step = get_best_step(steps_to_test_predictions, test_labels)\n",
      "    print \"The best test accuracy was %s at step %s\" % (best_test_accuracy, best_test_step)\n",
      "    \n",
      "    best_prediction = steps_to_test_predictions[best_test_step]\n",
      "    correct_prediction_indexes = []\n",
      "    incorrect_prediction_indexes = []\n",
      "    index = 0\n",
      "    for accurate in np.argmax(best_prediction, 1) == np.argmax(test_labels, 1):\n",
      "        if accurate:\n",
      "            correct_prediction_indexes.append(index)\n",
      "        else:\n",
      "            incorrect_prediction_indexes.append(index)\n",
      "        index += 1\n",
      "    return correct_prediction_indexes, incorrect_prediction_indexes\n",
      "\n",
      "%matplotlib inline\n",
      "\n",
      "import matplotlib.pyplot as plt\n",
      "from random import randint, shuffle\n",
      "\n",
      "def get_index_of_one_hot_vector(one_hot_vector):\n",
      "    for i in range(len(one_hot_vector)):\n",
      "        if one_hot_vector[i] == 1.0:\n",
      "            return i\n",
      "    raise \"Not a one_hot_vector\"\n",
      "    \n",
      "def display_test_data(data_set, labels, data_index, figure, subplot_index, width=5, height=5):\n",
      "    a = figure.add_subplot(width, height, subplot_index)\n",
      "    data = data_set[data_index,:,:,:]\n",
      "    decimal_code_to_fraction_quotient = 255.0\n",
      "    reshaped_data = data.reshape((image_size, image_size,-1)).astype(np.float32) / decimal_code_to_fraction_quotient\n",
      "    plt.axis(\"off\")\n",
      "    #plt.figure(figsize=(100, 100))\n",
      "    plt.imshow(reshaped_data, cmap=plt.cm.hot)\n",
      "    label = get_index_of_one_hot_vector(labels[data_index])\n",
      "    a.set_title(label_names[label])\n",
      "    \n",
      "def display_random_data(data_set, labels, number_of_data=25):\n",
      "    figure_size = math.ceil(pow(number_of_data, 0.5))\n",
      "    figure = plt.figure()\n",
      "    for i in range(number_of_data):\n",
      "        data_index = randint(0, len(data_set) - 1)\n",
      "        display_test_data(data_set, labels, data_index, figure, i, width=figure_size, height=figure_size)\n",
      "\n",
      "    figure.subplots_adjust(hspace=1.5)\n",
      "\n",
      "def display_data(dataset, labels, indexes, number_of_data=25):\n",
      "    figure_size = math.ceil(pow(number_of_data, 0.5))\n",
      "    figure = plt.figure()\n",
      "    for i in range(number_of_data):\n",
      "        display_test_data(dataset, labels, indexes[i], figure, i, width=figure_size, height=figure_size)\n",
      "\n",
      "    figure.subplots_adjust(hspace=1.5)"
     ],
     "language": "python",
     "metadata": {},
     "outputs": [],
     "prompt_number": 5
    },
    {
     "cell_type": "code",
     "collapsed": false,
     "input": [
      "#display_size = 9\n",
      "#index_start = 45\n",
      "#display_data(train_dataset, train_labels, range(index_start, index_start + display_size), number_of_data=display_size)"
     ],
     "language": "python",
     "metadata": {},
     "outputs": [],
     "prompt_number": 6
    },
    {
     "cell_type": "code",
     "collapsed": false,
     "input": [
      "import time\n",
      "import math\n",
      "\n",
      "class Model():\n",
      "    \n",
      "    def __init__(self, graph, batch_size, tf_train_dataset, tf_train_labels, tf_valid_dataset, tf_test_dataset, dropout_keep_probability, logits, loss, optimizer, train_prediction, valid_prediction, test_prediction):\n",
      "        self.graph = graph\n",
      "        self.batch_size = batch_size\n",
      "        self.tf_train_dataset = tf_train_dataset\n",
      "        self.tf_train_labels = tf_train_labels\n",
      "        self.tf_valid_dataset = tf_valid_dataset\n",
      "        self.tf_test_dataset = tf_test_dataset\n",
      "        self.dropout_keep_probability = dropout_keep_probability\n",
      "        self.logits = logits\n",
      "        self.loss = loss\n",
      "        self.optimizer = optimizer\n",
      "        self.train_prediction = train_prediction\n",
      "        self.valid_prediction = valid_prediction\n",
      "        self.test_prediction = test_prediction\n",
      "        \n",
      "def get_l2_loss(l2_lambda, layer_weights):\n",
      "    return l2_lambda * sum(map(tf.nn.l2_loss, layer_weights))\n",
      "\n",
      "def accuracy(predictions, labels):\n",
      "  return (100.0 * np.sum(np.argmax(predictions, 1) == np.argmax(labels, 1))\n",
      "          / predictions.shape[0])\n",
      "\n",
      "def create_same_padding_3_conv_one_hidden_model(learning_rate = 0.05, initialised_weights_stddev = 0.1, feature_maps = 16, number_of_hidden_neurons = 64, batch_size = 32, l2_lambda = 0.1, decay_steps = 10000, decay_rate = 0.96):\n",
      "    patch_size = 5\n",
      "    graph = tf.Graph()\n",
      "    with graph.as_default():\n",
      "\n",
      "        # Input data.\n",
      "        tf_train_dataset = tf.placeholder(tf.float32, shape=(batch_size, image_size, image_size, num_channels))\n",
      "        tf_train_labels = tf.placeholder(tf.float32, shape=(batch_size, num_labels))\n",
      "        tf_valid_dataset = tf.constant(valid_dataset)\n",
      "        tf_test_dataset = tf.constant(test_dataset)\n",
      "        dropout_keep_probability = tf.placeholder(tf.float32)\n",
      "        \n",
      "        # Variables\n",
      "        layer1_weights = tf.Variable(tf.truncated_normal(\n",
      "            [patch_size, patch_size, num_channels, feature_maps], stddev=initialised_weights_stddev))\n",
      "        layer1_biases = tf.Variable(tf.zeros([feature_maps]))\n",
      "\n",
      "        layer2_weights = tf.Variable(tf.truncated_normal(\n",
      "            [patch_size, patch_size, feature_maps, feature_maps], stddev=initialised_weights_stddev))\n",
      "        layer2_biases = tf.Variable(tf.constant(initialised_weights_stddev * 10, shape=[feature_maps]))\n",
      "\n",
      "\n",
      "        conv_layer3_weights = tf.Variable(tf.truncated_normal(\n",
      "            [patch_size, patch_size, feature_maps, feature_maps], stddev=initialised_weights_stddev))\n",
      "        conv_layer3_biases = tf.Variable(tf.constant(initialised_weights_stddev * 10, shape=[feature_maps]))\n",
      "\n",
      "        #layel3_weights = tf.Variable(tf.truncated_normal(\n",
      "        #    [image_size / 4 * image_size / 4 * feature_maps, number_of_hidden_neurons], stddev=initialised_weights_stddev))\n",
      "        number_of_conv_layers = 3\n",
      "        layer3_weights = tf.Variable(tf.truncated_normal(\n",
      "            [int(math.ceil(image_size / (2.0 ** number_of_conv_layers)) * math.ceil(image_size / (2.0 ** number_of_conv_layers)) * feature_maps), number_of_hidden_neurons], stddev=initialised_weights_stddev))\n",
      "        layer3_biases = tf.Variable(tf.constant(initialised_weights_stddev * 10, shape=[number_of_hidden_neurons]))\n",
      "\n",
      "\n",
      "        layer4_weights = tf.Variable(tf.truncated_normal(\n",
      "            [number_of_hidden_neurons, num_labels], stddev=initialised_weights_stddev))\n",
      "        layer4_biases = tf.Variable(tf.constant(initialised_weights_stddev * 10, shape=[num_labels]))\n",
      "        \n",
      "        \n",
      "\n",
      "        # Model.\n",
      "        def create_model_graph(data, add_dropout = False):\n",
      "            conv = tf.nn.conv2d(data, layer1_weights, [1, 1, 1, 1], padding='SAME')\n",
      "            relu = tf.nn.relu(conv + layer1_biases)\n",
      "            hidden = tf.nn.max_pool(relu, [1, 2, 2, 1], [1, 2, 2, 1], padding='SAME')\n",
      "\n",
      "            conv = tf.nn.conv2d(hidden, layer2_weights, [1, 1, 1, 1], padding='SAME')\n",
      "            relu = tf.nn.relu(conv + layer2_biases)\n",
      "            hidden = tf.nn.max_pool(relu, [1, 2, 2, 1], [1, 2, 2, 1], padding='SAME')\n",
      "\n",
      "            conv = tf.nn.conv2d(hidden, conv_layer3_weights, [1, 1, 1, 1], padding='SAME')\n",
      "            relu = tf.nn.relu(conv + conv_layer3_biases)\n",
      "            hidden = tf.nn.max_pool(relu, [1, 2, 2, 1], [1, 2, 2, 1], padding='SAME')\n",
      "\n",
      "            shape = hidden.get_shape().as_list()\n",
      "            reshape = tf.reshape(hidden, [shape[0], shape[1] * shape[2] * shape[3]])\n",
      "            hidden = tf.nn.relu(tf.matmul(reshape, layer3_weights) + layer3_biases)\n",
      "            if add_dropout:\n",
      "                hidden = tf.nn.dropout(hidden, dropout_keep_probability)\n",
      "            return tf.matmul(hidden, layer4_weights) + layer4_biases\n",
      "\n",
      "        # Training computation.\n",
      "        logits = create_model_graph(tf_train_dataset, add_dropout = True)\n",
      "        layer_weights = [layer1_weights, layer2_weights, conv_layer3_weights, layer3_weights, layer4_weights]\n",
      "        loss = tf.reduce_mean(tf.nn.softmax_cross_entropy_with_logits(logits, tf_train_labels) + get_l2_loss(l2_lambda, layer_weights))\n",
      "\n",
      "        # Optimizer.\n",
      "        global_step = tf.Variable(0, name=\"global_step\", trainable=False)\n",
      "        decayed_learning_rate = tf.train.exponential_decay(learning_rate, global_step, decay_steps, decay_rate)\n",
      "        optimizer = tf.train.GradientDescentOptimizer(decayed_learning_rate).minimize(loss, global_step=global_step)\n",
      "\n",
      "        # Predictions for the training, validation, and test data.\n",
      "        train_prediction = tf.nn.softmax(logits)\n",
      "        valid_prediction = tf.nn.softmax(create_model_graph(tf_valid_dataset))\n",
      "        test_prediction = tf.nn.softmax(create_model_graph(tf_test_dataset))\n",
      "        \n",
      "        return Model(graph, batch_size, tf_train_dataset, tf_train_labels, tf_valid_dataset, tf_test_dataset, dropout_keep_probability, logits, loss, optimizer, train_prediction, valid_prediction, test_prediction)\n",
      "\n",
      "def create_cv_cv_mp_cv_cv_mp_one_hidden_model(learning_rate = 0.05, initialised_weights_stddev = 0.1, feature_maps = 16, number_of_hidden_neurons = 64, batch_size = 32, l2_lambda = 0.1, decay_steps = 10000, decay_rate = 0.96):\n",
      "    patch_size = 5\n",
      "    graph = tf.Graph()\n",
      "    with graph.as_default():\n",
      "\n",
      "        # Input data.\n",
      "        tf_train_dataset = tf.placeholder(tf.float32, shape=(batch_size, image_size, image_size, num_channels))\n",
      "        tf_train_labels = tf.placeholder(tf.float32, shape=(batch_size, num_labels))\n",
      "        tf_valid_dataset = tf.constant(valid_dataset)\n",
      "        tf_test_dataset = tf.constant(test_dataset)\n",
      "        dropout_keep_probability = tf.placeholder(tf.float32)\n",
      "        \n",
      "        # Variables\n",
      "        layer1_weights = tf.Variable(tf.truncated_normal(\n",
      "            [patch_size, patch_size, num_channels, feature_maps], stddev=initialised_weights_stddev))\n",
      "        layer1_biases = tf.Variable(tf.zeros([feature_maps]))\n",
      "\n",
      "        layer2_weights = tf.Variable(tf.truncated_normal(\n",
      "            [patch_size, patch_size, feature_maps, feature_maps], stddev=initialised_weights_stddev))\n",
      "        layer2_biases = tf.Variable(tf.constant(initialised_weights_stddev * 10, shape=[feature_maps]))\n",
      "\n",
      "\n",
      "        conv_layer3_weights = tf.Variable(tf.truncated_normal(\n",
      "            [patch_size, patch_size, feature_maps, feature_maps], stddev=initialised_weights_stddev))\n",
      "        conv_layer3_biases = tf.Variable(tf.constant(initialised_weights_stddev * 10, shape=[feature_maps]))\n",
      "        \n",
      "        conv_layer4_weights = tf.Variable(tf.truncated_normal(\n",
      "            [patch_size, patch_size, feature_maps, feature_maps], stddev=initialised_weights_stddev))\n",
      "        conv_layer4_biases = tf.Variable(tf.constant(initialised_weights_stddev * 10, shape=[feature_maps]))\n",
      "\n",
      "        number_of_max_pool_layers = 2\n",
      "        conv_output_size = int(math.ceil(image_size / (2.0 ** number_of_max_pool_layers)) * math.ceil(image_size / (2.0 ** number_of_max_pool_layers)) * feature_maps)\n",
      "        #print \"conv_output_size %s\" % conv_output_size\n",
      "        layer3_weights = tf.Variable(tf.truncated_normal(\n",
      "            [conv_output_size, number_of_hidden_neurons], stddev=initialised_weights_stddev))\n",
      "        layer3_biases = tf.Variable(tf.constant(initialised_weights_stddev * 10, shape=[number_of_hidden_neurons]))\n",
      "\n",
      "\n",
      "        layer4_weights = tf.Variable(tf.truncated_normal(\n",
      "            [number_of_hidden_neurons, num_labels], stddev=initialised_weights_stddev))\n",
      "        layer4_biases = tf.Variable(tf.constant(initialised_weights_stddev * 10, shape=[num_labels]))\n",
      "\n",
      "        # Model.\n",
      "        def create_model_graph(data, add_dropout = False):\n",
      "            conv = tf.nn.conv2d(data, layer1_weights, [1, 1, 1, 1], padding='SAME')\n",
      "            hidden = tf.nn.relu(conv + layer1_biases)\n",
      "            shape = hidden.get_shape().as_list()\n",
      "            #print \"hidden shape: %s\" % shape\n",
      "\n",
      "            conv = tf.nn.conv2d(hidden, layer2_weights, [1, 1, 1, 1], padding='SAME')\n",
      "            relu = tf.nn.relu(conv + layer2_biases)\n",
      "            hidden = tf.nn.max_pool(relu, [1, 2, 2, 1], [1, 2, 2, 1], padding='SAME')\n",
      "            shape = hidden.get_shape().as_list()\n",
      "            #print \"hidden shape: %s\" % shape\n",
      "\n",
      "            conv = tf.nn.conv2d(hidden, conv_layer3_weights, [1, 1, 1, 1], padding='SAME')\n",
      "            hidden = tf.nn.relu(conv + conv_layer3_biases)\n",
      "            \n",
      "            conv = tf.nn.conv2d(hidden, conv_layer4_weights, [1, 1, 1, 1], padding='SAME')\n",
      "            relu = tf.nn.relu(conv + conv_layer4_biases)\n",
      "            hidden = tf.nn.max_pool(relu, [1, 2, 2, 1], [1, 2, 2, 1], padding='SAME')\n",
      "            shape = hidden.get_shape().as_list()\n",
      "            #print \"hidden shape: %s\" % shape\n",
      "\n",
      "            shape = hidden.get_shape().as_list()\n",
      "            #print \"hidden shape: %s\" % shape\n",
      "            reshape = tf.reshape(hidden, [shape[0], shape[1] * shape[2] * shape[3]])\n",
      "            hidden = tf.nn.relu(tf.matmul(reshape, layer3_weights) + layer3_biases)\n",
      "            if add_dropout:\n",
      "                hidden = tf.nn.dropout(hidden, dropout_keep_probability)\n",
      "            return tf.matmul(hidden, layer4_weights) + layer4_biases\n",
      "\n",
      "        # Training computation.\n",
      "        logits = create_model_graph(tf_train_dataset, add_dropout = True)\n",
      "        layer_weights = [layer1_weights, layer2_weights, conv_layer3_weights, conv_layer4_weights, layer3_weights, layer4_weights]\n",
      "        loss = tf.reduce_mean(tf.nn.softmax_cross_entropy_with_logits(logits, tf_train_labels) + get_l2_loss(l2_lambda, layer_weights))\n",
      "\n",
      "        # Optimizer.\n",
      "        global_step = tf.Variable(0, name=\"global_step\", trainable=False)\n",
      "        decayed_learning_rate = tf.train.exponential_decay(learning_rate, global_step, decay_steps, decay_rate)\n",
      "        optimizer = tf.train.GradientDescentOptimizer(decayed_learning_rate).minimize(loss, global_step=global_step)\n",
      "\n",
      "        # Predictions for the training, validation, and test data.\n",
      "        train_prediction = tf.nn.softmax(logits)\n",
      "        valid_prediction = tf.nn.softmax(create_model_graph(tf_valid_dataset))\n",
      "        test_prediction = tf.nn.softmax(create_model_graph(tf_test_dataset))\n",
      "        \n",
      "        return Model(graph, batch_size, tf_train_dataset, tf_train_labels, tf_valid_dataset, tf_test_dataset, dropout_keep_probability, logits, loss, optimizer, train_prediction, valid_prediction, test_prediction)\n",
      "    \n",
      "\n",
      "def create_three_double_conv_layers_one_hidden_model(learning_rate = 0.05, initialised_weights_stddev = 0.1, feature_maps = 16, number_of_hidden_neurons = 64, batch_size = 32, l2_lambda = 0.1, decay_steps = 10000, decay_rate = 0.96):\n",
      "    patch_size = 5\n",
      "    graph = tf.Graph()\n",
      "    with graph.as_default():\n",
      "\n",
      "        # Input data.\n",
      "        tf_train_dataset = tf.placeholder(tf.float32, shape=(batch_size, image_size, image_size, num_channels))\n",
      "        tf_train_labels = tf.placeholder(tf.float32, shape=(batch_size, num_labels))\n",
      "        tf_valid_dataset = tf.constant(valid_dataset)\n",
      "        tf_test_dataset = tf.constant(test_dataset)\n",
      "        dropout_keep_probability = tf.placeholder(tf.float32)\n",
      "        \n",
      "        # Variables\n",
      "        layer1_weights = tf.Variable(tf.truncated_normal(\n",
      "            [patch_size, patch_size, num_channels, feature_maps], stddev=initialised_weights_stddev))\n",
      "        layer1_biases = tf.Variable(tf.zeros([feature_maps]))\n",
      "\n",
      "        layer2_weights = tf.Variable(tf.truncated_normal(\n",
      "            [patch_size, patch_size, feature_maps, feature_maps], stddev=initialised_weights_stddev))\n",
      "        layer2_biases = tf.Variable(tf.constant(initialised_weights_stddev * 10, shape=[feature_maps]))\n",
      "\n",
      "        conv_layer3_weights = tf.Variable(tf.truncated_normal(\n",
      "            [patch_size, patch_size, feature_maps, feature_maps], stddev=initialised_weights_stddev))\n",
      "        conv_layer3_biases = tf.Variable(tf.constant(initialised_weights_stddev * 10, shape=[feature_maps]))\n",
      "        \n",
      "        conv_layer4_weights = tf.Variable(tf.truncated_normal(\n",
      "            [patch_size, patch_size, feature_maps, feature_maps], stddev=initialised_weights_stddev))\n",
      "        conv_layer4_biases = tf.Variable(tf.constant(initialised_weights_stddev * 10, shape=[feature_maps]))\n",
      "        \n",
      "        conv_layer5_weights = tf.Variable(tf.truncated_normal(\n",
      "            [patch_size, patch_size, feature_maps, feature_maps], stddev=initialised_weights_stddev))\n",
      "        conv_layer5_biases = tf.Variable(tf.constant(initialised_weights_stddev * 10, shape=[feature_maps]))\n",
      "        \n",
      "        conv_layer6_weights = tf.Variable(tf.truncated_normal(\n",
      "            [patch_size, patch_size, feature_maps, feature_maps], stddev=initialised_weights_stddev))\n",
      "        conv_layer6_biases = tf.Variable(tf.constant(initialised_weights_stddev * 10, shape=[feature_maps]))\n",
      "\n",
      "        number_of_max_pool_layers = 3\n",
      "        conv_output_size = int(math.ceil(image_size / (2.0 ** number_of_max_pool_layers)) * math.ceil(image_size / (2.0 ** number_of_max_pool_layers)) * feature_maps)\n",
      "        #print \"conv_output_size %s\" % conv_output_size\n",
      "        layer3_weights = tf.Variable(tf.truncated_normal(\n",
      "            [conv_output_size, number_of_hidden_neurons], stddev=initialised_weights_stddev))\n",
      "        layer3_biases = tf.Variable(tf.constant(initialised_weights_stddev * 10, shape=[number_of_hidden_neurons]))\n",
      "\n",
      "\n",
      "        layer4_weights = tf.Variable(tf.truncated_normal(\n",
      "            [number_of_hidden_neurons, num_labels], stddev=initialised_weights_stddev))\n",
      "        layer4_biases = tf.Variable(tf.constant(initialised_weights_stddev * 10, shape=[num_labels]))\n",
      "\n",
      "        # Model.\n",
      "        def create_model_graph(data, add_dropout = False):\n",
      "            conv = tf.nn.conv2d(data, layer1_weights, [1, 1, 1, 1], padding='SAME')\n",
      "            hidden = tf.nn.relu(conv + layer1_biases)\n",
      "            #shape = hidden.get_shape().as_list()\n",
      "            #print \"hidden shape: %s\" % shape\n",
      "\n",
      "            conv = tf.nn.conv2d(hidden, layer2_weights, [1, 1, 1, 1], padding='SAME')\n",
      "            relu = tf.nn.relu(conv + layer2_biases)\n",
      "            hidden = tf.nn.max_pool(relu, [1, 2, 2, 1], [1, 2, 2, 1], padding='SAME')\n",
      "            #shape = hidden.get_shape().as_list()\n",
      "            #print \"hidden shape: %s\" % shape\n",
      "\n",
      "            conv = tf.nn.conv2d(hidden, conv_layer3_weights, [1, 1, 1, 1], padding='SAME')\n",
      "            hidden = tf.nn.relu(conv + conv_layer3_biases)\n",
      "            \n",
      "            conv = tf.nn.conv2d(hidden, conv_layer4_weights, [1, 1, 1, 1], padding='SAME')\n",
      "            relu = tf.nn.relu(conv + conv_layer4_biases)\n",
      "            hidden = tf.nn.max_pool(relu, [1, 2, 2, 1], [1, 2, 2, 1], padding='SAME')\n",
      "            #shape = hidden.get_shape().as_list()\n",
      "            #print \"hidden shape: %s\" % shape\n",
      "            \n",
      "            conv = tf.nn.conv2d(hidden, conv_layer5_weights, [1, 1, 1, 1], padding='SAME')\n",
      "            hidden = tf.nn.relu(conv + conv_layer5_biases)\n",
      "            \n",
      "            conv = tf.nn.conv2d(hidden, conv_layer6_weights, [1, 1, 1, 1], padding='SAME')\n",
      "            relu = tf.nn.relu(conv + conv_layer6_biases)\n",
      "            hidden = tf.nn.max_pool(relu, [1, 2, 2, 1], [1, 2, 2, 1], padding='SAME')\n",
      "            #shape = hidden.get_shape().as_list()\n",
      "            #print \"hidden shape: %s\" % shape\n",
      "\n",
      "            shape = hidden.get_shape().as_list()\n",
      "            #print \"hidden shape: %s\" % shape\n",
      "            reshape = tf.reshape(hidden, [shape[0], shape[1] * shape[2] * shape[3]])\n",
      "            hidden = tf.nn.relu(tf.matmul(reshape, layer3_weights) + layer3_biases)\n",
      "            if add_dropout:\n",
      "                hidden = tf.nn.dropout(hidden, dropout_keep_probability)\n",
      "            return tf.matmul(hidden, layer4_weights) + layer4_biases\n",
      "\n",
      "        # Training computation.\n",
      "        logits = create_model_graph(tf_train_dataset, add_dropout = True)\n",
      "        layer_weights = [layer1_weights, layer2_weights, conv_layer3_weights, conv_layer4_weights, conv_layer5_weights, conv_layer6_weights, layer3_weights, layer4_weights]\n",
      "        loss = tf.reduce_mean(tf.nn.softmax_cross_entropy_with_logits(logits, tf_train_labels) + get_l2_loss(l2_lambda, layer_weights))\n",
      "\n",
      "        # Optimizer.\n",
      "        global_step = tf.Variable(0, name=\"global_step\", trainable=False)\n",
      "        decayed_learning_rate = tf.train.exponential_decay(learning_rate, global_step, decay_steps, decay_rate)\n",
      "        optimizer = tf.train.GradientDescentOptimizer(decayed_learning_rate).minimize(loss, global_step=global_step)\n",
      "\n",
      "        # Predictions for the training, validation, and test data.\n",
      "        train_prediction = tf.nn.softmax(logits)\n",
      "        valid_prediction = tf.nn.softmax(create_model_graph(tf_valid_dataset))\n",
      "        test_prediction = tf.nn.softmax(create_model_graph(tf_test_dataset))\n",
      "        \n",
      "        return Model(graph, batch_size, tf_train_dataset, tf_train_labels, tf_valid_dataset, tf_test_dataset, dropout_keep_probability, logits, loss, optimizer, train_prediction, valid_prediction, test_prediction)    \n",
      "\n",
      "def train_model(model, steps, dropout_keep_prob):\n",
      "    batch_size = model.batch_size\n",
      "    start_time = time.time()\n",
      "    steps_to_validation_predictions = {}\n",
      "    steps_to_test_predictions = {}\n",
      "    with tf.Session(graph=model.graph) as session:\n",
      "        tf.initialize_all_variables().run()\n",
      "        print \"Initialized\"\n",
      "        for step in xrange(steps):\n",
      "            offset = (step * batch_size) % (train_labels.shape[0] - batch_size)\n",
      "            batch_data = train_dataset[offset:(offset + batch_size), :, :, :]\n",
      "            batch_labels = train_labels[offset:(offset + batch_size), :]\n",
      "            feed_dict = {model.tf_train_dataset : batch_data, model.tf_train_labels : batch_labels, model.dropout_keep_probability: dropout_keep_prob}\n",
      "            _, l, predictions = session.run(\n",
      "                [model.optimizer, model.loss, model.train_prediction], feed_dict=feed_dict)\n",
      "            if (step % 1000 == 0):\n",
      "                print \"Minibatch loss at step\", step, \":\", l\n",
      "                print \"Minibatch accuracy: %.1f%%\" % accuracy(predictions, batch_labels)\n",
      "                validation_predictions = model.valid_prediction.eval()\n",
      "                steps_to_validation_predictions[step] = validation_predictions\n",
      "                print \"Validation accuracy at step %s: %.1f%%\" % (step, accuracy(validation_predictions, valid_labels))\n",
      "            if (step != 0 and step % 5000 == 0 and step != (steps - 1)):\n",
      "                test_predictions = model.test_prediction.eval()\n",
      "                steps_to_test_predictions[step] =  test_predictions\n",
      "                print \"Test accuracy at step %s: %.1f%%\" % (step, accuracy(test_predictions, test_labels))\n",
      "        test_predictions = model.test_prediction.eval()\n",
      "        steps_to_test_predictions[step] = test_predictions\n",
      "        print \"Test accuracy at step %s: %.1f%%\\n\" % (step, accuracy(test_predictions, test_labels))\n",
      "        seconds_in_an_hour = 60 * 60\n",
      "        print \"Elapsed time: %s hours\" % ((time.time() - start_time) / seconds_in_an_hour)\n",
      "        return steps_to_validation_predictions, steps_to_test_predictions"
     ],
     "language": "python",
     "metadata": {},
     "outputs": [],
     "prompt_number": 7
    },
    {
     "cell_type": "code",
     "collapsed": false,
     "input": [
      "from neural_network import depth_concat\n",
      "\n",
      "def create_naive_inception_module_model(learning_rate = 0.05, initialised_weights_stddev = 0.1, feature_maps = 16, batch_size = 32, l2_lambda = 0.1, decay_steps = 10000, decay_rate = 0.96):\n",
      "    graph = tf.Graph()\n",
      "    with graph.as_default():\n",
      "\n",
      "        # Input data.\n",
      "        tf_train_dataset = tf.placeholder(tf.float32, shape=(batch_size, image_size, image_size, num_channels))\n",
      "        tf_train_labels = tf.placeholder(tf.float32, shape=(batch_size, num_labels))\n",
      "        tf_valid_dataset = tf.constant(valid_dataset)\n",
      "        tf_test_dataset = tf.constant(test_dataset)\n",
      "        dropout_keep_probability = tf.placeholder(tf.float32)\n",
      "        \n",
      "        # In the naive inception module, we have 6 layers: the input layer, followed by the 1x1 conv, 3x3 conv, 5x5 conv\n",
      "        # and 3x3 maxpooling layer and lastly the DepthConcat layer.\n",
      "        \n",
      "        patch_size = 1\n",
      "        one_by_one_conv_weights = tf.Variable(tf.truncated_normal(\n",
      "            [patch_size, patch_size, num_channels, feature_maps], stddev=initialised_weights_stddev))\n",
      "        one_by_one_conv_biases = tf.Variable(tf.constant(initialised_weights_stddev * 10, shape=[feature_maps]))\n",
      "        \n",
      "        patch_size = 3\n",
      "        three_by_three_conv_weights = tf.Variable(tf.truncated_normal(\n",
      "            [patch_size, patch_size, num_channels, feature_maps], stddev=initialised_weights_stddev))\n",
      "        three_by_three_conv_biases = tf.Variable(tf.constant(initialised_weights_stddev * 10, shape=[feature_maps]))\n",
      "        \n",
      "        patch_size = 5\n",
      "        five_by_five_conv_weights = tf.Variable(tf.truncated_normal(\n",
      "            [patch_size, patch_size, num_channels, feature_maps], stddev=initialised_weights_stddev))\n",
      "        five_by_five_conv_biases = tf.Variable(tf.constant(initialised_weights_stddev * 10, shape=[feature_maps]))\n",
      "    \n",
      "        # The 3x3 maxpooling layer, DepthConcat layer, and averagepooling layer don't need any variables.\n",
      "        \n",
      "        # Now a fully connected layer\n",
      "        number_of_adjacent_layers = 4\n",
      "        num_conv_layers = 3\n",
      "        depth_concat_depth = feature_maps * num_conv_layers + num_channels # num_channels is the 3x2 maxpooling depth.\n",
      "        # I expect avg_pool_ouput to have a shape of (batch_size, 1, 1, depth_concat_depth)\n",
      "        # WARNING: I may have gotten the fc_weights tensor size wrong.\n",
      "        fc_weights = tf.Variable(tf.truncated_normal(\n",
      "            [depth_concat_depth, num_labels], stddev=initialised_weights_stddev))\n",
      "        #fc_biases = tf.Variable(tf.constant(initialised_weights_stddev * 10, shape=[num_labels]))\n",
      "        fc_biases = tf.Variable(tf.constant(1.0, shape=[num_labels]))\n",
      "        \n",
      "        # Model.\n",
      "        def create_model_graph(data, add_dropout = False):\n",
      "            shape = data.get_shape().as_list()\n",
      "            #print \"data shape: %s\" % shape\n",
      "            \n",
      "            conv = tf.nn.conv2d(data, one_by_one_conv_weights, [1, 1, 1, 1], padding='SAME')\n",
      "            one_by_one_output = tf.nn.relu(conv + one_by_one_conv_biases)\n",
      "            shape = one_by_one_output.get_shape().as_list()\n",
      "            #print \"one_by_one_output shape: %s\" % shape\n",
      "\n",
      "            conv = tf.nn.conv2d(data, three_by_three_conv_weights, [1, 1, 1, 1], padding='SAME')\n",
      "            three_by_three_output = tf.nn.relu(conv + three_by_three_conv_biases)\n",
      "            shape = three_by_three_output.get_shape().as_list()\n",
      "            #print \"three_by_three_output shape: %s\" % shape\n",
      "\n",
      "            conv = tf.nn.conv2d(data, five_by_five_conv_weights, [1, 1, 1, 1], padding='SAME')\n",
      "            five_by_five_output = tf.nn.relu(conv + five_by_five_conv_biases)\n",
      "            shape = five_by_five_output.get_shape().as_list()\n",
      "            #print \"five_by_five_output shape: %s\" % shape\n",
      "            \n",
      "            max_pool_output = tf.nn.max_pool(data, [1, 3, 3, 1], [1, 1, 1, 1], padding='SAME')\n",
      "            shape = max_pool_output.get_shape().as_list()\n",
      "            #print \"max_pool_output shape: %s\" % shape\n",
      "            \n",
      "            depth_concat_output = depth_concat([one_by_one_output, three_by_three_output, five_by_five_output, max_pool_output])\n",
      "            shape = depth_concat_output.get_shape().as_list()\n",
      "            #print \"depth_concat_output shape: %s\" % shape\n",
      "            \n",
      "            # The patch size of the avg_pool must match the patch_size of the depth_concat_output\n",
      "            # I assume that the padding must be VALID based on Google's white paper: http://arxiv.org/pdf/1409.4842v1.pdf\n",
      "            largest_patch_size = 32 # This is the height/width of depth_concat_output\n",
      "            avg_pool_output = tf.nn.avg_pool(depth_concat_output, [1, largest_patch_size, largest_patch_size, 1], [1, 1, 1, 1], padding='VALID', name=None)\n",
      "            shape = avg_pool_output.get_shape().as_list()\n",
      "            #print \"avg_pool_output shape: %s\" % shape\n",
      "\n",
      "            # Flatten the average_pool_output from 4 dimensions down to 2.\n",
      "            batch_index = 0\n",
      "            reshape_tensor = tf.reshape(avg_pool_output, (data.get_shape().as_list()[batch_index], 1 * 1 * depth_concat_depth))\n",
      "            #print \"reshape_tensor shape: %s\" % reshape_tensor.get_shape().as_list()\n",
      "            \n",
      "            # TODO: add dropout.\n",
      "            #if add_dropout:\n",
      "            #    hidden = tf.nn.dropout(hidden, dropout_keep_probability)\n",
      "            return tf.matmul(reshape_tensor, fc_weights) + fc_biases\n",
      "\n",
      "        # Training computation.\n",
      "        logits = create_model_graph(tf_train_dataset, add_dropout = True)\n",
      "        layer_weights = [one_by_one_conv_weights, three_by_three_conv_weights, five_by_five_conv_weights, fc_weights]\n",
      "        loss = tf.reduce_mean(tf.nn.softmax_cross_entropy_with_logits(logits, tf_train_labels) + get_l2_loss(l2_lambda, layer_weights))\n",
      "\n",
      "        # Optimizer.\n",
      "        global_step = tf.Variable(0, name=\"global_step\", trainable=False)\n",
      "        decayed_learning_rate = tf.train.exponential_decay(learning_rate, global_step, decay_steps, decay_rate)\n",
      "        optimizer = tf.train.GradientDescentOptimizer(decayed_learning_rate).minimize(loss, global_step=global_step)\n",
      "\n",
      "        # Predictions for the training, validation, and test data.\n",
      "        train_prediction = tf.nn.softmax(logits)\n",
      "        valid_prediction = tf.nn.softmax(create_model_graph(tf_valid_dataset))\n",
      "        test_prediction = tf.nn.softmax(create_model_graph(tf_test_dataset))\n",
      "        \n",
      "        return Model(graph, batch_size, tf_train_dataset, tf_train_labels, tf_valid_dataset, tf_test_dataset, dropout_keep_probability, logits, loss, optimizer, train_prediction, valid_prediction, test_prediction)    \n",
      "\n",
      "def get_max_pool_output_size(image_size, number_of_max_pool_layers):\n",
      "    return int(math.ceil(image_size / (2.0 ** number_of_max_pool_layers)) * math.ceil(image_size / (2.0 ** number_of_max_pool_layers)))\n",
      "        \n",
      "def create_inception_module_model(learning_rate = 0.05, initialised_weights_stddev = 0.1, feature_maps = 16, batch_size = 32, l2_lambda = 0.1, decay_steps = 10000, decay_rate = 0.96):\n",
      "    graph = tf.Graph()\n",
      "    with graph.as_default():\n",
      "\n",
      "        # Input data.\n",
      "        tf_train_dataset = tf.placeholder(tf.float32, shape=(batch_size, image_size, image_size, num_channels))\n",
      "        tf_train_labels = tf.placeholder(tf.float32, shape=(batch_size, num_labels))\n",
      "        tf_valid_dataset = tf.constant(valid_dataset)\n",
      "        tf_test_dataset = tf.constant(test_dataset)\n",
      "        dropout_keep_probability = tf.placeholder(tf.float32)\n",
      "        \"\"\"\n",
      "        In the inception module, we have the following layers:\n",
      "        input layer\n",
      "                  1x1 conv, 1x1 conv, 3x3 maxpool\n",
      "        1x1 conv, 3x3 conv, 5x5 conv, 1x1 conv\n",
      "        DepthConcat\n",
      "        AveragePool\n",
      "        Fully Connected layer\n",
      "        \"\"\"\n",
      "        \n",
      "        patch_size = 1\n",
      "        one_by_one_conv_weights_to_three_by_three = tf.Variable(tf.truncated_normal(\n",
      "            [patch_size, patch_size, num_channels, feature_maps], stddev=initialised_weights_stddev))\n",
      "        one_by_one_conv_biases_to_three_by_three = tf.Variable(tf.constant(initialised_weights_stddev * 10, shape=[feature_maps]))\n",
      "        \n",
      "        one_by_one_conv_weights_to_five_by_five = tf.Variable(tf.truncated_normal(\n",
      "            [patch_size, patch_size, num_channels, feature_maps], stddev=initialised_weights_stddev))\n",
      "        one_by_one_conv_biases_to_five_by_five = tf.Variable(tf.constant(initialised_weights_stddev * 10, shape=[feature_maps]))\n",
      "        \n",
      "        one_by_one_conv_weights_to_depthconcat = tf.Variable(tf.truncated_normal(\n",
      "            [patch_size, patch_size, num_channels, feature_maps], stddev=initialised_weights_stddev))\n",
      "        one_by_one_conv_biases_to_depthconcat = tf.Variable(tf.constant(initialised_weights_stddev * 10, shape=[feature_maps]))\n",
      "        \n",
      "        number_of_max_pools = 1\n",
      "        three_by_three_max_pool_output_size = get_max_pool_output_size(image_size, number_of_max_pools)\n",
      "        one_by_one_conv_weights_from_max_pool = tf.Variable(tf.truncated_normal(\n",
      "            [three_by_three_max_pool_output_size, three_by_three_max_pool_output_size, num_channels, feature_maps], stddev=initialised_weights_stddev))\n",
      "        one_by_one_conv_biases_from_max_pool = tf.Variable(tf.constant(initialised_weights_stddev * 10, shape=[feature_maps]))\n",
      "        \n",
      "        patch_size = 3\n",
      "        three_by_three_conv_weights = tf.Variable(tf.truncated_normal(\n",
      "            [patch_size, patch_size, num_channels, feature_maps], stddev=initialised_weights_stddev))\n",
      "        three_by_three_conv_biases = tf.Variable(tf.constant(initialised_weights_stddev * 10, shape=[feature_maps]))\n",
      "        \n",
      "        patch_size = 5\n",
      "        five_by_five_conv_weights = tf.Variable(tf.truncated_normal(\n",
      "            [patch_size, patch_size, num_channels, feature_maps], stddev=initialised_weights_stddev))\n",
      "        five_by_five_conv_biases = tf.Variable(tf.constant(initialised_weights_stddev * 10, shape=[feature_maps]))\n",
      "    \n",
      "        # The 3x3 maxpooling layer, DepthConcat layer, and averagepooling layer don't need any variables.\n",
      "        \n",
      "        # Now a fully connected layer\n",
      "        number_of_adjacent_layers = 4\n",
      "        depth_concat_depth = feature_maps * number_of_adjacent_layers\n",
      "        # I expect avg_pool_ouput to have a shape of (batch_size, 1, 1, depth_concat_depth)\n",
      "        # WARNING: I may have gotten the fc_weights tensor size wrong.\n",
      "        fc_weights = tf.Variable(tf.truncated_normal(\n",
      "            [depth_concat_depth, num_labels], stddev=initialised_weights_stddev))\n",
      "        #fc_biases = tf.Variable(tf.constant(initialised_weights_stddev * 10, shape=[num_labels]))\n",
      "        fc_biases = tf.Variable(tf.constant(1.0, shape=[num_labels]))\n",
      "        \"\"\"\n",
      "        In the inception module, we have the following layers:\n",
      "        input layer\n",
      "                  1x1 conv, 1x1 conv, 3x3 maxpool\n",
      "        1x1 conv, 3x3 conv, 5x5 conv, 1x1 conv\n",
      "        DepthConcat\n",
      "        AveragePool\n",
      "        Fully Connected layer\n",
      "        \"\"\"\n",
      "        # Model.\n",
      "        def create_model_graph(data, add_dropout = False):\n",
      "            shape = data.get_shape().as_list()\n",
      "            #print \"data shape: %s\" % shape\n",
      "            \n",
      "            # Adjacent layer 1\n",
      "            conv = tf.nn.conv2d(data, one_by_one_conv_weights_to_three_by_three, [1, 1, 1, 1], padding='SAME')\n",
      "            one_by_one_conv_weights_to_three_by_three_output = tf.nn.relu(conv + one_by_one_conv_biases_to_three_by_three)\n",
      "            shape = one_by_one_conv_weights_to_three_by_three_output.get_shape().as_list()\n",
      "            #print \"one_by_one_conv_weights_to_three_by_three_output shape: %s\" % shape\n",
      "            \n",
      "            conv = tf.nn.conv2d(data, one_by_one_conv_weights_to_five_by_five, [1, 1, 1, 1], padding='SAME')\n",
      "            one_by_one_conv_weights_to_five_by_five_output = tf.nn.relu(conv + one_by_one_conv_biases_to_five_by_five)\n",
      "            shape = one_by_one_conv_weights_to_five_by_five_output.get_shape().as_list()\n",
      "            #print \"one_by_one_conv_weights_to_five_by_five_output shape: %s\" % shape\n",
      "            \n",
      "            max_pool_output = tf.nn.max_pool(data, [1, 3, 3, 1], [1, 1, 1, 1], padding='SAME')\n",
      "            shape = max_pool_output.get_shape().as_list()\n",
      "            #print \"max_pool_output shape: %s\" % shape\n",
      "            \n",
      "            # Adjacent layer 2\n",
      "            conv = tf.nn.conv2d(data, one_by_one_conv_weights_to_depthconcat, [1, 1, 1, 1], padding='SAME')\n",
      "            one_by_one_output_to_depthconcat = tf.nn.relu(conv + one_by_one_conv_biases_to_depthconcat)\n",
      "            shape = one_by_one_output_to_depthconcat.get_shape().as_list()\n",
      "            #print \"one_by_one_output_to_depthconcat shape: %s\" % shape\n",
      "\n",
      "            conv = tf.nn.conv2d(one_by_one_conv_weights_to_three_by_three_output, three_by_three_conv_weights, [1, 1, 1, 1], padding='SAME')\n",
      "            three_by_three_output = tf.nn.relu(conv + three_by_three_conv_biases)\n",
      "            shape = three_by_three_output.get_shape().as_list()\n",
      "            #print \"three_by_three_output shape: %s\" % shape\n",
      "\n",
      "            conv = tf.nn.conv2d(one_by_one_conv_weights_to_five_by_five_output, five_by_five_conv_weights, [1, 1, 1, 1], padding='SAME')\n",
      "            five_by_five_output = tf.nn.relu(conv + five_by_five_conv_biases)\n",
      "            shape = five_by_five_output.get_shape().as_list()\n",
      "            #print \"five_by_five_output shape: %s\" % shape\n",
      "            \n",
      "            conv = tf.nn.conv2d(max_pool_output, one_by_one_conv_weights_from_max_pool, [1, 1, 1, 1], padding='SAME')\n",
      "            one_by_one_conv_weights_from_max_pool_output = tf.nn.relu(conv + one_by_one_conv_biases_from_max_pool)\n",
      "            shape = one_by_one_conv_weights_from_max_pool_output.get_shape().as_list()\n",
      "            #print \"one_by_one_conv_weights_from_max_pool_output shape: %s\" % shape\n",
      "            \n",
      "            \n",
      "            depth_concat_output = depth_concat([one_by_one_output_to_depthconcat, three_by_three_output, five_by_five_output, one_by_one_conv_weights_from_max_pool_output])\n",
      "            shape = depth_concat_output.get_shape().as_list()\n",
      "            #print \"depth_concat_output shape: %s\" % shape\n",
      "            \n",
      "            # The patch size of the avg_pool must match the patch_size of the depth_concat_output\n",
      "            # I assume that the padding must be VALID based on Google's white paper: http://arxiv.org/pdf/1409.4842v1.pdf\n",
      "            largest_patch_size = 32 # This is the height/width of depth_concat_output\n",
      "            avg_pool_output = tf.nn.avg_pool(depth_concat_output, [1, largest_patch_size, largest_patch_size, 1], [1, 1, 1, 1], padding='VALID', name=None)\n",
      "            shape = avg_pool_output.get_shape().as_list()\n",
      "            #print \"avg_pool_output shape: %s\" % shape\n",
      "\n",
      "            # Flatten the average_pool_output from 4 dimensions down to 2.\n",
      "            batch_index = 0\n",
      "            reshape_tensor = tf.reshape(avg_pool_output, (data.get_shape().as_list()[batch_index], 1 * 1 * depth_concat_depth))\n",
      "            #print \"reshape_tensor shape: %s\" % reshape_tensor.get_shape().as_list()\n",
      "            \n",
      "            # TODO: add dropout.\n",
      "            #if add_dropout:\n",
      "            #    hidden = tf.nn.dropout(hidden, dropout_keep_probability)\n",
      "            return tf.matmul(reshape_tensor, fc_weights) + fc_biases\n",
      "\n",
      "        # Training computation.\n",
      "        logits = create_model_graph(tf_train_dataset, add_dropout = True)\n",
      "        layer_weights = [one_by_one_conv_weights_to_three_by_three, one_by_one_conv_weights_to_five_by_five, one_by_one_conv_weights_to_depthconcat, one_by_one_conv_weights_from_max_pool, three_by_three_conv_weights, five_by_five_conv_weights, fc_weights]\n",
      "        loss = tf.reduce_mean(tf.nn.softmax_cross_entropy_with_logits(logits, tf_train_labels) + get_l2_loss(l2_lambda, layer_weights))\n",
      "\n",
      "        # Optimizer.\n",
      "        global_step = tf.Variable(0, name=\"global_step\", trainable=False)\n",
      "        decayed_learning_rate = tf.train.exponential_decay(learning_rate, global_step, decay_steps, decay_rate)\n",
      "        optimizer = tf.train.GradientDescentOptimizer(decayed_learning_rate).minimize(loss, global_step=global_step)\n",
      "\n",
      "        # Predictions for the training, validation, and test data.\n",
      "        train_prediction = tf.nn.softmax(logits)\n",
      "        valid_prediction = tf.nn.softmax(create_model_graph(tf_valid_dataset))\n",
      "        test_prediction = tf.nn.softmax(create_model_graph(tf_test_dataset))\n",
      "        \n",
      "        return Model(graph, batch_size, tf_train_dataset, tf_train_labels, tf_valid_dataset, tf_test_dataset, dropout_keep_probability, logits, loss, optimizer, train_prediction, valid_prediction, test_prediction)    \n"
     ],
     "language": "python",
     "metadata": {},
     "outputs": [],
     "prompt_number": 10
    },
    {
     "cell_type": "markdown",
     "metadata": {},
     "source": [
      "**My goal is to achieve 75.86% test accuracy** or higher for the CIFAR-10 dataset. My stretch goal is 90% test accuracy.\n",
      "\n",
      "My first naive adoption of the Not-MNIST conv net achieved ~26% after 5000 steps."
     ]
    },
    {
     "cell_type": "markdown",
     "metadata": {},
     "source": [
      "For myfirst model, halving the decay step improved **validation accuracy to 69.08% and test accuracy to 68.77%**."
     ]
    },
    {
     "cell_type": "markdown",
     "metadata": {},
     "source": [
      "TODO: learn about weight initialisation so you can initialise weights to not only improve model performance but also to get the triple layer double conv model to work and actually learn.\n",
      "\n",
      "Ideas: allow the pool layers to reduce the dimensions of the data to see if it improves performance.\n",
      "\n",
      "Idea: Create deeper networks.\n",
      "\n",
      "Idea: reduce the number of feature maps for deeper layers.\n",
      "\n",
      "Implement a 5x1 and 1x5 convolutional map and see if it maitains performance whilst decreasing training time."
     ]
    },
    {
     "cell_type": "code",
     "collapsed": false,
     "input": [
      "model = create_inception_module_model(learning_rate = 0.001, l2_lambda = 0.1, feature_maps = 16, decay_steps = 10000, decay_rate = 0.96)\n",
      "steps_to_validation_predictions, steps_to_test_predictions = train_model(model, 100001, dropout_keep_prob = 0.9)\n",
      "\n",
      "# Mac Elapsed time: 5.26098220282 hours\n",
      "# Linux Elapsed time: 1.37024735365 hours\n",
      "# Speed up: 3.84"
     ],
     "language": "python",
     "metadata": {},
     "outputs": []
    },
    {
     "cell_type": "markdown",
     "metadata": {},
     "source": [
      "For the initial hyper parameters, for 100K steps, the best validation accuracy was 40%. The learning process was quite sporadic, which indicates bad hyper parameters or net architecture. Halving the learning rate improved the validation accuracy up to 42.6%. This is a good sign that lowering the learning rate may improve performance more and lead to less sporadic performance. Increasing the feature maps from 16 to 24 improve performance up to 43.7 which is a great sign but performance was still very sporadic.\n",
      "\n",
      "Lets try quartering the initial learning rate with 24 feature maps."
     ]
    },
    {
     "cell_type": "code",
     "collapsed": false,
     "input": [
      "# Half the initial learning rate, 24 feature maps and a decreased weight initialisation value\n",
      "model = create_inception_module_model(learning_rate = 0.0005, l2_lambda = 0.1, feature_maps = 24, initialised_weights_stddev = 0.01, decay_steps = 10000, decay_rate = 0.96)\n",
      "steps_to_validation_predictions, steps_to_test_predictions = train_model(model, 100001, dropout_keep_prob = 0.9)\n",
      "correct_prediction_indexes, incorrect_prediction_indexes = visualise_accuracies(steps_to_validation_predictions, steps_to_test_predictions)\n",
      "\n",
      "# Mac Elapsed time: 7.17482998166 hours\n",
      "# Linux Elapsed time: 1.37846191777 hours\n",
      "# Speed up: 5.20"
     ],
     "language": "python",
     "metadata": {},
     "outputs": []
    },
    {
     "cell_type": "markdown",
     "metadata": {},
     "source": [
      "A weights std dev of 0.5 is better than 0.7."
     ]
    },
    {
     "cell_type": "code",
     "collapsed": false,
     "input": [
      "Best values thus far: learning_rate = 0.0005, l2_lambda = 0.1, feature_maps = 24, initialised_weights_stddev = 0.5"
     ],
     "language": "python",
     "metadata": {},
     "outputs": []
    },
    {
     "cell_type": "markdown",
     "metadata": {},
     "source": [
      "Out of all of the experiements, decreasing the l2_lambda to 0.05 was the only one that improvement the validation accuracy:\n",
      "The best validation accuracy was 45.29 at step 96000\n",
      "The best test accuracy was 44.91 at step 90000"
     ]
    },
    {
     "cell_type": "code",
     "collapsed": false,
     "input": [
      "# Halve l2_lambda again\n",
      "model = create_inception_module_model(learning_rate = 0.00025, l2_lambda = 0.025, feature_maps = 24, initialised_weights_stddev = 0.5, decay_steps = 10000, decay_rate = 0.96)\n",
      "steps_to_validation_predictions, steps_to_test_predictions = train_model(model, 100001, dropout_keep_prob = 0.9)\n",
      "correct_prediction_indexes, incorrect_prediction_indexes = visualise_accuracies(steps_to_validation_predictions, steps_to_test_predictions)"
     ],
     "language": "python",
     "metadata": {},
     "outputs": [
      {
       "output_type": "stream",
       "stream": "stdout",
       "text": [
        "Initialized\n",
        "Minibatch loss at step"
       ]
      },
      {
       "output_type": "stream",
       "stream": "stdout",
       "text": [
        " 0 : 1506.8\n",
        "Minibatch accuracy: 6.2%\n",
        "Validation accuracy at step 0: 10.2%"
       ]
      },
      {
       "output_type": "stream",
       "stream": "stdout",
       "text": [
        "\n",
        "Minibatch loss at step"
       ]
      },
      {
       "output_type": "stream",
       "stream": "stdout",
       "text": [
        " 1000 : 14.7615\n",
        "Minibatch accuracy: 34.4%\n",
        "Validation accuracy at step 1000: 22.4%"
       ]
      },
      {
       "output_type": "stream",
       "stream": "stdout",
       "text": [
        "\n",
        "Minibatch loss at step"
       ]
      },
      {
       "output_type": "stream",
       "stream": "stdout",
       "text": [
        " 2000 : 13.5288\n",
        "Minibatch accuracy: 15.6%\n",
        "Validation accuracy at step 2000: 23.5%"
       ]
      },
      {
       "output_type": "stream",
       "stream": "stdout",
       "text": [
        "\n",
        "Minibatch loss at step"
       ]
      },
      {
       "output_type": "stream",
       "stream": "stdout",
       "text": [
        " 3000 : 10.9301\n",
        "Minibatch accuracy: 21.9%\n",
        "Validation accuracy at step 3000: 26.1%"
       ]
      },
      {
       "output_type": "stream",
       "stream": "stdout",
       "text": [
        "\n",
        "Minibatch loss at step"
       ]
      },
      {
       "output_type": "stream",
       "stream": "stdout",
       "text": [
        " 4000 : 11.7428\n",
        "Minibatch accuracy: 25.0%\n",
        "Validation accuracy at step 4000: 25.0%"
       ]
      },
      {
       "output_type": "stream",
       "stream": "stdout",
       "text": [
        "\n",
        "Minibatch loss at step"
       ]
      },
      {
       "output_type": "stream",
       "stream": "stdout",
       "text": [
        " 5000 : 10.2255\n",
        "Minibatch accuracy: 34.4%\n",
        "Validation accuracy at step 5000: 27.7%"
       ]
      },
      {
       "output_type": "stream",
       "stream": "stdout",
       "text": [
        "\n",
        "Test accuracy at step 5000: 28.2%"
       ]
      },
      {
       "output_type": "stream",
       "stream": "stdout",
       "text": [
        "\n",
        "Minibatch loss at step"
       ]
      },
      {
       "output_type": "stream",
       "stream": "stdout",
       "text": [
        " 6000 : 9.14655\n",
        "Minibatch accuracy: 37.5%\n",
        "Validation accuracy at step 6000: 28.8%"
       ]
      },
      {
       "output_type": "stream",
       "stream": "stdout",
       "text": [
        "\n",
        "Minibatch loss at step"
       ]
      },
      {
       "output_type": "stream",
       "stream": "stdout",
       "text": [
        " 7000 : 9.81804\n",
        "Minibatch accuracy: 40.6%\n",
        "Validation accuracy at step 7000: 26.6%"
       ]
      },
      {
       "output_type": "stream",
       "stream": "stdout",
       "text": [
        "\n",
        "Minibatch loss at step"
       ]
      },
      {
       "output_type": "stream",
       "stream": "stdout",
       "text": [
        " 8000 : 9.31104\n",
        "Minibatch accuracy: 25.0%\n",
        "Validation accuracy at step 8000: 26.6%"
       ]
      },
      {
       "output_type": "stream",
       "stream": "stdout",
       "text": [
        "\n",
        "Minibatch loss at step"
       ]
      },
      {
       "output_type": "stream",
       "stream": "stdout",
       "text": [
        " 9000 : 8.54479\n",
        "Minibatch accuracy: 34.4%\n",
        "Validation accuracy at step 9000: 31.9%"
       ]
      },
      {
       "output_type": "stream",
       "stream": "stdout",
       "text": [
        "\n",
        "Minibatch loss at step"
       ]
      },
      {
       "output_type": "stream",
       "stream": "stdout",
       "text": [
        " 10000 : 9.82257\n",
        "Minibatch accuracy: 15.6%\n",
        "Validation accuracy at step 10000: 29.9%"
       ]
      },
      {
       "output_type": "stream",
       "stream": "stdout",
       "text": [
        "\n",
        "Test accuracy at step 10000: 29.0%"
       ]
      },
      {
       "output_type": "stream",
       "stream": "stdout",
       "text": [
        "\n",
        "Minibatch loss at step"
       ]
      },
      {
       "output_type": "stream",
       "stream": "stdout",
       "text": [
        " 11000 : 10.2982\n",
        "Minibatch accuracy: 18.8%\n",
        "Validation accuracy at step 11000: 25.7%"
       ]
      },
      {
       "output_type": "stream",
       "stream": "stdout",
       "text": [
        "\n",
        "Minibatch loss at step"
       ]
      },
      {
       "output_type": "stream",
       "stream": "stdout",
       "text": [
        " 12000 : 9.43428\n",
        "Minibatch accuracy: 34.4%\n",
        "Validation accuracy at step 12000: 32.0%"
       ]
      },
      {
       "output_type": "stream",
       "stream": "stdout",
       "text": [
        "\n",
        "Minibatch loss at step"
       ]
      },
      {
       "output_type": "stream",
       "stream": "stdout",
       "text": [
        " 13000 : 8.90168\n",
        "Minibatch accuracy: 34.4%\n",
        "Validation accuracy at step 13000: 32.1%"
       ]
      },
      {
       "output_type": "stream",
       "stream": "stdout",
       "text": [
        "\n",
        "Minibatch loss at step"
       ]
      },
      {
       "output_type": "stream",
       "stream": "stdout",
       "text": [
        " 14000 : 9.62323\n",
        "Minibatch accuracy: 12.5%\n",
        "Validation accuracy at step 14000: 31.5%"
       ]
      },
      {
       "output_type": "stream",
       "stream": "stdout",
       "text": [
        "\n",
        "Minibatch loss at step"
       ]
      },
      {
       "output_type": "stream",
       "stream": "stdout",
       "text": [
        " 15000 : 8.61638\n",
        "Minibatch accuracy: 34.4%\n",
        "Validation accuracy at step 15000: 31.4%"
       ]
      },
      {
       "output_type": "stream",
       "stream": "stdout",
       "text": [
        "\n",
        "Test accuracy at step 15000: 31.7%"
       ]
      },
      {
       "output_type": "stream",
       "stream": "stdout",
       "text": [
        "\n",
        "Minibatch loss at step"
       ]
      },
      {
       "output_type": "stream",
       "stream": "stdout",
       "text": [
        " 16000 : 8.23908\n",
        "Minibatch accuracy: 28.1%\n",
        "Validation accuracy at step 16000: 33.2%"
       ]
      },
      {
       "output_type": "stream",
       "stream": "stdout",
       "text": [
        "\n",
        "Minibatch loss at step"
       ]
      },
      {
       "output_type": "stream",
       "stream": "stdout",
       "text": [
        " 17000 : 7.92998\n",
        "Minibatch accuracy: 28.1%\n",
        "Validation accuracy at step 17000: 35.6%"
       ]
      },
      {
       "output_type": "stream",
       "stream": "stdout",
       "text": [
        "\n",
        "Minibatch loss at step"
       ]
      },
      {
       "output_type": "stream",
       "stream": "stdout",
       "text": [
        " 18000 : 7.7978\n",
        "Minibatch accuracy: 37.5%\n",
        "Validation accuracy at step 18000: 33.8%"
       ]
      },
      {
       "output_type": "stream",
       "stream": "stdout",
       "text": [
        "\n",
        "Minibatch loss at step"
       ]
      },
      {
       "output_type": "stream",
       "stream": "stdout",
       "text": [
        " 19000 : 7.72297\n",
        "Minibatch accuracy: 43.8%\n",
        "Validation accuracy at step 19000: 34.8%"
       ]
      },
      {
       "output_type": "stream",
       "stream": "stdout",
       "text": [
        "\n",
        "Minibatch loss at step"
       ]
      },
      {
       "output_type": "stream",
       "stream": "stdout",
       "text": [
        " 20000 : 7.40479\n",
        "Minibatch accuracy: 40.6%\n",
        "Validation accuracy at step 20000: 29.3%"
       ]
      },
      {
       "output_type": "stream",
       "stream": "stdout",
       "text": [
        "\n",
        "Test accuracy at step 20000: 30.5%"
       ]
      },
      {
       "output_type": "stream",
       "stream": "stdout",
       "text": [
        "\n",
        "Minibatch loss at step"
       ]
      },
      {
       "output_type": "stream",
       "stream": "stdout",
       "text": [
        " 21000 : 7.56584\n",
        "Minibatch accuracy: 28.1%\n",
        "Validation accuracy at step 21000: 35.1%"
       ]
      },
      {
       "output_type": "stream",
       "stream": "stdout",
       "text": [
        "\n",
        "Minibatch loss at step"
       ]
      },
      {
       "output_type": "stream",
       "stream": "stdout",
       "text": [
        " 22000 : 7.46268\n",
        "Minibatch accuracy: 37.5%\n",
        "Validation accuracy at step 22000: 36.9%"
       ]
      },
      {
       "output_type": "stream",
       "stream": "stdout",
       "text": [
        "\n",
        "Minibatch loss at step"
       ]
      },
      {
       "output_type": "stream",
       "stream": "stdout",
       "text": [
        " 23000 : 7.72004\n",
        "Minibatch accuracy: 31.2%\n",
        "Validation accuracy at step 23000: 34.3%"
       ]
      },
      {
       "output_type": "stream",
       "stream": "stdout",
       "text": [
        "\n",
        "Minibatch loss at step"
       ]
      },
      {
       "output_type": "stream",
       "stream": "stdout",
       "text": [
        " 24000 : 7.31589\n",
        "Minibatch accuracy: 40.6%\n",
        "Validation accuracy at step 24000: 37.8%"
       ]
      },
      {
       "output_type": "stream",
       "stream": "stdout",
       "text": [
        "\n",
        "Minibatch loss at step"
       ]
      },
      {
       "output_type": "stream",
       "stream": "stdout",
       "text": [
        " 25000 : 7.3662\n",
        "Minibatch accuracy: 43.8%\n",
        "Validation accuracy at step 25000: 36.0%"
       ]
      },
      {
       "output_type": "stream",
       "stream": "stdout",
       "text": [
        "\n",
        "Test accuracy at step 25000: 35.6%"
       ]
      },
      {
       "output_type": "stream",
       "stream": "stdout",
       "text": [
        "\n",
        "Minibatch loss at step"
       ]
      },
      {
       "output_type": "stream",
       "stream": "stdout",
       "text": [
        " 26000 : 7.45921\n",
        "Minibatch accuracy: 34.4%\n",
        "Validation accuracy at step 26000: 34.9%"
       ]
      },
      {
       "output_type": "stream",
       "stream": "stdout",
       "text": [
        "\n",
        "Minibatch loss at step"
       ]
      },
      {
       "output_type": "stream",
       "stream": "stdout",
       "text": [
        " 27000 : 6.72495\n",
        "Minibatch accuracy: 43.8%\n",
        "Validation accuracy at step 27000: 37.1%"
       ]
      },
      {
       "output_type": "stream",
       "stream": "stdout",
       "text": [
        "\n",
        "Minibatch loss at step"
       ]
      },
      {
       "output_type": "stream",
       "stream": "stdout",
       "text": [
        " 28000 : 7.06224\n",
        "Minibatch accuracy: 31.2%\n",
        "Validation accuracy at step 28000: 38.1%"
       ]
      },
      {
       "output_type": "stream",
       "stream": "stdout",
       "text": [
        "\n",
        "Minibatch loss at step"
       ]
      },
      {
       "output_type": "stream",
       "stream": "stdout",
       "text": [
        " 29000 : 7.07439\n",
        "Minibatch accuracy: 31.2%\n",
        "Validation accuracy at step 29000: 37.8%"
       ]
      },
      {
       "output_type": "stream",
       "stream": "stdout",
       "text": [
        "\n",
        "Minibatch loss at step"
       ]
      },
      {
       "output_type": "stream",
       "stream": "stdout",
       "text": [
        " 30000 : 7.07452\n",
        "Minibatch accuracy: 31.2%\n",
        "Validation accuracy at step 30000: 34.6%"
       ]
      },
      {
       "output_type": "stream",
       "stream": "stdout",
       "text": [
        "\n",
        "Test accuracy at step 30000: 34.4%"
       ]
      },
      {
       "output_type": "stream",
       "stream": "stdout",
       "text": [
        "\n",
        "Minibatch loss at step"
       ]
      },
      {
       "output_type": "stream",
       "stream": "stdout",
       "text": [
        " 31000 : 6.80192\n",
        "Minibatch accuracy: 37.5%\n",
        "Validation accuracy at step 31000: 36.2%"
       ]
      },
      {
       "output_type": "stream",
       "stream": "stdout",
       "text": [
        "\n",
        "Minibatch loss at step"
       ]
      },
      {
       "output_type": "stream",
       "stream": "stdout",
       "text": [
        " 32000 : 7.1316\n",
        "Minibatch accuracy: 28.1%\n",
        "Validation accuracy at step 32000: 36.8%"
       ]
      },
      {
       "output_type": "stream",
       "stream": "stdout",
       "text": [
        "\n",
        "Minibatch loss at step"
       ]
      },
      {
       "output_type": "stream",
       "stream": "stdout",
       "text": [
        " 33000 : 6.47983\n",
        "Minibatch accuracy: 43.8%\n",
        "Validation accuracy at step 33000: 37.4%"
       ]
      },
      {
       "output_type": "stream",
       "stream": "stdout",
       "text": [
        "\n",
        "Minibatch loss at step"
       ]
      },
      {
       "output_type": "stream",
       "stream": "stdout",
       "text": [
        " 34000 : 6.44661\n",
        "Minibatch accuracy: 34.4%\n",
        "Validation accuracy at step 34000: 37.1%"
       ]
      },
      {
       "output_type": "stream",
       "stream": "stdout",
       "text": [
        "\n",
        "Minibatch loss at step"
       ]
      },
      {
       "output_type": "stream",
       "stream": "stdout",
       "text": [
        " 35000 : 6.45711\n",
        "Minibatch accuracy: 40.6%\n",
        "Validation accuracy at step 35000: 39.3%"
       ]
      },
      {
       "output_type": "stream",
       "stream": "stdout",
       "text": [
        "\n",
        "Test accuracy at step 35000: 38.8%"
       ]
      },
      {
       "output_type": "stream",
       "stream": "stdout",
       "text": [
        "\n",
        "Minibatch loss at step"
       ]
      },
      {
       "output_type": "stream",
       "stream": "stdout",
       "text": [
        " 36000 : 7.08134\n",
        "Minibatch accuracy: 21.9%\n",
        "Validation accuracy at step 36000: 36.9%"
       ]
      },
      {
       "output_type": "stream",
       "stream": "stdout",
       "text": [
        "\n",
        "Minibatch loss at step"
       ]
      },
      {
       "output_type": "stream",
       "stream": "stdout",
       "text": [
        " 37000 : 6.38108\n",
        "Minibatch accuracy: 43.8%\n",
        "Validation accuracy at step 37000: 39.5%"
       ]
      },
      {
       "output_type": "stream",
       "stream": "stdout",
       "text": [
        "\n",
        "Minibatch loss at step"
       ]
      },
      {
       "output_type": "stream",
       "stream": "stdout",
       "text": [
        " 38000 : 6.74988\n",
        "Minibatch accuracy: 37.5%\n",
        "Validation accuracy at step 38000: 39.4%"
       ]
      },
      {
       "output_type": "stream",
       "stream": "stdout",
       "text": [
        "\n",
        "Minibatch loss at step"
       ]
      },
      {
       "output_type": "stream",
       "stream": "stdout",
       "text": [
        " 39000 : 6.71803\n",
        "Minibatch accuracy: 43.8%\n",
        "Validation accuracy at step 39000: 39.2%"
       ]
      },
      {
       "output_type": "stream",
       "stream": "stdout",
       "text": [
        "\n",
        "Minibatch loss at step"
       ]
      },
      {
       "output_type": "stream",
       "stream": "stdout",
       "text": [
        " 40000 : 6.34626\n",
        "Minibatch accuracy: 37.5%\n",
        "Validation accuracy at step 40000: 36.5%"
       ]
      },
      {
       "output_type": "stream",
       "stream": "stdout",
       "text": [
        "\n",
        "Test accuracy at step 40000: 36.7%"
       ]
      },
      {
       "output_type": "stream",
       "stream": "stdout",
       "text": [
        "\n",
        "Minibatch loss at step"
       ]
      },
      {
       "output_type": "stream",
       "stream": "stdout",
       "text": [
        " 41000 : 6.38984\n",
        "Minibatch accuracy: 34.4%\n",
        "Validation accuracy at step 41000: 38.5%"
       ]
      },
      {
       "output_type": "stream",
       "stream": "stdout",
       "text": [
        "\n",
        "Minibatch loss at step"
       ]
      },
      {
       "output_type": "stream",
       "stream": "stdout",
       "text": [
        " 42000 : 6.39808\n",
        "Minibatch accuracy: 28.1%\n",
        "Validation accuracy at step 42000: 39.3%"
       ]
      },
      {
       "output_type": "stream",
       "stream": "stdout",
       "text": [
        "\n",
        "Minibatch loss at step"
       ]
      },
      {
       "output_type": "stream",
       "stream": "stdout",
       "text": [
        " 43000 : 5.93988\n",
        "Minibatch accuracy: 50.0%\n",
        "Validation accuracy at step 43000: 39.4%"
       ]
      },
      {
       "output_type": "stream",
       "stream": "stdout",
       "text": [
        "\n",
        "Minibatch loss at step"
       ]
      },
      {
       "output_type": "stream",
       "stream": "stdout",
       "text": [
        " 44000 : 6.21149\n",
        "Minibatch accuracy: 40.6%\n",
        "Validation accuracy at step 44000: 39.0%"
       ]
      },
      {
       "output_type": "stream",
       "stream": "stdout",
       "text": [
        "\n",
        "Minibatch loss at step"
       ]
      },
      {
       "output_type": "stream",
       "stream": "stdout",
       "text": [
        " 45000 : 5.83762\n",
        "Minibatch accuracy: 56.2%\n",
        "Validation accuracy at step 45000: 41.4%"
       ]
      },
      {
       "output_type": "stream",
       "stream": "stdout",
       "text": [
        "\n",
        "Test accuracy at step 45000: 41.0%"
       ]
      },
      {
       "output_type": "stream",
       "stream": "stdout",
       "text": [
        "\n",
        "Minibatch loss at step"
       ]
      },
      {
       "output_type": "stream",
       "stream": "stdout",
       "text": [
        " 46000 : 5.78305\n",
        "Minibatch accuracy: 46.9%\n",
        "Validation accuracy at step 46000: 41.9%"
       ]
      },
      {
       "output_type": "stream",
       "stream": "stdout",
       "text": [
        "\n",
        "Minibatch loss at step"
       ]
      },
      {
       "output_type": "stream",
       "stream": "stdout",
       "text": [
        " 47000 : 5.91537\n",
        "Minibatch accuracy: 46.9%\n",
        "Validation accuracy at step 47000: 39.2%"
       ]
      },
      {
       "output_type": "stream",
       "stream": "stdout",
       "text": [
        "\n",
        "Minibatch loss at step"
       ]
      },
      {
       "output_type": "stream",
       "stream": "stdout",
       "text": [
        " 48000 : 5.56555\n",
        "Minibatch accuracy: 50.0%\n",
        "Validation accuracy at step 48000: 39.5%"
       ]
      },
      {
       "output_type": "stream",
       "stream": "stdout",
       "text": [
        "\n",
        "Minibatch loss at step"
       ]
      },
      {
       "output_type": "stream",
       "stream": "stdout",
       "text": [
        " 49000 : 5.57237\n",
        "Minibatch accuracy: 50.0%\n",
        "Validation accuracy at step 49000: 40.8%"
       ]
      },
      {
       "output_type": "stream",
       "stream": "stdout",
       "text": [
        "\n",
        "Minibatch loss at step"
       ]
      },
      {
       "output_type": "stream",
       "stream": "stdout",
       "text": [
        " 50000 : 6.02617\n",
        "Minibatch accuracy: 28.1%\n",
        "Validation accuracy at step 50000: 39.5%"
       ]
      },
      {
       "output_type": "stream",
       "stream": "stdout",
       "text": [
        "\n",
        "Test accuracy at step 50000: 39.9%"
       ]
      },
      {
       "output_type": "stream",
       "stream": "stdout",
       "text": [
        "\n",
        "Minibatch loss at step"
       ]
      },
      {
       "output_type": "stream",
       "stream": "stdout",
       "text": [
        " 51000 : 5.87025\n",
        "Minibatch accuracy: 37.5%\n",
        "Validation accuracy at step 51000: 38.2%"
       ]
      },
      {
       "output_type": "stream",
       "stream": "stdout",
       "text": [
        "\n",
        "Minibatch loss at step"
       ]
      },
      {
       "output_type": "stream",
       "stream": "stdout",
       "text": [
        " 52000 : 5.41333\n",
        "Minibatch accuracy: 53.1%\n",
        "Validation accuracy at step 52000: 41.0%"
       ]
      },
      {
       "output_type": "stream",
       "stream": "stdout",
       "text": [
        "\n",
        "Minibatch loss at step"
       ]
      },
      {
       "output_type": "stream",
       "stream": "stdout",
       "text": [
        " 53000 : 5.52449\n",
        "Minibatch accuracy: 53.1%\n",
        "Validation accuracy at step 53000: 42.0%"
       ]
      },
      {
       "output_type": "stream",
       "stream": "stdout",
       "text": [
        "\n",
        "Minibatch loss at step"
       ]
      },
      {
       "output_type": "stream",
       "stream": "stdout",
       "text": [
        " 54000 : 5.60025\n",
        "Minibatch accuracy: 43.8%\n",
        "Validation accuracy at step 54000: 41.5%"
       ]
      },
      {
       "output_type": "stream",
       "stream": "stdout",
       "text": [
        "\n",
        "Minibatch loss at step"
       ]
      },
      {
       "output_type": "stream",
       "stream": "stdout",
       "text": [
        " 55000 : 5.41724\n",
        "Minibatch accuracy: 43.8%\n",
        "Validation accuracy at step 55000: 42.8%"
       ]
      },
      {
       "output_type": "stream",
       "stream": "stdout",
       "text": [
        "\n",
        "Test accuracy at step 55000: 42.6%"
       ]
      },
      {
       "output_type": "stream",
       "stream": "stdout",
       "text": [
        "\n",
        "Minibatch loss at step"
       ]
      },
      {
       "output_type": "stream",
       "stream": "stdout",
       "text": [
        " 56000 : 5.47727\n",
        "Minibatch accuracy: 46.9%\n",
        "Validation accuracy at step 56000: 41.9%"
       ]
      },
      {
       "output_type": "stream",
       "stream": "stdout",
       "text": [
        "\n",
        "Minibatch loss at step"
       ]
      },
      {
       "output_type": "stream",
       "stream": "stdout",
       "text": [
        " 57000 : 6.0087\n",
        "Minibatch accuracy: 28.1%\n",
        "Validation accuracy at step 57000: 41.4%"
       ]
      },
      {
       "output_type": "stream",
       "stream": "stdout",
       "text": [
        "\n",
        "Minibatch loss at step"
       ]
      },
      {
       "output_type": "stream",
       "stream": "stdout",
       "text": [
        " 58000 : 5.58535\n",
        "Minibatch accuracy: 37.5%\n",
        "Validation accuracy at step 58000: 42.0%"
       ]
      },
      {
       "output_type": "stream",
       "stream": "stdout",
       "text": [
        "\n",
        "Minibatch loss at step"
       ]
      },
      {
       "output_type": "stream",
       "stream": "stdout",
       "text": [
        " 59000 : 5.38258\n",
        "Minibatch accuracy: 37.5%\n",
        "Validation accuracy at step 59000: 40.6%"
       ]
      },
      {
       "output_type": "stream",
       "stream": "stdout",
       "text": [
        "\n",
        "Minibatch loss at step"
       ]
      },
      {
       "output_type": "stream",
       "stream": "stdout",
       "text": [
        " 60000 : 5.26434\n",
        "Minibatch accuracy: 43.8%\n",
        "Validation accuracy at step 60000: 42.1%"
       ]
      },
      {
       "output_type": "stream",
       "stream": "stdout",
       "text": [
        "\n",
        "Test accuracy at step 60000: 42.5%"
       ]
      },
      {
       "output_type": "stream",
       "stream": "stdout",
       "text": [
        "\n",
        "Minibatch loss at step"
       ]
      },
      {
       "output_type": "stream",
       "stream": "stdout",
       "text": [
        " 61000 : 5.46378\n",
        "Minibatch accuracy: 37.5%\n",
        "Validation accuracy at step 61000: 41.7%"
       ]
      },
      {
       "output_type": "stream",
       "stream": "stdout",
       "text": [
        "\n",
        "Minibatch loss at step"
       ]
      },
      {
       "output_type": "stream",
       "stream": "stdout",
       "text": [
        " 62000 : 4.99921\n",
        "Minibatch accuracy: 53.1%\n",
        "Validation accuracy at step 62000: 42.3%"
       ]
      },
      {
       "output_type": "stream",
       "stream": "stdout",
       "text": [
        "\n",
        "Minibatch loss at step"
       ]
      },
      {
       "output_type": "stream",
       "stream": "stdout",
       "text": [
        " 63000 : 5.00444\n",
        "Minibatch accuracy: 46.9%\n",
        "Validation accuracy at step 63000: 42.0%"
       ]
      },
      {
       "output_type": "stream",
       "stream": "stdout",
       "text": [
        "\n",
        "Minibatch loss at step"
       ]
      },
      {
       "output_type": "stream",
       "stream": "stdout",
       "text": [
        " 64000 : 5.02014\n",
        "Minibatch accuracy: 40.6%\n",
        "Validation accuracy at step 64000: 43.8%"
       ]
      },
      {
       "output_type": "stream",
       "stream": "stdout",
       "text": [
        "\n",
        "Minibatch loss at step"
       ]
      },
      {
       "output_type": "stream",
       "stream": "stdout",
       "text": [
        " 65000 : 5.201\n",
        "Minibatch accuracy: 43.8%\n",
        "Validation accuracy at step 65000: 43.0%"
       ]
      },
      {
       "output_type": "stream",
       "stream": "stdout",
       "text": [
        "\n",
        "Test accuracy at step 65000: 43.4%"
       ]
      },
      {
       "output_type": "stream",
       "stream": "stdout",
       "text": [
        "\n",
        "Minibatch loss at step"
       ]
      },
      {
       "output_type": "stream",
       "stream": "stdout",
       "text": [
        " 66000 : 5.58339\n",
        "Minibatch accuracy: 28.1%\n",
        "Validation accuracy at step 66000: 40.8%"
       ]
      },
      {
       "output_type": "stream",
       "stream": "stdout",
       "text": [
        "\n",
        "Minibatch loss at step"
       ]
      },
      {
       "output_type": "stream",
       "stream": "stdout",
       "text": [
        " 67000 : 5.24668\n",
        "Minibatch accuracy: 40.6%\n",
        "Validation accuracy at step 67000: 41.9%"
       ]
      },
      {
       "output_type": "stream",
       "stream": "stdout",
       "text": [
        "\n",
        "Minibatch loss at step"
       ]
      },
      {
       "output_type": "stream",
       "stream": "stdout",
       "text": [
        " 68000 : 4.85299\n",
        "Minibatch accuracy: 65.6%\n",
        "Validation accuracy at step 68000: 41.8%"
       ]
      },
      {
       "output_type": "stream",
       "stream": "stdout",
       "text": [
        "\n",
        "Minibatch loss at step"
       ]
      },
      {
       "output_type": "stream",
       "stream": "stdout",
       "text": [
        " 69000 : 4.97419\n",
        "Minibatch accuracy: 46.9%\n",
        "Validation accuracy at step 69000: 41.7%"
       ]
      },
      {
       "output_type": "stream",
       "stream": "stdout",
       "text": [
        "\n",
        "Minibatch loss at step"
       ]
      },
      {
       "output_type": "stream",
       "stream": "stdout",
       "text": [
        " 70000 : 4.89809\n",
        "Minibatch accuracy: 43.8%\n",
        "Validation accuracy at step 70000: 42.7%"
       ]
      },
      {
       "output_type": "stream",
       "stream": "stdout",
       "text": [
        "\n",
        "Test accuracy at step 70000: 42.9%"
       ]
      },
      {
       "output_type": "stream",
       "stream": "stdout",
       "text": [
        "\n",
        "Minibatch loss at step"
       ]
      },
      {
       "output_type": "stream",
       "stream": "stdout",
       "text": [
        " 71000 : 4.76063\n",
        "Minibatch accuracy: 53.1%\n",
        "Validation accuracy at step 71000: 40.8%"
       ]
      },
      {
       "output_type": "stream",
       "stream": "stdout",
       "text": [
        "\n",
        "Minibatch loss at step"
       ]
      },
      {
       "output_type": "stream",
       "stream": "stdout",
       "text": [
        " 72000 : 5.0176\n",
        "Minibatch accuracy: 40.6%\n",
        "Validation accuracy at step 72000: 42.7%"
       ]
      },
      {
       "output_type": "stream",
       "stream": "stdout",
       "text": [
        "\n",
        "Minibatch loss at step"
       ]
      },
      {
       "output_type": "stream",
       "stream": "stdout",
       "text": [
        " 73000 : 4.96398\n",
        "Minibatch accuracy: 43.8%\n",
        "Validation accuracy at step 73000: 43.9%"
       ]
      },
      {
       "output_type": "stream",
       "stream": "stdout",
       "text": [
        "\n",
        "Minibatch loss at step"
       ]
      },
      {
       "output_type": "stream",
       "stream": "stdout",
       "text": [
        " 74000 : 4.79042\n",
        "Minibatch accuracy: 53.1%\n",
        "Validation accuracy at step 74000: 44.2%"
       ]
      },
      {
       "output_type": "stream",
       "stream": "stdout",
       "text": [
        "\n",
        "Minibatch loss at step"
       ]
      },
      {
       "output_type": "stream",
       "stream": "stdout",
       "text": [
        " 75000 : 4.93661\n",
        "Minibatch accuracy: 40.6%\n",
        "Validation accuracy at step 75000: 43.1%"
       ]
      },
      {
       "output_type": "stream",
       "stream": "stdout",
       "text": [
        "\n",
        "Test accuracy at step 75000: 42.5%"
       ]
      },
      {
       "output_type": "stream",
       "stream": "stdout",
       "text": [
        "\n",
        "Minibatch loss at step"
       ]
      },
      {
       "output_type": "stream",
       "stream": "stdout",
       "text": [
        " 76000 : 5.14558\n",
        "Minibatch accuracy: 34.4%\n",
        "Validation accuracy at step 76000: 44.2%"
       ]
      },
      {
       "output_type": "stream",
       "stream": "stdout",
       "text": [
        "\n",
        "Minibatch loss at step"
       ]
      },
      {
       "output_type": "stream",
       "stream": "stdout",
       "text": [
        " 77000 : 4.54217\n",
        "Minibatch accuracy: 46.9%\n",
        "Validation accuracy at step 77000: 43.3%"
       ]
      },
      {
       "output_type": "stream",
       "stream": "stdout",
       "text": [
        "\n",
        "Minibatch loss at step"
       ]
      },
      {
       "output_type": "stream",
       "stream": "stdout",
       "text": [
        " 78000 : 4.7277\n",
        "Minibatch accuracy: 50.0%\n",
        "Validation accuracy at step 78000: 43.8%"
       ]
      },
      {
       "output_type": "stream",
       "stream": "stdout",
       "text": [
        "\n",
        "Minibatch loss at step"
       ]
      },
      {
       "output_type": "stream",
       "stream": "stdout",
       "text": [
        " 79000 : 4.67054\n",
        "Minibatch accuracy: 43.8%\n",
        "Validation accuracy at step 79000: 44.4%"
       ]
      },
      {
       "output_type": "stream",
       "stream": "stdout",
       "text": [
        "\n",
        "Minibatch loss at step"
       ]
      },
      {
       "output_type": "stream",
       "stream": "stdout",
       "text": [
        " 80000 : 4.45621\n",
        "Minibatch accuracy: 40.6%\n",
        "Validation accuracy at step 80000: 44.1%"
       ]
      },
      {
       "output_type": "stream",
       "stream": "stdout",
       "text": [
        "\n",
        "Test accuracy at step 80000: 43.5%"
       ]
      },
      {
       "output_type": "stream",
       "stream": "stdout",
       "text": [
        "\n",
        "Minibatch loss at step"
       ]
      },
      {
       "output_type": "stream",
       "stream": "stdout",
       "text": [
        " 81000 : 4.55585\n",
        "Minibatch accuracy: 53.1%\n",
        "Validation accuracy at step 81000: 43.2%"
       ]
      },
      {
       "output_type": "stream",
       "stream": "stdout",
       "text": [
        "\n",
        "Minibatch loss at step"
       ]
      },
      {
       "output_type": "stream",
       "stream": "stdout",
       "text": [
        " 82000 : 4.31073\n",
        "Minibatch accuracy: 53.1%\n",
        "Validation accuracy at step 82000: 43.4%"
       ]
      },
      {
       "output_type": "stream",
       "stream": "stdout",
       "text": [
        "\n",
        "Minibatch loss at step"
       ]
      },
      {
       "output_type": "stream",
       "stream": "stdout",
       "text": [
        " 83000 : 4.61861\n",
        "Minibatch accuracy: 50.0%\n",
        "Validation accuracy at step 83000: 44.2%"
       ]
      },
      {
       "output_type": "stream",
       "stream": "stdout",
       "text": [
        "\n",
        "Minibatch loss at step"
       ]
      },
      {
       "output_type": "stream",
       "stream": "stdout",
       "text": [
        " 84000 : 4.67474\n",
        "Minibatch accuracy: 50.0%\n",
        "Validation accuracy at step 84000: 43.9%"
       ]
      },
      {
       "output_type": "stream",
       "stream": "stdout",
       "text": [
        "\n",
        "Minibatch loss at step"
       ]
      },
      {
       "output_type": "stream",
       "stream": "stdout",
       "text": [
        " 85000 : 4.3271\n",
        "Minibatch accuracy: 46.9%\n",
        "Validation accuracy at step 85000: 44.9%"
       ]
      },
      {
       "output_type": "stream",
       "stream": "stdout",
       "text": [
        "\n",
        "Test accuracy at step 85000: 44.5%"
       ]
      },
      {
       "output_type": "stream",
       "stream": "stdout",
       "text": [
        "\n",
        "Minibatch loss at step"
       ]
      },
      {
       "output_type": "stream",
       "stream": "stdout",
       "text": [
        " 86000 : 4.29653\n",
        "Minibatch accuracy: 46.9%\n",
        "Validation accuracy at step 86000: 44.0%"
       ]
      },
      {
       "output_type": "stream",
       "stream": "stdout",
       "text": [
        "\n",
        "Minibatch loss at step"
       ]
      },
      {
       "output_type": "stream",
       "stream": "stdout",
       "text": [
        " 87000 : 4.15546\n",
        "Minibatch accuracy: 50.0%\n",
        "Validation accuracy at step 87000: 42.6%"
       ]
      },
      {
       "output_type": "stream",
       "stream": "stdout",
       "text": [
        "\n",
        "Minibatch loss at step"
       ]
      },
      {
       "output_type": "stream",
       "stream": "stdout",
       "text": [
        " 88000 : 4.42939\n",
        "Minibatch accuracy: 37.5%\n",
        "Validation accuracy at step 88000: 44.1%"
       ]
      },
      {
       "output_type": "stream",
       "stream": "stdout",
       "text": [
        "\n",
        "Minibatch loss at step"
       ]
      },
      {
       "output_type": "stream",
       "stream": "stdout",
       "text": [
        " 89000 : 4.31489\n",
        "Minibatch accuracy: 56.2%\n",
        "Validation accuracy at step 89000: 43.9%"
       ]
      },
      {
       "output_type": "stream",
       "stream": "stdout",
       "text": [
        "\n",
        "Minibatch loss at step"
       ]
      },
      {
       "output_type": "stream",
       "stream": "stdout",
       "text": [
        " 90000 : 4.4441\n",
        "Minibatch accuracy: 40.6%\n",
        "Validation accuracy at step 90000: 44.3%"
       ]
      },
      {
       "output_type": "stream",
       "stream": "stdout",
       "text": [
        "\n",
        "Test accuracy at step 90000: 44.4%"
       ]
      },
      {
       "output_type": "stream",
       "stream": "stdout",
       "text": [
        "\n",
        "Minibatch loss at step"
       ]
      },
      {
       "output_type": "stream",
       "stream": "stdout",
       "text": [
        " 91000 : 4.54817\n",
        "Minibatch accuracy: 46.9%\n",
        "Validation accuracy at step 91000: 45.1%"
       ]
      },
      {
       "output_type": "stream",
       "stream": "stdout",
       "text": [
        "\n",
        "Minibatch loss at step"
       ]
      },
      {
       "output_type": "stream",
       "stream": "stdout",
       "text": [
        " 92000 : 4.31947\n",
        "Minibatch accuracy: 46.9%\n",
        "Validation accuracy at step 92000: 44.7%"
       ]
      },
      {
       "output_type": "stream",
       "stream": "stdout",
       "text": [
        "\n",
        "Minibatch loss at step"
       ]
      },
      {
       "output_type": "stream",
       "stream": "stdout",
       "text": [
        " 93000 : 4.7219\n",
        "Minibatch accuracy: 37.5%\n",
        "Validation accuracy at step 93000: 45.4%"
       ]
      },
      {
       "output_type": "stream",
       "stream": "stdout",
       "text": [
        "\n",
        "Minibatch loss at step"
       ]
      },
      {
       "output_type": "stream",
       "stream": "stdout",
       "text": [
        " 94000 : 4.49535\n",
        "Minibatch accuracy: 37.5%\n",
        "Validation accuracy at step 94000: 45.6%"
       ]
      },
      {
       "output_type": "stream",
       "stream": "stdout",
       "text": [
        "\n",
        "Minibatch loss at step"
       ]
      },
      {
       "output_type": "stream",
       "stream": "stdout",
       "text": [
        " 95000 : 4.2902\n",
        "Minibatch accuracy: 46.9%\n",
        "Validation accuracy at step 95000: 44.7%"
       ]
      },
      {
       "output_type": "stream",
       "stream": "stdout",
       "text": [
        "\n",
        "Test accuracy at step 95000: 44.7%"
       ]
      },
      {
       "output_type": "stream",
       "stream": "stdout",
       "text": [
        "\n",
        "Minibatch loss at step"
       ]
      },
      {
       "output_type": "stream",
       "stream": "stdout",
       "text": [
        " 96000 : 4.47442\n",
        "Minibatch accuracy: 37.5%\n",
        "Validation accuracy at step 96000: 45.9%"
       ]
      },
      {
       "output_type": "stream",
       "stream": "stdout",
       "text": [
        "\n",
        "Minibatch loss at step"
       ]
      },
      {
       "output_type": "stream",
       "stream": "stdout",
       "text": [
        " 97000 : 4.27814\n",
        "Minibatch accuracy: 43.8%\n",
        "Validation accuracy at step 97000: 45.2%"
       ]
      },
      {
       "output_type": "stream",
       "stream": "stdout",
       "text": [
        "\n",
        "Minibatch loss at step"
       ]
      },
      {
       "output_type": "stream",
       "stream": "stdout",
       "text": [
        " 98000 : 4.1483\n",
        "Minibatch accuracy: 50.0%\n",
        "Validation accuracy at step 98000: 44.5%"
       ]
      },
      {
       "output_type": "stream",
       "stream": "stdout",
       "text": [
        "\n",
        "Minibatch loss at step"
       ]
      },
      {
       "output_type": "stream",
       "stream": "stdout",
       "text": [
        " 99000 : 4.15305\n",
        "Minibatch accuracy: 40.6%\n",
        "Validation accuracy at step 99000: 45.0%"
       ]
      },
      {
       "output_type": "stream",
       "stream": "stdout",
       "text": [
        "\n",
        "Minibatch loss at step"
       ]
      },
      {
       "output_type": "stream",
       "stream": "stdout",
       "text": [
        " 100000 : 3.98225\n",
        "Minibatch accuracy: 43.8%\n",
        "Validation accuracy at step 100000: 45.4%"
       ]
      },
      {
       "output_type": "stream",
       "stream": "stdout",
       "text": [
        "\n",
        "Test accuracy at step 100000: 45.5%\n"
       ]
      },
      {
       "output_type": "stream",
       "stream": "stdout",
       "text": [
        "\n",
        "Elapsed time: 1.38459513499 hours\n",
        "The best validation accuracy was 45.87 at step 96000"
       ]
      },
      {
       "output_type": "stream",
       "stream": "stdout",
       "text": [
        "\n",
        "The best test accuracy was 45.55 at step 100000\n"
       ]
      }
     ],
     "prompt_number": 24
    },
    {
     "cell_type": "code",
     "collapsed": false,
     "input": [
      "Best result:\n",
      "The best validation accuracy was 45.87 at step 96000\n",
      "The best test accuracy was 45.55 at step 100000"
     ],
     "language": "python",
     "metadata": {},
     "outputs": []
    },
    {
     "cell_type": "code",
     "collapsed": false,
     "input": [
      "# Halve l2_lambda again\n",
      "model = create_inception_module_model(learning_rate = 0.00025, l2_lambda = 0.0125, feature_maps = 24, initialised_weights_stddev = 0.5, decay_steps = 10000, decay_rate = 0.96)\n",
      "steps_to_validation_predictions, steps_to_test_predictions = train_model(model, 100001, dropout_keep_prob = 0.9)\n",
      "correct_prediction_indexes, incorrect_prediction_indexes = visualise_accuracies(steps_to_validation_predictions, steps_to_test_predictions)"
     ],
     "language": "python",
     "metadata": {},
     "outputs": [
      {
       "output_type": "stream",
       "stream": "stdout",
       "text": [
        "Initialized\n",
        "Minibatch loss at step"
       ]
      },
      {
       "output_type": "stream",
       "stream": "stdout",
       "text": [
        " 0 : 1524.97\n",
        "Minibatch accuracy: 12.5%\n",
        "Validation accuracy at step 0: 11.6%"
       ]
      },
      {
       "output_type": "stream",
       "stream": "stdout",
       "text": [
        "\n",
        "Minibatch loss at step"
       ]
      },
      {
       "output_type": "stream",
       "stream": "stdout",
       "text": [
        " 1000 : 10.1706\n",
        "Minibatch accuracy: 6.2%\n",
        "Validation accuracy at step 1000: 19.6%"
       ]
      },
      {
       "output_type": "stream",
       "stream": "stdout",
       "text": [
        "\n",
        "Minibatch loss at step"
       ]
      },
      {
       "output_type": "stream",
       "stream": "stdout",
       "text": [
        " 2000 : 9.24905\n",
        "Minibatch accuracy: 18.8%\n",
        "Validation accuracy at step 2000: 23.0%"
       ]
      },
      {
       "output_type": "stream",
       "stream": "stdout",
       "text": [
        "\n",
        "Minibatch loss at step"
       ]
      },
      {
       "output_type": "stream",
       "stream": "stdout",
       "text": [
        " 3000 : 7.50369\n",
        "Minibatch accuracy: 31.2%\n",
        "Validation accuracy at step 3000: 24.0%"
       ]
      },
      {
       "output_type": "stream",
       "stream": "stdout",
       "text": [
        "\n",
        "Minibatch loss at step"
       ]
      },
      {
       "output_type": "stream",
       "stream": "stdout",
       "text": [
        " 4000 : 7.88247\n",
        "Minibatch accuracy: 21.9%\n",
        "Validation accuracy at step 4000: 21.0%"
       ]
      },
      {
       "output_type": "stream",
       "stream": "stdout",
       "text": [
        "\n",
        "Minibatch loss at step"
       ]
      },
      {
       "output_type": "stream",
       "stream": "stdout",
       "text": [
        " 5000 : 6.17752\n",
        "Minibatch accuracy: 34.4%\n",
        "Validation accuracy at step 5000: 28.1%"
       ]
      },
      {
       "output_type": "stream",
       "stream": "stdout",
       "text": [
        "\n",
        "Test accuracy at step 5000: 28.3%"
       ]
      },
      {
       "output_type": "stream",
       "stream": "stdout",
       "text": [
        "\n",
        "Minibatch loss at step"
       ]
      },
      {
       "output_type": "stream",
       "stream": "stdout",
       "text": [
        " 6000 : 6.89452\n",
        "Minibatch accuracy: 25.0%\n",
        "Validation accuracy at step 6000: 25.7%"
       ]
      },
      {
       "output_type": "stream",
       "stream": "stdout",
       "text": [
        "\n",
        "Minibatch loss at step"
       ]
      },
      {
       "output_type": "stream",
       "stream": "stdout",
       "text": [
        " 7000 : 7.22518\n",
        "Minibatch accuracy: 21.9%\n",
        "Validation accuracy at step 7000: 27.5%"
       ]
      },
      {
       "output_type": "stream",
       "stream": "stdout",
       "text": [
        "\n",
        "Minibatch loss at step"
       ]
      },
      {
       "output_type": "stream",
       "stream": "stdout",
       "text": [
        " 8000 : 6.51447\n",
        "Minibatch accuracy: 31.2%\n",
        "Validation accuracy at step 8000: 25.2%"
       ]
      },
      {
       "output_type": "stream",
       "stream": "stdout",
       "text": [
        "\n",
        "Minibatch loss at step"
       ]
      },
      {
       "output_type": "stream",
       "stream": "stdout",
       "text": [
        " 9000 : 5.7803\n",
        "Minibatch accuracy: 25.0%\n",
        "Validation accuracy at step 9000: 30.4%"
       ]
      },
      {
       "output_type": "stream",
       "stream": "stdout",
       "text": [
        "\n",
        "Minibatch loss at step"
       ]
      },
      {
       "output_type": "stream",
       "stream": "stdout",
       "text": [
        " 10000 : 6.24789\n",
        "Minibatch accuracy: 25.0%\n",
        "Validation accuracy at step 10000: 29.4%"
       ]
      },
      {
       "output_type": "stream",
       "stream": "stdout",
       "text": [
        "\n",
        "Test accuracy at step 10000: 28.7%"
       ]
      },
      {
       "output_type": "stream",
       "stream": "stdout",
       "text": [
        "\n",
        "Minibatch loss at step"
       ]
      },
      {
       "output_type": "stream",
       "stream": "stdout",
       "text": [
        " 11000 : 6.11717\n",
        "Minibatch accuracy: 25.0%\n",
        "Validation accuracy at step 11000: 25.0%"
       ]
      },
      {
       "output_type": "stream",
       "stream": "stdout",
       "text": [
        "\n",
        "Minibatch loss at step"
       ]
      },
      {
       "output_type": "stream",
       "stream": "stdout",
       "text": [
        " 12000 : 6.38286\n",
        "Minibatch accuracy: 28.1%\n",
        "Validation accuracy at step 12000: 32.1%"
       ]
      },
      {
       "output_type": "stream",
       "stream": "stdout",
       "text": [
        "\n",
        "Minibatch loss at step"
       ]
      },
      {
       "output_type": "stream",
       "stream": "stdout",
       "text": [
        " 13000 : 5.08703\n",
        "Minibatch accuracy: 40.6%\n",
        "Validation accuracy at step 13000: 31.6%"
       ]
      },
      {
       "output_type": "stream",
       "stream": "stdout",
       "text": [
        "\n",
        "Minibatch loss at step"
       ]
      },
      {
       "output_type": "stream",
       "stream": "stdout",
       "text": [
        " 14000 : 6.86562\n",
        "Minibatch accuracy: 21.9%\n",
        "Validation accuracy at step 14000: 27.9%"
       ]
      },
      {
       "output_type": "stream",
       "stream": "stdout",
       "text": [
        "\n",
        "Minibatch loss at step"
       ]
      },
      {
       "output_type": "stream",
       "stream": "stdout",
       "text": [
        " 15000 : 5.64656\n",
        "Minibatch accuracy: 28.1%\n",
        "Validation accuracy at step 15000: 27.9%"
       ]
      },
      {
       "output_type": "stream",
       "stream": "stdout",
       "text": [
        "\n",
        "Test accuracy at step 15000: 27.8%"
       ]
      },
      {
       "output_type": "stream",
       "stream": "stdout",
       "text": [
        "\n",
        "Minibatch loss at step"
       ]
      },
      {
       "output_type": "stream",
       "stream": "stdout",
       "text": [
        " 16000 : 5.12181\n",
        "Minibatch accuracy: 21.9%\n",
        "Validation accuracy at step 16000: 31.7%"
       ]
      },
      {
       "output_type": "stream",
       "stream": "stdout",
       "text": [
        "\n",
        "Minibatch loss at step"
       ]
      },
      {
       "output_type": "stream",
       "stream": "stdout",
       "text": [
        " 17000 : 4.94415\n",
        "Minibatch accuracy: 46.9%\n",
        "Validation accuracy at step 17000: 34.4%"
       ]
      },
      {
       "output_type": "stream",
       "stream": "stdout",
       "text": [
        "\n",
        "Minibatch loss at step"
       ]
      },
      {
       "output_type": "stream",
       "stream": "stdout",
       "text": [
        " 18000 : 5.49513\n",
        "Minibatch accuracy: 18.8%\n",
        "Validation accuracy at step 18000: 34.5%"
       ]
      },
      {
       "output_type": "stream",
       "stream": "stdout",
       "text": [
        "\n",
        "Minibatch loss at step"
       ]
      },
      {
       "output_type": "stream",
       "stream": "stdout",
       "text": [
        " 19000 : 4.92588\n",
        "Minibatch accuracy: 46.9%\n",
        "Validation accuracy at step 19000: 33.8%"
       ]
      },
      {
       "output_type": "stream",
       "stream": "stdout",
       "text": [
        "\n",
        "Minibatch loss at step"
       ]
      },
      {
       "output_type": "stream",
       "stream": "stdout",
       "text": [
        " 20000 : 4.97952\n",
        "Minibatch accuracy: 37.5%\n",
        "Validation accuracy at step 20000: 35.6%"
       ]
      },
      {
       "output_type": "stream",
       "stream": "stdout",
       "text": [
        "\n",
        "Test accuracy at step 20000: 35.4%"
       ]
      },
      {
       "output_type": "stream",
       "stream": "stdout",
       "text": [
        "\n",
        "Minibatch loss at step"
       ]
      },
      {
       "output_type": "stream",
       "stream": "stdout",
       "text": [
        " 21000 : 5.37241\n",
        "Minibatch accuracy: 40.6%\n",
        "Validation accuracy at step 21000: 31.9%"
       ]
      },
      {
       "output_type": "stream",
       "stream": "stdout",
       "text": [
        "\n",
        "Minibatch loss at step"
       ]
      },
      {
       "output_type": "stream",
       "stream": "stdout",
       "text": [
        " 22000 : 4.9572\n",
        "Minibatch accuracy: 37.5%\n",
        "Validation accuracy at step 22000: 32.5%"
       ]
      },
      {
       "output_type": "stream",
       "stream": "stdout",
       "text": [
        "\n",
        "Minibatch loss at step"
       ]
      },
      {
       "output_type": "stream",
       "stream": "stdout",
       "text": [
        " 23000 : 5.19864\n",
        "Minibatch accuracy: 31.2%\n",
        "Validation accuracy at step 23000: 35.2%"
       ]
      },
      {
       "output_type": "stream",
       "stream": "stdout",
       "text": [
        "\n",
        "Minibatch loss at step"
       ]
      },
      {
       "output_type": "stream",
       "stream": "stdout",
       "text": [
        " 24000 : 5.10043\n",
        "Minibatch accuracy: 34.4%\n",
        "Validation accuracy at step 24000: 36.6%"
       ]
      },
      {
       "output_type": "stream",
       "stream": "stdout",
       "text": [
        "\n",
        "Minibatch loss at step"
       ]
      },
      {
       "output_type": "stream",
       "stream": "stdout",
       "text": [
        " 25000 : 5.16831\n",
        "Minibatch accuracy: 15.6%\n",
        "Validation accuracy at step 25000: 34.9%"
       ]
      },
      {
       "output_type": "stream",
       "stream": "stdout",
       "text": [
        "\n",
        "Test accuracy at step 25000: 35.0%"
       ]
      },
      {
       "output_type": "stream",
       "stream": "stdout",
       "text": [
        "\n",
        "Minibatch loss at step"
       ]
      },
      {
       "output_type": "stream",
       "stream": "stdout",
       "text": [
        " 26000 : 5.25389\n",
        "Minibatch accuracy: 25.0%\n",
        "Validation accuracy at step 26000: 34.3%"
       ]
      },
      {
       "output_type": "stream",
       "stream": "stdout",
       "text": [
        "\n",
        "Minibatch loss at step"
       ]
      },
      {
       "output_type": "stream",
       "stream": "stdout",
       "text": [
        " 27000 : 4.64401\n",
        "Minibatch accuracy: 46.9%\n",
        "Validation accuracy at step 27000: 37.1%"
       ]
      },
      {
       "output_type": "stream",
       "stream": "stdout",
       "text": [
        "\n",
        "Minibatch loss at step"
       ]
      },
      {
       "output_type": "stream",
       "stream": "stdout",
       "text": [
        " 28000 : 5.10791\n",
        "Minibatch accuracy: 31.2%\n",
        "Validation accuracy at step 28000: 35.0%"
       ]
      },
      {
       "output_type": "stream",
       "stream": "stdout",
       "text": [
        "\n",
        "Minibatch loss at step"
       ]
      },
      {
       "output_type": "stream",
       "stream": "stdout",
       "text": [
        " 29000 : 4.91849\n",
        "Minibatch accuracy: 37.5%\n",
        "Validation accuracy at step 29000: 35.0%"
       ]
      },
      {
       "output_type": "stream",
       "stream": "stdout",
       "text": [
        "\n",
        "Minibatch loss at step"
       ]
      },
      {
       "output_type": "stream",
       "stream": "stdout",
       "text": [
        " 30000 : 4.78664\n",
        "Minibatch accuracy: 46.9%\n",
        "Validation accuracy at step 30000: 37.4%"
       ]
      },
      {
       "output_type": "stream",
       "stream": "stdout",
       "text": [
        "\n",
        "Test accuracy at step 30000: 37.0%"
       ]
      },
      {
       "output_type": "stream",
       "stream": "stdout",
       "text": [
        "\n",
        "Minibatch loss at step"
       ]
      },
      {
       "output_type": "stream",
       "stream": "stdout",
       "text": [
        " 31000 : 4.78424\n",
        "Minibatch accuracy: 37.5%\n",
        "Validation accuracy at step 31000: 33.8%"
       ]
      },
      {
       "output_type": "stream",
       "stream": "stdout",
       "text": [
        "\n",
        "Minibatch loss at step"
       ]
      },
      {
       "output_type": "stream",
       "stream": "stdout",
       "text": [
        " 32000 : 4.95196\n",
        "Minibatch accuracy: 31.2%\n",
        "Validation accuracy at step 32000: 33.0%"
       ]
      },
      {
       "output_type": "stream",
       "stream": "stdout",
       "text": [
        "\n",
        "Minibatch loss at step"
       ]
      },
      {
       "output_type": "stream",
       "stream": "stdout",
       "text": [
        " 33000 : 4.63904\n",
        "Minibatch accuracy: 34.4%\n",
        "Validation accuracy at step 33000: 37.8%"
       ]
      },
      {
       "output_type": "stream",
       "stream": "stdout",
       "text": [
        "\n",
        "Minibatch loss at step"
       ]
      },
      {
       "output_type": "stream",
       "stream": "stdout",
       "text": [
        " 34000 : 4.84911\n",
        "Minibatch accuracy: 31.2%\n",
        "Validation accuracy at step 34000: 37.2%"
       ]
      },
      {
       "output_type": "stream",
       "stream": "stdout",
       "text": [
        "\n",
        "Minibatch loss at step"
       ]
      },
      {
       "output_type": "stream",
       "stream": "stdout",
       "text": [
        " 35000 : 4.51101\n",
        "Minibatch accuracy: 46.9%\n",
        "Validation accuracy at step 35000: 37.5%"
       ]
      },
      {
       "output_type": "stream",
       "stream": "stdout",
       "text": [
        "\n",
        "Test accuracy at step 35000: 37.8%"
       ]
      },
      {
       "output_type": "stream",
       "stream": "stdout",
       "text": [
        "\n",
        "Minibatch loss at step"
       ]
      },
      {
       "output_type": "stream",
       "stream": "stdout",
       "text": [
        " 36000 : 4.92197\n",
        "Minibatch accuracy: 34.4%\n",
        "Validation accuracy at step 36000: 36.2%"
       ]
      },
      {
       "output_type": "stream",
       "stream": "stdout",
       "text": [
        "\n",
        "Minibatch loss at step"
       ]
      },
      {
       "output_type": "stream",
       "stream": "stdout",
       "text": [
        " 37000 : 4.40896\n",
        "Minibatch accuracy: 34.4%\n",
        "Validation accuracy at step 37000: 38.6%"
       ]
      },
      {
       "output_type": "stream",
       "stream": "stdout",
       "text": [
        "\n",
        "Minibatch loss at step"
       ]
      },
      {
       "output_type": "stream",
       "stream": "stdout",
       "text": [
        " 38000 : 4.88034\n",
        "Minibatch accuracy: 37.5%\n",
        "Validation accuracy at step 38000: 38.3%"
       ]
      },
      {
       "output_type": "stream",
       "stream": "stdout",
       "text": [
        "\n",
        "Minibatch loss at step"
       ]
      },
      {
       "output_type": "stream",
       "stream": "stdout",
       "text": [
        " 39000 : 5.03721\n",
        "Minibatch accuracy: 37.5%\n",
        "Validation accuracy at step 39000: 37.7%"
       ]
      },
      {
       "output_type": "stream",
       "stream": "stdout",
       "text": [
        "\n",
        "Minibatch loss at step"
       ]
      },
      {
       "output_type": "stream",
       "stream": "stdout",
       "text": [
        " 40000 : 5.07769\n",
        "Minibatch accuracy: 12.5%\n",
        "Validation accuracy at step 40000: 37.9%"
       ]
      },
      {
       "output_type": "stream",
       "stream": "stdout",
       "text": [
        "\n",
        "Test accuracy at step 40000: 38.9%"
       ]
      },
      {
       "output_type": "stream",
       "stream": "stdout",
       "text": [
        "\n",
        "Minibatch loss at step"
       ]
      },
      {
       "output_type": "stream",
       "stream": "stdout",
       "text": [
        " 41000 : 4.83166\n",
        "Minibatch accuracy: 31.2%\n",
        "Validation accuracy at step 41000: 38.8%"
       ]
      },
      {
       "output_type": "stream",
       "stream": "stdout",
       "text": [
        "\n",
        "Minibatch loss at step"
       ]
      },
      {
       "output_type": "stream",
       "stream": "stdout",
       "text": [
        " 42000 : 4.94851\n",
        "Minibatch accuracy: 31.2%\n",
        "Validation accuracy at step 42000: 38.3%"
       ]
      },
      {
       "output_type": "stream",
       "stream": "stdout",
       "text": [
        "\n",
        "Minibatch loss at step"
       ]
      },
      {
       "output_type": "stream",
       "stream": "stdout",
       "text": [
        " 43000 : 4.71302\n",
        "Minibatch accuracy: 46.9%\n",
        "Validation accuracy at step 43000: 39.1%"
       ]
      },
      {
       "output_type": "stream",
       "stream": "stdout",
       "text": [
        "\n",
        "Minibatch loss at step"
       ]
      },
      {
       "output_type": "stream",
       "stream": "stdout",
       "text": [
        " 44000 : 4.45437\n",
        "Minibatch accuracy: 53.1%\n",
        "Validation accuracy at step 44000: 39.2%"
       ]
      },
      {
       "output_type": "stream",
       "stream": "stdout",
       "text": [
        "\n",
        "Minibatch loss at step"
       ]
      },
      {
       "output_type": "stream",
       "stream": "stdout",
       "text": [
        " 45000 : 4.45458\n",
        "Minibatch accuracy: 53.1%\n",
        "Validation accuracy at step 45000: 40.4%"
       ]
      },
      {
       "output_type": "stream",
       "stream": "stdout",
       "text": [
        "\n",
        "Test accuracy at step 45000: 40.0%"
       ]
      },
      {
       "output_type": "stream",
       "stream": "stdout",
       "text": [
        "\n",
        "Minibatch loss at step"
       ]
      },
      {
       "output_type": "stream",
       "stream": "stdout",
       "text": [
        " 46000 : 4.23073\n",
        "Minibatch accuracy: 43.8%\n",
        "Validation accuracy at step 46000: 40.2%"
       ]
      },
      {
       "output_type": "stream",
       "stream": "stdout",
       "text": [
        "\n",
        "Minibatch loss at step"
       ]
      },
      {
       "output_type": "stream",
       "stream": "stdout",
       "text": [
        " 47000 : 4.35897\n",
        "Minibatch accuracy: 46.9%\n",
        "Validation accuracy at step 47000: 37.8%"
       ]
      },
      {
       "output_type": "stream",
       "stream": "stdout",
       "text": [
        "\n",
        "Minibatch loss at step"
       ]
      },
      {
       "output_type": "stream",
       "stream": "stdout",
       "text": [
        " 48000 : 4.41379\n",
        "Minibatch accuracy: 46.9%\n",
        "Validation accuracy at step 48000: 36.7%"
       ]
      },
      {
       "output_type": "stream",
       "stream": "stdout",
       "text": [
        "\n",
        "Minibatch loss at step"
       ]
      },
      {
       "output_type": "stream",
       "stream": "stdout",
       "text": [
        " 49000 : 4.3138\n",
        "Minibatch accuracy: 40.6%\n",
        "Validation accuracy at step 49000: 39.7%"
       ]
      },
      {
       "output_type": "stream",
       "stream": "stdout",
       "text": [
        "\n",
        "Minibatch loss at step"
       ]
      },
      {
       "output_type": "stream",
       "stream": "stdout",
       "text": [
        " 50000 : 4.40788\n",
        "Minibatch accuracy: 31.2%\n",
        "Validation accuracy at step 50000: 39.5%"
       ]
      },
      {
       "output_type": "stream",
       "stream": "stdout",
       "text": [
        "\n",
        "Test accuracy at step 50000: 39.3%"
       ]
      },
      {
       "output_type": "stream",
       "stream": "stdout",
       "text": [
        "\n",
        "Minibatch loss at step"
       ]
      },
      {
       "output_type": "stream",
       "stream": "stdout",
       "text": [
        " 51000 : 4.68046\n",
        "Minibatch accuracy: 25.0%\n",
        "Validation accuracy at step 51000: 36.6%"
       ]
      },
      {
       "output_type": "stream",
       "stream": "stdout",
       "text": [
        "\n",
        "Minibatch loss at step"
       ]
      },
      {
       "output_type": "stream",
       "stream": "stdout",
       "text": [
        " 52000 : 4.21559\n",
        "Minibatch accuracy: 43.8%\n",
        "Validation accuracy at step 52000: 39.4%"
       ]
      },
      {
       "output_type": "stream",
       "stream": "stdout",
       "text": [
        "\n",
        "Minibatch loss at step"
       ]
      },
      {
       "output_type": "stream",
       "stream": "stdout",
       "text": [
        " 53000 : 4.21452\n",
        "Minibatch accuracy: 46.9%\n",
        "Validation accuracy at step 53000: 40.1%"
       ]
      },
      {
       "output_type": "stream",
       "stream": "stdout",
       "text": [
        "\n",
        "Minibatch loss at step"
       ]
      },
      {
       "output_type": "stream",
       "stream": "stdout",
       "text": [
        " 54000 : 4.40095\n",
        "Minibatch accuracy: 43.8%\n",
        "Validation accuracy at step 54000: 40.8%"
       ]
      },
      {
       "output_type": "stream",
       "stream": "stdout",
       "text": [
        "\n",
        "Minibatch loss at step"
       ]
      },
      {
       "output_type": "stream",
       "stream": "stdout",
       "text": [
        " 55000 : 4.18914\n",
        "Minibatch accuracy: 43.8%\n",
        "Validation accuracy at step 55000: 39.9%"
       ]
      },
      {
       "output_type": "stream",
       "stream": "stdout",
       "text": [
        "\n",
        "Test accuracy at step 55000: 40.2%"
       ]
      },
      {
       "output_type": "stream",
       "stream": "stdout",
       "text": [
        "\n",
        "Minibatch loss at step"
       ]
      },
      {
       "output_type": "stream",
       "stream": "stdout",
       "text": [
        " 56000 : 4.29009\n",
        "Minibatch accuracy: 43.8%\n",
        "Validation accuracy at step 56000: 40.3%"
       ]
      },
      {
       "output_type": "stream",
       "stream": "stdout",
       "text": [
        "\n",
        "Minibatch loss at step"
       ]
      },
      {
       "output_type": "stream",
       "stream": "stdout",
       "text": [
        " 57000 : 4.8833\n",
        "Minibatch accuracy: 15.6%\n",
        "Validation accuracy at step 57000: 41.6%"
       ]
      },
      {
       "output_type": "stream",
       "stream": "stdout",
       "text": [
        "\n",
        "Minibatch loss at step"
       ]
      },
      {
       "output_type": "stream",
       "stream": "stdout",
       "text": [
        " 58000 : 4.39332\n",
        "Minibatch accuracy: 34.4%\n",
        "Validation accuracy at step 58000: 38.8%"
       ]
      },
      {
       "output_type": "stream",
       "stream": "stdout",
       "text": [
        "\n",
        "Minibatch loss at step"
       ]
      },
      {
       "output_type": "stream",
       "stream": "stdout",
       "text": [
        " 59000 : 4.26522\n",
        "Minibatch accuracy: 40.6%\n",
        "Validation accuracy at step 59000: 41.0%"
       ]
      },
      {
       "output_type": "stream",
       "stream": "stdout",
       "text": [
        "\n",
        "Minibatch loss at step"
       ]
      },
      {
       "output_type": "stream",
       "stream": "stdout",
       "text": [
        " 60000 : 4.31725\n",
        "Minibatch accuracy: 37.5%\n",
        "Validation accuracy at step 60000: 40.0%"
       ]
      },
      {
       "output_type": "stream",
       "stream": "stdout",
       "text": [
        "\n",
        "Test accuracy at step 60000: 40.7%"
       ]
      },
      {
       "output_type": "stream",
       "stream": "stdout",
       "text": [
        "\n",
        "Minibatch loss at step"
       ]
      },
      {
       "output_type": "stream",
       "stream": "stdout",
       "text": [
        " 61000 : 4.16816\n",
        "Minibatch accuracy: 46.9%\n",
        "Validation accuracy at step 61000: 41.9%"
       ]
      },
      {
       "output_type": "stream",
       "stream": "stdout",
       "text": [
        "\n",
        "Minibatch loss at step"
       ]
      },
      {
       "output_type": "stream",
       "stream": "stdout",
       "text": [
        " 62000 : 3.98748\n",
        "Minibatch accuracy: 50.0%\n",
        "Validation accuracy at step 62000: 41.3%"
       ]
      },
      {
       "output_type": "stream",
       "stream": "stdout",
       "text": [
        "\n",
        "Minibatch loss at step"
       ]
      },
      {
       "output_type": "stream",
       "stream": "stdout",
       "text": [
        " 63000 : 4.04225\n",
        "Minibatch accuracy: 46.9%\n",
        "Validation accuracy at step 63000: 40.7%"
       ]
      },
      {
       "output_type": "stream",
       "stream": "stdout",
       "text": [
        "\n",
        "Minibatch loss at step"
       ]
      },
      {
       "output_type": "stream",
       "stream": "stdout",
       "text": [
        " 64000 : 4.01175\n",
        "Minibatch accuracy: 46.9%\n",
        "Validation accuracy at step 64000: 40.4%"
       ]
      },
      {
       "output_type": "stream",
       "stream": "stdout",
       "text": [
        "\n",
        "Minibatch loss at step"
       ]
      },
      {
       "output_type": "stream",
       "stream": "stdout",
       "text": [
        " 65000 : 4.04679\n",
        "Minibatch accuracy: 40.6%\n",
        "Validation accuracy at step 65000: 41.5%"
       ]
      },
      {
       "output_type": "stream",
       "stream": "stdout",
       "text": [
        "\n",
        "Test accuracy at step 65000: 42.0%"
       ]
      },
      {
       "output_type": "stream",
       "stream": "stdout",
       "text": [
        "\n",
        "Minibatch loss at step"
       ]
      },
      {
       "output_type": "stream",
       "stream": "stdout",
       "text": [
        " 66000 : 4.39988\n",
        "Minibatch accuracy: 46.9%\n",
        "Validation accuracy at step 66000: 40.5%"
       ]
      },
      {
       "output_type": "stream",
       "stream": "stdout",
       "text": [
        "\n",
        "Minibatch loss at step"
       ]
      },
      {
       "output_type": "stream",
       "stream": "stdout",
       "text": [
        " 67000 : 4.30444\n",
        "Minibatch accuracy: 37.5%\n",
        "Validation accuracy at step 67000: 41.2%"
       ]
      },
      {
       "output_type": "stream",
       "stream": "stdout",
       "text": [
        "\n",
        "Minibatch loss at step"
       ]
      },
      {
       "output_type": "stream",
       "stream": "stdout",
       "text": [
        " 68000 : 3.85871\n",
        "Minibatch accuracy: 53.1%\n",
        "Validation accuracy at step 68000: 41.0%"
       ]
      },
      {
       "output_type": "stream",
       "stream": "stdout",
       "text": [
        "\n",
        "Minibatch loss at step"
       ]
      },
      {
       "output_type": "stream",
       "stream": "stdout",
       "text": [
        " 69000 : 4.24798\n",
        "Minibatch accuracy: 40.6%\n",
        "Validation accuracy at step 69000: 39.3%"
       ]
      },
      {
       "output_type": "stream",
       "stream": "stdout",
       "text": [
        "\n",
        "Minibatch loss at step"
       ]
      },
      {
       "output_type": "stream",
       "stream": "stdout",
       "text": [
        " 70000 : 4.21023\n",
        "Minibatch accuracy: 53.1%\n",
        "Validation accuracy at step 70000: 41.3%"
       ]
      },
      {
       "output_type": "stream",
       "stream": "stdout",
       "text": [
        "\n",
        "Test accuracy at step 70000: 41.9%"
       ]
      },
      {
       "output_type": "stream",
       "stream": "stdout",
       "text": [
        "\n",
        "Minibatch loss at step"
       ]
      },
      {
       "output_type": "stream",
       "stream": "stdout",
       "text": [
        " 71000 : 3.85886\n",
        "Minibatch accuracy: 46.9%\n",
        "Validation accuracy at step 71000: 41.6%"
       ]
      },
      {
       "output_type": "stream",
       "stream": "stdout",
       "text": [
        "\n",
        "Minibatch loss at step"
       ]
      },
      {
       "output_type": "stream",
       "stream": "stdout",
       "text": [
        " 72000 : 4.05982\n",
        "Minibatch accuracy: 46.9%\n",
        "Validation accuracy at step 72000: 41.8%"
       ]
      },
      {
       "output_type": "stream",
       "stream": "stdout",
       "text": [
        "\n",
        "Minibatch loss at step"
       ]
      },
      {
       "output_type": "stream",
       "stream": "stdout",
       "text": [
        " 73000 : 3.8958\n",
        "Minibatch accuracy: 53.1%\n",
        "Validation accuracy at step 73000: 42.7%"
       ]
      },
      {
       "output_type": "stream",
       "stream": "stdout",
       "text": [
        "\n",
        "Minibatch loss at step"
       ]
      },
      {
       "output_type": "stream",
       "stream": "stdout",
       "text": [
        " 74000 : 3.89276\n",
        "Minibatch accuracy: 53.1%\n",
        "Validation accuracy at step 74000: 41.7%"
       ]
      },
      {
       "output_type": "stream",
       "stream": "stdout",
       "text": [
        "\n",
        "Minibatch loss at step"
       ]
      },
      {
       "output_type": "stream",
       "stream": "stdout",
       "text": [
        " 75000 : 4.1957\n",
        "Minibatch accuracy: 25.0%\n",
        "Validation accuracy at step 75000: 41.8%"
       ]
      },
      {
       "output_type": "stream",
       "stream": "stdout",
       "text": [
        "\n",
        "Test accuracy at step 75000: 42.5%"
       ]
      },
      {
       "output_type": "stream",
       "stream": "stdout",
       "text": [
        "\n",
        "Minibatch loss at step"
       ]
      },
      {
       "output_type": "stream",
       "stream": "stdout",
       "text": [
        " 76000 : 4.12736\n",
        "Minibatch accuracy: 40.6%\n",
        "Validation accuracy at step 76000: 42.2%"
       ]
      },
      {
       "output_type": "stream",
       "stream": "stdout",
       "text": [
        "\n",
        "Minibatch loss at step"
       ]
      },
      {
       "output_type": "stream",
       "stream": "stdout",
       "text": [
        " 77000 : 3.8166\n",
        "Minibatch accuracy: 46.9%\n",
        "Validation accuracy at step 77000: 43.0%"
       ]
      },
      {
       "output_type": "stream",
       "stream": "stdout",
       "text": [
        "\n",
        "Minibatch loss at step"
       ]
      },
      {
       "output_type": "stream",
       "stream": "stdout",
       "text": [
        " 78000 : 4.06916\n",
        "Minibatch accuracy: 43.8%\n",
        "Validation accuracy at step 78000: 42.4%"
       ]
      },
      {
       "output_type": "stream",
       "stream": "stdout",
       "text": [
        "\n",
        "Minibatch loss at step"
       ]
      },
      {
       "output_type": "stream",
       "stream": "stdout",
       "text": [
        " 79000 : 3.90532\n",
        "Minibatch accuracy: 43.8%\n",
        "Validation accuracy at step 79000: 42.6%"
       ]
      },
      {
       "output_type": "stream",
       "stream": "stdout",
       "text": [
        "\n",
        "Minibatch loss at step"
       ]
      },
      {
       "output_type": "stream",
       "stream": "stdout",
       "text": [
        " 80000 : 3.65836\n",
        "Minibatch accuracy: 50.0%\n",
        "Validation accuracy at step 80000: 43.1%"
       ]
      },
      {
       "output_type": "stream",
       "stream": "stdout",
       "text": [
        "\n",
        "Test accuracy at step 80000: 42.7%"
       ]
      },
      {
       "output_type": "stream",
       "stream": "stdout",
       "text": [
        "\n",
        "Minibatch loss at step"
       ]
      },
      {
       "output_type": "stream",
       "stream": "stdout",
       "text": [
        " 81000 : 3.87705\n",
        "Minibatch accuracy: 53.1%\n",
        "Validation accuracy at step 81000: 42.8%"
       ]
      },
      {
       "output_type": "stream",
       "stream": "stdout",
       "text": [
        "\n",
        "Minibatch loss at step"
       ]
      },
      {
       "output_type": "stream",
       "stream": "stdout",
       "text": [
        " 82000 : 3.69804\n",
        "Minibatch accuracy: 50.0%\n",
        "Validation accuracy at step 82000: 43.5%"
       ]
      },
      {
       "output_type": "stream",
       "stream": "stdout",
       "text": [
        "\n",
        "Minibatch loss at step"
       ]
      },
      {
       "output_type": "stream",
       "stream": "stdout",
       "text": [
        " 83000 : 4.0829\n",
        "Minibatch accuracy: 50.0%\n",
        "Validation accuracy at step 83000: 41.6%"
       ]
      },
      {
       "output_type": "stream",
       "stream": "stdout",
       "text": [
        "\n",
        "Minibatch loss at step"
       ]
      },
      {
       "output_type": "stream",
       "stream": "stdout",
       "text": [
        " 84000 : 3.98978\n",
        "Minibatch accuracy: 34.4%\n",
        "Validation accuracy at step 84000: 42.7%"
       ]
      },
      {
       "output_type": "stream",
       "stream": "stdout",
       "text": [
        "\n",
        "Minibatch loss at step"
       ]
      },
      {
       "output_type": "stream",
       "stream": "stdout",
       "text": [
        " 85000 : 3.65089\n",
        "Minibatch accuracy: 56.2%\n",
        "Validation accuracy at step 85000: 43.2%"
       ]
      },
      {
       "output_type": "stream",
       "stream": "stdout",
       "text": [
        "\n",
        "Test accuracy at step 85000: 43.4%"
       ]
      },
      {
       "output_type": "stream",
       "stream": "stdout",
       "text": [
        "\n",
        "Minibatch loss at step"
       ]
      },
      {
       "output_type": "stream",
       "stream": "stdout",
       "text": [
        " 86000 : 3.64394\n",
        "Minibatch accuracy: 50.0%\n",
        "Validation accuracy at step 86000: 42.9%"
       ]
      },
      {
       "output_type": "stream",
       "stream": "stdout",
       "text": [
        "\n",
        "Minibatch loss at step"
       ]
      },
      {
       "output_type": "stream",
       "stream": "stdout",
       "text": [
        " 87000 : 3.54381\n",
        "Minibatch accuracy: 59.4%\n",
        "Validation accuracy at step 87000: 42.5%"
       ]
      },
      {
       "output_type": "stream",
       "stream": "stdout",
       "text": [
        "\n",
        "Minibatch loss at step"
       ]
      },
      {
       "output_type": "stream",
       "stream": "stdout",
       "text": [
        " 88000 : 3.75557\n",
        "Minibatch accuracy: 53.1%\n",
        "Validation accuracy at step 88000: 43.5%"
       ]
      },
      {
       "output_type": "stream",
       "stream": "stdout",
       "text": [
        "\n",
        "Minibatch loss at step"
       ]
      },
      {
       "output_type": "stream",
       "stream": "stdout",
       "text": [
        " 89000 : 3.85823\n",
        "Minibatch accuracy: 34.4%\n",
        "Validation accuracy at step 89000: 42.6%"
       ]
      },
      {
       "output_type": "stream",
       "stream": "stdout",
       "text": [
        "\n",
        "Minibatch loss at step"
       ]
      },
      {
       "output_type": "stream",
       "stream": "stdout",
       "text": [
        " 90000 : 4.04515\n",
        "Minibatch accuracy: 25.0%\n",
        "Validation accuracy at step 90000: 44.0%"
       ]
      },
      {
       "output_type": "stream",
       "stream": "stdout",
       "text": [
        "\n",
        "Test accuracy at step 90000: 43.8%"
       ]
      },
      {
       "output_type": "stream",
       "stream": "stdout",
       "text": [
        "\n",
        "Minibatch loss at step"
       ]
      },
      {
       "output_type": "stream",
       "stream": "stdout",
       "text": [
        " 91000 : 4.04014\n",
        "Minibatch accuracy: 37.5%\n",
        "Validation accuracy at step 91000: 43.7%"
       ]
      },
      {
       "output_type": "stream",
       "stream": "stdout",
       "text": [
        "\n",
        "Minibatch loss at step"
       ]
      },
      {
       "output_type": "stream",
       "stream": "stdout",
       "text": [
        " 92000 : 3.66189\n",
        "Minibatch accuracy: 50.0%\n",
        "Validation accuracy at step 92000: 43.5%"
       ]
      },
      {
       "output_type": "stream",
       "stream": "stdout",
       "text": [
        "\n",
        "Minibatch loss at step"
       ]
      },
      {
       "output_type": "stream",
       "stream": "stdout",
       "text": [
        " 93000 : 4.13536\n",
        "Minibatch accuracy: 37.5%\n",
        "Validation accuracy at step 93000: 43.9%"
       ]
      },
      {
       "output_type": "stream",
       "stream": "stdout",
       "text": [
        "\n",
        "Minibatch loss at step"
       ]
      },
      {
       "output_type": "stream",
       "stream": "stdout",
       "text": [
        " 94000 : 3.99162\n",
        "Minibatch accuracy: 37.5%\n",
        "Validation accuracy at step 94000: 44.0%"
       ]
      },
      {
       "output_type": "stream",
       "stream": "stdout",
       "text": [
        "\n",
        "Minibatch loss at step"
       ]
      },
      {
       "output_type": "stream",
       "stream": "stdout",
       "text": [
        " 95000 : 3.84726\n",
        "Minibatch accuracy: 40.6%\n",
        "Validation accuracy at step 95000: 43.8%"
       ]
      },
      {
       "output_type": "stream",
       "stream": "stdout",
       "text": [
        "\n",
        "Test accuracy at step 95000: 43.8%"
       ]
      },
      {
       "output_type": "stream",
       "stream": "stdout",
       "text": [
        "\n",
        "Minibatch loss at step"
       ]
      },
      {
       "output_type": "stream",
       "stream": "stdout",
       "text": [
        " 96000 : 3.78728\n",
        "Minibatch accuracy: 40.6%\n",
        "Validation accuracy at step 96000: 44.8%"
       ]
      },
      {
       "output_type": "stream",
       "stream": "stdout",
       "text": [
        "\n",
        "Minibatch loss at step"
       ]
      },
      {
       "output_type": "stream",
       "stream": "stdout",
       "text": [
        " 97000 : 3.604\n",
        "Minibatch accuracy: 46.9%\n",
        "Validation accuracy at step 97000: 44.0%"
       ]
      },
      {
       "output_type": "stream",
       "stream": "stdout",
       "text": [
        "\n",
        "Minibatch loss at step"
       ]
      },
      {
       "output_type": "stream",
       "stream": "stdout",
       "text": [
        " 98000 : 3.76043\n",
        "Minibatch accuracy: 56.2%\n",
        "Validation accuracy at step 98000: 43.2%"
       ]
      },
      {
       "output_type": "stream",
       "stream": "stdout",
       "text": [
        "\n",
        "Minibatch loss at step"
       ]
      },
      {
       "output_type": "stream",
       "stream": "stdout",
       "text": [
        " 99000 : 3.61392\n",
        "Minibatch accuracy: 40.6%\n",
        "Validation accuracy at step 99000: 43.0%"
       ]
      },
      {
       "output_type": "stream",
       "stream": "stdout",
       "text": [
        "\n",
        "Minibatch loss at step"
       ]
      },
      {
       "output_type": "stream",
       "stream": "stdout",
       "text": [
        " 100000 : 3.56736\n",
        "Minibatch accuracy: 50.0%\n",
        "Validation accuracy at step 100000: 44.1%"
       ]
      },
      {
       "output_type": "stream",
       "stream": "stdout",
       "text": [
        "\n",
        "Test accuracy at step 100000: 44.5%\n"
       ]
      },
      {
       "output_type": "stream",
       "stream": "stdout",
       "text": [
        "\n",
        "Elapsed time: 1.39105834385 hours\n",
        "The best validation accuracy was 44.77 at step 96000\n",
        "The best test accuracy was 44.53 at step 100000"
       ]
      },
      {
       "output_type": "stream",
       "stream": "stdout",
       "text": [
        "\n"
       ]
      }
     ],
     "prompt_number": 25
    },
    {
     "cell_type": "code",
     "collapsed": false,
     "input": [
      "# 0.99 dropout_keep_probability\n",
      "model = create_inception_module_model(learning_rate = 0.00025, l2_lambda = 0.05, feature_maps = 24, initialised_weights_stddev = 0.5, decay_steps = 10000, decay_rate = 0.96)\n",
      "steps_to_validation_predictions, steps_to_test_predictions = train_model(model, 100001, dropout_keep_prob = 0.99)\n",
      "correct_prediction_indexes, incorrect_prediction_indexes = visualise_accuracies(steps_to_validation_predictions, steps_to_test_predictions)"
     ],
     "language": "python",
     "metadata": {},
     "outputs": [
      {
       "output_type": "stream",
       "stream": "stdout",
       "text": [
        "Initialized\n",
        "Minibatch loss at step 0 : 992.474\n",
        "Minibatch accuracy: 9.4%\n",
        "Validation accuracy at step 0: 8.6%"
       ]
      },
      {
       "output_type": "stream",
       "stream": "stdout",
       "text": [
        "\n",
        "Minibatch loss at step"
       ]
      },
      {
       "output_type": "stream",
       "stream": "stdout",
       "text": [
        " 1000 : 23.117\n",
        "Minibatch accuracy: 6.2%\n",
        "Validation accuracy at step 1000: 18.8%"
       ]
      },
      {
       "output_type": "stream",
       "stream": "stdout",
       "text": [
        "\n",
        "Minibatch loss at step"
       ]
      },
      {
       "output_type": "stream",
       "stream": "stdout",
       "text": [
        " 2000 : 18.3853\n",
        "Minibatch accuracy: 31.2%\n",
        "Validation accuracy at step 2000: 17.8%"
       ]
      },
      {
       "output_type": "stream",
       "stream": "stdout",
       "text": [
        "\n",
        "Minibatch loss at step"
       ]
      },
      {
       "output_type": "stream",
       "stream": "stdout",
       "text": [
        " 3000 : 17.9759\n",
        "Minibatch accuracy: 18.8%\n",
        "Validation accuracy at step 3000: 22.9%"
       ]
      },
      {
       "output_type": "stream",
       "stream": "stdout",
       "text": [
        "\n",
        "Minibatch loss at step"
       ]
      },
      {
       "output_type": "stream",
       "stream": "stdout",
       "text": [
        " 4000 : 17.0478\n",
        "Minibatch accuracy: 9.4%\n",
        "Validation accuracy at step 4000: 23.1%"
       ]
      },
      {
       "output_type": "stream",
       "stream": "stdout",
       "text": [
        "\n",
        "Minibatch loss at step"
       ]
      },
      {
       "output_type": "stream",
       "stream": "stdout",
       "text": [
        " 5000 : 15.309\n",
        "Minibatch accuracy: 37.5%\n",
        "Validation accuracy at step 5000: 28.2%"
       ]
      },
      {
       "output_type": "stream",
       "stream": "stdout",
       "text": [
        "\n",
        "Test accuracy at step 5000: 28.2%"
       ]
      },
      {
       "output_type": "stream",
       "stream": "stdout",
       "text": [
        "\n",
        "Minibatch loss at step"
       ]
      },
      {
       "output_type": "stream",
       "stream": "stdout",
       "text": [
        " 6000 : 15.5972\n",
        "Minibatch accuracy: 34.4%\n",
        "Validation accuracy at step 6000: 22.2%"
       ]
      },
      {
       "output_type": "stream",
       "stream": "stdout",
       "text": [
        "\n",
        "Minibatch loss at step"
       ]
      },
      {
       "output_type": "stream",
       "stream": "stdout",
       "text": [
        " 7000 : 14.8663\n",
        "Minibatch accuracy: 28.1%\n",
        "Validation accuracy at step 7000: 26.2%"
       ]
      },
      {
       "output_type": "stream",
       "stream": "stdout",
       "text": [
        "\n",
        "Minibatch loss at step"
       ]
      },
      {
       "output_type": "stream",
       "stream": "stdout",
       "text": [
        " 8000 : 14.2755\n",
        "Minibatch accuracy: 37.5%\n",
        "Validation accuracy at step 8000: 26.4%"
       ]
      },
      {
       "output_type": "stream",
       "stream": "stdout",
       "text": [
        "\n",
        "Minibatch loss at step"
       ]
      },
      {
       "output_type": "stream",
       "stream": "stdout",
       "text": [
        " 9000 : 13.6897\n",
        "Minibatch accuracy: 31.2%\n",
        "Validation accuracy at step 9000: 31.8%"
       ]
      },
      {
       "output_type": "stream",
       "stream": "stdout",
       "text": [
        "\n",
        "Minibatch loss at step"
       ]
      },
      {
       "output_type": "stream",
       "stream": "stdout",
       "text": [
        " 10000 : 14.4588\n",
        "Minibatch accuracy: 18.8%\n",
        "Validation accuracy at step 10000: 28.1%"
       ]
      },
      {
       "output_type": "stream",
       "stream": "stdout",
       "text": [
        "\n",
        "Test accuracy at step 10000: 28.3%"
       ]
      },
      {
       "output_type": "stream",
       "stream": "stdout",
       "text": [
        "\n",
        "Minibatch loss at step"
       ]
      },
      {
       "output_type": "stream",
       "stream": "stdout",
       "text": [
        " 11000 : 14.1913\n",
        "Minibatch accuracy: 21.9%\n",
        "Validation accuracy at step 11000: 26.9%"
       ]
      },
      {
       "output_type": "stream",
       "stream": "stdout",
       "text": [
        "\n",
        "Minibatch loss at step"
       ]
      },
      {
       "output_type": "stream",
       "stream": "stdout",
       "text": [
        " 12000 : 13.2763\n",
        "Minibatch accuracy: 40.6%\n",
        "Validation accuracy at step 12000: 31.8%"
       ]
      },
      {
       "output_type": "stream",
       "stream": "stdout",
       "text": [
        "\n",
        "Minibatch loss at step"
       ]
      },
      {
       "output_type": "stream",
       "stream": "stdout",
       "text": [
        " 13000 : 12.5246\n",
        "Minibatch accuracy: 34.4%\n",
        "Validation accuracy at step 13000: 29.7%"
       ]
      },
      {
       "output_type": "stream",
       "stream": "stdout",
       "text": [
        "\n",
        "Minibatch loss at step"
       ]
      },
      {
       "output_type": "stream",
       "stream": "stdout",
       "text": [
        " 14000 : 12.6963\n",
        "Minibatch accuracy: 34.4%\n",
        "Validation accuracy at step 14000: 29.2%"
       ]
      },
      {
       "output_type": "stream",
       "stream": "stdout",
       "text": [
        "\n",
        "Minibatch loss at step"
       ]
      },
      {
       "output_type": "stream",
       "stream": "stdout",
       "text": [
        " 15000 : 12.182\n",
        "Minibatch accuracy: 34.4%\n",
        "Validation accuracy at step 15000: 33.2%"
       ]
      },
      {
       "output_type": "stream",
       "stream": "stdout",
       "text": [
        "\n",
        "Test accuracy at step 15000: 34.2%"
       ]
      },
      {
       "output_type": "stream",
       "stream": "stdout",
       "text": [
        "\n",
        "Minibatch loss at step"
       ]
      },
      {
       "output_type": "stream",
       "stream": "stdout",
       "text": [
        " 16000 : 11.6846\n",
        "Minibatch accuracy: 34.4%\n",
        "Validation accuracy at step 16000: 30.3%"
       ]
      },
      {
       "output_type": "stream",
       "stream": "stdout",
       "text": [
        "\n",
        "Minibatch loss at step"
       ]
      },
      {
       "output_type": "stream",
       "stream": "stdout",
       "text": [
        " 17000 : 11.3117\n",
        "Minibatch accuracy: 34.4%\n",
        "Validation accuracy at step 17000: 35.6%"
       ]
      },
      {
       "output_type": "stream",
       "stream": "stdout",
       "text": [
        "\n",
        "Minibatch loss at step"
       ]
      },
      {
       "output_type": "stream",
       "stream": "stdout",
       "text": [
        " 18000 : 11.4092\n",
        "Minibatch accuracy: 31.2%\n",
        "Validation accuracy at step 18000: 31.4%"
       ]
      },
      {
       "output_type": "stream",
       "stream": "stdout",
       "text": [
        "\n",
        "Minibatch loss at step"
       ]
      },
      {
       "output_type": "stream",
       "stream": "stdout",
       "text": [
        " 19000 : 10.9834\n",
        "Minibatch accuracy: 40.6%\n",
        "Validation accuracy at step 19000: 34.1%"
       ]
      },
      {
       "output_type": "stream",
       "stream": "stdout",
       "text": [
        "\n",
        "Minibatch loss at step"
       ]
      },
      {
       "output_type": "stream",
       "stream": "stdout",
       "text": [
        " 20000 : 10.451\n",
        "Minibatch accuracy: 59.4%\n",
        "Validation accuracy at step 20000: 34.5%"
       ]
      },
      {
       "output_type": "stream",
       "stream": "stdout",
       "text": [
        "\n",
        "Test accuracy at step 20000: 34.6%"
       ]
      },
      {
       "output_type": "stream",
       "stream": "stdout",
       "text": [
        "\n",
        "Minibatch loss at step"
       ]
      },
      {
       "output_type": "stream",
       "stream": "stdout",
       "text": [
        " 21000 : 10.6303\n",
        "Minibatch accuracy: 21.9%\n",
        "Validation accuracy at step 21000: 32.3%"
       ]
      },
      {
       "output_type": "stream",
       "stream": "stdout",
       "text": [
        "\n",
        "Minibatch loss at step"
       ]
      },
      {
       "output_type": "stream",
       "stream": "stdout",
       "text": [
        " 22000 : 10.5051\n",
        "Minibatch accuracy: 37.5%\n",
        "Validation accuracy at step 22000: 35.9%"
       ]
      },
      {
       "output_type": "stream",
       "stream": "stdout",
       "text": [
        "\n",
        "Minibatch loss at step"
       ]
      },
      {
       "output_type": "stream",
       "stream": "stdout",
       "text": [
        " 23000 : 10.2076\n",
        "Minibatch accuracy: 34.4%\n",
        "Validation accuracy at step 23000: 33.9%"
       ]
      },
      {
       "output_type": "stream",
       "stream": "stdout",
       "text": [
        "\n",
        "Minibatch loss at step"
       ]
      },
      {
       "output_type": "stream",
       "stream": "stdout",
       "text": [
        " 24000 : 9.80943\n",
        "Minibatch accuracy: 31.2%\n",
        "Validation accuracy at step 24000: 37.1%"
       ]
      },
      {
       "output_type": "stream",
       "stream": "stdout",
       "text": [
        "\n",
        "Minibatch loss at step"
       ]
      },
      {
       "output_type": "stream",
       "stream": "stdout",
       "text": [
        " 25000 : 10.0185\n",
        "Minibatch accuracy: 37.5%\n",
        "Validation accuracy at step 25000: 36.1%"
       ]
      },
      {
       "output_type": "stream",
       "stream": "stdout",
       "text": [
        "\n",
        "Test accuracy at step 25000: 35.7%"
       ]
      },
      {
       "output_type": "stream",
       "stream": "stdout",
       "text": [
        "\n",
        "Minibatch loss at step"
       ]
      },
      {
       "output_type": "stream",
       "stream": "stdout",
       "text": [
        " 26000 : 9.71592\n",
        "Minibatch accuracy: 21.9%\n",
        "Validation accuracy at step 26000: 35.9%"
       ]
      },
      {
       "output_type": "stream",
       "stream": "stdout",
       "text": [
        "\n",
        "Minibatch loss at step"
       ]
      },
      {
       "output_type": "stream",
       "stream": "stdout",
       "text": [
        " 27000 : 8.9714\n",
        "Minibatch accuracy: 56.2%\n",
        "Validation accuracy at step 27000: 35.5%"
       ]
      },
      {
       "output_type": "stream",
       "stream": "stdout",
       "text": [
        "\n",
        "Minibatch loss at step"
       ]
      },
      {
       "output_type": "stream",
       "stream": "stdout",
       "text": [
        " 28000 : 9.23944\n",
        "Minibatch accuracy: 37.5%\n",
        "Validation accuracy at step 28000: 35.2%"
       ]
      },
      {
       "output_type": "stream",
       "stream": "stdout",
       "text": [
        "\n",
        "Minibatch loss at step"
       ]
      },
      {
       "output_type": "stream",
       "stream": "stdout",
       "text": [
        " 29000 : 9.04103\n",
        "Minibatch accuracy: 34.4%\n",
        "Validation accuracy at step 29000: 37.1%"
       ]
      },
      {
       "output_type": "stream",
       "stream": "stdout",
       "text": [
        "\n",
        "Minibatch loss at step"
       ]
      },
      {
       "output_type": "stream",
       "stream": "stdout",
       "text": [
        " 30000 : 8.94536\n",
        "Minibatch accuracy: 34.4%\n",
        "Validation accuracy at step 30000: 37.0%"
       ]
      },
      {
       "output_type": "stream",
       "stream": "stdout",
       "text": [
        "\n",
        "Test accuracy at step 30000: 36.7%"
       ]
      },
      {
       "output_type": "stream",
       "stream": "stdout",
       "text": [
        "\n",
        "Minibatch loss at step"
       ]
      },
      {
       "output_type": "stream",
       "stream": "stdout",
       "text": [
        " 31000 : 8.78256\n",
        "Minibatch accuracy: 34.4%\n",
        "Validation accuracy at step 31000: 32.3%"
       ]
      },
      {
       "output_type": "stream",
       "stream": "stdout",
       "text": [
        "\n",
        "Minibatch loss at step"
       ]
      },
      {
       "output_type": "stream",
       "stream": "stdout",
       "text": [
        " 32000 : 8.94298\n",
        "Minibatch accuracy: 18.8%\n",
        "Validation accuracy at step 32000: 35.0%"
       ]
      },
      {
       "output_type": "stream",
       "stream": "stdout",
       "text": [
        "\n",
        "Minibatch loss at step"
       ]
      },
      {
       "output_type": "stream",
       "stream": "stdout",
       "text": [
        " 33000 : 8.19614\n",
        "Minibatch accuracy: 46.9%\n",
        "Validation accuracy at step 33000: 36.4%"
       ]
      },
      {
       "output_type": "stream",
       "stream": "stdout",
       "text": [
        "\n",
        "Minibatch loss at step"
       ]
      },
      {
       "output_type": "stream",
       "stream": "stdout",
       "text": [
        " 34000 : 8.29568\n",
        "Minibatch accuracy: 40.6%\n",
        "Validation accuracy at step 34000: 39.7%"
       ]
      },
      {
       "output_type": "stream",
       "stream": "stdout",
       "text": [
        "\n",
        "Minibatch loss at step"
       ]
      },
      {
       "output_type": "stream",
       "stream": "stdout",
       "text": [
        " 35000 : 8.00552\n",
        "Minibatch accuracy: 43.8%\n",
        "Validation accuracy at step 35000: 39.5%"
       ]
      },
      {
       "output_type": "stream",
       "stream": "stdout",
       "text": [
        "\n",
        "Test accuracy at step 35000: 39.7%"
       ]
      },
      {
       "output_type": "stream",
       "stream": "stdout",
       "text": [
        "\n",
        "Minibatch loss at step"
       ]
      },
      {
       "output_type": "stream",
       "stream": "stdout",
       "text": [
        " 36000 : 8.35067\n",
        "Minibatch accuracy: 31.2%\n",
        "Validation accuracy at step 36000: 35.5%"
       ]
      },
      {
       "output_type": "stream",
       "stream": "stdout",
       "text": [
        "\n",
        "Minibatch loss at step"
       ]
      },
      {
       "output_type": "stream",
       "stream": "stdout",
       "text": [
        " 37000 : 7.69062\n",
        "Minibatch accuracy: 50.0%\n",
        "Validation accuracy at step 37000: 36.9%"
       ]
      },
      {
       "output_type": "stream",
       "stream": "stdout",
       "text": [
        "\n",
        "Minibatch loss at step"
       ]
      },
      {
       "output_type": "stream",
       "stream": "stdout",
       "text": [
        " 38000 : 7.65406\n",
        "Minibatch accuracy: 37.5%\n",
        "Validation accuracy at step 38000: 39.7%"
       ]
      },
      {
       "output_type": "stream",
       "stream": "stdout",
       "text": [
        "\n",
        "Minibatch loss at step"
       ]
      },
      {
       "output_type": "stream",
       "stream": "stdout",
       "text": [
        " 39000 : 8.06123\n",
        "Minibatch accuracy: 40.6%\n",
        "Validation accuracy at step 39000: 37.9%"
       ]
      },
      {
       "output_type": "stream",
       "stream": "stdout",
       "text": [
        "\n",
        "Minibatch loss at step"
       ]
      },
      {
       "output_type": "stream",
       "stream": "stdout",
       "text": [
        " 40000 : 7.54513\n",
        "Minibatch accuracy: 34.4%\n",
        "Validation accuracy at step 40000: 37.9%"
       ]
      },
      {
       "output_type": "stream",
       "stream": "stdout",
       "text": [
        "\n",
        "Test accuracy at step 40000: 38.9%"
       ]
      },
      {
       "output_type": "stream",
       "stream": "stdout",
       "text": [
        "\n",
        "Minibatch loss at step"
       ]
      },
      {
       "output_type": "stream",
       "stream": "stdout",
       "text": [
        " 41000 : 7.27839\n",
        "Minibatch accuracy: 31.2%\n",
        "Validation accuracy at step 41000: 38.4%"
       ]
      },
      {
       "output_type": "stream",
       "stream": "stdout",
       "text": [
        "\n",
        "Minibatch loss at step"
       ]
      },
      {
       "output_type": "stream",
       "stream": "stdout",
       "text": [
        " 42000 : 7.36021\n",
        "Minibatch accuracy: 31.2%\n",
        "Validation accuracy at step 42000: 38.4%"
       ]
      },
      {
       "output_type": "stream",
       "stream": "stdout",
       "text": [
        "\n",
        "Minibatch loss at step"
       ]
      },
      {
       "output_type": "stream",
       "stream": "stdout",
       "text": [
        " 43000 : 7.07377\n",
        "Minibatch accuracy: 43.8%\n",
        "Validation accuracy at step 43000: 37.8%"
       ]
      },
      {
       "output_type": "stream",
       "stream": "stdout",
       "text": [
        "\n",
        "Minibatch loss at step"
       ]
      },
      {
       "output_type": "stream",
       "stream": "stdout",
       "text": [
        " 44000 : 7.01953\n",
        "Minibatch accuracy: 34.4%\n",
        "Validation accuracy at step 44000: 38.5%"
       ]
      },
      {
       "output_type": "stream",
       "stream": "stdout",
       "text": [
        "\n",
        "Minibatch loss at step"
       ]
      },
      {
       "output_type": "stream",
       "stream": "stdout",
       "text": [
        " 45000 : 6.79806\n",
        "Minibatch accuracy: 50.0%\n",
        "Validation accuracy at step 45000: 40.1%"
       ]
      },
      {
       "output_type": "stream",
       "stream": "stdout",
       "text": [
        "\n",
        "Test accuracy at step 45000: 40.1%"
       ]
      },
      {
       "output_type": "stream",
       "stream": "stdout",
       "text": [
        "\n",
        "Minibatch loss at step"
       ]
      },
      {
       "output_type": "stream",
       "stream": "stdout",
       "text": [
        " 46000 : 6.51115\n",
        "Minibatch accuracy: 40.6%\n",
        "Validation accuracy at step 46000: 40.4%"
       ]
      },
      {
       "output_type": "stream",
       "stream": "stdout",
       "text": [
        "\n",
        "Minibatch loss at step"
       ]
      },
      {
       "output_type": "stream",
       "stream": "stdout",
       "text": [
        " 47000 : 6.67164\n",
        "Minibatch accuracy: 56.2%\n",
        "Validation accuracy at step 47000: 35.0%"
       ]
      },
      {
       "output_type": "stream",
       "stream": "stdout",
       "text": [
        "\n",
        "Minibatch loss at step"
       ]
      },
      {
       "output_type": "stream",
       "stream": "stdout",
       "text": [
        " 48000 : 6.45934\n",
        "Minibatch accuracy: 40.6%\n",
        "Validation accuracy at step 48000: 38.0%"
       ]
      },
      {
       "output_type": "stream",
       "stream": "stdout",
       "text": [
        "\n",
        "Minibatch loss at step"
       ]
      },
      {
       "output_type": "stream",
       "stream": "stdout",
       "text": [
        " 49000 : 6.34819\n",
        "Minibatch accuracy: 43.8%\n",
        "Validation accuracy at step 49000: 39.6%"
       ]
      },
      {
       "output_type": "stream",
       "stream": "stdout",
       "text": [
        "\n",
        "Minibatch loss at step"
       ]
      },
      {
       "output_type": "stream",
       "stream": "stdout",
       "text": [
        " 50000 : 6.63198\n",
        "Minibatch accuracy: 25.0%\n",
        "Validation accuracy at step 50000: 40.0%"
       ]
      },
      {
       "output_type": "stream",
       "stream": "stdout",
       "text": [
        "\n",
        "Test accuracy at step 50000: 40.4%"
       ]
      },
      {
       "output_type": "stream",
       "stream": "stdout",
       "text": [
        "\n",
        "Minibatch loss at step"
       ]
      },
      {
       "output_type": "stream",
       "stream": "stdout",
       "text": [
        " 51000 : 6.43135\n",
        "Minibatch accuracy: 34.4%\n",
        "Validation accuracy at step 51000: 37.3%"
       ]
      },
      {
       "output_type": "stream",
       "stream": "stdout",
       "text": [
        "\n",
        "Minibatch loss at step"
       ]
      },
      {
       "output_type": "stream",
       "stream": "stdout",
       "text": [
        " 52000 : 6.0111\n",
        "Minibatch accuracy: 59.4%\n",
        "Validation accuracy at step 52000: 38.9%"
       ]
      },
      {
       "output_type": "stream",
       "stream": "stdout",
       "text": [
        "\n",
        "Minibatch loss at step"
       ]
      },
      {
       "output_type": "stream",
       "stream": "stdout",
       "text": [
        " 53000 : 5.90134\n",
        "Minibatch accuracy: 50.0%\n",
        "Validation accuracy at step 53000: 39.8%"
       ]
      },
      {
       "output_type": "stream",
       "stream": "stdout",
       "text": [
        "\n",
        "Minibatch loss at step"
       ]
      },
      {
       "output_type": "stream",
       "stream": "stdout",
       "text": [
        " 54000 : 5.99671\n",
        "Minibatch accuracy: 46.9%\n",
        "Validation accuracy at step 54000: 39.5%"
       ]
      },
      {
       "output_type": "stream",
       "stream": "stdout",
       "text": [
        "\n",
        "Minibatch loss at step"
       ]
      },
      {
       "output_type": "stream",
       "stream": "stdout",
       "text": [
        " 55000 : 5.81244\n",
        "Minibatch accuracy: 37.5%\n",
        "Validation accuracy at step 55000: 40.2%"
       ]
      },
      {
       "output_type": "stream",
       "stream": "stdout",
       "text": [
        "\n",
        "Test accuracy at step 55000: 40.6%"
       ]
      },
      {
       "output_type": "stream",
       "stream": "stdout",
       "text": [
        "\n",
        "Minibatch loss at step"
       ]
      },
      {
       "output_type": "stream",
       "stream": "stdout",
       "text": [
        " 56000 : 5.81657\n",
        "Minibatch accuracy: 37.5%\n",
        "Validation accuracy at step 56000: 39.5%"
       ]
      },
      {
       "output_type": "stream",
       "stream": "stdout",
       "text": [
        "\n",
        "Minibatch loss at step"
       ]
      },
      {
       "output_type": "stream",
       "stream": "stdout",
       "text": [
        " 57000 : 6.16878\n",
        "Minibatch accuracy: 21.9%\n",
        "Validation accuracy at step 57000: 40.7%"
       ]
      },
      {
       "output_type": "stream",
       "stream": "stdout",
       "text": [
        "\n",
        "Minibatch loss at step"
       ]
      },
      {
       "output_type": "stream",
       "stream": "stdout",
       "text": [
        " 58000 : 5.66697\n",
        "Minibatch accuracy: 34.4%\n",
        "Validation accuracy at step 58000: 39.4%"
       ]
      },
      {
       "output_type": "stream",
       "stream": "stdout",
       "text": [
        "\n",
        "Minibatch loss at step"
       ]
      },
      {
       "output_type": "stream",
       "stream": "stdout",
       "text": [
        " 59000 : 5.4473\n",
        "Minibatch accuracy: 50.0%\n",
        "Validation accuracy at step 59000: 40.4%"
       ]
      },
      {
       "output_type": "stream",
       "stream": "stdout",
       "text": [
        "\n",
        "Minibatch loss at step"
       ]
      },
      {
       "output_type": "stream",
       "stream": "stdout",
       "text": [
        " 60000 : 5.52214\n",
        "Minibatch accuracy: 31.2%\n",
        "Validation accuracy at step 60000: 41.0%"
       ]
      },
      {
       "output_type": "stream",
       "stream": "stdout",
       "text": [
        "\n",
        "Test accuracy at step 60000: 41.6%"
       ]
      },
      {
       "output_type": "stream",
       "stream": "stdout",
       "text": [
        "\n",
        "Minibatch loss at step"
       ]
      },
      {
       "output_type": "stream",
       "stream": "stdout",
       "text": [
        " 61000 : 5.51987\n",
        "Minibatch accuracy: 34.4%\n",
        "Validation accuracy at step 61000: 42.0%"
       ]
      },
      {
       "output_type": "stream",
       "stream": "stdout",
       "text": [
        "\n",
        "Minibatch loss at step"
       ]
      },
      {
       "output_type": "stream",
       "stream": "stdout",
       "text": [
        " 62000 : 5.11504\n",
        "Minibatch accuracy: 46.9%\n",
        "Validation accuracy at step 62000: 41.0%"
       ]
      },
      {
       "output_type": "stream",
       "stream": "stdout",
       "text": [
        "\n",
        "Minibatch loss at step"
       ]
      },
      {
       "output_type": "stream",
       "stream": "stdout",
       "text": [
        " 63000 : 5.07569\n",
        "Minibatch accuracy: 50.0%\n",
        "Validation accuracy at step 63000: 39.7%"
       ]
      },
      {
       "output_type": "stream",
       "stream": "stdout",
       "text": [
        "\n",
        "Minibatch loss at step"
       ]
      },
      {
       "output_type": "stream",
       "stream": "stdout",
       "text": [
        " 64000 : 5.18231\n",
        "Minibatch accuracy: 34.4%\n",
        "Validation accuracy at step 64000: 41.2%"
       ]
      },
      {
       "output_type": "stream",
       "stream": "stdout",
       "text": [
        "\n",
        "Minibatch loss at step"
       ]
      },
      {
       "output_type": "stream",
       "stream": "stdout",
       "text": [
        " 65000 : 5.22526\n",
        "Minibatch accuracy: 34.4%\n",
        "Validation accuracy at step 65000: 40.8%"
       ]
      },
      {
       "output_type": "stream",
       "stream": "stdout",
       "text": [
        "\n",
        "Test accuracy at step 65000: 40.8%"
       ]
      },
      {
       "output_type": "stream",
       "stream": "stdout",
       "text": [
        "\n",
        "Minibatch loss at step"
       ]
      },
      {
       "output_type": "stream",
       "stream": "stdout",
       "text": [
        " 66000 : 5.34551\n",
        "Minibatch accuracy: 28.1%\n",
        "Validation accuracy at step 66000: 41.4%"
       ]
      },
      {
       "output_type": "stream",
       "stream": "stdout",
       "text": [
        "\n",
        "Minibatch loss at step"
       ]
      },
      {
       "output_type": "stream",
       "stream": "stdout",
       "text": [
        " 67000 : 5.02666\n",
        "Minibatch accuracy: 46.9%\n",
        "Validation accuracy at step 67000: 38.6%"
       ]
      },
      {
       "output_type": "stream",
       "stream": "stdout",
       "text": [
        "\n",
        "Minibatch loss at step"
       ]
      },
      {
       "output_type": "stream",
       "stream": "stdout",
       "text": [
        " 68000 : 4.72258\n",
        "Minibatch accuracy: 59.4%\n",
        "Validation accuracy at step 68000: 40.4%"
       ]
      },
      {
       "output_type": "stream",
       "stream": "stdout",
       "text": [
        "\n",
        "Minibatch loss at step"
       ]
      },
      {
       "output_type": "stream",
       "stream": "stdout",
       "text": [
        " 69000 : 4.84649\n",
        "Minibatch accuracy: 50.0%\n",
        "Validation accuracy at step 69000: 39.6%"
       ]
      },
      {
       "output_type": "stream",
       "stream": "stdout",
       "text": [
        "\n",
        "Minibatch loss at step"
       ]
      },
      {
       "output_type": "stream",
       "stream": "stdout",
       "text": [
        " 70000 : 4.71004\n",
        "Minibatch accuracy: 62.5%\n",
        "Validation accuracy at step 70000: 40.8%"
       ]
      },
      {
       "output_type": "stream",
       "stream": "stdout",
       "text": [
        "\n",
        "Test accuracy at step 70000: 40.9%"
       ]
      },
      {
       "output_type": "stream",
       "stream": "stdout",
       "text": [
        "\n",
        "Minibatch loss at step"
       ]
      },
      {
       "output_type": "stream",
       "stream": "stdout",
       "text": [
        " 71000 : 4.72643\n",
        "Minibatch accuracy: 43.8%\n",
        "Validation accuracy at step 71000: 40.6%"
       ]
      },
      {
       "output_type": "stream",
       "stream": "stdout",
       "text": [
        "\n",
        "Minibatch loss at step"
       ]
      },
      {
       "output_type": "stream",
       "stream": "stdout",
       "text": [
        " 72000 : 4.57832\n",
        "Minibatch accuracy: 56.2%\n",
        "Validation accuracy at step 72000: 41.1%"
       ]
      },
      {
       "output_type": "stream",
       "stream": "stdout",
       "text": [
        "\n",
        "Minibatch loss at step"
       ]
      },
      {
       "output_type": "stream",
       "stream": "stdout",
       "text": [
        " 73000 : 4.73709\n",
        "Minibatch accuracy: 43.8%\n",
        "Validation accuracy at step 73000: 42.3%"
       ]
      },
      {
       "output_type": "stream",
       "stream": "stdout",
       "text": [
        "\n",
        "Minibatch loss at step"
       ]
      },
      {
       "output_type": "stream",
       "stream": "stdout",
       "text": [
        " 74000 : 4.46239\n",
        "Minibatch accuracy: 37.5%\n",
        "Validation accuracy at step 74000: 40.7%"
       ]
      },
      {
       "output_type": "stream",
       "stream": "stdout",
       "text": [
        "\n",
        "Minibatch loss at step"
       ]
      },
      {
       "output_type": "stream",
       "stream": "stdout",
       "text": [
        " 75000 : 4.59277\n",
        "Minibatch accuracy: 34.4%\n",
        "Validation accuracy at step 75000: 40.4%"
       ]
      },
      {
       "output_type": "stream",
       "stream": "stdout",
       "text": [
        "\n",
        "Test accuracy at step 75000: 40.3%"
       ]
      },
      {
       "output_type": "stream",
       "stream": "stdout",
       "text": [
        "\n",
        "Minibatch loss at step"
       ]
      },
      {
       "output_type": "stream",
       "stream": "stdout",
       "text": [
        " 76000 : 4.55251\n",
        "Minibatch accuracy: 34.4%\n",
        "Validation accuracy at step 76000: 40.8%"
       ]
      },
      {
       "output_type": "stream",
       "stream": "stdout",
       "text": [
        "\n",
        "Minibatch loss at step"
       ]
      },
      {
       "output_type": "stream",
       "stream": "stdout",
       "text": [
        " 77000 : 4.27862\n",
        "Minibatch accuracy: 53.1%\n",
        "Validation accuracy at step 77000: 42.3%"
       ]
      },
      {
       "output_type": "stream",
       "stream": "stdout",
       "text": [
        "\n",
        "Minibatch loss at step"
       ]
      },
      {
       "output_type": "stream",
       "stream": "stdout",
       "text": [
        " 78000 : 4.51925\n",
        "Minibatch accuracy: 34.4%\n",
        "Validation accuracy at step 78000: 42.5%"
       ]
      },
      {
       "output_type": "stream",
       "stream": "stdout",
       "text": [
        "\n",
        "Minibatch loss at step"
       ]
      },
      {
       "output_type": "stream",
       "stream": "stdout",
       "text": [
        " 79000 : 4.32517\n",
        "Minibatch accuracy: 37.5%\n",
        "Validation accuracy at step 79000: 40.9%"
       ]
      },
      {
       "output_type": "stream",
       "stream": "stdout",
       "text": [
        "\n",
        "Minibatch loss at step"
       ]
      },
      {
       "output_type": "stream",
       "stream": "stdout",
       "text": [
        " 80000 : 4.03001\n",
        "Minibatch accuracy: 56.2%\n",
        "Validation accuracy at step 80000: 42.2%"
       ]
      },
      {
       "output_type": "stream",
       "stream": "stdout",
       "text": [
        "\n",
        "Test accuracy at step 80000: 41.7%"
       ]
      },
      {
       "output_type": "stream",
       "stream": "stdout",
       "text": [
        "\n",
        "Minibatch loss at step"
       ]
      },
      {
       "output_type": "stream",
       "stream": "stdout",
       "text": [
        " 81000 : 4.28316\n",
        "Minibatch accuracy: 34.4%\n",
        "Validation accuracy at step 81000: 40.7%"
       ]
      },
      {
       "output_type": "stream",
       "stream": "stdout",
       "text": [
        "\n",
        "Minibatch loss at step"
       ]
      },
      {
       "output_type": "stream",
       "stream": "stdout",
       "text": [
        " 82000 : 4.00577\n",
        "Minibatch accuracy: 34.4%\n",
        "Validation accuracy at step 82000: 42.6%"
       ]
      },
      {
       "output_type": "stream",
       "stream": "stdout",
       "text": [
        "\n",
        "Minibatch loss at step"
       ]
      },
      {
       "output_type": "stream",
       "stream": "stdout",
       "text": [
        " 83000 : 4.32819\n",
        "Minibatch accuracy: 43.8%\n",
        "Validation accuracy at step 83000: 41.0%"
       ]
      },
      {
       "output_type": "stream",
       "stream": "stdout",
       "text": [
        "\n",
        "Minibatch loss at step"
       ]
      },
      {
       "output_type": "stream",
       "stream": "stdout",
       "text": [
        " 84000 : 4.21106\n",
        "Minibatch accuracy: 37.5%\n",
        "Validation accuracy at step 84000: 39.5%"
       ]
      },
      {
       "output_type": "stream",
       "stream": "stdout",
       "text": [
        "\n",
        "Minibatch loss at step"
       ]
      },
      {
       "output_type": "stream",
       "stream": "stdout",
       "text": [
        " 85000 : 3.76725\n",
        "Minibatch accuracy: 53.1%\n",
        "Validation accuracy at step 85000: 42.5%"
       ]
      },
      {
       "output_type": "stream",
       "stream": "stdout",
       "text": [
        "\n",
        "Test accuracy at step 85000: 42.9%"
       ]
      },
      {
       "output_type": "stream",
       "stream": "stdout",
       "text": [
        "\n",
        "Minibatch loss at step"
       ]
      },
      {
       "output_type": "stream",
       "stream": "stdout",
       "text": [
        " 86000 : 3.90112\n",
        "Minibatch accuracy: 34.4%\n",
        "Validation accuracy at step 86000: 40.9%"
       ]
      },
      {
       "output_type": "stream",
       "stream": "stdout",
       "text": [
        "\n",
        "Minibatch loss at step"
       ]
      },
      {
       "output_type": "stream",
       "stream": "stdout",
       "text": [
        " 87000 : 3.68197\n",
        "Minibatch accuracy: 53.1%\n",
        "Validation accuracy at step 87000: 40.4%"
       ]
      },
      {
       "output_type": "stream",
       "stream": "stdout",
       "text": [
        "\n",
        "Minibatch loss at step"
       ]
      },
      {
       "output_type": "stream",
       "stream": "stdout",
       "text": [
        " 88000 : 3.8353\n",
        "Minibatch accuracy: 50.0%\n",
        "Validation accuracy at step 88000: 42.1%"
       ]
      },
      {
       "output_type": "stream",
       "stream": "stdout",
       "text": [
        "\n",
        "Minibatch loss at step"
       ]
      },
      {
       "output_type": "stream",
       "stream": "stdout",
       "text": [
        " 89000 : 3.90522\n",
        "Minibatch accuracy: 37.5%\n",
        "Validation accuracy at step 89000: 40.1%"
       ]
      },
      {
       "output_type": "stream",
       "stream": "stdout",
       "text": [
        "\n",
        "Minibatch loss at step"
       ]
      },
      {
       "output_type": "stream",
       "stream": "stdout",
       "text": [
        " 90000 : 3.96231\n",
        "Minibatch accuracy: 40.6%\n",
        "Validation accuracy at step 90000: 42.0%"
       ]
      },
      {
       "output_type": "stream",
       "stream": "stdout",
       "text": [
        "\n",
        "Test accuracy at step 90000: 42.1%"
       ]
      },
      {
       "output_type": "stream",
       "stream": "stdout",
       "text": [
        "\n",
        "Minibatch loss at step"
       ]
      },
      {
       "output_type": "stream",
       "stream": "stdout",
       "text": [
        " 91000 : 3.88615\n",
        "Minibatch accuracy: 37.5%\n",
        "Validation accuracy at step 91000: 42.6%"
       ]
      },
      {
       "output_type": "stream",
       "stream": "stdout",
       "text": [
        "\n",
        "Minibatch loss at step"
       ]
      },
      {
       "output_type": "stream",
       "stream": "stdout",
       "text": [
        " 92000 : 3.73808\n",
        "Minibatch accuracy: 43.8%\n",
        "Validation accuracy at step 92000: 42.1%"
       ]
      },
      {
       "output_type": "stream",
       "stream": "stdout",
       "text": [
        "\n",
        "Minibatch loss at step"
       ]
      },
      {
       "output_type": "stream",
       "stream": "stdout",
       "text": [
        " 93000 : 3.98186\n",
        "Minibatch accuracy: 37.5%\n",
        "Validation accuracy at step 93000: 42.6%"
       ]
      },
      {
       "output_type": "stream",
       "stream": "stdout",
       "text": [
        "\n",
        "Minibatch loss at step"
       ]
      },
      {
       "output_type": "stream",
       "stream": "stdout",
       "text": [
        " 94000 : 3.81471\n",
        "Minibatch accuracy: 34.4%\n",
        "Validation accuracy at step 94000: 42.8%"
       ]
      },
      {
       "output_type": "stream",
       "stream": "stdout",
       "text": [
        "\n",
        "Minibatch loss at step"
       ]
      },
      {
       "output_type": "stream",
       "stream": "stdout",
       "text": [
        " 95000 : 3.70397\n",
        "Minibatch accuracy: 34.4%\n",
        "Validation accuracy at step 95000: 41.7%"
       ]
      },
      {
       "output_type": "stream",
       "stream": "stdout",
       "text": [
        "\n",
        "Test accuracy at step 95000: 42.1%"
       ]
      },
      {
       "output_type": "stream",
       "stream": "stdout",
       "text": [
        "\n",
        "Minibatch loss at step"
       ]
      },
      {
       "output_type": "stream",
       "stream": "stdout",
       "text": [
        " 96000 : 3.93522\n",
        "Minibatch accuracy: 37.5%\n",
        "Validation accuracy at step 96000: 43.5%"
       ]
      },
      {
       "output_type": "stream",
       "stream": "stdout",
       "text": [
        "\n",
        "Minibatch loss at step"
       ]
      },
      {
       "output_type": "stream",
       "stream": "stdout",
       "text": [
        " 97000 : 3.63836\n",
        "Minibatch accuracy: 40.6%\n",
        "Validation accuracy at step 97000: 41.7%"
       ]
      },
      {
       "output_type": "stream",
       "stream": "stdout",
       "text": [
        "\n",
        "Minibatch loss at step"
       ]
      },
      {
       "output_type": "stream",
       "stream": "stdout",
       "text": [
        " 98000 : 3.44828\n",
        "Minibatch accuracy: 56.2%\n",
        "Validation accuracy at step 98000: 41.7%"
       ]
      },
      {
       "output_type": "stream",
       "stream": "stdout",
       "text": [
        "\n",
        "Minibatch loss at step"
       ]
      },
      {
       "output_type": "stream",
       "stream": "stdout",
       "text": [
        " 99000 : 3.44616\n",
        "Minibatch accuracy: 56.2%\n",
        "Validation accuracy at step 99000: 42.1%"
       ]
      },
      {
       "output_type": "stream",
       "stream": "stdout",
       "text": [
        "\n",
        "Minibatch loss at step"
       ]
      },
      {
       "output_type": "stream",
       "stream": "stdout",
       "text": [
        " 100000 : 3.43335\n",
        "Minibatch accuracy: 43.8%\n",
        "Validation accuracy at step 100000: 42.5%"
       ]
      },
      {
       "output_type": "stream",
       "stream": "stdout",
       "text": [
        "\n",
        "Test accuracy at step 100000: 43.0%\n"
       ]
      },
      {
       "output_type": "stream",
       "stream": "stdout",
       "text": [
        "\n",
        "Elapsed time: 1.39164272328 hours\n",
        "The best validation accuracy was 43.54 at step 96000"
       ]
      },
      {
       "output_type": "stream",
       "stream": "stdout",
       "text": [
        "\n",
        "The best test accuracy was 42.98 at step 100000\n"
       ]
      }
     ],
     "prompt_number": 26
    },
    {
     "cell_type": "code",
     "collapsed": false,
     "input": [
      "# More feature maps\n",
      "model = create_inception_module_model(learning_rate = 0.00025, l2_lambda = 0.025, feature_maps = 26, initialised_weights_stddev = 0.5, decay_steps = 10000, decay_rate = 0.96)\n",
      "steps_to_validation_predictions, steps_to_test_predictions = train_model(model, 100001, dropout_keep_prob = 0.9)\n",
      "correct_prediction_indexes, incorrect_prediction_indexes = visualise_accuracies(steps_to_validation_predictions, steps_to_test_predictions)"
     ],
     "language": "python",
     "metadata": {},
     "outputs": [
      {
       "output_type": "stream",
       "stream": "stdout",
       "text": [
        "Initialized\n",
        "Minibatch loss at step"
       ]
      },
      {
       "output_type": "stream",
       "stream": "stdout",
       "text": [
        " 0 : 751.536\n",
        "Minibatch accuracy: 3.1%\n",
        "Validation accuracy at step 0: 8.5%"
       ]
      },
      {
       "output_type": "stream",
       "stream": "stdout",
       "text": [
        "\n",
        "Minibatch loss at step"
       ]
      },
      {
       "output_type": "stream",
       "stream": "stdout",
       "text": [
        " 1000 : 17.8157\n",
        "Minibatch accuracy: 12.5%\n",
        "Validation accuracy at step 1000: 20.5%"
       ]
      },
      {
       "output_type": "stream",
       "stream": "stdout",
       "text": [
        "\n",
        "Minibatch loss at step"
       ]
      },
      {
       "output_type": "stream",
       "stream": "stdout",
       "text": [
        " 2000 : 13.1613\n",
        "Minibatch accuracy: 25.0%\n",
        "Validation accuracy at step 2000: 21.0%"
       ]
      },
      {
       "output_type": "stream",
       "stream": "stdout",
       "text": [
        "\n",
        "Minibatch loss at step"
       ]
      },
      {
       "output_type": "stream",
       "stream": "stdout",
       "text": [
        " 3000 : 12.4843\n",
        "Minibatch accuracy: 25.0%\n",
        "Validation accuracy at step 3000: 24.4%"
       ]
      },
      {
       "output_type": "stream",
       "stream": "stdout",
       "text": [
        "\n",
        "Minibatch loss at step"
       ]
      },
      {
       "output_type": "stream",
       "stream": "stdout",
       "text": [
        " 4000 : 12.0612\n",
        "Minibatch accuracy: 28.1%\n",
        "Validation accuracy at step 4000: 25.9%"
       ]
      },
      {
       "output_type": "stream",
       "stream": "stdout",
       "text": [
        "\n",
        "Minibatch loss at step"
       ]
      },
      {
       "output_type": "stream",
       "stream": "stdout",
       "text": [
        " 5000 : 10.2095\n",
        "Minibatch accuracy: 31.2%\n",
        "Validation accuracy at step 5000: 25.7%"
       ]
      },
      {
       "output_type": "stream",
       "stream": "stdout",
       "text": [
        "\n",
        "Test accuracy at step 5000: 25.4%"
       ]
      },
      {
       "output_type": "stream",
       "stream": "stdout",
       "text": [
        "\n",
        "Minibatch loss at step"
       ]
      },
      {
       "output_type": "stream",
       "stream": "stdout",
       "text": [
        " 6000 : 11.203\n",
        "Minibatch accuracy: 25.0%\n",
        "Validation accuracy at step 6000: 23.3%"
       ]
      },
      {
       "output_type": "stream",
       "stream": "stdout",
       "text": [
        "\n",
        "Minibatch loss at step"
       ]
      },
      {
       "output_type": "stream",
       "stream": "stdout",
       "text": [
        " 7000 : 10.5712\n",
        "Minibatch accuracy: 18.8%\n",
        "Validation accuracy at step 7000: 22.9%"
       ]
      },
      {
       "output_type": "stream",
       "stream": "stdout",
       "text": [
        "\n",
        "Minibatch loss at step"
       ]
      },
      {
       "output_type": "stream",
       "stream": "stdout",
       "text": [
        " 8000 : 11.3504\n",
        "Minibatch accuracy: 28.1%\n",
        "Validation accuracy at step 8000: 26.3%"
       ]
      },
      {
       "output_type": "stream",
       "stream": "stdout",
       "text": [
        "\n",
        "Minibatch loss at step"
       ]
      },
      {
       "output_type": "stream",
       "stream": "stdout",
       "text": [
        " 9000 : 9.46035\n",
        "Minibatch accuracy: 28.1%\n",
        "Validation accuracy at step 9000: 28.5%"
       ]
      },
      {
       "output_type": "stream",
       "stream": "stdout",
       "text": [
        "\n",
        "Minibatch loss at step"
       ]
      },
      {
       "output_type": "stream",
       "stream": "stdout",
       "text": [
        " 10000 : 10.0392\n",
        "Minibatch accuracy: 25.0%\n",
        "Validation accuracy at step 10000: 27.7%"
       ]
      },
      {
       "output_type": "stream",
       "stream": "stdout",
       "text": [
        "\n",
        "Test accuracy at step 10000: 26.9%"
       ]
      },
      {
       "output_type": "stream",
       "stream": "stdout",
       "text": [
        "\n",
        "Minibatch loss at step"
       ]
      },
      {
       "output_type": "stream",
       "stream": "stdout",
       "text": [
        " 11000 : 10.1175\n",
        "Minibatch accuracy: 15.6%\n",
        "Validation accuracy at step 11000: 27.3%"
       ]
      },
      {
       "output_type": "stream",
       "stream": "stdout",
       "text": [
        "\n",
        "Minibatch loss at step"
       ]
      },
      {
       "output_type": "stream",
       "stream": "stdout",
       "text": [
        " 12000 : 10.3211\n",
        "Minibatch accuracy: 34.4%\n",
        "Validation accuracy at step 12000: 30.2%"
       ]
      },
      {
       "output_type": "stream",
       "stream": "stdout",
       "text": [
        "\n",
        "Minibatch loss at step"
       ]
      },
      {
       "output_type": "stream",
       "stream": "stdout",
       "text": [
        " 13000 : 10.2528\n",
        "Minibatch accuracy: 15.6%\n",
        "Validation accuracy at step 13000: 29.6%"
       ]
      },
      {
       "output_type": "stream",
       "stream": "stdout",
       "text": [
        "\n",
        "Minibatch loss at step"
       ]
      },
      {
       "output_type": "stream",
       "stream": "stdout",
       "text": [
        " 14000 : 10.1748\n",
        "Minibatch accuracy: 18.8%\n",
        "Validation accuracy at step 14000: 26.3%"
       ]
      },
      {
       "output_type": "stream",
       "stream": "stdout",
       "text": [
        "\n",
        "Minibatch loss at step"
       ]
      },
      {
       "output_type": "stream",
       "stream": "stdout",
       "text": [
        " 15000 : 9.44534\n",
        "Minibatch accuracy: 21.9%\n",
        "Validation accuracy at step 15000: 28.6%"
       ]
      },
      {
       "output_type": "stream",
       "stream": "stdout",
       "text": [
        "\n",
        "Test accuracy at step 15000: 28.6%"
       ]
      },
      {
       "output_type": "stream",
       "stream": "stdout",
       "text": [
        "\n",
        "Minibatch loss at step"
       ]
      },
      {
       "output_type": "stream",
       "stream": "stdout",
       "text": [
        " 16000 : 8.65917\n",
        "Minibatch accuracy: 31.2%\n",
        "Validation accuracy at step 16000: 32.1%"
       ]
      },
      {
       "output_type": "stream",
       "stream": "stdout",
       "text": [
        "\n",
        "Minibatch loss at step"
       ]
      },
      {
       "output_type": "stream",
       "stream": "stdout",
       "text": [
        " 17000 : 8.34556\n",
        "Minibatch accuracy: 53.1%\n",
        "Validation accuracy at step 17000: 32.1%"
       ]
      },
      {
       "output_type": "stream",
       "stream": "stdout",
       "text": [
        "\n",
        "Minibatch loss at step"
       ]
      },
      {
       "output_type": "stream",
       "stream": "stdout",
       "text": [
        " 18000 : 8.35115\n",
        "Minibatch accuracy: 31.2%\n",
        "Validation accuracy at step 18000: 33.9%"
       ]
      },
      {
       "output_type": "stream",
       "stream": "stdout",
       "text": [
        "\n",
        "Minibatch loss at step"
       ]
      },
      {
       "output_type": "stream",
       "stream": "stdout",
       "text": [
        " 19000 : 8.29785\n",
        "Minibatch accuracy: 37.5%\n",
        "Validation accuracy at step 19000: 31.6%"
       ]
      },
      {
       "output_type": "stream",
       "stream": "stdout",
       "text": [
        "\n",
        "Minibatch loss at step"
       ]
      },
      {
       "output_type": "stream",
       "stream": "stdout",
       "text": [
        " 20000 : 8.19641\n",
        "Minibatch accuracy: 37.5%\n",
        "Validation accuracy at step 20000: 31.6%"
       ]
      },
      {
       "output_type": "stream",
       "stream": "stdout",
       "text": [
        "\n",
        "Test accuracy at step 20000: 32.0%"
       ]
      },
      {
       "output_type": "stream",
       "stream": "stdout",
       "text": [
        "\n",
        "Minibatch loss at step"
       ]
      },
      {
       "output_type": "stream",
       "stream": "stdout",
       "text": [
        " 21000 : 8.4319\n",
        "Minibatch accuracy: 28.1%\n",
        "Validation accuracy at step 21000: 32.3%"
       ]
      },
      {
       "output_type": "stream",
       "stream": "stdout",
       "text": [
        "\n",
        "Minibatch loss at step"
       ]
      },
      {
       "output_type": "stream",
       "stream": "stdout",
       "text": [
        " 22000 : 8.1551\n",
        "Minibatch accuracy: 40.6%\n",
        "Validation accuracy at step 22000: 32.6%"
       ]
      },
      {
       "output_type": "stream",
       "stream": "stdout",
       "text": [
        "\n",
        "Minibatch loss at step"
       ]
      },
      {
       "output_type": "stream",
       "stream": "stdout",
       "text": [
        " 23000 : 8.04688\n",
        "Minibatch accuracy: 31.2%\n",
        "Validation accuracy at step 23000: 35.7%"
       ]
      },
      {
       "output_type": "stream",
       "stream": "stdout",
       "text": [
        "\n",
        "Minibatch loss at step"
       ]
      },
      {
       "output_type": "stream",
       "stream": "stdout",
       "text": [
        " 24000 : 8.01273\n",
        "Minibatch accuracy: 31.2%\n",
        "Validation accuracy at step 24000: 35.6%"
       ]
      },
      {
       "output_type": "stream",
       "stream": "stdout",
       "text": [
        "\n",
        "Minibatch loss at step"
       ]
      },
      {
       "output_type": "stream",
       "stream": "stdout",
       "text": [
        " 25000 : 7.86946\n",
        "Minibatch accuracy: 40.6%\n",
        "Validation accuracy at step 25000: 34.1%"
       ]
      },
      {
       "output_type": "stream",
       "stream": "stdout",
       "text": [
        "\n",
        "Test accuracy at step 25000: 34.0%"
       ]
      },
      {
       "output_type": "stream",
       "stream": "stdout",
       "text": [
        "\n",
        "Minibatch loss at step"
       ]
      },
      {
       "output_type": "stream",
       "stream": "stdout",
       "text": [
        " 26000 : 7.55967\n",
        "Minibatch accuracy: 40.6%\n",
        "Validation accuracy at step 26000: 35.3%"
       ]
      },
      {
       "output_type": "stream",
       "stream": "stdout",
       "text": [
        "\n",
        "Minibatch loss at step"
       ]
      },
      {
       "output_type": "stream",
       "stream": "stdout",
       "text": [
        " 27000 : 7.14515\n",
        "Minibatch accuracy: 46.9%\n",
        "Validation accuracy at step 27000: 34.2%"
       ]
      },
      {
       "output_type": "stream",
       "stream": "stdout",
       "text": [
        "\n",
        "Minibatch loss at step"
       ]
      },
      {
       "output_type": "stream",
       "stream": "stdout",
       "text": [
        " 28000 : 7.73639\n",
        "Minibatch accuracy: 34.4%\n",
        "Validation accuracy at step 28000: 35.9%"
       ]
      },
      {
       "output_type": "stream",
       "stream": "stdout",
       "text": [
        "\n",
        "Minibatch loss at step"
       ]
      },
      {
       "output_type": "stream",
       "stream": "stdout",
       "text": [
        " 29000 : 7.87948\n",
        "Minibatch accuracy: 28.1%\n",
        "Validation accuracy at step 29000: 35.6%"
       ]
      },
      {
       "output_type": "stream",
       "stream": "stdout",
       "text": [
        "\n",
        "Minibatch loss at step"
       ]
      },
      {
       "output_type": "stream",
       "stream": "stdout",
       "text": [
        " 30000 : 7.84457\n",
        "Minibatch accuracy: 25.0%\n",
        "Validation accuracy at step 30000: 33.4%"
       ]
      },
      {
       "output_type": "stream",
       "stream": "stdout",
       "text": [
        "\n",
        "Test accuracy at step 30000: 33.8%"
       ]
      },
      {
       "output_type": "stream",
       "stream": "stdout",
       "text": [
        "\n",
        "Minibatch loss at step"
       ]
      },
      {
       "output_type": "stream",
       "stream": "stdout",
       "text": [
        " 31000 : 7.35326\n",
        "Minibatch accuracy: 37.5%\n",
        "Validation accuracy at step 31000: 34.6%"
       ]
      },
      {
       "output_type": "stream",
       "stream": "stdout",
       "text": [
        "\n",
        "Minibatch loss at step"
       ]
      },
      {
       "output_type": "stream",
       "stream": "stdout",
       "text": [
        " 32000 : 7.4716\n",
        "Minibatch accuracy: 40.6%\n",
        "Validation accuracy at step 32000: 34.8%"
       ]
      },
      {
       "output_type": "stream",
       "stream": "stdout",
       "text": [
        "\n",
        "Minibatch loss at step"
       ]
      },
      {
       "output_type": "stream",
       "stream": "stdout",
       "text": [
        " 33000 : 7.09757\n",
        "Minibatch accuracy: 46.9%\n",
        "Validation accuracy at step 33000: 34.3%"
       ]
      },
      {
       "output_type": "stream",
       "stream": "stdout",
       "text": [
        "\n",
        "Minibatch loss at step"
       ]
      },
      {
       "output_type": "stream",
       "stream": "stdout",
       "text": [
        " 34000 : 7.28866\n",
        "Minibatch accuracy: 46.9%\n",
        "Validation accuracy at step 34000: 36.2%"
       ]
      },
      {
       "output_type": "stream",
       "stream": "stdout",
       "text": [
        "\n",
        "Minibatch loss at step"
       ]
      },
      {
       "output_type": "stream",
       "stream": "stdout",
       "text": [
        " 35000 : 6.9993\n",
        "Minibatch accuracy: 31.2%\n",
        "Validation accuracy at step 35000: 38.7%"
       ]
      },
      {
       "output_type": "stream",
       "stream": "stdout",
       "text": [
        "\n",
        "Test accuracy at step 35000: 38.9%"
       ]
      },
      {
       "output_type": "stream",
       "stream": "stdout",
       "text": [
        "\n",
        "Minibatch loss at step"
       ]
      },
      {
       "output_type": "stream",
       "stream": "stdout",
       "text": [
        " 36000 : 7.99035\n",
        "Minibatch accuracy: 28.1%\n",
        "Validation accuracy at step 36000: 35.3%"
       ]
      },
      {
       "output_type": "stream",
       "stream": "stdout",
       "text": [
        "\n",
        "Minibatch loss at step"
       ]
      },
      {
       "output_type": "stream",
       "stream": "stdout",
       "text": [
        " 37000 : 6.78491\n",
        "Minibatch accuracy: 43.8%\n",
        "Validation accuracy at step 37000: 36.5%"
       ]
      },
      {
       "output_type": "stream",
       "stream": "stdout",
       "text": [
        "\n",
        "Minibatch loss at step"
       ]
      },
      {
       "output_type": "stream",
       "stream": "stdout",
       "text": [
        " 38000 : 6.98465\n",
        "Minibatch accuracy: 43.8%\n",
        "Validation accuracy at step 38000: 37.9%"
       ]
      },
      {
       "output_type": "stream",
       "stream": "stdout",
       "text": [
        "\n",
        "Minibatch loss at step"
       ]
      },
      {
       "output_type": "stream",
       "stream": "stdout",
       "text": [
        " 39000 : 7.50681\n",
        "Minibatch accuracy: 25.0%\n",
        "Validation accuracy at step 39000: 36.2%"
       ]
      },
      {
       "output_type": "stream",
       "stream": "stdout",
       "text": [
        "\n",
        "Minibatch loss at step"
       ]
      },
      {
       "output_type": "stream",
       "stream": "stdout",
       "text": [
        " 40000 : 6.78107\n",
        "Minibatch accuracy: 40.6%\n",
        "Validation accuracy at step 40000: 38.0%"
       ]
      },
      {
       "output_type": "stream",
       "stream": "stdout",
       "text": [
        "\n",
        "Test accuracy at step 40000: 37.9%"
       ]
      },
      {
       "output_type": "stream",
       "stream": "stdout",
       "text": [
        "\n",
        "Minibatch loss at step"
       ]
      },
      {
       "output_type": "stream",
       "stream": "stdout",
       "text": [
        " 41000 : 6.67216\n",
        "Minibatch accuracy: 31.2%\n",
        "Validation accuracy at step 41000: 37.1%"
       ]
      },
      {
       "output_type": "stream",
       "stream": "stdout",
       "text": [
        "\n",
        "Minibatch loss at step"
       ]
      },
      {
       "output_type": "stream",
       "stream": "stdout",
       "text": [
        " 42000 : 6.90985\n",
        "Minibatch accuracy: 21.9%\n",
        "Validation accuracy at step 42000: 38.0%"
       ]
      },
      {
       "output_type": "stream",
       "stream": "stdout",
       "text": [
        "\n",
        "Minibatch loss at step"
       ]
      },
      {
       "output_type": "stream",
       "stream": "stdout",
       "text": [
        " 43000 : 6.69252\n",
        "Minibatch accuracy: 50.0%\n",
        "Validation accuracy at step 43000: 37.6%"
       ]
      },
      {
       "output_type": "stream",
       "stream": "stdout",
       "text": [
        "\n",
        "Minibatch loss at step"
       ]
      },
      {
       "output_type": "stream",
       "stream": "stdout",
       "text": [
        " 44000 : 6.52012\n",
        "Minibatch accuracy: 43.8%\n",
        "Validation accuracy at step 44000: 38.5%"
       ]
      },
      {
       "output_type": "stream",
       "stream": "stdout",
       "text": [
        "\n",
        "Minibatch loss at step"
       ]
      },
      {
       "output_type": "stream",
       "stream": "stdout",
       "text": [
        " 45000 : 6.35587\n",
        "Minibatch accuracy: 46.9%\n",
        "Validation accuracy at step 45000: 40.9%"
       ]
      },
      {
       "output_type": "stream",
       "stream": "stdout",
       "text": [
        "\n",
        "Test accuracy at step 45000: 41.0%"
       ]
      },
      {
       "output_type": "stream",
       "stream": "stdout",
       "text": [
        "\n",
        "Minibatch loss at step"
       ]
      },
      {
       "output_type": "stream",
       "stream": "stdout",
       "text": [
        " 46000 : 6.29486\n",
        "Minibatch accuracy: 25.0%\n",
        "Validation accuracy at step 46000: 40.6%"
       ]
      },
      {
       "output_type": "stream",
       "stream": "stdout",
       "text": [
        "\n",
        "Minibatch loss at step"
       ]
      },
      {
       "output_type": "stream",
       "stream": "stdout",
       "text": [
        " 47000 : 6.31308\n",
        "Minibatch accuracy: 46.9%\n",
        "Validation accuracy at step 47000: 38.2%"
       ]
      },
      {
       "output_type": "stream",
       "stream": "stdout",
       "text": [
        "\n",
        "Minibatch loss at step"
       ]
      },
      {
       "output_type": "stream",
       "stream": "stdout",
       "text": [
        " 48000 : 6.21632\n",
        "Minibatch accuracy: 50.0%\n",
        "Validation accuracy at step 48000: 37.0%"
       ]
      },
      {
       "output_type": "stream",
       "stream": "stdout",
       "text": [
        "\n",
        "Minibatch loss at step"
       ]
      },
      {
       "output_type": "stream",
       "stream": "stdout",
       "text": [
        " 49000 : 6.1232\n",
        "Minibatch accuracy: 37.5%\n",
        "Validation accuracy at step 49000: 38.4%"
       ]
      },
      {
       "output_type": "stream",
       "stream": "stdout",
       "text": [
        "\n",
        "Minibatch loss at step"
       ]
      },
      {
       "output_type": "stream",
       "stream": "stdout",
       "text": [
        " 50000 : 6.42269\n",
        "Minibatch accuracy: 31.2%\n",
        "Validation accuracy at step 50000: 39.0%"
       ]
      },
      {
       "output_type": "stream",
       "stream": "stdout",
       "text": [
        "\n",
        "Test accuracy at step 50000: 39.0%"
       ]
      },
      {
       "output_type": "stream",
       "stream": "stdout",
       "text": [
        "\n",
        "Minibatch loss at step"
       ]
      },
      {
       "output_type": "stream",
       "stream": "stdout",
       "text": [
        " 51000 : 6.47484\n",
        "Minibatch accuracy: 21.9%\n",
        "Validation accuracy at step 51000: 39.7%"
       ]
      },
      {
       "output_type": "stream",
       "stream": "stdout",
       "text": [
        "\n",
        "Minibatch loss at step"
       ]
      },
      {
       "output_type": "stream",
       "stream": "stdout",
       "text": [
        " 52000 : 6.10868\n",
        "Minibatch accuracy: 43.8%\n",
        "Validation accuracy at step 52000: 39.6%"
       ]
      },
      {
       "output_type": "stream",
       "stream": "stdout",
       "text": [
        "\n",
        "Minibatch loss at step"
       ]
      },
      {
       "output_type": "stream",
       "stream": "stdout",
       "text": [
        " 53000 : 5.89522\n",
        "Minibatch accuracy: 43.8%\n",
        "Validation accuracy at step 53000: 40.6%"
       ]
      },
      {
       "output_type": "stream",
       "stream": "stdout",
       "text": [
        "\n",
        "Minibatch loss at step"
       ]
      },
      {
       "output_type": "stream",
       "stream": "stdout",
       "text": [
        " 54000 : 6.24957\n",
        "Minibatch accuracy: 34.4%\n",
        "Validation accuracy at step 54000: 40.2%"
       ]
      },
      {
       "output_type": "stream",
       "stream": "stdout",
       "text": [
        "\n",
        "Minibatch loss at step"
       ]
      },
      {
       "output_type": "stream",
       "stream": "stdout",
       "text": [
        " 55000 : 5.88161\n",
        "Minibatch accuracy: 46.9%\n",
        "Validation accuracy at step 55000: 40.7%"
       ]
      },
      {
       "output_type": "stream",
       "stream": "stdout",
       "text": [
        "\n",
        "Test accuracy at step 55000: 40.8%"
       ]
      },
      {
       "output_type": "stream",
       "stream": "stdout",
       "text": [
        "\n",
        "Minibatch loss at step"
       ]
      },
      {
       "output_type": "stream",
       "stream": "stdout",
       "text": [
        " 56000 : 6.15833\n",
        "Minibatch accuracy: 37.5%\n",
        "Validation accuracy at step 56000: 40.0%"
       ]
      },
      {
       "output_type": "stream",
       "stream": "stdout",
       "text": [
        "\n",
        "Minibatch loss at step"
       ]
      },
      {
       "output_type": "stream",
       "stream": "stdout",
       "text": [
        " 57000 : 6.34244\n",
        "Minibatch accuracy: 25.0%\n",
        "Validation accuracy at step 57000: 38.3%"
       ]
      },
      {
       "output_type": "stream",
       "stream": "stdout",
       "text": [
        "\n",
        "Minibatch loss at step"
       ]
      },
      {
       "output_type": "stream",
       "stream": "stdout",
       "text": [
        " 58000 : 5.95043\n",
        "Minibatch accuracy: 34.4%\n",
        "Validation accuracy at step 58000: 37.8%"
       ]
      },
      {
       "output_type": "stream",
       "stream": "stdout",
       "text": [
        "\n",
        "Minibatch loss at step"
       ]
      },
      {
       "output_type": "stream",
       "stream": "stdout",
       "text": [
        " 59000 : 5.68147\n",
        "Minibatch accuracy: 43.8%\n",
        "Validation accuracy at step 59000: 39.5%"
       ]
      },
      {
       "output_type": "stream",
       "stream": "stdout",
       "text": [
        "\n",
        "Minibatch loss at step"
       ]
      },
      {
       "output_type": "stream",
       "stream": "stdout",
       "text": [
        " 60000 : 5.84618\n",
        "Minibatch accuracy: 25.0%\n",
        "Validation accuracy at step 60000: 41.7%"
       ]
      },
      {
       "output_type": "stream",
       "stream": "stdout",
       "text": [
        "\n",
        "Test accuracy at step 60000: 41.7%"
       ]
      },
      {
       "output_type": "stream",
       "stream": "stdout",
       "text": [
        "\n",
        "Minibatch loss at step"
       ]
      },
      {
       "output_type": "stream",
       "stream": "stdout",
       "text": [
        " 61000 : 5.72719\n",
        "Minibatch accuracy: 37.5%\n",
        "Validation accuracy at step 61000: 42.2%"
       ]
      },
      {
       "output_type": "stream",
       "stream": "stdout",
       "text": [
        "\n",
        "Minibatch loss at step"
       ]
      },
      {
       "output_type": "stream",
       "stream": "stdout",
       "text": [
        " 62000 : 5.42724\n",
        "Minibatch accuracy: 46.9%\n",
        "Validation accuracy at step 62000: 41.5%"
       ]
      },
      {
       "output_type": "stream",
       "stream": "stdout",
       "text": [
        "\n",
        "Minibatch loss at step"
       ]
      },
      {
       "output_type": "stream",
       "stream": "stdout",
       "text": [
        " 63000 : 5.46691\n",
        "Minibatch accuracy: 56.2%\n",
        "Validation accuracy at step 63000: 40.0%"
       ]
      },
      {
       "output_type": "stream",
       "stream": "stdout",
       "text": [
        "\n",
        "Minibatch loss at step"
       ]
      },
      {
       "output_type": "stream",
       "stream": "stdout",
       "text": [
        " 64000 : 5.55758\n",
        "Minibatch accuracy: 46.9%\n",
        "Validation accuracy at step 64000: 41.8%"
       ]
      },
      {
       "output_type": "stream",
       "stream": "stdout",
       "text": [
        "\n",
        "Minibatch loss at step"
       ]
      },
      {
       "output_type": "stream",
       "stream": "stdout",
       "text": [
        " 65000 : 5.52898\n",
        "Minibatch accuracy: 40.6%\n",
        "Validation accuracy at step 65000: 41.4%"
       ]
      },
      {
       "output_type": "stream",
       "stream": "stdout",
       "text": [
        "\n",
        "Test accuracy at step 65000: 41.7%"
       ]
      },
      {
       "output_type": "stream",
       "stream": "stdout",
       "text": [
        "\n",
        "Minibatch loss at step"
       ]
      },
      {
       "output_type": "stream",
       "stream": "stdout",
       "text": [
        " 66000 : 5.78168\n",
        "Minibatch accuracy: 43.8%\n",
        "Validation accuracy at step 66000: 38.5%"
       ]
      },
      {
       "output_type": "stream",
       "stream": "stdout",
       "text": [
        "\n",
        "Minibatch loss at step"
       ]
      },
      {
       "output_type": "stream",
       "stream": "stdout",
       "text": [
        " 67000 : 5.52025\n",
        "Minibatch accuracy: 50.0%\n",
        "Validation accuracy at step 67000: 38.9%"
       ]
      },
      {
       "output_type": "stream",
       "stream": "stdout",
       "text": [
        "\n",
        "Minibatch loss at step"
       ]
      },
      {
       "output_type": "stream",
       "stream": "stdout",
       "text": [
        " 68000 : 5.31573\n",
        "Minibatch accuracy: 56.2%\n",
        "Validation accuracy at step 68000: 41.3%"
       ]
      },
      {
       "output_type": "stream",
       "stream": "stdout",
       "text": [
        "\n",
        "Minibatch loss at step"
       ]
      },
      {
       "output_type": "stream",
       "stream": "stdout",
       "text": [
        " 69000 : 5.31359\n",
        "Minibatch accuracy: 46.9%\n",
        "Validation accuracy at step 69000: 38.8%"
       ]
      },
      {
       "output_type": "stream",
       "stream": "stdout",
       "text": [
        "\n",
        "Minibatch loss at step"
       ]
      },
      {
       "output_type": "stream",
       "stream": "stdout",
       "text": [
        " 70000 : 5.43366\n",
        "Minibatch accuracy: 43.8%\n",
        "Validation accuracy at step 70000: 41.1%"
       ]
      },
      {
       "output_type": "stream",
       "stream": "stdout",
       "text": [
        "\n",
        "Test accuracy at step 70000: 41.4%"
       ]
      },
      {
       "output_type": "stream",
       "stream": "stdout",
       "text": [
        "\n",
        "Minibatch loss at step"
       ]
      },
      {
       "output_type": "stream",
       "stream": "stdout",
       "text": [
        " 71000 : 5.3731\n",
        "Minibatch accuracy: 40.6%\n",
        "Validation accuracy at step 71000: 42.0%"
       ]
      },
      {
       "output_type": "stream",
       "stream": "stdout",
       "text": [
        "\n",
        "Minibatch loss at step"
       ]
      },
      {
       "output_type": "stream",
       "stream": "stdout",
       "text": [
        " 72000 : 5.10335\n",
        "Minibatch accuracy: 53.1%\n",
        "Validation accuracy at step 72000: 40.6%"
       ]
      },
      {
       "output_type": "stream",
       "stream": "stdout",
       "text": [
        "\n",
        "Minibatch loss at step"
       ]
      },
      {
       "output_type": "stream",
       "stream": "stdout",
       "text": [
        " 73000 : 5.3401\n",
        "Minibatch accuracy: 34.4%\n",
        "Validation accuracy at step 73000: 43.1%"
       ]
      },
      {
       "output_type": "stream",
       "stream": "stdout",
       "text": [
        "\n",
        "Minibatch loss at step"
       ]
      },
      {
       "output_type": "stream",
       "stream": "stdout",
       "text": [
        " 74000 : 5.1051\n",
        "Minibatch accuracy: 46.9%\n",
        "Validation accuracy at step 74000: 42.5%"
       ]
      },
      {
       "output_type": "stream",
       "stream": "stdout",
       "text": [
        "\n",
        "Minibatch loss at step"
       ]
      },
      {
       "output_type": "stream",
       "stream": "stdout",
       "text": [
        " 75000 : 5.22435\n",
        "Minibatch accuracy: 37.5%\n",
        "Validation accuracy at step 75000: 42.3%"
       ]
      },
      {
       "output_type": "stream",
       "stream": "stdout",
       "text": [
        "\n",
        "Test accuracy at step 75000: 42.1%"
       ]
      },
      {
       "output_type": "stream",
       "stream": "stdout",
       "text": [
        "\n",
        "Minibatch loss at step"
       ]
      },
      {
       "output_type": "stream",
       "stream": "stdout",
       "text": [
        " 76000 : 5.30697\n",
        "Minibatch accuracy: 37.5%\n",
        "Validation accuracy at step 76000: 41.6%"
       ]
      },
      {
       "output_type": "stream",
       "stream": "stdout",
       "text": [
        "\n",
        "Minibatch loss at step"
       ]
      },
      {
       "output_type": "stream",
       "stream": "stdout",
       "text": [
        " 77000 : 4.99215\n",
        "Minibatch accuracy: 46.9%\n",
        "Validation accuracy at step 77000: 42.8%"
       ]
      },
      {
       "output_type": "stream",
       "stream": "stdout",
       "text": [
        "\n",
        "Minibatch loss at step"
       ]
      },
      {
       "output_type": "stream",
       "stream": "stdout",
       "text": [
        " 78000 : 5.16238\n",
        "Minibatch accuracy: 31.2%\n",
        "Validation accuracy at step 78000: 41.7%"
       ]
      },
      {
       "output_type": "stream",
       "stream": "stdout",
       "text": [
        "\n",
        "Minibatch loss at step"
       ]
      },
      {
       "output_type": "stream",
       "stream": "stdout",
       "text": [
        " 79000 : 5.07566\n",
        "Minibatch accuracy: 37.5%\n",
        "Validation accuracy at step 79000: 43.1%"
       ]
      },
      {
       "output_type": "stream",
       "stream": "stdout",
       "text": [
        "\n",
        "Minibatch loss at step"
       ]
      },
      {
       "output_type": "stream",
       "stream": "stdout",
       "text": [
        " 80000 : 4.77373\n",
        "Minibatch accuracy: 43.8%\n",
        "Validation accuracy at step 80000: 43.2%"
       ]
      },
      {
       "output_type": "stream",
       "stream": "stdout",
       "text": [
        "\n",
        "Test accuracy at step 80000: 43.1%"
       ]
      },
      {
       "output_type": "stream",
       "stream": "stdout",
       "text": [
        "\n",
        "Minibatch loss at step"
       ]
      },
      {
       "output_type": "stream",
       "stream": "stdout",
       "text": [
        " 81000 : 5.11215\n",
        "Minibatch accuracy: 43.8%\n",
        "Validation accuracy at step 81000: 41.7%"
       ]
      },
      {
       "output_type": "stream",
       "stream": "stdout",
       "text": [
        "\n",
        "Minibatch loss at step"
       ]
      },
      {
       "output_type": "stream",
       "stream": "stdout",
       "text": [
        " 82000 : 4.72766\n",
        "Minibatch accuracy: 46.9%\n",
        "Validation accuracy at step 82000: 42.7%"
       ]
      },
      {
       "output_type": "stream",
       "stream": "stdout",
       "text": [
        "\n",
        "Minibatch loss at step"
       ]
      },
      {
       "output_type": "stream",
       "stream": "stdout",
       "text": [
        " 83000 : 5.07922\n",
        "Minibatch accuracy: 37.5%\n",
        "Validation accuracy at step 83000: 42.5%"
       ]
      },
      {
       "output_type": "stream",
       "stream": "stdout",
       "text": [
        "\n",
        "Minibatch loss at step"
       ]
      },
      {
       "output_type": "stream",
       "stream": "stdout",
       "text": [
        " 84000 : 5.09179\n",
        "Minibatch accuracy: 37.5%\n",
        "Validation accuracy at step 84000: 41.8%"
       ]
      },
      {
       "output_type": "stream",
       "stream": "stdout",
       "text": [
        "\n",
        "Minibatch loss at step"
       ]
      },
      {
       "output_type": "stream",
       "stream": "stdout",
       "text": [
        " 85000 : 4.66535\n",
        "Minibatch accuracy: 46.9%\n",
        "Validation accuracy at step 85000: 44.5%"
       ]
      },
      {
       "output_type": "stream",
       "stream": "stdout",
       "text": [
        "\n",
        "Test accuracy at step 85000: 44.9%"
       ]
      },
      {
       "output_type": "stream",
       "stream": "stdout",
       "text": [
        "\n",
        "Minibatch loss at step"
       ]
      },
      {
       "output_type": "stream",
       "stream": "stdout",
       "text": [
        " 86000 : 4.68235\n",
        "Minibatch accuracy: 46.9%\n",
        "Validation accuracy at step 86000: 43.6%"
       ]
      },
      {
       "output_type": "stream",
       "stream": "stdout",
       "text": [
        "\n",
        "Minibatch loss at step"
       ]
      },
      {
       "output_type": "stream",
       "stream": "stdout",
       "text": [
        " 87000 : 4.49145\n",
        "Minibatch accuracy: 50.0%\n",
        "Validation accuracy at step 87000: 42.9%"
       ]
      },
      {
       "output_type": "stream",
       "stream": "stdout",
       "text": [
        "\n",
        "Minibatch loss at step"
       ]
      },
      {
       "output_type": "stream",
       "stream": "stdout",
       "text": [
        " 88000 : 4.6341\n",
        "Minibatch accuracy: 40.6%\n",
        "Validation accuracy at step 88000: 43.6%"
       ]
      },
      {
       "output_type": "stream",
       "stream": "stdout",
       "text": [
        "\n",
        "Minibatch loss at step"
       ]
      },
      {
       "output_type": "stream",
       "stream": "stdout",
       "text": [
        " 89000 : 4.5717\n",
        "Minibatch accuracy: 53.1%\n",
        "Validation accuracy at step 89000: 41.9%"
       ]
      },
      {
       "output_type": "stream",
       "stream": "stdout",
       "text": [
        "\n",
        "Minibatch loss at step"
       ]
      },
      {
       "output_type": "stream",
       "stream": "stdout",
       "text": [
        " 90000 : 4.87707\n",
        "Minibatch accuracy: 31.2%\n",
        "Validation accuracy at step 90000: 44.3%"
       ]
      },
      {
       "output_type": "stream",
       "stream": "stdout",
       "text": [
        "\n",
        "Test accuracy at step 90000: 44.0%"
       ]
      },
      {
       "output_type": "stream",
       "stream": "stdout",
       "text": [
        "\n",
        "Minibatch loss at step"
       ]
      },
      {
       "output_type": "stream",
       "stream": "stdout",
       "text": [
        " 91000 : 4.84826\n",
        "Minibatch accuracy: 40.6%\n",
        "Validation accuracy at step 91000: 44.4%"
       ]
      },
      {
       "output_type": "stream",
       "stream": "stdout",
       "text": [
        "\n",
        "Minibatch loss at step"
       ]
      },
      {
       "output_type": "stream",
       "stream": "stdout",
       "text": [
        " 92000 : 4.46969\n",
        "Minibatch accuracy: 40.6%\n",
        "Validation accuracy at step 92000: 44.0%"
       ]
      },
      {
       "output_type": "stream",
       "stream": "stdout",
       "text": [
        "\n",
        "Minibatch loss at step"
       ]
      },
      {
       "output_type": "stream",
       "stream": "stdout",
       "text": [
        " 93000 : 4.88783\n",
        "Minibatch accuracy: 31.2%\n",
        "Validation accuracy at step 93000: 43.9%"
       ]
      },
      {
       "output_type": "stream",
       "stream": "stdout",
       "text": [
        "\n",
        "Minibatch loss at step"
       ]
      },
      {
       "output_type": "stream",
       "stream": "stdout",
       "text": [
        " 94000 : 4.64717\n",
        "Minibatch accuracy: 34.4%\n",
        "Validation accuracy at step 94000: 44.5%"
       ]
      },
      {
       "output_type": "stream",
       "stream": "stdout",
       "text": [
        "\n",
        "Minibatch loss at step"
       ]
      },
      {
       "output_type": "stream",
       "stream": "stdout",
       "text": [
        " 95000 : 4.55931\n",
        "Minibatch accuracy: 37.5%\n",
        "Validation accuracy at step 95000: 44.0%"
       ]
      },
      {
       "output_type": "stream",
       "stream": "stdout",
       "text": [
        "\n",
        "Test accuracy at step 95000: 44.4%"
       ]
      },
      {
       "output_type": "stream",
       "stream": "stdout",
       "text": [
        "\n",
        "Minibatch loss at step"
       ]
      },
      {
       "output_type": "stream",
       "stream": "stdout",
       "text": [
        " 96000 : 4.84241\n",
        "Minibatch accuracy: 40.6%\n",
        "Validation accuracy at step 96000: 45.7%"
       ]
      },
      {
       "output_type": "stream",
       "stream": "stdout",
       "text": [
        "\n",
        "Minibatch loss at step"
       ]
      },
      {
       "output_type": "stream",
       "stream": "stdout",
       "text": [
        " 97000 : 4.50249\n",
        "Minibatch accuracy: 46.9%\n",
        "Validation accuracy at step 97000: 45.0%"
       ]
      },
      {
       "output_type": "stream",
       "stream": "stdout",
       "text": [
        "\n",
        "Minibatch loss at step"
       ]
      },
      {
       "output_type": "stream",
       "stream": "stdout",
       "text": [
        " 98000 : 4.3653\n",
        "Minibatch accuracy: 59.4%\n",
        "Validation accuracy at step 98000: 43.4%"
       ]
      },
      {
       "output_type": "stream",
       "stream": "stdout",
       "text": [
        "\n",
        "Minibatch loss at step"
       ]
      },
      {
       "output_type": "stream",
       "stream": "stdout",
       "text": [
        " 99000 : 4.43879\n",
        "Minibatch accuracy: 40.6%\n",
        "Validation accuracy at step 99000: 43.7%"
       ]
      },
      {
       "output_type": "stream",
       "stream": "stdout",
       "text": [
        "\n",
        "Minibatch loss at step"
       ]
      },
      {
       "output_type": "stream",
       "stream": "stdout",
       "text": [
        " 100000 : 4.35159\n",
        "Minibatch accuracy: 46.9%\n",
        "Validation accuracy at step 100000: 45.2%"
       ]
      },
      {
       "output_type": "stream",
       "stream": "stdout",
       "text": [
        "\n",
        "Test accuracy at step 100000: 45.1%\n"
       ]
      },
      {
       "output_type": "stream",
       "stream": "stdout",
       "text": [
        "\n",
        "Elapsed time: 1.59629146364 hours\n",
        "The best validation accuracy was 45.74 at step 96000"
       ]
      },
      {
       "output_type": "stream",
       "stream": "stdout",
       "text": [
        "\n",
        "The best test accuracy was 45.14 at step 100000\n"
       ]
      }
     ],
     "prompt_number": 27
    },
    {
     "cell_type": "code",
     "collapsed": false,
     "input": [
      "# Smaller learning rate with twice as many steps\n",
      "model = create_inception_module_model(learning_rate = 0.000125, l2_lambda = 0.025, feature_maps = 26, initialised_weights_stddev = 0.5, decay_steps = 10000, decay_rate = 0.96)\n",
      "steps_to_validation_predictions, steps_to_test_predictions = train_model(model, 200001, dropout_keep_prob = 0.9)\n",
      "correct_prediction_indexes, incorrect_prediction_indexes = visualise_accuracies(steps_to_validation_predictions, steps_to_test_predictions)"
     ],
     "language": "python",
     "metadata": {},
     "outputs": [
      {
       "output_type": "stream",
       "stream": "stdout",
       "text": [
        "Initialized\n",
        "Minibatch loss at step"
       ]
      },
      {
       "output_type": "stream",
       "stream": "stdout",
       "text": [
        " 0 : 606.286\n",
        "Minibatch accuracy: 6.2%\n",
        "Validation accuracy at step 0: 10.2%"
       ]
      },
      {
       "output_type": "stream",
       "stream": "stdout",
       "text": [
        "\n",
        "Minibatch loss at step"
       ]
      },
      {
       "output_type": "stream",
       "stream": "stdout",
       "text": [
        " 1000 : 22.5646\n",
        "Minibatch accuracy: 21.9%\n",
        "Validation accuracy at step 1000: 17.0%"
       ]
      },
      {
       "output_type": "stream",
       "stream": "stdout",
       "text": [
        "\n",
        "Minibatch loss at step"
       ]
      },
      {
       "output_type": "stream",
       "stream": "stdout",
       "text": [
        " 2000 : 19.8021\n",
        "Minibatch accuracy: 9.4%\n",
        "Validation accuracy at step 2000: 18.2%"
       ]
      },
      {
       "output_type": "stream",
       "stream": "stdout",
       "text": [
        "\n",
        "Minibatch loss at step"
       ]
      },
      {
       "output_type": "stream",
       "stream": "stdout",
       "text": [
        " 3000 : 15.9605\n",
        "Minibatch accuracy: 18.8%\n",
        "Validation accuracy at step 3000: 21.5%"
       ]
      },
      {
       "output_type": "stream",
       "stream": "stdout",
       "text": [
        "\n",
        "Minibatch loss at step"
       ]
      },
      {
       "output_type": "stream",
       "stream": "stdout",
       "text": [
        " 4000 : 15.0946\n",
        "Minibatch accuracy: 12.5%\n",
        "Validation accuracy at step 4000: 22.4%"
       ]
      },
      {
       "output_type": "stream",
       "stream": "stdout",
       "text": [
        "\n",
        "Minibatch loss at step"
       ]
      },
      {
       "output_type": "stream",
       "stream": "stdout",
       "text": [
        " 5000 : 11.5759\n",
        "Minibatch accuracy: 18.8%\n",
        "Validation accuracy at step 5000: 22.3%"
       ]
      },
      {
       "output_type": "stream",
       "stream": "stdout",
       "text": [
        "\n",
        "Test accuracy at step 5000: 22.4%"
       ]
      },
      {
       "output_type": "stream",
       "stream": "stdout",
       "text": [
        "\n",
        "Minibatch loss at step"
       ]
      },
      {
       "output_type": "stream",
       "stream": "stdout",
       "text": [
        " 6000 : 10.8389\n",
        "Minibatch accuracy: 31.2%\n",
        "Validation accuracy at step 6000: 23.6%"
       ]
      },
      {
       "output_type": "stream",
       "stream": "stdout",
       "text": [
        "\n",
        "Minibatch loss at step"
       ]
      },
      {
       "output_type": "stream",
       "stream": "stdout",
       "text": [
        " 7000 : 12.0129\n",
        "Minibatch accuracy: 15.6%\n",
        "Validation accuracy at step 7000: 19.3%"
       ]
      },
      {
       "output_type": "stream",
       "stream": "stdout",
       "text": [
        "\n",
        "Minibatch loss at step"
       ]
      },
      {
       "output_type": "stream",
       "stream": "stdout",
       "text": [
        " 8000 : 12.2672\n",
        "Minibatch accuracy: 28.1%\n",
        "Validation accuracy at step 8000: 25.6%"
       ]
      },
      {
       "output_type": "stream",
       "stream": "stdout",
       "text": [
        "\n",
        "Minibatch loss at step"
       ]
      },
      {
       "output_type": "stream",
       "stream": "stdout",
       "text": [
        " 9000 : 10.7511\n",
        "Minibatch accuracy: 37.5%\n",
        "Validation accuracy at step 9000: 23.7%"
       ]
      },
      {
       "output_type": "stream",
       "stream": "stdout",
       "text": [
        "\n",
        "Minibatch loss at step"
       ]
      },
      {
       "output_type": "stream",
       "stream": "stdout",
       "text": [
        " 10000 : 11.2593\n",
        "Minibatch accuracy: 25.0%\n",
        "Validation accuracy at step 10000: 21.8%"
       ]
      },
      {
       "output_type": "stream",
       "stream": "stdout",
       "text": [
        "\n",
        "Test accuracy at step 10000: 23.0%"
       ]
      },
      {
       "output_type": "stream",
       "stream": "stdout",
       "text": [
        "\n",
        "Minibatch loss at step"
       ]
      },
      {
       "output_type": "stream",
       "stream": "stdout",
       "text": [
        " 11000 : 11.8895\n",
        "Minibatch accuracy: 21.9%\n",
        "Validation accuracy at step 11000: 25.2%"
       ]
      },
      {
       "output_type": "stream",
       "stream": "stdout",
       "text": [
        "\n",
        "Minibatch loss at step"
       ]
      },
      {
       "output_type": "stream",
       "stream": "stdout",
       "text": [
        " 12000 : 10.7527\n",
        "Minibatch accuracy: 28.1%\n",
        "Validation accuracy at step 12000: 24.3%"
       ]
      },
      {
       "output_type": "stream",
       "stream": "stdout",
       "text": [
        "\n",
        "Minibatch loss at step"
       ]
      },
      {
       "output_type": "stream",
       "stream": "stdout",
       "text": [
        " 13000 : 12.9532\n",
        "Minibatch accuracy: 15.6%\n",
        "Validation accuracy at step 13000: 27.1%"
       ]
      },
      {
       "output_type": "stream",
       "stream": "stdout",
       "text": [
        "\n",
        "Minibatch loss at step"
       ]
      },
      {
       "output_type": "stream",
       "stream": "stdout",
       "text": [
        " 14000 : 11.6115\n",
        "Minibatch accuracy: 3.1%\n",
        "Validation accuracy at step 14000: 22.9%"
       ]
      },
      {
       "output_type": "stream",
       "stream": "stdout",
       "text": [
        "\n",
        "Minibatch loss at step"
       ]
      },
      {
       "output_type": "stream",
       "stream": "stdout",
       "text": [
        " 15000 : 9.61823\n",
        "Minibatch accuracy: 31.2%\n",
        "Validation accuracy at step 15000: 26.1%"
       ]
      },
      {
       "output_type": "stream",
       "stream": "stdout",
       "text": [
        "\n",
        "Test accuracy at step 15000: 27.3%"
       ]
      },
      {
       "output_type": "stream",
       "stream": "stdout",
       "text": [
        "\n",
        "Minibatch loss at step"
       ]
      },
      {
       "output_type": "stream",
       "stream": "stdout",
       "text": [
        " 16000 : 9.90346\n",
        "Minibatch accuracy: 31.2%\n",
        "Validation accuracy at step 16000: 26.5%"
       ]
      },
      {
       "output_type": "stream",
       "stream": "stdout",
       "text": [
        "\n",
        "Minibatch loss at step"
       ]
      },
      {
       "output_type": "stream",
       "stream": "stdout",
       "text": [
        " 17000 : 10.1106\n",
        "Minibatch accuracy: 28.1%\n",
        "Validation accuracy at step 17000: 29.9%"
       ]
      },
      {
       "output_type": "stream",
       "stream": "stdout",
       "text": [
        "\n",
        "Minibatch loss at step"
       ]
      },
      {
       "output_type": "stream",
       "stream": "stdout",
       "text": [
        " 18000 : 9.64151\n",
        "Minibatch accuracy: 21.9%\n",
        "Validation accuracy at step 18000: 29.1%"
       ]
      },
      {
       "output_type": "stream",
       "stream": "stdout",
       "text": [
        "\n",
        "Minibatch loss at step"
       ]
      },
      {
       "output_type": "stream",
       "stream": "stdout",
       "text": [
        " 19000 : 9.32262\n",
        "Minibatch accuracy: 46.9%\n",
        "Validation accuracy at step 19000: 26.5%"
       ]
      },
      {
       "output_type": "stream",
       "stream": "stdout",
       "text": [
        "\n",
        "Minibatch loss at step"
       ]
      },
      {
       "output_type": "stream",
       "stream": "stdout",
       "text": [
        " 20000 : 9.38327\n",
        "Minibatch accuracy: 28.1%\n",
        "Validation accuracy at step 20000: 22.0%"
       ]
      },
      {
       "output_type": "stream",
       "stream": "stdout",
       "text": [
        "\n",
        "Test accuracy at step 20000: 22.8%"
       ]
      },
      {
       "output_type": "stream",
       "stream": "stdout",
       "text": [
        "\n",
        "Minibatch loss at step"
       ]
      },
      {
       "output_type": "stream",
       "stream": "stdout",
       "text": [
        " 21000 : 9.05257\n",
        "Minibatch accuracy: 15.6%\n",
        "Validation accuracy at step 21000: 27.1%"
       ]
      },
      {
       "output_type": "stream",
       "stream": "stdout",
       "text": [
        "\n",
        "Minibatch loss at step"
       ]
      },
      {
       "output_type": "stream",
       "stream": "stdout",
       "text": [
        " 22000 : 9.60688\n",
        "Minibatch accuracy: 31.2%\n",
        "Validation accuracy at step 22000: 28.5%"
       ]
      },
      {
       "output_type": "stream",
       "stream": "stdout",
       "text": [
        "\n",
        "Minibatch loss at step"
       ]
      },
      {
       "output_type": "stream",
       "stream": "stdout",
       "text": [
        " 23000 : 9.32369\n",
        "Minibatch accuracy: 25.0%\n",
        "Validation accuracy at step 23000: 31.3%"
       ]
      },
      {
       "output_type": "stream",
       "stream": "stdout",
       "text": [
        "\n",
        "Minibatch loss at step"
       ]
      },
      {
       "output_type": "stream",
       "stream": "stdout",
       "text": [
        " 24000 : 9.38525\n",
        "Minibatch accuracy: 28.1%\n",
        "Validation accuracy at step 24000: 30.6%"
       ]
      },
      {
       "output_type": "stream",
       "stream": "stdout",
       "text": [
        "\n",
        "Minibatch loss at step"
       ]
      },
      {
       "output_type": "stream",
       "stream": "stdout",
       "text": [
        " 25000 : 9.02193\n",
        "Minibatch accuracy: 37.5%\n",
        "Validation accuracy at step 25000: 31.0%"
       ]
      },
      {
       "output_type": "stream",
       "stream": "stdout",
       "text": [
        "\n",
        "Test accuracy at step 25000: 31.6%"
       ]
      },
      {
       "output_type": "stream",
       "stream": "stdout",
       "text": [
        "\n",
        "Minibatch loss at step"
       ]
      },
      {
       "output_type": "stream",
       "stream": "stdout",
       "text": [
        " 26000 : 8.92648\n",
        "Minibatch accuracy: 37.5%\n",
        "Validation accuracy at step 26000: 30.9%"
       ]
      },
      {
       "output_type": "stream",
       "stream": "stdout",
       "text": [
        "\n",
        "Minibatch loss at step"
       ]
      },
      {
       "output_type": "stream",
       "stream": "stdout",
       "text": [
        " 27000 : 8.52887\n",
        "Minibatch accuracy: 40.6%\n",
        "Validation accuracy at step 27000: 30.8%"
       ]
      },
      {
       "output_type": "stream",
       "stream": "stdout",
       "text": [
        "\n",
        "Minibatch loss at step"
       ]
      },
      {
       "output_type": "stream",
       "stream": "stdout",
       "text": [
        " 28000 : 8.98282\n",
        "Minibatch accuracy: 21.9%\n",
        "Validation accuracy at step 28000: 30.1%"
       ]
      },
      {
       "output_type": "stream",
       "stream": "stdout",
       "text": [
        "\n",
        "Minibatch loss at step"
       ]
      },
      {
       "output_type": "stream",
       "stream": "stdout",
       "text": [
        " 29000 : 8.92468\n",
        "Minibatch accuracy: 28.1%\n",
        "Validation accuracy at step 29000: 31.5%"
       ]
      },
      {
       "output_type": "stream",
       "stream": "stdout",
       "text": [
        "\n",
        "Minibatch loss at step"
       ]
      },
      {
       "output_type": "stream",
       "stream": "stdout",
       "text": [
        " 30000 : 8.66822\n",
        "Minibatch accuracy: 43.8%\n",
        "Validation accuracy at step 30000: 25.9%"
       ]
      },
      {
       "output_type": "stream",
       "stream": "stdout",
       "text": [
        "\n",
        "Test accuracy at step 30000: 26.9%"
       ]
      },
      {
       "output_type": "stream",
       "stream": "stdout",
       "text": [
        "\n",
        "Minibatch loss at step"
       ]
      },
      {
       "output_type": "stream",
       "stream": "stdout",
       "text": [
        " 31000 : 8.64119\n",
        "Minibatch accuracy: 40.6%\n",
        "Validation accuracy at step 31000: 31.0%"
       ]
      },
      {
       "output_type": "stream",
       "stream": "stdout",
       "text": [
        "\n",
        "Minibatch loss at step"
       ]
      },
      {
       "output_type": "stream",
       "stream": "stdout",
       "text": [
        " 32000 : 8.59013\n",
        "Minibatch accuracy: 28.1%\n",
        "Validation accuracy at step 32000: 29.1%"
       ]
      },
      {
       "output_type": "stream",
       "stream": "stdout",
       "text": [
        "\n",
        "Minibatch loss at step"
       ]
      },
      {
       "output_type": "stream",
       "stream": "stdout",
       "text": [
        " 33000 : 8.03676\n",
        "Minibatch accuracy: 37.5%\n",
        "Validation accuracy at step 33000: 32.6%"
       ]
      },
      {
       "output_type": "stream",
       "stream": "stdout",
       "text": [
        "\n",
        "Minibatch loss at step"
       ]
      },
      {
       "output_type": "stream",
       "stream": "stdout",
       "text": [
        " 34000 : 8.55629\n",
        "Minibatch accuracy: 25.0%\n",
        "Validation accuracy at step 34000: 32.8%"
       ]
      },
      {
       "output_type": "stream",
       "stream": "stdout",
       "text": [
        "\n",
        "Minibatch loss at step"
       ]
      },
      {
       "output_type": "stream",
       "stream": "stdout",
       "text": [
        " 35000 : 8.47302\n",
        "Minibatch accuracy: 31.2%\n",
        "Validation accuracy at step 35000: 32.7%"
       ]
      },
      {
       "output_type": "stream",
       "stream": "stdout",
       "text": [
        "\n",
        "Test accuracy at step 35000: 32.9%"
       ]
      },
      {
       "output_type": "stream",
       "stream": "stdout",
       "text": [
        "\n",
        "Minibatch loss at step"
       ]
      },
      {
       "output_type": "stream",
       "stream": "stdout",
       "text": [
        " 36000 : 8.88218\n",
        "Minibatch accuracy: 21.9%\n",
        "Validation accuracy at step 36000: 32.1%"
       ]
      },
      {
       "output_type": "stream",
       "stream": "stdout",
       "text": [
        "\n",
        "Minibatch loss at step"
       ]
      },
      {
       "output_type": "stream",
       "stream": "stdout",
       "text": [
        " 37000 : 8.00915\n",
        "Minibatch accuracy: 31.2%\n",
        "Validation accuracy at step 37000: 32.9%"
       ]
      },
      {
       "output_type": "stream",
       "stream": "stdout",
       "text": [
        "\n",
        "Minibatch loss at step"
       ]
      },
      {
       "output_type": "stream",
       "stream": "stdout",
       "text": [
        " 38000 : 8.5726\n",
        "Minibatch accuracy: 43.8%\n",
        "Validation accuracy at step 38000: 34.2%"
       ]
      },
      {
       "output_type": "stream",
       "stream": "stdout",
       "text": [
        "\n",
        "Minibatch loss at step"
       ]
      },
      {
       "output_type": "stream",
       "stream": "stdout",
       "text": [
        " 39000 : 8.90174\n",
        "Minibatch accuracy: 21.9%\n",
        "Validation accuracy at step 39000: 32.9%"
       ]
      },
      {
       "output_type": "stream",
       "stream": "stdout",
       "text": [
        "\n",
        "Minibatch loss at step"
       ]
      },
      {
       "output_type": "stream",
       "stream": "stdout",
       "text": [
        " 40000 : 8.23529\n",
        "Minibatch accuracy: 25.0%\n",
        "Validation accuracy at step 40000: 31.7%"
       ]
      },
      {
       "output_type": "stream",
       "stream": "stdout",
       "text": [
        "\n",
        "Test accuracy at step 40000: 32.2%"
       ]
      },
      {
       "output_type": "stream",
       "stream": "stdout",
       "text": [
        "\n",
        "Minibatch loss at step"
       ]
      },
      {
       "output_type": "stream",
       "stream": "stdout",
       "text": [
        " 41000 : 8.62256\n",
        "Minibatch accuracy: 18.8%\n",
        "Validation accuracy at step 41000: 30.3%"
       ]
      },
      {
       "output_type": "stream",
       "stream": "stdout",
       "text": [
        "\n",
        "Minibatch loss at step"
       ]
      },
      {
       "output_type": "stream",
       "stream": "stdout",
       "text": [
        " 42000 : 8.29766\n",
        "Minibatch accuracy: 21.9%\n",
        "Validation accuracy at step 42000: 34.0%"
       ]
      },
      {
       "output_type": "stream",
       "stream": "stdout",
       "text": [
        "\n",
        "Minibatch loss at step"
       ]
      },
      {
       "output_type": "stream",
       "stream": "stdout",
       "text": [
        " 43000 : 8.20239\n",
        "Minibatch accuracy: 37.5%\n",
        "Validation accuracy at step 43000: 33.8%"
       ]
      },
      {
       "output_type": "stream",
       "stream": "stdout",
       "text": [
        "\n",
        "Minibatch loss at step"
       ]
      },
      {
       "output_type": "stream",
       "stream": "stdout",
       "text": [
        " 44000 : 7.92317\n",
        "Minibatch accuracy: 34.4%\n",
        "Validation accuracy at step 44000: 35.9%"
       ]
      },
      {
       "output_type": "stream",
       "stream": "stdout",
       "text": [
        "\n",
        "Minibatch loss at step"
       ]
      },
      {
       "output_type": "stream",
       "stream": "stdout",
       "text": [
        " 45000 : 7.75664\n",
        "Minibatch accuracy: 37.5%\n",
        "Validation accuracy at step 45000: 35.3%"
       ]
      },
      {
       "output_type": "stream",
       "stream": "stdout",
       "text": [
        "\n",
        "Test accuracy at step 45000: 34.5%"
       ]
      },
      {
       "output_type": "stream",
       "stream": "stdout",
       "text": [
        "\n",
        "Minibatch loss at step"
       ]
      },
      {
       "output_type": "stream",
       "stream": "stdout",
       "text": [
        " 46000 : 7.50976\n",
        "Minibatch accuracy: 40.6%\n",
        "Validation accuracy at step 46000: 36.4%"
       ]
      },
      {
       "output_type": "stream",
       "stream": "stdout",
       "text": [
        "\n",
        "Minibatch loss at step"
       ]
      },
      {
       "output_type": "stream",
       "stream": "stdout",
       "text": [
        " 47000 : 7.742\n",
        "Minibatch accuracy: 40.6%\n",
        "Validation accuracy at step 47000: 33.7%"
       ]
      },
      {
       "output_type": "stream",
       "stream": "stdout",
       "text": [
        "\n",
        "Minibatch loss at step"
       ]
      },
      {
       "output_type": "stream",
       "stream": "stdout",
       "text": [
        " 48000 : 7.5962\n",
        "Minibatch accuracy: 37.5%\n",
        "Validation accuracy at step 48000: 33.4%"
       ]
      },
      {
       "output_type": "stream",
       "stream": "stdout",
       "text": [
        "\n",
        "Minibatch loss at step"
       ]
      },
      {
       "output_type": "stream",
       "stream": "stdout",
       "text": [
        " 49000 : 7.36786\n",
        "Minibatch accuracy: 56.2%\n",
        "Validation accuracy at step 49000: 33.9%"
       ]
      },
      {
       "output_type": "stream",
       "stream": "stdout",
       "text": [
        "\n",
        "Minibatch loss at step"
       ]
      },
      {
       "output_type": "stream",
       "stream": "stdout",
       "text": [
        " 50000 : 7.91701\n",
        "Minibatch accuracy: 21.9%\n",
        "Validation accuracy at step 50000: 32.0%"
       ]
      },
      {
       "output_type": "stream",
       "stream": "stdout",
       "text": [
        "\n",
        "Test accuracy at step 50000: 32.1%"
       ]
      },
      {
       "output_type": "stream",
       "stream": "stdout",
       "text": [
        "\n",
        "Minibatch loss at step"
       ]
      },
      {
       "output_type": "stream",
       "stream": "stdout",
       "text": [
        " 51000 : 7.78496\n",
        "Minibatch accuracy: 21.9%\n",
        "Validation accuracy at step 51000: 33.6%"
       ]
      },
      {
       "output_type": "stream",
       "stream": "stdout",
       "text": [
        "\n",
        "Minibatch loss at step"
       ]
      },
      {
       "output_type": "stream",
       "stream": "stdout",
       "text": [
        " 52000 : 7.50175\n",
        "Minibatch accuracy: 43.8%\n",
        "Validation accuracy at step 52000: 36.3%"
       ]
      },
      {
       "output_type": "stream",
       "stream": "stdout",
       "text": [
        "\n",
        "Minibatch loss at step"
       ]
      },
      {
       "output_type": "stream",
       "stream": "stdout",
       "text": [
        " 53000 : 7.37961\n",
        "Minibatch accuracy: 43.8%\n",
        "Validation accuracy at step 53000: 36.5%"
       ]
      },
      {
       "output_type": "stream",
       "stream": "stdout",
       "text": [
        "\n",
        "Minibatch loss at step"
       ]
      },
      {
       "output_type": "stream",
       "stream": "stdout",
       "text": [
        " 54000 : 7.63169\n",
        "Minibatch accuracy: 31.2%\n",
        "Validation accuracy at step 54000: 35.6%"
       ]
      },
      {
       "output_type": "stream",
       "stream": "stdout",
       "text": [
        "\n",
        "Minibatch loss at step"
       ]
      },
      {
       "output_type": "stream",
       "stream": "stdout",
       "text": [
        " 55000 : 7.22066\n",
        "Minibatch accuracy: 50.0%\n",
        "Validation accuracy at step 55000: 37.2%"
       ]
      },
      {
       "output_type": "stream",
       "stream": "stdout",
       "text": [
        "\n",
        "Test accuracy at step 55000: 37.3%"
       ]
      },
      {
       "output_type": "stream",
       "stream": "stdout",
       "text": [
        "\n",
        "Minibatch loss at step"
       ]
      },
      {
       "output_type": "stream",
       "stream": "stdout",
       "text": [
        " 56000 : 7.35966\n",
        "Minibatch accuracy: 43.8%\n",
        "Validation accuracy at step 56000: 37.4%"
       ]
      },
      {
       "output_type": "stream",
       "stream": "stdout",
       "text": [
        "\n",
        "Minibatch loss at step"
       ]
      },
      {
       "output_type": "stream",
       "stream": "stdout",
       "text": [
        " 57000 : 8.03649\n",
        "Minibatch accuracy: 25.0%\n",
        "Validation accuracy at step 57000: 33.7%"
       ]
      },
      {
       "output_type": "stream",
       "stream": "stdout",
       "text": [
        "\n",
        "Minibatch loss at step"
       ]
      },
      {
       "output_type": "stream",
       "stream": "stdout",
       "text": [
        " 58000 : 7.59289\n",
        "Minibatch accuracy: 28.1%\n",
        "Validation accuracy at step 58000: 37.1%"
       ]
      },
      {
       "output_type": "stream",
       "stream": "stdout",
       "text": [
        "\n",
        "Minibatch loss at step"
       ]
      },
      {
       "output_type": "stream",
       "stream": "stdout",
       "text": [
        " 59000 : 7.14865\n",
        "Minibatch accuracy: 40.6%\n",
        "Validation accuracy at step 59000: 37.4%"
       ]
      },
      {
       "output_type": "stream",
       "stream": "stdout",
       "text": [
        "\n",
        "Minibatch loss at step"
       ]
      },
      {
       "output_type": "stream",
       "stream": "stdout",
       "text": [
        " 60000 : 7.45883\n",
        "Minibatch accuracy: 34.4%\n",
        "Validation accuracy at step 60000: 38.6%"
       ]
      },
      {
       "output_type": "stream",
       "stream": "stdout",
       "text": [
        "\n",
        "Test accuracy at step 60000: 38.0%"
       ]
      },
      {
       "output_type": "stream",
       "stream": "stdout",
       "text": [
        "\n",
        "Minibatch loss at step"
       ]
      },
      {
       "output_type": "stream",
       "stream": "stdout",
       "text": [
        " 61000 : 7.19682\n",
        "Minibatch accuracy: 31.2%\n",
        "Validation accuracy at step 61000: 39.5%"
       ]
      },
      {
       "output_type": "stream",
       "stream": "stdout",
       "text": [
        "\n",
        "Minibatch loss at step"
       ]
      },
      {
       "output_type": "stream",
       "stream": "stdout",
       "text": [
        " 62000 : 7.20321\n",
        "Minibatch accuracy: 43.8%\n",
        "Validation accuracy at step 62000: 38.4%"
       ]
      },
      {
       "output_type": "stream",
       "stream": "stdout",
       "text": [
        "\n",
        "Minibatch loss at step"
       ]
      },
      {
       "output_type": "stream",
       "stream": "stdout",
       "text": [
        " 63000 : 7.12775\n",
        "Minibatch accuracy: 37.5%\n",
        "Validation accuracy at step 63000: 35.8%"
       ]
      },
      {
       "output_type": "stream",
       "stream": "stdout",
       "text": [
        "\n",
        "Minibatch loss at step"
       ]
      },
      {
       "output_type": "stream",
       "stream": "stdout",
       "text": [
        " 64000 : 7.23955\n",
        "Minibatch accuracy: 31.2%\n",
        "Validation accuracy at step 64000: 37.7%"
       ]
      },
      {
       "output_type": "stream",
       "stream": "stdout",
       "text": [
        "\n",
        "Minibatch loss at step"
       ]
      },
      {
       "output_type": "stream",
       "stream": "stdout",
       "text": [
        " 65000 : 7.48254\n",
        "Minibatch accuracy: 34.4%\n",
        "Validation accuracy at step 65000: 36.1%"
       ]
      },
      {
       "output_type": "stream",
       "stream": "stdout",
       "text": [
        "\n",
        "Test accuracy at step 65000: 36.3%"
       ]
      },
      {
       "output_type": "stream",
       "stream": "stdout",
       "text": [
        "\n",
        "Minibatch loss at step"
       ]
      },
      {
       "output_type": "stream",
       "stream": "stdout",
       "text": [
        " 66000 : 7.54697\n",
        "Minibatch accuracy: 31.2%\n",
        "Validation accuracy at step 66000: 35.4%"
       ]
      },
      {
       "output_type": "stream",
       "stream": "stdout",
       "text": [
        "\n",
        "Minibatch loss at step"
       ]
      },
      {
       "output_type": "stream",
       "stream": "stdout",
       "text": [
        " 67000 : 7.34494\n",
        "Minibatch accuracy: 34.4%\n",
        "Validation accuracy at step 67000: 35.8%"
       ]
      },
      {
       "output_type": "stream",
       "stream": "stdout",
       "text": [
        "\n",
        "Minibatch loss at step"
       ]
      },
      {
       "output_type": "stream",
       "stream": "stdout",
       "text": [
        " 68000 : 6.87718\n",
        "Minibatch accuracy: 53.1%\n",
        "Validation accuracy at step 68000: 37.5%"
       ]
      },
      {
       "output_type": "stream",
       "stream": "stdout",
       "text": [
        "\n",
        "Minibatch loss at step"
       ]
      },
      {
       "output_type": "stream",
       "stream": "stdout",
       "text": [
        " 69000 : 7.33053\n",
        "Minibatch accuracy: 28.1%\n",
        "Validation accuracy at step 69000: 34.6%"
       ]
      },
      {
       "output_type": "stream",
       "stream": "stdout",
       "text": [
        "\n",
        "Minibatch loss at step"
       ]
      },
      {
       "output_type": "stream",
       "stream": "stdout",
       "text": [
        " 70000 : 6.98646\n",
        "Minibatch accuracy: 34.4%\n",
        "Validation accuracy at step 70000: 36.0%"
       ]
      },
      {
       "output_type": "stream",
       "stream": "stdout",
       "text": [
        "\n",
        "Test accuracy at step 70000: 36.2%"
       ]
      },
      {
       "output_type": "stream",
       "stream": "stdout",
       "text": [
        "\n",
        "Minibatch loss at step"
       ]
      },
      {
       "output_type": "stream",
       "stream": "stdout",
       "text": [
        " 71000 : 6.96506\n",
        "Minibatch accuracy: 43.8%\n",
        "Validation accuracy at step 71000: 38.0%"
       ]
      },
      {
       "output_type": "stream",
       "stream": "stdout",
       "text": [
        "\n",
        "Minibatch loss at step"
       ]
      },
      {
       "output_type": "stream",
       "stream": "stdout",
       "text": [
        " 72000 : 6.77802\n",
        "Minibatch accuracy: 40.6%\n",
        "Validation accuracy at step 72000: 38.1%"
       ]
      },
      {
       "output_type": "stream",
       "stream": "stdout",
       "text": [
        "\n",
        "Minibatch loss at step"
       ]
      },
      {
       "output_type": "stream",
       "stream": "stdout",
       "text": [
        " 73000 : 7.08169\n",
        "Minibatch accuracy: 28.1%\n",
        "Validation accuracy at step 73000: 40.5%"
       ]
      },
      {
       "output_type": "stream",
       "stream": "stdout",
       "text": [
        "\n",
        "Minibatch loss at step"
       ]
      },
      {
       "output_type": "stream",
       "stream": "stdout",
       "text": [
        " 74000 : 6.96445\n",
        "Minibatch accuracy: 34.4%\n",
        "Validation accuracy at step 74000: 34.9%"
       ]
      },
      {
       "output_type": "stream",
       "stream": "stdout",
       "text": [
        "\n",
        "Minibatch loss at step"
       ]
      },
      {
       "output_type": "stream",
       "stream": "stdout",
       "text": [
        " 75000 : 6.91485\n",
        "Minibatch accuracy: 34.4%\n",
        "Validation accuracy at step 75000: 38.0%"
       ]
      },
      {
       "output_type": "stream",
       "stream": "stdout",
       "text": [
        "\n",
        "Test accuracy at step 75000: 37.5%"
       ]
      },
      {
       "output_type": "stream",
       "stream": "stdout",
       "text": [
        "\n",
        "Minibatch loss at step"
       ]
      },
      {
       "output_type": "stream",
       "stream": "stdout",
       "text": [
        " 76000 : 7.18253\n",
        "Minibatch accuracy: 37.5%\n",
        "Validation accuracy at step 76000: 39.7%"
       ]
      },
      {
       "output_type": "stream",
       "stream": "stdout",
       "text": [
        "\n",
        "Minibatch loss at step"
       ]
      },
      {
       "output_type": "stream",
       "stream": "stdout",
       "text": [
        " 77000 : 6.59076\n",
        "Minibatch accuracy: 43.8%\n",
        "Validation accuracy at step 77000: 37.9%"
       ]
      },
      {
       "output_type": "stream",
       "stream": "stdout",
       "text": [
        "\n",
        "Minibatch loss at step"
       ]
      },
      {
       "output_type": "stream",
       "stream": "stdout",
       "text": [
        " 78000 : 6.74155\n",
        "Minibatch accuracy: 40.6%\n",
        "Validation accuracy at step 78000: 37.4%"
       ]
      },
      {
       "output_type": "stream",
       "stream": "stdout",
       "text": [
        "\n",
        "Minibatch loss at step"
       ]
      },
      {
       "output_type": "stream",
       "stream": "stdout",
       "text": [
        " 79000 : 6.705\n",
        "Minibatch accuracy: 31.2%\n",
        "Validation accuracy at step 79000: 39.9%"
       ]
      },
      {
       "output_type": "stream",
       "stream": "stdout",
       "text": [
        "\n",
        "Minibatch loss at step"
       ]
      },
      {
       "output_type": "stream",
       "stream": "stdout",
       "text": [
        " 80000 : 6.39293\n",
        "Minibatch accuracy: 50.0%\n",
        "Validation accuracy at step 80000: 40.8%"
       ]
      },
      {
       "output_type": "stream",
       "stream": "stdout",
       "text": [
        "\n",
        "Test accuracy at step 80000: 40.0%"
       ]
      },
      {
       "output_type": "stream",
       "stream": "stdout",
       "text": [
        "\n",
        "Minibatch loss at step"
       ]
      },
      {
       "output_type": "stream",
       "stream": "stdout",
       "text": [
        " 81000 : 6.96317\n",
        "Minibatch accuracy: 37.5%\n",
        "Validation accuracy at step 81000: 39.1%"
       ]
      },
      {
       "output_type": "stream",
       "stream": "stdout",
       "text": [
        "\n",
        "Minibatch loss at step"
       ]
      },
      {
       "output_type": "stream",
       "stream": "stdout",
       "text": [
        " 82000 : 6.54057\n",
        "Minibatch accuracy: 50.0%\n",
        "Validation accuracy at step 82000: 39.9%"
       ]
      },
      {
       "output_type": "stream",
       "stream": "stdout",
       "text": [
        "\n",
        "Minibatch loss at step"
       ]
      },
      {
       "output_type": "stream",
       "stream": "stdout",
       "text": [
        " 83000 : 7.12862\n",
        "Minibatch accuracy: 40.6%\n",
        "Validation accuracy at step 83000: 37.2%"
       ]
      },
      {
       "output_type": "stream",
       "stream": "stdout",
       "text": [
        "\n",
        "Minibatch loss at step"
       ]
      },
      {
       "output_type": "stream",
       "stream": "stdout",
       "text": [
        " 84000 : 7.10142\n",
        "Minibatch accuracy: 25.0%\n",
        "Validation accuracy at step 84000: 38.2%"
       ]
      },
      {
       "output_type": "stream",
       "stream": "stdout",
       "text": [
        "\n",
        "Minibatch loss at step"
       ]
      },
      {
       "output_type": "stream",
       "stream": "stdout",
       "text": [
        " 85000 : 6.39422\n",
        "Minibatch accuracy: 37.5%\n",
        "Validation accuracy at step 85000: 40.7%"
       ]
      },
      {
       "output_type": "stream",
       "stream": "stdout",
       "text": [
        "\n",
        "Test accuracy at step 85000: 40.5%"
       ]
      },
      {
       "output_type": "stream",
       "stream": "stdout",
       "text": [
        "\n",
        "Minibatch loss at step"
       ]
      },
      {
       "output_type": "stream",
       "stream": "stdout",
       "text": [
        " 86000 : 6.42849\n",
        "Minibatch accuracy: 34.4%\n",
        "Validation accuracy at step 86000: 38.9%"
       ]
      },
      {
       "output_type": "stream",
       "stream": "stdout",
       "text": [
        "\n",
        "Minibatch loss at step"
       ]
      },
      {
       "output_type": "stream",
       "stream": "stdout",
       "text": [
        " 87000 : 6.25119\n",
        "Minibatch accuracy: 37.5%\n",
        "Validation accuracy at step 87000: 39.8%"
       ]
      },
      {
       "output_type": "stream",
       "stream": "stdout",
       "text": [
        "\n",
        "Minibatch loss at step"
       ]
      },
      {
       "output_type": "stream",
       "stream": "stdout",
       "text": [
        " 88000 : 6.5567\n",
        "Minibatch accuracy: 40.6%\n",
        "Validation accuracy at step 88000: 41.0%"
       ]
      },
      {
       "output_type": "stream",
       "stream": "stdout",
       "text": [
        "\n",
        "Minibatch loss at step"
       ]
      },
      {
       "output_type": "stream",
       "stream": "stdout",
       "text": [
        " 89000 : 6.4848\n",
        "Minibatch accuracy: 43.8%\n",
        "Validation accuracy at step 89000: 38.3%"
       ]
      },
      {
       "output_type": "stream",
       "stream": "stdout",
       "text": [
        "\n",
        "Minibatch loss at step"
       ]
      },
      {
       "output_type": "stream",
       "stream": "stdout",
       "text": [
        " 90000 : 6.54211\n",
        "Minibatch accuracy: 40.6%\n",
        "Validation accuracy at step 90000: 41.2%"
       ]
      },
      {
       "output_type": "stream",
       "stream": "stdout",
       "text": [
        "\n",
        "Test accuracy at step 90000: 40.7%"
       ]
      },
      {
       "output_type": "stream",
       "stream": "stdout",
       "text": [
        "\n",
        "Minibatch loss at step"
       ]
      },
      {
       "output_type": "stream",
       "stream": "stdout",
       "text": [
        " 91000 : 6.69016\n",
        "Minibatch accuracy: 25.0%\n",
        "Validation accuracy at step 91000: 41.2%"
       ]
      },
      {
       "output_type": "stream",
       "stream": "stdout",
       "text": [
        "\n",
        "Minibatch loss at step"
       ]
      },
      {
       "output_type": "stream",
       "stream": "stdout",
       "text": [
        " 92000 : 6.243\n",
        "Minibatch accuracy: 53.1%\n",
        "Validation accuracy at step 92000: 40.4%"
       ]
      },
      {
       "output_type": "stream",
       "stream": "stdout",
       "text": [
        "\n",
        "Minibatch loss at step"
       ]
      },
      {
       "output_type": "stream",
       "stream": "stdout",
       "text": [
        " 93000 : 6.7278\n",
        "Minibatch accuracy: 37.5%\n",
        "Validation accuracy at step 93000: 39.1%"
       ]
      },
      {
       "output_type": "stream",
       "stream": "stdout",
       "text": [
        "\n",
        "Minibatch loss at step"
       ]
      },
      {
       "output_type": "stream",
       "stream": "stdout",
       "text": [
        " 94000 : 6.64138\n",
        "Minibatch accuracy: 34.4%\n",
        "Validation accuracy at step 94000: 41.0%"
       ]
      },
      {
       "output_type": "stream",
       "stream": "stdout",
       "text": [
        "\n",
        "Minibatch loss at step"
       ]
      },
      {
       "output_type": "stream",
       "stream": "stdout",
       "text": [
        " 95000 : 6.47917\n",
        "Minibatch accuracy: 31.2%\n",
        "Validation accuracy at step 95000: 38.7%"
       ]
      },
      {
       "output_type": "stream",
       "stream": "stdout",
       "text": [
        "\n",
        "Test accuracy at step 95000: 38.1%"
       ]
      },
      {
       "output_type": "stream",
       "stream": "stdout",
       "text": [
        "\n",
        "Minibatch loss at step"
       ]
      },
      {
       "output_type": "stream",
       "stream": "stdout",
       "text": [
        " 96000 : 6.53329\n",
        "Minibatch accuracy: 43.8%\n",
        "Validation accuracy at step 96000: 41.5%"
       ]
      },
      {
       "output_type": "stream",
       "stream": "stdout",
       "text": [
        "\n",
        "Minibatch loss at step"
       ]
      },
      {
       "output_type": "stream",
       "stream": "stdout",
       "text": [
        " 97000 : 6.28617\n",
        "Minibatch accuracy: 43.8%\n",
        "Validation accuracy at step 97000: 42.1%"
       ]
      },
      {
       "output_type": "stream",
       "stream": "stdout",
       "text": [
        "\n",
        "Minibatch loss at step"
       ]
      },
      {
       "output_type": "stream",
       "stream": "stdout",
       "text": [
        " 98000 : 6.39299\n",
        "Minibatch accuracy: 46.9%\n",
        "Validation accuracy at step 98000: 39.8%"
       ]
      },
      {
       "output_type": "stream",
       "stream": "stdout",
       "text": [
        "\n",
        "Minibatch loss at step"
       ]
      },
      {
       "output_type": "stream",
       "stream": "stdout",
       "text": [
        " 99000 : 6.13275\n",
        "Minibatch accuracy: 50.0%\n",
        "Validation accuracy at step 99000: 41.0%"
       ]
      },
      {
       "output_type": "stream",
       "stream": "stdout",
       "text": [
        "\n",
        "Minibatch loss at step"
       ]
      },
      {
       "output_type": "stream",
       "stream": "stdout",
       "text": [
        " 100000 : 6.19364\n",
        "Minibatch accuracy: 40.6%\n",
        "Validation accuracy at step 100000: 41.5%"
       ]
      },
      {
       "output_type": "stream",
       "stream": "stdout",
       "text": [
        "\n",
        "Test accuracy at step 100000: 41.3%"
       ]
      },
      {
       "output_type": "stream",
       "stream": "stdout",
       "text": [
        "\n",
        "Minibatch loss at step"
       ]
      },
      {
       "output_type": "stream",
       "stream": "stdout",
       "text": [
        " 101000 : 6.19775\n",
        "Minibatch accuracy: 56.2%\n",
        "Validation accuracy at step 101000: 39.7%"
       ]
      },
      {
       "output_type": "stream",
       "stream": "stdout",
       "text": [
        "\n",
        "Minibatch loss at step"
       ]
      },
      {
       "output_type": "stream",
       "stream": "stdout",
       "text": [
        " 102000 : 6.02123\n",
        "Minibatch accuracy: 40.6%\n",
        "Validation accuracy at step 102000: 40.1%"
       ]
      },
      {
       "output_type": "stream",
       "stream": "stdout",
       "text": [
        "\n",
        "Minibatch loss at step"
       ]
      },
      {
       "output_type": "stream",
       "stream": "stdout",
       "text": [
        " 103000 : 6.31075\n",
        "Minibatch accuracy: 50.0%\n",
        "Validation accuracy at step 103000: 41.7%"
       ]
      },
      {
       "output_type": "stream",
       "stream": "stdout",
       "text": [
        "\n",
        "Minibatch loss at step"
       ]
      },
      {
       "output_type": "stream",
       "stream": "stdout",
       "text": [
        " 104000 : 6.22003\n",
        "Minibatch accuracy: 46.9%\n",
        "Validation accuracy at step 104000: 38.9%"
       ]
      },
      {
       "output_type": "stream",
       "stream": "stdout",
       "text": [
        "\n",
        "Minibatch loss at step"
       ]
      },
      {
       "output_type": "stream",
       "stream": "stdout",
       "text": [
        " 105000 : 6.00295\n",
        "Minibatch accuracy: 53.1%\n",
        "Validation accuracy at step 105000: 41.7%"
       ]
      },
      {
       "output_type": "stream",
       "stream": "stdout",
       "text": [
        "\n",
        "Test accuracy at step 105000: 41.0%"
       ]
      },
      {
       "output_type": "stream",
       "stream": "stdout",
       "text": [
        "\n",
        "Minibatch loss at step"
       ]
      },
      {
       "output_type": "stream",
       "stream": "stdout",
       "text": [
        " 106000 : 6.07414\n",
        "Minibatch accuracy: 50.0%\n",
        "Validation accuracy at step 106000: 42.2%"
       ]
      },
      {
       "output_type": "stream",
       "stream": "stdout",
       "text": [
        "\n",
        "Minibatch loss at step"
       ]
      },
      {
       "output_type": "stream",
       "stream": "stdout",
       "text": [
        " 107000 : 6.14884\n",
        "Minibatch accuracy: 34.4%\n",
        "Validation accuracy at step 107000: 42.7%"
       ]
      },
      {
       "output_type": "stream",
       "stream": "stdout",
       "text": [
        "\n",
        "Minibatch loss at step"
       ]
      },
      {
       "output_type": "stream",
       "stream": "stdout",
       "text": [
        " 108000 : 6.1806\n",
        "Minibatch accuracy: 37.5%\n",
        "Validation accuracy at step 108000: 41.4%"
       ]
      },
      {
       "output_type": "stream",
       "stream": "stdout",
       "text": [
        "\n",
        "Minibatch loss at step"
       ]
      },
      {
       "output_type": "stream",
       "stream": "stdout",
       "text": [
        " 109000 : 5.90171\n",
        "Minibatch accuracy: 56.2%\n",
        "Validation accuracy at step 109000: 40.7%"
       ]
      },
      {
       "output_type": "stream",
       "stream": "stdout",
       "text": [
        "\n",
        "Minibatch loss at step"
       ]
      },
      {
       "output_type": "stream",
       "stream": "stdout",
       "text": [
        " 110000 : 6.11029\n",
        "Minibatch accuracy: 46.9%\n",
        "Validation accuracy at step 110000: 42.7%"
       ]
      },
      {
       "output_type": "stream",
       "stream": "stdout",
       "text": [
        "\n",
        "Test accuracy at step 110000: 41.9%"
       ]
      },
      {
       "output_type": "stream",
       "stream": "stdout",
       "text": [
        "\n",
        "Minibatch loss at step"
       ]
      },
      {
       "output_type": "stream",
       "stream": "stdout",
       "text": [
        " 111000 : 5.93074\n",
        "Minibatch accuracy: 50.0%\n",
        "Validation accuracy at step 111000: 41.4%"
       ]
      },
      {
       "output_type": "stream",
       "stream": "stdout",
       "text": [
        "\n",
        "Minibatch loss at step"
       ]
      },
      {
       "output_type": "stream",
       "stream": "stdout",
       "text": [
        " 112000 : 6.02283\n",
        "Minibatch accuracy: 34.4%\n",
        "Validation accuracy at step 112000: 40.1%"
       ]
      },
      {
       "output_type": "stream",
       "stream": "stdout",
       "text": [
        "\n",
        "Minibatch loss at step"
       ]
      },
      {
       "output_type": "stream",
       "stream": "stdout",
       "text": [
        " 113000 : 6.06385\n",
        "Minibatch accuracy: 43.8%\n",
        "Validation accuracy at step 113000: 39.5%"
       ]
      },
      {
       "output_type": "stream",
       "stream": "stdout",
       "text": [
        "\n",
        "Minibatch loss at step"
       ]
      },
      {
       "output_type": "stream",
       "stream": "stdout",
       "text": [
        " 114000 : 6.05061\n",
        "Minibatch accuracy: 21.9%\n",
        "Validation accuracy at step 114000: 42.2%"
       ]
      },
      {
       "output_type": "stream",
       "stream": "stdout",
       "text": [
        "\n",
        "Minibatch loss at step"
       ]
      },
      {
       "output_type": "stream",
       "stream": "stdout",
       "text": [
        " 115000 : 6.13465\n",
        "Minibatch accuracy: 40.6%\n",
        "Validation accuracy at step 115000: 40.3%"
       ]
      },
      {
       "output_type": "stream",
       "stream": "stdout",
       "text": [
        "\n",
        "Test accuracy at step 115000: 40.6%"
       ]
      },
      {
       "output_type": "stream",
       "stream": "stdout",
       "text": [
        "\n",
        "Minibatch loss at step"
       ]
      },
      {
       "output_type": "stream",
       "stream": "stdout",
       "text": [
        " 116000 : 6.10231\n",
        "Minibatch accuracy: 34.4%\n",
        "Validation accuracy at step 116000: 42.8%"
       ]
      },
      {
       "output_type": "stream",
       "stream": "stdout",
       "text": [
        "\n",
        "Minibatch loss at step"
       ]
      },
      {
       "output_type": "stream",
       "stream": "stdout",
       "text": [
        " 117000 : 6.13091\n",
        "Minibatch accuracy: 40.6%\n",
        "Validation accuracy at step 117000: 40.4%"
       ]
      },
      {
       "output_type": "stream",
       "stream": "stdout",
       "text": [
        "\n",
        "Minibatch loss at step"
       ]
      },
      {
       "output_type": "stream",
       "stream": "stdout",
       "text": [
        " 118000 : 5.66314\n",
        "Minibatch accuracy: 62.5%\n",
        "Validation accuracy at step 118000: 41.3%"
       ]
      },
      {
       "output_type": "stream",
       "stream": "stdout",
       "text": [
        "\n",
        "Minibatch loss at step"
       ]
      },
      {
       "output_type": "stream",
       "stream": "stdout",
       "text": [
        " 119000 : 5.79917\n",
        "Minibatch accuracy: 50.0%\n",
        "Validation accuracy at step 119000: 42.9%"
       ]
      },
      {
       "output_type": "stream",
       "stream": "stdout",
       "text": [
        "\n",
        "Minibatch loss at step"
       ]
      },
      {
       "output_type": "stream",
       "stream": "stdout",
       "text": [
        " 120000 : 5.93958\n",
        "Minibatch accuracy: 40.6%\n",
        "Validation accuracy at step 120000: 41.4%"
       ]
      },
      {
       "output_type": "stream",
       "stream": "stdout",
       "text": [
        "\n",
        "Test accuracy at step 120000: 42.2%"
       ]
      },
      {
       "output_type": "stream",
       "stream": "stdout",
       "text": [
        "\n",
        "Minibatch loss at step"
       ]
      },
      {
       "output_type": "stream",
       "stream": "stdout",
       "text": [
        " 121000 : 5.874\n",
        "Minibatch accuracy: 46.9%\n",
        "Validation accuracy at step 121000: 42.7%"
       ]
      },
      {
       "output_type": "stream",
       "stream": "stdout",
       "text": [
        "\n",
        "Minibatch loss at step"
       ]
      },
      {
       "output_type": "stream",
       "stream": "stdout",
       "text": [
        " 122000 : 5.78509\n",
        "Minibatch accuracy: 40.6%\n",
        "Validation accuracy at step 122000: 41.6%"
       ]
      },
      {
       "output_type": "stream",
       "stream": "stdout",
       "text": [
        "\n",
        "Minibatch loss at step"
       ]
      },
      {
       "output_type": "stream",
       "stream": "stdout",
       "text": [
        " 123000 : 5.97267\n",
        "Minibatch accuracy: 34.4%\n",
        "Validation accuracy at step 123000: 41.9%"
       ]
      },
      {
       "output_type": "stream",
       "stream": "stdout",
       "text": [
        "\n",
        "Minibatch loss at step"
       ]
      },
      {
       "output_type": "stream",
       "stream": "stdout",
       "text": [
        " 124000 : 5.84671\n",
        "Minibatch accuracy: 40.6%\n",
        "Validation accuracy at step 124000: 37.4%"
       ]
      },
      {
       "output_type": "stream",
       "stream": "stdout",
       "text": [
        "\n",
        "Minibatch loss at step"
       ]
      },
      {
       "output_type": "stream",
       "stream": "stdout",
       "text": [
        " 125000 : 5.78467\n",
        "Minibatch accuracy: 40.6%\n",
        "Validation accuracy at step 125000: 42.8%"
       ]
      },
      {
       "output_type": "stream",
       "stream": "stdout",
       "text": [
        "\n",
        "Test accuracy at step 125000: 43.0%"
       ]
      },
      {
       "output_type": "stream",
       "stream": "stdout",
       "text": [
        "\n",
        "Minibatch loss at step"
       ]
      },
      {
       "output_type": "stream",
       "stream": "stdout",
       "text": [
        " 126000 : 5.71218\n",
        "Minibatch accuracy: 43.8%\n",
        "Validation accuracy at step 126000: 42.4%"
       ]
      },
      {
       "output_type": "stream",
       "stream": "stdout",
       "text": [
        "\n",
        "Minibatch loss at step"
       ]
      },
      {
       "output_type": "stream",
       "stream": "stdout",
       "text": [
        " 127000 : 5.67947\n",
        "Minibatch accuracy: 40.6%\n",
        "Validation accuracy at step 127000: 42.0%"
       ]
      },
      {
       "output_type": "stream",
       "stream": "stdout",
       "text": [
        "\n",
        "Minibatch loss at step"
       ]
      },
      {
       "output_type": "stream",
       "stream": "stdout",
       "text": [
        " 128000 : 5.75795\n",
        "Minibatch accuracy: 40.6%\n",
        "Validation accuracy at step 128000: 42.0%"
       ]
      },
      {
       "output_type": "stream",
       "stream": "stdout",
       "text": [
        "\n",
        "Minibatch loss at step"
       ]
      },
      {
       "output_type": "stream",
       "stream": "stdout",
       "text": [
        " 129000 : 5.54864\n",
        "Minibatch accuracy: 37.5%\n",
        "Validation accuracy at step 129000: 42.5%"
       ]
      },
      {
       "output_type": "stream",
       "stream": "stdout",
       "text": [
        "\n",
        "Minibatch loss at step"
       ]
      },
      {
       "output_type": "stream",
       "stream": "stdout",
       "text": [
        " 130000 : 5.738\n",
        "Minibatch accuracy: 37.5%\n",
        "Validation accuracy at step 130000: 41.7%"
       ]
      },
      {
       "output_type": "stream",
       "stream": "stdout",
       "text": [
        "\n",
        "Test accuracy at step 130000: 41.4%"
       ]
      },
      {
       "output_type": "stream",
       "stream": "stdout",
       "text": [
        "\n",
        "Minibatch loss at step"
       ]
      },
      {
       "output_type": "stream",
       "stream": "stdout",
       "text": [
        " 131000 : 5.89244\n",
        "Minibatch accuracy: 40.6%\n",
        "Validation accuracy at step 131000: 41.5%"
       ]
      },
      {
       "output_type": "stream",
       "stream": "stdout",
       "text": [
        "\n",
        "Minibatch loss at step"
       ]
      },
      {
       "output_type": "stream",
       "stream": "stdout",
       "text": [
        " 132000 : 5.42285\n",
        "Minibatch accuracy: 56.2%\n",
        "Validation accuracy at step 132000: 43.6%"
       ]
      },
      {
       "output_type": "stream",
       "stream": "stdout",
       "text": [
        "\n",
        "Minibatch loss at step"
       ]
      },
      {
       "output_type": "stream",
       "stream": "stdout",
       "text": [
        " 133000 : 5.36187\n",
        "Minibatch accuracy: 62.5%\n",
        "Validation accuracy at step 133000: 42.3%"
       ]
      },
      {
       "output_type": "stream",
       "stream": "stdout",
       "text": [
        "\n",
        "Minibatch loss at step"
       ]
      },
      {
       "output_type": "stream",
       "stream": "stdout",
       "text": [
        " 134000 : 5.74225\n",
        "Minibatch accuracy: 40.6%\n",
        "Validation accuracy at step 134000: 41.9%"
       ]
      },
      {
       "output_type": "stream",
       "stream": "stdout",
       "text": [
        "\n",
        "Minibatch loss at step"
       ]
      },
      {
       "output_type": "stream",
       "stream": "stdout",
       "text": [
        " 135000 : 5.81892\n",
        "Minibatch accuracy: 40.6%\n",
        "Validation accuracy at step 135000: 41.4%"
       ]
      },
      {
       "output_type": "stream",
       "stream": "stdout",
       "text": [
        "\n",
        "Test accuracy at step 135000: 41.5%"
       ]
      },
      {
       "output_type": "stream",
       "stream": "stdout",
       "text": [
        "\n",
        "Minibatch loss at step"
       ]
      },
      {
       "output_type": "stream",
       "stream": "stdout",
       "text": [
        " 136000 : 5.57659\n",
        "Minibatch accuracy: 34.4%\n",
        "Validation accuracy at step 136000: 43.4%"
       ]
      },
      {
       "output_type": "stream",
       "stream": "stdout",
       "text": [
        "\n",
        "Minibatch loss at step"
       ]
      },
      {
       "output_type": "stream",
       "stream": "stdout",
       "text": [
        " 137000 : 5.58539\n",
        "Minibatch accuracy: 37.5%\n",
        "Validation accuracy at step 137000: 43.4%"
       ]
      },
      {
       "output_type": "stream",
       "stream": "stdout",
       "text": [
        "\n",
        "Minibatch loss at step"
       ]
      },
      {
       "output_type": "stream",
       "stream": "stdout",
       "text": [
        " 138000 : 5.89751\n",
        "Minibatch accuracy: 31.2%\n",
        "Validation accuracy at step 138000: 42.2%"
       ]
      },
      {
       "output_type": "stream",
       "stream": "stdout",
       "text": [
        "\n",
        "Minibatch loss at step"
       ]
      },
      {
       "output_type": "stream",
       "stream": "stdout",
       "text": [
        " 139000 : 5.27952\n",
        "Minibatch accuracy: 43.8%\n",
        "Validation accuracy at step 139000: 43.7%"
       ]
      },
      {
       "output_type": "stream",
       "stream": "stdout",
       "text": [
        "\n",
        "Minibatch loss at step"
       ]
      },
      {
       "output_type": "stream",
       "stream": "stdout",
       "text": [
        " 140000 : 5.59025\n",
        "Minibatch accuracy: 43.8%\n",
        "Validation accuracy at step 140000: 42.8%"
       ]
      },
      {
       "output_type": "stream",
       "stream": "stdout",
       "text": [
        "\n",
        "Test accuracy at step 140000: 42.8%"
       ]
      },
      {
       "output_type": "stream",
       "stream": "stdout",
       "text": [
        "\n",
        "Minibatch loss at step"
       ]
      },
      {
       "output_type": "stream",
       "stream": "stdout",
       "text": [
        " 141000 : 5.92227\n",
        "Minibatch accuracy: 28.1%\n",
        "Validation accuracy at step 141000: 43.0%"
       ]
      },
      {
       "output_type": "stream",
       "stream": "stdout",
       "text": [
        "\n",
        "Minibatch loss at step"
       ]
      },
      {
       "output_type": "stream",
       "stream": "stdout",
       "text": [
        " 142000 : 5.5336\n",
        "Minibatch accuracy: 37.5%\n",
        "Validation accuracy at step 142000: 41.5%"
       ]
      },
      {
       "output_type": "stream",
       "stream": "stdout",
       "text": [
        "\n",
        "Minibatch loss at step"
       ]
      },
      {
       "output_type": "stream",
       "stream": "stdout",
       "text": [
        " 143000 : 5.6615\n",
        "Minibatch accuracy: 37.5%\n",
        "Validation accuracy at step 143000: 43.1%"
       ]
      },
      {
       "output_type": "stream",
       "stream": "stdout",
       "text": [
        "\n",
        "Minibatch loss at step"
       ]
      },
      {
       "output_type": "stream",
       "stream": "stdout",
       "text": [
        " 144000 : 5.40791\n",
        "Minibatch accuracy: 46.9%\n",
        "Validation accuracy at step 144000: 44.2%"
       ]
      },
      {
       "output_type": "stream",
       "stream": "stdout",
       "text": [
        "\n",
        "Minibatch loss at step"
       ]
      },
      {
       "output_type": "stream",
       "stream": "stdout",
       "text": [
        " 145000 : 5.34086\n",
        "Minibatch accuracy: 50.0%\n",
        "Validation accuracy at step 145000: 41.4%"
       ]
      },
      {
       "output_type": "stream",
       "stream": "stdout",
       "text": [
        "\n",
        "Test accuracy at step 145000: 41.5%"
       ]
      },
      {
       "output_type": "stream",
       "stream": "stdout",
       "text": [
        "\n",
        "Minibatch loss at step"
       ]
      },
      {
       "output_type": "stream",
       "stream": "stdout",
       "text": [
        " 146000 : 5.42079\n",
        "Minibatch accuracy: 59.4%\n",
        "Validation accuracy at step 146000: 42.2%"
       ]
      },
      {
       "output_type": "stream",
       "stream": "stdout",
       "text": [
        "\n",
        "Minibatch loss at step"
       ]
      },
      {
       "output_type": "stream",
       "stream": "stdout",
       "text": [
        " 147000 : 5.29992\n",
        "Minibatch accuracy: 56.2%\n",
        "Validation accuracy at step 147000: 42.3%"
       ]
      },
      {
       "output_type": "stream",
       "stream": "stdout",
       "text": [
        "\n",
        "Minibatch loss at step"
       ]
      },
      {
       "output_type": "stream",
       "stream": "stdout",
       "text": [
        " 148000 : 5.67293\n",
        "Minibatch accuracy: 34.4%\n",
        "Validation accuracy at step 148000: 44.3%"
       ]
      },
      {
       "output_type": "stream",
       "stream": "stdout",
       "text": [
        "\n",
        "Minibatch loss at step"
       ]
      },
      {
       "output_type": "stream",
       "stream": "stdout",
       "text": [
        " 149000 : 5.11864\n",
        "Minibatch accuracy: 56.2%\n",
        "Validation accuracy at step 149000: 43.3%"
       ]
      },
      {
       "output_type": "stream",
       "stream": "stdout",
       "text": [
        "\n",
        "Minibatch loss at step"
       ]
      },
      {
       "output_type": "stream",
       "stream": "stdout",
       "text": [
        " 150000 : 5.02947\n",
        "Minibatch accuracy: 53.1%\n",
        "Validation accuracy at step 150000: 42.8%"
       ]
      },
      {
       "output_type": "stream",
       "stream": "stdout",
       "text": [
        "\n",
        "Test accuracy at step 150000: 43.5%"
       ]
      },
      {
       "output_type": "stream",
       "stream": "stdout",
       "text": [
        "\n",
        "Minibatch loss at step"
       ]
      },
      {
       "output_type": "stream",
       "stream": "stdout",
       "text": [
        " 151000 : 5.32788\n",
        "Minibatch accuracy: 46.9%\n",
        "Validation accuracy at step 151000: 42.0%"
       ]
      },
      {
       "output_type": "stream",
       "stream": "stdout",
       "text": [
        "\n",
        "Minibatch loss at step"
       ]
      },
      {
       "output_type": "stream",
       "stream": "stdout",
       "text": [
        " 152000 : 5.69193\n",
        "Minibatch accuracy: 46.9%\n",
        "Validation accuracy at step 152000: 41.2%"
       ]
      },
      {
       "output_type": "stream",
       "stream": "stdout",
       "text": [
        "\n",
        "Minibatch loss at step"
       ]
      },
      {
       "output_type": "stream",
       "stream": "stdout",
       "text": [
        " 153000 : 5.48232\n",
        "Minibatch accuracy: 31.2%\n",
        "Validation accuracy at step 153000: 42.7%"
       ]
      },
      {
       "output_type": "stream",
       "stream": "stdout",
       "text": [
        "\n",
        "Minibatch loss at step"
       ]
      },
      {
       "output_type": "stream",
       "stream": "stdout",
       "text": [
        " 154000 : 5.31826\n",
        "Minibatch accuracy: 40.6%\n",
        "Validation accuracy at step 154000: 44.4%"
       ]
      },
      {
       "output_type": "stream",
       "stream": "stdout",
       "text": [
        "\n",
        "Minibatch loss at step"
       ]
      },
      {
       "output_type": "stream",
       "stream": "stdout",
       "text": [
        " 155000 : 5.31643\n",
        "Minibatch accuracy: 43.8%\n",
        "Validation accuracy at step 155000: 43.1%"
       ]
      },
      {
       "output_type": "stream",
       "stream": "stdout",
       "text": [
        "\n",
        "Test accuracy at step 155000: 42.9%"
       ]
      },
      {
       "output_type": "stream",
       "stream": "stdout",
       "text": [
        "\n",
        "Minibatch loss at step"
       ]
      },
      {
       "output_type": "stream",
       "stream": "stdout",
       "text": [
        " 156000 : 5.31367\n",
        "Minibatch accuracy: 40.6%\n",
        "Validation accuracy at step 156000: 43.5%"
       ]
      },
      {
       "output_type": "stream",
       "stream": "stdout",
       "text": [
        "\n",
        "Minibatch loss at step"
       ]
      },
      {
       "output_type": "stream",
       "stream": "stdout",
       "text": [
        " 157000 : 5.34483\n",
        "Minibatch accuracy: 46.9%\n",
        "Validation accuracy at step 157000: 43.7%"
       ]
      },
      {
       "output_type": "stream",
       "stream": "stdout",
       "text": [
        "\n",
        "Minibatch loss at step"
       ]
      },
      {
       "output_type": "stream",
       "stream": "stdout",
       "text": [
        " 158000 : 5.11425\n",
        "Minibatch accuracy: 50.0%\n",
        "Validation accuracy at step 158000: 44.1%"
       ]
      },
      {
       "output_type": "stream",
       "stream": "stdout",
       "text": [
        "\n",
        "Minibatch loss at step"
       ]
      },
      {
       "output_type": "stream",
       "stream": "stdout",
       "text": [
        " 159000 : 5.07243\n",
        "Minibatch accuracy: 40.6%\n",
        "Validation accuracy at step 159000: 43.4%"
       ]
      },
      {
       "output_type": "stream",
       "stream": "stdout",
       "text": [
        "\n",
        "Minibatch loss at step"
       ]
      },
      {
       "output_type": "stream",
       "stream": "stdout",
       "text": [
        " 160000 : 5.26968\n",
        "Minibatch accuracy: 43.8%\n",
        "Validation accuracy at step 160000: 44.0%"
       ]
      },
      {
       "output_type": "stream",
       "stream": "stdout",
       "text": [
        "\n",
        "Test accuracy at step 160000: 43.3%"
       ]
      },
      {
       "output_type": "stream",
       "stream": "stdout",
       "text": [
        "\n",
        "Minibatch loss at step"
       ]
      },
      {
       "output_type": "stream",
       "stream": "stdout",
       "text": [
        " 161000 : 5.26292\n",
        "Minibatch accuracy: 40.6%\n",
        "Validation accuracy at step 161000: 44.3%"
       ]
      },
      {
       "output_type": "stream",
       "stream": "stdout",
       "text": [
        "\n",
        "Minibatch loss at step"
       ]
      },
      {
       "output_type": "stream",
       "stream": "stdout",
       "text": [
        " 162000 : 5.23867\n",
        "Minibatch accuracy: 40.6%\n",
        "Validation accuracy at step 162000: 44.8%"
       ]
      },
      {
       "output_type": "stream",
       "stream": "stdout",
       "text": [
        "\n",
        "Minibatch loss at step"
       ]
      },
      {
       "output_type": "stream",
       "stream": "stdout",
       "text": [
        " 163000 : 5.08119\n",
        "Minibatch accuracy: 46.9%\n",
        "Validation accuracy at step 163000: 44.7%"
       ]
      },
      {
       "output_type": "stream",
       "stream": "stdout",
       "text": [
        "\n",
        "Minibatch loss at step"
       ]
      },
      {
       "output_type": "stream",
       "stream": "stdout",
       "text": [
        " 164000 : 5.18695\n",
        "Minibatch accuracy: 53.1%\n",
        "Validation accuracy at step 164000: 43.6%"
       ]
      },
      {
       "output_type": "stream",
       "stream": "stdout",
       "text": [
        "\n",
        "Minibatch loss at step"
       ]
      },
      {
       "output_type": "stream",
       "stream": "stdout",
       "text": [
        " 165000 : 5.26821\n",
        "Minibatch accuracy: 40.6%\n",
        "Validation accuracy at step 165000: 43.9%"
       ]
      },
      {
       "output_type": "stream",
       "stream": "stdout",
       "text": [
        "\n",
        "Test accuracy at step 165000: 44.1%"
       ]
      },
      {
       "output_type": "stream",
       "stream": "stdout",
       "text": [
        "\n",
        "Minibatch loss at step"
       ]
      },
      {
       "output_type": "stream",
       "stream": "stdout",
       "text": [
        " 166000 : 5.42679\n",
        "Minibatch accuracy: 40.6%\n",
        "Validation accuracy at step 166000: 43.7%"
       ]
      },
      {
       "output_type": "stream",
       "stream": "stdout",
       "text": [
        "\n",
        "Minibatch loss at step"
       ]
      },
      {
       "output_type": "stream",
       "stream": "stdout",
       "text": [
        " 167000 : 4.93432\n",
        "Minibatch accuracy: 59.4%\n",
        "Validation accuracy at step 167000: 42.7%"
       ]
      },
      {
       "output_type": "stream",
       "stream": "stdout",
       "text": [
        "\n",
        "Minibatch loss at step"
       ]
      },
      {
       "output_type": "stream",
       "stream": "stdout",
       "text": [
        " 168000 : 5.25907\n",
        "Minibatch accuracy: 43.8%\n",
        "Validation accuracy at step 168000: 43.8%"
       ]
      },
      {
       "output_type": "stream",
       "stream": "stdout",
       "text": [
        "\n",
        "Minibatch loss at step"
       ]
      },
      {
       "output_type": "stream",
       "stream": "stdout",
       "text": [
        " 169000 : 5.16553\n",
        "Minibatch accuracy: 46.9%\n",
        "Validation accuracy at step 169000: 43.2%"
       ]
      },
      {
       "output_type": "stream",
       "stream": "stdout",
       "text": [
        "\n",
        "Minibatch loss at step"
       ]
      },
      {
       "output_type": "stream",
       "stream": "stdout",
       "text": [
        " 170000 : 5.16976\n",
        "Minibatch accuracy: 40.6%\n",
        "Validation accuracy at step 170000: 43.4%"
       ]
      },
      {
       "output_type": "stream",
       "stream": "stdout",
       "text": [
        "\n",
        "Test accuracy at step 170000: 43.1%"
       ]
      },
      {
       "output_type": "stream",
       "stream": "stdout",
       "text": [
        "\n",
        "Minibatch loss at step"
       ]
      },
      {
       "output_type": "stream",
       "stream": "stdout",
       "text": [
        " 171000 : 4.78722\n",
        "Minibatch accuracy: 62.5%\n",
        "Validation accuracy at step 171000: 43.8%"
       ]
      },
      {
       "output_type": "stream",
       "stream": "stdout",
       "text": [
        "\n",
        "Minibatch loss at step"
       ]
      },
      {
       "output_type": "stream",
       "stream": "stdout",
       "text": [
        " 172000 : 4.97487\n",
        "Minibatch accuracy: 53.1%\n",
        "Validation accuracy at step 172000: 44.7%"
       ]
      },
      {
       "output_type": "stream",
       "stream": "stdout",
       "text": [
        "\n",
        "Minibatch loss at step"
       ]
      },
      {
       "output_type": "stream",
       "stream": "stdout",
       "text": [
        " 173000 : 5.096\n",
        "Minibatch accuracy: 46.9%\n",
        "Validation accuracy at step 173000: 43.8%"
       ]
      },
      {
       "output_type": "stream",
       "stream": "stdout",
       "text": [
        "\n",
        "Minibatch loss at step"
       ]
      },
      {
       "output_type": "stream",
       "stream": "stdout",
       "text": [
        " 174000 : 4.93916\n",
        "Minibatch accuracy: 37.5%\n",
        "Validation accuracy at step 174000: 43.5%"
       ]
      },
      {
       "output_type": "stream",
       "stream": "stdout",
       "text": [
        "\n",
        "Minibatch loss at step"
       ]
      },
      {
       "output_type": "stream",
       "stream": "stdout",
       "text": [
        " 175000 : 5.63018\n",
        "Minibatch accuracy: 28.1%\n",
        "Validation accuracy at step 175000: 44.5%"
       ]
      },
      {
       "output_type": "stream",
       "stream": "stdout",
       "text": [
        "\n",
        "Test accuracy at step 175000: 44.0%"
       ]
      },
      {
       "output_type": "stream",
       "stream": "stdout",
       "text": [
        "\n",
        "Minibatch loss at step"
       ]
      },
      {
       "output_type": "stream",
       "stream": "stdout",
       "text": [
        " 176000 : 5.0461\n",
        "Minibatch accuracy: 43.8%\n",
        "Validation accuracy at step 176000: 42.5%"
       ]
      },
      {
       "output_type": "stream",
       "stream": "stdout",
       "text": [
        "\n",
        "Minibatch loss at step"
       ]
      },
      {
       "output_type": "stream",
       "stream": "stdout",
       "text": [
        " 177000 : 5.13479\n",
        "Minibatch accuracy: 53.1%\n",
        "Validation accuracy at step 177000: 45.0%"
       ]
      },
      {
       "output_type": "stream",
       "stream": "stdout",
       "text": [
        "\n",
        "Minibatch loss at step"
       ]
      },
      {
       "output_type": "stream",
       "stream": "stdout",
       "text": [
        " 178000 : 5.28577\n",
        "Minibatch accuracy: 31.2%\n",
        "Validation accuracy at step 178000: 42.5%"
       ]
      },
      {
       "output_type": "stream",
       "stream": "stdout",
       "text": [
        "\n",
        "Minibatch loss at step"
       ]
      },
      {
       "output_type": "stream",
       "stream": "stdout",
       "text": [
        " 179000 : 5.131\n",
        "Minibatch accuracy: 59.4%\n",
        "Validation accuracy at step 179000: 44.9%"
       ]
      },
      {
       "output_type": "stream",
       "stream": "stdout",
       "text": [
        "\n",
        "Minibatch loss at step"
       ]
      },
      {
       "output_type": "stream",
       "stream": "stdout",
       "text": [
        " 180000 : 4.81201\n",
        "Minibatch accuracy: 46.9%\n",
        "Validation accuracy at step 180000: 44.7%"
       ]
      },
      {
       "output_type": "stream",
       "stream": "stdout",
       "text": [
        "\n",
        "Test accuracy at step 180000: 44.1%"
       ]
      },
      {
       "output_type": "stream",
       "stream": "stdout",
       "text": [
        "\n",
        "Minibatch loss at step"
       ]
      },
      {
       "output_type": "stream",
       "stream": "stdout",
       "text": [
        " 181000 : 5.05778\n",
        "Minibatch accuracy: 34.4%\n",
        "Validation accuracy at step 181000: 42.9%"
       ]
      },
      {
       "output_type": "stream",
       "stream": "stdout",
       "text": [
        "\n",
        "Minibatch loss at step"
       ]
      },
      {
       "output_type": "stream",
       "stream": "stdout",
       "text": [
        " 182000 : 5.14258\n",
        "Minibatch accuracy: 31.2%\n",
        "Validation accuracy at step 182000: 44.9%"
       ]
      },
      {
       "output_type": "stream",
       "stream": "stdout",
       "text": [
        "\n",
        "Minibatch loss at step"
       ]
      },
      {
       "output_type": "stream",
       "stream": "stdout",
       "text": [
        " 183000 : 5.31825\n",
        "Minibatch accuracy: 43.8%\n",
        "Validation accuracy at step 183000: 44.5%"
       ]
      },
      {
       "output_type": "stream",
       "stream": "stdout",
       "text": [
        "\n",
        "Minibatch loss at step"
       ]
      },
      {
       "output_type": "stream",
       "stream": "stdout",
       "text": [
        " 184000 : 4.94989\n",
        "Minibatch accuracy: 62.5%\n",
        "Validation accuracy at step 184000: 44.2%"
       ]
      },
      {
       "output_type": "stream",
       "stream": "stdout",
       "text": [
        "\n",
        "Minibatch loss at step"
       ]
      },
      {
       "output_type": "stream",
       "stream": "stdout",
       "text": [
        " 185000 : 4.9303\n",
        "Minibatch accuracy: 40.6%\n",
        "Validation accuracy at step 185000: 44.4%"
       ]
      },
      {
       "output_type": "stream",
       "stream": "stdout",
       "text": [
        "\n",
        "Test accuracy at step 185000: 44.2%"
       ]
      },
      {
       "output_type": "stream",
       "stream": "stdout",
       "text": [
        "\n",
        "Minibatch loss at step"
       ]
      },
      {
       "output_type": "stream",
       "stream": "stdout",
       "text": [
        " 186000 : 4.90471\n",
        "Minibatch accuracy: 56.2%\n",
        "Validation accuracy at step 186000: 42.4%"
       ]
      },
      {
       "output_type": "stream",
       "stream": "stdout",
       "text": [
        "\n",
        "Minibatch loss at step"
       ]
      },
      {
       "output_type": "stream",
       "stream": "stdout",
       "text": [
        " 187000 : 4.96819\n",
        "Minibatch accuracy: 40.6%\n",
        "Validation accuracy at step 187000: 44.4%"
       ]
      },
      {
       "output_type": "stream",
       "stream": "stdout",
       "text": [
        "\n",
        "Minibatch loss at step"
       ]
      },
      {
       "output_type": "stream",
       "stream": "stdout",
       "text": [
        " 188000 : 4.81336\n",
        "Minibatch accuracy: 56.2%\n",
        "Validation accuracy at step 188000: 44.4%"
       ]
      },
      {
       "output_type": "stream",
       "stream": "stdout",
       "text": [
        "\n",
        "Minibatch loss at step"
       ]
      },
      {
       "output_type": "stream",
       "stream": "stdout",
       "text": [
        " 189000 : 4.75367\n",
        "Minibatch accuracy: 50.0%\n",
        "Validation accuracy at step 189000: 44.4%"
       ]
      },
      {
       "output_type": "stream",
       "stream": "stdout",
       "text": [
        "\n",
        "Minibatch loss at step"
       ]
      },
      {
       "output_type": "stream",
       "stream": "stdout",
       "text": [
        " 190000 : 4.85148\n",
        "Minibatch accuracy: 46.9%\n",
        "Validation accuracy at step 190000: 43.8%"
       ]
      },
      {
       "output_type": "stream",
       "stream": "stdout",
       "text": [
        "\n",
        "Test accuracy at step 190000: 43.6%"
       ]
      },
      {
       "output_type": "stream",
       "stream": "stdout",
       "text": [
        "\n",
        "Minibatch loss at step"
       ]
      },
      {
       "output_type": "stream",
       "stream": "stdout",
       "text": [
        " 191000 : 5.09525\n",
        "Minibatch accuracy: 34.4%\n",
        "Validation accuracy at step 191000: 44.8%"
       ]
      },
      {
       "output_type": "stream",
       "stream": "stdout",
       "text": [
        "\n",
        "Minibatch loss at step"
       ]
      },
      {
       "output_type": "stream",
       "stream": "stdout",
       "text": [
        " 192000 : 4.82647\n",
        "Minibatch accuracy: 43.8%\n",
        "Validation accuracy at step 192000: 45.3%"
       ]
      },
      {
       "output_type": "stream",
       "stream": "stdout",
       "text": [
        "\n",
        "Minibatch loss at step"
       ]
      },
      {
       "output_type": "stream",
       "stream": "stdout",
       "text": [
        " 193000 : 4.84652\n",
        "Minibatch accuracy: 40.6%\n",
        "Validation accuracy at step 193000: 44.3%"
       ]
      },
      {
       "output_type": "stream",
       "stream": "stdout",
       "text": [
        "\n",
        "Minibatch loss at step"
       ]
      },
      {
       "output_type": "stream",
       "stream": "stdout",
       "text": [
        " 194000 : 5.10673\n",
        "Minibatch accuracy: 34.4%\n",
        "Validation accuracy at step 194000: 45.5%"
       ]
      },
      {
       "output_type": "stream",
       "stream": "stdout",
       "text": [
        "\n",
        "Minibatch loss at step"
       ]
      },
      {
       "output_type": "stream",
       "stream": "stdout",
       "text": [
        " 195000 : 4.89261\n",
        "Minibatch accuracy: 40.6%\n",
        "Validation accuracy at step 195000: 44.8%"
       ]
      },
      {
       "output_type": "stream",
       "stream": "stdout",
       "text": [
        "\n",
        "Test accuracy at step 195000: 44.8%"
       ]
      },
      {
       "output_type": "stream",
       "stream": "stdout",
       "text": [
        "\n",
        "Minibatch loss at step"
       ]
      },
      {
       "output_type": "stream",
       "stream": "stdout",
       "text": [
        " 196000 : 4.72418\n",
        "Minibatch accuracy: 43.8%\n",
        "Validation accuracy at step 196000: 45.3%"
       ]
      },
      {
       "output_type": "stream",
       "stream": "stdout",
       "text": [
        "\n",
        "Minibatch loss at step"
       ]
      },
      {
       "output_type": "stream",
       "stream": "stdout",
       "text": [
        " 197000 : 4.8037\n",
        "Minibatch accuracy: 53.1%\n",
        "Validation accuracy at step 197000: 44.8%"
       ]
      },
      {
       "output_type": "stream",
       "stream": "stdout",
       "text": [
        "\n",
        "Minibatch loss at step"
       ]
      },
      {
       "output_type": "stream",
       "stream": "stdout",
       "text": [
        " 198000 : 4.85394\n",
        "Minibatch accuracy: 37.5%\n",
        "Validation accuracy at step 198000: 44.7%"
       ]
      },
      {
       "output_type": "stream",
       "stream": "stdout",
       "text": [
        "\n",
        "Minibatch loss at step"
       ]
      },
      {
       "output_type": "stream",
       "stream": "stdout",
       "text": [
        " 199000 : 4.59099\n",
        "Minibatch accuracy: 53.1%\n",
        "Validation accuracy at step 199000: 45.3%"
       ]
      },
      {
       "output_type": "stream",
       "stream": "stdout",
       "text": [
        "\n",
        "Minibatch loss at step"
       ]
      },
      {
       "output_type": "stream",
       "stream": "stdout",
       "text": [
        " 200000 : 5.31132\n",
        "Minibatch accuracy: 18.8%\n",
        "Validation accuracy at step 200000: 45.1%"
       ]
      },
      {
       "output_type": "stream",
       "stream": "stdout",
       "text": [
        "\n",
        "Test accuracy at step 200000: 44.6%\n"
       ]
      },
      {
       "output_type": "stream",
       "stream": "stdout",
       "text": [
        "\n",
        "Elapsed time: 3.18852475968 hours\n",
        "The best validation accuracy was 45.51 at step 194000"
       ]
      },
      {
       "output_type": "stream",
       "stream": "stdout",
       "text": [
        "\n",
        "The best test accuracy was 44.78 at step 195000\n"
       ]
      }
     ],
     "prompt_number": 28
    },
    {
     "cell_type": "code",
     "collapsed": false,
     "input": [
      "# One more feature map and twice as many steps\n",
      "model = create_inception_module_model(learning_rate = 0.00025, l2_lambda = 0.025, feature_maps = 25, initialised_weights_stddev = 0.5, decay_steps = 10000, decay_rate = 0.96)\n",
      "steps_to_validation_predictions, steps_to_test_predictions = train_model(model, 200001, dropout_keep_prob = 0.9)\n",
      "correct_prediction_indexes, incorrect_prediction_indexes = visualise_accuracies(steps_to_validation_predictions, steps_to_test_predictions)"
     ],
     "language": "python",
     "metadata": {},
     "outputs": [
      {
       "output_type": "stream",
       "stream": "stdout",
       "text": [
        "Initialized\n",
        "Minibatch loss at step"
       ]
      },
      {
       "output_type": "stream",
       "stream": "stdout",
       "text": [
        " 0 : 1541.49\n",
        "Minibatch accuracy: 6.2%\n",
        "Validation accuracy at step 0: 10.2%"
       ]
      },
      {
       "output_type": "stream",
       "stream": "stdout",
       "text": [
        "\n",
        "Minibatch loss at step"
       ]
      },
      {
       "output_type": "stream",
       "stream": "stdout",
       "text": [
        " 1000 : 15.8539\n",
        "Minibatch accuracy: 25.0%\n",
        "Validation accuracy at step 1000: 20.9%"
       ]
      },
      {
       "output_type": "stream",
       "stream": "stdout",
       "text": [
        "\n",
        "Minibatch loss at step"
       ]
      },
      {
       "output_type": "stream",
       "stream": "stdout",
       "text": [
        " 2000 : 14.8707\n",
        "Minibatch accuracy: 12.5%\n",
        "Validation accuracy at step 2000: 24.1%"
       ]
      },
      {
       "output_type": "stream",
       "stream": "stdout",
       "text": [
        "\n",
        "Minibatch loss at step"
       ]
      },
      {
       "output_type": "stream",
       "stream": "stdout",
       "text": [
        " 3000 : 11.9193\n",
        "Minibatch accuracy: 18.8%\n",
        "Validation accuracy at step 3000: 24.3%"
       ]
      },
      {
       "output_type": "stream",
       "stream": "stdout",
       "text": [
        "\n",
        "Minibatch loss at step"
       ]
      },
      {
       "output_type": "stream",
       "stream": "stdout",
       "text": [
        " 4000 : 11.6947\n",
        "Minibatch accuracy: 15.6%\n",
        "Validation accuracy at step 4000: 24.7%"
       ]
      },
      {
       "output_type": "stream",
       "stream": "stdout",
       "text": [
        "\n",
        "Minibatch loss at step"
       ]
      },
      {
       "output_type": "stream",
       "stream": "stdout",
       "text": [
        " 5000 : 10.108\n",
        "Minibatch accuracy: 34.4%\n",
        "Validation accuracy at step 5000: 25.3%"
       ]
      },
      {
       "output_type": "stream",
       "stream": "stdout",
       "text": [
        "\n",
        "Test accuracy at step 5000: 25.2%"
       ]
      },
      {
       "output_type": "stream",
       "stream": "stdout",
       "text": [
        "\n",
        "Minibatch loss at step"
       ]
      },
      {
       "output_type": "stream",
       "stream": "stdout",
       "text": [
        " 6000 : 9.72596\n",
        "Minibatch accuracy: 28.1%\n",
        "Validation accuracy at step 6000: 23.0%"
       ]
      },
      {
       "output_type": "stream",
       "stream": "stdout",
       "text": [
        "\n",
        "Minibatch loss at step"
       ]
      },
      {
       "output_type": "stream",
       "stream": "stdout",
       "text": [
        " 7000 : 10.0731\n",
        "Minibatch accuracy: 40.6%\n",
        "Validation accuracy at step 7000: 26.7%"
       ]
      },
      {
       "output_type": "stream",
       "stream": "stdout",
       "text": [
        "\n",
        "Minibatch loss at step"
       ]
      },
      {
       "output_type": "stream",
       "stream": "stdout",
       "text": [
        " 8000 : 9.88438\n",
        "Minibatch accuracy: 40.6%\n",
        "Validation accuracy at step 8000: 26.9%"
       ]
      },
      {
       "output_type": "stream",
       "stream": "stdout",
       "text": [
        "\n",
        "Minibatch loss at step"
       ]
      },
      {
       "output_type": "stream",
       "stream": "stdout",
       "text": [
        " 9000 : 9.29067\n",
        "Minibatch accuracy: 31.2%\n",
        "Validation accuracy at step 9000: 28.7%"
       ]
      },
      {
       "output_type": "stream",
       "stream": "stdout",
       "text": [
        "\n",
        "Minibatch loss at step"
       ]
      },
      {
       "output_type": "stream",
       "stream": "stdout",
       "text": [
        " 10000 : 9.39039\n",
        "Minibatch accuracy: 21.9%\n",
        "Validation accuracy at step 10000: 26.2%"
       ]
      },
      {
       "output_type": "stream",
       "stream": "stdout",
       "text": [
        "\n",
        "Test accuracy at step 10000: 26.8%"
       ]
      },
      {
       "output_type": "stream",
       "stream": "stdout",
       "text": [
        "\n",
        "Minibatch loss at step"
       ]
      },
      {
       "output_type": "stream",
       "stream": "stdout",
       "text": [
        " 11000 : 9.51685\n",
        "Minibatch accuracy: 31.2%\n",
        "Validation accuracy at step 11000: 25.6%"
       ]
      },
      {
       "output_type": "stream",
       "stream": "stdout",
       "text": [
        "\n",
        "Minibatch loss at step"
       ]
      },
      {
       "output_type": "stream",
       "stream": "stdout",
       "text": [
        " 12000 : 9.16054\n",
        "Minibatch accuracy: 40.6%\n",
        "Validation accuracy at step 12000: 30.6%"
       ]
      },
      {
       "output_type": "stream",
       "stream": "stdout",
       "text": [
        "\n",
        "Minibatch loss at step"
       ]
      },
      {
       "output_type": "stream",
       "stream": "stdout",
       "text": [
        " 13000 : 8.52765\n",
        "Minibatch accuracy: 40.6%\n",
        "Validation accuracy at step 13000: 30.1%"
       ]
      },
      {
       "output_type": "stream",
       "stream": "stdout",
       "text": [
        "\n",
        "Minibatch loss at step"
       ]
      },
      {
       "output_type": "stream",
       "stream": "stdout",
       "text": [
        " 14000 : 9.32957\n",
        "Minibatch accuracy: 37.5%\n",
        "Validation accuracy at step 14000: 26.4%"
       ]
      },
      {
       "output_type": "stream",
       "stream": "stdout",
       "text": [
        "\n",
        "Minibatch loss at step"
       ]
      },
      {
       "output_type": "stream",
       "stream": "stdout",
       "text": [
        " 15000 : 8.56532\n",
        "Minibatch accuracy: 18.8%\n",
        "Validation accuracy at step 15000: 29.4%"
       ]
      },
      {
       "output_type": "stream",
       "stream": "stdout",
       "text": [
        "\n",
        "Test accuracy at step 15000: 29.8%"
       ]
      },
      {
       "output_type": "stream",
       "stream": "stdout",
       "text": [
        "\n",
        "Minibatch loss at step"
       ]
      },
      {
       "output_type": "stream",
       "stream": "stdout",
       "text": [
        " 16000 : 8.34913\n",
        "Minibatch accuracy: 37.5%\n",
        "Validation accuracy at step 16000: 27.0%"
       ]
      },
      {
       "output_type": "stream",
       "stream": "stdout",
       "text": [
        "\n",
        "Minibatch loss at step"
       ]
      },
      {
       "output_type": "stream",
       "stream": "stdout",
       "text": [
        " 17000 : 8.45529\n",
        "Minibatch accuracy: 40.6%\n",
        "Validation accuracy at step 17000: 33.7%"
       ]
      },
      {
       "output_type": "stream",
       "stream": "stdout",
       "text": [
        "\n",
        "Minibatch loss at step"
       ]
      },
      {
       "output_type": "stream",
       "stream": "stdout",
       "text": [
        " 18000 : 8.34814\n",
        "Minibatch accuracy: 28.1%\n",
        "Validation accuracy at step 18000: 32.5%"
       ]
      },
      {
       "output_type": "stream",
       "stream": "stdout",
       "text": [
        "\n",
        "Minibatch loss at step"
       ]
      },
      {
       "output_type": "stream",
       "stream": "stdout",
       "text": [
        " 19000 : 8.08188\n",
        "Minibatch accuracy: 43.8%\n",
        "Validation accuracy at step 19000: 32.5%"
       ]
      },
      {
       "output_type": "stream",
       "stream": "stdout",
       "text": [
        "\n",
        "Minibatch loss at step"
       ]
      },
      {
       "output_type": "stream",
       "stream": "stdout",
       "text": [
        " 20000 : 8.00942\n",
        "Minibatch accuracy: 37.5%\n",
        "Validation accuracy at step 20000: 32.2%"
       ]
      },
      {
       "output_type": "stream",
       "stream": "stdout",
       "text": [
        "\n",
        "Test accuracy at step 20000: 32.4%"
       ]
      },
      {
       "output_type": "stream",
       "stream": "stdout",
       "text": [
        "\n",
        "Minibatch loss at step"
       ]
      },
      {
       "output_type": "stream",
       "stream": "stdout",
       "text": [
        " 21000 : 7.94742\n",
        "Minibatch accuracy: 34.4%\n",
        "Validation accuracy at step 21000: 32.0%"
       ]
      },
      {
       "output_type": "stream",
       "stream": "stdout",
       "text": [
        "\n",
        "Minibatch loss at step"
       ]
      },
      {
       "output_type": "stream",
       "stream": "stdout",
       "text": [
        " 22000 : 8.02404\n",
        "Minibatch accuracy: 31.2%\n",
        "Validation accuracy at step 22000: 31.5%"
       ]
      },
      {
       "output_type": "stream",
       "stream": "stdout",
       "text": [
        "\n",
        "Minibatch loss at step"
       ]
      },
      {
       "output_type": "stream",
       "stream": "stdout",
       "text": [
        " 23000 : 7.91607\n",
        "Minibatch accuracy: 25.0%\n",
        "Validation accuracy at step 23000: 33.5%"
       ]
      },
      {
       "output_type": "stream",
       "stream": "stdout",
       "text": [
        "\n",
        "Minibatch loss at step"
       ]
      },
      {
       "output_type": "stream",
       "stream": "stdout",
       "text": [
        " 24000 : 7.62895\n",
        "Minibatch accuracy: 25.0%\n",
        "Validation accuracy at step 24000: 35.7%"
       ]
      },
      {
       "output_type": "stream",
       "stream": "stdout",
       "text": [
        "\n",
        "Minibatch loss at step"
       ]
      },
      {
       "output_type": "stream",
       "stream": "stdout",
       "text": [
        " 25000 : 8.06189\n",
        "Minibatch accuracy: 31.2%\n",
        "Validation accuracy at step 25000: 33.1%"
       ]
      },
      {
       "output_type": "stream",
       "stream": "stdout",
       "text": [
        "\n",
        "Test accuracy at step 25000: 32.7%"
       ]
      },
      {
       "output_type": "stream",
       "stream": "stdout",
       "text": [
        "\n",
        "Minibatch loss at step"
       ]
      },
      {
       "output_type": "stream",
       "stream": "stdout",
       "text": [
        " 26000 : 7.65259\n",
        "Minibatch accuracy: 21.9%\n",
        "Validation accuracy at step 26000: 33.4%"
       ]
      },
      {
       "output_type": "stream",
       "stream": "stdout",
       "text": [
        "\n",
        "Minibatch loss at step"
       ]
      },
      {
       "output_type": "stream",
       "stream": "stdout",
       "text": [
        " 27000 : 7.09487\n",
        "Minibatch accuracy: 53.1%\n",
        "Validation accuracy at step 27000: 34.9%"
       ]
      },
      {
       "output_type": "stream",
       "stream": "stdout",
       "text": [
        "\n",
        "Minibatch loss at step"
       ]
      },
      {
       "output_type": "stream",
       "stream": "stdout",
       "text": [
        " 28000 : 7.49243\n",
        "Minibatch accuracy: 37.5%\n",
        "Validation accuracy at step 28000: 32.5%"
       ]
      },
      {
       "output_type": "stream",
       "stream": "stdout",
       "text": [
        "\n",
        "Minibatch loss at step"
       ]
      },
      {
       "output_type": "stream",
       "stream": "stdout",
       "text": [
        " 29000 : 7.42344\n",
        "Minibatch accuracy: 28.1%\n",
        "Validation accuracy at step 29000: 32.7%"
       ]
      },
      {
       "output_type": "stream",
       "stream": "stdout",
       "text": [
        "\n",
        "Minibatch loss at step"
       ]
      },
      {
       "output_type": "stream",
       "stream": "stdout",
       "text": [
        " 30000 : 7.27459\n",
        "Minibatch accuracy: 34.4%\n",
        "Validation accuracy at step 30000: 35.9%"
       ]
      },
      {
       "output_type": "stream",
       "stream": "stdout",
       "text": [
        "\n",
        "Test accuracy at step 30000: 36.2%"
       ]
      },
      {
       "output_type": "stream",
       "stream": "stdout",
       "text": [
        "\n",
        "Minibatch loss at step"
       ]
      },
      {
       "output_type": "stream",
       "stream": "stdout",
       "text": [
        " 31000 : 7.29184\n",
        "Minibatch accuracy: 25.0%\n",
        "Validation accuracy at step 31000: 35.2%"
       ]
      },
      {
       "output_type": "stream",
       "stream": "stdout",
       "text": [
        "\n",
        "Minibatch loss at step"
       ]
      },
      {
       "output_type": "stream",
       "stream": "stdout",
       "text": [
        " 32000 : 7.52949\n",
        "Minibatch accuracy: 25.0%\n",
        "Validation accuracy at step 32000: 35.1%"
       ]
      },
      {
       "output_type": "stream",
       "stream": "stdout",
       "text": [
        "\n",
        "Minibatch loss at step"
       ]
      },
      {
       "output_type": "stream",
       "stream": "stdout",
       "text": [
        " 33000 : 6.95823\n",
        "Minibatch accuracy: 50.0%\n",
        "Validation accuracy at step 33000: 35.2%"
       ]
      },
      {
       "output_type": "stream",
       "stream": "stdout",
       "text": [
        "\n",
        "Minibatch loss at step"
       ]
      },
      {
       "output_type": "stream",
       "stream": "stdout",
       "text": [
        " 34000 : 7.08949\n",
        "Minibatch accuracy: 31.2%\n",
        "Validation accuracy at step 34000: 37.3%"
       ]
      },
      {
       "output_type": "stream",
       "stream": "stdout",
       "text": [
        "\n",
        "Minibatch loss at step"
       ]
      },
      {
       "output_type": "stream",
       "stream": "stdout",
       "text": [
        " 35000 : 6.86611\n",
        "Minibatch accuracy: 40.6%\n",
        "Validation accuracy at step 35000: 37.8%"
       ]
      },
      {
       "output_type": "stream",
       "stream": "stdout",
       "text": [
        "\n",
        "Test accuracy at step 35000: 38.2%"
       ]
      },
      {
       "output_type": "stream",
       "stream": "stdout",
       "text": [
        "\n",
        "Minibatch loss at step"
       ]
      },
      {
       "output_type": "stream",
       "stream": "stdout",
       "text": [
        " 36000 : 7.7386\n",
        "Minibatch accuracy: 28.1%\n",
        "Validation accuracy at step 36000: 36.9%"
       ]
      },
      {
       "output_type": "stream",
       "stream": "stdout",
       "text": [
        "\n",
        "Minibatch loss at step"
       ]
      },
      {
       "output_type": "stream",
       "stream": "stdout",
       "text": [
        " 37000 : 6.66146\n",
        "Minibatch accuracy: 46.9%\n",
        "Validation accuracy at step 37000: 37.1%"
       ]
      },
      {
       "output_type": "stream",
       "stream": "stdout",
       "text": [
        "\n",
        "Minibatch loss at step"
       ]
      },
      {
       "output_type": "stream",
       "stream": "stdout",
       "text": [
        " 38000 : 6.82322\n",
        "Minibatch accuracy: 25.0%\n",
        "Validation accuracy at step 38000: 38.5%"
       ]
      },
      {
       "output_type": "stream",
       "stream": "stdout",
       "text": [
        "\n",
        "Minibatch loss at step"
       ]
      },
      {
       "output_type": "stream",
       "stream": "stdout",
       "text": [
        " 39000 : 7.42438\n",
        "Minibatch accuracy: 28.1%\n",
        "Validation accuracy at step 39000: 38.5%"
       ]
      },
      {
       "output_type": "stream",
       "stream": "stdout",
       "text": [
        "\n",
        "Minibatch loss at step"
       ]
      },
      {
       "output_type": "stream",
       "stream": "stdout",
       "text": [
        " 40000 : 6.79259\n",
        "Minibatch accuracy: 37.5%\n",
        "Validation accuracy at step 40000: 37.3%"
       ]
      },
      {
       "output_type": "stream",
       "stream": "stdout",
       "text": [
        "\n",
        "Test accuracy at step 40000: 37.8%"
       ]
      },
      {
       "output_type": "stream",
       "stream": "stdout",
       "text": [
        "\n",
        "Minibatch loss at step"
       ]
      },
      {
       "output_type": "stream",
       "stream": "stdout",
       "text": [
        " 41000 : 6.80968\n",
        "Minibatch accuracy: 21.9%\n",
        "Validation accuracy at step 41000: 35.7%"
       ]
      },
      {
       "output_type": "stream",
       "stream": "stdout",
       "text": [
        "\n",
        "Minibatch loss at step"
       ]
      },
      {
       "output_type": "stream",
       "stream": "stdout",
       "text": [
        " 42000 : 6.63807\n",
        "Minibatch accuracy: 34.4%\n",
        "Validation accuracy at step 42000: 38.5%"
       ]
      },
      {
       "output_type": "stream",
       "stream": "stdout",
       "text": [
        "\n",
        "Minibatch loss at step"
       ]
      },
      {
       "output_type": "stream",
       "stream": "stdout",
       "text": [
        " 43000 : 6.46423\n",
        "Minibatch accuracy: 43.8%\n",
        "Validation accuracy at step 43000: 37.3%"
       ]
      },
      {
       "output_type": "stream",
       "stream": "stdout",
       "text": [
        "\n",
        "Minibatch loss at step"
       ]
      },
      {
       "output_type": "stream",
       "stream": "stdout",
       "text": [
        " 44000 : 6.59216\n",
        "Minibatch accuracy: 43.8%\n",
        "Validation accuracy at step 44000: 38.8%"
       ]
      },
      {
       "output_type": "stream",
       "stream": "stdout",
       "text": [
        "\n",
        "Minibatch loss at step"
       ]
      },
      {
       "output_type": "stream",
       "stream": "stdout",
       "text": [
        " 45000 : 6.02365\n",
        "Minibatch accuracy: 53.1%\n",
        "Validation accuracy at step 45000: 39.2%"
       ]
      },
      {
       "output_type": "stream",
       "stream": "stdout",
       "text": [
        "\n",
        "Test accuracy at step 45000: 39.6%"
       ]
      },
      {
       "output_type": "stream",
       "stream": "stdout",
       "text": [
        "\n",
        "Minibatch loss at step"
       ]
      },
      {
       "output_type": "stream",
       "stream": "stdout",
       "text": [
        " 46000 : 6.04853\n",
        "Minibatch accuracy: 53.1%\n",
        "Validation accuracy at step 46000: 39.1%"
       ]
      },
      {
       "output_type": "stream",
       "stream": "stdout",
       "text": [
        "\n",
        "Minibatch loss at step"
       ]
      },
      {
       "output_type": "stream",
       "stream": "stdout",
       "text": [
        " 47000 : 6.10922\n",
        "Minibatch accuracy: 53.1%\n",
        "Validation accuracy at step 47000: 36.8%"
       ]
      },
      {
       "output_type": "stream",
       "stream": "stdout",
       "text": [
        "\n",
        "Minibatch loss at step"
       ]
      },
      {
       "output_type": "stream",
       "stream": "stdout",
       "text": [
        " 48000 : 5.97325\n",
        "Minibatch accuracy: 56.2%\n",
        "Validation accuracy at step 48000: 38.2%"
       ]
      },
      {
       "output_type": "stream",
       "stream": "stdout",
       "text": [
        "\n",
        "Minibatch loss at step"
       ]
      },
      {
       "output_type": "stream",
       "stream": "stdout",
       "text": [
        " 49000 : 5.82146\n",
        "Minibatch accuracy: 56.2%\n",
        "Validation accuracy at step 49000: 39.3%"
       ]
      },
      {
       "output_type": "stream",
       "stream": "stdout",
       "text": [
        "\n",
        "Minibatch loss at step"
       ]
      },
      {
       "output_type": "stream",
       "stream": "stdout",
       "text": [
        " 50000 : 6.52948\n",
        "Minibatch accuracy: 18.8%\n",
        "Validation accuracy at step 50000: 39.7%"
       ]
      },
      {
       "output_type": "stream",
       "stream": "stdout",
       "text": [
        "\n",
        "Test accuracy at step 50000: 40.3%"
       ]
      },
      {
       "output_type": "stream",
       "stream": "stdout",
       "text": [
        "\n",
        "Minibatch loss at step"
       ]
      },
      {
       "output_type": "stream",
       "stream": "stdout",
       "text": [
        " 51000 : 6.18206\n",
        "Minibatch accuracy: 28.1%\n",
        "Validation accuracy at step 51000: 37.6%"
       ]
      },
      {
       "output_type": "stream",
       "stream": "stdout",
       "text": [
        "\n",
        "Minibatch loss at step"
       ]
      },
      {
       "output_type": "stream",
       "stream": "stdout",
       "text": [
        " 52000 : 5.97467\n",
        "Minibatch accuracy: 37.5%\n",
        "Validation accuracy at step 52000: 38.0%"
       ]
      },
      {
       "output_type": "stream",
       "stream": "stdout",
       "text": [
        "\n",
        "Minibatch loss at step"
       ]
      },
      {
       "output_type": "stream",
       "stream": "stdout",
       "text": [
        " 53000 : 5.79737\n",
        "Minibatch accuracy: 46.9%\n",
        "Validation accuracy at step 53000: 39.1%"
       ]
      },
      {
       "output_type": "stream",
       "stream": "stdout",
       "text": [
        "\n",
        "Minibatch loss at step"
       ]
      },
      {
       "output_type": "stream",
       "stream": "stdout",
       "text": [
        " 54000 : 5.97547\n",
        "Minibatch accuracy: 37.5%\n",
        "Validation accuracy at step 54000: 39.6%"
       ]
      },
      {
       "output_type": "stream",
       "stream": "stdout",
       "text": [
        "\n",
        "Minibatch loss at step"
       ]
      },
      {
       "output_type": "stream",
       "stream": "stdout",
       "text": [
        " 55000 : 5.79089\n",
        "Minibatch accuracy: 31.2%\n",
        "Validation accuracy at step 55000: 40.0%"
       ]
      },
      {
       "output_type": "stream",
       "stream": "stdout",
       "text": [
        "\n",
        "Test accuracy at step 55000: 40.2%"
       ]
      },
      {
       "output_type": "stream",
       "stream": "stdout",
       "text": [
        "\n",
        "Minibatch loss at step"
       ]
      },
      {
       "output_type": "stream",
       "stream": "stdout",
       "text": [
        " 56000 : 5.85925\n",
        "Minibatch accuracy: 50.0%\n",
        "Validation accuracy at step 56000: 41.2%"
       ]
      },
      {
       "output_type": "stream",
       "stream": "stdout",
       "text": [
        "\n",
        "Minibatch loss at step"
       ]
      },
      {
       "output_type": "stream",
       "stream": "stdout",
       "text": [
        " 57000 : 6.23118\n",
        "Minibatch accuracy: 28.1%\n",
        "Validation accuracy at step 57000: 39.7%"
       ]
      },
      {
       "output_type": "stream",
       "stream": "stdout",
       "text": [
        "\n",
        "Minibatch loss at step"
       ]
      },
      {
       "output_type": "stream",
       "stream": "stdout",
       "text": [
        " 58000 : 5.81547\n",
        "Minibatch accuracy: 34.4%\n",
        "Validation accuracy at step 58000: 38.6%"
       ]
      },
      {
       "output_type": "stream",
       "stream": "stdout",
       "text": [
        "\n",
        "Minibatch loss at step"
       ]
      },
      {
       "output_type": "stream",
       "stream": "stdout",
       "text": [
        " 59000 : 5.42694\n",
        "Minibatch accuracy: 50.0%\n",
        "Validation accuracy at step 59000: 40.7%"
       ]
      },
      {
       "output_type": "stream",
       "stream": "stdout",
       "text": [
        "\n",
        "Minibatch loss at step"
       ]
      },
      {
       "output_type": "stream",
       "stream": "stdout",
       "text": [
        " 60000 : 5.70837\n",
        "Minibatch accuracy: 37.5%\n",
        "Validation accuracy at step 60000: 39.9%"
       ]
      },
      {
       "output_type": "stream",
       "stream": "stdout",
       "text": [
        "\n",
        "Test accuracy at step 60000: 40.0%"
       ]
      },
      {
       "output_type": "stream",
       "stream": "stdout",
       "text": [
        "\n",
        "Minibatch loss at step"
       ]
      },
      {
       "output_type": "stream",
       "stream": "stdout",
       "text": [
        " 61000 : 5.75596\n",
        "Minibatch accuracy: 37.5%\n",
        "Validation accuracy at step 61000: 40.8%"
       ]
      },
      {
       "output_type": "stream",
       "stream": "stdout",
       "text": [
        "\n",
        "Minibatch loss at step"
       ]
      },
      {
       "output_type": "stream",
       "stream": "stdout",
       "text": [
        " 62000 : 5.27179\n",
        "Minibatch accuracy: 53.1%\n",
        "Validation accuracy at step 62000: 40.7%"
       ]
      },
      {
       "output_type": "stream",
       "stream": "stdout",
       "text": [
        "\n",
        "Minibatch loss at step"
       ]
      },
      {
       "output_type": "stream",
       "stream": "stdout",
       "text": [
        " 63000 : 5.32564\n",
        "Minibatch accuracy: 53.1%\n",
        "Validation accuracy at step 63000: 40.1%"
       ]
      },
      {
       "output_type": "stream",
       "stream": "stdout",
       "text": [
        "\n",
        "Minibatch loss at step"
       ]
      },
      {
       "output_type": "stream",
       "stream": "stdout",
       "text": [
        " 64000 : 5.51508\n",
        "Minibatch accuracy: 37.5%\n",
        "Validation accuracy at step 64000: 41.2%"
       ]
      },
      {
       "output_type": "stream",
       "stream": "stdout",
       "text": [
        "\n",
        "Minibatch loss at step"
       ]
      },
      {
       "output_type": "stream",
       "stream": "stdout",
       "text": [
        " 65000 : 5.57427\n",
        "Minibatch accuracy: 31.2%\n",
        "Validation accuracy at step 65000: 40.5%"
       ]
      },
      {
       "output_type": "stream",
       "stream": "stdout",
       "text": [
        "\n",
        "Test accuracy at step 65000: 40.5%"
       ]
      },
      {
       "output_type": "stream",
       "stream": "stdout",
       "text": [
        "\n",
        "Minibatch loss at step"
       ]
      },
      {
       "output_type": "stream",
       "stream": "stdout",
       "text": [
        " 66000 : 5.84306\n",
        "Minibatch accuracy: 25.0%\n",
        "Validation accuracy at step 66000: 40.4%"
       ]
      },
      {
       "output_type": "stream",
       "stream": "stdout",
       "text": [
        "\n",
        "Minibatch loss at step"
       ]
      },
      {
       "output_type": "stream",
       "stream": "stdout",
       "text": [
        " 67000 : 5.34169\n",
        "Minibatch accuracy: 46.9%\n",
        "Validation accuracy at step 67000: 39.5%"
       ]
      },
      {
       "output_type": "stream",
       "stream": "stdout",
       "text": [
        "\n",
        "Minibatch loss at step"
       ]
      },
      {
       "output_type": "stream",
       "stream": "stdout",
       "text": [
        " 68000 : 5.15482\n",
        "Minibatch accuracy: 40.6%\n",
        "Validation accuracy at step 68000: 39.1%"
       ]
      },
      {
       "output_type": "stream",
       "stream": "stdout",
       "text": [
        "\n",
        "Minibatch loss at step"
       ]
      },
      {
       "output_type": "stream",
       "stream": "stdout",
       "text": [
        " 69000 : 5.33236\n",
        "Minibatch accuracy: 43.8%\n",
        "Validation accuracy at step 69000: 40.2%"
       ]
      },
      {
       "output_type": "stream",
       "stream": "stdout",
       "text": [
        "\n",
        "Minibatch loss at step"
       ]
      },
      {
       "output_type": "stream",
       "stream": "stdout",
       "text": [
        " 70000 : 5.39187\n",
        "Minibatch accuracy: 31.2%\n",
        "Validation accuracy at step 70000: 40.3%"
       ]
      },
      {
       "output_type": "stream",
       "stream": "stdout",
       "text": [
        "\n",
        "Test accuracy at step 70000: 40.7%"
       ]
      },
      {
       "output_type": "stream",
       "stream": "stdout",
       "text": [
        "\n",
        "Minibatch loss at step"
       ]
      },
      {
       "output_type": "stream",
       "stream": "stdout",
       "text": [
        " 71000 : 4.96206\n",
        "Minibatch accuracy: 56.2%\n",
        "Validation accuracy at step 71000: 40.7%"
       ]
      },
      {
       "output_type": "stream",
       "stream": "stdout",
       "text": [
        "\n",
        "Minibatch loss at step"
       ]
      },
      {
       "output_type": "stream",
       "stream": "stdout",
       "text": [
        " 72000 : 5.27002\n",
        "Minibatch accuracy: 43.8%\n",
        "Validation accuracy at step 72000: 42.0%"
       ]
      },
      {
       "output_type": "stream",
       "stream": "stdout",
       "text": [
        "\n",
        "Minibatch loss at step"
       ]
      },
      {
       "output_type": "stream",
       "stream": "stdout",
       "text": [
        " 73000 : 5.2149\n",
        "Minibatch accuracy: 46.9%\n",
        "Validation accuracy at step 73000: 42.6%"
       ]
      },
      {
       "output_type": "stream",
       "stream": "stdout",
       "text": [
        "\n",
        "Minibatch loss at step"
       ]
      },
      {
       "output_type": "stream",
       "stream": "stdout",
       "text": [
        " 74000 : 5.07727\n",
        "Minibatch accuracy: 31.2%\n",
        "Validation accuracy at step 74000: 41.9%"
       ]
      },
      {
       "output_type": "stream",
       "stream": "stdout",
       "text": [
        "\n",
        "Minibatch loss at step"
       ]
      },
      {
       "output_type": "stream",
       "stream": "stdout",
       "text": [
        " 75000 : 5.10249\n",
        "Minibatch accuracy: 37.5%\n",
        "Validation accuracy at step 75000: 41.3%"
       ]
      },
      {
       "output_type": "stream",
       "stream": "stdout",
       "text": [
        "\n",
        "Test accuracy at step 75000: 41.9%"
       ]
      },
      {
       "output_type": "stream",
       "stream": "stdout",
       "text": [
        "\n",
        "Minibatch loss at step"
       ]
      },
      {
       "output_type": "stream",
       "stream": "stdout",
       "text": [
        " 76000 : 5.15645\n",
        "Minibatch accuracy: 37.5%\n",
        "Validation accuracy at step 76000: 41.9%"
       ]
      },
      {
       "output_type": "stream",
       "stream": "stdout",
       "text": [
        "\n",
        "Minibatch loss at step"
       ]
      },
      {
       "output_type": "stream",
       "stream": "stdout",
       "text": [
        " 77000 : 4.78677\n",
        "Minibatch accuracy: 50.0%\n",
        "Validation accuracy at step 77000: 41.3%"
       ]
      },
      {
       "output_type": "stream",
       "stream": "stdout",
       "text": [
        "\n",
        "Minibatch loss at step"
       ]
      },
      {
       "output_type": "stream",
       "stream": "stdout",
       "text": [
        " 78000 : 5.02428\n",
        "Minibatch accuracy: 59.4%\n",
        "Validation accuracy at step 78000: 41.0%"
       ]
      },
      {
       "output_type": "stream",
       "stream": "stdout",
       "text": [
        "\n",
        "Minibatch loss at step"
       ]
      },
      {
       "output_type": "stream",
       "stream": "stdout",
       "text": [
        " 79000 : 4.91756\n",
        "Minibatch accuracy: 46.9%\n",
        "Validation accuracy at step 79000: 41.8%"
       ]
      },
      {
       "output_type": "stream",
       "stream": "stdout",
       "text": [
        "\n",
        "Minibatch loss at step"
       ]
      },
      {
       "output_type": "stream",
       "stream": "stdout",
       "text": [
        " 80000 : 4.68909\n",
        "Minibatch accuracy: 50.0%\n",
        "Validation accuracy at step 80000: 41.9%"
       ]
      },
      {
       "output_type": "stream",
       "stream": "stdout",
       "text": [
        "\n",
        "Test accuracy at step 80000: 42.4%"
       ]
      },
      {
       "output_type": "stream",
       "stream": "stdout",
       "text": [
        "\n",
        "Minibatch loss at step"
       ]
      },
      {
       "output_type": "stream",
       "stream": "stdout",
       "text": [
        " 81000 : 4.87974\n",
        "Minibatch accuracy: 43.8%\n",
        "Validation accuracy at step 81000: 42.3%"
       ]
      },
      {
       "output_type": "stream",
       "stream": "stdout",
       "text": [
        "\n",
        "Minibatch loss at step"
       ]
      },
      {
       "output_type": "stream",
       "stream": "stdout",
       "text": [
        " 82000 : 4.65878\n",
        "Minibatch accuracy: 43.8%\n",
        "Validation accuracy at step 82000: 41.2%"
       ]
      },
      {
       "output_type": "stream",
       "stream": "stdout",
       "text": [
        "\n",
        "Minibatch loss at step"
       ]
      },
      {
       "output_type": "stream",
       "stream": "stdout",
       "text": [
        " 83000 : 5.18866\n",
        "Minibatch accuracy: 46.9%\n",
        "Validation accuracy at step 83000: 42.0%"
       ]
      },
      {
       "output_type": "stream",
       "stream": "stdout",
       "text": [
        "\n",
        "Minibatch loss at step"
       ]
      },
      {
       "output_type": "stream",
       "stream": "stdout",
       "text": [
        " 84000 : 4.98153\n",
        "Minibatch accuracy: 53.1%\n",
        "Validation accuracy at step 84000: 40.3%"
       ]
      },
      {
       "output_type": "stream",
       "stream": "stdout",
       "text": [
        "\n",
        "Minibatch loss at step"
       ]
      },
      {
       "output_type": "stream",
       "stream": "stdout",
       "text": [
        " 85000 : 4.55706\n",
        "Minibatch accuracy: 43.8%\n",
        "Validation accuracy at step 85000: 43.5%"
       ]
      },
      {
       "output_type": "stream",
       "stream": "stdout",
       "text": [
        "\n",
        "Test accuracy at step 85000: 43.8%"
       ]
      },
      {
       "output_type": "stream",
       "stream": "stdout",
       "text": [
        "\n",
        "Minibatch loss at step"
       ]
      },
      {
       "output_type": "stream",
       "stream": "stdout",
       "text": [
        " 86000 : 4.61218\n",
        "Minibatch accuracy: 34.4%\n",
        "Validation accuracy at step 86000: 42.4%"
       ]
      },
      {
       "output_type": "stream",
       "stream": "stdout",
       "text": [
        "\n",
        "Minibatch loss at step"
       ]
      },
      {
       "output_type": "stream",
       "stream": "stdout",
       "text": [
        " 87000 : 4.27642\n",
        "Minibatch accuracy: 65.6%\n",
        "Validation accuracy at step 87000: 41.0%"
       ]
      },
      {
       "output_type": "stream",
       "stream": "stdout",
       "text": [
        "\n",
        "Minibatch loss at step"
       ]
      },
      {
       "output_type": "stream",
       "stream": "stdout",
       "text": [
        " 88000 : 4.715\n",
        "Minibatch accuracy: 46.9%\n",
        "Validation accuracy at step 88000: 42.5%"
       ]
      },
      {
       "output_type": "stream",
       "stream": "stdout",
       "text": [
        "\n",
        "Minibatch loss at step"
       ]
      },
      {
       "output_type": "stream",
       "stream": "stdout",
       "text": [
        " 89000 : 4.58078\n",
        "Minibatch accuracy: 59.4%\n",
        "Validation accuracy at step 89000: 41.1%"
       ]
      },
      {
       "output_type": "stream",
       "stream": "stdout",
       "text": [
        "\n",
        "Minibatch loss at step"
       ]
      },
      {
       "output_type": "stream",
       "stream": "stdout",
       "text": [
        " 90000 : 4.71894\n",
        "Minibatch accuracy: 43.8%\n",
        "Validation accuracy at step 90000: 42.4%"
       ]
      },
      {
       "output_type": "stream",
       "stream": "stdout",
       "text": [
        "\n",
        "Test accuracy at step 90000: 42.8%"
       ]
      },
      {
       "output_type": "stream",
       "stream": "stdout",
       "text": [
        "\n",
        "Minibatch loss at step"
       ]
      },
      {
       "output_type": "stream",
       "stream": "stdout",
       "text": [
        " 91000 : 4.71221\n",
        "Minibatch accuracy: 46.9%\n",
        "Validation accuracy at step 91000: 43.3%"
       ]
      },
      {
       "output_type": "stream",
       "stream": "stdout",
       "text": [
        "\n",
        "Minibatch loss at step"
       ]
      },
      {
       "output_type": "stream",
       "stream": "stdout",
       "text": [
        " 92000 : 4.41493\n",
        "Minibatch accuracy: 50.0%\n",
        "Validation accuracy at step 92000: 43.8%"
       ]
      },
      {
       "output_type": "stream",
       "stream": "stdout",
       "text": [
        "\n",
        "Minibatch loss at step"
       ]
      },
      {
       "output_type": "stream",
       "stream": "stdout",
       "text": [
        " 93000 : 4.8224\n",
        "Minibatch accuracy: 34.4%\n",
        "Validation accuracy at step 93000: 43.4%"
       ]
      },
      {
       "output_type": "stream",
       "stream": "stdout",
       "text": [
        "\n",
        "Minibatch loss at step"
       ]
      },
      {
       "output_type": "stream",
       "stream": "stdout",
       "text": [
        " 94000 : 4.60204\n",
        "Minibatch accuracy: 40.6%\n",
        "Validation accuracy at step 94000: 44.3%"
       ]
      },
      {
       "output_type": "stream",
       "stream": "stdout",
       "text": [
        "\n",
        "Minibatch loss at step"
       ]
      },
      {
       "output_type": "stream",
       "stream": "stdout",
       "text": [
        " 95000 : 4.6756\n",
        "Minibatch accuracy: 34.4%\n",
        "Validation accuracy at step 95000: 43.3%"
       ]
      },
      {
       "output_type": "stream",
       "stream": "stdout",
       "text": [
        "\n",
        "Test accuracy at step 95000: 43.3%"
       ]
      },
      {
       "output_type": "stream",
       "stream": "stdout",
       "text": [
        "\n",
        "Minibatch loss at step"
       ]
      },
      {
       "output_type": "stream",
       "stream": "stdout",
       "text": [
        " 96000 : 4.68587\n",
        "Minibatch accuracy: 34.4%\n",
        "Validation accuracy at step 96000: 44.2%"
       ]
      },
      {
       "output_type": "stream",
       "stream": "stdout",
       "text": [
        "\n",
        "Minibatch loss at step"
       ]
      },
      {
       "output_type": "stream",
       "stream": "stdout",
       "text": [
        " 97000 : 4.5178\n",
        "Minibatch accuracy: 34.4%\n",
        "Validation accuracy at step 97000: 44.1%"
       ]
      },
      {
       "output_type": "stream",
       "stream": "stdout",
       "text": [
        "\n",
        "Minibatch loss at step"
       ]
      },
      {
       "output_type": "stream",
       "stream": "stdout",
       "text": [
        " 98000 : 4.33251\n",
        "Minibatch accuracy: 56.2%\n",
        "Validation accuracy at step 98000: 42.6%"
       ]
      },
      {
       "output_type": "stream",
       "stream": "stdout",
       "text": [
        "\n",
        "Minibatch loss at step"
       ]
      },
      {
       "output_type": "stream",
       "stream": "stdout",
       "text": [
        " 99000 : 4.26662\n",
        "Minibatch accuracy: 50.0%\n",
        "Validation accuracy at step 99000: 42.2%"
       ]
      },
      {
       "output_type": "stream",
       "stream": "stdout",
       "text": [
        "\n",
        "Minibatch loss at step"
       ]
      },
      {
       "output_type": "stream",
       "stream": "stdout",
       "text": [
        " 100000 : 4.30138\n",
        "Minibatch accuracy: 40.6%\n",
        "Validation accuracy at step 100000: 44.3%"
       ]
      },
      {
       "output_type": "stream",
       "stream": "stdout",
       "text": [
        "\n",
        "Test accuracy at step 100000: 44.3%"
       ]
      },
      {
       "output_type": "stream",
       "stream": "stdout",
       "text": [
        "\n",
        "Minibatch loss at step"
       ]
      },
      {
       "output_type": "stream",
       "stream": "stdout",
       "text": [
        " 101000 : 4.23655\n",
        "Minibatch accuracy: 50.0%\n",
        "Validation accuracy at step 101000: 42.7%"
       ]
      },
      {
       "output_type": "stream",
       "stream": "stdout",
       "text": [
        "\n",
        "Minibatch loss at step"
       ]
      },
      {
       "output_type": "stream",
       "stream": "stdout",
       "text": [
        " 102000 : 4.23309\n",
        "Minibatch accuracy: 50.0%\n",
        "Validation accuracy at step 102000: 41.9%"
       ]
      },
      {
       "output_type": "stream",
       "stream": "stdout",
       "text": [
        "\n",
        "Minibatch loss at step"
       ]
      },
      {
       "output_type": "stream",
       "stream": "stdout",
       "text": [
        " 103000 : 4.2851\n",
        "Minibatch accuracy: 37.5%\n",
        "Validation accuracy at step 103000: 43.9%"
       ]
      },
      {
       "output_type": "stream",
       "stream": "stdout",
       "text": [
        "\n",
        "Minibatch loss at step"
       ]
      },
      {
       "output_type": "stream",
       "stream": "stdout",
       "text": [
        " 104000 : 4.27559\n",
        "Minibatch accuracy: 43.8%\n",
        "Validation accuracy at step 104000: 41.6%"
       ]
      },
      {
       "output_type": "stream",
       "stream": "stdout",
       "text": [
        "\n",
        "Minibatch loss at step"
       ]
      },
      {
       "output_type": "stream",
       "stream": "stdout",
       "text": [
        " 105000 : 4.21203\n",
        "Minibatch accuracy: 43.8%\n",
        "Validation accuracy at step 105000: 43.5%"
       ]
      },
      {
       "output_type": "stream",
       "stream": "stdout",
       "text": [
        "\n",
        "Test accuracy at step 105000: 43.5%"
       ]
      },
      {
       "output_type": "stream",
       "stream": "stdout",
       "text": [
        "\n",
        "Minibatch loss at step"
       ]
      },
      {
       "output_type": "stream",
       "stream": "stdout",
       "text": [
        " 106000 : 4.28789\n",
        "Minibatch accuracy: 40.6%\n",
        "Validation accuracy at step 106000: 43.2%"
       ]
      },
      {
       "output_type": "stream",
       "stream": "stdout",
       "text": [
        "\n",
        "Minibatch loss at step"
       ]
      },
      {
       "output_type": "stream",
       "stream": "stdout",
       "text": [
        " 107000 : 4.22654\n",
        "Minibatch accuracy: 46.9%\n",
        "Validation accuracy at step 107000: 43.9%"
       ]
      },
      {
       "output_type": "stream",
       "stream": "stdout",
       "text": [
        "\n",
        "Minibatch loss at step"
       ]
      },
      {
       "output_type": "stream",
       "stream": "stdout",
       "text": [
        " 108000 : 4.23286\n",
        "Minibatch accuracy: 46.9%\n",
        "Validation accuracy at step 108000: 43.4%"
       ]
      },
      {
       "output_type": "stream",
       "stream": "stdout",
       "text": [
        "\n",
        "Minibatch loss at step"
       ]
      },
      {
       "output_type": "stream",
       "stream": "stdout",
       "text": [
        " 109000 : 4.1243\n",
        "Minibatch accuracy: 40.6%\n",
        "Validation accuracy at step 109000: 43.9%"
       ]
      },
      {
       "output_type": "stream",
       "stream": "stdout",
       "text": [
        "\n",
        "Minibatch loss at step"
       ]
      },
      {
       "output_type": "stream",
       "stream": "stdout",
       "text": [
        " 110000 : 4.14849\n",
        "Minibatch accuracy: 46.9%\n",
        "Validation accuracy at step 110000: 43.4%"
       ]
      },
      {
       "output_type": "stream",
       "stream": "stdout",
       "text": [
        "\n",
        "Test accuracy at step 110000: 43.9%"
       ]
      },
      {
       "output_type": "stream",
       "stream": "stdout",
       "text": [
        "\n",
        "Minibatch loss at step"
       ]
      },
      {
       "output_type": "stream",
       "stream": "stdout",
       "text": [
        " 111000 : 4.13825\n",
        "Minibatch accuracy: 40.6%\n",
        "Validation accuracy at step 111000: 45.4%"
       ]
      },
      {
       "output_type": "stream",
       "stream": "stdout",
       "text": [
        "\n",
        "Minibatch loss at step"
       ]
      },
      {
       "output_type": "stream",
       "stream": "stdout",
       "text": [
        " 112000 : 4.02661\n",
        "Minibatch accuracy: 46.9%\n",
        "Validation accuracy at step 112000: 42.0%"
       ]
      },
      {
       "output_type": "stream",
       "stream": "stdout",
       "text": [
        "\n",
        "Minibatch loss at step"
       ]
      },
      {
       "output_type": "stream",
       "stream": "stdout",
       "text": [
        " 113000 : 4.06371\n",
        "Minibatch accuracy: 46.9%\n",
        "Validation accuracy at step 113000: 43.3%"
       ]
      },
      {
       "output_type": "stream",
       "stream": "stdout",
       "text": [
        "\n",
        "Minibatch loss at step"
       ]
      },
      {
       "output_type": "stream",
       "stream": "stdout",
       "text": [
        " 114000 : 4.18966\n",
        "Minibatch accuracy: 40.6%\n",
        "Validation accuracy at step 114000: 44.1%"
       ]
      },
      {
       "output_type": "stream",
       "stream": "stdout",
       "text": [
        "\n",
        "Minibatch loss at step"
       ]
      },
      {
       "output_type": "stream",
       "stream": "stdout",
       "text": [
        " 115000 : 4.11791\n",
        "Minibatch accuracy: 40.6%\n",
        "Validation accuracy at step 115000: 44.1%"
       ]
      },
      {
       "output_type": "stream",
       "stream": "stdout",
       "text": [
        "\n",
        "Test accuracy at step 115000: 43.9%"
       ]
      },
      {
       "output_type": "stream",
       "stream": "stdout",
       "text": [
        "\n",
        "Minibatch loss at step"
       ]
      },
      {
       "output_type": "stream",
       "stream": "stdout",
       "text": [
        " 116000 : 4.23147\n",
        "Minibatch accuracy: 34.4%\n",
        "Validation accuracy at step 116000: 44.5%"
       ]
      },
      {
       "output_type": "stream",
       "stream": "stdout",
       "text": [
        "\n",
        "Minibatch loss at step"
       ]
      },
      {
       "output_type": "stream",
       "stream": "stdout",
       "text": [
        " 117000 : 4.16182\n",
        "Minibatch accuracy: 46.9%\n",
        "Validation accuracy at step 117000: 43.1%"
       ]
      },
      {
       "output_type": "stream",
       "stream": "stdout",
       "text": [
        "\n",
        "Minibatch loss at step"
       ]
      },
      {
       "output_type": "stream",
       "stream": "stdout",
       "text": [
        " 118000 : 3.89225\n",
        "Minibatch accuracy: 50.0%\n",
        "Validation accuracy at step 118000: 43.3%"
       ]
      },
      {
       "output_type": "stream",
       "stream": "stdout",
       "text": [
        "\n",
        "Minibatch loss at step"
       ]
      },
      {
       "output_type": "stream",
       "stream": "stdout",
       "text": [
        " 119000 : 3.825\n",
        "Minibatch accuracy: 46.9%\n",
        "Validation accuracy at step 119000: 43.6%"
       ]
      },
      {
       "output_type": "stream",
       "stream": "stdout",
       "text": [
        "\n",
        "Minibatch loss at step"
       ]
      },
      {
       "output_type": "stream",
       "stream": "stdout",
       "text": [
        " 120000 : 3.98998\n",
        "Minibatch accuracy: 46.9%\n",
        "Validation accuracy at step 120000: 44.2%"
       ]
      },
      {
       "output_type": "stream",
       "stream": "stdout",
       "text": [
        "\n",
        "Test accuracy at step 120000: 44.3%"
       ]
      },
      {
       "output_type": "stream",
       "stream": "stdout",
       "text": [
        "\n",
        "Minibatch loss at step"
       ]
      },
      {
       "output_type": "stream",
       "stream": "stdout",
       "text": [
        " 121000 : 4.00048\n",
        "Minibatch accuracy: 40.6%\n",
        "Validation accuracy at step 121000: 45.1%"
       ]
      },
      {
       "output_type": "stream",
       "stream": "stdout",
       "text": [
        "\n",
        "Minibatch loss at step"
       ]
      },
      {
       "output_type": "stream",
       "stream": "stdout",
       "text": [
        " 122000 : 3.82381\n",
        "Minibatch accuracy: 50.0%\n",
        "Validation accuracy at step 122000: 44.4%"
       ]
      },
      {
       "output_type": "stream",
       "stream": "stdout",
       "text": [
        "\n",
        "Minibatch loss at step"
       ]
      },
      {
       "output_type": "stream",
       "stream": "stdout",
       "text": [
        " 123000 : 3.88624\n",
        "Minibatch accuracy: 46.9%\n",
        "Validation accuracy at step 123000: 44.9%"
       ]
      },
      {
       "output_type": "stream",
       "stream": "stdout",
       "text": [
        "\n",
        "Minibatch loss at step"
       ]
      },
      {
       "output_type": "stream",
       "stream": "stdout",
       "text": [
        " 124000 : 3.96117\n",
        "Minibatch accuracy: 37.5%\n",
        "Validation accuracy at step 124000: 43.6%"
       ]
      },
      {
       "output_type": "stream",
       "stream": "stdout",
       "text": [
        "\n",
        "Minibatch loss at step"
       ]
      },
      {
       "output_type": "stream",
       "stream": "stdout",
       "text": [
        " 125000 : 3.80913\n",
        "Minibatch accuracy: 53.1%\n",
        "Validation accuracy at step 125000: 45.0%"
       ]
      },
      {
       "output_type": "stream",
       "stream": "stdout",
       "text": [
        "\n",
        "Test accuracy at step 125000: 44.6%"
       ]
      },
      {
       "output_type": "stream",
       "stream": "stdout",
       "text": [
        "\n",
        "Minibatch loss at step"
       ]
      },
      {
       "output_type": "stream",
       "stream": "stdout",
       "text": [
        " 126000 : 3.86502\n",
        "Minibatch accuracy: 40.6%\n",
        "Validation accuracy at step 126000: 45.1%"
       ]
      },
      {
       "output_type": "stream",
       "stream": "stdout",
       "text": [
        "\n",
        "Minibatch loss at step"
       ]
      },
      {
       "output_type": "stream",
       "stream": "stdout",
       "text": [
        " 127000 : 3.8582\n",
        "Minibatch accuracy: 40.6%\n",
        "Validation accuracy at step 127000: 42.4%"
       ]
      },
      {
       "output_type": "stream",
       "stream": "stdout",
       "text": [
        "\n",
        "Minibatch loss at step"
       ]
      },
      {
       "output_type": "stream",
       "stream": "stdout",
       "text": [
        " 128000 : 3.89282\n",
        "Minibatch accuracy: 43.8%\n",
        "Validation accuracy at step 128000: 44.3%"
       ]
      },
      {
       "output_type": "stream",
       "stream": "stdout",
       "text": [
        "\n",
        "Minibatch loss at step"
       ]
      },
      {
       "output_type": "stream",
       "stream": "stdout",
       "text": [
        " 129000 : 3.72058\n",
        "Minibatch accuracy: 43.8%\n",
        "Validation accuracy at step 129000: 45.2%"
       ]
      },
      {
       "output_type": "stream",
       "stream": "stdout",
       "text": [
        "\n",
        "Minibatch loss at step"
       ]
      },
      {
       "output_type": "stream",
       "stream": "stdout",
       "text": [
        " 130000 : 3.88387\n",
        "Minibatch accuracy: 34.4%\n",
        "Validation accuracy at step 130000: 43.9%"
       ]
      },
      {
       "output_type": "stream",
       "stream": "stdout",
       "text": [
        "\n",
        "Test accuracy at step 130000: 44.2%"
       ]
      },
      {
       "output_type": "stream",
       "stream": "stdout",
       "text": [
        "\n",
        "Minibatch loss at step"
       ]
      },
      {
       "output_type": "stream",
       "stream": "stdout",
       "text": [
        " 131000 : 3.82275\n",
        "Minibatch accuracy: 43.8%\n",
        "Validation accuracy at step 131000: 44.3%"
       ]
      },
      {
       "output_type": "stream",
       "stream": "stdout",
       "text": [
        "\n",
        "Minibatch loss at step"
       ]
      },
      {
       "output_type": "stream",
       "stream": "stdout",
       "text": [
        " 132000 : 3.51462\n",
        "Minibatch accuracy: 62.5%\n",
        "Validation accuracy at step 132000: 44.9%"
       ]
      },
      {
       "output_type": "stream",
       "stream": "stdout",
       "text": [
        "\n",
        "Minibatch loss at step"
       ]
      },
      {
       "output_type": "stream",
       "stream": "stdout",
       "text": [
        " 133000 : 3.54993\n",
        "Minibatch accuracy: 53.1%\n",
        "Validation accuracy at step 133000: 44.0%"
       ]
      },
      {
       "output_type": "stream",
       "stream": "stdout",
       "text": [
        "\n",
        "Minibatch loss at step"
       ]
      },
      {
       "output_type": "stream",
       "stream": "stdout",
       "text": [
        " 134000 : 3.79316\n",
        "Minibatch accuracy: 40.6%\n",
        "Validation accuracy at step 134000: 44.0%"
       ]
      },
      {
       "output_type": "stream",
       "stream": "stdout",
       "text": [
        "\n",
        "Minibatch loss at step"
       ]
      },
      {
       "output_type": "stream",
       "stream": "stdout",
       "text": [
        " 135000 : 3.79687\n",
        "Minibatch accuracy: 34.4%\n",
        "Validation accuracy at step 135000: 44.3%"
       ]
      },
      {
       "output_type": "stream",
       "stream": "stdout",
       "text": [
        "\n",
        "Test accuracy at step 135000: 44.8%"
       ]
      },
      {
       "output_type": "stream",
       "stream": "stdout",
       "text": [
        "\n",
        "Minibatch loss at step"
       ]
      },
      {
       "output_type": "stream",
       "stream": "stdout",
       "text": [
        " 136000 : 3.66835\n",
        "Minibatch accuracy: 46.9%\n",
        "Validation accuracy at step 136000: 44.3%"
       ]
      },
      {
       "output_type": "stream",
       "stream": "stdout",
       "text": [
        "\n",
        "Minibatch loss at step"
       ]
      },
      {
       "output_type": "stream",
       "stream": "stdout",
       "text": [
        " 137000 : 3.58685\n",
        "Minibatch accuracy: 43.8%\n",
        "Validation accuracy at step 137000: 45.1%"
       ]
      },
      {
       "output_type": "stream",
       "stream": "stdout",
       "text": [
        "\n",
        "Minibatch loss at step"
       ]
      },
      {
       "output_type": "stream",
       "stream": "stdout",
       "text": [
        " 138000 : 3.96681\n",
        "Minibatch accuracy: 31.2%\n",
        "Validation accuracy at step 138000: 45.1%"
       ]
      },
      {
       "output_type": "stream",
       "stream": "stdout",
       "text": [
        "\n",
        "Minibatch loss at step"
       ]
      },
      {
       "output_type": "stream",
       "stream": "stdout",
       "text": [
        " 139000 : 3.35203\n",
        "Minibatch accuracy: 46.9%\n",
        "Validation accuracy at step 139000: 45.5%"
       ]
      },
      {
       "output_type": "stream",
       "stream": "stdout",
       "text": [
        "\n",
        "Minibatch loss at step"
       ]
      },
      {
       "output_type": "stream",
       "stream": "stdout",
       "text": [
        " 140000 : 3.61607\n",
        "Minibatch accuracy: 50.0%\n",
        "Validation accuracy at step 140000: 44.7%"
       ]
      },
      {
       "output_type": "stream",
       "stream": "stdout",
       "text": [
        "\n",
        "Test accuracy at step 140000: 45.2%"
       ]
      },
      {
       "output_type": "stream",
       "stream": "stdout",
       "text": [
        "\n",
        "Minibatch loss at step"
       ]
      },
      {
       "output_type": "stream",
       "stream": "stdout",
       "text": [
        " 141000 : 3.73278\n",
        "Minibatch accuracy: 43.8%\n",
        "Validation accuracy at step 141000: 45.5%"
       ]
      },
      {
       "output_type": "stream",
       "stream": "stdout",
       "text": [
        "\n",
        "Minibatch loss at step"
       ]
      },
      {
       "output_type": "stream",
       "stream": "stdout",
       "text": [
        " 142000 : 3.68466\n",
        "Minibatch accuracy: 34.4%\n",
        "Validation accuracy at step 142000: 44.3%"
       ]
      },
      {
       "output_type": "stream",
       "stream": "stdout",
       "text": [
        "\n",
        "Minibatch loss at step"
       ]
      },
      {
       "output_type": "stream",
       "stream": "stdout",
       "text": [
        " 143000 : 3.65308\n",
        "Minibatch accuracy: 34.4%\n",
        "Validation accuracy at step 143000: 45.6%"
       ]
      },
      {
       "output_type": "stream",
       "stream": "stdout",
       "text": [
        "\n",
        "Minibatch loss at step"
       ]
      },
      {
       "output_type": "stream",
       "stream": "stdout",
       "text": [
        " 144000 : 3.52842\n",
        "Minibatch accuracy: 46.9%\n",
        "Validation accuracy at step 144000: 45.4%"
       ]
      },
      {
       "output_type": "stream",
       "stream": "stdout",
       "text": [
        "\n",
        "Minibatch loss at step"
       ]
      },
      {
       "output_type": "stream",
       "stream": "stdout",
       "text": [
        " 145000 : 3.4383\n",
        "Minibatch accuracy: 56.2%\n",
        "Validation accuracy at step 145000: 42.8%"
       ]
      },
      {
       "output_type": "stream",
       "stream": "stdout",
       "text": [
        "\n",
        "Test accuracy at step 145000: 42.5%"
       ]
      },
      {
       "output_type": "stream",
       "stream": "stdout",
       "text": [
        "\n",
        "Minibatch loss at step"
       ]
      },
      {
       "output_type": "stream",
       "stream": "stdout",
       "text": [
        " 146000 : 3.58347\n",
        "Minibatch accuracy: 50.0%\n",
        "Validation accuracy at step 146000: 45.6%"
       ]
      },
      {
       "output_type": "stream",
       "stream": "stdout",
       "text": [
        "\n",
        "Minibatch loss at step"
       ]
      },
      {
       "output_type": "stream",
       "stream": "stdout",
       "text": [
        " 147000 : 3.4244\n",
        "Minibatch accuracy: 43.8%\n",
        "Validation accuracy at step 147000: 45.5%"
       ]
      },
      {
       "output_type": "stream",
       "stream": "stdout",
       "text": [
        "\n",
        "Minibatch loss at step"
       ]
      },
      {
       "output_type": "stream",
       "stream": "stdout",
       "text": [
        " 148000 : 3.73661\n",
        "Minibatch accuracy: 37.5%\n",
        "Validation accuracy at step 148000: 45.9%"
       ]
      },
      {
       "output_type": "stream",
       "stream": "stdout",
       "text": [
        "\n",
        "Minibatch loss at step"
       ]
      },
      {
       "output_type": "stream",
       "stream": "stdout",
       "text": [
        " 149000 : 3.30645\n",
        "Minibatch accuracy: 53.1%\n",
        "Validation accuracy at step 149000: 44.4%"
       ]
      },
      {
       "output_type": "stream",
       "stream": "stdout",
       "text": [
        "\n",
        "Minibatch loss at step"
       ]
      },
      {
       "output_type": "stream",
       "stream": "stdout",
       "text": [
        " 150000 : 3.2852\n",
        "Minibatch accuracy: 53.1%\n",
        "Validation accuracy at step 150000: 44.8%"
       ]
      },
      {
       "output_type": "stream",
       "stream": "stdout",
       "text": [
        "\n",
        "Test accuracy at step 150000: 44.9%"
       ]
      },
      {
       "output_type": "stream",
       "stream": "stdout",
       "text": [
        "\n",
        "Minibatch loss at step"
       ]
      },
      {
       "output_type": "stream",
       "stream": "stdout",
       "text": [
        " 151000 : 3.63495\n",
        "Minibatch accuracy: 40.6%\n",
        "Validation accuracy at step 151000: 44.1%"
       ]
      },
      {
       "output_type": "stream",
       "stream": "stdout",
       "text": [
        "\n",
        "Minibatch loss at step"
       ]
      },
      {
       "output_type": "stream",
       "stream": "stdout",
       "text": [
        " 152000 : 3.68728\n",
        "Minibatch accuracy: 40.6%\n",
        "Validation accuracy at step 152000: 44.0%"
       ]
      },
      {
       "output_type": "stream",
       "stream": "stdout",
       "text": [
        "\n",
        "Minibatch loss at step"
       ]
      },
      {
       "output_type": "stream",
       "stream": "stdout",
       "text": [
        " 153000 : 3.43968\n",
        "Minibatch accuracy: 40.6%\n",
        "Validation accuracy at step 153000: 45.6%"
       ]
      },
      {
       "output_type": "stream",
       "stream": "stdout",
       "text": [
        "\n",
        "Minibatch loss at step"
       ]
      },
      {
       "output_type": "stream",
       "stream": "stdout",
       "text": [
        " 154000 : 3.24192\n",
        "Minibatch accuracy: 46.9%\n",
        "Validation accuracy at step 154000: 45.9%"
       ]
      },
      {
       "output_type": "stream",
       "stream": "stdout",
       "text": [
        "\n",
        "Minibatch loss at step"
       ]
      },
      {
       "output_type": "stream",
       "stream": "stdout",
       "text": [
        " 155000 : 3.29437\n",
        "Minibatch accuracy: 56.2%\n",
        "Validation accuracy at step 155000: 45.3%"
       ]
      },
      {
       "output_type": "stream",
       "stream": "stdout",
       "text": [
        "\n",
        "Test accuracy at step 155000: 45.1%"
       ]
      },
      {
       "output_type": "stream",
       "stream": "stdout",
       "text": [
        "\n",
        "Minibatch loss at step"
       ]
      },
      {
       "output_type": "stream",
       "stream": "stdout",
       "text": [
        " 156000 : 3.38729\n",
        "Minibatch accuracy: 46.9%\n",
        "Validation accuracy at step 156000: 45.6%"
       ]
      },
      {
       "output_type": "stream",
       "stream": "stdout",
       "text": [
        "\n",
        "Minibatch loss at step"
       ]
      },
      {
       "output_type": "stream",
       "stream": "stdout",
       "text": [
        " 157000 : 3.20609\n",
        "Minibatch accuracy: 56.2%\n",
        "Validation accuracy at step 157000: 45.4%"
       ]
      },
      {
       "output_type": "stream",
       "stream": "stdout",
       "text": [
        "\n",
        "Minibatch loss at step"
       ]
      },
      {
       "output_type": "stream",
       "stream": "stdout",
       "text": [
        " 158000 : 3.15801\n",
        "Minibatch accuracy: 53.1%\n",
        "Validation accuracy at step 158000: 46.3%"
       ]
      },
      {
       "output_type": "stream",
       "stream": "stdout",
       "text": [
        "\n",
        "Minibatch loss at step"
       ]
      },
      {
       "output_type": "stream",
       "stream": "stdout",
       "text": [
        " 159000 : 3.38326\n",
        "Minibatch accuracy: 34.4%\n",
        "Validation accuracy at step 159000: 44.7%"
       ]
      },
      {
       "output_type": "stream",
       "stream": "stdout",
       "text": [
        "\n",
        "Minibatch loss at step"
       ]
      },
      {
       "output_type": "stream",
       "stream": "stdout",
       "text": [
        " 160000 : 3.40536\n",
        "Minibatch accuracy: 40.6%\n",
        "Validation accuracy at step 160000: 46.5%"
       ]
      },
      {
       "output_type": "stream",
       "stream": "stdout",
       "text": [
        "\n",
        "Test accuracy at step 160000: 46.2%"
       ]
      },
      {
       "output_type": "stream",
       "stream": "stdout",
       "text": [
        "\n",
        "Minibatch loss at step"
       ]
      },
      {
       "output_type": "stream",
       "stream": "stdout",
       "text": [
        " 161000 : 3.37231\n",
        "Minibatch accuracy: 46.9%\n",
        "Validation accuracy at step 161000: 46.6%"
       ]
      },
      {
       "output_type": "stream",
       "stream": "stdout",
       "text": [
        "\n",
        "Minibatch loss at step"
       ]
      },
      {
       "output_type": "stream",
       "stream": "stdout",
       "text": [
        " 162000 : 3.3909\n",
        "Minibatch accuracy: 53.1%\n",
        "Validation accuracy at step 162000: 46.7%"
       ]
      },
      {
       "output_type": "stream",
       "stream": "stdout",
       "text": [
        "\n",
        "Minibatch loss at step"
       ]
      },
      {
       "output_type": "stream",
       "stream": "stdout",
       "text": [
        " 163000 : 3.20575\n",
        "Minibatch accuracy: 50.0%\n",
        "Validation accuracy at step 163000: 46.5%"
       ]
      },
      {
       "output_type": "stream",
       "stream": "stdout",
       "text": [
        "\n",
        "Minibatch loss at step"
       ]
      },
      {
       "output_type": "stream",
       "stream": "stdout",
       "text": [
        " 164000 : 3.4466\n",
        "Minibatch accuracy: 53.1%\n",
        "Validation accuracy at step 164000: 46.1%"
       ]
      },
      {
       "output_type": "stream",
       "stream": "stdout",
       "text": [
        "\n",
        "Minibatch loss at step"
       ]
      },
      {
       "output_type": "stream",
       "stream": "stdout",
       "text": [
        " 165000 : 3.14975\n",
        "Minibatch accuracy: 56.2%\n",
        "Validation accuracy at step 165000: 46.4%"
       ]
      },
      {
       "output_type": "stream",
       "stream": "stdout",
       "text": [
        "\n",
        "Test accuracy at step 165000: 46.5%"
       ]
      },
      {
       "output_type": "stream",
       "stream": "stdout",
       "text": [
        "\n",
        "Minibatch loss at step"
       ]
      },
      {
       "output_type": "stream",
       "stream": "stdout",
       "text": [
        " 166000 : 3.43458\n",
        "Minibatch accuracy: 50.0%\n",
        "Validation accuracy at step 166000: 46.2%"
       ]
      },
      {
       "output_type": "stream",
       "stream": "stdout",
       "text": [
        "\n",
        "Minibatch loss at step"
       ]
      },
      {
       "output_type": "stream",
       "stream": "stdout",
       "text": [
        " 167000 : 3.04485\n",
        "Minibatch accuracy: 53.1%\n",
        "Validation accuracy at step 167000: 45.8%"
       ]
      },
      {
       "output_type": "stream",
       "stream": "stdout",
       "text": [
        "\n",
        "Minibatch loss at step"
       ]
      },
      {
       "output_type": "stream",
       "stream": "stdout",
       "text": [
        " 168000 : 3.47083\n",
        "Minibatch accuracy: 37.5%\n",
        "Validation accuracy at step 168000: 45.6%"
       ]
      },
      {
       "output_type": "stream",
       "stream": "stdout",
       "text": [
        "\n",
        "Minibatch loss at step"
       ]
      },
      {
       "output_type": "stream",
       "stream": "stdout",
       "text": [
        " 169000 : 3.24313\n",
        "Minibatch accuracy: 37.5%\n",
        "Validation accuracy at step 169000: 46.7%"
       ]
      },
      {
       "output_type": "stream",
       "stream": "stdout",
       "text": [
        "\n",
        "Minibatch loss at step"
       ]
      },
      {
       "output_type": "stream",
       "stream": "stdout",
       "text": [
        " 170000 : 3.41259\n",
        "Minibatch accuracy: 40.6%\n",
        "Validation accuracy at step 170000: 45.9%"
       ]
      },
      {
       "output_type": "stream",
       "stream": "stdout",
       "text": [
        "\n",
        "Test accuracy at step 170000: 46.7%"
       ]
      },
      {
       "output_type": "stream",
       "stream": "stdout",
       "text": [
        "\n",
        "Minibatch loss at step"
       ]
      },
      {
       "output_type": "stream",
       "stream": "stdout",
       "text": [
        " 171000 : 3.08838\n",
        "Minibatch accuracy: 62.5%\n",
        "Validation accuracy at step 171000: 44.5%"
       ]
      },
      {
       "output_type": "stream",
       "stream": "stdout",
       "text": [
        "\n",
        "Minibatch loss at step"
       ]
      },
      {
       "output_type": "stream",
       "stream": "stdout",
       "text": [
        " 172000 : 3.10183\n",
        "Minibatch accuracy: 53.1%\n",
        "Validation accuracy at step 172000: 46.7%"
       ]
      },
      {
       "output_type": "stream",
       "stream": "stdout",
       "text": [
        "\n",
        "Minibatch loss at step"
       ]
      },
      {
       "output_type": "stream",
       "stream": "stdout",
       "text": [
        " 173000 : 3.17925\n",
        "Minibatch accuracy: 43.8%\n",
        "Validation accuracy at step 173000: 45.6%"
       ]
      },
      {
       "output_type": "stream",
       "stream": "stdout",
       "text": [
        "\n",
        "Minibatch loss at step"
       ]
      },
      {
       "output_type": "stream",
       "stream": "stdout",
       "text": [
        " 174000 : 3.15114\n",
        "Minibatch accuracy: 40.6%\n",
        "Validation accuracy at step 174000: 47.1%"
       ]
      },
      {
       "output_type": "stream",
       "stream": "stdout",
       "text": [
        "\n",
        "Minibatch loss at step"
       ]
      },
      {
       "output_type": "stream",
       "stream": "stdout",
       "text": [
        " 175000 : 3.6065\n",
        "Minibatch accuracy: 34.4%\n",
        "Validation accuracy at step 175000: 46.8%"
       ]
      },
      {
       "output_type": "stream",
       "stream": "stdout",
       "text": [
        "\n",
        "Test accuracy at step 175000: 47.1%"
       ]
      },
      {
       "output_type": "stream",
       "stream": "stdout",
       "text": [
        "\n",
        "Minibatch loss at step"
       ]
      },
      {
       "output_type": "stream",
       "stream": "stdout",
       "text": [
        " 176000 : 3.20157\n",
        "Minibatch accuracy: 40.6%\n",
        "Validation accuracy at step 176000: 46.5%"
       ]
      },
      {
       "output_type": "stream",
       "stream": "stdout",
       "text": [
        "\n",
        "Minibatch loss at step"
       ]
      },
      {
       "output_type": "stream",
       "stream": "stdout",
       "text": [
        " 177000 : 3.20404\n",
        "Minibatch accuracy: 56.2%\n",
        "Validation accuracy at step 177000: 46.6%"
       ]
      },
      {
       "output_type": "stream",
       "stream": "stdout",
       "text": [
        "\n",
        "Minibatch loss at step"
       ]
      },
      {
       "output_type": "stream",
       "stream": "stdout",
       "text": [
        " 178000 : 3.51842\n",
        "Minibatch accuracy: 25.0%\n",
        "Validation accuracy at step 178000: 46.5%"
       ]
      },
      {
       "output_type": "stream",
       "stream": "stdout",
       "text": [
        "\n",
        "Minibatch loss at step"
       ]
      },
      {
       "output_type": "stream",
       "stream": "stdout",
       "text": [
        " 179000 : 3.34693\n",
        "Minibatch accuracy: 53.1%\n",
        "Validation accuracy at step 179000: 46.9%"
       ]
      },
      {
       "output_type": "stream",
       "stream": "stdout",
       "text": [
        "\n",
        "Minibatch loss at step"
       ]
      },
      {
       "output_type": "stream",
       "stream": "stdout",
       "text": [
        " 180000 : 2.96999\n",
        "Minibatch accuracy: 56.2%\n",
        "Validation accuracy at step 180000: 46.8%"
       ]
      },
      {
       "output_type": "stream",
       "stream": "stdout",
       "text": [
        "\n",
        "Test accuracy at step 180000: 46.6%"
       ]
      },
      {
       "output_type": "stream",
       "stream": "stdout",
       "text": [
        "\n",
        "Minibatch loss at step"
       ]
      },
      {
       "output_type": "stream",
       "stream": "stdout",
       "text": [
        " 181000 : 3.10754\n",
        "Minibatch accuracy: 46.9%\n",
        "Validation accuracy at step 181000: 44.3%"
       ]
      },
      {
       "output_type": "stream",
       "stream": "stdout",
       "text": [
        "\n",
        "Minibatch loss at step"
       ]
      },
      {
       "output_type": "stream",
       "stream": "stdout",
       "text": [
        " 182000 : 3.157\n",
        "Minibatch accuracy: 53.1%\n",
        "Validation accuracy at step 182000: 46.1%"
       ]
      },
      {
       "output_type": "stream",
       "stream": "stdout",
       "text": [
        "\n",
        "Minibatch loss at step"
       ]
      },
      {
       "output_type": "stream",
       "stream": "stdout",
       "text": [
        " 183000 : 3.22649\n",
        "Minibatch accuracy: 34.4%\n",
        "Validation accuracy at step 183000: 46.4%"
       ]
      },
      {
       "output_type": "stream",
       "stream": "stdout",
       "text": [
        "\n",
        "Minibatch loss at step"
       ]
      },
      {
       "output_type": "stream",
       "stream": "stdout",
       "text": [
        " 184000 : 2.90958\n",
        "Minibatch accuracy: 71.9%\n",
        "Validation accuracy at step 184000: 46.4%"
       ]
      },
      {
       "output_type": "stream",
       "stream": "stdout",
       "text": [
        "\n",
        "Minibatch loss at step"
       ]
      },
      {
       "output_type": "stream",
       "stream": "stdout",
       "text": [
        " 185000 : 2.98943\n",
        "Minibatch accuracy: 46.9%\n",
        "Validation accuracy at step 185000: 46.5%"
       ]
      },
      {
       "output_type": "stream",
       "stream": "stdout",
       "text": [
        "\n",
        "Test accuracy at step 185000: 46.6%"
       ]
      },
      {
       "output_type": "stream",
       "stream": "stdout",
       "text": [
        "\n",
        "Minibatch loss at step"
       ]
      },
      {
       "output_type": "stream",
       "stream": "stdout",
       "text": [
        " 186000 : 2.90798\n",
        "Minibatch accuracy: 56.2%\n",
        "Validation accuracy at step 186000: 45.8%"
       ]
      },
      {
       "output_type": "stream",
       "stream": "stdout",
       "text": [
        "\n",
        "Minibatch loss at step"
       ]
      },
      {
       "output_type": "stream",
       "stream": "stdout",
       "text": [
        " 187000 : 3.06849\n",
        "Minibatch accuracy: 31.2%\n",
        "Validation accuracy at step 187000: 46.6%"
       ]
      },
      {
       "output_type": "stream",
       "stream": "stdout",
       "text": [
        "\n",
        "Minibatch loss at step"
       ]
      },
      {
       "output_type": "stream",
       "stream": "stdout",
       "text": [
        " 188000 : 2.85979\n",
        "Minibatch accuracy: 65.6%\n",
        "Validation accuracy at step 188000: 46.2%"
       ]
      },
      {
       "output_type": "stream",
       "stream": "stdout",
       "text": [
        "\n",
        "Minibatch loss at step"
       ]
      },
      {
       "output_type": "stream",
       "stream": "stdout",
       "text": [
        " 189000 : 2.90513\n",
        "Minibatch accuracy: 46.9%\n",
        "Validation accuracy at step 189000: 47.3%"
       ]
      },
      {
       "output_type": "stream",
       "stream": "stdout",
       "text": [
        "\n",
        "Minibatch loss at step"
       ]
      },
      {
       "output_type": "stream",
       "stream": "stdout",
       "text": [
        " 190000 : 3.05021\n",
        "Minibatch accuracy: 46.9%\n",
        "Validation accuracy at step 190000: 46.5%"
       ]
      },
      {
       "output_type": "stream",
       "stream": "stdout",
       "text": [
        "\n",
        "Test accuracy at step 190000: 46.2%"
       ]
      },
      {
       "output_type": "stream",
       "stream": "stdout",
       "text": [
        "\n",
        "Minibatch loss at step"
       ]
      },
      {
       "output_type": "stream",
       "stream": "stdout",
       "text": [
        " 191000 : 3.14161\n",
        "Minibatch accuracy: 37.5%\n",
        "Validation accuracy at step 191000: 46.0%"
       ]
      },
      {
       "output_type": "stream",
       "stream": "stdout",
       "text": [
        "\n",
        "Minibatch loss at step"
       ]
      },
      {
       "output_type": "stream",
       "stream": "stdout",
       "text": [
        " 192000 : 2.93996\n",
        "Minibatch accuracy: 56.2%\n",
        "Validation accuracy at step 192000: 47.2%"
       ]
      },
      {
       "output_type": "stream",
       "stream": "stdout",
       "text": [
        "\n",
        "Minibatch loss at step"
       ]
      },
      {
       "output_type": "stream",
       "stream": "stdout",
       "text": [
        " 193000 : 2.97971\n",
        "Minibatch accuracy: 50.0%\n",
        "Validation accuracy at step 193000: 46.0%"
       ]
      },
      {
       "output_type": "stream",
       "stream": "stdout",
       "text": [
        "\n",
        "Minibatch loss at step"
       ]
      },
      {
       "output_type": "stream",
       "stream": "stdout",
       "text": [
        " 194000 : 3.17527\n",
        "Minibatch accuracy: 40.6%\n",
        "Validation accuracy at step 194000: 47.8%"
       ]
      },
      {
       "output_type": "stream",
       "stream": "stdout",
       "text": [
        "\n",
        "Minibatch loss at step"
       ]
      },
      {
       "output_type": "stream",
       "stream": "stdout",
       "text": [
        " 195000 : 3.07087\n",
        "Minibatch accuracy: 37.5%\n",
        "Validation accuracy at step 195000: 47.1%"
       ]
      },
      {
       "output_type": "stream",
       "stream": "stdout",
       "text": [
        "\n",
        "Test accuracy at step 195000: 47.2%"
       ]
      },
      {
       "output_type": "stream",
       "stream": "stdout",
       "text": [
        "\n",
        "Minibatch loss at step"
       ]
      },
      {
       "output_type": "stream",
       "stream": "stdout",
       "text": [
        " 196000 : 2.78684\n",
        "Minibatch accuracy: 59.4%\n",
        "Validation accuracy at step 196000: 46.8%"
       ]
      },
      {
       "output_type": "stream",
       "stream": "stdout",
       "text": [
        "\n",
        "Minibatch loss at step"
       ]
      },
      {
       "output_type": "stream",
       "stream": "stdout",
       "text": [
        " 197000 : 2.96386\n",
        "Minibatch accuracy: 43.8%\n",
        "Validation accuracy at step 197000: 47.3%"
       ]
      },
      {
       "output_type": "stream",
       "stream": "stdout",
       "text": [
        "\n",
        "Minibatch loss at step"
       ]
      },
      {
       "output_type": "stream",
       "stream": "stdout",
       "text": [
        " 198000 : 2.92759\n",
        "Minibatch accuracy: 40.6%\n",
        "Validation accuracy at step 198000: 47.5%"
       ]
      },
      {
       "output_type": "stream",
       "stream": "stdout",
       "text": [
        "\n",
        "Minibatch loss at step"
       ]
      },
      {
       "output_type": "stream",
       "stream": "stdout",
       "text": [
        " 199000 : 2.7828\n",
        "Minibatch accuracy: 50.0%\n",
        "Validation accuracy at step 199000: 47.6%"
       ]
      },
      {
       "output_type": "stream",
       "stream": "stdout",
       "text": [
        "\n",
        "Minibatch loss at step"
       ]
      },
      {
       "output_type": "stream",
       "stream": "stdout",
       "text": [
        " 200000 : 3.45687\n",
        "Minibatch accuracy: 28.1%\n",
        "Validation accuracy at step 200000: 47.5%"
       ]
      },
      {
       "output_type": "stream",
       "stream": "stdout",
       "text": [
        "\n",
        "Test accuracy at step 200000: 47.2%\n"
       ]
      },
      {
       "output_type": "stream",
       "stream": "stdout",
       "text": [
        "\n",
        "Elapsed time: 3.25091269361 hours\n",
        "The best validation accuracy was 47.81 at step 194000"
       ]
      },
      {
       "output_type": "stream",
       "stream": "stdout",
       "text": [
        "\n",
        "The best test accuracy was 47.23 at step 200000\n"
       ]
      }
     ],
     "prompt_number": 9
    },
    {
     "cell_type": "markdown",
     "metadata": {},
     "source": [
      "This is the best result thus far:\n",
      "The best validation accuracy was 47.81 at step 194000\n",
      "The best test accuracy was 47.23 at step 200000"
     ]
    },
    {
     "cell_type": "markdown",
     "metadata": {},
     "source": [
      "I'm currently facing the law of diminishing returns. This naive implementation of the inception module has its limitations. It is time to implement the full module."
     ]
    },
    {
     "cell_type": "markdown",
     "metadata": {},
     "source": [
      "# 400K steps with a longer decay step of 50000\n",
      "model = create_naive_inception_module_model(learning_rate = 0.00025, l2_lambda = 0.025, feature_maps = 25, initialised_weights_stddev = 0.5, decay_steps = 50000, decay_rate = 0.96)\n",
      "steps_to_validation_predictions, steps_to_test_predictions = train_model(model, 400001, dropout_keep_prob = 0.9)\n",
      "correct_prediction_indexes, incorrect_prediction_indexes = visualise_accuracies(steps_to_validation_predictions, steps_to_test_predictions)\n",
      "\n",
      "***Best performance thus far:***\n",
      "\n",
      "Elapsed time: 6.38758515033 hours\n",
      "The best validation accuracy was 50.77 at step 377000\n",
      "The best test accuracy was 49.92 at step 370000"
     ]
    },
    {
     "cell_type": "code",
     "collapsed": false,
     "input": [
      "# 400K steps with a longer decay step of 50000, with maxpool fixed to 3x3 + 1s\n",
      "model = create_naive_inception_module_model(learning_rate = 0.00025, l2_lambda = 0.025, feature_maps = 25, initialised_weights_stddev = 0.5, decay_steps = 50000, decay_rate = 0.96)\n",
      "steps_to_validation_predictions, steps_to_test_predictions = train_model(model, 400001, dropout_keep_prob = 0.9)\n",
      "correct_prediction_indexes, incorrect_prediction_indexes = visualise_accuracies(steps_to_validation_predictions, steps_to_test_predictions)"
     ],
     "language": "python",
     "metadata": {},
     "outputs": [
      {
       "output_type": "stream",
       "stream": "stdout",
       "text": [
        "Initialized\n",
        "Minibatch loss at step"
       ]
      },
      {
       "output_type": "stream",
       "stream": "stdout",
       "text": [
        " 0 : 1013.06\n",
        "Minibatch accuracy: 6.2%\n",
        "Validation accuracy at step 0: 9.9%"
       ]
      },
      {
       "output_type": "stream",
       "stream": "stdout",
       "text": [
        "\n",
        "Minibatch loss at step"
       ]
      },
      {
       "output_type": "stream",
       "stream": "stdout",
       "text": [
        " 1000 : 18.2728\n",
        "Minibatch accuracy: 18.8%\n",
        "Validation accuracy at step 1000: 23.2%"
       ]
      },
      {
       "output_type": "stream",
       "stream": "stdout",
       "text": [
        "\n",
        "Minibatch loss at step"
       ]
      },
      {
       "output_type": "stream",
       "stream": "stdout",
       "text": [
        " 2000 : 14.058\n",
        "Minibatch accuracy: 15.6%\n",
        "Validation accuracy at step 2000: 19.6%"
       ]
      },
      {
       "output_type": "stream",
       "stream": "stdout",
       "text": [
        "\n",
        "Minibatch loss at step"
       ]
      },
      {
       "output_type": "stream",
       "stream": "stdout",
       "text": [
        " 3000 : 12.6737\n",
        "Minibatch accuracy: 15.6%\n",
        "Validation accuracy at step 3000: 24.0%"
       ]
      },
      {
       "output_type": "stream",
       "stream": "stdout",
       "text": [
        "\n",
        "Minibatch loss at step"
       ]
      },
      {
       "output_type": "stream",
       "stream": "stdout",
       "text": [
        " 4000 : 11.9848\n",
        "Minibatch accuracy: 15.6%\n",
        "Validation accuracy at step 4000: 16.7%"
       ]
      },
      {
       "output_type": "stream",
       "stream": "stdout",
       "text": [
        "\n",
        "Minibatch loss at step"
       ]
      },
      {
       "output_type": "stream",
       "stream": "stdout",
       "text": [
        " 5000 : 12.6124\n",
        "Minibatch accuracy: 25.0%\n",
        "Validation accuracy at step 5000: 22.6%"
       ]
      },
      {
       "output_type": "stream",
       "stream": "stdout",
       "text": [
        "\n",
        "Test accuracy at step 5000: 23.6%"
       ]
      },
      {
       "output_type": "stream",
       "stream": "stdout",
       "text": [
        "\n",
        "Minibatch loss at step"
       ]
      },
      {
       "output_type": "stream",
       "stream": "stdout",
       "text": [
        " 6000 : 9.75255\n",
        "Minibatch accuracy: 31.2%\n",
        "Validation accuracy at step 6000: 23.2%"
       ]
      },
      {
       "output_type": "stream",
       "stream": "stdout",
       "text": [
        "\n",
        "Minibatch loss at step"
       ]
      },
      {
       "output_type": "stream",
       "stream": "stdout",
       "text": [
        " 7000 : 10.615\n",
        "Minibatch accuracy: 25.0%\n",
        "Validation accuracy at step 7000: 24.4%"
       ]
      },
      {
       "output_type": "stream",
       "stream": "stdout",
       "text": [
        "\n",
        "Minibatch loss at step"
       ]
      },
      {
       "output_type": "stream",
       "stream": "stdout",
       "text": [
        " 8000 : 10.5802\n",
        "Minibatch accuracy: 25.0%\n",
        "Validation accuracy at step 8000: 25.2%"
       ]
      },
      {
       "output_type": "stream",
       "stream": "stdout",
       "text": [
        "\n",
        "Minibatch loss at step"
       ]
      },
      {
       "output_type": "stream",
       "stream": "stdout",
       "text": [
        " 9000 : 9.03845\n",
        "Minibatch accuracy: 43.8%\n",
        "Validation accuracy at step 9000: 26.3%"
       ]
      },
      {
       "output_type": "stream",
       "stream": "stdout",
       "text": [
        "\n",
        "Minibatch loss at step"
       ]
      },
      {
       "output_type": "stream",
       "stream": "stdout",
       "text": [
        " 10000 : 10.5579\n",
        "Minibatch accuracy: 18.8%\n",
        "Validation accuracy at step 10000: 27.1%"
       ]
      },
      {
       "output_type": "stream",
       "stream": "stdout",
       "text": [
        "\n",
        "Test accuracy at step 10000: 27.4%"
       ]
      },
      {
       "output_type": "stream",
       "stream": "stdout",
       "text": [
        "\n",
        "Minibatch loss at step"
       ]
      },
      {
       "output_type": "stream",
       "stream": "stdout",
       "text": [
        " 11000 : 11.1917\n",
        "Minibatch accuracy: 25.0%\n",
        "Validation accuracy at step 11000: 21.3%"
       ]
      },
      {
       "output_type": "stream",
       "stream": "stdout",
       "text": [
        "\n",
        "Minibatch loss at step"
       ]
      },
      {
       "output_type": "stream",
       "stream": "stdout",
       "text": [
        " 12000 : 9.61832\n",
        "Minibatch accuracy: 25.0%\n",
        "Validation accuracy at step 12000: 28.9%"
       ]
      },
      {
       "output_type": "stream",
       "stream": "stdout",
       "text": [
        "\n",
        "Minibatch loss at step"
       ]
      },
      {
       "output_type": "stream",
       "stream": "stdout",
       "text": [
        " 13000 : 10.3586\n",
        "Minibatch accuracy: 25.0%\n",
        "Validation accuracy at step 13000: 25.0%"
       ]
      },
      {
       "output_type": "stream",
       "stream": "stdout",
       "text": [
        "\n",
        "Minibatch loss at step"
       ]
      },
      {
       "output_type": "stream",
       "stream": "stdout",
       "text": [
        " 14000 : 10.1646\n",
        "Minibatch accuracy: 15.6%\n",
        "Validation accuracy at step 14000: 22.1%"
       ]
      },
      {
       "output_type": "stream",
       "stream": "stdout",
       "text": [
        "\n",
        "Minibatch loss at step"
       ]
      },
      {
       "output_type": "stream",
       "stream": "stdout",
       "text": [
        " 15000 : 9.21817\n",
        "Minibatch accuracy: 12.5%\n",
        "Validation accuracy at step 15000: 23.2%"
       ]
      },
      {
       "output_type": "stream",
       "stream": "stdout",
       "text": [
        "\n",
        "Test accuracy at step 15000: 24.4%"
       ]
      },
      {
       "output_type": "stream",
       "stream": "stdout",
       "text": [
        "\n"
       ]
      },
      {
       "ename": "KeyboardInterrupt",
       "evalue": "",
       "output_type": "pyerr",
       "traceback": [
        "\u001b[1;31m---------------------------------------------------------------------------\u001b[0m\n\u001b[1;31mKeyboardInterrupt\u001b[0m                         Traceback (most recent call last)",
        "\u001b[1;32m<ipython-input-11-02cc20c2a822>\u001b[0m in \u001b[0;36m<module>\u001b[1;34m()\u001b[0m\n\u001b[0;32m      1\u001b[0m \u001b[1;31m# 400K steps with a longer decay step of 50000, with maxpool fixed to 3x3 + 1s\u001b[0m\u001b[1;33m\u001b[0m\u001b[1;33m\u001b[0m\u001b[0m\n\u001b[0;32m      2\u001b[0m \u001b[0mmodel\u001b[0m \u001b[1;33m=\u001b[0m \u001b[0mcreate_naive_inception_module_model\u001b[0m\u001b[1;33m(\u001b[0m\u001b[0mlearning_rate\u001b[0m \u001b[1;33m=\u001b[0m \u001b[1;36m0.00025\u001b[0m\u001b[1;33m,\u001b[0m \u001b[0ml2_lambda\u001b[0m \u001b[1;33m=\u001b[0m \u001b[1;36m0.025\u001b[0m\u001b[1;33m,\u001b[0m \u001b[0mfeature_maps\u001b[0m \u001b[1;33m=\u001b[0m \u001b[1;36m25\u001b[0m\u001b[1;33m,\u001b[0m \u001b[0minitialised_weights_stddev\u001b[0m \u001b[1;33m=\u001b[0m \u001b[1;36m0.5\u001b[0m\u001b[1;33m,\u001b[0m \u001b[0mdecay_steps\u001b[0m \u001b[1;33m=\u001b[0m \u001b[1;36m50000\u001b[0m\u001b[1;33m,\u001b[0m \u001b[0mdecay_rate\u001b[0m \u001b[1;33m=\u001b[0m \u001b[1;36m0.96\u001b[0m\u001b[1;33m)\u001b[0m\u001b[1;33m\u001b[0m\u001b[0m\n\u001b[1;32m----> 3\u001b[1;33m \u001b[0msteps_to_validation_predictions\u001b[0m\u001b[1;33m,\u001b[0m \u001b[0msteps_to_test_predictions\u001b[0m \u001b[1;33m=\u001b[0m \u001b[0mtrain_model\u001b[0m\u001b[1;33m(\u001b[0m\u001b[0mmodel\u001b[0m\u001b[1;33m,\u001b[0m \u001b[1;36m400001\u001b[0m\u001b[1;33m,\u001b[0m \u001b[0mdropout_keep_prob\u001b[0m \u001b[1;33m=\u001b[0m \u001b[1;36m0.9\u001b[0m\u001b[1;33m)\u001b[0m\u001b[1;33m\u001b[0m\u001b[0m\n\u001b[0m\u001b[0;32m      4\u001b[0m \u001b[0mcorrect_prediction_indexes\u001b[0m\u001b[1;33m,\u001b[0m \u001b[0mincorrect_prediction_indexes\u001b[0m \u001b[1;33m=\u001b[0m \u001b[0mvisualise_accuracies\u001b[0m\u001b[1;33m(\u001b[0m\u001b[0msteps_to_validation_predictions\u001b[0m\u001b[1;33m,\u001b[0m \u001b[0msteps_to_test_predictions\u001b[0m\u001b[1;33m)\u001b[0m\u001b[1;33m\u001b[0m\u001b[0m\n",
        "\u001b[1;32m<ipython-input-7-67561a3a104c>\u001b[0m in \u001b[0;36mtrain_model\u001b[1;34m(model, steps, dropout_keep_prob)\u001b[0m\n\u001b[0;32m    313\u001b[0m             \u001b[0mfeed_dict\u001b[0m \u001b[1;33m=\u001b[0m \u001b[1;33m{\u001b[0m\u001b[0mmodel\u001b[0m\u001b[1;33m.\u001b[0m\u001b[0mtf_train_dataset\u001b[0m \u001b[1;33m:\u001b[0m \u001b[0mbatch_data\u001b[0m\u001b[1;33m,\u001b[0m \u001b[0mmodel\u001b[0m\u001b[1;33m.\u001b[0m\u001b[0mtf_train_labels\u001b[0m \u001b[1;33m:\u001b[0m \u001b[0mbatch_labels\u001b[0m\u001b[1;33m,\u001b[0m \u001b[0mmodel\u001b[0m\u001b[1;33m.\u001b[0m\u001b[0mdropout_keep_probability\u001b[0m\u001b[1;33m:\u001b[0m \u001b[0mdropout_keep_prob\u001b[0m\u001b[1;33m}\u001b[0m\u001b[1;33m\u001b[0m\u001b[0m\n\u001b[0;32m    314\u001b[0m             _, l, predictions = session.run(\n\u001b[1;32m--> 315\u001b[1;33m                 [model.optimizer, model.loss, model.train_prediction], feed_dict=feed_dict)\n\u001b[0m\u001b[0;32m    316\u001b[0m             \u001b[1;32mif\u001b[0m \u001b[1;33m(\u001b[0m\u001b[0mstep\u001b[0m \u001b[1;33m%\u001b[0m \u001b[1;36m1000\u001b[0m \u001b[1;33m==\u001b[0m \u001b[1;36m0\u001b[0m\u001b[1;33m)\u001b[0m\u001b[1;33m:\u001b[0m\u001b[1;33m\u001b[0m\u001b[0m\n\u001b[0;32m    317\u001b[0m                 \u001b[1;32mprint\u001b[0m \u001b[1;34m\"Minibatch loss at step\"\u001b[0m\u001b[1;33m,\u001b[0m \u001b[0mstep\u001b[0m\u001b[1;33m,\u001b[0m \u001b[1;34m\":\"\u001b[0m\u001b[1;33m,\u001b[0m \u001b[0ml\u001b[0m\u001b[1;33m\u001b[0m\u001b[0m\n",
        "\u001b[1;32m/home/ashley/.virtualenvs/tensorflow_0.6.0_cpu/local/lib/python2.7/site-packages/tensorflow/python/client/session.pyc\u001b[0m in \u001b[0;36mrun\u001b[1;34m(self, fetches, feed_dict)\u001b[0m\n\u001b[0;32m    343\u001b[0m \u001b[1;33m\u001b[0m\u001b[0m\n\u001b[0;32m    344\u001b[0m     \u001b[1;31m# Run request and get response.\u001b[0m\u001b[1;33m\u001b[0m\u001b[1;33m\u001b[0m\u001b[0m\n\u001b[1;32m--> 345\u001b[1;33m     \u001b[0mresults\u001b[0m \u001b[1;33m=\u001b[0m \u001b[0mself\u001b[0m\u001b[1;33m.\u001b[0m\u001b[0m_do_run\u001b[0m\u001b[1;33m(\u001b[0m\u001b[0mtarget_list\u001b[0m\u001b[1;33m,\u001b[0m \u001b[0munique_fetch_targets\u001b[0m\u001b[1;33m,\u001b[0m \u001b[0mfeed_dict_string\u001b[0m\u001b[1;33m)\u001b[0m\u001b[1;33m\u001b[0m\u001b[0m\n\u001b[0m\u001b[0;32m    346\u001b[0m \u001b[1;33m\u001b[0m\u001b[0m\n\u001b[0;32m    347\u001b[0m     \u001b[1;31m# User may have fetched the same tensor multiple times, but we\u001b[0m\u001b[1;33m\u001b[0m\u001b[1;33m\u001b[0m\u001b[0m\n",
        "\u001b[1;32m/home/ashley/.virtualenvs/tensorflow_0.6.0_cpu/local/lib/python2.7/site-packages/tensorflow/python/client/session.pyc\u001b[0m in \u001b[0;36m_do_run\u001b[1;34m(self, target_list, fetch_list, feed_dict)\u001b[0m\n\u001b[0;32m    402\u001b[0m \u001b[1;33m\u001b[0m\u001b[0m\n\u001b[0;32m    403\u001b[0m       return tf_session.TF_Run(self._session, feed_dict, fetch_list,\n\u001b[1;32m--> 404\u001b[1;33m                                target_list)\n\u001b[0m\u001b[0;32m    405\u001b[0m \u001b[1;33m\u001b[0m\u001b[0m\n\u001b[0;32m    406\u001b[0m     \u001b[1;32mexcept\u001b[0m \u001b[0mtf_session\u001b[0m\u001b[1;33m.\u001b[0m\u001b[0mStatusNotOK\u001b[0m \u001b[1;32mas\u001b[0m \u001b[0me\u001b[0m\u001b[1;33m:\u001b[0m\u001b[1;33m\u001b[0m\u001b[0m\n",
        "\u001b[1;31mKeyboardInterrupt\u001b[0m: "
       ]
      }
     ],
     "prompt_number": 11
    },
    {
     "cell_type": "code",
     "collapsed": false,
     "input": [
      "# 400K steps with a longer decay step of 5000\n",
      "model = create_naive_inception_module_model(learning_rate = 0.00025, l2_lambda = 0.025, feature_maps = 25, initialised_weights_stddev = 0.5, decay_steps = 5000, decay_rate = 0.96)\n",
      "steps_to_validation_predictions, steps_to_test_predictions = train_model(model, 400001, dropout_keep_prob = 0.9)\n",
      "correct_prediction_indexes, incorrect_prediction_indexes = visualise_accuracies(steps_to_validation_predictions, steps_to_test_predictions)"
     ],
     "language": "python",
     "metadata": {},
     "outputs": [
      {
       "output_type": "stream",
       "stream": "stdout",
       "text": [
        "Initialized\n",
        "Minibatch loss at step"
       ]
      },
      {
       "output_type": "stream",
       "stream": "stdout",
       "text": [
        " 0 : 1119.36\n",
        "Minibatch accuracy: 6.2%\n",
        "Validation accuracy at step 0: 11.9%"
       ]
      }
     ]
    },
    {
     "cell_type": "code",
     "collapsed": false,
     "input": [
      "import subprocess\n",
      "subprocess.call([\"shutdown\", \"+2\"]) # iPython has been set to autosave every 1 minute and this will shutdown in 2 minutes."
     ],
     "language": "python",
     "metadata": {},
     "outputs": []
    },
    {
     "cell_type": "code",
     "collapsed": false,
     "input": [],
     "language": "python",
     "metadata": {},
     "outputs": []
    }
   ],
   "metadata": {}
  }
 ]
}